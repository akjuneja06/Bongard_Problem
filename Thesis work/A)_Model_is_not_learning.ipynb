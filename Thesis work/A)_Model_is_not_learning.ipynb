{
 "cells": [
  {
   "cell_type": "markdown",
   "id": "fe47f86a",
   "metadata": {
    "id": "fe47f86a"
   },
   "source": [
    "# Libraries"
   ]
  },
  {
   "cell_type": "code",
   "execution_count": 1,
   "id": "zVstppxgO8EW",
   "metadata": {
    "id": "zVstppxgO8EW"
   },
   "outputs": [],
   "source": [
    "import time\n",
    "start_time = time.time()"
   ]
  },
  {
   "cell_type": "code",
   "execution_count": 2,
   "id": "Qg_CB_5Biodg",
   "metadata": {
    "colab": {
     "base_uri": "https://localhost:8080/"
    },
    "id": "Qg_CB_5Biodg",
    "outputId": "6fc2e40e-feed-4ffc-8b14-9f94666e283e"
   },
   "outputs": [
    {
     "name": "stdout",
     "output_type": "stream",
     "text": [
      "Drive already mounted at /content/drive; to attempt to forcibly remount, call drive.mount(\"/content/drive\", force_remount=True).\n"
     ]
    }
   ],
   "source": [
    "from google.colab import drive\n",
    "drive.mount('/content/drive')"
   ]
  },
  {
   "cell_type": "code",
   "execution_count": 3,
   "id": "9JxuX4aKi8ww",
   "metadata": {
    "id": "9JxuX4aKi8ww"
   },
   "outputs": [],
   "source": [
    "import zipfile\n",
    "zip_ref = zipfile.ZipFile('/content/drive/MyDrive/Thesis/CNN.zip', 'r')\n",
    "zip_ref.extractall('/content')\n",
    "zip_ref.close()"
   ]
  },
  {
   "cell_type": "code",
   "execution_count": 4,
   "id": "_Nojy8NYruUR",
   "metadata": {
    "id": "_Nojy8NYruUR"
   },
   "outputs": [],
   "source": [
    "import zipfile\n",
    "zip_ref = zipfile.ZipFile('/content/drive/MyDrive/Thesis/Bongard Testing.zip', 'r')\n",
    "zip_ref.extractall('/content')\n",
    "zip_ref.close()"
   ]
  },
  {
   "cell_type": "code",
   "execution_count": 5,
   "id": "c31fc347",
   "metadata": {
    "id": "c31fc347"
   },
   "outputs": [],
   "source": [
    "import os\n",
    "from os import path\n",
    "import pandas as pd\n",
    "import tensorflow as tf\n",
    "from tensorflow.keras import datasets, layers, models, optimizers\n",
    "import glob\n",
    "import numpy as np\n",
    "from sklearn.model_selection import train_test_split\n",
    "from keras.models import Model\n",
    "from keras.layers import Input, Conv2D, MaxPooling2D, Flatten, Dense, Input\n",
    "from tensorflow.keras.layers import Conv2D, BatchNormalization, MaxPooling2D, Flatten, Dense, Dropout, Input\n",
    "from sklearn.metrics import accuracy_score\n",
    "import time\n",
    "import natsort\n",
    "from PIL import Image"
   ]
  },
  {
   "cell_type": "markdown",
   "id": "1be6e532",
   "metadata": {
    "id": "1be6e532"
   },
   "source": [
    "# Functions:"
   ]
  },
  {
   "cell_type": "markdown",
   "id": "77f461bd",
   "metadata": {
    "id": "77f461bd"
   },
   "source": [
    "#### 1) Function to plot bongard images"
   ]
  },
  {
   "cell_type": "code",
   "execution_count": 6,
   "id": "e8ffa69e",
   "metadata": {
    "id": "e8ffa69e"
   },
   "outputs": [],
   "source": [
    "def load_and_resize_images(folder_path, target_size):\n",
    "    image_paths = glob.glob(os.path.join(folder_path, '*.png'))\n",
    "    image_paths = natsort.natsorted(image_paths)\n",
    "    images = []\n",
    "    for img_path in image_paths:\n",
    "        with Image.open(img_path) as img:\n",
    "            img = img.resize(target_size)\n",
    "            if img.mode == 'RGBA':\n",
    "                img = img.convert('L')\n",
    "            img_arr = np.array(img)\n",
    "            if len(img_arr.shape) == 2:\n",
    "                img_arr = img_arr[..., np.newaxis]\n",
    "            images.append(img_arr)\n",
    "    return np.array(images)\n",
    "\n",
    "def plot_image_from_array(images_array, image_index, figsize=(5, 5)):\n",
    "    plt.figure(figsize=figsize)\n",
    "    plt.imshow(images_array[image_index, :, :, 0], cmap='gray', aspect='auto')\n",
    "    plt.title(f\"Image {image_index + 1}\")\n",
    "    plt.axis('off')\n",
    "    plt.show()\n",
    "\n",
    "folder_B_path = '/content/Bongard Testing/BP'\n",
    "target_size = (330, 516)\n",
    "images_array = load_and_resize_images(folder_B_path, target_size)"
   ]
  },
  {
   "cell_type": "markdown",
   "id": "12795ff4",
   "metadata": {
    "id": "12795ff4"
   },
   "source": [
    "#### 2) Function to preprocess images"
   ]
  },
  {
   "cell_type": "code",
   "execution_count": 7,
   "id": "f729aaab",
   "metadata": {
    "id": "f729aaab"
   },
   "outputs": [],
   "source": [
    "# Preprocessing:\n",
    "def load_imgs(list_of_img_paths):\n",
    "    alpaca_lst = []\n",
    "    for imgs in list_of_img_paths:\n",
    "        img=tf.keras.utils.load_img(\n",
    "                            imgs,\n",
    "                            color_mode = \"grayscale\",\n",
    "                            target_size=None,\n",
    "                            interpolation=\"nearest\",\n",
    "                            keep_aspect_ratio=False)\n",
    "\n",
    "        input_arr = tf.keras.utils.img_to_array(img)\n",
    "\n",
    "        inpt_img_arr = input_arr / 255.0\n",
    "        alpaca_lst.append(inpt_img_arr)\n",
    "    imgs_arr =np.array(alpaca_lst)\n",
    "    return imgs_arr"
   ]
  },
  {
   "cell_type": "markdown",
   "id": "9d89d959",
   "metadata": {
    "id": "9d89d959"
   },
   "source": [
    "#### 3) Function to plot any image with their labels"
   ]
  },
  {
   "cell_type": "code",
   "execution_count": 8,
   "id": "433f5df2",
   "metadata": {
    "id": "433f5df2"
   },
   "outputs": [],
   "source": [
    "import matplotlib.pyplot as plt\n",
    "\n",
    "def plot_images_with_labels(images, labels):\n",
    "    plt.figure(figsize=(12, 8))\n",
    "\n",
    "    for i in range(len(images)):\n",
    "        plt.subplot(2, 5, i + 1)  # 2 rows, 5 columns for a 2x5 grid of subplots\n",
    "        plt.imshow(images[i], cmap='gray')  # Display the image\n",
    "        plt.title(f'Label: {labels[i]}')    # Set the title with the corresponding label\n",
    "        plt.axis('off')                     # Turn off axis labels and ticks\n",
    "\n",
    "    plt.tight_layout()\n",
    "    plt.show()"
   ]
  },
  {
   "cell_type": "markdown",
   "id": "15185fb5",
   "metadata": {
    "id": "15185fb5"
   },
   "source": [
    "#### 4) functions to create masked labels"
   ]
  },
  {
   "cell_type": "code",
   "execution_count": 9,
   "id": "21ee1f8a",
   "metadata": {
    "id": "21ee1f8a"
   },
   "outputs": [],
   "source": [
    "# Generate masked labels for heads except selected head\n",
    "def create_masked_labels(selected_head_name, excluded_head_names, labels):\n",
    "    masked_labels = {}\n",
    "    masked_labels[selected_head_name] = labels\n",
    "    for head_name in excluded_head_names:\n",
    "        masked_labels[head_name] = np.full_like(labels, -1)\n",
    "    return masked_labels\n",
    "def masked_label(selected_head_name,Ci_y_train):\n",
    "    # Define the list of output head layer names\n",
    "    output_names = ['center_vs_notincenter','circle_vs_notcircle','Closed_vs_Open_figure',\n",
    "                'Colinear_vs_Noncolinear','Concave_vs_Convex','Four_vs_notfour_side','Triangle_vs_notTriangle',\n",
    "                'Clockwise_vs_Anticlock_wise','Left_vs_Right','Parallel_vs_perpendicular','Filled_vs_Unfilled',\n",
    "                'Complete_vs_Incomplete','Intersect_vs_NonIntersect','M_cluster_vs_N_clusters','Above_vs_Below',\n",
    "                'Same_vs_Not_Same','Size_big_vs_Small','Symmetery_vs_Non_symmetery','Horizontal_vs_Vertical',\n",
    "                'Empty_vs_Non_Empty']\n",
    "\n",
    "    # Exclude the selected head from generating masked labels\n",
    "    excluded_head_names = [name for name in output_names if name != selected_head_name]\n",
    "\n",
    "    # Generate masked labels for all excluded heads\n",
    "    Ci_masked_labels = create_masked_labels(selected_head_name, excluded_head_names, Ci_y_train)\n",
    "    return Ci_masked_labels"
   ]
  },
  {
   "cell_type": "markdown",
   "id": "2fc2d604",
   "metadata": {
    "id": "2fc2d604"
   },
   "source": [
    "#### 5) Function to preprocess and split the data into training and testing"
   ]
  },
  {
   "cell_type": "code",
   "execution_count": 10,
   "id": "5c1ed6c1",
   "metadata": {
    "id": "5c1ed6c1"
   },
   "outputs": [],
   "source": [
    "def data_load_split(Classifier_path,folder_A,folder_B):\n",
    "    os.getcwd()\n",
    "    dataset_path = os.getcwd()\n",
    "    a = os.path.join('/content/CNN',Classifier_path)\n",
    "    A = os.path.join(dataset_path, a)\n",
    "    A_A = os.path.join(A, folder_A)\n",
    "    A_B = os.path.join(A, folder_B)\n",
    "    A_A = glob.glob(A_A +\"/*.png\")\n",
    "    A_B = glob.glob(A_B +\"/*.png\")\n",
    "    A_A_arr =load_imgs(A_A)\n",
    "    A_B_arr =load_imgs(A_B)\n",
    "\n",
    "\n",
    "    # Generate labels corresponding to above concept classes.\n",
    "    A_A_labels =  np.zeros([len(A_A_arr), 1], dtype = int)  #labeled as 0\n",
    "    A_B_labels =  np.ones([len(A_B_arr), 1], dtype = int) #labeled as 1\n",
    "\n",
    "    Ci_X = np.concatenate((A_A_arr, A_B_arr), axis=0)\n",
    "    Ci_y = np.concatenate((A_A_labels , A_B_labels), axis=0)\n",
    "\n",
    "    # Split the data into training and testing sets\n",
    "    Ci_X_train, Ci_X_test, Ci_y_train, Ci_y_test = train_test_split(Ci_X, Ci_y,\n",
    "                                                                    test_size=0.2, random_state=42, shuffle=True)\n",
    "\n",
    "    return Ci_X_train,Ci_X_test,Ci_y_train,Ci_y_test"
   ]
  },
  {
   "cell_type": "markdown",
   "id": "9c319223",
   "metadata": {
    "id": "9c319223"
   },
   "source": [
    "#### Automate the code to load every classifier images and split."
   ]
  },
  {
   "cell_type": "code",
   "execution_count": 11,
   "id": "bc46079d",
   "metadata": {
    "colab": {
     "base_uri": "https://localhost:8080/"
    },
    "id": "bc46079d",
    "outputId": "f61dbf09-ab81-4d63-a2b3-b13bb513eaaf"
   },
   "outputs": [
    {
     "name": "stdout",
     "output_type": "stream",
     "text": [
      "classifier C0: B) center  vs not incenter\n",
      "Shape:\n",
      "(3680, 100, 100, 1) (3680, 1) (920, 100, 100, 1) (920, 1)\n",
      "\n",
      "\n",
      "classifier C1: C) Circle vs not circle\n",
      "Shape:\n",
      "(1600, 100, 100, 1) (1600, 1) (400, 100, 100, 1) (400, 1)\n",
      "\n",
      "\n",
      "classifier C2: D) Closed figure vs Open figure\n",
      "Shape:\n",
      "(1232, 100, 100, 1) (1232, 1) (308, 100, 100, 1) (308, 1)\n",
      "\n",
      "\n",
      "classifier C3: E) Co-linear vs Non-colinear\n",
      "Shape:\n",
      "(1600, 100, 100, 1) (1600, 1) (400, 100, 100, 1) (400, 1)\n",
      "\n",
      "\n",
      "classifier C4: F) Concave vs Convex\n",
      "Shape:\n",
      "(1600, 100, 100, 1) (1600, 1) (400, 100, 100, 1) (400, 1)\n",
      "\n",
      "\n",
      "classifier C5: G) Four sides vs not four side\n",
      "Shape:\n",
      "(5600, 100, 100, 1) (5600, 1) (1400, 100, 100, 1) (1400, 1)\n",
      "\n",
      "\n",
      "classifier C6: H) Triangle vs not Triangle\n",
      "Shape:\n",
      "(5584, 100, 100, 1) (5584, 1) (1396, 100, 100, 1) (1396, 1)\n",
      "\n",
      "\n",
      "classifier C7: I) Clockwise vs Anticlock wise\n",
      "Shape:\n",
      "(2400, 100, 100, 1) (2400, 1) (600, 100, 100, 1) (600, 1)\n",
      "\n",
      "\n",
      "classifier C8: J) Left vs Right\n",
      "Shape:\n",
      "(2000, 100, 100, 1) (2000, 1) (500, 100, 100, 1) (500, 1)\n",
      "\n",
      "\n",
      "classifier C9: K) Parallel vs perpendicular\n",
      "Shape:\n",
      "(800, 100, 100, 1) (800, 1) (200, 100, 100, 1) (200, 1)\n",
      "\n",
      "\n",
      "classifier C10: L) Filled vs Unfilled\n",
      "Shape:\n",
      "(1760, 100, 100, 1) (1760, 1) (440, 100, 100, 1) (440, 1)\n",
      "\n",
      "\n",
      "classifier C11: M) Complete vs Incomplete\n",
      "Shape:\n",
      "(3200, 100, 100, 1) (3200, 1) (800, 100, 100, 1) (800, 1)\n",
      "\n",
      "\n",
      "classifier C12: N) Intersect vs Non-Intersect\n",
      "Shape:\n",
      "(3563, 100, 100, 1) (3563, 1) (891, 100, 100, 1) (891, 1)\n",
      "\n",
      "\n",
      "classifier C13: O) M cluster vs N clusters\n",
      "Shape:\n",
      "(1600, 100, 100, 1) (1600, 1) (400, 100, 100, 1) (400, 1)\n",
      "\n",
      "\n",
      "classifier C14: P) Above vs Below\n",
      "Shape:\n",
      "(1920, 100, 100, 1) (1920, 1) (480, 100, 100, 1) (480, 1)\n",
      "\n",
      "\n",
      "classifier C15: Q) Same vs Not_Same\n",
      "Shape:\n",
      "(2560, 100, 100, 1) (2560, 1) (640, 100, 100, 1) (640, 1)\n",
      "\n",
      "\n",
      "classifier C16: R) Size big vs Small\n",
      "Shape:\n",
      "(1600, 100, 100, 1) (1600, 1) (400, 100, 100, 1) (400, 1)\n",
      "\n",
      "\n",
      "classifier C17: S) Symmetery vs Non_symmetery\n",
      "Shape:\n",
      "(4355, 100, 100, 1) (4355, 1) (1089, 100, 100, 1) (1089, 1)\n",
      "\n",
      "\n",
      "classifier C18: T) Horizontal vs Vertical\n",
      "Shape:\n",
      "(1600, 100, 100, 1) (1600, 1) (400, 100, 100, 1) (400, 1)\n",
      "\n",
      "\n",
      "classifier C19: U) Empty vs Non_Empty\n",
      "Shape:\n",
      "(800, 100, 100, 1) (800, 1) (200, 100, 100, 1) (200, 1)\n",
      "\n",
      "\n",
      "Time taken for Preprocess data: 19.531620502471924 seconds\n"
     ]
    }
   ],
   "source": [
    "# Path to the main folder\n",
    "main_folder_path = \"/content/CNN\"\n",
    "\n",
    "# Get the names of first-level subfolders in \"CNN\"\n",
    "subfolder_names = [name for name in os.listdir(main_folder_path) if os.path.isdir(os.path.join(main_folder_path, name))]\n",
    "subfolder_names = sorted(subfolder_names)\n",
    "start_time = time.time()\n",
    "# Iterate through the first-level subfolders and call data_load_split\n",
    "for i, subfolder_name in enumerate(subfolder_names):\n",
    "    subfolder_path = os.path.join(main_folder_path, subfolder_name)\n",
    "    subsubfolder_names = [name for name in os.listdir(subfolder_path) if os.path.isdir(os.path.join(subfolder_path, name))]\n",
    "\n",
    "    if len(subsubfolder_names) == 2:\n",
    "        print(f'classifier C{i}:', subfolder_name)\n",
    "#         print(subsubfolder_names[0],subsubfolder_names[1])\n",
    "        exec(f'C{i}_X_train, C{i}_X_test, C{i}_y_train, C{i}_y_test = data_load_split(subfolder_name,subsubfolder_names[0],subsubfolder_names[1])')\n",
    "        print(\"Shape:\")\n",
    "\n",
    "        print(locals()[f'C{i}_X_train'].shape, locals()[f'C{i}_y_train'].shape,locals()[f'C{i}_X_test'].shape,\n",
    "        locals()[f'C{i}_y_test'].shape)\n",
    "        print('\\n')\n",
    "end_time = time.time()\n",
    "Preprocess_Time = end_time - start_time\n",
    "print(\"Time taken for Preprocess data:\", Preprocess_Time, \"seconds\")"
   ]
  },
  {
   "cell_type": "markdown",
   "id": "5bfe90dd",
   "metadata": {
    "id": "5bfe90dd"
   },
   "source": [
    "# Multi-Head CNN"
   ]
  },
  {
   "cell_type": "code",
   "execution_count": 12,
   "id": "433f03d7",
   "metadata": {
    "id": "433f03d7"
   },
   "outputs": [],
   "source": [
    "from tensorflow.keras.layers import Input, Conv2D, BatchNormalization, MaxPooling2D, Flatten, Dense\n",
    "from tensorflow.keras.models import Model\n",
    "\n",
    "\n",
    "def Multi_head_CNN():\n",
    "\n",
    "  # Input Shape\n",
    "  input_shape = (100, 100, 1)\n",
    "  input_layer = Input(shape=input_shape)\n",
    "\n",
    "  # CNN common model:\n",
    "  CNN_L1 = Conv2D(32, kernel_size=(3, 3), padding='valid', activation='relu')(input_layer)\n",
    "  CNN_L2 = BatchNormalization()(CNN_L1)\n",
    "  CNN_L3 = MaxPooling2D(pool_size=(2, 2), strides=2, padding='valid')(CNN_L2)\n",
    "\n",
    "  CNN_L4 = Conv2D(32, kernel_size=(3, 3), padding='valid', activation='relu')(CNN_L3)\n",
    "  CNN_L5 = BatchNormalization()(CNN_L4)\n",
    "  CNN_L6 = MaxPooling2D(pool_size=(2, 2), strides=2, padding='valid')(CNN_L5)\n",
    "\n",
    "  CNN_L7 = Conv2D(64, kernel_size=(3, 3), padding='valid', activation='relu')(CNN_L6)\n",
    "  CNN_L8 = BatchNormalization()(CNN_L7)\n",
    "  CNN_L9 = MaxPooling2D(pool_size=(2, 2), strides=2, padding='valid')(CNN_L8)\n",
    "\n",
    "  CNN_L10 = Conv2D(128, kernel_size=(3, 3), padding='valid', activation='relu')(CNN_L9)\n",
    "  CNN_L11 = BatchNormalization()(CNN_L10)\n",
    "  CNN_L12 = MaxPooling2D(pool_size=(2, 2), strides=2, padding='valid')(CNN_L11)\n",
    "\n",
    "  CNN_L13 = Flatten()(CNN_L12)\n",
    "\n",
    "  # Add more layers\n",
    "  Common_Layer = Dense(128, activation='relu')(CNN_L13)\n",
    "  Common_Layer = Dense(10, activation='relu')(Common_Layer)\n",
    "\n",
    "  # Individual Head: Center vs not incenter\n",
    "  center_vs_notincenter = Dense(1, activation='sigmoid', name='center_vs_notincenter')(Common_Layer)\n",
    "\n",
    "  # Individual Head: Circle vs not circle\n",
    "  circle_vs_notcircle = Dense(1, activation='sigmoid', name='circle_vs_notcircle')(Common_Layer)\n",
    "\n",
    "  # Individual Head: Closed_vs_Open_figure\n",
    "  Closed_vs_Open_figure = Dense(1, activation='sigmoid', name='Closed_vs_Open_figure')(Common_Layer)\n",
    "\n",
    "  # Individual Head: Co-linear_vs_Non-colinear\n",
    "  Colinear_vs_Noncolinear = Dense(1, activation='sigmoid', name='Colinear_vs_Noncolinear')(Common_Layer)\n",
    "\n",
    "  # Individual Head: Concave_vs_Convex\n",
    "  Concave_vs_Convex = Dense(1, activation='sigmoid', name='Concave_vs_Convex')(Common_Layer)\n",
    "\n",
    "\n",
    "  Four_vs_notfour_side =Dense(1, activation='sigmoid', name='Four_vs_notfour_side')(Common_Layer)\n",
    "\n",
    "\n",
    "  Triangle_vs_notTriangle =Dense(1, activation='sigmoid', name='Triangle_vs_notTriangle')(Common_Layer)\n",
    "\n",
    "\n",
    "  Clockwise_vs_Anticlock_wise =  Dense(1, activation='sigmoid', name='Clockwise_vs_Anticlock_wise')(Common_Layer)\n",
    "\n",
    "\n",
    "  Left_vs_Right =  Dense(1, activation='sigmoid', name='Left_vs_Right')(Common_Layer)\n",
    "\n",
    "\n",
    "  Parallel_vs_perpendicular =  Dense(1, activation='sigmoid', name='Parallel_vs_perpendicular')(Common_Layer)\n",
    "\n",
    "\n",
    "  Filled_vs_Unfilled =  Dense(1, activation='sigmoid', name='Filled_vs_Unfilled')(Common_Layer)\n",
    "\n",
    "\n",
    "  Complete_vs_Incomplete =  Dense(1, activation='sigmoid', name='Complete_vs_Incomplete')(Common_Layer)\n",
    "\n",
    "\n",
    "  Intersect_vs_NonIntersect =  Dense(1, activation='sigmoid', name='Intersect_vs_NonIntersect')(Common_Layer)\n",
    "\n",
    "\n",
    "  M_cluster_vs_N_clusters =  Dense(1, activation='sigmoid', name='M_cluster_vs_N_clusters')(Common_Layer)\n",
    "\n",
    "\n",
    "  Above_vs_Below =  Dense(1, activation='sigmoid', name='Above_vs_Below')(Common_Layer)\n",
    "\n",
    "\n",
    "  Same_vs_Not_Same =  Dense(1, activation='sigmoid', name='Same_vs_Not_Same')(Common_Layer)\n",
    "\n",
    "  Size_big_vs_Small =  Dense(1, activation='sigmoid', name='Size_big_vs_Small')(Common_Layer)\n",
    "\n",
    "  Symmetery_vs_Non_symmetery = Dense(1, activation='sigmoid', name='Symmetery_vs_Non_symmetery')(Common_Layer)\n",
    "\n",
    "  Horizontal_vs_Vertical = Dense(1, activation='sigmoid', name='Horizontal_vs_Vertical')(Common_Layer)\n",
    "\n",
    "  Empty_vs_Non_Empty = Dense(1, activation='sigmoid', name='Empty_vs_Non_Empty')(Common_Layer)\n",
    "\n",
    "\n",
    "  # Create the model\n",
    "  model = Model(inputs=input_layer, outputs=[\n",
    "                                            center_vs_notincenter,\n",
    "                                            circle_vs_notcircle,\n",
    "                                            Closed_vs_Open_figure,\n",
    "                                            Colinear_vs_Noncolinear,\n",
    "                                            Concave_vs_Convex,\n",
    "                                            Four_vs_notfour_side,\n",
    "                                            Triangle_vs_notTriangle,\n",
    "                                            Clockwise_vs_Anticlock_wise,\n",
    "                                            Left_vs_Right,\n",
    "                                            Parallel_vs_perpendicular,\n",
    "                                            Filled_vs_Unfilled,\n",
    "                                            Complete_vs_Incomplete,\n",
    "                                            Intersect_vs_NonIntersect,\n",
    "                                            M_cluster_vs_N_clusters,\n",
    "                                            Above_vs_Below,\n",
    "                                            Same_vs_Not_Same,\n",
    "                                            Size_big_vs_Small,\n",
    "                                            Symmetery_vs_Non_symmetery,\n",
    "                                            Horizontal_vs_Vertical,\n",
    "                                            Empty_vs_Non_Empty\n",
    "                                            ])\n",
    "\n",
    "  model.compile(optimizer='adam',\n",
    "\n",
    "\n",
    "                loss={\n",
    "                'center_vs_notincenter': 'binary_crossentropy',\n",
    "                'circle_vs_notcircle': 'binary_crossentropy',\n",
    "                'Closed_vs_Open_figure': 'binary_crossentropy',\n",
    "                'Colinear_vs_Noncolinear': 'binary_crossentropy',\n",
    "                'Concave_vs_Convex': 'binary_crossentropy',\n",
    "                'Four_vs_notfour_side': 'binary_crossentropy',\n",
    "                'Triangle_vs_notTriangle': 'binary_crossentropy',\n",
    "                'Clockwise_vs_Anticlock_wise': 'binary_crossentropy',\n",
    "                'Left_vs_Right': 'binary_crossentropy',\n",
    "                'Parallel_vs_perpendicular': 'binary_crossentropy',\n",
    "                'Filled_vs_Unfilled': 'binary_crossentropy',\n",
    "                'Complete_vs_Incomplete': 'binary_crossentropy',\n",
    "                'Intersect_vs_NonIntersect': 'binary_crossentropy',\n",
    "                'M_cluster_vs_N_clusters': 'binary_crossentropy',\n",
    "                'Above_vs_Below': 'binary_crossentropy',\n",
    "                'Same_vs_Not_Same': 'binary_crossentropy',\n",
    "                'Size_big_vs_Small':'binary_crossentropy',\n",
    "                'Symmetery_vs_Non_symmetery':'binary_crossentropy',\n",
    "                'Horizontal_vs_Vertical':'binary_crossentropy',\n",
    "                'Empty_vs_Non_Empty':'binary_crossentropy',\n",
    "                })\n",
    "  return model"
   ]
  },
  {
   "cell_type": "markdown",
   "id": "Fb8ioxeIjeJJ",
   "metadata": {
    "id": "Fb8ioxeIjeJJ"
   },
   "source": [
    "### Training Models"
   ]
  },
  {
   "cell_type": "code",
   "execution_count": 13,
   "id": "o4bBfuf32WQ_",
   "metadata": {
    "id": "o4bBfuf32WQ_"
   },
   "outputs": [],
   "source": [
    "# Creating new model for cold start.\n",
    "model = Multi_head_CNN()"
   ]
  },
  {
   "cell_type": "code",
   "execution_count": 14,
   "id": "vLY0wznrmSvQ",
   "metadata": {
    "id": "vLY0wznrmSvQ"
   },
   "outputs": [],
   "source": [
    "Final_test_accuracies = []"
   ]
  },
  {
   "cell_type": "markdown",
   "id": "jjwkDthZGZDO",
   "metadata": {
    "id": "jjwkDthZGZDO"
   },
   "source": [
    "#### Define traning and label data"
   ]
  },
  {
   "cell_type": "code",
   "execution_count": 15,
   "id": "043cc4e4",
   "metadata": {
    "id": "043cc4e4",
    "scrolled": false
   },
   "outputs": [],
   "source": [
    "X = [C0_X_train, C1_X_train,C2_X_train,C3_X_train, C4_X_train,C5_X_train,C6_X_train, C7_X_train,C8_X_train,C9_X_train,\n",
    "     C10_X_train,C11_X_train,C12_X_train, C13_X_train,C14_X_train,C15_X_train,C16_X_train,C17_X_train,C18_X_train,\n",
    "     C19_X_train]\n",
    "\n",
    "Y=  [C0_y_train,C1_y_train,C2_y_train,C3_y_train,C4_y_train,C5_y_train,C6_y_train,C7_y_train,C8_y_train,C9_y_train,\n",
    "C10_y_train,C11_y_train,C12_y_train,C13_y_train,C14_y_train,C15_y_train,C16_y_train,C17_y_train,C18_y_train,C19_y_train,]\n",
    "\n",
    "output_names = ['center_vs_notincenter','circle_vs_notcircle','Closed_vs_Open_figure',\n",
    "                'Colinear_vs_Noncolinear','Concave_vs_Convex','Four_vs_notfour_side','Triangle_vs_notTriangle',\n",
    "                'Clockwise_vs_Anticlock_wise','Left_vs_Right','Parallel_vs_perpendicular','Filled_vs_Unfilled',\n",
    "                'Complete_vs_Incomplete','Intersect_vs_NonIntersect','M_cluster_vs_N_clusters','Above_vs_Below',\n",
    "                'Same_vs_Not_Same','Size_big_vs_Small','Symmetery_vs_Non_symmetery','Horizontal_vs_Vertical',\n",
    "                'Empty_vs_Non_Empty']"
   ]
  },
  {
   "cell_type": "markdown",
   "id": "piz7_KTlfs1e",
   "metadata": {
    "id": "piz7_KTlfs1e"
   },
   "source": [
    "#### Training Model"
   ]
  },
  {
   "cell_type": "code",
   "execution_count": 16,
   "id": "9c37a3ae",
   "metadata": {
    "id": "9c37a3ae"
   },
   "outputs": [],
   "source": [
    "training_loss_epoch_0=[]\n",
    "training_loss_epoch_1=[]\n",
    "training_loss_epoch_2=[]\n",
    "training_loss_epoch_3=[]\n",
    "training_loss_epoch_4=[]\n",
    "training_loss_epoch_5=[]\n",
    "training_loss_epoch_6=[]\n",
    "training_loss_epoch_7=[]\n",
    "training_loss_epoch_8=[]\n",
    "training_loss_epoch_9=[]"
   ]
  },
  {
   "cell_type": "code",
   "execution_count": 17,
   "id": "rosqoL9zftFO",
   "metadata": {
    "colab": {
     "base_uri": "https://localhost:8080/"
    },
    "id": "rosqoL9zftFO",
    "outputId": "49fceb80-1434-446c-8343-e45adfe3cb34"
   },
   "outputs": [
    {
     "name": "stdout",
     "output_type": "stream",
     "text": [
      "epoch 0 Head 0\n"
     ]
    },
    {
     "name": "stderr",
     "output_type": "stream",
     "text": [
      "WARNING:tensorflow:Gradients do not exist for variables ['circle_vs_notcircle/kernel:0', 'circle_vs_notcircle/bias:0', 'Closed_vs_Open_figure/kernel:0', 'Closed_vs_Open_figure/bias:0', 'Colinear_vs_Noncolinear/kernel:0', 'Colinear_vs_Noncolinear/bias:0', 'Concave_vs_Convex/kernel:0', 'Concave_vs_Convex/bias:0', 'Four_vs_notfour_side/kernel:0', 'Four_vs_notfour_side/bias:0', 'Triangle_vs_notTriangle/kernel:0', 'Triangle_vs_notTriangle/bias:0', 'Clockwise_vs_Anticlock_wise/kernel:0', 'Clockwise_vs_Anticlock_wise/bias:0', 'Left_vs_Right/kernel:0', 'Left_vs_Right/bias:0', 'Parallel_vs_perpendicular/kernel:0', 'Parallel_vs_perpendicular/bias:0', 'Filled_vs_Unfilled/kernel:0', 'Filled_vs_Unfilled/bias:0', 'Complete_vs_Incomplete/kernel:0', 'Complete_vs_Incomplete/bias:0', 'Intersect_vs_NonIntersect/kernel:0', 'Intersect_vs_NonIntersect/bias:0', 'M_cluster_vs_N_clusters/kernel:0', 'M_cluster_vs_N_clusters/bias:0', 'Above_vs_Below/kernel:0', 'Above_vs_Below/bias:0', 'Same_vs_Not_Same/kernel:0', 'Same_vs_Not_Same/bias:0', 'Size_big_vs_Small/kernel:0', 'Size_big_vs_Small/bias:0', 'Symmetery_vs_Non_symmetery/kernel:0', 'Symmetery_vs_Non_symmetery/bias:0', 'Horizontal_vs_Vertical/kernel:0', 'Horizontal_vs_Vertical/bias:0', 'Empty_vs_Non_Empty/kernel:0', 'Empty_vs_Non_Empty/bias:0'] when minimizing the loss. If you're using `model.compile()`, did you forget to provide a `loss` argument?\n",
      "WARNING:tensorflow:Gradients do not exist for variables ['circle_vs_notcircle/kernel:0', 'circle_vs_notcircle/bias:0', 'Closed_vs_Open_figure/kernel:0', 'Closed_vs_Open_figure/bias:0', 'Colinear_vs_Noncolinear/kernel:0', 'Colinear_vs_Noncolinear/bias:0', 'Concave_vs_Convex/kernel:0', 'Concave_vs_Convex/bias:0', 'Four_vs_notfour_side/kernel:0', 'Four_vs_notfour_side/bias:0', 'Triangle_vs_notTriangle/kernel:0', 'Triangle_vs_notTriangle/bias:0', 'Clockwise_vs_Anticlock_wise/kernel:0', 'Clockwise_vs_Anticlock_wise/bias:0', 'Left_vs_Right/kernel:0', 'Left_vs_Right/bias:0', 'Parallel_vs_perpendicular/kernel:0', 'Parallel_vs_perpendicular/bias:0', 'Filled_vs_Unfilled/kernel:0', 'Filled_vs_Unfilled/bias:0', 'Complete_vs_Incomplete/kernel:0', 'Complete_vs_Incomplete/bias:0', 'Intersect_vs_NonIntersect/kernel:0', 'Intersect_vs_NonIntersect/bias:0', 'M_cluster_vs_N_clusters/kernel:0', 'M_cluster_vs_N_clusters/bias:0', 'Above_vs_Below/kernel:0', 'Above_vs_Below/bias:0', 'Same_vs_Not_Same/kernel:0', 'Same_vs_Not_Same/bias:0', 'Size_big_vs_Small/kernel:0', 'Size_big_vs_Small/bias:0', 'Symmetery_vs_Non_symmetery/kernel:0', 'Symmetery_vs_Non_symmetery/bias:0', 'Horizontal_vs_Vertical/kernel:0', 'Horizontal_vs_Vertical/bias:0', 'Empty_vs_Non_Empty/kernel:0', 'Empty_vs_Non_Empty/bias:0'] when minimizing the loss. If you're using `model.compile()`, did you forget to provide a `loss` argument?\n",
      "WARNING:tensorflow:Gradients do not exist for variables ['circle_vs_notcircle/kernel:0', 'circle_vs_notcircle/bias:0', 'Closed_vs_Open_figure/kernel:0', 'Closed_vs_Open_figure/bias:0', 'Colinear_vs_Noncolinear/kernel:0', 'Colinear_vs_Noncolinear/bias:0', 'Concave_vs_Convex/kernel:0', 'Concave_vs_Convex/bias:0', 'Four_vs_notfour_side/kernel:0', 'Four_vs_notfour_side/bias:0', 'Triangle_vs_notTriangle/kernel:0', 'Triangle_vs_notTriangle/bias:0', 'Clockwise_vs_Anticlock_wise/kernel:0', 'Clockwise_vs_Anticlock_wise/bias:0', 'Left_vs_Right/kernel:0', 'Left_vs_Right/bias:0', 'Parallel_vs_perpendicular/kernel:0', 'Parallel_vs_perpendicular/bias:0', 'Filled_vs_Unfilled/kernel:0', 'Filled_vs_Unfilled/bias:0', 'Complete_vs_Incomplete/kernel:0', 'Complete_vs_Incomplete/bias:0', 'Intersect_vs_NonIntersect/kernel:0', 'Intersect_vs_NonIntersect/bias:0', 'M_cluster_vs_N_clusters/kernel:0', 'M_cluster_vs_N_clusters/bias:0', 'Above_vs_Below/kernel:0', 'Above_vs_Below/bias:0', 'Same_vs_Not_Same/kernel:0', 'Same_vs_Not_Same/bias:0', 'Size_big_vs_Small/kernel:0', 'Size_big_vs_Small/bias:0', 'Symmetery_vs_Non_symmetery/kernel:0', 'Symmetery_vs_Non_symmetery/bias:0', 'Horizontal_vs_Vertical/kernel:0', 'Horizontal_vs_Vertical/bias:0', 'Empty_vs_Non_Empty/kernel:0', 'Empty_vs_Non_Empty/bias:0'] when minimizing the loss. If you're using `model.compile()`, did you forget to provide a `loss` argument?\n",
      "WARNING:tensorflow:Gradients do not exist for variables ['circle_vs_notcircle/kernel:0', 'circle_vs_notcircle/bias:0', 'Closed_vs_Open_figure/kernel:0', 'Closed_vs_Open_figure/bias:0', 'Colinear_vs_Noncolinear/kernel:0', 'Colinear_vs_Noncolinear/bias:0', 'Concave_vs_Convex/kernel:0', 'Concave_vs_Convex/bias:0', 'Four_vs_notfour_side/kernel:0', 'Four_vs_notfour_side/bias:0', 'Triangle_vs_notTriangle/kernel:0', 'Triangle_vs_notTriangle/bias:0', 'Clockwise_vs_Anticlock_wise/kernel:0', 'Clockwise_vs_Anticlock_wise/bias:0', 'Left_vs_Right/kernel:0', 'Left_vs_Right/bias:0', 'Parallel_vs_perpendicular/kernel:0', 'Parallel_vs_perpendicular/bias:0', 'Filled_vs_Unfilled/kernel:0', 'Filled_vs_Unfilled/bias:0', 'Complete_vs_Incomplete/kernel:0', 'Complete_vs_Incomplete/bias:0', 'Intersect_vs_NonIntersect/kernel:0', 'Intersect_vs_NonIntersect/bias:0', 'M_cluster_vs_N_clusters/kernel:0', 'M_cluster_vs_N_clusters/bias:0', 'Above_vs_Below/kernel:0', 'Above_vs_Below/bias:0', 'Same_vs_Not_Same/kernel:0', 'Same_vs_Not_Same/bias:0', 'Size_big_vs_Small/kernel:0', 'Size_big_vs_Small/bias:0', 'Symmetery_vs_Non_symmetery/kernel:0', 'Symmetery_vs_Non_symmetery/bias:0', 'Horizontal_vs_Vertical/kernel:0', 'Horizontal_vs_Vertical/bias:0', 'Empty_vs_Non_Empty/kernel:0', 'Empty_vs_Non_Empty/bias:0'] when minimizing the loss. If you're using `model.compile()`, did you forget to provide a `loss` argument?\n"
     ]
    },
    {
     "name": "stdout",
     "output_type": "stream",
     "text": [
      "115/115 [==============================] - 7s 7ms/step - loss: 0.3619 - center_vs_notincenter_loss: 0.3619 - circle_vs_notcircle_loss: 0.0000e+00 - Closed_vs_Open_figure_loss: 0.0000e+00 - Colinear_vs_Noncolinear_loss: 0.0000e+00 - Concave_vs_Convex_loss: 0.0000e+00 - Four_vs_notfour_side_loss: 0.0000e+00 - Triangle_vs_notTriangle_loss: 0.0000e+00 - Clockwise_vs_Anticlock_wise_loss: 0.0000e+00 - Left_vs_Right_loss: 0.0000e+00 - Parallel_vs_perpendicular_loss: 0.0000e+00 - Filled_vs_Unfilled_loss: 0.0000e+00 - Complete_vs_Incomplete_loss: 0.0000e+00 - Intersect_vs_NonIntersect_loss: 0.0000e+00 - M_cluster_vs_N_clusters_loss: 0.0000e+00 - Above_vs_Below_loss: 0.0000e+00 - Same_vs_Not_Same_loss: 0.0000e+00 - Size_big_vs_Small_loss: 0.0000e+00 - Symmetery_vs_Non_symmetery_loss: 0.0000e+00 - Horizontal_vs_Vertical_loss: 0.0000e+00 - Empty_vs_Non_Empty_loss: 0.0000e+00\n",
      "\n",
      "epoch 0 Head 1\n"
     ]
    },
    {
     "name": "stderr",
     "output_type": "stream",
     "text": [
      "WARNING:tensorflow:Gradients do not exist for variables ['center_vs_notincenter/kernel:0', 'center_vs_notincenter/bias:0', 'Closed_vs_Open_figure/kernel:0', 'Closed_vs_Open_figure/bias:0', 'Colinear_vs_Noncolinear/kernel:0', 'Colinear_vs_Noncolinear/bias:0', 'Concave_vs_Convex/kernel:0', 'Concave_vs_Convex/bias:0', 'Four_vs_notfour_side/kernel:0', 'Four_vs_notfour_side/bias:0', 'Triangle_vs_notTriangle/kernel:0', 'Triangle_vs_notTriangle/bias:0', 'Clockwise_vs_Anticlock_wise/kernel:0', 'Clockwise_vs_Anticlock_wise/bias:0', 'Left_vs_Right/kernel:0', 'Left_vs_Right/bias:0', 'Parallel_vs_perpendicular/kernel:0', 'Parallel_vs_perpendicular/bias:0', 'Filled_vs_Unfilled/kernel:0', 'Filled_vs_Unfilled/bias:0', 'Complete_vs_Incomplete/kernel:0', 'Complete_vs_Incomplete/bias:0', 'Intersect_vs_NonIntersect/kernel:0', 'Intersect_vs_NonIntersect/bias:0', 'M_cluster_vs_N_clusters/kernel:0', 'M_cluster_vs_N_clusters/bias:0', 'Above_vs_Below/kernel:0', 'Above_vs_Below/bias:0', 'Same_vs_Not_Same/kernel:0', 'Same_vs_Not_Same/bias:0', 'Size_big_vs_Small/kernel:0', 'Size_big_vs_Small/bias:0', 'Symmetery_vs_Non_symmetery/kernel:0', 'Symmetery_vs_Non_symmetery/bias:0', 'Horizontal_vs_Vertical/kernel:0', 'Horizontal_vs_Vertical/bias:0', 'Empty_vs_Non_Empty/kernel:0', 'Empty_vs_Non_Empty/bias:0'] when minimizing the loss. If you're using `model.compile()`, did you forget to provide a `loss` argument?\n",
      "WARNING:tensorflow:Gradients do not exist for variables ['center_vs_notincenter/kernel:0', 'center_vs_notincenter/bias:0', 'Closed_vs_Open_figure/kernel:0', 'Closed_vs_Open_figure/bias:0', 'Colinear_vs_Noncolinear/kernel:0', 'Colinear_vs_Noncolinear/bias:0', 'Concave_vs_Convex/kernel:0', 'Concave_vs_Convex/bias:0', 'Four_vs_notfour_side/kernel:0', 'Four_vs_notfour_side/bias:0', 'Triangle_vs_notTriangle/kernel:0', 'Triangle_vs_notTriangle/bias:0', 'Clockwise_vs_Anticlock_wise/kernel:0', 'Clockwise_vs_Anticlock_wise/bias:0', 'Left_vs_Right/kernel:0', 'Left_vs_Right/bias:0', 'Parallel_vs_perpendicular/kernel:0', 'Parallel_vs_perpendicular/bias:0', 'Filled_vs_Unfilled/kernel:0', 'Filled_vs_Unfilled/bias:0', 'Complete_vs_Incomplete/kernel:0', 'Complete_vs_Incomplete/bias:0', 'Intersect_vs_NonIntersect/kernel:0', 'Intersect_vs_NonIntersect/bias:0', 'M_cluster_vs_N_clusters/kernel:0', 'M_cluster_vs_N_clusters/bias:0', 'Above_vs_Below/kernel:0', 'Above_vs_Below/bias:0', 'Same_vs_Not_Same/kernel:0', 'Same_vs_Not_Same/bias:0', 'Size_big_vs_Small/kernel:0', 'Size_big_vs_Small/bias:0', 'Symmetery_vs_Non_symmetery/kernel:0', 'Symmetery_vs_Non_symmetery/bias:0', 'Horizontal_vs_Vertical/kernel:0', 'Horizontal_vs_Vertical/bias:0', 'Empty_vs_Non_Empty/kernel:0', 'Empty_vs_Non_Empty/bias:0'] when minimizing the loss. If you're using `model.compile()`, did you forget to provide a `loss` argument?\n"
     ]
    },
    {
     "name": "stdout",
     "output_type": "stream",
     "text": [
      "50/50 [==============================] - 1s 7ms/step - loss: 0.4091 - center_vs_notincenter_loss: 0.0000e+00 - circle_vs_notcircle_loss: 0.4091 - Closed_vs_Open_figure_loss: 0.0000e+00 - Colinear_vs_Noncolinear_loss: 0.0000e+00 - Concave_vs_Convex_loss: 0.0000e+00 - Four_vs_notfour_side_loss: 0.0000e+00 - Triangle_vs_notTriangle_loss: 0.0000e+00 - Clockwise_vs_Anticlock_wise_loss: 0.0000e+00 - Left_vs_Right_loss: 0.0000e+00 - Parallel_vs_perpendicular_loss: 0.0000e+00 - Filled_vs_Unfilled_loss: 0.0000e+00 - Complete_vs_Incomplete_loss: 0.0000e+00 - Intersect_vs_NonIntersect_loss: 0.0000e+00 - M_cluster_vs_N_clusters_loss: 0.0000e+00 - Above_vs_Below_loss: 0.0000e+00 - Same_vs_Not_Same_loss: 0.0000e+00 - Size_big_vs_Small_loss: 0.0000e+00 - Symmetery_vs_Non_symmetery_loss: 0.0000e+00 - Horizontal_vs_Vertical_loss: 0.0000e+00 - Empty_vs_Non_Empty_loss: 0.0000e+00\n",
      "\n",
      "epoch 0 Head 2\n"
     ]
    },
    {
     "name": "stderr",
     "output_type": "stream",
     "text": [
      "WARNING:tensorflow:Gradients do not exist for variables ['center_vs_notincenter/kernel:0', 'center_vs_notincenter/bias:0', 'circle_vs_notcircle/kernel:0', 'circle_vs_notcircle/bias:0', 'Colinear_vs_Noncolinear/kernel:0', 'Colinear_vs_Noncolinear/bias:0', 'Concave_vs_Convex/kernel:0', 'Concave_vs_Convex/bias:0', 'Four_vs_notfour_side/kernel:0', 'Four_vs_notfour_side/bias:0', 'Triangle_vs_notTriangle/kernel:0', 'Triangle_vs_notTriangle/bias:0', 'Clockwise_vs_Anticlock_wise/kernel:0', 'Clockwise_vs_Anticlock_wise/bias:0', 'Left_vs_Right/kernel:0', 'Left_vs_Right/bias:0', 'Parallel_vs_perpendicular/kernel:0', 'Parallel_vs_perpendicular/bias:0', 'Filled_vs_Unfilled/kernel:0', 'Filled_vs_Unfilled/bias:0', 'Complete_vs_Incomplete/kernel:0', 'Complete_vs_Incomplete/bias:0', 'Intersect_vs_NonIntersect/kernel:0', 'Intersect_vs_NonIntersect/bias:0', 'M_cluster_vs_N_clusters/kernel:0', 'M_cluster_vs_N_clusters/bias:0', 'Above_vs_Below/kernel:0', 'Above_vs_Below/bias:0', 'Same_vs_Not_Same/kernel:0', 'Same_vs_Not_Same/bias:0', 'Size_big_vs_Small/kernel:0', 'Size_big_vs_Small/bias:0', 'Symmetery_vs_Non_symmetery/kernel:0', 'Symmetery_vs_Non_symmetery/bias:0', 'Horizontal_vs_Vertical/kernel:0', 'Horizontal_vs_Vertical/bias:0', 'Empty_vs_Non_Empty/kernel:0', 'Empty_vs_Non_Empty/bias:0'] when minimizing the loss. If you're using `model.compile()`, did you forget to provide a `loss` argument?\n",
      "WARNING:tensorflow:Gradients do not exist for variables ['center_vs_notincenter/kernel:0', 'center_vs_notincenter/bias:0', 'circle_vs_notcircle/kernel:0', 'circle_vs_notcircle/bias:0', 'Colinear_vs_Noncolinear/kernel:0', 'Colinear_vs_Noncolinear/bias:0', 'Concave_vs_Convex/kernel:0', 'Concave_vs_Convex/bias:0', 'Four_vs_notfour_side/kernel:0', 'Four_vs_notfour_side/bias:0', 'Triangle_vs_notTriangle/kernel:0', 'Triangle_vs_notTriangle/bias:0', 'Clockwise_vs_Anticlock_wise/kernel:0', 'Clockwise_vs_Anticlock_wise/bias:0', 'Left_vs_Right/kernel:0', 'Left_vs_Right/bias:0', 'Parallel_vs_perpendicular/kernel:0', 'Parallel_vs_perpendicular/bias:0', 'Filled_vs_Unfilled/kernel:0', 'Filled_vs_Unfilled/bias:0', 'Complete_vs_Incomplete/kernel:0', 'Complete_vs_Incomplete/bias:0', 'Intersect_vs_NonIntersect/kernel:0', 'Intersect_vs_NonIntersect/bias:0', 'M_cluster_vs_N_clusters/kernel:0', 'M_cluster_vs_N_clusters/bias:0', 'Above_vs_Below/kernel:0', 'Above_vs_Below/bias:0', 'Same_vs_Not_Same/kernel:0', 'Same_vs_Not_Same/bias:0', 'Size_big_vs_Small/kernel:0', 'Size_big_vs_Small/bias:0', 'Symmetery_vs_Non_symmetery/kernel:0', 'Symmetery_vs_Non_symmetery/bias:0', 'Horizontal_vs_Vertical/kernel:0', 'Horizontal_vs_Vertical/bias:0', 'Empty_vs_Non_Empty/kernel:0', 'Empty_vs_Non_Empty/bias:0'] when minimizing the loss. If you're using `model.compile()`, did you forget to provide a `loss` argument?\n"
     ]
    },
    {
     "name": "stdout",
     "output_type": "stream",
     "text": [
      "39/39 [==============================] - 1s 10ms/step - loss: 0.3631 - center_vs_notincenter_loss: 0.0000e+00 - circle_vs_notcircle_loss: 0.0000e+00 - Closed_vs_Open_figure_loss: 0.3631 - Colinear_vs_Noncolinear_loss: 0.0000e+00 - Concave_vs_Convex_loss: 0.0000e+00 - Four_vs_notfour_side_loss: 0.0000e+00 - Triangle_vs_notTriangle_loss: 0.0000e+00 - Clockwise_vs_Anticlock_wise_loss: 0.0000e+00 - Left_vs_Right_loss: 0.0000e+00 - Parallel_vs_perpendicular_loss: 0.0000e+00 - Filled_vs_Unfilled_loss: 0.0000e+00 - Complete_vs_Incomplete_loss: 0.0000e+00 - Intersect_vs_NonIntersect_loss: 0.0000e+00 - M_cluster_vs_N_clusters_loss: 0.0000e+00 - Above_vs_Below_loss: 0.0000e+00 - Same_vs_Not_Same_loss: 0.0000e+00 - Size_big_vs_Small_loss: 0.0000e+00 - Symmetery_vs_Non_symmetery_loss: 0.0000e+00 - Horizontal_vs_Vertical_loss: 0.0000e+00 - Empty_vs_Non_Empty_loss: 0.0000e+00\n",
      "\n",
      "epoch 0 Head 3\n"
     ]
    },
    {
     "name": "stderr",
     "output_type": "stream",
     "text": [
      "WARNING:tensorflow:Gradients do not exist for variables ['center_vs_notincenter/kernel:0', 'center_vs_notincenter/bias:0', 'circle_vs_notcircle/kernel:0', 'circle_vs_notcircle/bias:0', 'Closed_vs_Open_figure/kernel:0', 'Closed_vs_Open_figure/bias:0', 'Concave_vs_Convex/kernel:0', 'Concave_vs_Convex/bias:0', 'Four_vs_notfour_side/kernel:0', 'Four_vs_notfour_side/bias:0', 'Triangle_vs_notTriangle/kernel:0', 'Triangle_vs_notTriangle/bias:0', 'Clockwise_vs_Anticlock_wise/kernel:0', 'Clockwise_vs_Anticlock_wise/bias:0', 'Left_vs_Right/kernel:0', 'Left_vs_Right/bias:0', 'Parallel_vs_perpendicular/kernel:0', 'Parallel_vs_perpendicular/bias:0', 'Filled_vs_Unfilled/kernel:0', 'Filled_vs_Unfilled/bias:0', 'Complete_vs_Incomplete/kernel:0', 'Complete_vs_Incomplete/bias:0', 'Intersect_vs_NonIntersect/kernel:0', 'Intersect_vs_NonIntersect/bias:0', 'M_cluster_vs_N_clusters/kernel:0', 'M_cluster_vs_N_clusters/bias:0', 'Above_vs_Below/kernel:0', 'Above_vs_Below/bias:0', 'Same_vs_Not_Same/kernel:0', 'Same_vs_Not_Same/bias:0', 'Size_big_vs_Small/kernel:0', 'Size_big_vs_Small/bias:0', 'Symmetery_vs_Non_symmetery/kernel:0', 'Symmetery_vs_Non_symmetery/bias:0', 'Horizontal_vs_Vertical/kernel:0', 'Horizontal_vs_Vertical/bias:0', 'Empty_vs_Non_Empty/kernel:0', 'Empty_vs_Non_Empty/bias:0'] when minimizing the loss. If you're using `model.compile()`, did you forget to provide a `loss` argument?\n",
      "WARNING:tensorflow:Gradients do not exist for variables ['center_vs_notincenter/kernel:0', 'center_vs_notincenter/bias:0', 'circle_vs_notcircle/kernel:0', 'circle_vs_notcircle/bias:0', 'Closed_vs_Open_figure/kernel:0', 'Closed_vs_Open_figure/bias:0', 'Concave_vs_Convex/kernel:0', 'Concave_vs_Convex/bias:0', 'Four_vs_notfour_side/kernel:0', 'Four_vs_notfour_side/bias:0', 'Triangle_vs_notTriangle/kernel:0', 'Triangle_vs_notTriangle/bias:0', 'Clockwise_vs_Anticlock_wise/kernel:0', 'Clockwise_vs_Anticlock_wise/bias:0', 'Left_vs_Right/kernel:0', 'Left_vs_Right/bias:0', 'Parallel_vs_perpendicular/kernel:0', 'Parallel_vs_perpendicular/bias:0', 'Filled_vs_Unfilled/kernel:0', 'Filled_vs_Unfilled/bias:0', 'Complete_vs_Incomplete/kernel:0', 'Complete_vs_Incomplete/bias:0', 'Intersect_vs_NonIntersect/kernel:0', 'Intersect_vs_NonIntersect/bias:0', 'M_cluster_vs_N_clusters/kernel:0', 'M_cluster_vs_N_clusters/bias:0', 'Above_vs_Below/kernel:0', 'Above_vs_Below/bias:0', 'Same_vs_Not_Same/kernel:0', 'Same_vs_Not_Same/bias:0', 'Size_big_vs_Small/kernel:0', 'Size_big_vs_Small/bias:0', 'Symmetery_vs_Non_symmetery/kernel:0', 'Symmetery_vs_Non_symmetery/bias:0', 'Horizontal_vs_Vertical/kernel:0', 'Horizontal_vs_Vertical/bias:0', 'Empty_vs_Non_Empty/kernel:0', 'Empty_vs_Non_Empty/bias:0'] when minimizing the loss. If you're using `model.compile()`, did you forget to provide a `loss` argument?\n"
     ]
    },
    {
     "name": "stdout",
     "output_type": "stream",
     "text": [
      "50/50 [==============================] - 1s 7ms/step - loss: 0.7292 - center_vs_notincenter_loss: 0.0000e+00 - circle_vs_notcircle_loss: 0.0000e+00 - Closed_vs_Open_figure_loss: 0.0000e+00 - Colinear_vs_Noncolinear_loss: 0.7292 - Concave_vs_Convex_loss: 0.0000e+00 - Four_vs_notfour_side_loss: 0.0000e+00 - Triangle_vs_notTriangle_loss: 0.0000e+00 - Clockwise_vs_Anticlock_wise_loss: 0.0000e+00 - Left_vs_Right_loss: 0.0000e+00 - Parallel_vs_perpendicular_loss: 0.0000e+00 - Filled_vs_Unfilled_loss: 0.0000e+00 - Complete_vs_Incomplete_loss: 0.0000e+00 - Intersect_vs_NonIntersect_loss: 0.0000e+00 - M_cluster_vs_N_clusters_loss: 0.0000e+00 - Above_vs_Below_loss: 0.0000e+00 - Same_vs_Not_Same_loss: 0.0000e+00 - Size_big_vs_Small_loss: 0.0000e+00 - Symmetery_vs_Non_symmetery_loss: 0.0000e+00 - Horizontal_vs_Vertical_loss: 0.0000e+00 - Empty_vs_Non_Empty_loss: 0.0000e+00\n",
      "\n",
      "epoch 0 Head 4\n"
     ]
    },
    {
     "name": "stderr",
     "output_type": "stream",
     "text": [
      "WARNING:tensorflow:Gradients do not exist for variables ['center_vs_notincenter/kernel:0', 'center_vs_notincenter/bias:0', 'circle_vs_notcircle/kernel:0', 'circle_vs_notcircle/bias:0', 'Closed_vs_Open_figure/kernel:0', 'Closed_vs_Open_figure/bias:0', 'Colinear_vs_Noncolinear/kernel:0', 'Colinear_vs_Noncolinear/bias:0', 'Four_vs_notfour_side/kernel:0', 'Four_vs_notfour_side/bias:0', 'Triangle_vs_notTriangle/kernel:0', 'Triangle_vs_notTriangle/bias:0', 'Clockwise_vs_Anticlock_wise/kernel:0', 'Clockwise_vs_Anticlock_wise/bias:0', 'Left_vs_Right/kernel:0', 'Left_vs_Right/bias:0', 'Parallel_vs_perpendicular/kernel:0', 'Parallel_vs_perpendicular/bias:0', 'Filled_vs_Unfilled/kernel:0', 'Filled_vs_Unfilled/bias:0', 'Complete_vs_Incomplete/kernel:0', 'Complete_vs_Incomplete/bias:0', 'Intersect_vs_NonIntersect/kernel:0', 'Intersect_vs_NonIntersect/bias:0', 'M_cluster_vs_N_clusters/kernel:0', 'M_cluster_vs_N_clusters/bias:0', 'Above_vs_Below/kernel:0', 'Above_vs_Below/bias:0', 'Same_vs_Not_Same/kernel:0', 'Same_vs_Not_Same/bias:0', 'Size_big_vs_Small/kernel:0', 'Size_big_vs_Small/bias:0', 'Symmetery_vs_Non_symmetery/kernel:0', 'Symmetery_vs_Non_symmetery/bias:0', 'Horizontal_vs_Vertical/kernel:0', 'Horizontal_vs_Vertical/bias:0', 'Empty_vs_Non_Empty/kernel:0', 'Empty_vs_Non_Empty/bias:0'] when minimizing the loss. If you're using `model.compile()`, did you forget to provide a `loss` argument?\n",
      "WARNING:tensorflow:Gradients do not exist for variables ['center_vs_notincenter/kernel:0', 'center_vs_notincenter/bias:0', 'circle_vs_notcircle/kernel:0', 'circle_vs_notcircle/bias:0', 'Closed_vs_Open_figure/kernel:0', 'Closed_vs_Open_figure/bias:0', 'Colinear_vs_Noncolinear/kernel:0', 'Colinear_vs_Noncolinear/bias:0', 'Four_vs_notfour_side/kernel:0', 'Four_vs_notfour_side/bias:0', 'Triangle_vs_notTriangle/kernel:0', 'Triangle_vs_notTriangle/bias:0', 'Clockwise_vs_Anticlock_wise/kernel:0', 'Clockwise_vs_Anticlock_wise/bias:0', 'Left_vs_Right/kernel:0', 'Left_vs_Right/bias:0', 'Parallel_vs_perpendicular/kernel:0', 'Parallel_vs_perpendicular/bias:0', 'Filled_vs_Unfilled/kernel:0', 'Filled_vs_Unfilled/bias:0', 'Complete_vs_Incomplete/kernel:0', 'Complete_vs_Incomplete/bias:0', 'Intersect_vs_NonIntersect/kernel:0', 'Intersect_vs_NonIntersect/bias:0', 'M_cluster_vs_N_clusters/kernel:0', 'M_cluster_vs_N_clusters/bias:0', 'Above_vs_Below/kernel:0', 'Above_vs_Below/bias:0', 'Same_vs_Not_Same/kernel:0', 'Same_vs_Not_Same/bias:0', 'Size_big_vs_Small/kernel:0', 'Size_big_vs_Small/bias:0', 'Symmetery_vs_Non_symmetery/kernel:0', 'Symmetery_vs_Non_symmetery/bias:0', 'Horizontal_vs_Vertical/kernel:0', 'Horizontal_vs_Vertical/bias:0', 'Empty_vs_Non_Empty/kernel:0', 'Empty_vs_Non_Empty/bias:0'] when minimizing the loss. If you're using `model.compile()`, did you forget to provide a `loss` argument?\n"
     ]
    },
    {
     "name": "stdout",
     "output_type": "stream",
     "text": [
      "50/50 [==============================] - 1s 7ms/step - loss: 0.7303 - center_vs_notincenter_loss: 0.0000e+00 - circle_vs_notcircle_loss: 0.0000e+00 - Closed_vs_Open_figure_loss: 0.0000e+00 - Colinear_vs_Noncolinear_loss: 0.0000e+00 - Concave_vs_Convex_loss: 0.7303 - Four_vs_notfour_side_loss: 0.0000e+00 - Triangle_vs_notTriangle_loss: 0.0000e+00 - Clockwise_vs_Anticlock_wise_loss: 0.0000e+00 - Left_vs_Right_loss: 0.0000e+00 - Parallel_vs_perpendicular_loss: 0.0000e+00 - Filled_vs_Unfilled_loss: 0.0000e+00 - Complete_vs_Incomplete_loss: 0.0000e+00 - Intersect_vs_NonIntersect_loss: 0.0000e+00 - M_cluster_vs_N_clusters_loss: 0.0000e+00 - Above_vs_Below_loss: 0.0000e+00 - Same_vs_Not_Same_loss: 0.0000e+00 - Size_big_vs_Small_loss: 0.0000e+00 - Symmetery_vs_Non_symmetery_loss: 0.0000e+00 - Horizontal_vs_Vertical_loss: 0.0000e+00 - Empty_vs_Non_Empty_loss: 0.0000e+00\n",
      "\n",
      "epoch 0 Head 5\n"
     ]
    },
    {
     "name": "stderr",
     "output_type": "stream",
     "text": [
      "WARNING:tensorflow:Gradients do not exist for variables ['center_vs_notincenter/kernel:0', 'center_vs_notincenter/bias:0', 'circle_vs_notcircle/kernel:0', 'circle_vs_notcircle/bias:0', 'Closed_vs_Open_figure/kernel:0', 'Closed_vs_Open_figure/bias:0', 'Colinear_vs_Noncolinear/kernel:0', 'Colinear_vs_Noncolinear/bias:0', 'Concave_vs_Convex/kernel:0', 'Concave_vs_Convex/bias:0', 'Triangle_vs_notTriangle/kernel:0', 'Triangle_vs_notTriangle/bias:0', 'Clockwise_vs_Anticlock_wise/kernel:0', 'Clockwise_vs_Anticlock_wise/bias:0', 'Left_vs_Right/kernel:0', 'Left_vs_Right/bias:0', 'Parallel_vs_perpendicular/kernel:0', 'Parallel_vs_perpendicular/bias:0', 'Filled_vs_Unfilled/kernel:0', 'Filled_vs_Unfilled/bias:0', 'Complete_vs_Incomplete/kernel:0', 'Complete_vs_Incomplete/bias:0', 'Intersect_vs_NonIntersect/kernel:0', 'Intersect_vs_NonIntersect/bias:0', 'M_cluster_vs_N_clusters/kernel:0', 'M_cluster_vs_N_clusters/bias:0', 'Above_vs_Below/kernel:0', 'Above_vs_Below/bias:0', 'Same_vs_Not_Same/kernel:0', 'Same_vs_Not_Same/bias:0', 'Size_big_vs_Small/kernel:0', 'Size_big_vs_Small/bias:0', 'Symmetery_vs_Non_symmetery/kernel:0', 'Symmetery_vs_Non_symmetery/bias:0', 'Horizontal_vs_Vertical/kernel:0', 'Horizontal_vs_Vertical/bias:0', 'Empty_vs_Non_Empty/kernel:0', 'Empty_vs_Non_Empty/bias:0'] when minimizing the loss. If you're using `model.compile()`, did you forget to provide a `loss` argument?\n",
      "WARNING:tensorflow:Gradients do not exist for variables ['center_vs_notincenter/kernel:0', 'center_vs_notincenter/bias:0', 'circle_vs_notcircle/kernel:0', 'circle_vs_notcircle/bias:0', 'Closed_vs_Open_figure/kernel:0', 'Closed_vs_Open_figure/bias:0', 'Colinear_vs_Noncolinear/kernel:0', 'Colinear_vs_Noncolinear/bias:0', 'Concave_vs_Convex/kernel:0', 'Concave_vs_Convex/bias:0', 'Triangle_vs_notTriangle/kernel:0', 'Triangle_vs_notTriangle/bias:0', 'Clockwise_vs_Anticlock_wise/kernel:0', 'Clockwise_vs_Anticlock_wise/bias:0', 'Left_vs_Right/kernel:0', 'Left_vs_Right/bias:0', 'Parallel_vs_perpendicular/kernel:0', 'Parallel_vs_perpendicular/bias:0', 'Filled_vs_Unfilled/kernel:0', 'Filled_vs_Unfilled/bias:0', 'Complete_vs_Incomplete/kernel:0', 'Complete_vs_Incomplete/bias:0', 'Intersect_vs_NonIntersect/kernel:0', 'Intersect_vs_NonIntersect/bias:0', 'M_cluster_vs_N_clusters/kernel:0', 'M_cluster_vs_N_clusters/bias:0', 'Above_vs_Below/kernel:0', 'Above_vs_Below/bias:0', 'Same_vs_Not_Same/kernel:0', 'Same_vs_Not_Same/bias:0', 'Size_big_vs_Small/kernel:0', 'Size_big_vs_Small/bias:0', 'Symmetery_vs_Non_symmetery/kernel:0', 'Symmetery_vs_Non_symmetery/bias:0', 'Horizontal_vs_Vertical/kernel:0', 'Horizontal_vs_Vertical/bias:0', 'Empty_vs_Non_Empty/kernel:0', 'Empty_vs_Non_Empty/bias:0'] when minimizing the loss. If you're using `model.compile()`, did you forget to provide a `loss` argument?\n"
     ]
    },
    {
     "name": "stdout",
     "output_type": "stream",
     "text": [
      "175/175 [==============================] - 2s 7ms/step - loss: 0.5004 - center_vs_notincenter_loss: 0.0000e+00 - circle_vs_notcircle_loss: 0.0000e+00 - Closed_vs_Open_figure_loss: 0.0000e+00 - Colinear_vs_Noncolinear_loss: 0.0000e+00 - Concave_vs_Convex_loss: 0.0000e+00 - Four_vs_notfour_side_loss: 0.5004 - Triangle_vs_notTriangle_loss: 0.0000e+00 - Clockwise_vs_Anticlock_wise_loss: 0.0000e+00 - Left_vs_Right_loss: 0.0000e+00 - Parallel_vs_perpendicular_loss: 0.0000e+00 - Filled_vs_Unfilled_loss: 0.0000e+00 - Complete_vs_Incomplete_loss: 0.0000e+00 - Intersect_vs_NonIntersect_loss: 0.0000e+00 - M_cluster_vs_N_clusters_loss: 0.0000e+00 - Above_vs_Below_loss: 0.0000e+00 - Same_vs_Not_Same_loss: 0.0000e+00 - Size_big_vs_Small_loss: 0.0000e+00 - Symmetery_vs_Non_symmetery_loss: 0.0000e+00 - Horizontal_vs_Vertical_loss: 0.0000e+00 - Empty_vs_Non_Empty_loss: 0.0000e+00\n",
      "\n",
      "epoch 0 Head 6\n"
     ]
    },
    {
     "name": "stderr",
     "output_type": "stream",
     "text": [
      "WARNING:tensorflow:Gradients do not exist for variables ['center_vs_notincenter/kernel:0', 'center_vs_notincenter/bias:0', 'circle_vs_notcircle/kernel:0', 'circle_vs_notcircle/bias:0', 'Closed_vs_Open_figure/kernel:0', 'Closed_vs_Open_figure/bias:0', 'Colinear_vs_Noncolinear/kernel:0', 'Colinear_vs_Noncolinear/bias:0', 'Concave_vs_Convex/kernel:0', 'Concave_vs_Convex/bias:0', 'Four_vs_notfour_side/kernel:0', 'Four_vs_notfour_side/bias:0', 'Clockwise_vs_Anticlock_wise/kernel:0', 'Clockwise_vs_Anticlock_wise/bias:0', 'Left_vs_Right/kernel:0', 'Left_vs_Right/bias:0', 'Parallel_vs_perpendicular/kernel:0', 'Parallel_vs_perpendicular/bias:0', 'Filled_vs_Unfilled/kernel:0', 'Filled_vs_Unfilled/bias:0', 'Complete_vs_Incomplete/kernel:0', 'Complete_vs_Incomplete/bias:0', 'Intersect_vs_NonIntersect/kernel:0', 'Intersect_vs_NonIntersect/bias:0', 'M_cluster_vs_N_clusters/kernel:0', 'M_cluster_vs_N_clusters/bias:0', 'Above_vs_Below/kernel:0', 'Above_vs_Below/bias:0', 'Same_vs_Not_Same/kernel:0', 'Same_vs_Not_Same/bias:0', 'Size_big_vs_Small/kernel:0', 'Size_big_vs_Small/bias:0', 'Symmetery_vs_Non_symmetery/kernel:0', 'Symmetery_vs_Non_symmetery/bias:0', 'Horizontal_vs_Vertical/kernel:0', 'Horizontal_vs_Vertical/bias:0', 'Empty_vs_Non_Empty/kernel:0', 'Empty_vs_Non_Empty/bias:0'] when minimizing the loss. If you're using `model.compile()`, did you forget to provide a `loss` argument?\n",
      "WARNING:tensorflow:Gradients do not exist for variables ['center_vs_notincenter/kernel:0', 'center_vs_notincenter/bias:0', 'circle_vs_notcircle/kernel:0', 'circle_vs_notcircle/bias:0', 'Closed_vs_Open_figure/kernel:0', 'Closed_vs_Open_figure/bias:0', 'Colinear_vs_Noncolinear/kernel:0', 'Colinear_vs_Noncolinear/bias:0', 'Concave_vs_Convex/kernel:0', 'Concave_vs_Convex/bias:0', 'Four_vs_notfour_side/kernel:0', 'Four_vs_notfour_side/bias:0', 'Clockwise_vs_Anticlock_wise/kernel:0', 'Clockwise_vs_Anticlock_wise/bias:0', 'Left_vs_Right/kernel:0', 'Left_vs_Right/bias:0', 'Parallel_vs_perpendicular/kernel:0', 'Parallel_vs_perpendicular/bias:0', 'Filled_vs_Unfilled/kernel:0', 'Filled_vs_Unfilled/bias:0', 'Complete_vs_Incomplete/kernel:0', 'Complete_vs_Incomplete/bias:0', 'Intersect_vs_NonIntersect/kernel:0', 'Intersect_vs_NonIntersect/bias:0', 'M_cluster_vs_N_clusters/kernel:0', 'M_cluster_vs_N_clusters/bias:0', 'Above_vs_Below/kernel:0', 'Above_vs_Below/bias:0', 'Same_vs_Not_Same/kernel:0', 'Same_vs_Not_Same/bias:0', 'Size_big_vs_Small/kernel:0', 'Size_big_vs_Small/bias:0', 'Symmetery_vs_Non_symmetery/kernel:0', 'Symmetery_vs_Non_symmetery/bias:0', 'Horizontal_vs_Vertical/kernel:0', 'Horizontal_vs_Vertical/bias:0', 'Empty_vs_Non_Empty/kernel:0', 'Empty_vs_Non_Empty/bias:0'] when minimizing the loss. If you're using `model.compile()`, did you forget to provide a `loss` argument?\n"
     ]
    },
    {
     "name": "stdout",
     "output_type": "stream",
     "text": [
      "175/175 [==============================] - 2s 7ms/step - loss: 0.5320 - center_vs_notincenter_loss: 0.0000e+00 - circle_vs_notcircle_loss: 0.0000e+00 - Closed_vs_Open_figure_loss: 0.0000e+00 - Colinear_vs_Noncolinear_loss: 0.0000e+00 - Concave_vs_Convex_loss: 0.0000e+00 - Four_vs_notfour_side_loss: 0.0000e+00 - Triangle_vs_notTriangle_loss: 0.5320 - Clockwise_vs_Anticlock_wise_loss: 0.0000e+00 - Left_vs_Right_loss: 0.0000e+00 - Parallel_vs_perpendicular_loss: 0.0000e+00 - Filled_vs_Unfilled_loss: 0.0000e+00 - Complete_vs_Incomplete_loss: 0.0000e+00 - Intersect_vs_NonIntersect_loss: 0.0000e+00 - M_cluster_vs_N_clusters_loss: 0.0000e+00 - Above_vs_Below_loss: 0.0000e+00 - Same_vs_Not_Same_loss: 0.0000e+00 - Size_big_vs_Small_loss: 0.0000e+00 - Symmetery_vs_Non_symmetery_loss: 0.0000e+00 - Horizontal_vs_Vertical_loss: 0.0000e+00 - Empty_vs_Non_Empty_loss: 0.0000e+00\n",
      "\n",
      "epoch 0 Head 7\n"
     ]
    },
    {
     "name": "stderr",
     "output_type": "stream",
     "text": [
      "WARNING:tensorflow:Gradients do not exist for variables ['center_vs_notincenter/kernel:0', 'center_vs_notincenter/bias:0', 'circle_vs_notcircle/kernel:0', 'circle_vs_notcircle/bias:0', 'Closed_vs_Open_figure/kernel:0', 'Closed_vs_Open_figure/bias:0', 'Colinear_vs_Noncolinear/kernel:0', 'Colinear_vs_Noncolinear/bias:0', 'Concave_vs_Convex/kernel:0', 'Concave_vs_Convex/bias:0', 'Four_vs_notfour_side/kernel:0', 'Four_vs_notfour_side/bias:0', 'Triangle_vs_notTriangle/kernel:0', 'Triangle_vs_notTriangle/bias:0', 'Left_vs_Right/kernel:0', 'Left_vs_Right/bias:0', 'Parallel_vs_perpendicular/kernel:0', 'Parallel_vs_perpendicular/bias:0', 'Filled_vs_Unfilled/kernel:0', 'Filled_vs_Unfilled/bias:0', 'Complete_vs_Incomplete/kernel:0', 'Complete_vs_Incomplete/bias:0', 'Intersect_vs_NonIntersect/kernel:0', 'Intersect_vs_NonIntersect/bias:0', 'M_cluster_vs_N_clusters/kernel:0', 'M_cluster_vs_N_clusters/bias:0', 'Above_vs_Below/kernel:0', 'Above_vs_Below/bias:0', 'Same_vs_Not_Same/kernel:0', 'Same_vs_Not_Same/bias:0', 'Size_big_vs_Small/kernel:0', 'Size_big_vs_Small/bias:0', 'Symmetery_vs_Non_symmetery/kernel:0', 'Symmetery_vs_Non_symmetery/bias:0', 'Horizontal_vs_Vertical/kernel:0', 'Horizontal_vs_Vertical/bias:0', 'Empty_vs_Non_Empty/kernel:0', 'Empty_vs_Non_Empty/bias:0'] when minimizing the loss. If you're using `model.compile()`, did you forget to provide a `loss` argument?\n",
      "WARNING:tensorflow:Gradients do not exist for variables ['center_vs_notincenter/kernel:0', 'center_vs_notincenter/bias:0', 'circle_vs_notcircle/kernel:0', 'circle_vs_notcircle/bias:0', 'Closed_vs_Open_figure/kernel:0', 'Closed_vs_Open_figure/bias:0', 'Colinear_vs_Noncolinear/kernel:0', 'Colinear_vs_Noncolinear/bias:0', 'Concave_vs_Convex/kernel:0', 'Concave_vs_Convex/bias:0', 'Four_vs_notfour_side/kernel:0', 'Four_vs_notfour_side/bias:0', 'Triangle_vs_notTriangle/kernel:0', 'Triangle_vs_notTriangle/bias:0', 'Left_vs_Right/kernel:0', 'Left_vs_Right/bias:0', 'Parallel_vs_perpendicular/kernel:0', 'Parallel_vs_perpendicular/bias:0', 'Filled_vs_Unfilled/kernel:0', 'Filled_vs_Unfilled/bias:0', 'Complete_vs_Incomplete/kernel:0', 'Complete_vs_Incomplete/bias:0', 'Intersect_vs_NonIntersect/kernel:0', 'Intersect_vs_NonIntersect/bias:0', 'M_cluster_vs_N_clusters/kernel:0', 'M_cluster_vs_N_clusters/bias:0', 'Above_vs_Below/kernel:0', 'Above_vs_Below/bias:0', 'Same_vs_Not_Same/kernel:0', 'Same_vs_Not_Same/bias:0', 'Size_big_vs_Small/kernel:0', 'Size_big_vs_Small/bias:0', 'Symmetery_vs_Non_symmetery/kernel:0', 'Symmetery_vs_Non_symmetery/bias:0', 'Horizontal_vs_Vertical/kernel:0', 'Horizontal_vs_Vertical/bias:0', 'Empty_vs_Non_Empty/kernel:0', 'Empty_vs_Non_Empty/bias:0'] when minimizing the loss. If you're using `model.compile()`, did you forget to provide a `loss` argument?\n"
     ]
    },
    {
     "name": "stdout",
     "output_type": "stream",
     "text": [
      "75/75 [==============================] - 2s 7ms/step - loss: 0.7027 - center_vs_notincenter_loss: 0.0000e+00 - circle_vs_notcircle_loss: 0.0000e+00 - Closed_vs_Open_figure_loss: 0.0000e+00 - Colinear_vs_Noncolinear_loss: 0.0000e+00 - Concave_vs_Convex_loss: 0.0000e+00 - Four_vs_notfour_side_loss: 0.0000e+00 - Triangle_vs_notTriangle_loss: 0.0000e+00 - Clockwise_vs_Anticlock_wise_loss: 0.7027 - Left_vs_Right_loss: 0.0000e+00 - Parallel_vs_perpendicular_loss: 0.0000e+00 - Filled_vs_Unfilled_loss: 0.0000e+00 - Complete_vs_Incomplete_loss: 0.0000e+00 - Intersect_vs_NonIntersect_loss: 0.0000e+00 - M_cluster_vs_N_clusters_loss: 0.0000e+00 - Above_vs_Below_loss: 0.0000e+00 - Same_vs_Not_Same_loss: 0.0000e+00 - Size_big_vs_Small_loss: 0.0000e+00 - Symmetery_vs_Non_symmetery_loss: 0.0000e+00 - Horizontal_vs_Vertical_loss: 0.0000e+00 - Empty_vs_Non_Empty_loss: 0.0000e+00\n",
      "\n",
      "epoch 0 Head 8\n"
     ]
    },
    {
     "name": "stderr",
     "output_type": "stream",
     "text": [
      "WARNING:tensorflow:Gradients do not exist for variables ['center_vs_notincenter/kernel:0', 'center_vs_notincenter/bias:0', 'circle_vs_notcircle/kernel:0', 'circle_vs_notcircle/bias:0', 'Closed_vs_Open_figure/kernel:0', 'Closed_vs_Open_figure/bias:0', 'Colinear_vs_Noncolinear/kernel:0', 'Colinear_vs_Noncolinear/bias:0', 'Concave_vs_Convex/kernel:0', 'Concave_vs_Convex/bias:0', 'Four_vs_notfour_side/kernel:0', 'Four_vs_notfour_side/bias:0', 'Triangle_vs_notTriangle/kernel:0', 'Triangle_vs_notTriangle/bias:0', 'Clockwise_vs_Anticlock_wise/kernel:0', 'Clockwise_vs_Anticlock_wise/bias:0', 'Parallel_vs_perpendicular/kernel:0', 'Parallel_vs_perpendicular/bias:0', 'Filled_vs_Unfilled/kernel:0', 'Filled_vs_Unfilled/bias:0', 'Complete_vs_Incomplete/kernel:0', 'Complete_vs_Incomplete/bias:0', 'Intersect_vs_NonIntersect/kernel:0', 'Intersect_vs_NonIntersect/bias:0', 'M_cluster_vs_N_clusters/kernel:0', 'M_cluster_vs_N_clusters/bias:0', 'Above_vs_Below/kernel:0', 'Above_vs_Below/bias:0', 'Same_vs_Not_Same/kernel:0', 'Same_vs_Not_Same/bias:0', 'Size_big_vs_Small/kernel:0', 'Size_big_vs_Small/bias:0', 'Symmetery_vs_Non_symmetery/kernel:0', 'Symmetery_vs_Non_symmetery/bias:0', 'Horizontal_vs_Vertical/kernel:0', 'Horizontal_vs_Vertical/bias:0', 'Empty_vs_Non_Empty/kernel:0', 'Empty_vs_Non_Empty/bias:0'] when minimizing the loss. If you're using `model.compile()`, did you forget to provide a `loss` argument?\n",
      "WARNING:tensorflow:Gradients do not exist for variables ['center_vs_notincenter/kernel:0', 'center_vs_notincenter/bias:0', 'circle_vs_notcircle/kernel:0', 'circle_vs_notcircle/bias:0', 'Closed_vs_Open_figure/kernel:0', 'Closed_vs_Open_figure/bias:0', 'Colinear_vs_Noncolinear/kernel:0', 'Colinear_vs_Noncolinear/bias:0', 'Concave_vs_Convex/kernel:0', 'Concave_vs_Convex/bias:0', 'Four_vs_notfour_side/kernel:0', 'Four_vs_notfour_side/bias:0', 'Triangle_vs_notTriangle/kernel:0', 'Triangle_vs_notTriangle/bias:0', 'Clockwise_vs_Anticlock_wise/kernel:0', 'Clockwise_vs_Anticlock_wise/bias:0', 'Parallel_vs_perpendicular/kernel:0', 'Parallel_vs_perpendicular/bias:0', 'Filled_vs_Unfilled/kernel:0', 'Filled_vs_Unfilled/bias:0', 'Complete_vs_Incomplete/kernel:0', 'Complete_vs_Incomplete/bias:0', 'Intersect_vs_NonIntersect/kernel:0', 'Intersect_vs_NonIntersect/bias:0', 'M_cluster_vs_N_clusters/kernel:0', 'M_cluster_vs_N_clusters/bias:0', 'Above_vs_Below/kernel:0', 'Above_vs_Below/bias:0', 'Same_vs_Not_Same/kernel:0', 'Same_vs_Not_Same/bias:0', 'Size_big_vs_Small/kernel:0', 'Size_big_vs_Small/bias:0', 'Symmetery_vs_Non_symmetery/kernel:0', 'Symmetery_vs_Non_symmetery/bias:0', 'Horizontal_vs_Vertical/kernel:0', 'Horizontal_vs_Vertical/bias:0', 'Empty_vs_Non_Empty/kernel:0', 'Empty_vs_Non_Empty/bias:0'] when minimizing the loss. If you're using `model.compile()`, did you forget to provide a `loss` argument?\n"
     ]
    },
    {
     "name": "stdout",
     "output_type": "stream",
     "text": [
      "63/63 [==============================] - 2s 8ms/step - loss: 0.6862 - center_vs_notincenter_loss: 0.0000e+00 - circle_vs_notcircle_loss: 0.0000e+00 - Closed_vs_Open_figure_loss: 0.0000e+00 - Colinear_vs_Noncolinear_loss: 0.0000e+00 - Concave_vs_Convex_loss: 0.0000e+00 - Four_vs_notfour_side_loss: 0.0000e+00 - Triangle_vs_notTriangle_loss: 0.0000e+00 - Clockwise_vs_Anticlock_wise_loss: 0.0000e+00 - Left_vs_Right_loss: 0.6862 - Parallel_vs_perpendicular_loss: 0.0000e+00 - Filled_vs_Unfilled_loss: 0.0000e+00 - Complete_vs_Incomplete_loss: 0.0000e+00 - Intersect_vs_NonIntersect_loss: 0.0000e+00 - M_cluster_vs_N_clusters_loss: 0.0000e+00 - Above_vs_Below_loss: 0.0000e+00 - Same_vs_Not_Same_loss: 0.0000e+00 - Size_big_vs_Small_loss: 0.0000e+00 - Symmetery_vs_Non_symmetery_loss: 0.0000e+00 - Horizontal_vs_Vertical_loss: 0.0000e+00 - Empty_vs_Non_Empty_loss: 0.0000e+00\n",
      "\n",
      "epoch 0 Head 9\n"
     ]
    },
    {
     "name": "stderr",
     "output_type": "stream",
     "text": [
      "WARNING:tensorflow:Gradients do not exist for variables ['center_vs_notincenter/kernel:0', 'center_vs_notincenter/bias:0', 'circle_vs_notcircle/kernel:0', 'circle_vs_notcircle/bias:0', 'Closed_vs_Open_figure/kernel:0', 'Closed_vs_Open_figure/bias:0', 'Colinear_vs_Noncolinear/kernel:0', 'Colinear_vs_Noncolinear/bias:0', 'Concave_vs_Convex/kernel:0', 'Concave_vs_Convex/bias:0', 'Four_vs_notfour_side/kernel:0', 'Four_vs_notfour_side/bias:0', 'Triangle_vs_notTriangle/kernel:0', 'Triangle_vs_notTriangle/bias:0', 'Clockwise_vs_Anticlock_wise/kernel:0', 'Clockwise_vs_Anticlock_wise/bias:0', 'Left_vs_Right/kernel:0', 'Left_vs_Right/bias:0', 'Filled_vs_Unfilled/kernel:0', 'Filled_vs_Unfilled/bias:0', 'Complete_vs_Incomplete/kernel:0', 'Complete_vs_Incomplete/bias:0', 'Intersect_vs_NonIntersect/kernel:0', 'Intersect_vs_NonIntersect/bias:0', 'M_cluster_vs_N_clusters/kernel:0', 'M_cluster_vs_N_clusters/bias:0', 'Above_vs_Below/kernel:0', 'Above_vs_Below/bias:0', 'Same_vs_Not_Same/kernel:0', 'Same_vs_Not_Same/bias:0', 'Size_big_vs_Small/kernel:0', 'Size_big_vs_Small/bias:0', 'Symmetery_vs_Non_symmetery/kernel:0', 'Symmetery_vs_Non_symmetery/bias:0', 'Horizontal_vs_Vertical/kernel:0', 'Horizontal_vs_Vertical/bias:0', 'Empty_vs_Non_Empty/kernel:0', 'Empty_vs_Non_Empty/bias:0'] when minimizing the loss. If you're using `model.compile()`, did you forget to provide a `loss` argument?\n",
      "WARNING:tensorflow:Gradients do not exist for variables ['center_vs_notincenter/kernel:0', 'center_vs_notincenter/bias:0', 'circle_vs_notcircle/kernel:0', 'circle_vs_notcircle/bias:0', 'Closed_vs_Open_figure/kernel:0', 'Closed_vs_Open_figure/bias:0', 'Colinear_vs_Noncolinear/kernel:0', 'Colinear_vs_Noncolinear/bias:0', 'Concave_vs_Convex/kernel:0', 'Concave_vs_Convex/bias:0', 'Four_vs_notfour_side/kernel:0', 'Four_vs_notfour_side/bias:0', 'Triangle_vs_notTriangle/kernel:0', 'Triangle_vs_notTriangle/bias:0', 'Clockwise_vs_Anticlock_wise/kernel:0', 'Clockwise_vs_Anticlock_wise/bias:0', 'Left_vs_Right/kernel:0', 'Left_vs_Right/bias:0', 'Filled_vs_Unfilled/kernel:0', 'Filled_vs_Unfilled/bias:0', 'Complete_vs_Incomplete/kernel:0', 'Complete_vs_Incomplete/bias:0', 'Intersect_vs_NonIntersect/kernel:0', 'Intersect_vs_NonIntersect/bias:0', 'M_cluster_vs_N_clusters/kernel:0', 'M_cluster_vs_N_clusters/bias:0', 'Above_vs_Below/kernel:0', 'Above_vs_Below/bias:0', 'Same_vs_Not_Same/kernel:0', 'Same_vs_Not_Same/bias:0', 'Size_big_vs_Small/kernel:0', 'Size_big_vs_Small/bias:0', 'Symmetery_vs_Non_symmetery/kernel:0', 'Symmetery_vs_Non_symmetery/bias:0', 'Horizontal_vs_Vertical/kernel:0', 'Horizontal_vs_Vertical/bias:0', 'Empty_vs_Non_Empty/kernel:0', 'Empty_vs_Non_Empty/bias:0'] when minimizing the loss. If you're using `model.compile()`, did you forget to provide a `loss` argument?\n"
     ]
    },
    {
     "name": "stdout",
     "output_type": "stream",
     "text": [
      "25/25 [==============================] - 1s 7ms/step - loss: 0.6936 - center_vs_notincenter_loss: 0.0000e+00 - circle_vs_notcircle_loss: 0.0000e+00 - Closed_vs_Open_figure_loss: 0.0000e+00 - Colinear_vs_Noncolinear_loss: 0.0000e+00 - Concave_vs_Convex_loss: 0.0000e+00 - Four_vs_notfour_side_loss: 0.0000e+00 - Triangle_vs_notTriangle_loss: 0.0000e+00 - Clockwise_vs_Anticlock_wise_loss: 0.0000e+00 - Left_vs_Right_loss: 0.0000e+00 - Parallel_vs_perpendicular_loss: 0.6936 - Filled_vs_Unfilled_loss: 0.0000e+00 - Complete_vs_Incomplete_loss: 0.0000e+00 - Intersect_vs_NonIntersect_loss: 0.0000e+00 - M_cluster_vs_N_clusters_loss: 0.0000e+00 - Above_vs_Below_loss: 0.0000e+00 - Same_vs_Not_Same_loss: 0.0000e+00 - Size_big_vs_Small_loss: 0.0000e+00 - Symmetery_vs_Non_symmetery_loss: 0.0000e+00 - Horizontal_vs_Vertical_loss: 0.0000e+00 - Empty_vs_Non_Empty_loss: 0.0000e+00\n",
      "\n",
      "epoch 0 Head 10\n"
     ]
    },
    {
     "name": "stderr",
     "output_type": "stream",
     "text": [
      "WARNING:tensorflow:Gradients do not exist for variables ['center_vs_notincenter/kernel:0', 'center_vs_notincenter/bias:0', 'circle_vs_notcircle/kernel:0', 'circle_vs_notcircle/bias:0', 'Closed_vs_Open_figure/kernel:0', 'Closed_vs_Open_figure/bias:0', 'Colinear_vs_Noncolinear/kernel:0', 'Colinear_vs_Noncolinear/bias:0', 'Concave_vs_Convex/kernel:0', 'Concave_vs_Convex/bias:0', 'Four_vs_notfour_side/kernel:0', 'Four_vs_notfour_side/bias:0', 'Triangle_vs_notTriangle/kernel:0', 'Triangle_vs_notTriangle/bias:0', 'Clockwise_vs_Anticlock_wise/kernel:0', 'Clockwise_vs_Anticlock_wise/bias:0', 'Left_vs_Right/kernel:0', 'Left_vs_Right/bias:0', 'Parallel_vs_perpendicular/kernel:0', 'Parallel_vs_perpendicular/bias:0', 'Complete_vs_Incomplete/kernel:0', 'Complete_vs_Incomplete/bias:0', 'Intersect_vs_NonIntersect/kernel:0', 'Intersect_vs_NonIntersect/bias:0', 'M_cluster_vs_N_clusters/kernel:0', 'M_cluster_vs_N_clusters/bias:0', 'Above_vs_Below/kernel:0', 'Above_vs_Below/bias:0', 'Same_vs_Not_Same/kernel:0', 'Same_vs_Not_Same/bias:0', 'Size_big_vs_Small/kernel:0', 'Size_big_vs_Small/bias:0', 'Symmetery_vs_Non_symmetery/kernel:0', 'Symmetery_vs_Non_symmetery/bias:0', 'Horizontal_vs_Vertical/kernel:0', 'Horizontal_vs_Vertical/bias:0', 'Empty_vs_Non_Empty/kernel:0', 'Empty_vs_Non_Empty/bias:0'] when minimizing the loss. If you're using `model.compile()`, did you forget to provide a `loss` argument?\n",
      "WARNING:tensorflow:Gradients do not exist for variables ['center_vs_notincenter/kernel:0', 'center_vs_notincenter/bias:0', 'circle_vs_notcircle/kernel:0', 'circle_vs_notcircle/bias:0', 'Closed_vs_Open_figure/kernel:0', 'Closed_vs_Open_figure/bias:0', 'Colinear_vs_Noncolinear/kernel:0', 'Colinear_vs_Noncolinear/bias:0', 'Concave_vs_Convex/kernel:0', 'Concave_vs_Convex/bias:0', 'Four_vs_notfour_side/kernel:0', 'Four_vs_notfour_side/bias:0', 'Triangle_vs_notTriangle/kernel:0', 'Triangle_vs_notTriangle/bias:0', 'Clockwise_vs_Anticlock_wise/kernel:0', 'Clockwise_vs_Anticlock_wise/bias:0', 'Left_vs_Right/kernel:0', 'Left_vs_Right/bias:0', 'Parallel_vs_perpendicular/kernel:0', 'Parallel_vs_perpendicular/bias:0', 'Complete_vs_Incomplete/kernel:0', 'Complete_vs_Incomplete/bias:0', 'Intersect_vs_NonIntersect/kernel:0', 'Intersect_vs_NonIntersect/bias:0', 'M_cluster_vs_N_clusters/kernel:0', 'M_cluster_vs_N_clusters/bias:0', 'Above_vs_Below/kernel:0', 'Above_vs_Below/bias:0', 'Same_vs_Not_Same/kernel:0', 'Same_vs_Not_Same/bias:0', 'Size_big_vs_Small/kernel:0', 'Size_big_vs_Small/bias:0', 'Symmetery_vs_Non_symmetery/kernel:0', 'Symmetery_vs_Non_symmetery/bias:0', 'Horizontal_vs_Vertical/kernel:0', 'Horizontal_vs_Vertical/bias:0', 'Empty_vs_Non_Empty/kernel:0', 'Empty_vs_Non_Empty/bias:0'] when minimizing the loss. If you're using `model.compile()`, did you forget to provide a `loss` argument?\n"
     ]
    },
    {
     "name": "stdout",
     "output_type": "stream",
     "text": [
      "55/55 [==============================] - 1s 7ms/step - loss: 0.6855 - center_vs_notincenter_loss: 0.0000e+00 - circle_vs_notcircle_loss: 0.0000e+00 - Closed_vs_Open_figure_loss: 0.0000e+00 - Colinear_vs_Noncolinear_loss: 0.0000e+00 - Concave_vs_Convex_loss: 0.0000e+00 - Four_vs_notfour_side_loss: 0.0000e+00 - Triangle_vs_notTriangle_loss: 0.0000e+00 - Clockwise_vs_Anticlock_wise_loss: 0.0000e+00 - Left_vs_Right_loss: 0.0000e+00 - Parallel_vs_perpendicular_loss: 0.0000e+00 - Filled_vs_Unfilled_loss: 0.6855 - Complete_vs_Incomplete_loss: 0.0000e+00 - Intersect_vs_NonIntersect_loss: 0.0000e+00 - M_cluster_vs_N_clusters_loss: 0.0000e+00 - Above_vs_Below_loss: 0.0000e+00 - Same_vs_Not_Same_loss: 0.0000e+00 - Size_big_vs_Small_loss: 0.0000e+00 - Symmetery_vs_Non_symmetery_loss: 0.0000e+00 - Horizontal_vs_Vertical_loss: 0.0000e+00 - Empty_vs_Non_Empty_loss: 0.0000e+00\n",
      "\n",
      "epoch 0 Head 11\n"
     ]
    },
    {
     "name": "stderr",
     "output_type": "stream",
     "text": [
      "WARNING:tensorflow:Gradients do not exist for variables ['center_vs_notincenter/kernel:0', 'center_vs_notincenter/bias:0', 'circle_vs_notcircle/kernel:0', 'circle_vs_notcircle/bias:0', 'Closed_vs_Open_figure/kernel:0', 'Closed_vs_Open_figure/bias:0', 'Colinear_vs_Noncolinear/kernel:0', 'Colinear_vs_Noncolinear/bias:0', 'Concave_vs_Convex/kernel:0', 'Concave_vs_Convex/bias:0', 'Four_vs_notfour_side/kernel:0', 'Four_vs_notfour_side/bias:0', 'Triangle_vs_notTriangle/kernel:0', 'Triangle_vs_notTriangle/bias:0', 'Clockwise_vs_Anticlock_wise/kernel:0', 'Clockwise_vs_Anticlock_wise/bias:0', 'Left_vs_Right/kernel:0', 'Left_vs_Right/bias:0', 'Parallel_vs_perpendicular/kernel:0', 'Parallel_vs_perpendicular/bias:0', 'Filled_vs_Unfilled/kernel:0', 'Filled_vs_Unfilled/bias:0', 'Intersect_vs_NonIntersect/kernel:0', 'Intersect_vs_NonIntersect/bias:0', 'M_cluster_vs_N_clusters/kernel:0', 'M_cluster_vs_N_clusters/bias:0', 'Above_vs_Below/kernel:0', 'Above_vs_Below/bias:0', 'Same_vs_Not_Same/kernel:0', 'Same_vs_Not_Same/bias:0', 'Size_big_vs_Small/kernel:0', 'Size_big_vs_Small/bias:0', 'Symmetery_vs_Non_symmetery/kernel:0', 'Symmetery_vs_Non_symmetery/bias:0', 'Horizontal_vs_Vertical/kernel:0', 'Horizontal_vs_Vertical/bias:0', 'Empty_vs_Non_Empty/kernel:0', 'Empty_vs_Non_Empty/bias:0'] when minimizing the loss. If you're using `model.compile()`, did you forget to provide a `loss` argument?\n",
      "WARNING:tensorflow:Gradients do not exist for variables ['center_vs_notincenter/kernel:0', 'center_vs_notincenter/bias:0', 'circle_vs_notcircle/kernel:0', 'circle_vs_notcircle/bias:0', 'Closed_vs_Open_figure/kernel:0', 'Closed_vs_Open_figure/bias:0', 'Colinear_vs_Noncolinear/kernel:0', 'Colinear_vs_Noncolinear/bias:0', 'Concave_vs_Convex/kernel:0', 'Concave_vs_Convex/bias:0', 'Four_vs_notfour_side/kernel:0', 'Four_vs_notfour_side/bias:0', 'Triangle_vs_notTriangle/kernel:0', 'Triangle_vs_notTriangle/bias:0', 'Clockwise_vs_Anticlock_wise/kernel:0', 'Clockwise_vs_Anticlock_wise/bias:0', 'Left_vs_Right/kernel:0', 'Left_vs_Right/bias:0', 'Parallel_vs_perpendicular/kernel:0', 'Parallel_vs_perpendicular/bias:0', 'Filled_vs_Unfilled/kernel:0', 'Filled_vs_Unfilled/bias:0', 'Intersect_vs_NonIntersect/kernel:0', 'Intersect_vs_NonIntersect/bias:0', 'M_cluster_vs_N_clusters/kernel:0', 'M_cluster_vs_N_clusters/bias:0', 'Above_vs_Below/kernel:0', 'Above_vs_Below/bias:0', 'Same_vs_Not_Same/kernel:0', 'Same_vs_Not_Same/bias:0', 'Size_big_vs_Small/kernel:0', 'Size_big_vs_Small/bias:0', 'Symmetery_vs_Non_symmetery/kernel:0', 'Symmetery_vs_Non_symmetery/bias:0', 'Horizontal_vs_Vertical/kernel:0', 'Horizontal_vs_Vertical/bias:0', 'Empty_vs_Non_Empty/kernel:0', 'Empty_vs_Non_Empty/bias:0'] when minimizing the loss. If you're using `model.compile()`, did you forget to provide a `loss` argument?\n"
     ]
    },
    {
     "name": "stdout",
     "output_type": "stream",
     "text": [
      "100/100 [==============================] - 2s 7ms/step - loss: 0.6741 - center_vs_notincenter_loss: 0.0000e+00 - circle_vs_notcircle_loss: 0.0000e+00 - Closed_vs_Open_figure_loss: 0.0000e+00 - Colinear_vs_Noncolinear_loss: 0.0000e+00 - Concave_vs_Convex_loss: 0.0000e+00 - Four_vs_notfour_side_loss: 0.0000e+00 - Triangle_vs_notTriangle_loss: 0.0000e+00 - Clockwise_vs_Anticlock_wise_loss: 0.0000e+00 - Left_vs_Right_loss: 0.0000e+00 - Parallel_vs_perpendicular_loss: 0.0000e+00 - Filled_vs_Unfilled_loss: 0.0000e+00 - Complete_vs_Incomplete_loss: 0.6741 - Intersect_vs_NonIntersect_loss: 0.0000e+00 - M_cluster_vs_N_clusters_loss: 0.0000e+00 - Above_vs_Below_loss: 0.0000e+00 - Same_vs_Not_Same_loss: 0.0000e+00 - Size_big_vs_Small_loss: 0.0000e+00 - Symmetery_vs_Non_symmetery_loss: 0.0000e+00 - Horizontal_vs_Vertical_loss: 0.0000e+00 - Empty_vs_Non_Empty_loss: 0.0000e+00\n",
      "\n",
      "epoch 0 Head 12\n"
     ]
    },
    {
     "name": "stderr",
     "output_type": "stream",
     "text": [
      "WARNING:tensorflow:Gradients do not exist for variables ['center_vs_notincenter/kernel:0', 'center_vs_notincenter/bias:0', 'circle_vs_notcircle/kernel:0', 'circle_vs_notcircle/bias:0', 'Closed_vs_Open_figure/kernel:0', 'Closed_vs_Open_figure/bias:0', 'Colinear_vs_Noncolinear/kernel:0', 'Colinear_vs_Noncolinear/bias:0', 'Concave_vs_Convex/kernel:0', 'Concave_vs_Convex/bias:0', 'Four_vs_notfour_side/kernel:0', 'Four_vs_notfour_side/bias:0', 'Triangle_vs_notTriangle/kernel:0', 'Triangle_vs_notTriangle/bias:0', 'Clockwise_vs_Anticlock_wise/kernel:0', 'Clockwise_vs_Anticlock_wise/bias:0', 'Left_vs_Right/kernel:0', 'Left_vs_Right/bias:0', 'Parallel_vs_perpendicular/kernel:0', 'Parallel_vs_perpendicular/bias:0', 'Filled_vs_Unfilled/kernel:0', 'Filled_vs_Unfilled/bias:0', 'Complete_vs_Incomplete/kernel:0', 'Complete_vs_Incomplete/bias:0', 'M_cluster_vs_N_clusters/kernel:0', 'M_cluster_vs_N_clusters/bias:0', 'Above_vs_Below/kernel:0', 'Above_vs_Below/bias:0', 'Same_vs_Not_Same/kernel:0', 'Same_vs_Not_Same/bias:0', 'Size_big_vs_Small/kernel:0', 'Size_big_vs_Small/bias:0', 'Symmetery_vs_Non_symmetery/kernel:0', 'Symmetery_vs_Non_symmetery/bias:0', 'Horizontal_vs_Vertical/kernel:0', 'Horizontal_vs_Vertical/bias:0', 'Empty_vs_Non_Empty/kernel:0', 'Empty_vs_Non_Empty/bias:0'] when minimizing the loss. If you're using `model.compile()`, did you forget to provide a `loss` argument?\n",
      "WARNING:tensorflow:Gradients do not exist for variables ['center_vs_notincenter/kernel:0', 'center_vs_notincenter/bias:0', 'circle_vs_notcircle/kernel:0', 'circle_vs_notcircle/bias:0', 'Closed_vs_Open_figure/kernel:0', 'Closed_vs_Open_figure/bias:0', 'Colinear_vs_Noncolinear/kernel:0', 'Colinear_vs_Noncolinear/bias:0', 'Concave_vs_Convex/kernel:0', 'Concave_vs_Convex/bias:0', 'Four_vs_notfour_side/kernel:0', 'Four_vs_notfour_side/bias:0', 'Triangle_vs_notTriangle/kernel:0', 'Triangle_vs_notTriangle/bias:0', 'Clockwise_vs_Anticlock_wise/kernel:0', 'Clockwise_vs_Anticlock_wise/bias:0', 'Left_vs_Right/kernel:0', 'Left_vs_Right/bias:0', 'Parallel_vs_perpendicular/kernel:0', 'Parallel_vs_perpendicular/bias:0', 'Filled_vs_Unfilled/kernel:0', 'Filled_vs_Unfilled/bias:0', 'Complete_vs_Incomplete/kernel:0', 'Complete_vs_Incomplete/bias:0', 'M_cluster_vs_N_clusters/kernel:0', 'M_cluster_vs_N_clusters/bias:0', 'Above_vs_Below/kernel:0', 'Above_vs_Below/bias:0', 'Same_vs_Not_Same/kernel:0', 'Same_vs_Not_Same/bias:0', 'Size_big_vs_Small/kernel:0', 'Size_big_vs_Small/bias:0', 'Symmetery_vs_Non_symmetery/kernel:0', 'Symmetery_vs_Non_symmetery/bias:0', 'Horizontal_vs_Vertical/kernel:0', 'Horizontal_vs_Vertical/bias:0', 'Empty_vs_Non_Empty/kernel:0', 'Empty_vs_Non_Empty/bias:0'] when minimizing the loss. If you're using `model.compile()`, did you forget to provide a `loss` argument?\n"
     ]
    },
    {
     "name": "stdout",
     "output_type": "stream",
     "text": [
      "112/112 [==============================] - 2s 8ms/step - loss: 0.6272 - center_vs_notincenter_loss: 0.0000e+00 - circle_vs_notcircle_loss: 0.0000e+00 - Closed_vs_Open_figure_loss: 0.0000e+00 - Colinear_vs_Noncolinear_loss: 0.0000e+00 - Concave_vs_Convex_loss: 0.0000e+00 - Four_vs_notfour_side_loss: 0.0000e+00 - Triangle_vs_notTriangle_loss: 0.0000e+00 - Clockwise_vs_Anticlock_wise_loss: 0.0000e+00 - Left_vs_Right_loss: 0.0000e+00 - Parallel_vs_perpendicular_loss: 0.0000e+00 - Filled_vs_Unfilled_loss: 0.0000e+00 - Complete_vs_Incomplete_loss: 0.0000e+00 - Intersect_vs_NonIntersect_loss: 0.6272 - M_cluster_vs_N_clusters_loss: 0.0000e+00 - Above_vs_Below_loss: 0.0000e+00 - Same_vs_Not_Same_loss: 0.0000e+00 - Size_big_vs_Small_loss: 0.0000e+00 - Symmetery_vs_Non_symmetery_loss: 0.0000e+00 - Horizontal_vs_Vertical_loss: 0.0000e+00 - Empty_vs_Non_Empty_loss: 0.0000e+00\n",
      "\n",
      "epoch 0 Head 13\n"
     ]
    },
    {
     "name": "stderr",
     "output_type": "stream",
     "text": [
      "WARNING:tensorflow:Gradients do not exist for variables ['center_vs_notincenter/kernel:0', 'center_vs_notincenter/bias:0', 'circle_vs_notcircle/kernel:0', 'circle_vs_notcircle/bias:0', 'Closed_vs_Open_figure/kernel:0', 'Closed_vs_Open_figure/bias:0', 'Colinear_vs_Noncolinear/kernel:0', 'Colinear_vs_Noncolinear/bias:0', 'Concave_vs_Convex/kernel:0', 'Concave_vs_Convex/bias:0', 'Four_vs_notfour_side/kernel:0', 'Four_vs_notfour_side/bias:0', 'Triangle_vs_notTriangle/kernel:0', 'Triangle_vs_notTriangle/bias:0', 'Clockwise_vs_Anticlock_wise/kernel:0', 'Clockwise_vs_Anticlock_wise/bias:0', 'Left_vs_Right/kernel:0', 'Left_vs_Right/bias:0', 'Parallel_vs_perpendicular/kernel:0', 'Parallel_vs_perpendicular/bias:0', 'Filled_vs_Unfilled/kernel:0', 'Filled_vs_Unfilled/bias:0', 'Complete_vs_Incomplete/kernel:0', 'Complete_vs_Incomplete/bias:0', 'Intersect_vs_NonIntersect/kernel:0', 'Intersect_vs_NonIntersect/bias:0', 'Above_vs_Below/kernel:0', 'Above_vs_Below/bias:0', 'Same_vs_Not_Same/kernel:0', 'Same_vs_Not_Same/bias:0', 'Size_big_vs_Small/kernel:0', 'Size_big_vs_Small/bias:0', 'Symmetery_vs_Non_symmetery/kernel:0', 'Symmetery_vs_Non_symmetery/bias:0', 'Horizontal_vs_Vertical/kernel:0', 'Horizontal_vs_Vertical/bias:0', 'Empty_vs_Non_Empty/kernel:0', 'Empty_vs_Non_Empty/bias:0'] when minimizing the loss. If you're using `model.compile()`, did you forget to provide a `loss` argument?\n",
      "WARNING:tensorflow:Gradients do not exist for variables ['center_vs_notincenter/kernel:0', 'center_vs_notincenter/bias:0', 'circle_vs_notcircle/kernel:0', 'circle_vs_notcircle/bias:0', 'Closed_vs_Open_figure/kernel:0', 'Closed_vs_Open_figure/bias:0', 'Colinear_vs_Noncolinear/kernel:0', 'Colinear_vs_Noncolinear/bias:0', 'Concave_vs_Convex/kernel:0', 'Concave_vs_Convex/bias:0', 'Four_vs_notfour_side/kernel:0', 'Four_vs_notfour_side/bias:0', 'Triangle_vs_notTriangle/kernel:0', 'Triangle_vs_notTriangle/bias:0', 'Clockwise_vs_Anticlock_wise/kernel:0', 'Clockwise_vs_Anticlock_wise/bias:0', 'Left_vs_Right/kernel:0', 'Left_vs_Right/bias:0', 'Parallel_vs_perpendicular/kernel:0', 'Parallel_vs_perpendicular/bias:0', 'Filled_vs_Unfilled/kernel:0', 'Filled_vs_Unfilled/bias:0', 'Complete_vs_Incomplete/kernel:0', 'Complete_vs_Incomplete/bias:0', 'Intersect_vs_NonIntersect/kernel:0', 'Intersect_vs_NonIntersect/bias:0', 'Above_vs_Below/kernel:0', 'Above_vs_Below/bias:0', 'Same_vs_Not_Same/kernel:0', 'Same_vs_Not_Same/bias:0', 'Size_big_vs_Small/kernel:0', 'Size_big_vs_Small/bias:0', 'Symmetery_vs_Non_symmetery/kernel:0', 'Symmetery_vs_Non_symmetery/bias:0', 'Horizontal_vs_Vertical/kernel:0', 'Horizontal_vs_Vertical/bias:0', 'Empty_vs_Non_Empty/kernel:0', 'Empty_vs_Non_Empty/bias:0'] when minimizing the loss. If you're using `model.compile()`, did you forget to provide a `loss` argument?\n"
     ]
    },
    {
     "name": "stdout",
     "output_type": "stream",
     "text": [
      "50/50 [==============================] - 1s 7ms/step - loss: 0.7107 - center_vs_notincenter_loss: 0.0000e+00 - circle_vs_notcircle_loss: 0.0000e+00 - Closed_vs_Open_figure_loss: 0.0000e+00 - Colinear_vs_Noncolinear_loss: 0.0000e+00 - Concave_vs_Convex_loss: 0.0000e+00 - Four_vs_notfour_side_loss: 0.0000e+00 - Triangle_vs_notTriangle_loss: 0.0000e+00 - Clockwise_vs_Anticlock_wise_loss: 0.0000e+00 - Left_vs_Right_loss: 0.0000e+00 - Parallel_vs_perpendicular_loss: 0.0000e+00 - Filled_vs_Unfilled_loss: 0.0000e+00 - Complete_vs_Incomplete_loss: 0.0000e+00 - Intersect_vs_NonIntersect_loss: 0.0000e+00 - M_cluster_vs_N_clusters_loss: 0.7107 - Above_vs_Below_loss: 0.0000e+00 - Same_vs_Not_Same_loss: 0.0000e+00 - Size_big_vs_Small_loss: 0.0000e+00 - Symmetery_vs_Non_symmetery_loss: 0.0000e+00 - Horizontal_vs_Vertical_loss: 0.0000e+00 - Empty_vs_Non_Empty_loss: 0.0000e+00\n",
      "\n",
      "epoch 0 Head 14\n"
     ]
    },
    {
     "name": "stderr",
     "output_type": "stream",
     "text": [
      "WARNING:tensorflow:Gradients do not exist for variables ['center_vs_notincenter/kernel:0', 'center_vs_notincenter/bias:0', 'circle_vs_notcircle/kernel:0', 'circle_vs_notcircle/bias:0', 'Closed_vs_Open_figure/kernel:0', 'Closed_vs_Open_figure/bias:0', 'Colinear_vs_Noncolinear/kernel:0', 'Colinear_vs_Noncolinear/bias:0', 'Concave_vs_Convex/kernel:0', 'Concave_vs_Convex/bias:0', 'Four_vs_notfour_side/kernel:0', 'Four_vs_notfour_side/bias:0', 'Triangle_vs_notTriangle/kernel:0', 'Triangle_vs_notTriangle/bias:0', 'Clockwise_vs_Anticlock_wise/kernel:0', 'Clockwise_vs_Anticlock_wise/bias:0', 'Left_vs_Right/kernel:0', 'Left_vs_Right/bias:0', 'Parallel_vs_perpendicular/kernel:0', 'Parallel_vs_perpendicular/bias:0', 'Filled_vs_Unfilled/kernel:0', 'Filled_vs_Unfilled/bias:0', 'Complete_vs_Incomplete/kernel:0', 'Complete_vs_Incomplete/bias:0', 'Intersect_vs_NonIntersect/kernel:0', 'Intersect_vs_NonIntersect/bias:0', 'M_cluster_vs_N_clusters/kernel:0', 'M_cluster_vs_N_clusters/bias:0', 'Same_vs_Not_Same/kernel:0', 'Same_vs_Not_Same/bias:0', 'Size_big_vs_Small/kernel:0', 'Size_big_vs_Small/bias:0', 'Symmetery_vs_Non_symmetery/kernel:0', 'Symmetery_vs_Non_symmetery/bias:0', 'Horizontal_vs_Vertical/kernel:0', 'Horizontal_vs_Vertical/bias:0', 'Empty_vs_Non_Empty/kernel:0', 'Empty_vs_Non_Empty/bias:0'] when minimizing the loss. If you're using `model.compile()`, did you forget to provide a `loss` argument?\n",
      "WARNING:tensorflow:Gradients do not exist for variables ['center_vs_notincenter/kernel:0', 'center_vs_notincenter/bias:0', 'circle_vs_notcircle/kernel:0', 'circle_vs_notcircle/bias:0', 'Closed_vs_Open_figure/kernel:0', 'Closed_vs_Open_figure/bias:0', 'Colinear_vs_Noncolinear/kernel:0', 'Colinear_vs_Noncolinear/bias:0', 'Concave_vs_Convex/kernel:0', 'Concave_vs_Convex/bias:0', 'Four_vs_notfour_side/kernel:0', 'Four_vs_notfour_side/bias:0', 'Triangle_vs_notTriangle/kernel:0', 'Triangle_vs_notTriangle/bias:0', 'Clockwise_vs_Anticlock_wise/kernel:0', 'Clockwise_vs_Anticlock_wise/bias:0', 'Left_vs_Right/kernel:0', 'Left_vs_Right/bias:0', 'Parallel_vs_perpendicular/kernel:0', 'Parallel_vs_perpendicular/bias:0', 'Filled_vs_Unfilled/kernel:0', 'Filled_vs_Unfilled/bias:0', 'Complete_vs_Incomplete/kernel:0', 'Complete_vs_Incomplete/bias:0', 'Intersect_vs_NonIntersect/kernel:0', 'Intersect_vs_NonIntersect/bias:0', 'M_cluster_vs_N_clusters/kernel:0', 'M_cluster_vs_N_clusters/bias:0', 'Same_vs_Not_Same/kernel:0', 'Same_vs_Not_Same/bias:0', 'Size_big_vs_Small/kernel:0', 'Size_big_vs_Small/bias:0', 'Symmetery_vs_Non_symmetery/kernel:0', 'Symmetery_vs_Non_symmetery/bias:0', 'Horizontal_vs_Vertical/kernel:0', 'Horizontal_vs_Vertical/bias:0', 'Empty_vs_Non_Empty/kernel:0', 'Empty_vs_Non_Empty/bias:0'] when minimizing the loss. If you're using `model.compile()`, did you forget to provide a `loss` argument?\n"
     ]
    },
    {
     "name": "stdout",
     "output_type": "stream",
     "text": [
      "60/60 [==============================] - 1s 7ms/step - loss: 0.6933 - center_vs_notincenter_loss: 0.0000e+00 - circle_vs_notcircle_loss: 0.0000e+00 - Closed_vs_Open_figure_loss: 0.0000e+00 - Colinear_vs_Noncolinear_loss: 0.0000e+00 - Concave_vs_Convex_loss: 0.0000e+00 - Four_vs_notfour_side_loss: 0.0000e+00 - Triangle_vs_notTriangle_loss: 0.0000e+00 - Clockwise_vs_Anticlock_wise_loss: 0.0000e+00 - Left_vs_Right_loss: 0.0000e+00 - Parallel_vs_perpendicular_loss: 0.0000e+00 - Filled_vs_Unfilled_loss: 0.0000e+00 - Complete_vs_Incomplete_loss: 0.0000e+00 - Intersect_vs_NonIntersect_loss: 0.0000e+00 - M_cluster_vs_N_clusters_loss: 0.0000e+00 - Above_vs_Below_loss: 0.6933 - Same_vs_Not_Same_loss: 0.0000e+00 - Size_big_vs_Small_loss: 0.0000e+00 - Symmetery_vs_Non_symmetery_loss: 0.0000e+00 - Horizontal_vs_Vertical_loss: 0.0000e+00 - Empty_vs_Non_Empty_loss: 0.0000e+00\n",
      "\n",
      "epoch 0 Head 15\n"
     ]
    },
    {
     "name": "stderr",
     "output_type": "stream",
     "text": [
      "WARNING:tensorflow:Gradients do not exist for variables ['center_vs_notincenter/kernel:0', 'center_vs_notincenter/bias:0', 'circle_vs_notcircle/kernel:0', 'circle_vs_notcircle/bias:0', 'Closed_vs_Open_figure/kernel:0', 'Closed_vs_Open_figure/bias:0', 'Colinear_vs_Noncolinear/kernel:0', 'Colinear_vs_Noncolinear/bias:0', 'Concave_vs_Convex/kernel:0', 'Concave_vs_Convex/bias:0', 'Four_vs_notfour_side/kernel:0', 'Four_vs_notfour_side/bias:0', 'Triangle_vs_notTriangle/kernel:0', 'Triangle_vs_notTriangle/bias:0', 'Clockwise_vs_Anticlock_wise/kernel:0', 'Clockwise_vs_Anticlock_wise/bias:0', 'Left_vs_Right/kernel:0', 'Left_vs_Right/bias:0', 'Parallel_vs_perpendicular/kernel:0', 'Parallel_vs_perpendicular/bias:0', 'Filled_vs_Unfilled/kernel:0', 'Filled_vs_Unfilled/bias:0', 'Complete_vs_Incomplete/kernel:0', 'Complete_vs_Incomplete/bias:0', 'Intersect_vs_NonIntersect/kernel:0', 'Intersect_vs_NonIntersect/bias:0', 'M_cluster_vs_N_clusters/kernel:0', 'M_cluster_vs_N_clusters/bias:0', 'Above_vs_Below/kernel:0', 'Above_vs_Below/bias:0', 'Size_big_vs_Small/kernel:0', 'Size_big_vs_Small/bias:0', 'Symmetery_vs_Non_symmetery/kernel:0', 'Symmetery_vs_Non_symmetery/bias:0', 'Horizontal_vs_Vertical/kernel:0', 'Horizontal_vs_Vertical/bias:0', 'Empty_vs_Non_Empty/kernel:0', 'Empty_vs_Non_Empty/bias:0'] when minimizing the loss. If you're using `model.compile()`, did you forget to provide a `loss` argument?\n",
      "WARNING:tensorflow:Gradients do not exist for variables ['center_vs_notincenter/kernel:0', 'center_vs_notincenter/bias:0', 'circle_vs_notcircle/kernel:0', 'circle_vs_notcircle/bias:0', 'Closed_vs_Open_figure/kernel:0', 'Closed_vs_Open_figure/bias:0', 'Colinear_vs_Noncolinear/kernel:0', 'Colinear_vs_Noncolinear/bias:0', 'Concave_vs_Convex/kernel:0', 'Concave_vs_Convex/bias:0', 'Four_vs_notfour_side/kernel:0', 'Four_vs_notfour_side/bias:0', 'Triangle_vs_notTriangle/kernel:0', 'Triangle_vs_notTriangle/bias:0', 'Clockwise_vs_Anticlock_wise/kernel:0', 'Clockwise_vs_Anticlock_wise/bias:0', 'Left_vs_Right/kernel:0', 'Left_vs_Right/bias:0', 'Parallel_vs_perpendicular/kernel:0', 'Parallel_vs_perpendicular/bias:0', 'Filled_vs_Unfilled/kernel:0', 'Filled_vs_Unfilled/bias:0', 'Complete_vs_Incomplete/kernel:0', 'Complete_vs_Incomplete/bias:0', 'Intersect_vs_NonIntersect/kernel:0', 'Intersect_vs_NonIntersect/bias:0', 'M_cluster_vs_N_clusters/kernel:0', 'M_cluster_vs_N_clusters/bias:0', 'Above_vs_Below/kernel:0', 'Above_vs_Below/bias:0', 'Size_big_vs_Small/kernel:0', 'Size_big_vs_Small/bias:0', 'Symmetery_vs_Non_symmetery/kernel:0', 'Symmetery_vs_Non_symmetery/bias:0', 'Horizontal_vs_Vertical/kernel:0', 'Horizontal_vs_Vertical/bias:0', 'Empty_vs_Non_Empty/kernel:0', 'Empty_vs_Non_Empty/bias:0'] when minimizing the loss. If you're using `model.compile()`, did you forget to provide a `loss` argument?\n"
     ]
    },
    {
     "name": "stdout",
     "output_type": "stream",
     "text": [
      "80/80 [==============================] - 2s 7ms/step - loss: 0.6932 - center_vs_notincenter_loss: 0.0000e+00 - circle_vs_notcircle_loss: 0.0000e+00 - Closed_vs_Open_figure_loss: 0.0000e+00 - Colinear_vs_Noncolinear_loss: 0.0000e+00 - Concave_vs_Convex_loss: 0.0000e+00 - Four_vs_notfour_side_loss: 0.0000e+00 - Triangle_vs_notTriangle_loss: 0.0000e+00 - Clockwise_vs_Anticlock_wise_loss: 0.0000e+00 - Left_vs_Right_loss: 0.0000e+00 - Parallel_vs_perpendicular_loss: 0.0000e+00 - Filled_vs_Unfilled_loss: 0.0000e+00 - Complete_vs_Incomplete_loss: 0.0000e+00 - Intersect_vs_NonIntersect_loss: 0.0000e+00 - M_cluster_vs_N_clusters_loss: 0.0000e+00 - Above_vs_Below_loss: 0.0000e+00 - Same_vs_Not_Same_loss: 0.6932 - Size_big_vs_Small_loss: 0.0000e+00 - Symmetery_vs_Non_symmetery_loss: 0.0000e+00 - Horizontal_vs_Vertical_loss: 0.0000e+00 - Empty_vs_Non_Empty_loss: 0.0000e+00\n",
      "\n",
      "epoch 0 Head 16\n"
     ]
    },
    {
     "name": "stderr",
     "output_type": "stream",
     "text": [
      "WARNING:tensorflow:Gradients do not exist for variables ['center_vs_notincenter/kernel:0', 'center_vs_notincenter/bias:0', 'circle_vs_notcircle/kernel:0', 'circle_vs_notcircle/bias:0', 'Closed_vs_Open_figure/kernel:0', 'Closed_vs_Open_figure/bias:0', 'Colinear_vs_Noncolinear/kernel:0', 'Colinear_vs_Noncolinear/bias:0', 'Concave_vs_Convex/kernel:0', 'Concave_vs_Convex/bias:0', 'Four_vs_notfour_side/kernel:0', 'Four_vs_notfour_side/bias:0', 'Triangle_vs_notTriangle/kernel:0', 'Triangle_vs_notTriangle/bias:0', 'Clockwise_vs_Anticlock_wise/kernel:0', 'Clockwise_vs_Anticlock_wise/bias:0', 'Left_vs_Right/kernel:0', 'Left_vs_Right/bias:0', 'Parallel_vs_perpendicular/kernel:0', 'Parallel_vs_perpendicular/bias:0', 'Filled_vs_Unfilled/kernel:0', 'Filled_vs_Unfilled/bias:0', 'Complete_vs_Incomplete/kernel:0', 'Complete_vs_Incomplete/bias:0', 'Intersect_vs_NonIntersect/kernel:0', 'Intersect_vs_NonIntersect/bias:0', 'M_cluster_vs_N_clusters/kernel:0', 'M_cluster_vs_N_clusters/bias:0', 'Above_vs_Below/kernel:0', 'Above_vs_Below/bias:0', 'Same_vs_Not_Same/kernel:0', 'Same_vs_Not_Same/bias:0', 'Symmetery_vs_Non_symmetery/kernel:0', 'Symmetery_vs_Non_symmetery/bias:0', 'Horizontal_vs_Vertical/kernel:0', 'Horizontal_vs_Vertical/bias:0', 'Empty_vs_Non_Empty/kernel:0', 'Empty_vs_Non_Empty/bias:0'] when minimizing the loss. If you're using `model.compile()`, did you forget to provide a `loss` argument?\n",
      "WARNING:tensorflow:Gradients do not exist for variables ['center_vs_notincenter/kernel:0', 'center_vs_notincenter/bias:0', 'circle_vs_notcircle/kernel:0', 'circle_vs_notcircle/bias:0', 'Closed_vs_Open_figure/kernel:0', 'Closed_vs_Open_figure/bias:0', 'Colinear_vs_Noncolinear/kernel:0', 'Colinear_vs_Noncolinear/bias:0', 'Concave_vs_Convex/kernel:0', 'Concave_vs_Convex/bias:0', 'Four_vs_notfour_side/kernel:0', 'Four_vs_notfour_side/bias:0', 'Triangle_vs_notTriangle/kernel:0', 'Triangle_vs_notTriangle/bias:0', 'Clockwise_vs_Anticlock_wise/kernel:0', 'Clockwise_vs_Anticlock_wise/bias:0', 'Left_vs_Right/kernel:0', 'Left_vs_Right/bias:0', 'Parallel_vs_perpendicular/kernel:0', 'Parallel_vs_perpendicular/bias:0', 'Filled_vs_Unfilled/kernel:0', 'Filled_vs_Unfilled/bias:0', 'Complete_vs_Incomplete/kernel:0', 'Complete_vs_Incomplete/bias:0', 'Intersect_vs_NonIntersect/kernel:0', 'Intersect_vs_NonIntersect/bias:0', 'M_cluster_vs_N_clusters/kernel:0', 'M_cluster_vs_N_clusters/bias:0', 'Above_vs_Below/kernel:0', 'Above_vs_Below/bias:0', 'Same_vs_Not_Same/kernel:0', 'Same_vs_Not_Same/bias:0', 'Symmetery_vs_Non_symmetery/kernel:0', 'Symmetery_vs_Non_symmetery/bias:0', 'Horizontal_vs_Vertical/kernel:0', 'Horizontal_vs_Vertical/bias:0', 'Empty_vs_Non_Empty/kernel:0', 'Empty_vs_Non_Empty/bias:0'] when minimizing the loss. If you're using `model.compile()`, did you forget to provide a `loss` argument?\n"
     ]
    },
    {
     "name": "stdout",
     "output_type": "stream",
     "text": [
      "50/50 [==============================] - 1s 7ms/step - loss: 0.6940 - center_vs_notincenter_loss: 0.0000e+00 - circle_vs_notcircle_loss: 0.0000e+00 - Closed_vs_Open_figure_loss: 0.0000e+00 - Colinear_vs_Noncolinear_loss: 0.0000e+00 - Concave_vs_Convex_loss: 0.0000e+00 - Four_vs_notfour_side_loss: 0.0000e+00 - Triangle_vs_notTriangle_loss: 0.0000e+00 - Clockwise_vs_Anticlock_wise_loss: 0.0000e+00 - Left_vs_Right_loss: 0.0000e+00 - Parallel_vs_perpendicular_loss: 0.0000e+00 - Filled_vs_Unfilled_loss: 0.0000e+00 - Complete_vs_Incomplete_loss: 0.0000e+00 - Intersect_vs_NonIntersect_loss: 0.0000e+00 - M_cluster_vs_N_clusters_loss: 0.0000e+00 - Above_vs_Below_loss: 0.0000e+00 - Same_vs_Not_Same_loss: 0.0000e+00 - Size_big_vs_Small_loss: 0.6940 - Symmetery_vs_Non_symmetery_loss: 0.0000e+00 - Horizontal_vs_Vertical_loss: 0.0000e+00 - Empty_vs_Non_Empty_loss: 0.0000e+00\n",
      "\n",
      "epoch 0 Head 17\n"
     ]
    },
    {
     "name": "stderr",
     "output_type": "stream",
     "text": [
      "WARNING:tensorflow:Gradients do not exist for variables ['center_vs_notincenter/kernel:0', 'center_vs_notincenter/bias:0', 'circle_vs_notcircle/kernel:0', 'circle_vs_notcircle/bias:0', 'Closed_vs_Open_figure/kernel:0', 'Closed_vs_Open_figure/bias:0', 'Colinear_vs_Noncolinear/kernel:0', 'Colinear_vs_Noncolinear/bias:0', 'Concave_vs_Convex/kernel:0', 'Concave_vs_Convex/bias:0', 'Four_vs_notfour_side/kernel:0', 'Four_vs_notfour_side/bias:0', 'Triangle_vs_notTriangle/kernel:0', 'Triangle_vs_notTriangle/bias:0', 'Clockwise_vs_Anticlock_wise/kernel:0', 'Clockwise_vs_Anticlock_wise/bias:0', 'Left_vs_Right/kernel:0', 'Left_vs_Right/bias:0', 'Parallel_vs_perpendicular/kernel:0', 'Parallel_vs_perpendicular/bias:0', 'Filled_vs_Unfilled/kernel:0', 'Filled_vs_Unfilled/bias:0', 'Complete_vs_Incomplete/kernel:0', 'Complete_vs_Incomplete/bias:0', 'Intersect_vs_NonIntersect/kernel:0', 'Intersect_vs_NonIntersect/bias:0', 'M_cluster_vs_N_clusters/kernel:0', 'M_cluster_vs_N_clusters/bias:0', 'Above_vs_Below/kernel:0', 'Above_vs_Below/bias:0', 'Same_vs_Not_Same/kernel:0', 'Same_vs_Not_Same/bias:0', 'Size_big_vs_Small/kernel:0', 'Size_big_vs_Small/bias:0', 'Horizontal_vs_Vertical/kernel:0', 'Horizontal_vs_Vertical/bias:0', 'Empty_vs_Non_Empty/kernel:0', 'Empty_vs_Non_Empty/bias:0'] when minimizing the loss. If you're using `model.compile()`, did you forget to provide a `loss` argument?\n",
      "WARNING:tensorflow:Gradients do not exist for variables ['center_vs_notincenter/kernel:0', 'center_vs_notincenter/bias:0', 'circle_vs_notcircle/kernel:0', 'circle_vs_notcircle/bias:0', 'Closed_vs_Open_figure/kernel:0', 'Closed_vs_Open_figure/bias:0', 'Colinear_vs_Noncolinear/kernel:0', 'Colinear_vs_Noncolinear/bias:0', 'Concave_vs_Convex/kernel:0', 'Concave_vs_Convex/bias:0', 'Four_vs_notfour_side/kernel:0', 'Four_vs_notfour_side/bias:0', 'Triangle_vs_notTriangle/kernel:0', 'Triangle_vs_notTriangle/bias:0', 'Clockwise_vs_Anticlock_wise/kernel:0', 'Clockwise_vs_Anticlock_wise/bias:0', 'Left_vs_Right/kernel:0', 'Left_vs_Right/bias:0', 'Parallel_vs_perpendicular/kernel:0', 'Parallel_vs_perpendicular/bias:0', 'Filled_vs_Unfilled/kernel:0', 'Filled_vs_Unfilled/bias:0', 'Complete_vs_Incomplete/kernel:0', 'Complete_vs_Incomplete/bias:0', 'Intersect_vs_NonIntersect/kernel:0', 'Intersect_vs_NonIntersect/bias:0', 'M_cluster_vs_N_clusters/kernel:0', 'M_cluster_vs_N_clusters/bias:0', 'Above_vs_Below/kernel:0', 'Above_vs_Below/bias:0', 'Same_vs_Not_Same/kernel:0', 'Same_vs_Not_Same/bias:0', 'Size_big_vs_Small/kernel:0', 'Size_big_vs_Small/bias:0', 'Horizontal_vs_Vertical/kernel:0', 'Horizontal_vs_Vertical/bias:0', 'Empty_vs_Non_Empty/kernel:0', 'Empty_vs_Non_Empty/bias:0'] when minimizing the loss. If you're using `model.compile()`, did you forget to provide a `loss` argument?\n"
     ]
    },
    {
     "name": "stdout",
     "output_type": "stream",
     "text": [
      "137/137 [==============================] - 2s 8ms/step - loss: 0.6932 - center_vs_notincenter_loss: 0.0000e+00 - circle_vs_notcircle_loss: 0.0000e+00 - Closed_vs_Open_figure_loss: 0.0000e+00 - Colinear_vs_Noncolinear_loss: 0.0000e+00 - Concave_vs_Convex_loss: 0.0000e+00 - Four_vs_notfour_side_loss: 0.0000e+00 - Triangle_vs_notTriangle_loss: 0.0000e+00 - Clockwise_vs_Anticlock_wise_loss: 0.0000e+00 - Left_vs_Right_loss: 0.0000e+00 - Parallel_vs_perpendicular_loss: 0.0000e+00 - Filled_vs_Unfilled_loss: 0.0000e+00 - Complete_vs_Incomplete_loss: 0.0000e+00 - Intersect_vs_NonIntersect_loss: 0.0000e+00 - M_cluster_vs_N_clusters_loss: 0.0000e+00 - Above_vs_Below_loss: 0.0000e+00 - Same_vs_Not_Same_loss: 0.0000e+00 - Size_big_vs_Small_loss: 0.0000e+00 - Symmetery_vs_Non_symmetery_loss: 0.6932 - Horizontal_vs_Vertical_loss: 0.0000e+00 - Empty_vs_Non_Empty_loss: 0.0000e+00\n",
      "\n",
      "epoch 0 Head 18\n"
     ]
    },
    {
     "name": "stderr",
     "output_type": "stream",
     "text": [
      "WARNING:tensorflow:Gradients do not exist for variables ['center_vs_notincenter/kernel:0', 'center_vs_notincenter/bias:0', 'circle_vs_notcircle/kernel:0', 'circle_vs_notcircle/bias:0', 'Closed_vs_Open_figure/kernel:0', 'Closed_vs_Open_figure/bias:0', 'Colinear_vs_Noncolinear/kernel:0', 'Colinear_vs_Noncolinear/bias:0', 'Concave_vs_Convex/kernel:0', 'Concave_vs_Convex/bias:0', 'Four_vs_notfour_side/kernel:0', 'Four_vs_notfour_side/bias:0', 'Triangle_vs_notTriangle/kernel:0', 'Triangle_vs_notTriangle/bias:0', 'Clockwise_vs_Anticlock_wise/kernel:0', 'Clockwise_vs_Anticlock_wise/bias:0', 'Left_vs_Right/kernel:0', 'Left_vs_Right/bias:0', 'Parallel_vs_perpendicular/kernel:0', 'Parallel_vs_perpendicular/bias:0', 'Filled_vs_Unfilled/kernel:0', 'Filled_vs_Unfilled/bias:0', 'Complete_vs_Incomplete/kernel:0', 'Complete_vs_Incomplete/bias:0', 'Intersect_vs_NonIntersect/kernel:0', 'Intersect_vs_NonIntersect/bias:0', 'M_cluster_vs_N_clusters/kernel:0', 'M_cluster_vs_N_clusters/bias:0', 'Above_vs_Below/kernel:0', 'Above_vs_Below/bias:0', 'Same_vs_Not_Same/kernel:0', 'Same_vs_Not_Same/bias:0', 'Size_big_vs_Small/kernel:0', 'Size_big_vs_Small/bias:0', 'Symmetery_vs_Non_symmetery/kernel:0', 'Symmetery_vs_Non_symmetery/bias:0', 'Empty_vs_Non_Empty/kernel:0', 'Empty_vs_Non_Empty/bias:0'] when minimizing the loss. If you're using `model.compile()`, did you forget to provide a `loss` argument?\n",
      "WARNING:tensorflow:Gradients do not exist for variables ['center_vs_notincenter/kernel:0', 'center_vs_notincenter/bias:0', 'circle_vs_notcircle/kernel:0', 'circle_vs_notcircle/bias:0', 'Closed_vs_Open_figure/kernel:0', 'Closed_vs_Open_figure/bias:0', 'Colinear_vs_Noncolinear/kernel:0', 'Colinear_vs_Noncolinear/bias:0', 'Concave_vs_Convex/kernel:0', 'Concave_vs_Convex/bias:0', 'Four_vs_notfour_side/kernel:0', 'Four_vs_notfour_side/bias:0', 'Triangle_vs_notTriangle/kernel:0', 'Triangle_vs_notTriangle/bias:0', 'Clockwise_vs_Anticlock_wise/kernel:0', 'Clockwise_vs_Anticlock_wise/bias:0', 'Left_vs_Right/kernel:0', 'Left_vs_Right/bias:0', 'Parallel_vs_perpendicular/kernel:0', 'Parallel_vs_perpendicular/bias:0', 'Filled_vs_Unfilled/kernel:0', 'Filled_vs_Unfilled/bias:0', 'Complete_vs_Incomplete/kernel:0', 'Complete_vs_Incomplete/bias:0', 'Intersect_vs_NonIntersect/kernel:0', 'Intersect_vs_NonIntersect/bias:0', 'M_cluster_vs_N_clusters/kernel:0', 'M_cluster_vs_N_clusters/bias:0', 'Above_vs_Below/kernel:0', 'Above_vs_Below/bias:0', 'Same_vs_Not_Same/kernel:0', 'Same_vs_Not_Same/bias:0', 'Size_big_vs_Small/kernel:0', 'Size_big_vs_Small/bias:0', 'Symmetery_vs_Non_symmetery/kernel:0', 'Symmetery_vs_Non_symmetery/bias:0', 'Empty_vs_Non_Empty/kernel:0', 'Empty_vs_Non_Empty/bias:0'] when minimizing the loss. If you're using `model.compile()`, did you forget to provide a `loss` argument?\n"
     ]
    },
    {
     "name": "stdout",
     "output_type": "stream",
     "text": [
      "50/50 [==============================] - 1s 7ms/step - loss: 0.6934 - center_vs_notincenter_loss: 0.0000e+00 - circle_vs_notcircle_loss: 0.0000e+00 - Closed_vs_Open_figure_loss: 0.0000e+00 - Colinear_vs_Noncolinear_loss: 0.0000e+00 - Concave_vs_Convex_loss: 0.0000e+00 - Four_vs_notfour_side_loss: 0.0000e+00 - Triangle_vs_notTriangle_loss: 0.0000e+00 - Clockwise_vs_Anticlock_wise_loss: 0.0000e+00 - Left_vs_Right_loss: 0.0000e+00 - Parallel_vs_perpendicular_loss: 0.0000e+00 - Filled_vs_Unfilled_loss: 0.0000e+00 - Complete_vs_Incomplete_loss: 0.0000e+00 - Intersect_vs_NonIntersect_loss: 0.0000e+00 - M_cluster_vs_N_clusters_loss: 0.0000e+00 - Above_vs_Below_loss: 0.0000e+00 - Same_vs_Not_Same_loss: 0.0000e+00 - Size_big_vs_Small_loss: 0.0000e+00 - Symmetery_vs_Non_symmetery_loss: 0.0000e+00 - Horizontal_vs_Vertical_loss: 0.6934 - Empty_vs_Non_Empty_loss: 0.0000e+00\n",
      "\n",
      "epoch 0 Head 19\n"
     ]
    },
    {
     "name": "stderr",
     "output_type": "stream",
     "text": [
      "WARNING:tensorflow:Gradients do not exist for variables ['center_vs_notincenter/kernel:0', 'center_vs_notincenter/bias:0', 'circle_vs_notcircle/kernel:0', 'circle_vs_notcircle/bias:0', 'Closed_vs_Open_figure/kernel:0', 'Closed_vs_Open_figure/bias:0', 'Colinear_vs_Noncolinear/kernel:0', 'Colinear_vs_Noncolinear/bias:0', 'Concave_vs_Convex/kernel:0', 'Concave_vs_Convex/bias:0', 'Four_vs_notfour_side/kernel:0', 'Four_vs_notfour_side/bias:0', 'Triangle_vs_notTriangle/kernel:0', 'Triangle_vs_notTriangle/bias:0', 'Clockwise_vs_Anticlock_wise/kernel:0', 'Clockwise_vs_Anticlock_wise/bias:0', 'Left_vs_Right/kernel:0', 'Left_vs_Right/bias:0', 'Parallel_vs_perpendicular/kernel:0', 'Parallel_vs_perpendicular/bias:0', 'Filled_vs_Unfilled/kernel:0', 'Filled_vs_Unfilled/bias:0', 'Complete_vs_Incomplete/kernel:0', 'Complete_vs_Incomplete/bias:0', 'Intersect_vs_NonIntersect/kernel:0', 'Intersect_vs_NonIntersect/bias:0', 'M_cluster_vs_N_clusters/kernel:0', 'M_cluster_vs_N_clusters/bias:0', 'Above_vs_Below/kernel:0', 'Above_vs_Below/bias:0', 'Same_vs_Not_Same/kernel:0', 'Same_vs_Not_Same/bias:0', 'Size_big_vs_Small/kernel:0', 'Size_big_vs_Small/bias:0', 'Symmetery_vs_Non_symmetery/kernel:0', 'Symmetery_vs_Non_symmetery/bias:0', 'Horizontal_vs_Vertical/kernel:0', 'Horizontal_vs_Vertical/bias:0'] when minimizing the loss. If you're using `model.compile()`, did you forget to provide a `loss` argument?\n",
      "WARNING:tensorflow:Gradients do not exist for variables ['center_vs_notincenter/kernel:0', 'center_vs_notincenter/bias:0', 'circle_vs_notcircle/kernel:0', 'circle_vs_notcircle/bias:0', 'Closed_vs_Open_figure/kernel:0', 'Closed_vs_Open_figure/bias:0', 'Colinear_vs_Noncolinear/kernel:0', 'Colinear_vs_Noncolinear/bias:0', 'Concave_vs_Convex/kernel:0', 'Concave_vs_Convex/bias:0', 'Four_vs_notfour_side/kernel:0', 'Four_vs_notfour_side/bias:0', 'Triangle_vs_notTriangle/kernel:0', 'Triangle_vs_notTriangle/bias:0', 'Clockwise_vs_Anticlock_wise/kernel:0', 'Clockwise_vs_Anticlock_wise/bias:0', 'Left_vs_Right/kernel:0', 'Left_vs_Right/bias:0', 'Parallel_vs_perpendicular/kernel:0', 'Parallel_vs_perpendicular/bias:0', 'Filled_vs_Unfilled/kernel:0', 'Filled_vs_Unfilled/bias:0', 'Complete_vs_Incomplete/kernel:0', 'Complete_vs_Incomplete/bias:0', 'Intersect_vs_NonIntersect/kernel:0', 'Intersect_vs_NonIntersect/bias:0', 'M_cluster_vs_N_clusters/kernel:0', 'M_cluster_vs_N_clusters/bias:0', 'Above_vs_Below/kernel:0', 'Above_vs_Below/bias:0', 'Same_vs_Not_Same/kernel:0', 'Same_vs_Not_Same/bias:0', 'Size_big_vs_Small/kernel:0', 'Size_big_vs_Small/bias:0', 'Symmetery_vs_Non_symmetery/kernel:0', 'Symmetery_vs_Non_symmetery/bias:0', 'Horizontal_vs_Vertical/kernel:0', 'Horizontal_vs_Vertical/bias:0'] when minimizing the loss. If you're using `model.compile()`, did you forget to provide a `loss` argument?\n"
     ]
    },
    {
     "name": "stdout",
     "output_type": "stream",
     "text": [
      "25/25 [==============================] - 1s 7ms/step - loss: 0.6272 - center_vs_notincenter_loss: 0.0000e+00 - circle_vs_notcircle_loss: 0.0000e+00 - Closed_vs_Open_figure_loss: 0.0000e+00 - Colinear_vs_Noncolinear_loss: 0.0000e+00 - Concave_vs_Convex_loss: 0.0000e+00 - Four_vs_notfour_side_loss: 0.0000e+00 - Triangle_vs_notTriangle_loss: 0.0000e+00 - Clockwise_vs_Anticlock_wise_loss: 0.0000e+00 - Left_vs_Right_loss: 0.0000e+00 - Parallel_vs_perpendicular_loss: 0.0000e+00 - Filled_vs_Unfilled_loss: 0.0000e+00 - Complete_vs_Incomplete_loss: 0.0000e+00 - Intersect_vs_NonIntersect_loss: 0.0000e+00 - M_cluster_vs_N_clusters_loss: 0.0000e+00 - Above_vs_Below_loss: 0.0000e+00 - Same_vs_Not_Same_loss: 0.0000e+00 - Size_big_vs_Small_loss: 0.0000e+00 - Symmetery_vs_Non_symmetery_loss: 0.0000e+00 - Horizontal_vs_Vertical_loss: 0.0000e+00 - Empty_vs_Non_Empty_loss: 0.6272\n",
      "\n",
      "epoch 1 Head 0\n",
      "115/115 [==============================] - 1s 7ms/step - loss: 0.5635 - center_vs_notincenter_loss: 0.5635 - circle_vs_notcircle_loss: 0.0000e+00 - Closed_vs_Open_figure_loss: 0.0000e+00 - Colinear_vs_Noncolinear_loss: 0.0000e+00 - Concave_vs_Convex_loss: 0.0000e+00 - Four_vs_notfour_side_loss: 0.0000e+00 - Triangle_vs_notTriangle_loss: 0.0000e+00 - Clockwise_vs_Anticlock_wise_loss: 0.0000e+00 - Left_vs_Right_loss: 0.0000e+00 - Parallel_vs_perpendicular_loss: 0.0000e+00 - Filled_vs_Unfilled_loss: 0.0000e+00 - Complete_vs_Incomplete_loss: 0.0000e+00 - Intersect_vs_NonIntersect_loss: 0.0000e+00 - M_cluster_vs_N_clusters_loss: 0.0000e+00 - Above_vs_Below_loss: 0.0000e+00 - Same_vs_Not_Same_loss: 0.0000e+00 - Size_big_vs_Small_loss: 0.0000e+00 - Symmetery_vs_Non_symmetery_loss: 0.0000e+00 - Horizontal_vs_Vertical_loss: 0.0000e+00 - Empty_vs_Non_Empty_loss: 0.0000e+00\n",
      "\n",
      "epoch 1 Head 1\n",
      "50/50 [==============================] - 0s 7ms/step - loss: 0.4020 - center_vs_notincenter_loss: 0.0000e+00 - circle_vs_notcircle_loss: 0.4020 - Closed_vs_Open_figure_loss: 0.0000e+00 - Colinear_vs_Noncolinear_loss: 0.0000e+00 - Concave_vs_Convex_loss: 0.0000e+00 - Four_vs_notfour_side_loss: 0.0000e+00 - Triangle_vs_notTriangle_loss: 0.0000e+00 - Clockwise_vs_Anticlock_wise_loss: 0.0000e+00 - Left_vs_Right_loss: 0.0000e+00 - Parallel_vs_perpendicular_loss: 0.0000e+00 - Filled_vs_Unfilled_loss: 0.0000e+00 - Complete_vs_Incomplete_loss: 0.0000e+00 - Intersect_vs_NonIntersect_loss: 0.0000e+00 - M_cluster_vs_N_clusters_loss: 0.0000e+00 - Above_vs_Below_loss: 0.0000e+00 - Same_vs_Not_Same_loss: 0.0000e+00 - Size_big_vs_Small_loss: 0.0000e+00 - Symmetery_vs_Non_symmetery_loss: 0.0000e+00 - Horizontal_vs_Vertical_loss: 0.0000e+00 - Empty_vs_Non_Empty_loss: 0.0000e+00\n",
      "\n",
      "epoch 1 Head 2\n",
      "39/39 [==============================] - 0s 7ms/step - loss: 0.5288 - center_vs_notincenter_loss: 0.0000e+00 - circle_vs_notcircle_loss: 0.0000e+00 - Closed_vs_Open_figure_loss: 0.5288 - Colinear_vs_Noncolinear_loss: 0.0000e+00 - Concave_vs_Convex_loss: 0.0000e+00 - Four_vs_notfour_side_loss: 0.0000e+00 - Triangle_vs_notTriangle_loss: 0.0000e+00 - Clockwise_vs_Anticlock_wise_loss: 0.0000e+00 - Left_vs_Right_loss: 0.0000e+00 - Parallel_vs_perpendicular_loss: 0.0000e+00 - Filled_vs_Unfilled_loss: 0.0000e+00 - Complete_vs_Incomplete_loss: 0.0000e+00 - Intersect_vs_NonIntersect_loss: 0.0000e+00 - M_cluster_vs_N_clusters_loss: 0.0000e+00 - Above_vs_Below_loss: 0.0000e+00 - Same_vs_Not_Same_loss: 0.0000e+00 - Size_big_vs_Small_loss: 0.0000e+00 - Symmetery_vs_Non_symmetery_loss: 0.0000e+00 - Horizontal_vs_Vertical_loss: 0.0000e+00 - Empty_vs_Non_Empty_loss: 0.0000e+00\n",
      "\n",
      "epoch 1 Head 3\n",
      "50/50 [==============================] - 0s 7ms/step - loss: 0.8105 - center_vs_notincenter_loss: 0.0000e+00 - circle_vs_notcircle_loss: 0.0000e+00 - Closed_vs_Open_figure_loss: 0.0000e+00 - Colinear_vs_Noncolinear_loss: 0.8105 - Concave_vs_Convex_loss: 0.0000e+00 - Four_vs_notfour_side_loss: 0.0000e+00 - Triangle_vs_notTriangle_loss: 0.0000e+00 - Clockwise_vs_Anticlock_wise_loss: 0.0000e+00 - Left_vs_Right_loss: 0.0000e+00 - Parallel_vs_perpendicular_loss: 0.0000e+00 - Filled_vs_Unfilled_loss: 0.0000e+00 - Complete_vs_Incomplete_loss: 0.0000e+00 - Intersect_vs_NonIntersect_loss: 0.0000e+00 - M_cluster_vs_N_clusters_loss: 0.0000e+00 - Above_vs_Below_loss: 0.0000e+00 - Same_vs_Not_Same_loss: 0.0000e+00 - Size_big_vs_Small_loss: 0.0000e+00 - Symmetery_vs_Non_symmetery_loss: 0.0000e+00 - Horizontal_vs_Vertical_loss: 0.0000e+00 - Empty_vs_Non_Empty_loss: 0.0000e+00\n",
      "\n",
      "epoch 1 Head 4\n",
      "50/50 [==============================] - 0s 7ms/step - loss: 0.7016 - center_vs_notincenter_loss: 0.0000e+00 - circle_vs_notcircle_loss: 0.0000e+00 - Closed_vs_Open_figure_loss: 0.0000e+00 - Colinear_vs_Noncolinear_loss: 0.0000e+00 - Concave_vs_Convex_loss: 0.7016 - Four_vs_notfour_side_loss: 0.0000e+00 - Triangle_vs_notTriangle_loss: 0.0000e+00 - Clockwise_vs_Anticlock_wise_loss: 0.0000e+00 - Left_vs_Right_loss: 0.0000e+00 - Parallel_vs_perpendicular_loss: 0.0000e+00 - Filled_vs_Unfilled_loss: 0.0000e+00 - Complete_vs_Incomplete_loss: 0.0000e+00 - Intersect_vs_NonIntersect_loss: 0.0000e+00 - M_cluster_vs_N_clusters_loss: 0.0000e+00 - Above_vs_Below_loss: 0.0000e+00 - Same_vs_Not_Same_loss: 0.0000e+00 - Size_big_vs_Small_loss: 0.0000e+00 - Symmetery_vs_Non_symmetery_loss: 0.0000e+00 - Horizontal_vs_Vertical_loss: 0.0000e+00 - Empty_vs_Non_Empty_loss: 0.0000e+00\n",
      "\n",
      "epoch 1 Head 5\n",
      "175/175 [==============================] - 1s 7ms/step - loss: 0.6373 - center_vs_notincenter_loss: 0.0000e+00 - circle_vs_notcircle_loss: 0.0000e+00 - Closed_vs_Open_figure_loss: 0.0000e+00 - Colinear_vs_Noncolinear_loss: 0.0000e+00 - Concave_vs_Convex_loss: 0.0000e+00 - Four_vs_notfour_side_loss: 0.6373 - Triangle_vs_notTriangle_loss: 0.0000e+00 - Clockwise_vs_Anticlock_wise_loss: 0.0000e+00 - Left_vs_Right_loss: 0.0000e+00 - Parallel_vs_perpendicular_loss: 0.0000e+00 - Filled_vs_Unfilled_loss: 0.0000e+00 - Complete_vs_Incomplete_loss: 0.0000e+00 - Intersect_vs_NonIntersect_loss: 0.0000e+00 - M_cluster_vs_N_clusters_loss: 0.0000e+00 - Above_vs_Below_loss: 0.0000e+00 - Same_vs_Not_Same_loss: 0.0000e+00 - Size_big_vs_Small_loss: 0.0000e+00 - Symmetery_vs_Non_symmetery_loss: 0.0000e+00 - Horizontal_vs_Vertical_loss: 0.0000e+00 - Empty_vs_Non_Empty_loss: 0.0000e+00\n",
      "\n",
      "epoch 1 Head 6\n",
      "175/175 [==============================] - 1s 8ms/step - loss: 0.5560 - center_vs_notincenter_loss: 0.0000e+00 - circle_vs_notcircle_loss: 0.0000e+00 - Closed_vs_Open_figure_loss: 0.0000e+00 - Colinear_vs_Noncolinear_loss: 0.0000e+00 - Concave_vs_Convex_loss: 0.0000e+00 - Four_vs_notfour_side_loss: 0.0000e+00 - Triangle_vs_notTriangle_loss: 0.5560 - Clockwise_vs_Anticlock_wise_loss: 0.0000e+00 - Left_vs_Right_loss: 0.0000e+00 - Parallel_vs_perpendicular_loss: 0.0000e+00 - Filled_vs_Unfilled_loss: 0.0000e+00 - Complete_vs_Incomplete_loss: 0.0000e+00 - Intersect_vs_NonIntersect_loss: 0.0000e+00 - M_cluster_vs_N_clusters_loss: 0.0000e+00 - Above_vs_Below_loss: 0.0000e+00 - Same_vs_Not_Same_loss: 0.0000e+00 - Size_big_vs_Small_loss: 0.0000e+00 - Symmetery_vs_Non_symmetery_loss: 0.0000e+00 - Horizontal_vs_Vertical_loss: 0.0000e+00 - Empty_vs_Non_Empty_loss: 0.0000e+00\n",
      "\n",
      "epoch 1 Head 7\n",
      "75/75 [==============================] - 1s 7ms/step - loss: 0.7025 - center_vs_notincenter_loss: 0.0000e+00 - circle_vs_notcircle_loss: 0.0000e+00 - Closed_vs_Open_figure_loss: 0.0000e+00 - Colinear_vs_Noncolinear_loss: 0.0000e+00 - Concave_vs_Convex_loss: 0.0000e+00 - Four_vs_notfour_side_loss: 0.0000e+00 - Triangle_vs_notTriangle_loss: 0.0000e+00 - Clockwise_vs_Anticlock_wise_loss: 0.7025 - Left_vs_Right_loss: 0.0000e+00 - Parallel_vs_perpendicular_loss: 0.0000e+00 - Filled_vs_Unfilled_loss: 0.0000e+00 - Complete_vs_Incomplete_loss: 0.0000e+00 - Intersect_vs_NonIntersect_loss: 0.0000e+00 - M_cluster_vs_N_clusters_loss: 0.0000e+00 - Above_vs_Below_loss: 0.0000e+00 - Same_vs_Not_Same_loss: 0.0000e+00 - Size_big_vs_Small_loss: 0.0000e+00 - Symmetery_vs_Non_symmetery_loss: 0.0000e+00 - Horizontal_vs_Vertical_loss: 0.0000e+00 - Empty_vs_Non_Empty_loss: 0.0000e+00\n",
      "\n",
      "epoch 1 Head 8\n",
      "63/63 [==============================] - 0s 7ms/step - loss: 0.6775 - center_vs_notincenter_loss: 0.0000e+00 - circle_vs_notcircle_loss: 0.0000e+00 - Closed_vs_Open_figure_loss: 0.0000e+00 - Colinear_vs_Noncolinear_loss: 0.0000e+00 - Concave_vs_Convex_loss: 0.0000e+00 - Four_vs_notfour_side_loss: 0.0000e+00 - Triangle_vs_notTriangle_loss: 0.0000e+00 - Clockwise_vs_Anticlock_wise_loss: 0.0000e+00 - Left_vs_Right_loss: 0.6775 - Parallel_vs_perpendicular_loss: 0.0000e+00 - Filled_vs_Unfilled_loss: 0.0000e+00 - Complete_vs_Incomplete_loss: 0.0000e+00 - Intersect_vs_NonIntersect_loss: 0.0000e+00 - M_cluster_vs_N_clusters_loss: 0.0000e+00 - Above_vs_Below_loss: 0.0000e+00 - Same_vs_Not_Same_loss: 0.0000e+00 - Size_big_vs_Small_loss: 0.0000e+00 - Symmetery_vs_Non_symmetery_loss: 0.0000e+00 - Horizontal_vs_Vertical_loss: 0.0000e+00 - Empty_vs_Non_Empty_loss: 0.0000e+00\n",
      "\n",
      "epoch 1 Head 9\n",
      "25/25 [==============================] - 0s 7ms/step - loss: 0.6946 - center_vs_notincenter_loss: 0.0000e+00 - circle_vs_notcircle_loss: 0.0000e+00 - Closed_vs_Open_figure_loss: 0.0000e+00 - Colinear_vs_Noncolinear_loss: 0.0000e+00 - Concave_vs_Convex_loss: 0.0000e+00 - Four_vs_notfour_side_loss: 0.0000e+00 - Triangle_vs_notTriangle_loss: 0.0000e+00 - Clockwise_vs_Anticlock_wise_loss: 0.0000e+00 - Left_vs_Right_loss: 0.0000e+00 - Parallel_vs_perpendicular_loss: 0.6946 - Filled_vs_Unfilled_loss: 0.0000e+00 - Complete_vs_Incomplete_loss: 0.0000e+00 - Intersect_vs_NonIntersect_loss: 0.0000e+00 - M_cluster_vs_N_clusters_loss: 0.0000e+00 - Above_vs_Below_loss: 0.0000e+00 - Same_vs_Not_Same_loss: 0.0000e+00 - Size_big_vs_Small_loss: 0.0000e+00 - Symmetery_vs_Non_symmetery_loss: 0.0000e+00 - Horizontal_vs_Vertical_loss: 0.0000e+00 - Empty_vs_Non_Empty_loss: 0.0000e+00\n",
      "\n",
      "epoch 1 Head 10\n",
      "55/55 [==============================] - 0s 7ms/step - loss: 0.7089 - center_vs_notincenter_loss: 0.0000e+00 - circle_vs_notcircle_loss: 0.0000e+00 - Closed_vs_Open_figure_loss: 0.0000e+00 - Colinear_vs_Noncolinear_loss: 0.0000e+00 - Concave_vs_Convex_loss: 0.0000e+00 - Four_vs_notfour_side_loss: 0.0000e+00 - Triangle_vs_notTriangle_loss: 0.0000e+00 - Clockwise_vs_Anticlock_wise_loss: 0.0000e+00 - Left_vs_Right_loss: 0.0000e+00 - Parallel_vs_perpendicular_loss: 0.0000e+00 - Filled_vs_Unfilled_loss: 0.7089 - Complete_vs_Incomplete_loss: 0.0000e+00 - Intersect_vs_NonIntersect_loss: 0.0000e+00 - M_cluster_vs_N_clusters_loss: 0.0000e+00 - Above_vs_Below_loss: 0.0000e+00 - Same_vs_Not_Same_loss: 0.0000e+00 - Size_big_vs_Small_loss: 0.0000e+00 - Symmetery_vs_Non_symmetery_loss: 0.0000e+00 - Horizontal_vs_Vertical_loss: 0.0000e+00 - Empty_vs_Non_Empty_loss: 0.0000e+00\n",
      "\n",
      "epoch 1 Head 11\n",
      "100/100 [==============================] - 1s 7ms/step - loss: 0.6923 - center_vs_notincenter_loss: 0.0000e+00 - circle_vs_notcircle_loss: 0.0000e+00 - Closed_vs_Open_figure_loss: 0.0000e+00 - Colinear_vs_Noncolinear_loss: 0.0000e+00 - Concave_vs_Convex_loss: 0.0000e+00 - Four_vs_notfour_side_loss: 0.0000e+00 - Triangle_vs_notTriangle_loss: 0.0000e+00 - Clockwise_vs_Anticlock_wise_loss: 0.0000e+00 - Left_vs_Right_loss: 0.0000e+00 - Parallel_vs_perpendicular_loss: 0.0000e+00 - Filled_vs_Unfilled_loss: 0.0000e+00 - Complete_vs_Incomplete_loss: 0.6923 - Intersect_vs_NonIntersect_loss: 0.0000e+00 - M_cluster_vs_N_clusters_loss: 0.0000e+00 - Above_vs_Below_loss: 0.0000e+00 - Same_vs_Not_Same_loss: 0.0000e+00 - Size_big_vs_Small_loss: 0.0000e+00 - Symmetery_vs_Non_symmetery_loss: 0.0000e+00 - Horizontal_vs_Vertical_loss: 0.0000e+00 - Empty_vs_Non_Empty_loss: 0.0000e+00\n",
      "\n",
      "epoch 1 Head 12\n",
      "112/112 [==============================] - 1s 8ms/step - loss: 0.6954 - center_vs_notincenter_loss: 0.0000e+00 - circle_vs_notcircle_loss: 0.0000e+00 - Closed_vs_Open_figure_loss: 0.0000e+00 - Colinear_vs_Noncolinear_loss: 0.0000e+00 - Concave_vs_Convex_loss: 0.0000e+00 - Four_vs_notfour_side_loss: 0.0000e+00 - Triangle_vs_notTriangle_loss: 0.0000e+00 - Clockwise_vs_Anticlock_wise_loss: 0.0000e+00 - Left_vs_Right_loss: 0.0000e+00 - Parallel_vs_perpendicular_loss: 0.0000e+00 - Filled_vs_Unfilled_loss: 0.0000e+00 - Complete_vs_Incomplete_loss: 0.0000e+00 - Intersect_vs_NonIntersect_loss: 0.6954 - M_cluster_vs_N_clusters_loss: 0.0000e+00 - Above_vs_Below_loss: 0.0000e+00 - Same_vs_Not_Same_loss: 0.0000e+00 - Size_big_vs_Small_loss: 0.0000e+00 - Symmetery_vs_Non_symmetery_loss: 0.0000e+00 - Horizontal_vs_Vertical_loss: 0.0000e+00 - Empty_vs_Non_Empty_loss: 0.0000e+00\n",
      "\n",
      "epoch 1 Head 13\n",
      "50/50 [==============================] - 0s 7ms/step - loss: 0.6934 - center_vs_notincenter_loss: 0.0000e+00 - circle_vs_notcircle_loss: 0.0000e+00 - Closed_vs_Open_figure_loss: 0.0000e+00 - Colinear_vs_Noncolinear_loss: 0.0000e+00 - Concave_vs_Convex_loss: 0.0000e+00 - Four_vs_notfour_side_loss: 0.0000e+00 - Triangle_vs_notTriangle_loss: 0.0000e+00 - Clockwise_vs_Anticlock_wise_loss: 0.0000e+00 - Left_vs_Right_loss: 0.0000e+00 - Parallel_vs_perpendicular_loss: 0.0000e+00 - Filled_vs_Unfilled_loss: 0.0000e+00 - Complete_vs_Incomplete_loss: 0.0000e+00 - Intersect_vs_NonIntersect_loss: 0.0000e+00 - M_cluster_vs_N_clusters_loss: 0.6934 - Above_vs_Below_loss: 0.0000e+00 - Same_vs_Not_Same_loss: 0.0000e+00 - Size_big_vs_Small_loss: 0.0000e+00 - Symmetery_vs_Non_symmetery_loss: 0.0000e+00 - Horizontal_vs_Vertical_loss: 0.0000e+00 - Empty_vs_Non_Empty_loss: 0.0000e+00\n",
      "\n",
      "epoch 1 Head 14\n",
      "60/60 [==============================] - 0s 7ms/step - loss: 0.6932 - center_vs_notincenter_loss: 0.0000e+00 - circle_vs_notcircle_loss: 0.0000e+00 - Closed_vs_Open_figure_loss: 0.0000e+00 - Colinear_vs_Noncolinear_loss: 0.0000e+00 - Concave_vs_Convex_loss: 0.0000e+00 - Four_vs_notfour_side_loss: 0.0000e+00 - Triangle_vs_notTriangle_loss: 0.0000e+00 - Clockwise_vs_Anticlock_wise_loss: 0.0000e+00 - Left_vs_Right_loss: 0.0000e+00 - Parallel_vs_perpendicular_loss: 0.0000e+00 - Filled_vs_Unfilled_loss: 0.0000e+00 - Complete_vs_Incomplete_loss: 0.0000e+00 - Intersect_vs_NonIntersect_loss: 0.0000e+00 - M_cluster_vs_N_clusters_loss: 0.0000e+00 - Above_vs_Below_loss: 0.6932 - Same_vs_Not_Same_loss: 0.0000e+00 - Size_big_vs_Small_loss: 0.0000e+00 - Symmetery_vs_Non_symmetery_loss: 0.0000e+00 - Horizontal_vs_Vertical_loss: 0.0000e+00 - Empty_vs_Non_Empty_loss: 0.0000e+00\n",
      "\n",
      "epoch 1 Head 15\n",
      "80/80 [==============================] - 1s 7ms/step - loss: 0.6931 - center_vs_notincenter_loss: 0.0000e+00 - circle_vs_notcircle_loss: 0.0000e+00 - Closed_vs_Open_figure_loss: 0.0000e+00 - Colinear_vs_Noncolinear_loss: 0.0000e+00 - Concave_vs_Convex_loss: 0.0000e+00 - Four_vs_notfour_side_loss: 0.0000e+00 - Triangle_vs_notTriangle_loss: 0.0000e+00 - Clockwise_vs_Anticlock_wise_loss: 0.0000e+00 - Left_vs_Right_loss: 0.0000e+00 - Parallel_vs_perpendicular_loss: 0.0000e+00 - Filled_vs_Unfilled_loss: 0.0000e+00 - Complete_vs_Incomplete_loss: 0.0000e+00 - Intersect_vs_NonIntersect_loss: 0.0000e+00 - M_cluster_vs_N_clusters_loss: 0.0000e+00 - Above_vs_Below_loss: 0.0000e+00 - Same_vs_Not_Same_loss: 0.6931 - Size_big_vs_Small_loss: 0.0000e+00 - Symmetery_vs_Non_symmetery_loss: 0.0000e+00 - Horizontal_vs_Vertical_loss: 0.0000e+00 - Empty_vs_Non_Empty_loss: 0.0000e+00\n",
      "\n",
      "epoch 1 Head 16\n",
      "50/50 [==============================] - 0s 7ms/step - loss: 0.6933 - center_vs_notincenter_loss: 0.0000e+00 - circle_vs_notcircle_loss: 0.0000e+00 - Closed_vs_Open_figure_loss: 0.0000e+00 - Colinear_vs_Noncolinear_loss: 0.0000e+00 - Concave_vs_Convex_loss: 0.0000e+00 - Four_vs_notfour_side_loss: 0.0000e+00 - Triangle_vs_notTriangle_loss: 0.0000e+00 - Clockwise_vs_Anticlock_wise_loss: 0.0000e+00 - Left_vs_Right_loss: 0.0000e+00 - Parallel_vs_perpendicular_loss: 0.0000e+00 - Filled_vs_Unfilled_loss: 0.0000e+00 - Complete_vs_Incomplete_loss: 0.0000e+00 - Intersect_vs_NonIntersect_loss: 0.0000e+00 - M_cluster_vs_N_clusters_loss: 0.0000e+00 - Above_vs_Below_loss: 0.0000e+00 - Same_vs_Not_Same_loss: 0.0000e+00 - Size_big_vs_Small_loss: 0.6933 - Symmetery_vs_Non_symmetery_loss: 0.0000e+00 - Horizontal_vs_Vertical_loss: 0.0000e+00 - Empty_vs_Non_Empty_loss: 0.0000e+00\n",
      "\n",
      "epoch 1 Head 17\n",
      "137/137 [==============================] - 1s 8ms/step - loss: 0.6932 - center_vs_notincenter_loss: 0.0000e+00 - circle_vs_notcircle_loss: 0.0000e+00 - Closed_vs_Open_figure_loss: 0.0000e+00 - Colinear_vs_Noncolinear_loss: 0.0000e+00 - Concave_vs_Convex_loss: 0.0000e+00 - Four_vs_notfour_side_loss: 0.0000e+00 - Triangle_vs_notTriangle_loss: 0.0000e+00 - Clockwise_vs_Anticlock_wise_loss: 0.0000e+00 - Left_vs_Right_loss: 0.0000e+00 - Parallel_vs_perpendicular_loss: 0.0000e+00 - Filled_vs_Unfilled_loss: 0.0000e+00 - Complete_vs_Incomplete_loss: 0.0000e+00 - Intersect_vs_NonIntersect_loss: 0.0000e+00 - M_cluster_vs_N_clusters_loss: 0.0000e+00 - Above_vs_Below_loss: 0.0000e+00 - Same_vs_Not_Same_loss: 0.0000e+00 - Size_big_vs_Small_loss: 0.0000e+00 - Symmetery_vs_Non_symmetery_loss: 0.6932 - Horizontal_vs_Vertical_loss: 0.0000e+00 - Empty_vs_Non_Empty_loss: 0.0000e+00\n",
      "\n",
      "epoch 1 Head 18\n",
      "50/50 [==============================] - 0s 8ms/step - loss: 0.6932 - center_vs_notincenter_loss: 0.0000e+00 - circle_vs_notcircle_loss: 0.0000e+00 - Closed_vs_Open_figure_loss: 0.0000e+00 - Colinear_vs_Noncolinear_loss: 0.0000e+00 - Concave_vs_Convex_loss: 0.0000e+00 - Four_vs_notfour_side_loss: 0.0000e+00 - Triangle_vs_notTriangle_loss: 0.0000e+00 - Clockwise_vs_Anticlock_wise_loss: 0.0000e+00 - Left_vs_Right_loss: 0.0000e+00 - Parallel_vs_perpendicular_loss: 0.0000e+00 - Filled_vs_Unfilled_loss: 0.0000e+00 - Complete_vs_Incomplete_loss: 0.0000e+00 - Intersect_vs_NonIntersect_loss: 0.0000e+00 - M_cluster_vs_N_clusters_loss: 0.0000e+00 - Above_vs_Below_loss: 0.0000e+00 - Same_vs_Not_Same_loss: 0.0000e+00 - Size_big_vs_Small_loss: 0.0000e+00 - Symmetery_vs_Non_symmetery_loss: 0.0000e+00 - Horizontal_vs_Vertical_loss: 0.6932 - Empty_vs_Non_Empty_loss: 0.0000e+00\n",
      "\n",
      "epoch 1 Head 19\n",
      "25/25 [==============================] - 0s 8ms/step - loss: 0.6955 - center_vs_notincenter_loss: 0.0000e+00 - circle_vs_notcircle_loss: 0.0000e+00 - Closed_vs_Open_figure_loss: 0.0000e+00 - Colinear_vs_Noncolinear_loss: 0.0000e+00 - Concave_vs_Convex_loss: 0.0000e+00 - Four_vs_notfour_side_loss: 0.0000e+00 - Triangle_vs_notTriangle_loss: 0.0000e+00 - Clockwise_vs_Anticlock_wise_loss: 0.0000e+00 - Left_vs_Right_loss: 0.0000e+00 - Parallel_vs_perpendicular_loss: 0.0000e+00 - Filled_vs_Unfilled_loss: 0.0000e+00 - Complete_vs_Incomplete_loss: 0.0000e+00 - Intersect_vs_NonIntersect_loss: 0.0000e+00 - M_cluster_vs_N_clusters_loss: 0.0000e+00 - Above_vs_Below_loss: 0.0000e+00 - Same_vs_Not_Same_loss: 0.0000e+00 - Size_big_vs_Small_loss: 0.0000e+00 - Symmetery_vs_Non_symmetery_loss: 0.0000e+00 - Horizontal_vs_Vertical_loss: 0.0000e+00 - Empty_vs_Non_Empty_loss: 0.6955\n",
      "\n",
      "epoch 2 Head 0\n",
      "115/115 [==============================] - 1s 7ms/step - loss: 0.6987 - center_vs_notincenter_loss: 0.6987 - circle_vs_notcircle_loss: 0.0000e+00 - Closed_vs_Open_figure_loss: 0.0000e+00 - Colinear_vs_Noncolinear_loss: 0.0000e+00 - Concave_vs_Convex_loss: 0.0000e+00 - Four_vs_notfour_side_loss: 0.0000e+00 - Triangle_vs_notTriangle_loss: 0.0000e+00 - Clockwise_vs_Anticlock_wise_loss: 0.0000e+00 - Left_vs_Right_loss: 0.0000e+00 - Parallel_vs_perpendicular_loss: 0.0000e+00 - Filled_vs_Unfilled_loss: 0.0000e+00 - Complete_vs_Incomplete_loss: 0.0000e+00 - Intersect_vs_NonIntersect_loss: 0.0000e+00 - M_cluster_vs_N_clusters_loss: 0.0000e+00 - Above_vs_Below_loss: 0.0000e+00 - Same_vs_Not_Same_loss: 0.0000e+00 - Size_big_vs_Small_loss: 0.0000e+00 - Symmetery_vs_Non_symmetery_loss: 0.0000e+00 - Horizontal_vs_Vertical_loss: 0.0000e+00 - Empty_vs_Non_Empty_loss: 0.0000e+00\n",
      "\n",
      "epoch 2 Head 1\n",
      "50/50 [==============================] - 0s 7ms/step - loss: 0.6938 - center_vs_notincenter_loss: 0.0000e+00 - circle_vs_notcircle_loss: 0.6938 - Closed_vs_Open_figure_loss: 0.0000e+00 - Colinear_vs_Noncolinear_loss: 0.0000e+00 - Concave_vs_Convex_loss: 0.0000e+00 - Four_vs_notfour_side_loss: 0.0000e+00 - Triangle_vs_notTriangle_loss: 0.0000e+00 - Clockwise_vs_Anticlock_wise_loss: 0.0000e+00 - Left_vs_Right_loss: 0.0000e+00 - Parallel_vs_perpendicular_loss: 0.0000e+00 - Filled_vs_Unfilled_loss: 0.0000e+00 - Complete_vs_Incomplete_loss: 0.0000e+00 - Intersect_vs_NonIntersect_loss: 0.0000e+00 - M_cluster_vs_N_clusters_loss: 0.0000e+00 - Above_vs_Below_loss: 0.0000e+00 - Same_vs_Not_Same_loss: 0.0000e+00 - Size_big_vs_Small_loss: 0.0000e+00 - Symmetery_vs_Non_symmetery_loss: 0.0000e+00 - Horizontal_vs_Vertical_loss: 0.0000e+00 - Empty_vs_Non_Empty_loss: 0.0000e+00\n",
      "\n",
      "epoch 2 Head 2\n",
      "39/39 [==============================] - 0s 8ms/step - loss: 0.6934 - center_vs_notincenter_loss: 0.0000e+00 - circle_vs_notcircle_loss: 0.0000e+00 - Closed_vs_Open_figure_loss: 0.6934 - Colinear_vs_Noncolinear_loss: 0.0000e+00 - Concave_vs_Convex_loss: 0.0000e+00 - Four_vs_notfour_side_loss: 0.0000e+00 - Triangle_vs_notTriangle_loss: 0.0000e+00 - Clockwise_vs_Anticlock_wise_loss: 0.0000e+00 - Left_vs_Right_loss: 0.0000e+00 - Parallel_vs_perpendicular_loss: 0.0000e+00 - Filled_vs_Unfilled_loss: 0.0000e+00 - Complete_vs_Incomplete_loss: 0.0000e+00 - Intersect_vs_NonIntersect_loss: 0.0000e+00 - M_cluster_vs_N_clusters_loss: 0.0000e+00 - Above_vs_Below_loss: 0.0000e+00 - Same_vs_Not_Same_loss: 0.0000e+00 - Size_big_vs_Small_loss: 0.0000e+00 - Symmetery_vs_Non_symmetery_loss: 0.0000e+00 - Horizontal_vs_Vertical_loss: 0.0000e+00 - Empty_vs_Non_Empty_loss: 0.0000e+00\n",
      "\n",
      "epoch 2 Head 3\n",
      "50/50 [==============================] - 0s 7ms/step - loss: 0.6941 - center_vs_notincenter_loss: 0.0000e+00 - circle_vs_notcircle_loss: 0.0000e+00 - Closed_vs_Open_figure_loss: 0.0000e+00 - Colinear_vs_Noncolinear_loss: 0.6941 - Concave_vs_Convex_loss: 0.0000e+00 - Four_vs_notfour_side_loss: 0.0000e+00 - Triangle_vs_notTriangle_loss: 0.0000e+00 - Clockwise_vs_Anticlock_wise_loss: 0.0000e+00 - Left_vs_Right_loss: 0.0000e+00 - Parallel_vs_perpendicular_loss: 0.0000e+00 - Filled_vs_Unfilled_loss: 0.0000e+00 - Complete_vs_Incomplete_loss: 0.0000e+00 - Intersect_vs_NonIntersect_loss: 0.0000e+00 - M_cluster_vs_N_clusters_loss: 0.0000e+00 - Above_vs_Below_loss: 0.0000e+00 - Same_vs_Not_Same_loss: 0.0000e+00 - Size_big_vs_Small_loss: 0.0000e+00 - Symmetery_vs_Non_symmetery_loss: 0.0000e+00 - Horizontal_vs_Vertical_loss: 0.0000e+00 - Empty_vs_Non_Empty_loss: 0.0000e+00\n",
      "\n",
      "epoch 2 Head 4\n",
      "50/50 [==============================] - 0s 7ms/step - loss: 0.6935 - center_vs_notincenter_loss: 0.0000e+00 - circle_vs_notcircle_loss: 0.0000e+00 - Closed_vs_Open_figure_loss: 0.0000e+00 - Colinear_vs_Noncolinear_loss: 0.0000e+00 - Concave_vs_Convex_loss: 0.6935 - Four_vs_notfour_side_loss: 0.0000e+00 - Triangle_vs_notTriangle_loss: 0.0000e+00 - Clockwise_vs_Anticlock_wise_loss: 0.0000e+00 - Left_vs_Right_loss: 0.0000e+00 - Parallel_vs_perpendicular_loss: 0.0000e+00 - Filled_vs_Unfilled_loss: 0.0000e+00 - Complete_vs_Incomplete_loss: 0.0000e+00 - Intersect_vs_NonIntersect_loss: 0.0000e+00 - M_cluster_vs_N_clusters_loss: 0.0000e+00 - Above_vs_Below_loss: 0.0000e+00 - Same_vs_Not_Same_loss: 0.0000e+00 - Size_big_vs_Small_loss: 0.0000e+00 - Symmetery_vs_Non_symmetery_loss: 0.0000e+00 - Horizontal_vs_Vertical_loss: 0.0000e+00 - Empty_vs_Non_Empty_loss: 0.0000e+00\n",
      "\n",
      "epoch 2 Head 5\n",
      "175/175 [==============================] - 1s 7ms/step - loss: 0.6979 - center_vs_notincenter_loss: 0.0000e+00 - circle_vs_notcircle_loss: 0.0000e+00 - Closed_vs_Open_figure_loss: 0.0000e+00 - Colinear_vs_Noncolinear_loss: 0.0000e+00 - Concave_vs_Convex_loss: 0.0000e+00 - Four_vs_notfour_side_loss: 0.6979 - Triangle_vs_notTriangle_loss: 0.0000e+00 - Clockwise_vs_Anticlock_wise_loss: 0.0000e+00 - Left_vs_Right_loss: 0.0000e+00 - Parallel_vs_perpendicular_loss: 0.0000e+00 - Filled_vs_Unfilled_loss: 0.0000e+00 - Complete_vs_Incomplete_loss: 0.0000e+00 - Intersect_vs_NonIntersect_loss: 0.0000e+00 - M_cluster_vs_N_clusters_loss: 0.0000e+00 - Above_vs_Below_loss: 0.0000e+00 - Same_vs_Not_Same_loss: 0.0000e+00 - Size_big_vs_Small_loss: 0.0000e+00 - Symmetery_vs_Non_symmetery_loss: 0.0000e+00 - Horizontal_vs_Vertical_loss: 0.0000e+00 - Empty_vs_Non_Empty_loss: 0.0000e+00\n",
      "\n",
      "epoch 2 Head 6\n",
      "175/175 [==============================] - 1s 7ms/step - loss: 0.6932 - center_vs_notincenter_loss: 0.0000e+00 - circle_vs_notcircle_loss: 0.0000e+00 - Closed_vs_Open_figure_loss: 0.0000e+00 - Colinear_vs_Noncolinear_loss: 0.0000e+00 - Concave_vs_Convex_loss: 0.0000e+00 - Four_vs_notfour_side_loss: 0.0000e+00 - Triangle_vs_notTriangle_loss: 0.6932 - Clockwise_vs_Anticlock_wise_loss: 0.0000e+00 - Left_vs_Right_loss: 0.0000e+00 - Parallel_vs_perpendicular_loss: 0.0000e+00 - Filled_vs_Unfilled_loss: 0.0000e+00 - Complete_vs_Incomplete_loss: 0.0000e+00 - Intersect_vs_NonIntersect_loss: 0.0000e+00 - M_cluster_vs_N_clusters_loss: 0.0000e+00 - Above_vs_Below_loss: 0.0000e+00 - Same_vs_Not_Same_loss: 0.0000e+00 - Size_big_vs_Small_loss: 0.0000e+00 - Symmetery_vs_Non_symmetery_loss: 0.0000e+00 - Horizontal_vs_Vertical_loss: 0.0000e+00 - Empty_vs_Non_Empty_loss: 0.0000e+00\n",
      "\n",
      "epoch 2 Head 7\n",
      "75/75 [==============================] - 1s 7ms/step - loss: 0.6933 - center_vs_notincenter_loss: 0.0000e+00 - circle_vs_notcircle_loss: 0.0000e+00 - Closed_vs_Open_figure_loss: 0.0000e+00 - Colinear_vs_Noncolinear_loss: 0.0000e+00 - Concave_vs_Convex_loss: 0.0000e+00 - Four_vs_notfour_side_loss: 0.0000e+00 - Triangle_vs_notTriangle_loss: 0.0000e+00 - Clockwise_vs_Anticlock_wise_loss: 0.6933 - Left_vs_Right_loss: 0.0000e+00 - Parallel_vs_perpendicular_loss: 0.0000e+00 - Filled_vs_Unfilled_loss: 0.0000e+00 - Complete_vs_Incomplete_loss: 0.0000e+00 - Intersect_vs_NonIntersect_loss: 0.0000e+00 - M_cluster_vs_N_clusters_loss: 0.0000e+00 - Above_vs_Below_loss: 0.0000e+00 - Same_vs_Not_Same_loss: 0.0000e+00 - Size_big_vs_Small_loss: 0.0000e+00 - Symmetery_vs_Non_symmetery_loss: 0.0000e+00 - Horizontal_vs_Vertical_loss: 0.0000e+00 - Empty_vs_Non_Empty_loss: 0.0000e+00\n",
      "\n",
      "epoch 2 Head 8\n",
      "63/63 [==============================] - 0s 7ms/step - loss: 0.6767 - center_vs_notincenter_loss: 0.0000e+00 - circle_vs_notcircle_loss: 0.0000e+00 - Closed_vs_Open_figure_loss: 0.0000e+00 - Colinear_vs_Noncolinear_loss: 0.0000e+00 - Concave_vs_Convex_loss: 0.0000e+00 - Four_vs_notfour_side_loss: 0.0000e+00 - Triangle_vs_notTriangle_loss: 0.0000e+00 - Clockwise_vs_Anticlock_wise_loss: 0.0000e+00 - Left_vs_Right_loss: 0.6767 - Parallel_vs_perpendicular_loss: 0.0000e+00 - Filled_vs_Unfilled_loss: 0.0000e+00 - Complete_vs_Incomplete_loss: 0.0000e+00 - Intersect_vs_NonIntersect_loss: 0.0000e+00 - M_cluster_vs_N_clusters_loss: 0.0000e+00 - Above_vs_Below_loss: 0.0000e+00 - Same_vs_Not_Same_loss: 0.0000e+00 - Size_big_vs_Small_loss: 0.0000e+00 - Symmetery_vs_Non_symmetery_loss: 0.0000e+00 - Horizontal_vs_Vertical_loss: 0.0000e+00 - Empty_vs_Non_Empty_loss: 0.0000e+00\n",
      "\n",
      "epoch 2 Head 9\n",
      "25/25 [==============================] - 0s 7ms/step - loss: 0.6932 - center_vs_notincenter_loss: 0.0000e+00 - circle_vs_notcircle_loss: 0.0000e+00 - Closed_vs_Open_figure_loss: 0.0000e+00 - Colinear_vs_Noncolinear_loss: 0.0000e+00 - Concave_vs_Convex_loss: 0.0000e+00 - Four_vs_notfour_side_loss: 0.0000e+00 - Triangle_vs_notTriangle_loss: 0.0000e+00 - Clockwise_vs_Anticlock_wise_loss: 0.0000e+00 - Left_vs_Right_loss: 0.0000e+00 - Parallel_vs_perpendicular_loss: 0.6932 - Filled_vs_Unfilled_loss: 0.0000e+00 - Complete_vs_Incomplete_loss: 0.0000e+00 - Intersect_vs_NonIntersect_loss: 0.0000e+00 - M_cluster_vs_N_clusters_loss: 0.0000e+00 - Above_vs_Below_loss: 0.0000e+00 - Same_vs_Not_Same_loss: 0.0000e+00 - Size_big_vs_Small_loss: 0.0000e+00 - Symmetery_vs_Non_symmetery_loss: 0.0000e+00 - Horizontal_vs_Vertical_loss: 0.0000e+00 - Empty_vs_Non_Empty_loss: 0.0000e+00\n",
      "\n",
      "epoch 2 Head 10\n",
      "55/55 [==============================] - 0s 7ms/step - loss: 0.6932 - center_vs_notincenter_loss: 0.0000e+00 - circle_vs_notcircle_loss: 0.0000e+00 - Closed_vs_Open_figure_loss: 0.0000e+00 - Colinear_vs_Noncolinear_loss: 0.0000e+00 - Concave_vs_Convex_loss: 0.0000e+00 - Four_vs_notfour_side_loss: 0.0000e+00 - Triangle_vs_notTriangle_loss: 0.0000e+00 - Clockwise_vs_Anticlock_wise_loss: 0.0000e+00 - Left_vs_Right_loss: 0.0000e+00 - Parallel_vs_perpendicular_loss: 0.0000e+00 - Filled_vs_Unfilled_loss: 0.6932 - Complete_vs_Incomplete_loss: 0.0000e+00 - Intersect_vs_NonIntersect_loss: 0.0000e+00 - M_cluster_vs_N_clusters_loss: 0.0000e+00 - Above_vs_Below_loss: 0.0000e+00 - Same_vs_Not_Same_loss: 0.0000e+00 - Size_big_vs_Small_loss: 0.0000e+00 - Symmetery_vs_Non_symmetery_loss: 0.0000e+00 - Horizontal_vs_Vertical_loss: 0.0000e+00 - Empty_vs_Non_Empty_loss: 0.0000e+00\n",
      "\n",
      "epoch 2 Head 11\n",
      "100/100 [==============================] - 1s 7ms/step - loss: 0.6932 - center_vs_notincenter_loss: 0.0000e+00 - circle_vs_notcircle_loss: 0.0000e+00 - Closed_vs_Open_figure_loss: 0.0000e+00 - Colinear_vs_Noncolinear_loss: 0.0000e+00 - Concave_vs_Convex_loss: 0.0000e+00 - Four_vs_notfour_side_loss: 0.0000e+00 - Triangle_vs_notTriangle_loss: 0.0000e+00 - Clockwise_vs_Anticlock_wise_loss: 0.0000e+00 - Left_vs_Right_loss: 0.0000e+00 - Parallel_vs_perpendicular_loss: 0.0000e+00 - Filled_vs_Unfilled_loss: 0.0000e+00 - Complete_vs_Incomplete_loss: 0.6932 - Intersect_vs_NonIntersect_loss: 0.0000e+00 - M_cluster_vs_N_clusters_loss: 0.0000e+00 - Above_vs_Below_loss: 0.0000e+00 - Same_vs_Not_Same_loss: 0.0000e+00 - Size_big_vs_Small_loss: 0.0000e+00 - Symmetery_vs_Non_symmetery_loss: 0.0000e+00 - Horizontal_vs_Vertical_loss: 0.0000e+00 - Empty_vs_Non_Empty_loss: 0.0000e+00\n",
      "\n",
      "epoch 2 Head 12\n",
      "112/112 [==============================] - 1s 7ms/step - loss: 0.6937 - center_vs_notincenter_loss: 0.0000e+00 - circle_vs_notcircle_loss: 0.0000e+00 - Closed_vs_Open_figure_loss: 0.0000e+00 - Colinear_vs_Noncolinear_loss: 0.0000e+00 - Concave_vs_Convex_loss: 0.0000e+00 - Four_vs_notfour_side_loss: 0.0000e+00 - Triangle_vs_notTriangle_loss: 0.0000e+00 - Clockwise_vs_Anticlock_wise_loss: 0.0000e+00 - Left_vs_Right_loss: 0.0000e+00 - Parallel_vs_perpendicular_loss: 0.0000e+00 - Filled_vs_Unfilled_loss: 0.0000e+00 - Complete_vs_Incomplete_loss: 0.0000e+00 - Intersect_vs_NonIntersect_loss: 0.6937 - M_cluster_vs_N_clusters_loss: 0.0000e+00 - Above_vs_Below_loss: 0.0000e+00 - Same_vs_Not_Same_loss: 0.0000e+00 - Size_big_vs_Small_loss: 0.0000e+00 - Symmetery_vs_Non_symmetery_loss: 0.0000e+00 - Horizontal_vs_Vertical_loss: 0.0000e+00 - Empty_vs_Non_Empty_loss: 0.0000e+00\n",
      "\n",
      "epoch 2 Head 13\n",
      "50/50 [==============================] - 0s 7ms/step - loss: 0.6933 - center_vs_notincenter_loss: 0.0000e+00 - circle_vs_notcircle_loss: 0.0000e+00 - Closed_vs_Open_figure_loss: 0.0000e+00 - Colinear_vs_Noncolinear_loss: 0.0000e+00 - Concave_vs_Convex_loss: 0.0000e+00 - Four_vs_notfour_side_loss: 0.0000e+00 - Triangle_vs_notTriangle_loss: 0.0000e+00 - Clockwise_vs_Anticlock_wise_loss: 0.0000e+00 - Left_vs_Right_loss: 0.0000e+00 - Parallel_vs_perpendicular_loss: 0.0000e+00 - Filled_vs_Unfilled_loss: 0.0000e+00 - Complete_vs_Incomplete_loss: 0.0000e+00 - Intersect_vs_NonIntersect_loss: 0.0000e+00 - M_cluster_vs_N_clusters_loss: 0.6933 - Above_vs_Below_loss: 0.0000e+00 - Same_vs_Not_Same_loss: 0.0000e+00 - Size_big_vs_Small_loss: 0.0000e+00 - Symmetery_vs_Non_symmetery_loss: 0.0000e+00 - Horizontal_vs_Vertical_loss: 0.0000e+00 - Empty_vs_Non_Empty_loss: 0.0000e+00\n",
      "\n",
      "epoch 2 Head 14\n",
      "60/60 [==============================] - 0s 7ms/step - loss: 0.6934 - center_vs_notincenter_loss: 0.0000e+00 - circle_vs_notcircle_loss: 0.0000e+00 - Closed_vs_Open_figure_loss: 0.0000e+00 - Colinear_vs_Noncolinear_loss: 0.0000e+00 - Concave_vs_Convex_loss: 0.0000e+00 - Four_vs_notfour_side_loss: 0.0000e+00 - Triangle_vs_notTriangle_loss: 0.0000e+00 - Clockwise_vs_Anticlock_wise_loss: 0.0000e+00 - Left_vs_Right_loss: 0.0000e+00 - Parallel_vs_perpendicular_loss: 0.0000e+00 - Filled_vs_Unfilled_loss: 0.0000e+00 - Complete_vs_Incomplete_loss: 0.0000e+00 - Intersect_vs_NonIntersect_loss: 0.0000e+00 - M_cluster_vs_N_clusters_loss: 0.0000e+00 - Above_vs_Below_loss: 0.6934 - Same_vs_Not_Same_loss: 0.0000e+00 - Size_big_vs_Small_loss: 0.0000e+00 - Symmetery_vs_Non_symmetery_loss: 0.0000e+00 - Horizontal_vs_Vertical_loss: 0.0000e+00 - Empty_vs_Non_Empty_loss: 0.0000e+00\n",
      "\n",
      "epoch 2 Head 15\n",
      "80/80 [==============================] - 1s 8ms/step - loss: 0.6930 - center_vs_notincenter_loss: 0.0000e+00 - circle_vs_notcircle_loss: 0.0000e+00 - Closed_vs_Open_figure_loss: 0.0000e+00 - Colinear_vs_Noncolinear_loss: 0.0000e+00 - Concave_vs_Convex_loss: 0.0000e+00 - Four_vs_notfour_side_loss: 0.0000e+00 - Triangle_vs_notTriangle_loss: 0.0000e+00 - Clockwise_vs_Anticlock_wise_loss: 0.0000e+00 - Left_vs_Right_loss: 0.0000e+00 - Parallel_vs_perpendicular_loss: 0.0000e+00 - Filled_vs_Unfilled_loss: 0.0000e+00 - Complete_vs_Incomplete_loss: 0.0000e+00 - Intersect_vs_NonIntersect_loss: 0.0000e+00 - M_cluster_vs_N_clusters_loss: 0.0000e+00 - Above_vs_Below_loss: 0.0000e+00 - Same_vs_Not_Same_loss: 0.6930 - Size_big_vs_Small_loss: 0.0000e+00 - Symmetery_vs_Non_symmetery_loss: 0.0000e+00 - Horizontal_vs_Vertical_loss: 0.0000e+00 - Empty_vs_Non_Empty_loss: 0.0000e+00\n",
      "\n",
      "epoch 2 Head 16\n",
      "50/50 [==============================] - 0s 7ms/step - loss: 0.6932 - center_vs_notincenter_loss: 0.0000e+00 - circle_vs_notcircle_loss: 0.0000e+00 - Closed_vs_Open_figure_loss: 0.0000e+00 - Colinear_vs_Noncolinear_loss: 0.0000e+00 - Concave_vs_Convex_loss: 0.0000e+00 - Four_vs_notfour_side_loss: 0.0000e+00 - Triangle_vs_notTriangle_loss: 0.0000e+00 - Clockwise_vs_Anticlock_wise_loss: 0.0000e+00 - Left_vs_Right_loss: 0.0000e+00 - Parallel_vs_perpendicular_loss: 0.0000e+00 - Filled_vs_Unfilled_loss: 0.0000e+00 - Complete_vs_Incomplete_loss: 0.0000e+00 - Intersect_vs_NonIntersect_loss: 0.0000e+00 - M_cluster_vs_N_clusters_loss: 0.0000e+00 - Above_vs_Below_loss: 0.0000e+00 - Same_vs_Not_Same_loss: 0.0000e+00 - Size_big_vs_Small_loss: 0.6932 - Symmetery_vs_Non_symmetery_loss: 0.0000e+00 - Horizontal_vs_Vertical_loss: 0.0000e+00 - Empty_vs_Non_Empty_loss: 0.0000e+00\n",
      "\n",
      "epoch 2 Head 17\n",
      "137/137 [==============================] - 1s 8ms/step - loss: 0.6932 - center_vs_notincenter_loss: 0.0000e+00 - circle_vs_notcircle_loss: 0.0000e+00 - Closed_vs_Open_figure_loss: 0.0000e+00 - Colinear_vs_Noncolinear_loss: 0.0000e+00 - Concave_vs_Convex_loss: 0.0000e+00 - Four_vs_notfour_side_loss: 0.0000e+00 - Triangle_vs_notTriangle_loss: 0.0000e+00 - Clockwise_vs_Anticlock_wise_loss: 0.0000e+00 - Left_vs_Right_loss: 0.0000e+00 - Parallel_vs_perpendicular_loss: 0.0000e+00 - Filled_vs_Unfilled_loss: 0.0000e+00 - Complete_vs_Incomplete_loss: 0.0000e+00 - Intersect_vs_NonIntersect_loss: 0.0000e+00 - M_cluster_vs_N_clusters_loss: 0.0000e+00 - Above_vs_Below_loss: 0.0000e+00 - Same_vs_Not_Same_loss: 0.0000e+00 - Size_big_vs_Small_loss: 0.0000e+00 - Symmetery_vs_Non_symmetery_loss: 0.6932 - Horizontal_vs_Vertical_loss: 0.0000e+00 - Empty_vs_Non_Empty_loss: 0.0000e+00\n",
      "\n",
      "epoch 2 Head 18\n",
      "50/50 [==============================] - 0s 7ms/step - loss: 0.6932 - center_vs_notincenter_loss: 0.0000e+00 - circle_vs_notcircle_loss: 0.0000e+00 - Closed_vs_Open_figure_loss: 0.0000e+00 - Colinear_vs_Noncolinear_loss: 0.0000e+00 - Concave_vs_Convex_loss: 0.0000e+00 - Four_vs_notfour_side_loss: 0.0000e+00 - Triangle_vs_notTriangle_loss: 0.0000e+00 - Clockwise_vs_Anticlock_wise_loss: 0.0000e+00 - Left_vs_Right_loss: 0.0000e+00 - Parallel_vs_perpendicular_loss: 0.0000e+00 - Filled_vs_Unfilled_loss: 0.0000e+00 - Complete_vs_Incomplete_loss: 0.0000e+00 - Intersect_vs_NonIntersect_loss: 0.0000e+00 - M_cluster_vs_N_clusters_loss: 0.0000e+00 - Above_vs_Below_loss: 0.0000e+00 - Same_vs_Not_Same_loss: 0.0000e+00 - Size_big_vs_Small_loss: 0.0000e+00 - Symmetery_vs_Non_symmetery_loss: 0.0000e+00 - Horizontal_vs_Vertical_loss: 0.6932 - Empty_vs_Non_Empty_loss: 0.0000e+00\n",
      "\n",
      "epoch 2 Head 19\n",
      "25/25 [==============================] - 0s 7ms/step - loss: 0.6936 - center_vs_notincenter_loss: 0.0000e+00 - circle_vs_notcircle_loss: 0.0000e+00 - Closed_vs_Open_figure_loss: 0.0000e+00 - Colinear_vs_Noncolinear_loss: 0.0000e+00 - Concave_vs_Convex_loss: 0.0000e+00 - Four_vs_notfour_side_loss: 0.0000e+00 - Triangle_vs_notTriangle_loss: 0.0000e+00 - Clockwise_vs_Anticlock_wise_loss: 0.0000e+00 - Left_vs_Right_loss: 0.0000e+00 - Parallel_vs_perpendicular_loss: 0.0000e+00 - Filled_vs_Unfilled_loss: 0.0000e+00 - Complete_vs_Incomplete_loss: 0.0000e+00 - Intersect_vs_NonIntersect_loss: 0.0000e+00 - M_cluster_vs_N_clusters_loss: 0.0000e+00 - Above_vs_Below_loss: 0.0000e+00 - Same_vs_Not_Same_loss: 0.0000e+00 - Size_big_vs_Small_loss: 0.0000e+00 - Symmetery_vs_Non_symmetery_loss: 0.0000e+00 - Horizontal_vs_Vertical_loss: 0.0000e+00 - Empty_vs_Non_Empty_loss: 0.6936\n",
      "\n",
      "epoch 3 Head 0\n",
      "115/115 [==============================] - 1s 7ms/step - loss: 0.6148 - center_vs_notincenter_loss: 0.6148 - circle_vs_notcircle_loss: 0.0000e+00 - Closed_vs_Open_figure_loss: 0.0000e+00 - Colinear_vs_Noncolinear_loss: 0.0000e+00 - Concave_vs_Convex_loss: 0.0000e+00 - Four_vs_notfour_side_loss: 0.0000e+00 - Triangle_vs_notTriangle_loss: 0.0000e+00 - Clockwise_vs_Anticlock_wise_loss: 0.0000e+00 - Left_vs_Right_loss: 0.0000e+00 - Parallel_vs_perpendicular_loss: 0.0000e+00 - Filled_vs_Unfilled_loss: 0.0000e+00 - Complete_vs_Incomplete_loss: 0.0000e+00 - Intersect_vs_NonIntersect_loss: 0.0000e+00 - M_cluster_vs_N_clusters_loss: 0.0000e+00 - Above_vs_Below_loss: 0.0000e+00 - Same_vs_Not_Same_loss: 0.0000e+00 - Size_big_vs_Small_loss: 0.0000e+00 - Symmetery_vs_Non_symmetery_loss: 0.0000e+00 - Horizontal_vs_Vertical_loss: 0.0000e+00 - Empty_vs_Non_Empty_loss: 0.0000e+00\n",
      "\n",
      "epoch 3 Head 1\n",
      "50/50 [==============================] - 0s 7ms/step - loss: 0.6015 - center_vs_notincenter_loss: 0.0000e+00 - circle_vs_notcircle_loss: 0.6015 - Closed_vs_Open_figure_loss: 0.0000e+00 - Colinear_vs_Noncolinear_loss: 0.0000e+00 - Concave_vs_Convex_loss: 0.0000e+00 - Four_vs_notfour_side_loss: 0.0000e+00 - Triangle_vs_notTriangle_loss: 0.0000e+00 - Clockwise_vs_Anticlock_wise_loss: 0.0000e+00 - Left_vs_Right_loss: 0.0000e+00 - Parallel_vs_perpendicular_loss: 0.0000e+00 - Filled_vs_Unfilled_loss: 0.0000e+00 - Complete_vs_Incomplete_loss: 0.0000e+00 - Intersect_vs_NonIntersect_loss: 0.0000e+00 - M_cluster_vs_N_clusters_loss: 0.0000e+00 - Above_vs_Below_loss: 0.0000e+00 - Same_vs_Not_Same_loss: 0.0000e+00 - Size_big_vs_Small_loss: 0.0000e+00 - Symmetery_vs_Non_symmetery_loss: 0.0000e+00 - Horizontal_vs_Vertical_loss: 0.0000e+00 - Empty_vs_Non_Empty_loss: 0.0000e+00\n",
      "\n",
      "epoch 3 Head 2\n",
      "39/39 [==============================] - 0s 7ms/step - loss: 0.5466 - center_vs_notincenter_loss: 0.0000e+00 - circle_vs_notcircle_loss: 0.0000e+00 - Closed_vs_Open_figure_loss: 0.5466 - Colinear_vs_Noncolinear_loss: 0.0000e+00 - Concave_vs_Convex_loss: 0.0000e+00 - Four_vs_notfour_side_loss: 0.0000e+00 - Triangle_vs_notTriangle_loss: 0.0000e+00 - Clockwise_vs_Anticlock_wise_loss: 0.0000e+00 - Left_vs_Right_loss: 0.0000e+00 - Parallel_vs_perpendicular_loss: 0.0000e+00 - Filled_vs_Unfilled_loss: 0.0000e+00 - Complete_vs_Incomplete_loss: 0.0000e+00 - Intersect_vs_NonIntersect_loss: 0.0000e+00 - M_cluster_vs_N_clusters_loss: 0.0000e+00 - Above_vs_Below_loss: 0.0000e+00 - Same_vs_Not_Same_loss: 0.0000e+00 - Size_big_vs_Small_loss: 0.0000e+00 - Symmetery_vs_Non_symmetery_loss: 0.0000e+00 - Horizontal_vs_Vertical_loss: 0.0000e+00 - Empty_vs_Non_Empty_loss: 0.0000e+00\n",
      "\n",
      "epoch 3 Head 3\n",
      "50/50 [==============================] - 0s 7ms/step - loss: 0.9544 - center_vs_notincenter_loss: 0.0000e+00 - circle_vs_notcircle_loss: 0.0000e+00 - Closed_vs_Open_figure_loss: 0.0000e+00 - Colinear_vs_Noncolinear_loss: 0.9544 - Concave_vs_Convex_loss: 0.0000e+00 - Four_vs_notfour_side_loss: 0.0000e+00 - Triangle_vs_notTriangle_loss: 0.0000e+00 - Clockwise_vs_Anticlock_wise_loss: 0.0000e+00 - Left_vs_Right_loss: 0.0000e+00 - Parallel_vs_perpendicular_loss: 0.0000e+00 - Filled_vs_Unfilled_loss: 0.0000e+00 - Complete_vs_Incomplete_loss: 0.0000e+00 - Intersect_vs_NonIntersect_loss: 0.0000e+00 - M_cluster_vs_N_clusters_loss: 0.0000e+00 - Above_vs_Below_loss: 0.0000e+00 - Same_vs_Not_Same_loss: 0.0000e+00 - Size_big_vs_Small_loss: 0.0000e+00 - Symmetery_vs_Non_symmetery_loss: 0.0000e+00 - Horizontal_vs_Vertical_loss: 0.0000e+00 - Empty_vs_Non_Empty_loss: 0.0000e+00\n",
      "\n",
      "epoch 3 Head 4\n",
      "50/50 [==============================] - 0s 7ms/step - loss: 0.6972 - center_vs_notincenter_loss: 0.0000e+00 - circle_vs_notcircle_loss: 0.0000e+00 - Closed_vs_Open_figure_loss: 0.0000e+00 - Colinear_vs_Noncolinear_loss: 0.0000e+00 - Concave_vs_Convex_loss: 0.6972 - Four_vs_notfour_side_loss: 0.0000e+00 - Triangle_vs_notTriangle_loss: 0.0000e+00 - Clockwise_vs_Anticlock_wise_loss: 0.0000e+00 - Left_vs_Right_loss: 0.0000e+00 - Parallel_vs_perpendicular_loss: 0.0000e+00 - Filled_vs_Unfilled_loss: 0.0000e+00 - Complete_vs_Incomplete_loss: 0.0000e+00 - Intersect_vs_NonIntersect_loss: 0.0000e+00 - M_cluster_vs_N_clusters_loss: 0.0000e+00 - Above_vs_Below_loss: 0.0000e+00 - Same_vs_Not_Same_loss: 0.0000e+00 - Size_big_vs_Small_loss: 0.0000e+00 - Symmetery_vs_Non_symmetery_loss: 0.0000e+00 - Horizontal_vs_Vertical_loss: 0.0000e+00 - Empty_vs_Non_Empty_loss: 0.0000e+00\n",
      "\n",
      "epoch 3 Head 5\n",
      "175/175 [==============================] - 1s 7ms/step - loss: 0.6942 - center_vs_notincenter_loss: 0.0000e+00 - circle_vs_notcircle_loss: 0.0000e+00 - Closed_vs_Open_figure_loss: 0.0000e+00 - Colinear_vs_Noncolinear_loss: 0.0000e+00 - Concave_vs_Convex_loss: 0.0000e+00 - Four_vs_notfour_side_loss: 0.6942 - Triangle_vs_notTriangle_loss: 0.0000e+00 - Clockwise_vs_Anticlock_wise_loss: 0.0000e+00 - Left_vs_Right_loss: 0.0000e+00 - Parallel_vs_perpendicular_loss: 0.0000e+00 - Filled_vs_Unfilled_loss: 0.0000e+00 - Complete_vs_Incomplete_loss: 0.0000e+00 - Intersect_vs_NonIntersect_loss: 0.0000e+00 - M_cluster_vs_N_clusters_loss: 0.0000e+00 - Above_vs_Below_loss: 0.0000e+00 - Same_vs_Not_Same_loss: 0.0000e+00 - Size_big_vs_Small_loss: 0.0000e+00 - Symmetery_vs_Non_symmetery_loss: 0.0000e+00 - Horizontal_vs_Vertical_loss: 0.0000e+00 - Empty_vs_Non_Empty_loss: 0.0000e+00\n",
      "\n",
      "epoch 3 Head 6\n",
      "175/175 [==============================] - 1s 7ms/step - loss: 0.6932 - center_vs_notincenter_loss: 0.0000e+00 - circle_vs_notcircle_loss: 0.0000e+00 - Closed_vs_Open_figure_loss: 0.0000e+00 - Colinear_vs_Noncolinear_loss: 0.0000e+00 - Concave_vs_Convex_loss: 0.0000e+00 - Four_vs_notfour_side_loss: 0.0000e+00 - Triangle_vs_notTriangle_loss: 0.6932 - Clockwise_vs_Anticlock_wise_loss: 0.0000e+00 - Left_vs_Right_loss: 0.0000e+00 - Parallel_vs_perpendicular_loss: 0.0000e+00 - Filled_vs_Unfilled_loss: 0.0000e+00 - Complete_vs_Incomplete_loss: 0.0000e+00 - Intersect_vs_NonIntersect_loss: 0.0000e+00 - M_cluster_vs_N_clusters_loss: 0.0000e+00 - Above_vs_Below_loss: 0.0000e+00 - Same_vs_Not_Same_loss: 0.0000e+00 - Size_big_vs_Small_loss: 0.0000e+00 - Symmetery_vs_Non_symmetery_loss: 0.0000e+00 - Horizontal_vs_Vertical_loss: 0.0000e+00 - Empty_vs_Non_Empty_loss: 0.0000e+00\n",
      "\n",
      "epoch 3 Head 7\n",
      "75/75 [==============================] - 1s 7ms/step - loss: 0.6936 - center_vs_notincenter_loss: 0.0000e+00 - circle_vs_notcircle_loss: 0.0000e+00 - Closed_vs_Open_figure_loss: 0.0000e+00 - Colinear_vs_Noncolinear_loss: 0.0000e+00 - Concave_vs_Convex_loss: 0.0000e+00 - Four_vs_notfour_side_loss: 0.0000e+00 - Triangle_vs_notTriangle_loss: 0.0000e+00 - Clockwise_vs_Anticlock_wise_loss: 0.6936 - Left_vs_Right_loss: 0.0000e+00 - Parallel_vs_perpendicular_loss: 0.0000e+00 - Filled_vs_Unfilled_loss: 0.0000e+00 - Complete_vs_Incomplete_loss: 0.0000e+00 - Intersect_vs_NonIntersect_loss: 0.0000e+00 - M_cluster_vs_N_clusters_loss: 0.0000e+00 - Above_vs_Below_loss: 0.0000e+00 - Same_vs_Not_Same_loss: 0.0000e+00 - Size_big_vs_Small_loss: 0.0000e+00 - Symmetery_vs_Non_symmetery_loss: 0.0000e+00 - Horizontal_vs_Vertical_loss: 0.0000e+00 - Empty_vs_Non_Empty_loss: 0.0000e+00\n",
      "\n",
      "epoch 3 Head 8\n",
      "63/63 [==============================] - 0s 7ms/step - loss: 0.6760 - center_vs_notincenter_loss: 0.0000e+00 - circle_vs_notcircle_loss: 0.0000e+00 - Closed_vs_Open_figure_loss: 0.0000e+00 - Colinear_vs_Noncolinear_loss: 0.0000e+00 - Concave_vs_Convex_loss: 0.0000e+00 - Four_vs_notfour_side_loss: 0.0000e+00 - Triangle_vs_notTriangle_loss: 0.0000e+00 - Clockwise_vs_Anticlock_wise_loss: 0.0000e+00 - Left_vs_Right_loss: 0.6760 - Parallel_vs_perpendicular_loss: 0.0000e+00 - Filled_vs_Unfilled_loss: 0.0000e+00 - Complete_vs_Incomplete_loss: 0.0000e+00 - Intersect_vs_NonIntersect_loss: 0.0000e+00 - M_cluster_vs_N_clusters_loss: 0.0000e+00 - Above_vs_Below_loss: 0.0000e+00 - Same_vs_Not_Same_loss: 0.0000e+00 - Size_big_vs_Small_loss: 0.0000e+00 - Symmetery_vs_Non_symmetery_loss: 0.0000e+00 - Horizontal_vs_Vertical_loss: 0.0000e+00 - Empty_vs_Non_Empty_loss: 0.0000e+00\n",
      "\n",
      "epoch 3 Head 9\n",
      "25/25 [==============================] - 0s 7ms/step - loss: 0.6931 - center_vs_notincenter_loss: 0.0000e+00 - circle_vs_notcircle_loss: 0.0000e+00 - Closed_vs_Open_figure_loss: 0.0000e+00 - Colinear_vs_Noncolinear_loss: 0.0000e+00 - Concave_vs_Convex_loss: 0.0000e+00 - Four_vs_notfour_side_loss: 0.0000e+00 - Triangle_vs_notTriangle_loss: 0.0000e+00 - Clockwise_vs_Anticlock_wise_loss: 0.0000e+00 - Left_vs_Right_loss: 0.0000e+00 - Parallel_vs_perpendicular_loss: 0.6931 - Filled_vs_Unfilled_loss: 0.0000e+00 - Complete_vs_Incomplete_loss: 0.0000e+00 - Intersect_vs_NonIntersect_loss: 0.0000e+00 - M_cluster_vs_N_clusters_loss: 0.0000e+00 - Above_vs_Below_loss: 0.0000e+00 - Same_vs_Not_Same_loss: 0.0000e+00 - Size_big_vs_Small_loss: 0.0000e+00 - Symmetery_vs_Non_symmetery_loss: 0.0000e+00 - Horizontal_vs_Vertical_loss: 0.0000e+00 - Empty_vs_Non_Empty_loss: 0.0000e+00\n",
      "\n",
      "epoch 3 Head 10\n",
      "55/55 [==============================] - 0s 7ms/step - loss: 0.6932 - center_vs_notincenter_loss: 0.0000e+00 - circle_vs_notcircle_loss: 0.0000e+00 - Closed_vs_Open_figure_loss: 0.0000e+00 - Colinear_vs_Noncolinear_loss: 0.0000e+00 - Concave_vs_Convex_loss: 0.0000e+00 - Four_vs_notfour_side_loss: 0.0000e+00 - Triangle_vs_notTriangle_loss: 0.0000e+00 - Clockwise_vs_Anticlock_wise_loss: 0.0000e+00 - Left_vs_Right_loss: 0.0000e+00 - Parallel_vs_perpendicular_loss: 0.0000e+00 - Filled_vs_Unfilled_loss: 0.6932 - Complete_vs_Incomplete_loss: 0.0000e+00 - Intersect_vs_NonIntersect_loss: 0.0000e+00 - M_cluster_vs_N_clusters_loss: 0.0000e+00 - Above_vs_Below_loss: 0.0000e+00 - Same_vs_Not_Same_loss: 0.0000e+00 - Size_big_vs_Small_loss: 0.0000e+00 - Symmetery_vs_Non_symmetery_loss: 0.0000e+00 - Horizontal_vs_Vertical_loss: 0.0000e+00 - Empty_vs_Non_Empty_loss: 0.0000e+00\n",
      "\n",
      "epoch 3 Head 11\n",
      "100/100 [==============================] - 1s 8ms/step - loss: 0.6932 - center_vs_notincenter_loss: 0.0000e+00 - circle_vs_notcircle_loss: 0.0000e+00 - Closed_vs_Open_figure_loss: 0.0000e+00 - Colinear_vs_Noncolinear_loss: 0.0000e+00 - Concave_vs_Convex_loss: 0.0000e+00 - Four_vs_notfour_side_loss: 0.0000e+00 - Triangle_vs_notTriangle_loss: 0.0000e+00 - Clockwise_vs_Anticlock_wise_loss: 0.0000e+00 - Left_vs_Right_loss: 0.0000e+00 - Parallel_vs_perpendicular_loss: 0.0000e+00 - Filled_vs_Unfilled_loss: 0.0000e+00 - Complete_vs_Incomplete_loss: 0.6932 - Intersect_vs_NonIntersect_loss: 0.0000e+00 - M_cluster_vs_N_clusters_loss: 0.0000e+00 - Above_vs_Below_loss: 0.0000e+00 - Same_vs_Not_Same_loss: 0.0000e+00 - Size_big_vs_Small_loss: 0.0000e+00 - Symmetery_vs_Non_symmetery_loss: 0.0000e+00 - Horizontal_vs_Vertical_loss: 0.0000e+00 - Empty_vs_Non_Empty_loss: 0.0000e+00\n",
      "\n",
      "epoch 3 Head 12\n",
      "112/112 [==============================] - 1s 8ms/step - loss: 0.6934 - center_vs_notincenter_loss: 0.0000e+00 - circle_vs_notcircle_loss: 0.0000e+00 - Closed_vs_Open_figure_loss: 0.0000e+00 - Colinear_vs_Noncolinear_loss: 0.0000e+00 - Concave_vs_Convex_loss: 0.0000e+00 - Four_vs_notfour_side_loss: 0.0000e+00 - Triangle_vs_notTriangle_loss: 0.0000e+00 - Clockwise_vs_Anticlock_wise_loss: 0.0000e+00 - Left_vs_Right_loss: 0.0000e+00 - Parallel_vs_perpendicular_loss: 0.0000e+00 - Filled_vs_Unfilled_loss: 0.0000e+00 - Complete_vs_Incomplete_loss: 0.0000e+00 - Intersect_vs_NonIntersect_loss: 0.6934 - M_cluster_vs_N_clusters_loss: 0.0000e+00 - Above_vs_Below_loss: 0.0000e+00 - Same_vs_Not_Same_loss: 0.0000e+00 - Size_big_vs_Small_loss: 0.0000e+00 - Symmetery_vs_Non_symmetery_loss: 0.0000e+00 - Horizontal_vs_Vertical_loss: 0.0000e+00 - Empty_vs_Non_Empty_loss: 0.0000e+00\n",
      "\n",
      "epoch 3 Head 13\n",
      "50/50 [==============================] - 0s 7ms/step - loss: 0.6933 - center_vs_notincenter_loss: 0.0000e+00 - circle_vs_notcircle_loss: 0.0000e+00 - Closed_vs_Open_figure_loss: 0.0000e+00 - Colinear_vs_Noncolinear_loss: 0.0000e+00 - Concave_vs_Convex_loss: 0.0000e+00 - Four_vs_notfour_side_loss: 0.0000e+00 - Triangle_vs_notTriangle_loss: 0.0000e+00 - Clockwise_vs_Anticlock_wise_loss: 0.0000e+00 - Left_vs_Right_loss: 0.0000e+00 - Parallel_vs_perpendicular_loss: 0.0000e+00 - Filled_vs_Unfilled_loss: 0.0000e+00 - Complete_vs_Incomplete_loss: 0.0000e+00 - Intersect_vs_NonIntersect_loss: 0.0000e+00 - M_cluster_vs_N_clusters_loss: 0.6933 - Above_vs_Below_loss: 0.0000e+00 - Same_vs_Not_Same_loss: 0.0000e+00 - Size_big_vs_Small_loss: 0.0000e+00 - Symmetery_vs_Non_symmetery_loss: 0.0000e+00 - Horizontal_vs_Vertical_loss: 0.0000e+00 - Empty_vs_Non_Empty_loss: 0.0000e+00\n",
      "\n",
      "epoch 3 Head 14\n",
      "60/60 [==============================] - 0s 7ms/step - loss: 0.6931 - center_vs_notincenter_loss: 0.0000e+00 - circle_vs_notcircle_loss: 0.0000e+00 - Closed_vs_Open_figure_loss: 0.0000e+00 - Colinear_vs_Noncolinear_loss: 0.0000e+00 - Concave_vs_Convex_loss: 0.0000e+00 - Four_vs_notfour_side_loss: 0.0000e+00 - Triangle_vs_notTriangle_loss: 0.0000e+00 - Clockwise_vs_Anticlock_wise_loss: 0.0000e+00 - Left_vs_Right_loss: 0.0000e+00 - Parallel_vs_perpendicular_loss: 0.0000e+00 - Filled_vs_Unfilled_loss: 0.0000e+00 - Complete_vs_Incomplete_loss: 0.0000e+00 - Intersect_vs_NonIntersect_loss: 0.0000e+00 - M_cluster_vs_N_clusters_loss: 0.0000e+00 - Above_vs_Below_loss: 0.6931 - Same_vs_Not_Same_loss: 0.0000e+00 - Size_big_vs_Small_loss: 0.0000e+00 - Symmetery_vs_Non_symmetery_loss: 0.0000e+00 - Horizontal_vs_Vertical_loss: 0.0000e+00 - Empty_vs_Non_Empty_loss: 0.0000e+00\n",
      "\n",
      "epoch 3 Head 15\n",
      "80/80 [==============================] - 1s 7ms/step - loss: 0.6931 - center_vs_notincenter_loss: 0.0000e+00 - circle_vs_notcircle_loss: 0.0000e+00 - Closed_vs_Open_figure_loss: 0.0000e+00 - Colinear_vs_Noncolinear_loss: 0.0000e+00 - Concave_vs_Convex_loss: 0.0000e+00 - Four_vs_notfour_side_loss: 0.0000e+00 - Triangle_vs_notTriangle_loss: 0.0000e+00 - Clockwise_vs_Anticlock_wise_loss: 0.0000e+00 - Left_vs_Right_loss: 0.0000e+00 - Parallel_vs_perpendicular_loss: 0.0000e+00 - Filled_vs_Unfilled_loss: 0.0000e+00 - Complete_vs_Incomplete_loss: 0.0000e+00 - Intersect_vs_NonIntersect_loss: 0.0000e+00 - M_cluster_vs_N_clusters_loss: 0.0000e+00 - Above_vs_Below_loss: 0.0000e+00 - Same_vs_Not_Same_loss: 0.6931 - Size_big_vs_Small_loss: 0.0000e+00 - Symmetery_vs_Non_symmetery_loss: 0.0000e+00 - Horizontal_vs_Vertical_loss: 0.0000e+00 - Empty_vs_Non_Empty_loss: 0.0000e+00\n",
      "\n",
      "epoch 3 Head 16\n",
      "50/50 [==============================] - 0s 7ms/step - loss: 0.6933 - center_vs_notincenter_loss: 0.0000e+00 - circle_vs_notcircle_loss: 0.0000e+00 - Closed_vs_Open_figure_loss: 0.0000e+00 - Colinear_vs_Noncolinear_loss: 0.0000e+00 - Concave_vs_Convex_loss: 0.0000e+00 - Four_vs_notfour_side_loss: 0.0000e+00 - Triangle_vs_notTriangle_loss: 0.0000e+00 - Clockwise_vs_Anticlock_wise_loss: 0.0000e+00 - Left_vs_Right_loss: 0.0000e+00 - Parallel_vs_perpendicular_loss: 0.0000e+00 - Filled_vs_Unfilled_loss: 0.0000e+00 - Complete_vs_Incomplete_loss: 0.0000e+00 - Intersect_vs_NonIntersect_loss: 0.0000e+00 - M_cluster_vs_N_clusters_loss: 0.0000e+00 - Above_vs_Below_loss: 0.0000e+00 - Same_vs_Not_Same_loss: 0.0000e+00 - Size_big_vs_Small_loss: 0.6933 - Symmetery_vs_Non_symmetery_loss: 0.0000e+00 - Horizontal_vs_Vertical_loss: 0.0000e+00 - Empty_vs_Non_Empty_loss: 0.0000e+00\n",
      "\n",
      "epoch 3 Head 17\n",
      "137/137 [==============================] - 1s 7ms/step - loss: 0.6932 - center_vs_notincenter_loss: 0.0000e+00 - circle_vs_notcircle_loss: 0.0000e+00 - Closed_vs_Open_figure_loss: 0.0000e+00 - Colinear_vs_Noncolinear_loss: 0.0000e+00 - Concave_vs_Convex_loss: 0.0000e+00 - Four_vs_notfour_side_loss: 0.0000e+00 - Triangle_vs_notTriangle_loss: 0.0000e+00 - Clockwise_vs_Anticlock_wise_loss: 0.0000e+00 - Left_vs_Right_loss: 0.0000e+00 - Parallel_vs_perpendicular_loss: 0.0000e+00 - Filled_vs_Unfilled_loss: 0.0000e+00 - Complete_vs_Incomplete_loss: 0.0000e+00 - Intersect_vs_NonIntersect_loss: 0.0000e+00 - M_cluster_vs_N_clusters_loss: 0.0000e+00 - Above_vs_Below_loss: 0.0000e+00 - Same_vs_Not_Same_loss: 0.0000e+00 - Size_big_vs_Small_loss: 0.0000e+00 - Symmetery_vs_Non_symmetery_loss: 0.6932 - Horizontal_vs_Vertical_loss: 0.0000e+00 - Empty_vs_Non_Empty_loss: 0.0000e+00\n",
      "\n",
      "epoch 3 Head 18\n",
      "50/50 [==============================] - 0s 7ms/step - loss: 0.6934 - center_vs_notincenter_loss: 0.0000e+00 - circle_vs_notcircle_loss: 0.0000e+00 - Closed_vs_Open_figure_loss: 0.0000e+00 - Colinear_vs_Noncolinear_loss: 0.0000e+00 - Concave_vs_Convex_loss: 0.0000e+00 - Four_vs_notfour_side_loss: 0.0000e+00 - Triangle_vs_notTriangle_loss: 0.0000e+00 - Clockwise_vs_Anticlock_wise_loss: 0.0000e+00 - Left_vs_Right_loss: 0.0000e+00 - Parallel_vs_perpendicular_loss: 0.0000e+00 - Filled_vs_Unfilled_loss: 0.0000e+00 - Complete_vs_Incomplete_loss: 0.0000e+00 - Intersect_vs_NonIntersect_loss: 0.0000e+00 - M_cluster_vs_N_clusters_loss: 0.0000e+00 - Above_vs_Below_loss: 0.0000e+00 - Same_vs_Not_Same_loss: 0.0000e+00 - Size_big_vs_Small_loss: 0.0000e+00 - Symmetery_vs_Non_symmetery_loss: 0.0000e+00 - Horizontal_vs_Vertical_loss: 0.6934 - Empty_vs_Non_Empty_loss: 0.0000e+00\n",
      "\n",
      "epoch 3 Head 19\n",
      "25/25 [==============================] - 0s 8ms/step - loss: 0.6888 - center_vs_notincenter_loss: 0.0000e+00 - circle_vs_notcircle_loss: 0.0000e+00 - Closed_vs_Open_figure_loss: 0.0000e+00 - Colinear_vs_Noncolinear_loss: 0.0000e+00 - Concave_vs_Convex_loss: 0.0000e+00 - Four_vs_notfour_side_loss: 0.0000e+00 - Triangle_vs_notTriangle_loss: 0.0000e+00 - Clockwise_vs_Anticlock_wise_loss: 0.0000e+00 - Left_vs_Right_loss: 0.0000e+00 - Parallel_vs_perpendicular_loss: 0.0000e+00 - Filled_vs_Unfilled_loss: 0.0000e+00 - Complete_vs_Incomplete_loss: 0.0000e+00 - Intersect_vs_NonIntersect_loss: 0.0000e+00 - M_cluster_vs_N_clusters_loss: 0.0000e+00 - Above_vs_Below_loss: 0.0000e+00 - Same_vs_Not_Same_loss: 0.0000e+00 - Size_big_vs_Small_loss: 0.0000e+00 - Symmetery_vs_Non_symmetery_loss: 0.0000e+00 - Horizontal_vs_Vertical_loss: 0.0000e+00 - Empty_vs_Non_Empty_loss: 0.6888\n",
      "\n",
      "epoch 4 Head 0\n",
      "115/115 [==============================] - 1s 7ms/step - loss: 0.5962 - center_vs_notincenter_loss: 0.5962 - circle_vs_notcircle_loss: 0.0000e+00 - Closed_vs_Open_figure_loss: 0.0000e+00 - Colinear_vs_Noncolinear_loss: 0.0000e+00 - Concave_vs_Convex_loss: 0.0000e+00 - Four_vs_notfour_side_loss: 0.0000e+00 - Triangle_vs_notTriangle_loss: 0.0000e+00 - Clockwise_vs_Anticlock_wise_loss: 0.0000e+00 - Left_vs_Right_loss: 0.0000e+00 - Parallel_vs_perpendicular_loss: 0.0000e+00 - Filled_vs_Unfilled_loss: 0.0000e+00 - Complete_vs_Incomplete_loss: 0.0000e+00 - Intersect_vs_NonIntersect_loss: 0.0000e+00 - M_cluster_vs_N_clusters_loss: 0.0000e+00 - Above_vs_Below_loss: 0.0000e+00 - Same_vs_Not_Same_loss: 0.0000e+00 - Size_big_vs_Small_loss: 0.0000e+00 - Symmetery_vs_Non_symmetery_loss: 0.0000e+00 - Horizontal_vs_Vertical_loss: 0.0000e+00 - Empty_vs_Non_Empty_loss: 0.0000e+00\n",
      "\n",
      "epoch 4 Head 1\n",
      "50/50 [==============================] - 0s 7ms/step - loss: 0.5173 - center_vs_notincenter_loss: 0.0000e+00 - circle_vs_notcircle_loss: 0.5173 - Closed_vs_Open_figure_loss: 0.0000e+00 - Colinear_vs_Noncolinear_loss: 0.0000e+00 - Concave_vs_Convex_loss: 0.0000e+00 - Four_vs_notfour_side_loss: 0.0000e+00 - Triangle_vs_notTriangle_loss: 0.0000e+00 - Clockwise_vs_Anticlock_wise_loss: 0.0000e+00 - Left_vs_Right_loss: 0.0000e+00 - Parallel_vs_perpendicular_loss: 0.0000e+00 - Filled_vs_Unfilled_loss: 0.0000e+00 - Complete_vs_Incomplete_loss: 0.0000e+00 - Intersect_vs_NonIntersect_loss: 0.0000e+00 - M_cluster_vs_N_clusters_loss: 0.0000e+00 - Above_vs_Below_loss: 0.0000e+00 - Same_vs_Not_Same_loss: 0.0000e+00 - Size_big_vs_Small_loss: 0.0000e+00 - Symmetery_vs_Non_symmetery_loss: 0.0000e+00 - Horizontal_vs_Vertical_loss: 0.0000e+00 - Empty_vs_Non_Empty_loss: 0.0000e+00\n",
      "\n",
      "epoch 4 Head 2\n",
      "39/39 [==============================] - 0s 7ms/step - loss: 0.5536 - center_vs_notincenter_loss: 0.0000e+00 - circle_vs_notcircle_loss: 0.0000e+00 - Closed_vs_Open_figure_loss: 0.5536 - Colinear_vs_Noncolinear_loss: 0.0000e+00 - Concave_vs_Convex_loss: 0.0000e+00 - Four_vs_notfour_side_loss: 0.0000e+00 - Triangle_vs_notTriangle_loss: 0.0000e+00 - Clockwise_vs_Anticlock_wise_loss: 0.0000e+00 - Left_vs_Right_loss: 0.0000e+00 - Parallel_vs_perpendicular_loss: 0.0000e+00 - Filled_vs_Unfilled_loss: 0.0000e+00 - Complete_vs_Incomplete_loss: 0.0000e+00 - Intersect_vs_NonIntersect_loss: 0.0000e+00 - M_cluster_vs_N_clusters_loss: 0.0000e+00 - Above_vs_Below_loss: 0.0000e+00 - Same_vs_Not_Same_loss: 0.0000e+00 - Size_big_vs_Small_loss: 0.0000e+00 - Symmetery_vs_Non_symmetery_loss: 0.0000e+00 - Horizontal_vs_Vertical_loss: 0.0000e+00 - Empty_vs_Non_Empty_loss: 0.0000e+00\n",
      "\n",
      "epoch 4 Head 3\n",
      "50/50 [==============================] - 0s 7ms/step - loss: 0.7415 - center_vs_notincenter_loss: 0.0000e+00 - circle_vs_notcircle_loss: 0.0000e+00 - Closed_vs_Open_figure_loss: 0.0000e+00 - Colinear_vs_Noncolinear_loss: 0.7415 - Concave_vs_Convex_loss: 0.0000e+00 - Four_vs_notfour_side_loss: 0.0000e+00 - Triangle_vs_notTriangle_loss: 0.0000e+00 - Clockwise_vs_Anticlock_wise_loss: 0.0000e+00 - Left_vs_Right_loss: 0.0000e+00 - Parallel_vs_perpendicular_loss: 0.0000e+00 - Filled_vs_Unfilled_loss: 0.0000e+00 - Complete_vs_Incomplete_loss: 0.0000e+00 - Intersect_vs_NonIntersect_loss: 0.0000e+00 - M_cluster_vs_N_clusters_loss: 0.0000e+00 - Above_vs_Below_loss: 0.0000e+00 - Same_vs_Not_Same_loss: 0.0000e+00 - Size_big_vs_Small_loss: 0.0000e+00 - Symmetery_vs_Non_symmetery_loss: 0.0000e+00 - Horizontal_vs_Vertical_loss: 0.0000e+00 - Empty_vs_Non_Empty_loss: 0.0000e+00\n",
      "\n",
      "epoch 4 Head 4\n",
      "50/50 [==============================] - 0s 7ms/step - loss: 0.6946 - center_vs_notincenter_loss: 0.0000e+00 - circle_vs_notcircle_loss: 0.0000e+00 - Closed_vs_Open_figure_loss: 0.0000e+00 - Colinear_vs_Noncolinear_loss: 0.0000e+00 - Concave_vs_Convex_loss: 0.6946 - Four_vs_notfour_side_loss: 0.0000e+00 - Triangle_vs_notTriangle_loss: 0.0000e+00 - Clockwise_vs_Anticlock_wise_loss: 0.0000e+00 - Left_vs_Right_loss: 0.0000e+00 - Parallel_vs_perpendicular_loss: 0.0000e+00 - Filled_vs_Unfilled_loss: 0.0000e+00 - Complete_vs_Incomplete_loss: 0.0000e+00 - Intersect_vs_NonIntersect_loss: 0.0000e+00 - M_cluster_vs_N_clusters_loss: 0.0000e+00 - Above_vs_Below_loss: 0.0000e+00 - Same_vs_Not_Same_loss: 0.0000e+00 - Size_big_vs_Small_loss: 0.0000e+00 - Symmetery_vs_Non_symmetery_loss: 0.0000e+00 - Horizontal_vs_Vertical_loss: 0.0000e+00 - Empty_vs_Non_Empty_loss: 0.0000e+00\n",
      "\n",
      "epoch 4 Head 5\n",
      "175/175 [==============================] - 1s 7ms/step - loss: 0.6939 - center_vs_notincenter_loss: 0.0000e+00 - circle_vs_notcircle_loss: 0.0000e+00 - Closed_vs_Open_figure_loss: 0.0000e+00 - Colinear_vs_Noncolinear_loss: 0.0000e+00 - Concave_vs_Convex_loss: 0.0000e+00 - Four_vs_notfour_side_loss: 0.6939 - Triangle_vs_notTriangle_loss: 0.0000e+00 - Clockwise_vs_Anticlock_wise_loss: 0.0000e+00 - Left_vs_Right_loss: 0.0000e+00 - Parallel_vs_perpendicular_loss: 0.0000e+00 - Filled_vs_Unfilled_loss: 0.0000e+00 - Complete_vs_Incomplete_loss: 0.0000e+00 - Intersect_vs_NonIntersect_loss: 0.0000e+00 - M_cluster_vs_N_clusters_loss: 0.0000e+00 - Above_vs_Below_loss: 0.0000e+00 - Same_vs_Not_Same_loss: 0.0000e+00 - Size_big_vs_Small_loss: 0.0000e+00 - Symmetery_vs_Non_symmetery_loss: 0.0000e+00 - Horizontal_vs_Vertical_loss: 0.0000e+00 - Empty_vs_Non_Empty_loss: 0.0000e+00\n",
      "\n",
      "epoch 4 Head 6\n",
      "175/175 [==============================] - 1s 7ms/step - loss: 0.6932 - center_vs_notincenter_loss: 0.0000e+00 - circle_vs_notcircle_loss: 0.0000e+00 - Closed_vs_Open_figure_loss: 0.0000e+00 - Colinear_vs_Noncolinear_loss: 0.0000e+00 - Concave_vs_Convex_loss: 0.0000e+00 - Four_vs_notfour_side_loss: 0.0000e+00 - Triangle_vs_notTriangle_loss: 0.6932 - Clockwise_vs_Anticlock_wise_loss: 0.0000e+00 - Left_vs_Right_loss: 0.0000e+00 - Parallel_vs_perpendicular_loss: 0.0000e+00 - Filled_vs_Unfilled_loss: 0.0000e+00 - Complete_vs_Incomplete_loss: 0.0000e+00 - Intersect_vs_NonIntersect_loss: 0.0000e+00 - M_cluster_vs_N_clusters_loss: 0.0000e+00 - Above_vs_Below_loss: 0.0000e+00 - Same_vs_Not_Same_loss: 0.0000e+00 - Size_big_vs_Small_loss: 0.0000e+00 - Symmetery_vs_Non_symmetery_loss: 0.0000e+00 - Horizontal_vs_Vertical_loss: 0.0000e+00 - Empty_vs_Non_Empty_loss: 0.0000e+00\n",
      "\n",
      "epoch 4 Head 7\n",
      "75/75 [==============================] - 1s 7ms/step - loss: 0.6931 - center_vs_notincenter_loss: 0.0000e+00 - circle_vs_notcircle_loss: 0.0000e+00 - Closed_vs_Open_figure_loss: 0.0000e+00 - Colinear_vs_Noncolinear_loss: 0.0000e+00 - Concave_vs_Convex_loss: 0.0000e+00 - Four_vs_notfour_side_loss: 0.0000e+00 - Triangle_vs_notTriangle_loss: 0.0000e+00 - Clockwise_vs_Anticlock_wise_loss: 0.6931 - Left_vs_Right_loss: 0.0000e+00 - Parallel_vs_perpendicular_loss: 0.0000e+00 - Filled_vs_Unfilled_loss: 0.0000e+00 - Complete_vs_Incomplete_loss: 0.0000e+00 - Intersect_vs_NonIntersect_loss: 0.0000e+00 - M_cluster_vs_N_clusters_loss: 0.0000e+00 - Above_vs_Below_loss: 0.0000e+00 - Same_vs_Not_Same_loss: 0.0000e+00 - Size_big_vs_Small_loss: 0.0000e+00 - Symmetery_vs_Non_symmetery_loss: 0.0000e+00 - Horizontal_vs_Vertical_loss: 0.0000e+00 - Empty_vs_Non_Empty_loss: 0.0000e+00\n",
      "\n",
      "epoch 4 Head 8\n",
      "63/63 [==============================] - 1s 8ms/step - loss: 0.6756 - center_vs_notincenter_loss: 0.0000e+00 - circle_vs_notcircle_loss: 0.0000e+00 - Closed_vs_Open_figure_loss: 0.0000e+00 - Colinear_vs_Noncolinear_loss: 0.0000e+00 - Concave_vs_Convex_loss: 0.0000e+00 - Four_vs_notfour_side_loss: 0.0000e+00 - Triangle_vs_notTriangle_loss: 0.0000e+00 - Clockwise_vs_Anticlock_wise_loss: 0.0000e+00 - Left_vs_Right_loss: 0.6756 - Parallel_vs_perpendicular_loss: 0.0000e+00 - Filled_vs_Unfilled_loss: 0.0000e+00 - Complete_vs_Incomplete_loss: 0.0000e+00 - Intersect_vs_NonIntersect_loss: 0.0000e+00 - M_cluster_vs_N_clusters_loss: 0.0000e+00 - Above_vs_Below_loss: 0.0000e+00 - Same_vs_Not_Same_loss: 0.0000e+00 - Size_big_vs_Small_loss: 0.0000e+00 - Symmetery_vs_Non_symmetery_loss: 0.0000e+00 - Horizontal_vs_Vertical_loss: 0.0000e+00 - Empty_vs_Non_Empty_loss: 0.0000e+00\n",
      "\n",
      "epoch 4 Head 9\n",
      "25/25 [==============================] - 0s 8ms/step - loss: 0.6932 - center_vs_notincenter_loss: 0.0000e+00 - circle_vs_notcircle_loss: 0.0000e+00 - Closed_vs_Open_figure_loss: 0.0000e+00 - Colinear_vs_Noncolinear_loss: 0.0000e+00 - Concave_vs_Convex_loss: 0.0000e+00 - Four_vs_notfour_side_loss: 0.0000e+00 - Triangle_vs_notTriangle_loss: 0.0000e+00 - Clockwise_vs_Anticlock_wise_loss: 0.0000e+00 - Left_vs_Right_loss: 0.0000e+00 - Parallel_vs_perpendicular_loss: 0.6932 - Filled_vs_Unfilled_loss: 0.0000e+00 - Complete_vs_Incomplete_loss: 0.0000e+00 - Intersect_vs_NonIntersect_loss: 0.0000e+00 - M_cluster_vs_N_clusters_loss: 0.0000e+00 - Above_vs_Below_loss: 0.0000e+00 - Same_vs_Not_Same_loss: 0.0000e+00 - Size_big_vs_Small_loss: 0.0000e+00 - Symmetery_vs_Non_symmetery_loss: 0.0000e+00 - Horizontal_vs_Vertical_loss: 0.0000e+00 - Empty_vs_Non_Empty_loss: 0.0000e+00\n",
      "\n",
      "epoch 4 Head 10\n",
      "55/55 [==============================] - 0s 7ms/step - loss: 0.6932 - center_vs_notincenter_loss: 0.0000e+00 - circle_vs_notcircle_loss: 0.0000e+00 - Closed_vs_Open_figure_loss: 0.0000e+00 - Colinear_vs_Noncolinear_loss: 0.0000e+00 - Concave_vs_Convex_loss: 0.0000e+00 - Four_vs_notfour_side_loss: 0.0000e+00 - Triangle_vs_notTriangle_loss: 0.0000e+00 - Clockwise_vs_Anticlock_wise_loss: 0.0000e+00 - Left_vs_Right_loss: 0.0000e+00 - Parallel_vs_perpendicular_loss: 0.0000e+00 - Filled_vs_Unfilled_loss: 0.6932 - Complete_vs_Incomplete_loss: 0.0000e+00 - Intersect_vs_NonIntersect_loss: 0.0000e+00 - M_cluster_vs_N_clusters_loss: 0.0000e+00 - Above_vs_Below_loss: 0.0000e+00 - Same_vs_Not_Same_loss: 0.0000e+00 - Size_big_vs_Small_loss: 0.0000e+00 - Symmetery_vs_Non_symmetery_loss: 0.0000e+00 - Horizontal_vs_Vertical_loss: 0.0000e+00 - Empty_vs_Non_Empty_loss: 0.0000e+00\n",
      "\n",
      "epoch 4 Head 11\n",
      "100/100 [==============================] - 1s 7ms/step - loss: 0.6931 - center_vs_notincenter_loss: 0.0000e+00 - circle_vs_notcircle_loss: 0.0000e+00 - Closed_vs_Open_figure_loss: 0.0000e+00 - Colinear_vs_Noncolinear_loss: 0.0000e+00 - Concave_vs_Convex_loss: 0.0000e+00 - Four_vs_notfour_side_loss: 0.0000e+00 - Triangle_vs_notTriangle_loss: 0.0000e+00 - Clockwise_vs_Anticlock_wise_loss: 0.0000e+00 - Left_vs_Right_loss: 0.0000e+00 - Parallel_vs_perpendicular_loss: 0.0000e+00 - Filled_vs_Unfilled_loss: 0.0000e+00 - Complete_vs_Incomplete_loss: 0.6931 - Intersect_vs_NonIntersect_loss: 0.0000e+00 - M_cluster_vs_N_clusters_loss: 0.0000e+00 - Above_vs_Below_loss: 0.0000e+00 - Same_vs_Not_Same_loss: 0.0000e+00 - Size_big_vs_Small_loss: 0.0000e+00 - Symmetery_vs_Non_symmetery_loss: 0.0000e+00 - Horizontal_vs_Vertical_loss: 0.0000e+00 - Empty_vs_Non_Empty_loss: 0.0000e+00\n",
      "\n",
      "epoch 4 Head 12\n",
      "112/112 [==============================] - 1s 7ms/step - loss: 0.6932 - center_vs_notincenter_loss: 0.0000e+00 - circle_vs_notcircle_loss: 0.0000e+00 - Closed_vs_Open_figure_loss: 0.0000e+00 - Colinear_vs_Noncolinear_loss: 0.0000e+00 - Concave_vs_Convex_loss: 0.0000e+00 - Four_vs_notfour_side_loss: 0.0000e+00 - Triangle_vs_notTriangle_loss: 0.0000e+00 - Clockwise_vs_Anticlock_wise_loss: 0.0000e+00 - Left_vs_Right_loss: 0.0000e+00 - Parallel_vs_perpendicular_loss: 0.0000e+00 - Filled_vs_Unfilled_loss: 0.0000e+00 - Complete_vs_Incomplete_loss: 0.0000e+00 - Intersect_vs_NonIntersect_loss: 0.6932 - M_cluster_vs_N_clusters_loss: 0.0000e+00 - Above_vs_Below_loss: 0.0000e+00 - Same_vs_Not_Same_loss: 0.0000e+00 - Size_big_vs_Small_loss: 0.0000e+00 - Symmetery_vs_Non_symmetery_loss: 0.0000e+00 - Horizontal_vs_Vertical_loss: 0.0000e+00 - Empty_vs_Non_Empty_loss: 0.0000e+00\n",
      "\n",
      "epoch 4 Head 13\n",
      "50/50 [==============================] - 0s 7ms/step - loss: 0.6932 - center_vs_notincenter_loss: 0.0000e+00 - circle_vs_notcircle_loss: 0.0000e+00 - Closed_vs_Open_figure_loss: 0.0000e+00 - Colinear_vs_Noncolinear_loss: 0.0000e+00 - Concave_vs_Convex_loss: 0.0000e+00 - Four_vs_notfour_side_loss: 0.0000e+00 - Triangle_vs_notTriangle_loss: 0.0000e+00 - Clockwise_vs_Anticlock_wise_loss: 0.0000e+00 - Left_vs_Right_loss: 0.0000e+00 - Parallel_vs_perpendicular_loss: 0.0000e+00 - Filled_vs_Unfilled_loss: 0.0000e+00 - Complete_vs_Incomplete_loss: 0.0000e+00 - Intersect_vs_NonIntersect_loss: 0.0000e+00 - M_cluster_vs_N_clusters_loss: 0.6932 - Above_vs_Below_loss: 0.0000e+00 - Same_vs_Not_Same_loss: 0.0000e+00 - Size_big_vs_Small_loss: 0.0000e+00 - Symmetery_vs_Non_symmetery_loss: 0.0000e+00 - Horizontal_vs_Vertical_loss: 0.0000e+00 - Empty_vs_Non_Empty_loss: 0.0000e+00\n",
      "\n",
      "epoch 4 Head 14\n",
      "60/60 [==============================] - 0s 7ms/step - loss: 0.6932 - center_vs_notincenter_loss: 0.0000e+00 - circle_vs_notcircle_loss: 0.0000e+00 - Closed_vs_Open_figure_loss: 0.0000e+00 - Colinear_vs_Noncolinear_loss: 0.0000e+00 - Concave_vs_Convex_loss: 0.0000e+00 - Four_vs_notfour_side_loss: 0.0000e+00 - Triangle_vs_notTriangle_loss: 0.0000e+00 - Clockwise_vs_Anticlock_wise_loss: 0.0000e+00 - Left_vs_Right_loss: 0.0000e+00 - Parallel_vs_perpendicular_loss: 0.0000e+00 - Filled_vs_Unfilled_loss: 0.0000e+00 - Complete_vs_Incomplete_loss: 0.0000e+00 - Intersect_vs_NonIntersect_loss: 0.0000e+00 - M_cluster_vs_N_clusters_loss: 0.0000e+00 - Above_vs_Below_loss: 0.6932 - Same_vs_Not_Same_loss: 0.0000e+00 - Size_big_vs_Small_loss: 0.0000e+00 - Symmetery_vs_Non_symmetery_loss: 0.0000e+00 - Horizontal_vs_Vertical_loss: 0.0000e+00 - Empty_vs_Non_Empty_loss: 0.0000e+00\n",
      "\n",
      "epoch 4 Head 15\n",
      "80/80 [==============================] - 1s 7ms/step - loss: 0.6930 - center_vs_notincenter_loss: 0.0000e+00 - circle_vs_notcircle_loss: 0.0000e+00 - Closed_vs_Open_figure_loss: 0.0000e+00 - Colinear_vs_Noncolinear_loss: 0.0000e+00 - Concave_vs_Convex_loss: 0.0000e+00 - Four_vs_notfour_side_loss: 0.0000e+00 - Triangle_vs_notTriangle_loss: 0.0000e+00 - Clockwise_vs_Anticlock_wise_loss: 0.0000e+00 - Left_vs_Right_loss: 0.0000e+00 - Parallel_vs_perpendicular_loss: 0.0000e+00 - Filled_vs_Unfilled_loss: 0.0000e+00 - Complete_vs_Incomplete_loss: 0.0000e+00 - Intersect_vs_NonIntersect_loss: 0.0000e+00 - M_cluster_vs_N_clusters_loss: 0.0000e+00 - Above_vs_Below_loss: 0.0000e+00 - Same_vs_Not_Same_loss: 0.6930 - Size_big_vs_Small_loss: 0.0000e+00 - Symmetery_vs_Non_symmetery_loss: 0.0000e+00 - Horizontal_vs_Vertical_loss: 0.0000e+00 - Empty_vs_Non_Empty_loss: 0.0000e+00\n",
      "\n",
      "epoch 4 Head 16\n",
      "50/50 [==============================] - 0s 7ms/step - loss: 0.6932 - center_vs_notincenter_loss: 0.0000e+00 - circle_vs_notcircle_loss: 0.0000e+00 - Closed_vs_Open_figure_loss: 0.0000e+00 - Colinear_vs_Noncolinear_loss: 0.0000e+00 - Concave_vs_Convex_loss: 0.0000e+00 - Four_vs_notfour_side_loss: 0.0000e+00 - Triangle_vs_notTriangle_loss: 0.0000e+00 - Clockwise_vs_Anticlock_wise_loss: 0.0000e+00 - Left_vs_Right_loss: 0.0000e+00 - Parallel_vs_perpendicular_loss: 0.0000e+00 - Filled_vs_Unfilled_loss: 0.0000e+00 - Complete_vs_Incomplete_loss: 0.0000e+00 - Intersect_vs_NonIntersect_loss: 0.0000e+00 - M_cluster_vs_N_clusters_loss: 0.0000e+00 - Above_vs_Below_loss: 0.0000e+00 - Same_vs_Not_Same_loss: 0.0000e+00 - Size_big_vs_Small_loss: 0.6932 - Symmetery_vs_Non_symmetery_loss: 0.0000e+00 - Horizontal_vs_Vertical_loss: 0.0000e+00 - Empty_vs_Non_Empty_loss: 0.0000e+00\n",
      "\n",
      "epoch 4 Head 17\n",
      "137/137 [==============================] - 1s 7ms/step - loss: 0.6932 - center_vs_notincenter_loss: 0.0000e+00 - circle_vs_notcircle_loss: 0.0000e+00 - Closed_vs_Open_figure_loss: 0.0000e+00 - Colinear_vs_Noncolinear_loss: 0.0000e+00 - Concave_vs_Convex_loss: 0.0000e+00 - Four_vs_notfour_side_loss: 0.0000e+00 - Triangle_vs_notTriangle_loss: 0.0000e+00 - Clockwise_vs_Anticlock_wise_loss: 0.0000e+00 - Left_vs_Right_loss: 0.0000e+00 - Parallel_vs_perpendicular_loss: 0.0000e+00 - Filled_vs_Unfilled_loss: 0.0000e+00 - Complete_vs_Incomplete_loss: 0.0000e+00 - Intersect_vs_NonIntersect_loss: 0.0000e+00 - M_cluster_vs_N_clusters_loss: 0.0000e+00 - Above_vs_Below_loss: 0.0000e+00 - Same_vs_Not_Same_loss: 0.0000e+00 - Size_big_vs_Small_loss: 0.0000e+00 - Symmetery_vs_Non_symmetery_loss: 0.6932 - Horizontal_vs_Vertical_loss: 0.0000e+00 - Empty_vs_Non_Empty_loss: 0.0000e+00\n",
      "\n",
      "epoch 4 Head 18\n",
      "50/50 [==============================] - 0s 7ms/step - loss: 0.6932 - center_vs_notincenter_loss: 0.0000e+00 - circle_vs_notcircle_loss: 0.0000e+00 - Closed_vs_Open_figure_loss: 0.0000e+00 - Colinear_vs_Noncolinear_loss: 0.0000e+00 - Concave_vs_Convex_loss: 0.0000e+00 - Four_vs_notfour_side_loss: 0.0000e+00 - Triangle_vs_notTriangle_loss: 0.0000e+00 - Clockwise_vs_Anticlock_wise_loss: 0.0000e+00 - Left_vs_Right_loss: 0.0000e+00 - Parallel_vs_perpendicular_loss: 0.0000e+00 - Filled_vs_Unfilled_loss: 0.0000e+00 - Complete_vs_Incomplete_loss: 0.0000e+00 - Intersect_vs_NonIntersect_loss: 0.0000e+00 - M_cluster_vs_N_clusters_loss: 0.0000e+00 - Above_vs_Below_loss: 0.0000e+00 - Same_vs_Not_Same_loss: 0.0000e+00 - Size_big_vs_Small_loss: 0.0000e+00 - Symmetery_vs_Non_symmetery_loss: 0.0000e+00 - Horizontal_vs_Vertical_loss: 0.6932 - Empty_vs_Non_Empty_loss: 0.0000e+00\n",
      "\n",
      "epoch 4 Head 19\n",
      "25/25 [==============================] - 0s 7ms/step - loss: 0.6933 - center_vs_notincenter_loss: 0.0000e+00 - circle_vs_notcircle_loss: 0.0000e+00 - Closed_vs_Open_figure_loss: 0.0000e+00 - Colinear_vs_Noncolinear_loss: 0.0000e+00 - Concave_vs_Convex_loss: 0.0000e+00 - Four_vs_notfour_side_loss: 0.0000e+00 - Triangle_vs_notTriangle_loss: 0.0000e+00 - Clockwise_vs_Anticlock_wise_loss: 0.0000e+00 - Left_vs_Right_loss: 0.0000e+00 - Parallel_vs_perpendicular_loss: 0.0000e+00 - Filled_vs_Unfilled_loss: 0.0000e+00 - Complete_vs_Incomplete_loss: 0.0000e+00 - Intersect_vs_NonIntersect_loss: 0.0000e+00 - M_cluster_vs_N_clusters_loss: 0.0000e+00 - Above_vs_Below_loss: 0.0000e+00 - Same_vs_Not_Same_loss: 0.0000e+00 - Size_big_vs_Small_loss: 0.0000e+00 - Symmetery_vs_Non_symmetery_loss: 0.0000e+00 - Horizontal_vs_Vertical_loss: 0.0000e+00 - Empty_vs_Non_Empty_loss: 0.6933\n",
      "\n",
      "epoch 5 Head 0\n",
      "115/115 [==============================] - 1s 7ms/step - loss: 0.5582 - center_vs_notincenter_loss: 0.5582 - circle_vs_notcircle_loss: 0.0000e+00 - Closed_vs_Open_figure_loss: 0.0000e+00 - Colinear_vs_Noncolinear_loss: 0.0000e+00 - Concave_vs_Convex_loss: 0.0000e+00 - Four_vs_notfour_side_loss: 0.0000e+00 - Triangle_vs_notTriangle_loss: 0.0000e+00 - Clockwise_vs_Anticlock_wise_loss: 0.0000e+00 - Left_vs_Right_loss: 0.0000e+00 - Parallel_vs_perpendicular_loss: 0.0000e+00 - Filled_vs_Unfilled_loss: 0.0000e+00 - Complete_vs_Incomplete_loss: 0.0000e+00 - Intersect_vs_NonIntersect_loss: 0.0000e+00 - M_cluster_vs_N_clusters_loss: 0.0000e+00 - Above_vs_Below_loss: 0.0000e+00 - Same_vs_Not_Same_loss: 0.0000e+00 - Size_big_vs_Small_loss: 0.0000e+00 - Symmetery_vs_Non_symmetery_loss: 0.0000e+00 - Horizontal_vs_Vertical_loss: 0.0000e+00 - Empty_vs_Non_Empty_loss: 0.0000e+00\n",
      "\n",
      "epoch 5 Head 1\n",
      "50/50 [==============================] - 0s 7ms/step - loss: 0.6309 - center_vs_notincenter_loss: 0.0000e+00 - circle_vs_notcircle_loss: 0.6309 - Closed_vs_Open_figure_loss: 0.0000e+00 - Colinear_vs_Noncolinear_loss: 0.0000e+00 - Concave_vs_Convex_loss: 0.0000e+00 - Four_vs_notfour_side_loss: 0.0000e+00 - Triangle_vs_notTriangle_loss: 0.0000e+00 - Clockwise_vs_Anticlock_wise_loss: 0.0000e+00 - Left_vs_Right_loss: 0.0000e+00 - Parallel_vs_perpendicular_loss: 0.0000e+00 - Filled_vs_Unfilled_loss: 0.0000e+00 - Complete_vs_Incomplete_loss: 0.0000e+00 - Intersect_vs_NonIntersect_loss: 0.0000e+00 - M_cluster_vs_N_clusters_loss: 0.0000e+00 - Above_vs_Below_loss: 0.0000e+00 - Same_vs_Not_Same_loss: 0.0000e+00 - Size_big_vs_Small_loss: 0.0000e+00 - Symmetery_vs_Non_symmetery_loss: 0.0000e+00 - Horizontal_vs_Vertical_loss: 0.0000e+00 - Empty_vs_Non_Empty_loss: 0.0000e+00\n",
      "\n",
      "epoch 5 Head 2\n",
      "39/39 [==============================] - 0s 8ms/step - loss: 0.5116 - center_vs_notincenter_loss: 0.0000e+00 - circle_vs_notcircle_loss: 0.0000e+00 - Closed_vs_Open_figure_loss: 0.5116 - Colinear_vs_Noncolinear_loss: 0.0000e+00 - Concave_vs_Convex_loss: 0.0000e+00 - Four_vs_notfour_side_loss: 0.0000e+00 - Triangle_vs_notTriangle_loss: 0.0000e+00 - Clockwise_vs_Anticlock_wise_loss: 0.0000e+00 - Left_vs_Right_loss: 0.0000e+00 - Parallel_vs_perpendicular_loss: 0.0000e+00 - Filled_vs_Unfilled_loss: 0.0000e+00 - Complete_vs_Incomplete_loss: 0.0000e+00 - Intersect_vs_NonIntersect_loss: 0.0000e+00 - M_cluster_vs_N_clusters_loss: 0.0000e+00 - Above_vs_Below_loss: 0.0000e+00 - Same_vs_Not_Same_loss: 0.0000e+00 - Size_big_vs_Small_loss: 0.0000e+00 - Symmetery_vs_Non_symmetery_loss: 0.0000e+00 - Horizontal_vs_Vertical_loss: 0.0000e+00 - Empty_vs_Non_Empty_loss: 0.0000e+00\n",
      "\n",
      "epoch 5 Head 3\n",
      "50/50 [==============================] - 0s 7ms/step - loss: 0.7826 - center_vs_notincenter_loss: 0.0000e+00 - circle_vs_notcircle_loss: 0.0000e+00 - Closed_vs_Open_figure_loss: 0.0000e+00 - Colinear_vs_Noncolinear_loss: 0.7826 - Concave_vs_Convex_loss: 0.0000e+00 - Four_vs_notfour_side_loss: 0.0000e+00 - Triangle_vs_notTriangle_loss: 0.0000e+00 - Clockwise_vs_Anticlock_wise_loss: 0.0000e+00 - Left_vs_Right_loss: 0.0000e+00 - Parallel_vs_perpendicular_loss: 0.0000e+00 - Filled_vs_Unfilled_loss: 0.0000e+00 - Complete_vs_Incomplete_loss: 0.0000e+00 - Intersect_vs_NonIntersect_loss: 0.0000e+00 - M_cluster_vs_N_clusters_loss: 0.0000e+00 - Above_vs_Below_loss: 0.0000e+00 - Same_vs_Not_Same_loss: 0.0000e+00 - Size_big_vs_Small_loss: 0.0000e+00 - Symmetery_vs_Non_symmetery_loss: 0.0000e+00 - Horizontal_vs_Vertical_loss: 0.0000e+00 - Empty_vs_Non_Empty_loss: 0.0000e+00\n",
      "\n",
      "epoch 5 Head 4\n",
      "50/50 [==============================] - 0s 7ms/step - loss: 0.6990 - center_vs_notincenter_loss: 0.0000e+00 - circle_vs_notcircle_loss: 0.0000e+00 - Closed_vs_Open_figure_loss: 0.0000e+00 - Colinear_vs_Noncolinear_loss: 0.0000e+00 - Concave_vs_Convex_loss: 0.6990 - Four_vs_notfour_side_loss: 0.0000e+00 - Triangle_vs_notTriangle_loss: 0.0000e+00 - Clockwise_vs_Anticlock_wise_loss: 0.0000e+00 - Left_vs_Right_loss: 0.0000e+00 - Parallel_vs_perpendicular_loss: 0.0000e+00 - Filled_vs_Unfilled_loss: 0.0000e+00 - Complete_vs_Incomplete_loss: 0.0000e+00 - Intersect_vs_NonIntersect_loss: 0.0000e+00 - M_cluster_vs_N_clusters_loss: 0.0000e+00 - Above_vs_Below_loss: 0.0000e+00 - Same_vs_Not_Same_loss: 0.0000e+00 - Size_big_vs_Small_loss: 0.0000e+00 - Symmetery_vs_Non_symmetery_loss: 0.0000e+00 - Horizontal_vs_Vertical_loss: 0.0000e+00 - Empty_vs_Non_Empty_loss: 0.0000e+00\n",
      "\n",
      "epoch 5 Head 5\n",
      "175/175 [==============================] - 1s 7ms/step - loss: 0.6958 - center_vs_notincenter_loss: 0.0000e+00 - circle_vs_notcircle_loss: 0.0000e+00 - Closed_vs_Open_figure_loss: 0.0000e+00 - Colinear_vs_Noncolinear_loss: 0.0000e+00 - Concave_vs_Convex_loss: 0.0000e+00 - Four_vs_notfour_side_loss: 0.6958 - Triangle_vs_notTriangle_loss: 0.0000e+00 - Clockwise_vs_Anticlock_wise_loss: 0.0000e+00 - Left_vs_Right_loss: 0.0000e+00 - Parallel_vs_perpendicular_loss: 0.0000e+00 - Filled_vs_Unfilled_loss: 0.0000e+00 - Complete_vs_Incomplete_loss: 0.0000e+00 - Intersect_vs_NonIntersect_loss: 0.0000e+00 - M_cluster_vs_N_clusters_loss: 0.0000e+00 - Above_vs_Below_loss: 0.0000e+00 - Same_vs_Not_Same_loss: 0.0000e+00 - Size_big_vs_Small_loss: 0.0000e+00 - Symmetery_vs_Non_symmetery_loss: 0.0000e+00 - Horizontal_vs_Vertical_loss: 0.0000e+00 - Empty_vs_Non_Empty_loss: 0.0000e+00\n",
      "\n",
      "epoch 5 Head 6\n",
      "175/175 [==============================] - 1s 8ms/step - loss: 0.6932 - center_vs_notincenter_loss: 0.0000e+00 - circle_vs_notcircle_loss: 0.0000e+00 - Closed_vs_Open_figure_loss: 0.0000e+00 - Colinear_vs_Noncolinear_loss: 0.0000e+00 - Concave_vs_Convex_loss: 0.0000e+00 - Four_vs_notfour_side_loss: 0.0000e+00 - Triangle_vs_notTriangle_loss: 0.6932 - Clockwise_vs_Anticlock_wise_loss: 0.0000e+00 - Left_vs_Right_loss: 0.0000e+00 - Parallel_vs_perpendicular_loss: 0.0000e+00 - Filled_vs_Unfilled_loss: 0.0000e+00 - Complete_vs_Incomplete_loss: 0.0000e+00 - Intersect_vs_NonIntersect_loss: 0.0000e+00 - M_cluster_vs_N_clusters_loss: 0.0000e+00 - Above_vs_Below_loss: 0.0000e+00 - Same_vs_Not_Same_loss: 0.0000e+00 - Size_big_vs_Small_loss: 0.0000e+00 - Symmetery_vs_Non_symmetery_loss: 0.0000e+00 - Horizontal_vs_Vertical_loss: 0.0000e+00 - Empty_vs_Non_Empty_loss: 0.0000e+00\n",
      "\n",
      "epoch 5 Head 7\n",
      "75/75 [==============================] - 1s 7ms/step - loss: 0.6937 - center_vs_notincenter_loss: 0.0000e+00 - circle_vs_notcircle_loss: 0.0000e+00 - Closed_vs_Open_figure_loss: 0.0000e+00 - Colinear_vs_Noncolinear_loss: 0.0000e+00 - Concave_vs_Convex_loss: 0.0000e+00 - Four_vs_notfour_side_loss: 0.0000e+00 - Triangle_vs_notTriangle_loss: 0.0000e+00 - Clockwise_vs_Anticlock_wise_loss: 0.6937 - Left_vs_Right_loss: 0.0000e+00 - Parallel_vs_perpendicular_loss: 0.0000e+00 - Filled_vs_Unfilled_loss: 0.0000e+00 - Complete_vs_Incomplete_loss: 0.0000e+00 - Intersect_vs_NonIntersect_loss: 0.0000e+00 - M_cluster_vs_N_clusters_loss: 0.0000e+00 - Above_vs_Below_loss: 0.0000e+00 - Same_vs_Not_Same_loss: 0.0000e+00 - Size_big_vs_Small_loss: 0.0000e+00 - Symmetery_vs_Non_symmetery_loss: 0.0000e+00 - Horizontal_vs_Vertical_loss: 0.0000e+00 - Empty_vs_Non_Empty_loss: 0.0000e+00\n",
      "\n",
      "epoch 5 Head 8\n",
      "63/63 [==============================] - 0s 8ms/step - loss: 0.6756 - center_vs_notincenter_loss: 0.0000e+00 - circle_vs_notcircle_loss: 0.0000e+00 - Closed_vs_Open_figure_loss: 0.0000e+00 - Colinear_vs_Noncolinear_loss: 0.0000e+00 - Concave_vs_Convex_loss: 0.0000e+00 - Four_vs_notfour_side_loss: 0.0000e+00 - Triangle_vs_notTriangle_loss: 0.0000e+00 - Clockwise_vs_Anticlock_wise_loss: 0.0000e+00 - Left_vs_Right_loss: 0.6756 - Parallel_vs_perpendicular_loss: 0.0000e+00 - Filled_vs_Unfilled_loss: 0.0000e+00 - Complete_vs_Incomplete_loss: 0.0000e+00 - Intersect_vs_NonIntersect_loss: 0.0000e+00 - M_cluster_vs_N_clusters_loss: 0.0000e+00 - Above_vs_Below_loss: 0.0000e+00 - Same_vs_Not_Same_loss: 0.0000e+00 - Size_big_vs_Small_loss: 0.0000e+00 - Symmetery_vs_Non_symmetery_loss: 0.0000e+00 - Horizontal_vs_Vertical_loss: 0.0000e+00 - Empty_vs_Non_Empty_loss: 0.0000e+00\n",
      "\n",
      "epoch 5 Head 9\n",
      "25/25 [==============================] - 0s 7ms/step - loss: 0.6932 - center_vs_notincenter_loss: 0.0000e+00 - circle_vs_notcircle_loss: 0.0000e+00 - Closed_vs_Open_figure_loss: 0.0000e+00 - Colinear_vs_Noncolinear_loss: 0.0000e+00 - Concave_vs_Convex_loss: 0.0000e+00 - Four_vs_notfour_side_loss: 0.0000e+00 - Triangle_vs_notTriangle_loss: 0.0000e+00 - Clockwise_vs_Anticlock_wise_loss: 0.0000e+00 - Left_vs_Right_loss: 0.0000e+00 - Parallel_vs_perpendicular_loss: 0.6932 - Filled_vs_Unfilled_loss: 0.0000e+00 - Complete_vs_Incomplete_loss: 0.0000e+00 - Intersect_vs_NonIntersect_loss: 0.0000e+00 - M_cluster_vs_N_clusters_loss: 0.0000e+00 - Above_vs_Below_loss: 0.0000e+00 - Same_vs_Not_Same_loss: 0.0000e+00 - Size_big_vs_Small_loss: 0.0000e+00 - Symmetery_vs_Non_symmetery_loss: 0.0000e+00 - Horizontal_vs_Vertical_loss: 0.0000e+00 - Empty_vs_Non_Empty_loss: 0.0000e+00\n",
      "\n",
      "epoch 5 Head 10\n",
      "55/55 [==============================] - 0s 7ms/step - loss: 0.6932 - center_vs_notincenter_loss: 0.0000e+00 - circle_vs_notcircle_loss: 0.0000e+00 - Closed_vs_Open_figure_loss: 0.0000e+00 - Colinear_vs_Noncolinear_loss: 0.0000e+00 - Concave_vs_Convex_loss: 0.0000e+00 - Four_vs_notfour_side_loss: 0.0000e+00 - Triangle_vs_notTriangle_loss: 0.0000e+00 - Clockwise_vs_Anticlock_wise_loss: 0.0000e+00 - Left_vs_Right_loss: 0.0000e+00 - Parallel_vs_perpendicular_loss: 0.0000e+00 - Filled_vs_Unfilled_loss: 0.6932 - Complete_vs_Incomplete_loss: 0.0000e+00 - Intersect_vs_NonIntersect_loss: 0.0000e+00 - M_cluster_vs_N_clusters_loss: 0.0000e+00 - Above_vs_Below_loss: 0.0000e+00 - Same_vs_Not_Same_loss: 0.0000e+00 - Size_big_vs_Small_loss: 0.0000e+00 - Symmetery_vs_Non_symmetery_loss: 0.0000e+00 - Horizontal_vs_Vertical_loss: 0.0000e+00 - Empty_vs_Non_Empty_loss: 0.0000e+00\n",
      "\n",
      "epoch 5 Head 11\n",
      "100/100 [==============================] - 1s 7ms/step - loss: 0.6359 - center_vs_notincenter_loss: 0.0000e+00 - circle_vs_notcircle_loss: 0.0000e+00 - Closed_vs_Open_figure_loss: 0.0000e+00 - Colinear_vs_Noncolinear_loss: 0.0000e+00 - Concave_vs_Convex_loss: 0.0000e+00 - Four_vs_notfour_side_loss: 0.0000e+00 - Triangle_vs_notTriangle_loss: 0.0000e+00 - Clockwise_vs_Anticlock_wise_loss: 0.0000e+00 - Left_vs_Right_loss: 0.0000e+00 - Parallel_vs_perpendicular_loss: 0.0000e+00 - Filled_vs_Unfilled_loss: 0.0000e+00 - Complete_vs_Incomplete_loss: 0.6359 - Intersect_vs_NonIntersect_loss: 0.0000e+00 - M_cluster_vs_N_clusters_loss: 0.0000e+00 - Above_vs_Below_loss: 0.0000e+00 - Same_vs_Not_Same_loss: 0.0000e+00 - Size_big_vs_Small_loss: 0.0000e+00 - Symmetery_vs_Non_symmetery_loss: 0.0000e+00 - Horizontal_vs_Vertical_loss: 0.0000e+00 - Empty_vs_Non_Empty_loss: 0.0000e+00\n",
      "\n",
      "epoch 5 Head 12\n",
      "112/112 [==============================] - 1s 7ms/step - loss: 0.5729 - center_vs_notincenter_loss: 0.0000e+00 - circle_vs_notcircle_loss: 0.0000e+00 - Closed_vs_Open_figure_loss: 0.0000e+00 - Colinear_vs_Noncolinear_loss: 0.0000e+00 - Concave_vs_Convex_loss: 0.0000e+00 - Four_vs_notfour_side_loss: 0.0000e+00 - Triangle_vs_notTriangle_loss: 0.0000e+00 - Clockwise_vs_Anticlock_wise_loss: 0.0000e+00 - Left_vs_Right_loss: 0.0000e+00 - Parallel_vs_perpendicular_loss: 0.0000e+00 - Filled_vs_Unfilled_loss: 0.0000e+00 - Complete_vs_Incomplete_loss: 0.0000e+00 - Intersect_vs_NonIntersect_loss: 0.5729 - M_cluster_vs_N_clusters_loss: 0.0000e+00 - Above_vs_Below_loss: 0.0000e+00 - Same_vs_Not_Same_loss: 0.0000e+00 - Size_big_vs_Small_loss: 0.0000e+00 - Symmetery_vs_Non_symmetery_loss: 0.0000e+00 - Horizontal_vs_Vertical_loss: 0.0000e+00 - Empty_vs_Non_Empty_loss: 0.0000e+00\n",
      "\n",
      "epoch 5 Head 13\n",
      "50/50 [==============================] - 0s 7ms/step - loss: 0.7075 - center_vs_notincenter_loss: 0.0000e+00 - circle_vs_notcircle_loss: 0.0000e+00 - Closed_vs_Open_figure_loss: 0.0000e+00 - Colinear_vs_Noncolinear_loss: 0.0000e+00 - Concave_vs_Convex_loss: 0.0000e+00 - Four_vs_notfour_side_loss: 0.0000e+00 - Triangle_vs_notTriangle_loss: 0.0000e+00 - Clockwise_vs_Anticlock_wise_loss: 0.0000e+00 - Left_vs_Right_loss: 0.0000e+00 - Parallel_vs_perpendicular_loss: 0.0000e+00 - Filled_vs_Unfilled_loss: 0.0000e+00 - Complete_vs_Incomplete_loss: 0.0000e+00 - Intersect_vs_NonIntersect_loss: 0.0000e+00 - M_cluster_vs_N_clusters_loss: 0.7075 - Above_vs_Below_loss: 0.0000e+00 - Same_vs_Not_Same_loss: 0.0000e+00 - Size_big_vs_Small_loss: 0.0000e+00 - Symmetery_vs_Non_symmetery_loss: 0.0000e+00 - Horizontal_vs_Vertical_loss: 0.0000e+00 - Empty_vs_Non_Empty_loss: 0.0000e+00\n",
      "\n",
      "epoch 5 Head 14\n",
      "60/60 [==============================] - 0s 7ms/step - loss: 0.6931 - center_vs_notincenter_loss: 0.0000e+00 - circle_vs_notcircle_loss: 0.0000e+00 - Closed_vs_Open_figure_loss: 0.0000e+00 - Colinear_vs_Noncolinear_loss: 0.0000e+00 - Concave_vs_Convex_loss: 0.0000e+00 - Four_vs_notfour_side_loss: 0.0000e+00 - Triangle_vs_notTriangle_loss: 0.0000e+00 - Clockwise_vs_Anticlock_wise_loss: 0.0000e+00 - Left_vs_Right_loss: 0.0000e+00 - Parallel_vs_perpendicular_loss: 0.0000e+00 - Filled_vs_Unfilled_loss: 0.0000e+00 - Complete_vs_Incomplete_loss: 0.0000e+00 - Intersect_vs_NonIntersect_loss: 0.0000e+00 - M_cluster_vs_N_clusters_loss: 0.0000e+00 - Above_vs_Below_loss: 0.6931 - Same_vs_Not_Same_loss: 0.0000e+00 - Size_big_vs_Small_loss: 0.0000e+00 - Symmetery_vs_Non_symmetery_loss: 0.0000e+00 - Horizontal_vs_Vertical_loss: 0.0000e+00 - Empty_vs_Non_Empty_loss: 0.0000e+00\n",
      "\n",
      "epoch 5 Head 15\n",
      "80/80 [==============================] - 1s 7ms/step - loss: 0.6931 - center_vs_notincenter_loss: 0.0000e+00 - circle_vs_notcircle_loss: 0.0000e+00 - Closed_vs_Open_figure_loss: 0.0000e+00 - Colinear_vs_Noncolinear_loss: 0.0000e+00 - Concave_vs_Convex_loss: 0.0000e+00 - Four_vs_notfour_side_loss: 0.0000e+00 - Triangle_vs_notTriangle_loss: 0.0000e+00 - Clockwise_vs_Anticlock_wise_loss: 0.0000e+00 - Left_vs_Right_loss: 0.0000e+00 - Parallel_vs_perpendicular_loss: 0.0000e+00 - Filled_vs_Unfilled_loss: 0.0000e+00 - Complete_vs_Incomplete_loss: 0.0000e+00 - Intersect_vs_NonIntersect_loss: 0.0000e+00 - M_cluster_vs_N_clusters_loss: 0.0000e+00 - Above_vs_Below_loss: 0.0000e+00 - Same_vs_Not_Same_loss: 0.6931 - Size_big_vs_Small_loss: 0.0000e+00 - Symmetery_vs_Non_symmetery_loss: 0.0000e+00 - Horizontal_vs_Vertical_loss: 0.0000e+00 - Empty_vs_Non_Empty_loss: 0.0000e+00\n",
      "\n",
      "epoch 5 Head 16\n",
      "50/50 [==============================] - 0s 7ms/step - loss: 0.6133 - center_vs_notincenter_loss: 0.0000e+00 - circle_vs_notcircle_loss: 0.0000e+00 - Closed_vs_Open_figure_loss: 0.0000e+00 - Colinear_vs_Noncolinear_loss: 0.0000e+00 - Concave_vs_Convex_loss: 0.0000e+00 - Four_vs_notfour_side_loss: 0.0000e+00 - Triangle_vs_notTriangle_loss: 0.0000e+00 - Clockwise_vs_Anticlock_wise_loss: 0.0000e+00 - Left_vs_Right_loss: 0.0000e+00 - Parallel_vs_perpendicular_loss: 0.0000e+00 - Filled_vs_Unfilled_loss: 0.0000e+00 - Complete_vs_Incomplete_loss: 0.0000e+00 - Intersect_vs_NonIntersect_loss: 0.0000e+00 - M_cluster_vs_N_clusters_loss: 0.0000e+00 - Above_vs_Below_loss: 0.0000e+00 - Same_vs_Not_Same_loss: 0.0000e+00 - Size_big_vs_Small_loss: 0.6133 - Symmetery_vs_Non_symmetery_loss: 0.0000e+00 - Horizontal_vs_Vertical_loss: 0.0000e+00 - Empty_vs_Non_Empty_loss: 0.0000e+00\n",
      "\n",
      "epoch 5 Head 17\n",
      "137/137 [==============================] - 1s 7ms/step - loss: 0.5337 - center_vs_notincenter_loss: 0.0000e+00 - circle_vs_notcircle_loss: 0.0000e+00 - Closed_vs_Open_figure_loss: 0.0000e+00 - Colinear_vs_Noncolinear_loss: 0.0000e+00 - Concave_vs_Convex_loss: 0.0000e+00 - Four_vs_notfour_side_loss: 0.0000e+00 - Triangle_vs_notTriangle_loss: 0.0000e+00 - Clockwise_vs_Anticlock_wise_loss: 0.0000e+00 - Left_vs_Right_loss: 0.0000e+00 - Parallel_vs_perpendicular_loss: 0.0000e+00 - Filled_vs_Unfilled_loss: 0.0000e+00 - Complete_vs_Incomplete_loss: 0.0000e+00 - Intersect_vs_NonIntersect_loss: 0.0000e+00 - M_cluster_vs_N_clusters_loss: 0.0000e+00 - Above_vs_Below_loss: 0.0000e+00 - Same_vs_Not_Same_loss: 0.0000e+00 - Size_big_vs_Small_loss: 0.0000e+00 - Symmetery_vs_Non_symmetery_loss: 0.5337 - Horizontal_vs_Vertical_loss: 0.0000e+00 - Empty_vs_Non_Empty_loss: 0.0000e+00\n",
      "\n",
      "epoch 5 Head 18\n",
      "50/50 [==============================] - 0s 7ms/step - loss: 0.5085 - center_vs_notincenter_loss: 0.0000e+00 - circle_vs_notcircle_loss: 0.0000e+00 - Closed_vs_Open_figure_loss: 0.0000e+00 - Colinear_vs_Noncolinear_loss: 0.0000e+00 - Concave_vs_Convex_loss: 0.0000e+00 - Four_vs_notfour_side_loss: 0.0000e+00 - Triangle_vs_notTriangle_loss: 0.0000e+00 - Clockwise_vs_Anticlock_wise_loss: 0.0000e+00 - Left_vs_Right_loss: 0.0000e+00 - Parallel_vs_perpendicular_loss: 0.0000e+00 - Filled_vs_Unfilled_loss: 0.0000e+00 - Complete_vs_Incomplete_loss: 0.0000e+00 - Intersect_vs_NonIntersect_loss: 0.0000e+00 - M_cluster_vs_N_clusters_loss: 0.0000e+00 - Above_vs_Below_loss: 0.0000e+00 - Same_vs_Not_Same_loss: 0.0000e+00 - Size_big_vs_Small_loss: 0.0000e+00 - Symmetery_vs_Non_symmetery_loss: 0.0000e+00 - Horizontal_vs_Vertical_loss: 0.5085 - Empty_vs_Non_Empty_loss: 0.0000e+00\n",
      "\n",
      "epoch 5 Head 19\n",
      "25/25 [==============================] - 0s 7ms/step - loss: 0.7384 - center_vs_notincenter_loss: 0.0000e+00 - circle_vs_notcircle_loss: 0.0000e+00 - Closed_vs_Open_figure_loss: 0.0000e+00 - Colinear_vs_Noncolinear_loss: 0.0000e+00 - Concave_vs_Convex_loss: 0.0000e+00 - Four_vs_notfour_side_loss: 0.0000e+00 - Triangle_vs_notTriangle_loss: 0.0000e+00 - Clockwise_vs_Anticlock_wise_loss: 0.0000e+00 - Left_vs_Right_loss: 0.0000e+00 - Parallel_vs_perpendicular_loss: 0.0000e+00 - Filled_vs_Unfilled_loss: 0.0000e+00 - Complete_vs_Incomplete_loss: 0.0000e+00 - Intersect_vs_NonIntersect_loss: 0.0000e+00 - M_cluster_vs_N_clusters_loss: 0.0000e+00 - Above_vs_Below_loss: 0.0000e+00 - Same_vs_Not_Same_loss: 0.0000e+00 - Size_big_vs_Small_loss: 0.0000e+00 - Symmetery_vs_Non_symmetery_loss: 0.0000e+00 - Horizontal_vs_Vertical_loss: 0.0000e+00 - Empty_vs_Non_Empty_loss: 0.7384\n",
      "\n",
      "epoch 6 Head 0\n",
      "115/115 [==============================] - 1s 7ms/step - loss: 0.5911 - center_vs_notincenter_loss: 0.5911 - circle_vs_notcircle_loss: 0.0000e+00 - Closed_vs_Open_figure_loss: 0.0000e+00 - Colinear_vs_Noncolinear_loss: 0.0000e+00 - Concave_vs_Convex_loss: 0.0000e+00 - Four_vs_notfour_side_loss: 0.0000e+00 - Triangle_vs_notTriangle_loss: 0.0000e+00 - Clockwise_vs_Anticlock_wise_loss: 0.0000e+00 - Left_vs_Right_loss: 0.0000e+00 - Parallel_vs_perpendicular_loss: 0.0000e+00 - Filled_vs_Unfilled_loss: 0.0000e+00 - Complete_vs_Incomplete_loss: 0.0000e+00 - Intersect_vs_NonIntersect_loss: 0.0000e+00 - M_cluster_vs_N_clusters_loss: 0.0000e+00 - Above_vs_Below_loss: 0.0000e+00 - Same_vs_Not_Same_loss: 0.0000e+00 - Size_big_vs_Small_loss: 0.0000e+00 - Symmetery_vs_Non_symmetery_loss: 0.0000e+00 - Horizontal_vs_Vertical_loss: 0.0000e+00 - Empty_vs_Non_Empty_loss: 0.0000e+00\n",
      "\n",
      "epoch 6 Head 1\n",
      "50/50 [==============================] - 0s 7ms/step - loss: 0.6386 - center_vs_notincenter_loss: 0.0000e+00 - circle_vs_notcircle_loss: 0.6386 - Closed_vs_Open_figure_loss: 0.0000e+00 - Colinear_vs_Noncolinear_loss: 0.0000e+00 - Concave_vs_Convex_loss: 0.0000e+00 - Four_vs_notfour_side_loss: 0.0000e+00 - Triangle_vs_notTriangle_loss: 0.0000e+00 - Clockwise_vs_Anticlock_wise_loss: 0.0000e+00 - Left_vs_Right_loss: 0.0000e+00 - Parallel_vs_perpendicular_loss: 0.0000e+00 - Filled_vs_Unfilled_loss: 0.0000e+00 - Complete_vs_Incomplete_loss: 0.0000e+00 - Intersect_vs_NonIntersect_loss: 0.0000e+00 - M_cluster_vs_N_clusters_loss: 0.0000e+00 - Above_vs_Below_loss: 0.0000e+00 - Same_vs_Not_Same_loss: 0.0000e+00 - Size_big_vs_Small_loss: 0.0000e+00 - Symmetery_vs_Non_symmetery_loss: 0.0000e+00 - Horizontal_vs_Vertical_loss: 0.0000e+00 - Empty_vs_Non_Empty_loss: 0.0000e+00\n",
      "\n",
      "epoch 6 Head 2\n",
      "39/39 [==============================] - 0s 8ms/step - loss: 0.5731 - center_vs_notincenter_loss: 0.0000e+00 - circle_vs_notcircle_loss: 0.0000e+00 - Closed_vs_Open_figure_loss: 0.5731 - Colinear_vs_Noncolinear_loss: 0.0000e+00 - Concave_vs_Convex_loss: 0.0000e+00 - Four_vs_notfour_side_loss: 0.0000e+00 - Triangle_vs_notTriangle_loss: 0.0000e+00 - Clockwise_vs_Anticlock_wise_loss: 0.0000e+00 - Left_vs_Right_loss: 0.0000e+00 - Parallel_vs_perpendicular_loss: 0.0000e+00 - Filled_vs_Unfilled_loss: 0.0000e+00 - Complete_vs_Incomplete_loss: 0.0000e+00 - Intersect_vs_NonIntersect_loss: 0.0000e+00 - M_cluster_vs_N_clusters_loss: 0.0000e+00 - Above_vs_Below_loss: 0.0000e+00 - Same_vs_Not_Same_loss: 0.0000e+00 - Size_big_vs_Small_loss: 0.0000e+00 - Symmetery_vs_Non_symmetery_loss: 0.0000e+00 - Horizontal_vs_Vertical_loss: 0.0000e+00 - Empty_vs_Non_Empty_loss: 0.0000e+00\n",
      "\n",
      "epoch 6 Head 3\n",
      "50/50 [==============================] - 0s 7ms/step - loss: 0.8286 - center_vs_notincenter_loss: 0.0000e+00 - circle_vs_notcircle_loss: 0.0000e+00 - Closed_vs_Open_figure_loss: 0.0000e+00 - Colinear_vs_Noncolinear_loss: 0.8286 - Concave_vs_Convex_loss: 0.0000e+00 - Four_vs_notfour_side_loss: 0.0000e+00 - Triangle_vs_notTriangle_loss: 0.0000e+00 - Clockwise_vs_Anticlock_wise_loss: 0.0000e+00 - Left_vs_Right_loss: 0.0000e+00 - Parallel_vs_perpendicular_loss: 0.0000e+00 - Filled_vs_Unfilled_loss: 0.0000e+00 - Complete_vs_Incomplete_loss: 0.0000e+00 - Intersect_vs_NonIntersect_loss: 0.0000e+00 - M_cluster_vs_N_clusters_loss: 0.0000e+00 - Above_vs_Below_loss: 0.0000e+00 - Same_vs_Not_Same_loss: 0.0000e+00 - Size_big_vs_Small_loss: 0.0000e+00 - Symmetery_vs_Non_symmetery_loss: 0.0000e+00 - Horizontal_vs_Vertical_loss: 0.0000e+00 - Empty_vs_Non_Empty_loss: 0.0000e+00\n",
      "\n",
      "epoch 6 Head 4\n",
      "50/50 [==============================] - 0s 7ms/step - loss: 0.6932 - center_vs_notincenter_loss: 0.0000e+00 - circle_vs_notcircle_loss: 0.0000e+00 - Closed_vs_Open_figure_loss: 0.0000e+00 - Colinear_vs_Noncolinear_loss: 0.0000e+00 - Concave_vs_Convex_loss: 0.6932 - Four_vs_notfour_side_loss: 0.0000e+00 - Triangle_vs_notTriangle_loss: 0.0000e+00 - Clockwise_vs_Anticlock_wise_loss: 0.0000e+00 - Left_vs_Right_loss: 0.0000e+00 - Parallel_vs_perpendicular_loss: 0.0000e+00 - Filled_vs_Unfilled_loss: 0.0000e+00 - Complete_vs_Incomplete_loss: 0.0000e+00 - Intersect_vs_NonIntersect_loss: 0.0000e+00 - M_cluster_vs_N_clusters_loss: 0.0000e+00 - Above_vs_Below_loss: 0.0000e+00 - Same_vs_Not_Same_loss: 0.0000e+00 - Size_big_vs_Small_loss: 0.0000e+00 - Symmetery_vs_Non_symmetery_loss: 0.0000e+00 - Horizontal_vs_Vertical_loss: 0.0000e+00 - Empty_vs_Non_Empty_loss: 0.0000e+00\n",
      "\n",
      "epoch 6 Head 5\n",
      "175/175 [==============================] - 1s 7ms/step - loss: 0.6934 - center_vs_notincenter_loss: 0.0000e+00 - circle_vs_notcircle_loss: 0.0000e+00 - Closed_vs_Open_figure_loss: 0.0000e+00 - Colinear_vs_Noncolinear_loss: 0.0000e+00 - Concave_vs_Convex_loss: 0.0000e+00 - Four_vs_notfour_side_loss: 0.6934 - Triangle_vs_notTriangle_loss: 0.0000e+00 - Clockwise_vs_Anticlock_wise_loss: 0.0000e+00 - Left_vs_Right_loss: 0.0000e+00 - Parallel_vs_perpendicular_loss: 0.0000e+00 - Filled_vs_Unfilled_loss: 0.0000e+00 - Complete_vs_Incomplete_loss: 0.0000e+00 - Intersect_vs_NonIntersect_loss: 0.0000e+00 - M_cluster_vs_N_clusters_loss: 0.0000e+00 - Above_vs_Below_loss: 0.0000e+00 - Same_vs_Not_Same_loss: 0.0000e+00 - Size_big_vs_Small_loss: 0.0000e+00 - Symmetery_vs_Non_symmetery_loss: 0.0000e+00 - Horizontal_vs_Vertical_loss: 0.0000e+00 - Empty_vs_Non_Empty_loss: 0.0000e+00\n",
      "\n",
      "epoch 6 Head 6\n",
      "175/175 [==============================] - 1s 7ms/step - loss: 0.6874 - center_vs_notincenter_loss: 0.0000e+00 - circle_vs_notcircle_loss: 0.0000e+00 - Closed_vs_Open_figure_loss: 0.0000e+00 - Colinear_vs_Noncolinear_loss: 0.0000e+00 - Concave_vs_Convex_loss: 0.0000e+00 - Four_vs_notfour_side_loss: 0.0000e+00 - Triangle_vs_notTriangle_loss: 0.6874 - Clockwise_vs_Anticlock_wise_loss: 0.0000e+00 - Left_vs_Right_loss: 0.0000e+00 - Parallel_vs_perpendicular_loss: 0.0000e+00 - Filled_vs_Unfilled_loss: 0.0000e+00 - Complete_vs_Incomplete_loss: 0.0000e+00 - Intersect_vs_NonIntersect_loss: 0.0000e+00 - M_cluster_vs_N_clusters_loss: 0.0000e+00 - Above_vs_Below_loss: 0.0000e+00 - Same_vs_Not_Same_loss: 0.0000e+00 - Size_big_vs_Small_loss: 0.0000e+00 - Symmetery_vs_Non_symmetery_loss: 0.0000e+00 - Horizontal_vs_Vertical_loss: 0.0000e+00 - Empty_vs_Non_Empty_loss: 0.0000e+00\n",
      "\n",
      "epoch 6 Head 7\n",
      "75/75 [==============================] - 1s 7ms/step - loss: 0.6955 - center_vs_notincenter_loss: 0.0000e+00 - circle_vs_notcircle_loss: 0.0000e+00 - Closed_vs_Open_figure_loss: 0.0000e+00 - Colinear_vs_Noncolinear_loss: 0.0000e+00 - Concave_vs_Convex_loss: 0.0000e+00 - Four_vs_notfour_side_loss: 0.0000e+00 - Triangle_vs_notTriangle_loss: 0.0000e+00 - Clockwise_vs_Anticlock_wise_loss: 0.6955 - Left_vs_Right_loss: 0.0000e+00 - Parallel_vs_perpendicular_loss: 0.0000e+00 - Filled_vs_Unfilled_loss: 0.0000e+00 - Complete_vs_Incomplete_loss: 0.0000e+00 - Intersect_vs_NonIntersect_loss: 0.0000e+00 - M_cluster_vs_N_clusters_loss: 0.0000e+00 - Above_vs_Below_loss: 0.0000e+00 - Same_vs_Not_Same_loss: 0.0000e+00 - Size_big_vs_Small_loss: 0.0000e+00 - Symmetery_vs_Non_symmetery_loss: 0.0000e+00 - Horizontal_vs_Vertical_loss: 0.0000e+00 - Empty_vs_Non_Empty_loss: 0.0000e+00\n",
      "\n",
      "epoch 6 Head 8\n",
      "63/63 [==============================] - 0s 8ms/step - loss: 0.6755 - center_vs_notincenter_loss: 0.0000e+00 - circle_vs_notcircle_loss: 0.0000e+00 - Closed_vs_Open_figure_loss: 0.0000e+00 - Colinear_vs_Noncolinear_loss: 0.0000e+00 - Concave_vs_Convex_loss: 0.0000e+00 - Four_vs_notfour_side_loss: 0.0000e+00 - Triangle_vs_notTriangle_loss: 0.0000e+00 - Clockwise_vs_Anticlock_wise_loss: 0.0000e+00 - Left_vs_Right_loss: 0.6755 - Parallel_vs_perpendicular_loss: 0.0000e+00 - Filled_vs_Unfilled_loss: 0.0000e+00 - Complete_vs_Incomplete_loss: 0.0000e+00 - Intersect_vs_NonIntersect_loss: 0.0000e+00 - M_cluster_vs_N_clusters_loss: 0.0000e+00 - Above_vs_Below_loss: 0.0000e+00 - Same_vs_Not_Same_loss: 0.0000e+00 - Size_big_vs_Small_loss: 0.0000e+00 - Symmetery_vs_Non_symmetery_loss: 0.0000e+00 - Horizontal_vs_Vertical_loss: 0.0000e+00 - Empty_vs_Non_Empty_loss: 0.0000e+00\n",
      "\n",
      "epoch 6 Head 9\n",
      "25/25 [==============================] - 0s 8ms/step - loss: 0.6931 - center_vs_notincenter_loss: 0.0000e+00 - circle_vs_notcircle_loss: 0.0000e+00 - Closed_vs_Open_figure_loss: 0.0000e+00 - Colinear_vs_Noncolinear_loss: 0.0000e+00 - Concave_vs_Convex_loss: 0.0000e+00 - Four_vs_notfour_side_loss: 0.0000e+00 - Triangle_vs_notTriangle_loss: 0.0000e+00 - Clockwise_vs_Anticlock_wise_loss: 0.0000e+00 - Left_vs_Right_loss: 0.0000e+00 - Parallel_vs_perpendicular_loss: 0.6931 - Filled_vs_Unfilled_loss: 0.0000e+00 - Complete_vs_Incomplete_loss: 0.0000e+00 - Intersect_vs_NonIntersect_loss: 0.0000e+00 - M_cluster_vs_N_clusters_loss: 0.0000e+00 - Above_vs_Below_loss: 0.0000e+00 - Same_vs_Not_Same_loss: 0.0000e+00 - Size_big_vs_Small_loss: 0.0000e+00 - Symmetery_vs_Non_symmetery_loss: 0.0000e+00 - Horizontal_vs_Vertical_loss: 0.0000e+00 - Empty_vs_Non_Empty_loss: 0.0000e+00\n",
      "\n",
      "epoch 6 Head 10\n",
      "55/55 [==============================] - 0s 7ms/step - loss: 0.6932 - center_vs_notincenter_loss: 0.0000e+00 - circle_vs_notcircle_loss: 0.0000e+00 - Closed_vs_Open_figure_loss: 0.0000e+00 - Colinear_vs_Noncolinear_loss: 0.0000e+00 - Concave_vs_Convex_loss: 0.0000e+00 - Four_vs_notfour_side_loss: 0.0000e+00 - Triangle_vs_notTriangle_loss: 0.0000e+00 - Clockwise_vs_Anticlock_wise_loss: 0.0000e+00 - Left_vs_Right_loss: 0.0000e+00 - Parallel_vs_perpendicular_loss: 0.0000e+00 - Filled_vs_Unfilled_loss: 0.6932 - Complete_vs_Incomplete_loss: 0.0000e+00 - Intersect_vs_NonIntersect_loss: 0.0000e+00 - M_cluster_vs_N_clusters_loss: 0.0000e+00 - Above_vs_Below_loss: 0.0000e+00 - Same_vs_Not_Same_loss: 0.0000e+00 - Size_big_vs_Small_loss: 0.0000e+00 - Symmetery_vs_Non_symmetery_loss: 0.0000e+00 - Horizontal_vs_Vertical_loss: 0.0000e+00 - Empty_vs_Non_Empty_loss: 0.0000e+00\n",
      "\n",
      "epoch 6 Head 11\n",
      "100/100 [==============================] - 1s 7ms/step - loss: 0.6409 - center_vs_notincenter_loss: 0.0000e+00 - circle_vs_notcircle_loss: 0.0000e+00 - Closed_vs_Open_figure_loss: 0.0000e+00 - Colinear_vs_Noncolinear_loss: 0.0000e+00 - Concave_vs_Convex_loss: 0.0000e+00 - Four_vs_notfour_side_loss: 0.0000e+00 - Triangle_vs_notTriangle_loss: 0.0000e+00 - Clockwise_vs_Anticlock_wise_loss: 0.0000e+00 - Left_vs_Right_loss: 0.0000e+00 - Parallel_vs_perpendicular_loss: 0.0000e+00 - Filled_vs_Unfilled_loss: 0.0000e+00 - Complete_vs_Incomplete_loss: 0.6409 - Intersect_vs_NonIntersect_loss: 0.0000e+00 - M_cluster_vs_N_clusters_loss: 0.0000e+00 - Above_vs_Below_loss: 0.0000e+00 - Same_vs_Not_Same_loss: 0.0000e+00 - Size_big_vs_Small_loss: 0.0000e+00 - Symmetery_vs_Non_symmetery_loss: 0.0000e+00 - Horizontal_vs_Vertical_loss: 0.0000e+00 - Empty_vs_Non_Empty_loss: 0.0000e+00\n",
      "\n",
      "epoch 6 Head 12\n",
      "112/112 [==============================] - 1s 8ms/step - loss: 0.5295 - center_vs_notincenter_loss: 0.0000e+00 - circle_vs_notcircle_loss: 0.0000e+00 - Closed_vs_Open_figure_loss: 0.0000e+00 - Colinear_vs_Noncolinear_loss: 0.0000e+00 - Concave_vs_Convex_loss: 0.0000e+00 - Four_vs_notfour_side_loss: 0.0000e+00 - Triangle_vs_notTriangle_loss: 0.0000e+00 - Clockwise_vs_Anticlock_wise_loss: 0.0000e+00 - Left_vs_Right_loss: 0.0000e+00 - Parallel_vs_perpendicular_loss: 0.0000e+00 - Filled_vs_Unfilled_loss: 0.0000e+00 - Complete_vs_Incomplete_loss: 0.0000e+00 - Intersect_vs_NonIntersect_loss: 0.5295 - M_cluster_vs_N_clusters_loss: 0.0000e+00 - Above_vs_Below_loss: 0.0000e+00 - Same_vs_Not_Same_loss: 0.0000e+00 - Size_big_vs_Small_loss: 0.0000e+00 - Symmetery_vs_Non_symmetery_loss: 0.0000e+00 - Horizontal_vs_Vertical_loss: 0.0000e+00 - Empty_vs_Non_Empty_loss: 0.0000e+00\n",
      "\n",
      "epoch 6 Head 13\n",
      "50/50 [==============================] - 0s 7ms/step - loss: 0.7051 - center_vs_notincenter_loss: 0.0000e+00 - circle_vs_notcircle_loss: 0.0000e+00 - Closed_vs_Open_figure_loss: 0.0000e+00 - Colinear_vs_Noncolinear_loss: 0.0000e+00 - Concave_vs_Convex_loss: 0.0000e+00 - Four_vs_notfour_side_loss: 0.0000e+00 - Triangle_vs_notTriangle_loss: 0.0000e+00 - Clockwise_vs_Anticlock_wise_loss: 0.0000e+00 - Left_vs_Right_loss: 0.0000e+00 - Parallel_vs_perpendicular_loss: 0.0000e+00 - Filled_vs_Unfilled_loss: 0.0000e+00 - Complete_vs_Incomplete_loss: 0.0000e+00 - Intersect_vs_NonIntersect_loss: 0.0000e+00 - M_cluster_vs_N_clusters_loss: 0.7051 - Above_vs_Below_loss: 0.0000e+00 - Same_vs_Not_Same_loss: 0.0000e+00 - Size_big_vs_Small_loss: 0.0000e+00 - Symmetery_vs_Non_symmetery_loss: 0.0000e+00 - Horizontal_vs_Vertical_loss: 0.0000e+00 - Empty_vs_Non_Empty_loss: 0.0000e+00\n",
      "\n",
      "epoch 6 Head 14\n",
      "60/60 [==============================] - 0s 7ms/step - loss: 0.6941 - center_vs_notincenter_loss: 0.0000e+00 - circle_vs_notcircle_loss: 0.0000e+00 - Closed_vs_Open_figure_loss: 0.0000e+00 - Colinear_vs_Noncolinear_loss: 0.0000e+00 - Concave_vs_Convex_loss: 0.0000e+00 - Four_vs_notfour_side_loss: 0.0000e+00 - Triangle_vs_notTriangle_loss: 0.0000e+00 - Clockwise_vs_Anticlock_wise_loss: 0.0000e+00 - Left_vs_Right_loss: 0.0000e+00 - Parallel_vs_perpendicular_loss: 0.0000e+00 - Filled_vs_Unfilled_loss: 0.0000e+00 - Complete_vs_Incomplete_loss: 0.0000e+00 - Intersect_vs_NonIntersect_loss: 0.0000e+00 - M_cluster_vs_N_clusters_loss: 0.0000e+00 - Above_vs_Below_loss: 0.6941 - Same_vs_Not_Same_loss: 0.0000e+00 - Size_big_vs_Small_loss: 0.0000e+00 - Symmetery_vs_Non_symmetery_loss: 0.0000e+00 - Horizontal_vs_Vertical_loss: 0.0000e+00 - Empty_vs_Non_Empty_loss: 0.0000e+00\n",
      "\n",
      "epoch 6 Head 15\n",
      "80/80 [==============================] - 1s 7ms/step - loss: 0.6995 - center_vs_notincenter_loss: 0.0000e+00 - circle_vs_notcircle_loss: 0.0000e+00 - Closed_vs_Open_figure_loss: 0.0000e+00 - Colinear_vs_Noncolinear_loss: 0.0000e+00 - Concave_vs_Convex_loss: 0.0000e+00 - Four_vs_notfour_side_loss: 0.0000e+00 - Triangle_vs_notTriangle_loss: 0.0000e+00 - Clockwise_vs_Anticlock_wise_loss: 0.0000e+00 - Left_vs_Right_loss: 0.0000e+00 - Parallel_vs_perpendicular_loss: 0.0000e+00 - Filled_vs_Unfilled_loss: 0.0000e+00 - Complete_vs_Incomplete_loss: 0.0000e+00 - Intersect_vs_NonIntersect_loss: 0.0000e+00 - M_cluster_vs_N_clusters_loss: 0.0000e+00 - Above_vs_Below_loss: 0.0000e+00 - Same_vs_Not_Same_loss: 0.6995 - Size_big_vs_Small_loss: 0.0000e+00 - Symmetery_vs_Non_symmetery_loss: 0.0000e+00 - Horizontal_vs_Vertical_loss: 0.0000e+00 - Empty_vs_Non_Empty_loss: 0.0000e+00\n",
      "\n",
      "epoch 6 Head 16\n",
      "50/50 [==============================] - 0s 7ms/step - loss: 0.6547 - center_vs_notincenter_loss: 0.0000e+00 - circle_vs_notcircle_loss: 0.0000e+00 - Closed_vs_Open_figure_loss: 0.0000e+00 - Colinear_vs_Noncolinear_loss: 0.0000e+00 - Concave_vs_Convex_loss: 0.0000e+00 - Four_vs_notfour_side_loss: 0.0000e+00 - Triangle_vs_notTriangle_loss: 0.0000e+00 - Clockwise_vs_Anticlock_wise_loss: 0.0000e+00 - Left_vs_Right_loss: 0.0000e+00 - Parallel_vs_perpendicular_loss: 0.0000e+00 - Filled_vs_Unfilled_loss: 0.0000e+00 - Complete_vs_Incomplete_loss: 0.0000e+00 - Intersect_vs_NonIntersect_loss: 0.0000e+00 - M_cluster_vs_N_clusters_loss: 0.0000e+00 - Above_vs_Below_loss: 0.0000e+00 - Same_vs_Not_Same_loss: 0.0000e+00 - Size_big_vs_Small_loss: 0.6547 - Symmetery_vs_Non_symmetery_loss: 0.0000e+00 - Horizontal_vs_Vertical_loss: 0.0000e+00 - Empty_vs_Non_Empty_loss: 0.0000e+00\n",
      "\n",
      "epoch 6 Head 17\n",
      "137/137 [==============================] - 1s 8ms/step - loss: 0.7108 - center_vs_notincenter_loss: 0.0000e+00 - circle_vs_notcircle_loss: 0.0000e+00 - Closed_vs_Open_figure_loss: 0.0000e+00 - Colinear_vs_Noncolinear_loss: 0.0000e+00 - Concave_vs_Convex_loss: 0.0000e+00 - Four_vs_notfour_side_loss: 0.0000e+00 - Triangle_vs_notTriangle_loss: 0.0000e+00 - Clockwise_vs_Anticlock_wise_loss: 0.0000e+00 - Left_vs_Right_loss: 0.0000e+00 - Parallel_vs_perpendicular_loss: 0.0000e+00 - Filled_vs_Unfilled_loss: 0.0000e+00 - Complete_vs_Incomplete_loss: 0.0000e+00 - Intersect_vs_NonIntersect_loss: 0.0000e+00 - M_cluster_vs_N_clusters_loss: 0.0000e+00 - Above_vs_Below_loss: 0.0000e+00 - Same_vs_Not_Same_loss: 0.0000e+00 - Size_big_vs_Small_loss: 0.0000e+00 - Symmetery_vs_Non_symmetery_loss: 0.7108 - Horizontal_vs_Vertical_loss: 0.0000e+00 - Empty_vs_Non_Empty_loss: 0.0000e+00\n",
      "\n",
      "epoch 6 Head 18\n",
      "50/50 [==============================] - 0s 7ms/step - loss: 0.6727 - center_vs_notincenter_loss: 0.0000e+00 - circle_vs_notcircle_loss: 0.0000e+00 - Closed_vs_Open_figure_loss: 0.0000e+00 - Colinear_vs_Noncolinear_loss: 0.0000e+00 - Concave_vs_Convex_loss: 0.0000e+00 - Four_vs_notfour_side_loss: 0.0000e+00 - Triangle_vs_notTriangle_loss: 0.0000e+00 - Clockwise_vs_Anticlock_wise_loss: 0.0000e+00 - Left_vs_Right_loss: 0.0000e+00 - Parallel_vs_perpendicular_loss: 0.0000e+00 - Filled_vs_Unfilled_loss: 0.0000e+00 - Complete_vs_Incomplete_loss: 0.0000e+00 - Intersect_vs_NonIntersect_loss: 0.0000e+00 - M_cluster_vs_N_clusters_loss: 0.0000e+00 - Above_vs_Below_loss: 0.0000e+00 - Same_vs_Not_Same_loss: 0.0000e+00 - Size_big_vs_Small_loss: 0.0000e+00 - Symmetery_vs_Non_symmetery_loss: 0.0000e+00 - Horizontal_vs_Vertical_loss: 0.6727 - Empty_vs_Non_Empty_loss: 0.0000e+00\n",
      "\n",
      "epoch 6 Head 19\n",
      "25/25 [==============================] - 0s 8ms/step - loss: 0.5238 - center_vs_notincenter_loss: 0.0000e+00 - circle_vs_notcircle_loss: 0.0000e+00 - Closed_vs_Open_figure_loss: 0.0000e+00 - Colinear_vs_Noncolinear_loss: 0.0000e+00 - Concave_vs_Convex_loss: 0.0000e+00 - Four_vs_notfour_side_loss: 0.0000e+00 - Triangle_vs_notTriangle_loss: 0.0000e+00 - Clockwise_vs_Anticlock_wise_loss: 0.0000e+00 - Left_vs_Right_loss: 0.0000e+00 - Parallel_vs_perpendicular_loss: 0.0000e+00 - Filled_vs_Unfilled_loss: 0.0000e+00 - Complete_vs_Incomplete_loss: 0.0000e+00 - Intersect_vs_NonIntersect_loss: 0.0000e+00 - M_cluster_vs_N_clusters_loss: 0.0000e+00 - Above_vs_Below_loss: 0.0000e+00 - Same_vs_Not_Same_loss: 0.0000e+00 - Size_big_vs_Small_loss: 0.0000e+00 - Symmetery_vs_Non_symmetery_loss: 0.0000e+00 - Horizontal_vs_Vertical_loss: 0.0000e+00 - Empty_vs_Non_Empty_loss: 0.5238\n",
      "\n",
      "epoch 7 Head 0\n",
      "115/115 [==============================] - 1s 7ms/step - loss: 0.9390 - center_vs_notincenter_loss: 0.9390 - circle_vs_notcircle_loss: 0.0000e+00 - Closed_vs_Open_figure_loss: 0.0000e+00 - Colinear_vs_Noncolinear_loss: 0.0000e+00 - Concave_vs_Convex_loss: 0.0000e+00 - Four_vs_notfour_side_loss: 0.0000e+00 - Triangle_vs_notTriangle_loss: 0.0000e+00 - Clockwise_vs_Anticlock_wise_loss: 0.0000e+00 - Left_vs_Right_loss: 0.0000e+00 - Parallel_vs_perpendicular_loss: 0.0000e+00 - Filled_vs_Unfilled_loss: 0.0000e+00 - Complete_vs_Incomplete_loss: 0.0000e+00 - Intersect_vs_NonIntersect_loss: 0.0000e+00 - M_cluster_vs_N_clusters_loss: 0.0000e+00 - Above_vs_Below_loss: 0.0000e+00 - Same_vs_Not_Same_loss: 0.0000e+00 - Size_big_vs_Small_loss: 0.0000e+00 - Symmetery_vs_Non_symmetery_loss: 0.0000e+00 - Horizontal_vs_Vertical_loss: 0.0000e+00 - Empty_vs_Non_Empty_loss: 0.0000e+00\n",
      "\n",
      "epoch 7 Head 1\n",
      "50/50 [==============================] - 0s 7ms/step - loss: 0.7038 - center_vs_notincenter_loss: 0.0000e+00 - circle_vs_notcircle_loss: 0.7038 - Closed_vs_Open_figure_loss: 0.0000e+00 - Colinear_vs_Noncolinear_loss: 0.0000e+00 - Concave_vs_Convex_loss: 0.0000e+00 - Four_vs_notfour_side_loss: 0.0000e+00 - Triangle_vs_notTriangle_loss: 0.0000e+00 - Clockwise_vs_Anticlock_wise_loss: 0.0000e+00 - Left_vs_Right_loss: 0.0000e+00 - Parallel_vs_perpendicular_loss: 0.0000e+00 - Filled_vs_Unfilled_loss: 0.0000e+00 - Complete_vs_Incomplete_loss: 0.0000e+00 - Intersect_vs_NonIntersect_loss: 0.0000e+00 - M_cluster_vs_N_clusters_loss: 0.0000e+00 - Above_vs_Below_loss: 0.0000e+00 - Same_vs_Not_Same_loss: 0.0000e+00 - Size_big_vs_Small_loss: 0.0000e+00 - Symmetery_vs_Non_symmetery_loss: 0.0000e+00 - Horizontal_vs_Vertical_loss: 0.0000e+00 - Empty_vs_Non_Empty_loss: 0.0000e+00\n",
      "\n",
      "epoch 7 Head 2\n",
      "39/39 [==============================] - 0s 8ms/step - loss: 0.7002 - center_vs_notincenter_loss: 0.0000e+00 - circle_vs_notcircle_loss: 0.0000e+00 - Closed_vs_Open_figure_loss: 0.7002 - Colinear_vs_Noncolinear_loss: 0.0000e+00 - Concave_vs_Convex_loss: 0.0000e+00 - Four_vs_notfour_side_loss: 0.0000e+00 - Triangle_vs_notTriangle_loss: 0.0000e+00 - Clockwise_vs_Anticlock_wise_loss: 0.0000e+00 - Left_vs_Right_loss: 0.0000e+00 - Parallel_vs_perpendicular_loss: 0.0000e+00 - Filled_vs_Unfilled_loss: 0.0000e+00 - Complete_vs_Incomplete_loss: 0.0000e+00 - Intersect_vs_NonIntersect_loss: 0.0000e+00 - M_cluster_vs_N_clusters_loss: 0.0000e+00 - Above_vs_Below_loss: 0.0000e+00 - Same_vs_Not_Same_loss: 0.0000e+00 - Size_big_vs_Small_loss: 0.0000e+00 - Symmetery_vs_Non_symmetery_loss: 0.0000e+00 - Horizontal_vs_Vertical_loss: 0.0000e+00 - Empty_vs_Non_Empty_loss: 0.0000e+00\n",
      "\n",
      "epoch 7 Head 3\n",
      "50/50 [==============================] - 0s 7ms/step - loss: 0.6942 - center_vs_notincenter_loss: 0.0000e+00 - circle_vs_notcircle_loss: 0.0000e+00 - Closed_vs_Open_figure_loss: 0.0000e+00 - Colinear_vs_Noncolinear_loss: 0.6942 - Concave_vs_Convex_loss: 0.0000e+00 - Four_vs_notfour_side_loss: 0.0000e+00 - Triangle_vs_notTriangle_loss: 0.0000e+00 - Clockwise_vs_Anticlock_wise_loss: 0.0000e+00 - Left_vs_Right_loss: 0.0000e+00 - Parallel_vs_perpendicular_loss: 0.0000e+00 - Filled_vs_Unfilled_loss: 0.0000e+00 - Complete_vs_Incomplete_loss: 0.0000e+00 - Intersect_vs_NonIntersect_loss: 0.0000e+00 - M_cluster_vs_N_clusters_loss: 0.0000e+00 - Above_vs_Below_loss: 0.0000e+00 - Same_vs_Not_Same_loss: 0.0000e+00 - Size_big_vs_Small_loss: 0.0000e+00 - Symmetery_vs_Non_symmetery_loss: 0.0000e+00 - Horizontal_vs_Vertical_loss: 0.0000e+00 - Empty_vs_Non_Empty_loss: 0.0000e+00\n",
      "\n",
      "epoch 7 Head 4\n",
      "50/50 [==============================] - 0s 7ms/step - loss: 0.6932 - center_vs_notincenter_loss: 0.0000e+00 - circle_vs_notcircle_loss: 0.0000e+00 - Closed_vs_Open_figure_loss: 0.0000e+00 - Colinear_vs_Noncolinear_loss: 0.0000e+00 - Concave_vs_Convex_loss: 0.6932 - Four_vs_notfour_side_loss: 0.0000e+00 - Triangle_vs_notTriangle_loss: 0.0000e+00 - Clockwise_vs_Anticlock_wise_loss: 0.0000e+00 - Left_vs_Right_loss: 0.0000e+00 - Parallel_vs_perpendicular_loss: 0.0000e+00 - Filled_vs_Unfilled_loss: 0.0000e+00 - Complete_vs_Incomplete_loss: 0.0000e+00 - Intersect_vs_NonIntersect_loss: 0.0000e+00 - M_cluster_vs_N_clusters_loss: 0.0000e+00 - Above_vs_Below_loss: 0.0000e+00 - Same_vs_Not_Same_loss: 0.0000e+00 - Size_big_vs_Small_loss: 0.0000e+00 - Symmetery_vs_Non_symmetery_loss: 0.0000e+00 - Horizontal_vs_Vertical_loss: 0.0000e+00 - Empty_vs_Non_Empty_loss: 0.0000e+00\n",
      "\n",
      "epoch 7 Head 5\n",
      "175/175 [==============================] - 1s 7ms/step - loss: 0.6932 - center_vs_notincenter_loss: 0.0000e+00 - circle_vs_notcircle_loss: 0.0000e+00 - Closed_vs_Open_figure_loss: 0.0000e+00 - Colinear_vs_Noncolinear_loss: 0.0000e+00 - Concave_vs_Convex_loss: 0.0000e+00 - Four_vs_notfour_side_loss: 0.6932 - Triangle_vs_notTriangle_loss: 0.0000e+00 - Clockwise_vs_Anticlock_wise_loss: 0.0000e+00 - Left_vs_Right_loss: 0.0000e+00 - Parallel_vs_perpendicular_loss: 0.0000e+00 - Filled_vs_Unfilled_loss: 0.0000e+00 - Complete_vs_Incomplete_loss: 0.0000e+00 - Intersect_vs_NonIntersect_loss: 0.0000e+00 - M_cluster_vs_N_clusters_loss: 0.0000e+00 - Above_vs_Below_loss: 0.0000e+00 - Same_vs_Not_Same_loss: 0.0000e+00 - Size_big_vs_Small_loss: 0.0000e+00 - Symmetery_vs_Non_symmetery_loss: 0.0000e+00 - Horizontal_vs_Vertical_loss: 0.0000e+00 - Empty_vs_Non_Empty_loss: 0.0000e+00\n",
      "\n",
      "epoch 7 Head 6\n",
      "175/175 [==============================] - 1s 7ms/step - loss: 0.6932 - center_vs_notincenter_loss: 0.0000e+00 - circle_vs_notcircle_loss: 0.0000e+00 - Closed_vs_Open_figure_loss: 0.0000e+00 - Colinear_vs_Noncolinear_loss: 0.0000e+00 - Concave_vs_Convex_loss: 0.0000e+00 - Four_vs_notfour_side_loss: 0.0000e+00 - Triangle_vs_notTriangle_loss: 0.6932 - Clockwise_vs_Anticlock_wise_loss: 0.0000e+00 - Left_vs_Right_loss: 0.0000e+00 - Parallel_vs_perpendicular_loss: 0.0000e+00 - Filled_vs_Unfilled_loss: 0.0000e+00 - Complete_vs_Incomplete_loss: 0.0000e+00 - Intersect_vs_NonIntersect_loss: 0.0000e+00 - M_cluster_vs_N_clusters_loss: 0.0000e+00 - Above_vs_Below_loss: 0.0000e+00 - Same_vs_Not_Same_loss: 0.0000e+00 - Size_big_vs_Small_loss: 0.0000e+00 - Symmetery_vs_Non_symmetery_loss: 0.0000e+00 - Horizontal_vs_Vertical_loss: 0.0000e+00 - Empty_vs_Non_Empty_loss: 0.0000e+00\n",
      "\n",
      "epoch 7 Head 7\n",
      "75/75 [==============================] - 1s 7ms/step - loss: 0.6935 - center_vs_notincenter_loss: 0.0000e+00 - circle_vs_notcircle_loss: 0.0000e+00 - Closed_vs_Open_figure_loss: 0.0000e+00 - Colinear_vs_Noncolinear_loss: 0.0000e+00 - Concave_vs_Convex_loss: 0.0000e+00 - Four_vs_notfour_side_loss: 0.0000e+00 - Triangle_vs_notTriangle_loss: 0.0000e+00 - Clockwise_vs_Anticlock_wise_loss: 0.6935 - Left_vs_Right_loss: 0.0000e+00 - Parallel_vs_perpendicular_loss: 0.0000e+00 - Filled_vs_Unfilled_loss: 0.0000e+00 - Complete_vs_Incomplete_loss: 0.0000e+00 - Intersect_vs_NonIntersect_loss: 0.0000e+00 - M_cluster_vs_N_clusters_loss: 0.0000e+00 - Above_vs_Below_loss: 0.0000e+00 - Same_vs_Not_Same_loss: 0.0000e+00 - Size_big_vs_Small_loss: 0.0000e+00 - Symmetery_vs_Non_symmetery_loss: 0.0000e+00 - Horizontal_vs_Vertical_loss: 0.0000e+00 - Empty_vs_Non_Empty_loss: 0.0000e+00\n",
      "\n",
      "epoch 7 Head 8\n",
      "63/63 [==============================] - 0s 8ms/step - loss: 0.6754 - center_vs_notincenter_loss: 0.0000e+00 - circle_vs_notcircle_loss: 0.0000e+00 - Closed_vs_Open_figure_loss: 0.0000e+00 - Colinear_vs_Noncolinear_loss: 0.0000e+00 - Concave_vs_Convex_loss: 0.0000e+00 - Four_vs_notfour_side_loss: 0.0000e+00 - Triangle_vs_notTriangle_loss: 0.0000e+00 - Clockwise_vs_Anticlock_wise_loss: 0.0000e+00 - Left_vs_Right_loss: 0.6754 - Parallel_vs_perpendicular_loss: 0.0000e+00 - Filled_vs_Unfilled_loss: 0.0000e+00 - Complete_vs_Incomplete_loss: 0.0000e+00 - Intersect_vs_NonIntersect_loss: 0.0000e+00 - M_cluster_vs_N_clusters_loss: 0.0000e+00 - Above_vs_Below_loss: 0.0000e+00 - Same_vs_Not_Same_loss: 0.0000e+00 - Size_big_vs_Small_loss: 0.0000e+00 - Symmetery_vs_Non_symmetery_loss: 0.0000e+00 - Horizontal_vs_Vertical_loss: 0.0000e+00 - Empty_vs_Non_Empty_loss: 0.0000e+00\n",
      "\n",
      "epoch 7 Head 9\n",
      "25/25 [==============================] - 0s 8ms/step - loss: 0.6931 - center_vs_notincenter_loss: 0.0000e+00 - circle_vs_notcircle_loss: 0.0000e+00 - Closed_vs_Open_figure_loss: 0.0000e+00 - Colinear_vs_Noncolinear_loss: 0.0000e+00 - Concave_vs_Convex_loss: 0.0000e+00 - Four_vs_notfour_side_loss: 0.0000e+00 - Triangle_vs_notTriangle_loss: 0.0000e+00 - Clockwise_vs_Anticlock_wise_loss: 0.0000e+00 - Left_vs_Right_loss: 0.0000e+00 - Parallel_vs_perpendicular_loss: 0.6931 - Filled_vs_Unfilled_loss: 0.0000e+00 - Complete_vs_Incomplete_loss: 0.0000e+00 - Intersect_vs_NonIntersect_loss: 0.0000e+00 - M_cluster_vs_N_clusters_loss: 0.0000e+00 - Above_vs_Below_loss: 0.0000e+00 - Same_vs_Not_Same_loss: 0.0000e+00 - Size_big_vs_Small_loss: 0.0000e+00 - Symmetery_vs_Non_symmetery_loss: 0.0000e+00 - Horizontal_vs_Vertical_loss: 0.0000e+00 - Empty_vs_Non_Empty_loss: 0.0000e+00\n",
      "\n",
      "epoch 7 Head 10\n",
      "55/55 [==============================] - 0s 7ms/step - loss: 0.6933 - center_vs_notincenter_loss: 0.0000e+00 - circle_vs_notcircle_loss: 0.0000e+00 - Closed_vs_Open_figure_loss: 0.0000e+00 - Colinear_vs_Noncolinear_loss: 0.0000e+00 - Concave_vs_Convex_loss: 0.0000e+00 - Four_vs_notfour_side_loss: 0.0000e+00 - Triangle_vs_notTriangle_loss: 0.0000e+00 - Clockwise_vs_Anticlock_wise_loss: 0.0000e+00 - Left_vs_Right_loss: 0.0000e+00 - Parallel_vs_perpendicular_loss: 0.0000e+00 - Filled_vs_Unfilled_loss: 0.6933 - Complete_vs_Incomplete_loss: 0.0000e+00 - Intersect_vs_NonIntersect_loss: 0.0000e+00 - M_cluster_vs_N_clusters_loss: 0.0000e+00 - Above_vs_Below_loss: 0.0000e+00 - Same_vs_Not_Same_loss: 0.0000e+00 - Size_big_vs_Small_loss: 0.0000e+00 - Symmetery_vs_Non_symmetery_loss: 0.0000e+00 - Horizontal_vs_Vertical_loss: 0.0000e+00 - Empty_vs_Non_Empty_loss: 0.0000e+00\n",
      "\n",
      "epoch 7 Head 11\n",
      "100/100 [==============================] - 1s 7ms/step - loss: 0.6935 - center_vs_notincenter_loss: 0.0000e+00 - circle_vs_notcircle_loss: 0.0000e+00 - Closed_vs_Open_figure_loss: 0.0000e+00 - Colinear_vs_Noncolinear_loss: 0.0000e+00 - Concave_vs_Convex_loss: 0.0000e+00 - Four_vs_notfour_side_loss: 0.0000e+00 - Triangle_vs_notTriangle_loss: 0.0000e+00 - Clockwise_vs_Anticlock_wise_loss: 0.0000e+00 - Left_vs_Right_loss: 0.0000e+00 - Parallel_vs_perpendicular_loss: 0.0000e+00 - Filled_vs_Unfilled_loss: 0.0000e+00 - Complete_vs_Incomplete_loss: 0.6935 - Intersect_vs_NonIntersect_loss: 0.0000e+00 - M_cluster_vs_N_clusters_loss: 0.0000e+00 - Above_vs_Below_loss: 0.0000e+00 - Same_vs_Not_Same_loss: 0.0000e+00 - Size_big_vs_Small_loss: 0.0000e+00 - Symmetery_vs_Non_symmetery_loss: 0.0000e+00 - Horizontal_vs_Vertical_loss: 0.0000e+00 - Empty_vs_Non_Empty_loss: 0.0000e+00\n",
      "\n",
      "epoch 7 Head 12\n",
      "112/112 [==============================] - 1s 8ms/step - loss: 0.7008 - center_vs_notincenter_loss: 0.0000e+00 - circle_vs_notcircle_loss: 0.0000e+00 - Closed_vs_Open_figure_loss: 0.0000e+00 - Colinear_vs_Noncolinear_loss: 0.0000e+00 - Concave_vs_Convex_loss: 0.0000e+00 - Four_vs_notfour_side_loss: 0.0000e+00 - Triangle_vs_notTriangle_loss: 0.0000e+00 - Clockwise_vs_Anticlock_wise_loss: 0.0000e+00 - Left_vs_Right_loss: 0.0000e+00 - Parallel_vs_perpendicular_loss: 0.0000e+00 - Filled_vs_Unfilled_loss: 0.0000e+00 - Complete_vs_Incomplete_loss: 0.0000e+00 - Intersect_vs_NonIntersect_loss: 0.7008 - M_cluster_vs_N_clusters_loss: 0.0000e+00 - Above_vs_Below_loss: 0.0000e+00 - Same_vs_Not_Same_loss: 0.0000e+00 - Size_big_vs_Small_loss: 0.0000e+00 - Symmetery_vs_Non_symmetery_loss: 0.0000e+00 - Horizontal_vs_Vertical_loss: 0.0000e+00 - Empty_vs_Non_Empty_loss: 0.0000e+00\n",
      "\n",
      "epoch 7 Head 13\n",
      "50/50 [==============================] - 0s 7ms/step - loss: 0.6932 - center_vs_notincenter_loss: 0.0000e+00 - circle_vs_notcircle_loss: 0.0000e+00 - Closed_vs_Open_figure_loss: 0.0000e+00 - Colinear_vs_Noncolinear_loss: 0.0000e+00 - Concave_vs_Convex_loss: 0.0000e+00 - Four_vs_notfour_side_loss: 0.0000e+00 - Triangle_vs_notTriangle_loss: 0.0000e+00 - Clockwise_vs_Anticlock_wise_loss: 0.0000e+00 - Left_vs_Right_loss: 0.0000e+00 - Parallel_vs_perpendicular_loss: 0.0000e+00 - Filled_vs_Unfilled_loss: 0.0000e+00 - Complete_vs_Incomplete_loss: 0.0000e+00 - Intersect_vs_NonIntersect_loss: 0.0000e+00 - M_cluster_vs_N_clusters_loss: 0.6932 - Above_vs_Below_loss: 0.0000e+00 - Same_vs_Not_Same_loss: 0.0000e+00 - Size_big_vs_Small_loss: 0.0000e+00 - Symmetery_vs_Non_symmetery_loss: 0.0000e+00 - Horizontal_vs_Vertical_loss: 0.0000e+00 - Empty_vs_Non_Empty_loss: 0.0000e+00\n",
      "\n",
      "epoch 7 Head 14\n",
      "60/60 [==============================] - 0s 8ms/step - loss: 0.6932 - center_vs_notincenter_loss: 0.0000e+00 - circle_vs_notcircle_loss: 0.0000e+00 - Closed_vs_Open_figure_loss: 0.0000e+00 - Colinear_vs_Noncolinear_loss: 0.0000e+00 - Concave_vs_Convex_loss: 0.0000e+00 - Four_vs_notfour_side_loss: 0.0000e+00 - Triangle_vs_notTriangle_loss: 0.0000e+00 - Clockwise_vs_Anticlock_wise_loss: 0.0000e+00 - Left_vs_Right_loss: 0.0000e+00 - Parallel_vs_perpendicular_loss: 0.0000e+00 - Filled_vs_Unfilled_loss: 0.0000e+00 - Complete_vs_Incomplete_loss: 0.0000e+00 - Intersect_vs_NonIntersect_loss: 0.0000e+00 - M_cluster_vs_N_clusters_loss: 0.0000e+00 - Above_vs_Below_loss: 0.6932 - Same_vs_Not_Same_loss: 0.0000e+00 - Size_big_vs_Small_loss: 0.0000e+00 - Symmetery_vs_Non_symmetery_loss: 0.0000e+00 - Horizontal_vs_Vertical_loss: 0.0000e+00 - Empty_vs_Non_Empty_loss: 0.0000e+00\n",
      "\n",
      "epoch 7 Head 15\n",
      "80/80 [==============================] - 1s 7ms/step - loss: 0.6930 - center_vs_notincenter_loss: 0.0000e+00 - circle_vs_notcircle_loss: 0.0000e+00 - Closed_vs_Open_figure_loss: 0.0000e+00 - Colinear_vs_Noncolinear_loss: 0.0000e+00 - Concave_vs_Convex_loss: 0.0000e+00 - Four_vs_notfour_side_loss: 0.0000e+00 - Triangle_vs_notTriangle_loss: 0.0000e+00 - Clockwise_vs_Anticlock_wise_loss: 0.0000e+00 - Left_vs_Right_loss: 0.0000e+00 - Parallel_vs_perpendicular_loss: 0.0000e+00 - Filled_vs_Unfilled_loss: 0.0000e+00 - Complete_vs_Incomplete_loss: 0.0000e+00 - Intersect_vs_NonIntersect_loss: 0.0000e+00 - M_cluster_vs_N_clusters_loss: 0.0000e+00 - Above_vs_Below_loss: 0.0000e+00 - Same_vs_Not_Same_loss: 0.6930 - Size_big_vs_Small_loss: 0.0000e+00 - Symmetery_vs_Non_symmetery_loss: 0.0000e+00 - Horizontal_vs_Vertical_loss: 0.0000e+00 - Empty_vs_Non_Empty_loss: 0.0000e+00\n",
      "\n",
      "epoch 7 Head 16\n",
      "50/50 [==============================] - 0s 7ms/step - loss: 0.6945 - center_vs_notincenter_loss: 0.0000e+00 - circle_vs_notcircle_loss: 0.0000e+00 - Closed_vs_Open_figure_loss: 0.0000e+00 - Colinear_vs_Noncolinear_loss: 0.0000e+00 - Concave_vs_Convex_loss: 0.0000e+00 - Four_vs_notfour_side_loss: 0.0000e+00 - Triangle_vs_notTriangle_loss: 0.0000e+00 - Clockwise_vs_Anticlock_wise_loss: 0.0000e+00 - Left_vs_Right_loss: 0.0000e+00 - Parallel_vs_perpendicular_loss: 0.0000e+00 - Filled_vs_Unfilled_loss: 0.0000e+00 - Complete_vs_Incomplete_loss: 0.0000e+00 - Intersect_vs_NonIntersect_loss: 0.0000e+00 - M_cluster_vs_N_clusters_loss: 0.0000e+00 - Above_vs_Below_loss: 0.0000e+00 - Same_vs_Not_Same_loss: 0.0000e+00 - Size_big_vs_Small_loss: 0.6945 - Symmetery_vs_Non_symmetery_loss: 0.0000e+00 - Horizontal_vs_Vertical_loss: 0.0000e+00 - Empty_vs_Non_Empty_loss: 0.0000e+00\n",
      "\n",
      "epoch 7 Head 17\n",
      "137/137 [==============================] - 1s 7ms/step - loss: 0.6949 - center_vs_notincenter_loss: 0.0000e+00 - circle_vs_notcircle_loss: 0.0000e+00 - Closed_vs_Open_figure_loss: 0.0000e+00 - Colinear_vs_Noncolinear_loss: 0.0000e+00 - Concave_vs_Convex_loss: 0.0000e+00 - Four_vs_notfour_side_loss: 0.0000e+00 - Triangle_vs_notTriangle_loss: 0.0000e+00 - Clockwise_vs_Anticlock_wise_loss: 0.0000e+00 - Left_vs_Right_loss: 0.0000e+00 - Parallel_vs_perpendicular_loss: 0.0000e+00 - Filled_vs_Unfilled_loss: 0.0000e+00 - Complete_vs_Incomplete_loss: 0.0000e+00 - Intersect_vs_NonIntersect_loss: 0.0000e+00 - M_cluster_vs_N_clusters_loss: 0.0000e+00 - Above_vs_Below_loss: 0.0000e+00 - Same_vs_Not_Same_loss: 0.0000e+00 - Size_big_vs_Small_loss: 0.0000e+00 - Symmetery_vs_Non_symmetery_loss: 0.6949 - Horizontal_vs_Vertical_loss: 0.0000e+00 - Empty_vs_Non_Empty_loss: 0.0000e+00\n",
      "\n",
      "epoch 7 Head 18\n",
      "50/50 [==============================] - 0s 7ms/step - loss: 0.6942 - center_vs_notincenter_loss: 0.0000e+00 - circle_vs_notcircle_loss: 0.0000e+00 - Closed_vs_Open_figure_loss: 0.0000e+00 - Colinear_vs_Noncolinear_loss: 0.0000e+00 - Concave_vs_Convex_loss: 0.0000e+00 - Four_vs_notfour_side_loss: 0.0000e+00 - Triangle_vs_notTriangle_loss: 0.0000e+00 - Clockwise_vs_Anticlock_wise_loss: 0.0000e+00 - Left_vs_Right_loss: 0.0000e+00 - Parallel_vs_perpendicular_loss: 0.0000e+00 - Filled_vs_Unfilled_loss: 0.0000e+00 - Complete_vs_Incomplete_loss: 0.0000e+00 - Intersect_vs_NonIntersect_loss: 0.0000e+00 - M_cluster_vs_N_clusters_loss: 0.0000e+00 - Above_vs_Below_loss: 0.0000e+00 - Same_vs_Not_Same_loss: 0.0000e+00 - Size_big_vs_Small_loss: 0.0000e+00 - Symmetery_vs_Non_symmetery_loss: 0.0000e+00 - Horizontal_vs_Vertical_loss: 0.6942 - Empty_vs_Non_Empty_loss: 0.0000e+00\n",
      "\n",
      "epoch 7 Head 19\n",
      "25/25 [==============================] - 0s 7ms/step - loss: 0.6935 - center_vs_notincenter_loss: 0.0000e+00 - circle_vs_notcircle_loss: 0.0000e+00 - Closed_vs_Open_figure_loss: 0.0000e+00 - Colinear_vs_Noncolinear_loss: 0.0000e+00 - Concave_vs_Convex_loss: 0.0000e+00 - Four_vs_notfour_side_loss: 0.0000e+00 - Triangle_vs_notTriangle_loss: 0.0000e+00 - Clockwise_vs_Anticlock_wise_loss: 0.0000e+00 - Left_vs_Right_loss: 0.0000e+00 - Parallel_vs_perpendicular_loss: 0.0000e+00 - Filled_vs_Unfilled_loss: 0.0000e+00 - Complete_vs_Incomplete_loss: 0.0000e+00 - Intersect_vs_NonIntersect_loss: 0.0000e+00 - M_cluster_vs_N_clusters_loss: 0.0000e+00 - Above_vs_Below_loss: 0.0000e+00 - Same_vs_Not_Same_loss: 0.0000e+00 - Size_big_vs_Small_loss: 0.0000e+00 - Symmetery_vs_Non_symmetery_loss: 0.0000e+00 - Horizontal_vs_Vertical_loss: 0.0000e+00 - Empty_vs_Non_Empty_loss: 0.6935\n",
      "\n",
      "epoch 8 Head 0\n",
      "115/115 [==============================] - 1s 7ms/step - loss: 0.6983 - center_vs_notincenter_loss: 0.6983 - circle_vs_notcircle_loss: 0.0000e+00 - Closed_vs_Open_figure_loss: 0.0000e+00 - Colinear_vs_Noncolinear_loss: 0.0000e+00 - Concave_vs_Convex_loss: 0.0000e+00 - Four_vs_notfour_side_loss: 0.0000e+00 - Triangle_vs_notTriangle_loss: 0.0000e+00 - Clockwise_vs_Anticlock_wise_loss: 0.0000e+00 - Left_vs_Right_loss: 0.0000e+00 - Parallel_vs_perpendicular_loss: 0.0000e+00 - Filled_vs_Unfilled_loss: 0.0000e+00 - Complete_vs_Incomplete_loss: 0.0000e+00 - Intersect_vs_NonIntersect_loss: 0.0000e+00 - M_cluster_vs_N_clusters_loss: 0.0000e+00 - Above_vs_Below_loss: 0.0000e+00 - Same_vs_Not_Same_loss: 0.0000e+00 - Size_big_vs_Small_loss: 0.0000e+00 - Symmetery_vs_Non_symmetery_loss: 0.0000e+00 - Horizontal_vs_Vertical_loss: 0.0000e+00 - Empty_vs_Non_Empty_loss: 0.0000e+00\n",
      "\n",
      "epoch 8 Head 1\n",
      "50/50 [==============================] - 0s 7ms/step - loss: 0.7005 - center_vs_notincenter_loss: 0.0000e+00 - circle_vs_notcircle_loss: 0.7005 - Closed_vs_Open_figure_loss: 0.0000e+00 - Colinear_vs_Noncolinear_loss: 0.0000e+00 - Concave_vs_Convex_loss: 0.0000e+00 - Four_vs_notfour_side_loss: 0.0000e+00 - Triangle_vs_notTriangle_loss: 0.0000e+00 - Clockwise_vs_Anticlock_wise_loss: 0.0000e+00 - Left_vs_Right_loss: 0.0000e+00 - Parallel_vs_perpendicular_loss: 0.0000e+00 - Filled_vs_Unfilled_loss: 0.0000e+00 - Complete_vs_Incomplete_loss: 0.0000e+00 - Intersect_vs_NonIntersect_loss: 0.0000e+00 - M_cluster_vs_N_clusters_loss: 0.0000e+00 - Above_vs_Below_loss: 0.0000e+00 - Same_vs_Not_Same_loss: 0.0000e+00 - Size_big_vs_Small_loss: 0.0000e+00 - Symmetery_vs_Non_symmetery_loss: 0.0000e+00 - Horizontal_vs_Vertical_loss: 0.0000e+00 - Empty_vs_Non_Empty_loss: 0.0000e+00\n",
      "\n",
      "epoch 8 Head 2\n",
      "39/39 [==============================] - 0s 8ms/step - loss: 0.6983 - center_vs_notincenter_loss: 0.0000e+00 - circle_vs_notcircle_loss: 0.0000e+00 - Closed_vs_Open_figure_loss: 0.6983 - Colinear_vs_Noncolinear_loss: 0.0000e+00 - Concave_vs_Convex_loss: 0.0000e+00 - Four_vs_notfour_side_loss: 0.0000e+00 - Triangle_vs_notTriangle_loss: 0.0000e+00 - Clockwise_vs_Anticlock_wise_loss: 0.0000e+00 - Left_vs_Right_loss: 0.0000e+00 - Parallel_vs_perpendicular_loss: 0.0000e+00 - Filled_vs_Unfilled_loss: 0.0000e+00 - Complete_vs_Incomplete_loss: 0.0000e+00 - Intersect_vs_NonIntersect_loss: 0.0000e+00 - M_cluster_vs_N_clusters_loss: 0.0000e+00 - Above_vs_Below_loss: 0.0000e+00 - Same_vs_Not_Same_loss: 0.0000e+00 - Size_big_vs_Small_loss: 0.0000e+00 - Symmetery_vs_Non_symmetery_loss: 0.0000e+00 - Horizontal_vs_Vertical_loss: 0.0000e+00 - Empty_vs_Non_Empty_loss: 0.0000e+00\n",
      "\n",
      "epoch 8 Head 3\n",
      "50/50 [==============================] - 0s 7ms/step - loss: 0.6939 - center_vs_notincenter_loss: 0.0000e+00 - circle_vs_notcircle_loss: 0.0000e+00 - Closed_vs_Open_figure_loss: 0.0000e+00 - Colinear_vs_Noncolinear_loss: 0.6939 - Concave_vs_Convex_loss: 0.0000e+00 - Four_vs_notfour_side_loss: 0.0000e+00 - Triangle_vs_notTriangle_loss: 0.0000e+00 - Clockwise_vs_Anticlock_wise_loss: 0.0000e+00 - Left_vs_Right_loss: 0.0000e+00 - Parallel_vs_perpendicular_loss: 0.0000e+00 - Filled_vs_Unfilled_loss: 0.0000e+00 - Complete_vs_Incomplete_loss: 0.0000e+00 - Intersect_vs_NonIntersect_loss: 0.0000e+00 - M_cluster_vs_N_clusters_loss: 0.0000e+00 - Above_vs_Below_loss: 0.0000e+00 - Same_vs_Not_Same_loss: 0.0000e+00 - Size_big_vs_Small_loss: 0.0000e+00 - Symmetery_vs_Non_symmetery_loss: 0.0000e+00 - Horizontal_vs_Vertical_loss: 0.0000e+00 - Empty_vs_Non_Empty_loss: 0.0000e+00\n",
      "\n",
      "epoch 8 Head 4\n",
      "50/50 [==============================] - 0s 7ms/step - loss: 0.6932 - center_vs_notincenter_loss: 0.0000e+00 - circle_vs_notcircle_loss: 0.0000e+00 - Closed_vs_Open_figure_loss: 0.0000e+00 - Colinear_vs_Noncolinear_loss: 0.0000e+00 - Concave_vs_Convex_loss: 0.6932 - Four_vs_notfour_side_loss: 0.0000e+00 - Triangle_vs_notTriangle_loss: 0.0000e+00 - Clockwise_vs_Anticlock_wise_loss: 0.0000e+00 - Left_vs_Right_loss: 0.0000e+00 - Parallel_vs_perpendicular_loss: 0.0000e+00 - Filled_vs_Unfilled_loss: 0.0000e+00 - Complete_vs_Incomplete_loss: 0.0000e+00 - Intersect_vs_NonIntersect_loss: 0.0000e+00 - M_cluster_vs_N_clusters_loss: 0.0000e+00 - Above_vs_Below_loss: 0.0000e+00 - Same_vs_Not_Same_loss: 0.0000e+00 - Size_big_vs_Small_loss: 0.0000e+00 - Symmetery_vs_Non_symmetery_loss: 0.0000e+00 - Horizontal_vs_Vertical_loss: 0.0000e+00 - Empty_vs_Non_Empty_loss: 0.0000e+00\n",
      "\n",
      "epoch 8 Head 5\n",
      "175/175 [==============================] - 1s 7ms/step - loss: 0.6932 - center_vs_notincenter_loss: 0.0000e+00 - circle_vs_notcircle_loss: 0.0000e+00 - Closed_vs_Open_figure_loss: 0.0000e+00 - Colinear_vs_Noncolinear_loss: 0.0000e+00 - Concave_vs_Convex_loss: 0.0000e+00 - Four_vs_notfour_side_loss: 0.6932 - Triangle_vs_notTriangle_loss: 0.0000e+00 - Clockwise_vs_Anticlock_wise_loss: 0.0000e+00 - Left_vs_Right_loss: 0.0000e+00 - Parallel_vs_perpendicular_loss: 0.0000e+00 - Filled_vs_Unfilled_loss: 0.0000e+00 - Complete_vs_Incomplete_loss: 0.0000e+00 - Intersect_vs_NonIntersect_loss: 0.0000e+00 - M_cluster_vs_N_clusters_loss: 0.0000e+00 - Above_vs_Below_loss: 0.0000e+00 - Same_vs_Not_Same_loss: 0.0000e+00 - Size_big_vs_Small_loss: 0.0000e+00 - Symmetery_vs_Non_symmetery_loss: 0.0000e+00 - Horizontal_vs_Vertical_loss: 0.0000e+00 - Empty_vs_Non_Empty_loss: 0.0000e+00\n",
      "\n",
      "epoch 8 Head 6\n",
      "175/175 [==============================] - 1s 7ms/step - loss: 0.6931 - center_vs_notincenter_loss: 0.0000e+00 - circle_vs_notcircle_loss: 0.0000e+00 - Closed_vs_Open_figure_loss: 0.0000e+00 - Colinear_vs_Noncolinear_loss: 0.0000e+00 - Concave_vs_Convex_loss: 0.0000e+00 - Four_vs_notfour_side_loss: 0.0000e+00 - Triangle_vs_notTriangle_loss: 0.6931 - Clockwise_vs_Anticlock_wise_loss: 0.0000e+00 - Left_vs_Right_loss: 0.0000e+00 - Parallel_vs_perpendicular_loss: 0.0000e+00 - Filled_vs_Unfilled_loss: 0.0000e+00 - Complete_vs_Incomplete_loss: 0.0000e+00 - Intersect_vs_NonIntersect_loss: 0.0000e+00 - M_cluster_vs_N_clusters_loss: 0.0000e+00 - Above_vs_Below_loss: 0.0000e+00 - Same_vs_Not_Same_loss: 0.0000e+00 - Size_big_vs_Small_loss: 0.0000e+00 - Symmetery_vs_Non_symmetery_loss: 0.0000e+00 - Horizontal_vs_Vertical_loss: 0.0000e+00 - Empty_vs_Non_Empty_loss: 0.0000e+00\n",
      "\n",
      "epoch 8 Head 7\n",
      "75/75 [==============================] - 1s 8ms/step - loss: 0.6932 - center_vs_notincenter_loss: 0.0000e+00 - circle_vs_notcircle_loss: 0.0000e+00 - Closed_vs_Open_figure_loss: 0.0000e+00 - Colinear_vs_Noncolinear_loss: 0.0000e+00 - Concave_vs_Convex_loss: 0.0000e+00 - Four_vs_notfour_side_loss: 0.0000e+00 - Triangle_vs_notTriangle_loss: 0.0000e+00 - Clockwise_vs_Anticlock_wise_loss: 0.6932 - Left_vs_Right_loss: 0.0000e+00 - Parallel_vs_perpendicular_loss: 0.0000e+00 - Filled_vs_Unfilled_loss: 0.0000e+00 - Complete_vs_Incomplete_loss: 0.0000e+00 - Intersect_vs_NonIntersect_loss: 0.0000e+00 - M_cluster_vs_N_clusters_loss: 0.0000e+00 - Above_vs_Below_loss: 0.0000e+00 - Same_vs_Not_Same_loss: 0.0000e+00 - Size_big_vs_Small_loss: 0.0000e+00 - Symmetery_vs_Non_symmetery_loss: 0.0000e+00 - Horizontal_vs_Vertical_loss: 0.0000e+00 - Empty_vs_Non_Empty_loss: 0.0000e+00\n",
      "\n",
      "epoch 8 Head 8\n",
      "63/63 [==============================] - 1s 8ms/step - loss: 0.6754 - center_vs_notincenter_loss: 0.0000e+00 - circle_vs_notcircle_loss: 0.0000e+00 - Closed_vs_Open_figure_loss: 0.0000e+00 - Colinear_vs_Noncolinear_loss: 0.0000e+00 - Concave_vs_Convex_loss: 0.0000e+00 - Four_vs_notfour_side_loss: 0.0000e+00 - Triangle_vs_notTriangle_loss: 0.0000e+00 - Clockwise_vs_Anticlock_wise_loss: 0.0000e+00 - Left_vs_Right_loss: 0.6754 - Parallel_vs_perpendicular_loss: 0.0000e+00 - Filled_vs_Unfilled_loss: 0.0000e+00 - Complete_vs_Incomplete_loss: 0.0000e+00 - Intersect_vs_NonIntersect_loss: 0.0000e+00 - M_cluster_vs_N_clusters_loss: 0.0000e+00 - Above_vs_Below_loss: 0.0000e+00 - Same_vs_Not_Same_loss: 0.0000e+00 - Size_big_vs_Small_loss: 0.0000e+00 - Symmetery_vs_Non_symmetery_loss: 0.0000e+00 - Horizontal_vs_Vertical_loss: 0.0000e+00 - Empty_vs_Non_Empty_loss: 0.0000e+00\n",
      "\n",
      "epoch 8 Head 9\n",
      "25/25 [==============================] - 0s 7ms/step - loss: 0.6931 - center_vs_notincenter_loss: 0.0000e+00 - circle_vs_notcircle_loss: 0.0000e+00 - Closed_vs_Open_figure_loss: 0.0000e+00 - Colinear_vs_Noncolinear_loss: 0.0000e+00 - Concave_vs_Convex_loss: 0.0000e+00 - Four_vs_notfour_side_loss: 0.0000e+00 - Triangle_vs_notTriangle_loss: 0.0000e+00 - Clockwise_vs_Anticlock_wise_loss: 0.0000e+00 - Left_vs_Right_loss: 0.0000e+00 - Parallel_vs_perpendicular_loss: 0.6931 - Filled_vs_Unfilled_loss: 0.0000e+00 - Complete_vs_Incomplete_loss: 0.0000e+00 - Intersect_vs_NonIntersect_loss: 0.0000e+00 - M_cluster_vs_N_clusters_loss: 0.0000e+00 - Above_vs_Below_loss: 0.0000e+00 - Same_vs_Not_Same_loss: 0.0000e+00 - Size_big_vs_Small_loss: 0.0000e+00 - Symmetery_vs_Non_symmetery_loss: 0.0000e+00 - Horizontal_vs_Vertical_loss: 0.0000e+00 - Empty_vs_Non_Empty_loss: 0.0000e+00\n",
      "\n",
      "epoch 8 Head 10\n",
      "55/55 [==============================] - 0s 7ms/step - loss: 0.6931 - center_vs_notincenter_loss: 0.0000e+00 - circle_vs_notcircle_loss: 0.0000e+00 - Closed_vs_Open_figure_loss: 0.0000e+00 - Colinear_vs_Noncolinear_loss: 0.0000e+00 - Concave_vs_Convex_loss: 0.0000e+00 - Four_vs_notfour_side_loss: 0.0000e+00 - Triangle_vs_notTriangle_loss: 0.0000e+00 - Clockwise_vs_Anticlock_wise_loss: 0.0000e+00 - Left_vs_Right_loss: 0.0000e+00 - Parallel_vs_perpendicular_loss: 0.0000e+00 - Filled_vs_Unfilled_loss: 0.6931 - Complete_vs_Incomplete_loss: 0.0000e+00 - Intersect_vs_NonIntersect_loss: 0.0000e+00 - M_cluster_vs_N_clusters_loss: 0.0000e+00 - Above_vs_Below_loss: 0.0000e+00 - Same_vs_Not_Same_loss: 0.0000e+00 - Size_big_vs_Small_loss: 0.0000e+00 - Symmetery_vs_Non_symmetery_loss: 0.0000e+00 - Horizontal_vs_Vertical_loss: 0.0000e+00 - Empty_vs_Non_Empty_loss: 0.0000e+00\n",
      "\n",
      "epoch 8 Head 11\n",
      "100/100 [==============================] - 1s 7ms/step - loss: 0.6933 - center_vs_notincenter_loss: 0.0000e+00 - circle_vs_notcircle_loss: 0.0000e+00 - Closed_vs_Open_figure_loss: 0.0000e+00 - Colinear_vs_Noncolinear_loss: 0.0000e+00 - Concave_vs_Convex_loss: 0.0000e+00 - Four_vs_notfour_side_loss: 0.0000e+00 - Triangle_vs_notTriangle_loss: 0.0000e+00 - Clockwise_vs_Anticlock_wise_loss: 0.0000e+00 - Left_vs_Right_loss: 0.0000e+00 - Parallel_vs_perpendicular_loss: 0.0000e+00 - Filled_vs_Unfilled_loss: 0.0000e+00 - Complete_vs_Incomplete_loss: 0.6933 - Intersect_vs_NonIntersect_loss: 0.0000e+00 - M_cluster_vs_N_clusters_loss: 0.0000e+00 - Above_vs_Below_loss: 0.0000e+00 - Same_vs_Not_Same_loss: 0.0000e+00 - Size_big_vs_Small_loss: 0.0000e+00 - Symmetery_vs_Non_symmetery_loss: 0.0000e+00 - Horizontal_vs_Vertical_loss: 0.0000e+00 - Empty_vs_Non_Empty_loss: 0.0000e+00\n",
      "\n",
      "epoch 8 Head 12\n",
      "112/112 [==============================] - 1s 8ms/step - loss: 0.6970 - center_vs_notincenter_loss: 0.0000e+00 - circle_vs_notcircle_loss: 0.0000e+00 - Closed_vs_Open_figure_loss: 0.0000e+00 - Colinear_vs_Noncolinear_loss: 0.0000e+00 - Concave_vs_Convex_loss: 0.0000e+00 - Four_vs_notfour_side_loss: 0.0000e+00 - Triangle_vs_notTriangle_loss: 0.0000e+00 - Clockwise_vs_Anticlock_wise_loss: 0.0000e+00 - Left_vs_Right_loss: 0.0000e+00 - Parallel_vs_perpendicular_loss: 0.0000e+00 - Filled_vs_Unfilled_loss: 0.0000e+00 - Complete_vs_Incomplete_loss: 0.0000e+00 - Intersect_vs_NonIntersect_loss: 0.6970 - M_cluster_vs_N_clusters_loss: 0.0000e+00 - Above_vs_Below_loss: 0.0000e+00 - Same_vs_Not_Same_loss: 0.0000e+00 - Size_big_vs_Small_loss: 0.0000e+00 - Symmetery_vs_Non_symmetery_loss: 0.0000e+00 - Horizontal_vs_Vertical_loss: 0.0000e+00 - Empty_vs_Non_Empty_loss: 0.0000e+00\n",
      "\n",
      "epoch 8 Head 13\n",
      "50/50 [==============================] - 0s 7ms/step - loss: 0.6933 - center_vs_notincenter_loss: 0.0000e+00 - circle_vs_notcircle_loss: 0.0000e+00 - Closed_vs_Open_figure_loss: 0.0000e+00 - Colinear_vs_Noncolinear_loss: 0.0000e+00 - Concave_vs_Convex_loss: 0.0000e+00 - Four_vs_notfour_side_loss: 0.0000e+00 - Triangle_vs_notTriangle_loss: 0.0000e+00 - Clockwise_vs_Anticlock_wise_loss: 0.0000e+00 - Left_vs_Right_loss: 0.0000e+00 - Parallel_vs_perpendicular_loss: 0.0000e+00 - Filled_vs_Unfilled_loss: 0.0000e+00 - Complete_vs_Incomplete_loss: 0.0000e+00 - Intersect_vs_NonIntersect_loss: 0.0000e+00 - M_cluster_vs_N_clusters_loss: 0.6933 - Above_vs_Below_loss: 0.0000e+00 - Same_vs_Not_Same_loss: 0.0000e+00 - Size_big_vs_Small_loss: 0.0000e+00 - Symmetery_vs_Non_symmetery_loss: 0.0000e+00 - Horizontal_vs_Vertical_loss: 0.0000e+00 - Empty_vs_Non_Empty_loss: 0.0000e+00\n",
      "\n",
      "epoch 8 Head 14\n",
      "60/60 [==============================] - 0s 7ms/step - loss: 0.6932 - center_vs_notincenter_loss: 0.0000e+00 - circle_vs_notcircle_loss: 0.0000e+00 - Closed_vs_Open_figure_loss: 0.0000e+00 - Colinear_vs_Noncolinear_loss: 0.0000e+00 - Concave_vs_Convex_loss: 0.0000e+00 - Four_vs_notfour_side_loss: 0.0000e+00 - Triangle_vs_notTriangle_loss: 0.0000e+00 - Clockwise_vs_Anticlock_wise_loss: 0.0000e+00 - Left_vs_Right_loss: 0.0000e+00 - Parallel_vs_perpendicular_loss: 0.0000e+00 - Filled_vs_Unfilled_loss: 0.0000e+00 - Complete_vs_Incomplete_loss: 0.0000e+00 - Intersect_vs_NonIntersect_loss: 0.0000e+00 - M_cluster_vs_N_clusters_loss: 0.0000e+00 - Above_vs_Below_loss: 0.6932 - Same_vs_Not_Same_loss: 0.0000e+00 - Size_big_vs_Small_loss: 0.0000e+00 - Symmetery_vs_Non_symmetery_loss: 0.0000e+00 - Horizontal_vs_Vertical_loss: 0.0000e+00 - Empty_vs_Non_Empty_loss: 0.0000e+00\n",
      "\n",
      "epoch 8 Head 15\n",
      "80/80 [==============================] - 1s 7ms/step - loss: 0.6930 - center_vs_notincenter_loss: 0.0000e+00 - circle_vs_notcircle_loss: 0.0000e+00 - Closed_vs_Open_figure_loss: 0.0000e+00 - Colinear_vs_Noncolinear_loss: 0.0000e+00 - Concave_vs_Convex_loss: 0.0000e+00 - Four_vs_notfour_side_loss: 0.0000e+00 - Triangle_vs_notTriangle_loss: 0.0000e+00 - Clockwise_vs_Anticlock_wise_loss: 0.0000e+00 - Left_vs_Right_loss: 0.0000e+00 - Parallel_vs_perpendicular_loss: 0.0000e+00 - Filled_vs_Unfilled_loss: 0.0000e+00 - Complete_vs_Incomplete_loss: 0.0000e+00 - Intersect_vs_NonIntersect_loss: 0.0000e+00 - M_cluster_vs_N_clusters_loss: 0.0000e+00 - Above_vs_Below_loss: 0.0000e+00 - Same_vs_Not_Same_loss: 0.6930 - Size_big_vs_Small_loss: 0.0000e+00 - Symmetery_vs_Non_symmetery_loss: 0.0000e+00 - Horizontal_vs_Vertical_loss: 0.0000e+00 - Empty_vs_Non_Empty_loss: 0.0000e+00\n",
      "\n",
      "epoch 8 Head 16\n",
      "50/50 [==============================] - 0s 7ms/step - loss: 0.6941 - center_vs_notincenter_loss: 0.0000e+00 - circle_vs_notcircle_loss: 0.0000e+00 - Closed_vs_Open_figure_loss: 0.0000e+00 - Colinear_vs_Noncolinear_loss: 0.0000e+00 - Concave_vs_Convex_loss: 0.0000e+00 - Four_vs_notfour_side_loss: 0.0000e+00 - Triangle_vs_notTriangle_loss: 0.0000e+00 - Clockwise_vs_Anticlock_wise_loss: 0.0000e+00 - Left_vs_Right_loss: 0.0000e+00 - Parallel_vs_perpendicular_loss: 0.0000e+00 - Filled_vs_Unfilled_loss: 0.0000e+00 - Complete_vs_Incomplete_loss: 0.0000e+00 - Intersect_vs_NonIntersect_loss: 0.0000e+00 - M_cluster_vs_N_clusters_loss: 0.0000e+00 - Above_vs_Below_loss: 0.0000e+00 - Same_vs_Not_Same_loss: 0.0000e+00 - Size_big_vs_Small_loss: 0.6941 - Symmetery_vs_Non_symmetery_loss: 0.0000e+00 - Horizontal_vs_Vertical_loss: 0.0000e+00 - Empty_vs_Non_Empty_loss: 0.0000e+00\n",
      "\n",
      "epoch 8 Head 17\n",
      "137/137 [==============================] - 1s 7ms/step - loss: 0.6940 - center_vs_notincenter_loss: 0.0000e+00 - circle_vs_notcircle_loss: 0.0000e+00 - Closed_vs_Open_figure_loss: 0.0000e+00 - Colinear_vs_Noncolinear_loss: 0.0000e+00 - Concave_vs_Convex_loss: 0.0000e+00 - Four_vs_notfour_side_loss: 0.0000e+00 - Triangle_vs_notTriangle_loss: 0.0000e+00 - Clockwise_vs_Anticlock_wise_loss: 0.0000e+00 - Left_vs_Right_loss: 0.0000e+00 - Parallel_vs_perpendicular_loss: 0.0000e+00 - Filled_vs_Unfilled_loss: 0.0000e+00 - Complete_vs_Incomplete_loss: 0.0000e+00 - Intersect_vs_NonIntersect_loss: 0.0000e+00 - M_cluster_vs_N_clusters_loss: 0.0000e+00 - Above_vs_Below_loss: 0.0000e+00 - Same_vs_Not_Same_loss: 0.0000e+00 - Size_big_vs_Small_loss: 0.0000e+00 - Symmetery_vs_Non_symmetery_loss: 0.6940 - Horizontal_vs_Vertical_loss: 0.0000e+00 - Empty_vs_Non_Empty_loss: 0.0000e+00\n",
      "\n",
      "epoch 8 Head 18\n",
      "50/50 [==============================] - 0s 7ms/step - loss: 0.6938 - center_vs_notincenter_loss: 0.0000e+00 - circle_vs_notcircle_loss: 0.0000e+00 - Closed_vs_Open_figure_loss: 0.0000e+00 - Colinear_vs_Noncolinear_loss: 0.0000e+00 - Concave_vs_Convex_loss: 0.0000e+00 - Four_vs_notfour_side_loss: 0.0000e+00 - Triangle_vs_notTriangle_loss: 0.0000e+00 - Clockwise_vs_Anticlock_wise_loss: 0.0000e+00 - Left_vs_Right_loss: 0.0000e+00 - Parallel_vs_perpendicular_loss: 0.0000e+00 - Filled_vs_Unfilled_loss: 0.0000e+00 - Complete_vs_Incomplete_loss: 0.0000e+00 - Intersect_vs_NonIntersect_loss: 0.0000e+00 - M_cluster_vs_N_clusters_loss: 0.0000e+00 - Above_vs_Below_loss: 0.0000e+00 - Same_vs_Not_Same_loss: 0.0000e+00 - Size_big_vs_Small_loss: 0.0000e+00 - Symmetery_vs_Non_symmetery_loss: 0.0000e+00 - Horizontal_vs_Vertical_loss: 0.6938 - Empty_vs_Non_Empty_loss: 0.0000e+00\n",
      "\n",
      "epoch 8 Head 19\n",
      "25/25 [==============================] - 0s 8ms/step - loss: 0.6931 - center_vs_notincenter_loss: 0.0000e+00 - circle_vs_notcircle_loss: 0.0000e+00 - Closed_vs_Open_figure_loss: 0.0000e+00 - Colinear_vs_Noncolinear_loss: 0.0000e+00 - Concave_vs_Convex_loss: 0.0000e+00 - Four_vs_notfour_side_loss: 0.0000e+00 - Triangle_vs_notTriangle_loss: 0.0000e+00 - Clockwise_vs_Anticlock_wise_loss: 0.0000e+00 - Left_vs_Right_loss: 0.0000e+00 - Parallel_vs_perpendicular_loss: 0.0000e+00 - Filled_vs_Unfilled_loss: 0.0000e+00 - Complete_vs_Incomplete_loss: 0.0000e+00 - Intersect_vs_NonIntersect_loss: 0.0000e+00 - M_cluster_vs_N_clusters_loss: 0.0000e+00 - Above_vs_Below_loss: 0.0000e+00 - Same_vs_Not_Same_loss: 0.0000e+00 - Size_big_vs_Small_loss: 0.0000e+00 - Symmetery_vs_Non_symmetery_loss: 0.0000e+00 - Horizontal_vs_Vertical_loss: 0.0000e+00 - Empty_vs_Non_Empty_loss: 0.6931\n",
      "\n",
      "epoch 9 Head 0\n",
      "115/115 [==============================] - 1s 7ms/step - loss: 0.6957 - center_vs_notincenter_loss: 0.6957 - circle_vs_notcircle_loss: 0.0000e+00 - Closed_vs_Open_figure_loss: 0.0000e+00 - Colinear_vs_Noncolinear_loss: 0.0000e+00 - Concave_vs_Convex_loss: 0.0000e+00 - Four_vs_notfour_side_loss: 0.0000e+00 - Triangle_vs_notTriangle_loss: 0.0000e+00 - Clockwise_vs_Anticlock_wise_loss: 0.0000e+00 - Left_vs_Right_loss: 0.0000e+00 - Parallel_vs_perpendicular_loss: 0.0000e+00 - Filled_vs_Unfilled_loss: 0.0000e+00 - Complete_vs_Incomplete_loss: 0.0000e+00 - Intersect_vs_NonIntersect_loss: 0.0000e+00 - M_cluster_vs_N_clusters_loss: 0.0000e+00 - Above_vs_Below_loss: 0.0000e+00 - Same_vs_Not_Same_loss: 0.0000e+00 - Size_big_vs_Small_loss: 0.0000e+00 - Symmetery_vs_Non_symmetery_loss: 0.0000e+00 - Horizontal_vs_Vertical_loss: 0.0000e+00 - Empty_vs_Non_Empty_loss: 0.0000e+00\n",
      "\n",
      "epoch 9 Head 1\n",
      "50/50 [==============================] - 0s 7ms/step - loss: 0.6981 - center_vs_notincenter_loss: 0.0000e+00 - circle_vs_notcircle_loss: 0.6981 - Closed_vs_Open_figure_loss: 0.0000e+00 - Colinear_vs_Noncolinear_loss: 0.0000e+00 - Concave_vs_Convex_loss: 0.0000e+00 - Four_vs_notfour_side_loss: 0.0000e+00 - Triangle_vs_notTriangle_loss: 0.0000e+00 - Clockwise_vs_Anticlock_wise_loss: 0.0000e+00 - Left_vs_Right_loss: 0.0000e+00 - Parallel_vs_perpendicular_loss: 0.0000e+00 - Filled_vs_Unfilled_loss: 0.0000e+00 - Complete_vs_Incomplete_loss: 0.0000e+00 - Intersect_vs_NonIntersect_loss: 0.0000e+00 - M_cluster_vs_N_clusters_loss: 0.0000e+00 - Above_vs_Below_loss: 0.0000e+00 - Same_vs_Not_Same_loss: 0.0000e+00 - Size_big_vs_Small_loss: 0.0000e+00 - Symmetery_vs_Non_symmetery_loss: 0.0000e+00 - Horizontal_vs_Vertical_loss: 0.0000e+00 - Empty_vs_Non_Empty_loss: 0.0000e+00\n",
      "\n",
      "epoch 9 Head 2\n",
      "39/39 [==============================] - 0s 8ms/step - loss: 0.6969 - center_vs_notincenter_loss: 0.0000e+00 - circle_vs_notcircle_loss: 0.0000e+00 - Closed_vs_Open_figure_loss: 0.6969 - Colinear_vs_Noncolinear_loss: 0.0000e+00 - Concave_vs_Convex_loss: 0.0000e+00 - Four_vs_notfour_side_loss: 0.0000e+00 - Triangle_vs_notTriangle_loss: 0.0000e+00 - Clockwise_vs_Anticlock_wise_loss: 0.0000e+00 - Left_vs_Right_loss: 0.0000e+00 - Parallel_vs_perpendicular_loss: 0.0000e+00 - Filled_vs_Unfilled_loss: 0.0000e+00 - Complete_vs_Incomplete_loss: 0.0000e+00 - Intersect_vs_NonIntersect_loss: 0.0000e+00 - M_cluster_vs_N_clusters_loss: 0.0000e+00 - Above_vs_Below_loss: 0.0000e+00 - Same_vs_Not_Same_loss: 0.0000e+00 - Size_big_vs_Small_loss: 0.0000e+00 - Symmetery_vs_Non_symmetery_loss: 0.0000e+00 - Horizontal_vs_Vertical_loss: 0.0000e+00 - Empty_vs_Non_Empty_loss: 0.0000e+00\n",
      "\n",
      "epoch 9 Head 3\n",
      "50/50 [==============================] - 0s 7ms/step - loss: 0.6936 - center_vs_notincenter_loss: 0.0000e+00 - circle_vs_notcircle_loss: 0.0000e+00 - Closed_vs_Open_figure_loss: 0.0000e+00 - Colinear_vs_Noncolinear_loss: 0.6936 - Concave_vs_Convex_loss: 0.0000e+00 - Four_vs_notfour_side_loss: 0.0000e+00 - Triangle_vs_notTriangle_loss: 0.0000e+00 - Clockwise_vs_Anticlock_wise_loss: 0.0000e+00 - Left_vs_Right_loss: 0.0000e+00 - Parallel_vs_perpendicular_loss: 0.0000e+00 - Filled_vs_Unfilled_loss: 0.0000e+00 - Complete_vs_Incomplete_loss: 0.0000e+00 - Intersect_vs_NonIntersect_loss: 0.0000e+00 - M_cluster_vs_N_clusters_loss: 0.0000e+00 - Above_vs_Below_loss: 0.0000e+00 - Same_vs_Not_Same_loss: 0.0000e+00 - Size_big_vs_Small_loss: 0.0000e+00 - Symmetery_vs_Non_symmetery_loss: 0.0000e+00 - Horizontal_vs_Vertical_loss: 0.0000e+00 - Empty_vs_Non_Empty_loss: 0.0000e+00\n",
      "\n",
      "epoch 9 Head 4\n",
      "50/50 [==============================] - 0s 7ms/step - loss: 0.6932 - center_vs_notincenter_loss: 0.0000e+00 - circle_vs_notcircle_loss: 0.0000e+00 - Closed_vs_Open_figure_loss: 0.0000e+00 - Colinear_vs_Noncolinear_loss: 0.0000e+00 - Concave_vs_Convex_loss: 0.6932 - Four_vs_notfour_side_loss: 0.0000e+00 - Triangle_vs_notTriangle_loss: 0.0000e+00 - Clockwise_vs_Anticlock_wise_loss: 0.0000e+00 - Left_vs_Right_loss: 0.0000e+00 - Parallel_vs_perpendicular_loss: 0.0000e+00 - Filled_vs_Unfilled_loss: 0.0000e+00 - Complete_vs_Incomplete_loss: 0.0000e+00 - Intersect_vs_NonIntersect_loss: 0.0000e+00 - M_cluster_vs_N_clusters_loss: 0.0000e+00 - Above_vs_Below_loss: 0.0000e+00 - Same_vs_Not_Same_loss: 0.0000e+00 - Size_big_vs_Small_loss: 0.0000e+00 - Symmetery_vs_Non_symmetery_loss: 0.0000e+00 - Horizontal_vs_Vertical_loss: 0.0000e+00 - Empty_vs_Non_Empty_loss: 0.0000e+00\n",
      "\n",
      "epoch 9 Head 5\n",
      "175/175 [==============================] - 1s 7ms/step - loss: 0.6932 - center_vs_notincenter_loss: 0.0000e+00 - circle_vs_notcircle_loss: 0.0000e+00 - Closed_vs_Open_figure_loss: 0.0000e+00 - Colinear_vs_Noncolinear_loss: 0.0000e+00 - Concave_vs_Convex_loss: 0.0000e+00 - Four_vs_notfour_side_loss: 0.6932 - Triangle_vs_notTriangle_loss: 0.0000e+00 - Clockwise_vs_Anticlock_wise_loss: 0.0000e+00 - Left_vs_Right_loss: 0.0000e+00 - Parallel_vs_perpendicular_loss: 0.0000e+00 - Filled_vs_Unfilled_loss: 0.0000e+00 - Complete_vs_Incomplete_loss: 0.0000e+00 - Intersect_vs_NonIntersect_loss: 0.0000e+00 - M_cluster_vs_N_clusters_loss: 0.0000e+00 - Above_vs_Below_loss: 0.0000e+00 - Same_vs_Not_Same_loss: 0.0000e+00 - Size_big_vs_Small_loss: 0.0000e+00 - Symmetery_vs_Non_symmetery_loss: 0.0000e+00 - Horizontal_vs_Vertical_loss: 0.0000e+00 - Empty_vs_Non_Empty_loss: 0.0000e+00\n",
      "\n",
      "epoch 9 Head 6\n",
      "175/175 [==============================] - 1s 8ms/step - loss: 0.6931 - center_vs_notincenter_loss: 0.0000e+00 - circle_vs_notcircle_loss: 0.0000e+00 - Closed_vs_Open_figure_loss: 0.0000e+00 - Colinear_vs_Noncolinear_loss: 0.0000e+00 - Concave_vs_Convex_loss: 0.0000e+00 - Four_vs_notfour_side_loss: 0.0000e+00 - Triangle_vs_notTriangle_loss: 0.6931 - Clockwise_vs_Anticlock_wise_loss: 0.0000e+00 - Left_vs_Right_loss: 0.0000e+00 - Parallel_vs_perpendicular_loss: 0.0000e+00 - Filled_vs_Unfilled_loss: 0.0000e+00 - Complete_vs_Incomplete_loss: 0.0000e+00 - Intersect_vs_NonIntersect_loss: 0.0000e+00 - M_cluster_vs_N_clusters_loss: 0.0000e+00 - Above_vs_Below_loss: 0.0000e+00 - Same_vs_Not_Same_loss: 0.0000e+00 - Size_big_vs_Small_loss: 0.0000e+00 - Symmetery_vs_Non_symmetery_loss: 0.0000e+00 - Horizontal_vs_Vertical_loss: 0.0000e+00 - Empty_vs_Non_Empty_loss: 0.0000e+00\n",
      "\n",
      "epoch 9 Head 7\n",
      "75/75 [==============================] - 1s 7ms/step - loss: 0.6930 - center_vs_notincenter_loss: 0.0000e+00 - circle_vs_notcircle_loss: 0.0000e+00 - Closed_vs_Open_figure_loss: 0.0000e+00 - Colinear_vs_Noncolinear_loss: 0.0000e+00 - Concave_vs_Convex_loss: 0.0000e+00 - Four_vs_notfour_side_loss: 0.0000e+00 - Triangle_vs_notTriangle_loss: 0.0000e+00 - Clockwise_vs_Anticlock_wise_loss: 0.6930 - Left_vs_Right_loss: 0.0000e+00 - Parallel_vs_perpendicular_loss: 0.0000e+00 - Filled_vs_Unfilled_loss: 0.0000e+00 - Complete_vs_Incomplete_loss: 0.0000e+00 - Intersect_vs_NonIntersect_loss: 0.0000e+00 - M_cluster_vs_N_clusters_loss: 0.0000e+00 - Above_vs_Below_loss: 0.0000e+00 - Same_vs_Not_Same_loss: 0.0000e+00 - Size_big_vs_Small_loss: 0.0000e+00 - Symmetery_vs_Non_symmetery_loss: 0.0000e+00 - Horizontal_vs_Vertical_loss: 0.0000e+00 - Empty_vs_Non_Empty_loss: 0.0000e+00\n",
      "\n",
      "epoch 9 Head 8\n",
      "63/63 [==============================] - 0s 8ms/step - loss: 0.6685 - center_vs_notincenter_loss: 0.0000e+00 - circle_vs_notcircle_loss: 0.0000e+00 - Closed_vs_Open_figure_loss: 0.0000e+00 - Colinear_vs_Noncolinear_loss: 0.0000e+00 - Concave_vs_Convex_loss: 0.0000e+00 - Four_vs_notfour_side_loss: 0.0000e+00 - Triangle_vs_notTriangle_loss: 0.0000e+00 - Clockwise_vs_Anticlock_wise_loss: 0.0000e+00 - Left_vs_Right_loss: 0.6685 - Parallel_vs_perpendicular_loss: 0.0000e+00 - Filled_vs_Unfilled_loss: 0.0000e+00 - Complete_vs_Incomplete_loss: 0.0000e+00 - Intersect_vs_NonIntersect_loss: 0.0000e+00 - M_cluster_vs_N_clusters_loss: 0.0000e+00 - Above_vs_Below_loss: 0.0000e+00 - Same_vs_Not_Same_loss: 0.0000e+00 - Size_big_vs_Small_loss: 0.0000e+00 - Symmetery_vs_Non_symmetery_loss: 0.0000e+00 - Horizontal_vs_Vertical_loss: 0.0000e+00 - Empty_vs_Non_Empty_loss: 0.0000e+00\n",
      "\n",
      "epoch 9 Head 9\n",
      "25/25 [==============================] - 0s 8ms/step - loss: 0.7649 - center_vs_notincenter_loss: 0.0000e+00 - circle_vs_notcircle_loss: 0.0000e+00 - Closed_vs_Open_figure_loss: 0.0000e+00 - Colinear_vs_Noncolinear_loss: 0.0000e+00 - Concave_vs_Convex_loss: 0.0000e+00 - Four_vs_notfour_side_loss: 0.0000e+00 - Triangle_vs_notTriangle_loss: 0.0000e+00 - Clockwise_vs_Anticlock_wise_loss: 0.0000e+00 - Left_vs_Right_loss: 0.0000e+00 - Parallel_vs_perpendicular_loss: 0.7649 - Filled_vs_Unfilled_loss: 0.0000e+00 - Complete_vs_Incomplete_loss: 0.0000e+00 - Intersect_vs_NonIntersect_loss: 0.0000e+00 - M_cluster_vs_N_clusters_loss: 0.0000e+00 - Above_vs_Below_loss: 0.0000e+00 - Same_vs_Not_Same_loss: 0.0000e+00 - Size_big_vs_Small_loss: 0.0000e+00 - Symmetery_vs_Non_symmetery_loss: 0.0000e+00 - Horizontal_vs_Vertical_loss: 0.0000e+00 - Empty_vs_Non_Empty_loss: 0.0000e+00\n",
      "\n",
      "epoch 9 Head 10\n",
      "55/55 [==============================] - 0s 7ms/step - loss: 0.6047 - center_vs_notincenter_loss: 0.0000e+00 - circle_vs_notcircle_loss: 0.0000e+00 - Closed_vs_Open_figure_loss: 0.0000e+00 - Colinear_vs_Noncolinear_loss: 0.0000e+00 - Concave_vs_Convex_loss: 0.0000e+00 - Four_vs_notfour_side_loss: 0.0000e+00 - Triangle_vs_notTriangle_loss: 0.0000e+00 - Clockwise_vs_Anticlock_wise_loss: 0.0000e+00 - Left_vs_Right_loss: 0.0000e+00 - Parallel_vs_perpendicular_loss: 0.0000e+00 - Filled_vs_Unfilled_loss: 0.6047 - Complete_vs_Incomplete_loss: 0.0000e+00 - Intersect_vs_NonIntersect_loss: 0.0000e+00 - M_cluster_vs_N_clusters_loss: 0.0000e+00 - Above_vs_Below_loss: 0.0000e+00 - Same_vs_Not_Same_loss: 0.0000e+00 - Size_big_vs_Small_loss: 0.0000e+00 - Symmetery_vs_Non_symmetery_loss: 0.0000e+00 - Horizontal_vs_Vertical_loss: 0.0000e+00 - Empty_vs_Non_Empty_loss: 0.0000e+00\n",
      "\n",
      "epoch 9 Head 11\n",
      "100/100 [==============================] - 1s 7ms/step - loss: 0.7002 - center_vs_notincenter_loss: 0.0000e+00 - circle_vs_notcircle_loss: 0.0000e+00 - Closed_vs_Open_figure_loss: 0.0000e+00 - Colinear_vs_Noncolinear_loss: 0.0000e+00 - Concave_vs_Convex_loss: 0.0000e+00 - Four_vs_notfour_side_loss: 0.0000e+00 - Triangle_vs_notTriangle_loss: 0.0000e+00 - Clockwise_vs_Anticlock_wise_loss: 0.0000e+00 - Left_vs_Right_loss: 0.0000e+00 - Parallel_vs_perpendicular_loss: 0.0000e+00 - Filled_vs_Unfilled_loss: 0.0000e+00 - Complete_vs_Incomplete_loss: 0.7002 - Intersect_vs_NonIntersect_loss: 0.0000e+00 - M_cluster_vs_N_clusters_loss: 0.0000e+00 - Above_vs_Below_loss: 0.0000e+00 - Same_vs_Not_Same_loss: 0.0000e+00 - Size_big_vs_Small_loss: 0.0000e+00 - Symmetery_vs_Non_symmetery_loss: 0.0000e+00 - Horizontal_vs_Vertical_loss: 0.0000e+00 - Empty_vs_Non_Empty_loss: 0.0000e+00\n",
      "\n",
      "epoch 9 Head 12\n",
      "112/112 [==============================] - 1s 8ms/step - loss: 0.6702 - center_vs_notincenter_loss: 0.0000e+00 - circle_vs_notcircle_loss: 0.0000e+00 - Closed_vs_Open_figure_loss: 0.0000e+00 - Colinear_vs_Noncolinear_loss: 0.0000e+00 - Concave_vs_Convex_loss: 0.0000e+00 - Four_vs_notfour_side_loss: 0.0000e+00 - Triangle_vs_notTriangle_loss: 0.0000e+00 - Clockwise_vs_Anticlock_wise_loss: 0.0000e+00 - Left_vs_Right_loss: 0.0000e+00 - Parallel_vs_perpendicular_loss: 0.0000e+00 - Filled_vs_Unfilled_loss: 0.0000e+00 - Complete_vs_Incomplete_loss: 0.0000e+00 - Intersect_vs_NonIntersect_loss: 0.6702 - M_cluster_vs_N_clusters_loss: 0.0000e+00 - Above_vs_Below_loss: 0.0000e+00 - Same_vs_Not_Same_loss: 0.0000e+00 - Size_big_vs_Small_loss: 0.0000e+00 - Symmetery_vs_Non_symmetery_loss: 0.0000e+00 - Horizontal_vs_Vertical_loss: 0.0000e+00 - Empty_vs_Non_Empty_loss: 0.0000e+00\n",
      "\n",
      "epoch 9 Head 13\n",
      "50/50 [==============================] - 0s 7ms/step - loss: 0.7001 - center_vs_notincenter_loss: 0.0000e+00 - circle_vs_notcircle_loss: 0.0000e+00 - Closed_vs_Open_figure_loss: 0.0000e+00 - Colinear_vs_Noncolinear_loss: 0.0000e+00 - Concave_vs_Convex_loss: 0.0000e+00 - Four_vs_notfour_side_loss: 0.0000e+00 - Triangle_vs_notTriangle_loss: 0.0000e+00 - Clockwise_vs_Anticlock_wise_loss: 0.0000e+00 - Left_vs_Right_loss: 0.0000e+00 - Parallel_vs_perpendicular_loss: 0.0000e+00 - Filled_vs_Unfilled_loss: 0.0000e+00 - Complete_vs_Incomplete_loss: 0.0000e+00 - Intersect_vs_NonIntersect_loss: 0.0000e+00 - M_cluster_vs_N_clusters_loss: 0.7001 - Above_vs_Below_loss: 0.0000e+00 - Same_vs_Not_Same_loss: 0.0000e+00 - Size_big_vs_Small_loss: 0.0000e+00 - Symmetery_vs_Non_symmetery_loss: 0.0000e+00 - Horizontal_vs_Vertical_loss: 0.0000e+00 - Empty_vs_Non_Empty_loss: 0.0000e+00\n",
      "\n",
      "epoch 9 Head 14\n",
      "60/60 [==============================] - 0s 7ms/step - loss: 0.6932 - center_vs_notincenter_loss: 0.0000e+00 - circle_vs_notcircle_loss: 0.0000e+00 - Closed_vs_Open_figure_loss: 0.0000e+00 - Colinear_vs_Noncolinear_loss: 0.0000e+00 - Concave_vs_Convex_loss: 0.0000e+00 - Four_vs_notfour_side_loss: 0.0000e+00 - Triangle_vs_notTriangle_loss: 0.0000e+00 - Clockwise_vs_Anticlock_wise_loss: 0.0000e+00 - Left_vs_Right_loss: 0.0000e+00 - Parallel_vs_perpendicular_loss: 0.0000e+00 - Filled_vs_Unfilled_loss: 0.0000e+00 - Complete_vs_Incomplete_loss: 0.0000e+00 - Intersect_vs_NonIntersect_loss: 0.0000e+00 - M_cluster_vs_N_clusters_loss: 0.0000e+00 - Above_vs_Below_loss: 0.6932 - Same_vs_Not_Same_loss: 0.0000e+00 - Size_big_vs_Small_loss: 0.0000e+00 - Symmetery_vs_Non_symmetery_loss: 0.0000e+00 - Horizontal_vs_Vertical_loss: 0.0000e+00 - Empty_vs_Non_Empty_loss: 0.0000e+00\n",
      "\n",
      "epoch 9 Head 15\n",
      "80/80 [==============================] - 1s 7ms/step - loss: 0.6930 - center_vs_notincenter_loss: 0.0000e+00 - circle_vs_notcircle_loss: 0.0000e+00 - Closed_vs_Open_figure_loss: 0.0000e+00 - Colinear_vs_Noncolinear_loss: 0.0000e+00 - Concave_vs_Convex_loss: 0.0000e+00 - Four_vs_notfour_side_loss: 0.0000e+00 - Triangle_vs_notTriangle_loss: 0.0000e+00 - Clockwise_vs_Anticlock_wise_loss: 0.0000e+00 - Left_vs_Right_loss: 0.0000e+00 - Parallel_vs_perpendicular_loss: 0.0000e+00 - Filled_vs_Unfilled_loss: 0.0000e+00 - Complete_vs_Incomplete_loss: 0.0000e+00 - Intersect_vs_NonIntersect_loss: 0.0000e+00 - M_cluster_vs_N_clusters_loss: 0.0000e+00 - Above_vs_Below_loss: 0.0000e+00 - Same_vs_Not_Same_loss: 0.6930 - Size_big_vs_Small_loss: 0.0000e+00 - Symmetery_vs_Non_symmetery_loss: 0.0000e+00 - Horizontal_vs_Vertical_loss: 0.0000e+00 - Empty_vs_Non_Empty_loss: 0.0000e+00\n",
      "\n",
      "epoch 9 Head 16\n",
      "50/50 [==============================] - 0s 7ms/step - loss: 0.6937 - center_vs_notincenter_loss: 0.0000e+00 - circle_vs_notcircle_loss: 0.0000e+00 - Closed_vs_Open_figure_loss: 0.0000e+00 - Colinear_vs_Noncolinear_loss: 0.0000e+00 - Concave_vs_Convex_loss: 0.0000e+00 - Four_vs_notfour_side_loss: 0.0000e+00 - Triangle_vs_notTriangle_loss: 0.0000e+00 - Clockwise_vs_Anticlock_wise_loss: 0.0000e+00 - Left_vs_Right_loss: 0.0000e+00 - Parallel_vs_perpendicular_loss: 0.0000e+00 - Filled_vs_Unfilled_loss: 0.0000e+00 - Complete_vs_Incomplete_loss: 0.0000e+00 - Intersect_vs_NonIntersect_loss: 0.0000e+00 - M_cluster_vs_N_clusters_loss: 0.0000e+00 - Above_vs_Below_loss: 0.0000e+00 - Same_vs_Not_Same_loss: 0.0000e+00 - Size_big_vs_Small_loss: 0.6937 - Symmetery_vs_Non_symmetery_loss: 0.0000e+00 - Horizontal_vs_Vertical_loss: 0.0000e+00 - Empty_vs_Non_Empty_loss: 0.0000e+00\n",
      "\n",
      "epoch 9 Head 17\n",
      "137/137 [==============================] - 1s 8ms/step - loss: 0.6935 - center_vs_notincenter_loss: 0.0000e+00 - circle_vs_notcircle_loss: 0.0000e+00 - Closed_vs_Open_figure_loss: 0.0000e+00 - Colinear_vs_Noncolinear_loss: 0.0000e+00 - Concave_vs_Convex_loss: 0.0000e+00 - Four_vs_notfour_side_loss: 0.0000e+00 - Triangle_vs_notTriangle_loss: 0.0000e+00 - Clockwise_vs_Anticlock_wise_loss: 0.0000e+00 - Left_vs_Right_loss: 0.0000e+00 - Parallel_vs_perpendicular_loss: 0.0000e+00 - Filled_vs_Unfilled_loss: 0.0000e+00 - Complete_vs_Incomplete_loss: 0.0000e+00 - Intersect_vs_NonIntersect_loss: 0.0000e+00 - M_cluster_vs_N_clusters_loss: 0.0000e+00 - Above_vs_Below_loss: 0.0000e+00 - Same_vs_Not_Same_loss: 0.0000e+00 - Size_big_vs_Small_loss: 0.0000e+00 - Symmetery_vs_Non_symmetery_loss: 0.6935 - Horizontal_vs_Vertical_loss: 0.0000e+00 - Empty_vs_Non_Empty_loss: 0.0000e+00\n",
      "\n",
      "epoch 9 Head 18\n",
      "50/50 [==============================] - 0s 7ms/step - loss: 0.6936 - center_vs_notincenter_loss: 0.0000e+00 - circle_vs_notcircle_loss: 0.0000e+00 - Closed_vs_Open_figure_loss: 0.0000e+00 - Colinear_vs_Noncolinear_loss: 0.0000e+00 - Concave_vs_Convex_loss: 0.0000e+00 - Four_vs_notfour_side_loss: 0.0000e+00 - Triangle_vs_notTriangle_loss: 0.0000e+00 - Clockwise_vs_Anticlock_wise_loss: 0.0000e+00 - Left_vs_Right_loss: 0.0000e+00 - Parallel_vs_perpendicular_loss: 0.0000e+00 - Filled_vs_Unfilled_loss: 0.0000e+00 - Complete_vs_Incomplete_loss: 0.0000e+00 - Intersect_vs_NonIntersect_loss: 0.0000e+00 - M_cluster_vs_N_clusters_loss: 0.0000e+00 - Above_vs_Below_loss: 0.0000e+00 - Same_vs_Not_Same_loss: 0.0000e+00 - Size_big_vs_Small_loss: 0.0000e+00 - Symmetery_vs_Non_symmetery_loss: 0.0000e+00 - Horizontal_vs_Vertical_loss: 0.6936 - Empty_vs_Non_Empty_loss: 0.0000e+00\n",
      "\n",
      "epoch 9 Head 19\n",
      "25/25 [==============================] - 0s 8ms/step - loss: 0.6928 - center_vs_notincenter_loss: 0.0000e+00 - circle_vs_notcircle_loss: 0.0000e+00 - Closed_vs_Open_figure_loss: 0.0000e+00 - Colinear_vs_Noncolinear_loss: 0.0000e+00 - Concave_vs_Convex_loss: 0.0000e+00 - Four_vs_notfour_side_loss: 0.0000e+00 - Triangle_vs_notTriangle_loss: 0.0000e+00 - Clockwise_vs_Anticlock_wise_loss: 0.0000e+00 - Left_vs_Right_loss: 0.0000e+00 - Parallel_vs_perpendicular_loss: 0.0000e+00 - Filled_vs_Unfilled_loss: 0.0000e+00 - Complete_vs_Incomplete_loss: 0.0000e+00 - Intersect_vs_NonIntersect_loss: 0.0000e+00 - M_cluster_vs_N_clusters_loss: 0.0000e+00 - Above_vs_Below_loss: 0.0000e+00 - Same_vs_Not_Same_loss: 0.0000e+00 - Size_big_vs_Small_loss: 0.0000e+00 - Symmetery_vs_Non_symmetery_loss: 0.0000e+00 - Horizontal_vs_Vertical_loss: 0.0000e+00 - Empty_vs_Non_Empty_loss: 0.6928\n",
      "\n"
     ]
    }
   ],
   "source": [
    "# Define epochs and number of heads to be train\n",
    "epochs=10\n",
    "num_heads=20\n",
    "\n",
    "Test_accuracies=[]\n",
    "for epoch in range(epochs):\n",
    "  for i in range(num_heads):\n",
    "    print(f'epoch {epoch}',f'Head {i}')\n",
    "    Model_history=model.fit(X[i], {output_names[i]: Y[i]}, epochs=1)\n",
    "    Training_loss=Model_history.history['loss']\n",
    "    globals()[f'training_loss_epoch_{epoch}'].append(Training_loss[0])\n",
    "    print()"
   ]
  },
  {
   "cell_type": "code",
   "execution_count": 18,
   "id": "b4a60313",
   "metadata": {
    "id": "b4a60313"
   },
   "outputs": [],
   "source": [
    "training_loss_epoch_0_avg=sum(training_loss_epoch_0)/len(training_loss_epoch_0)\n",
    "training_loss_epoch_1_avg=sum(training_loss_epoch_1)/len(training_loss_epoch_1)\n",
    "training_loss_epoch_2_avg=sum(training_loss_epoch_2)/len(training_loss_epoch_2)\n",
    "training_loss_epoch_3_avg=sum(training_loss_epoch_3)/len(training_loss_epoch_3)\n",
    "training_loss_epoch_4_avg=sum(training_loss_epoch_4)/len(training_loss_epoch_4)\n",
    "training_loss_epoch_5_avg=sum(training_loss_epoch_5)/len(training_loss_epoch_5)\n",
    "training_loss_epoch_6_avg=sum(training_loss_epoch_6)/len(training_loss_epoch_6)\n",
    "training_loss_epoch_7_avg=sum(training_loss_epoch_7)/len(training_loss_epoch_7)\n",
    "training_loss_epoch_8_avg=sum(training_loss_epoch_8)/len(training_loss_epoch_8)\n",
    "training_loss_epoch_9_avg=sum(training_loss_epoch_9)/len(training_loss_epoch_9)"
   ]
  },
  {
   "cell_type": "code",
   "execution_count": 19,
   "id": "e35ac8c0",
   "metadata": {
    "colab": {
     "base_uri": "https://localhost:8080/",
     "height": 493
    },
    "id": "e35ac8c0",
    "outputId": "d2306a33-7325-4053-8046-0391c7d7d70c"
   },
   "outputs": [
    {
     "data": {
      "image/png": "[encoded data removed]",
      "text/plain": [
       "<Figure size 640x480 with 1 Axes>"
      ]
     },
     "metadata": {},
     "output_type": "display_data"
    }
   ],
   "source": [
    "Epochs = range(1,11)\n",
    "\n",
    "Training_loss=[training_loss_epoch_0_avg,training_loss_epoch_1_avg,training_loss_epoch_2_avg,training_loss_epoch_3_avg,training_loss_epoch_4_avg,training_loss_epoch_5_avg,training_loss_epoch_6_avg,\n",
    "               training_loss_epoch_7_avg,training_loss_epoch_8_avg,training_loss_epoch_9_avg]\n",
    "\n",
    "# Create the plot\n",
    "plt.plot(Epochs, Training_loss, marker='o',color='orange')\n",
    "\n",
    "# Add labels and title\n",
    "plt.xlabel('Epochs')\n",
    "plt.ylabel('Aveage Training loss')\n",
    "plt.title('Average Training Loss per epoch \\n')\n",
    "\n",
    "# Display the plot\n",
    "plt.grid(True)\n",
    "plt.xticks(Epochs)\n",
    "plt.show()"
   ]
  },
  {
   "cell_type": "code",
   "execution_count": 20,
   "id": "kWTCHQolRI5C",
   "metadata": {
    "colab": {
     "base_uri": "https://localhost:8080/"
    },
    "id": "kWTCHQolRI5C",
    "outputId": "6cc36a80-96cd-4366-d20e-6bdd81785bc7"
   },
   "outputs": [
    {
     "name": "stdout",
     "output_type": "stream",
     "text": [
      "29/29 [==============================] - 0s 5ms/step\n",
      "binary_predictions_head:  [1]\n",
      "Accuracy for Classifier C0: 0.483695652173913\n",
      "13/13 [==============================] - 0s 3ms/step\n",
      "binary_predictions_head:  [1]\n",
      "Accuracy for Classifier C1: 0.5025\n",
      "10/10 [==============================] - 0s 10ms/step\n",
      "binary_predictions_head:  [1]\n",
      "Accuracy for Classifier C2: 0.5064935064935064\n",
      "13/13 [==============================] - 0s 3ms/step\n",
      "binary_predictions_head:  [1]\n",
      "Accuracy for Classifier C3: 0.5025\n",
      "13/13 [==============================] - 0s 3ms/step\n",
      "binary_predictions_head:  [1]\n",
      "Accuracy for Classifier C4: 0.5025\n",
      "44/44 [==============================] - 0s 3ms/step\n",
      "binary_predictions_head:  [1]\n",
      "Accuracy for Classifier C5: 0.49214285714285716\n",
      "44/44 [==============================] - 0s 3ms/step\n",
      "binary_predictions_head:  [1]\n",
      "Accuracy for Classifier C6: 0.4785100286532951\n",
      "19/19 [==============================] - 0s 4ms/step\n",
      "binary_predictions_head:  [1]\n",
      "Accuracy for Classifier C7: 0.47833333333333333\n",
      "16/16 [==============================] - 0s 3ms/step\n",
      "binary_predictions_head:  [1]\n",
      "Accuracy for Classifier C8: 0.624\n",
      "7/7 [==============================] - 0s 11ms/step\n",
      "binary_predictions_head:  [0]\n",
      "Accuracy for Classifier C9: 0.48\n",
      "14/14 [==============================] - 0s 3ms/step\n",
      "binary_predictions_head:  [1]\n",
      "Accuracy for Classifier C10: 0.48409090909090907\n",
      "25/25 [==============================] - 0s 3ms/step\n",
      "binary_predictions_head:  [1]\n",
      "Accuracy for Classifier C11: 0.4725\n",
      "28/28 [==============================] - 0s 5ms/step\n",
      "binary_predictions_head:  [0]\n",
      "Accuracy for Classifier C12: 0.5185185185185185\n",
      "13/13 [==============================] - 0s 3ms/step\n",
      "binary_predictions_head:  [0]\n",
      "Accuracy for Classifier C13: 0.4975\n",
      "15/15 [==============================] - 0s 4ms/step\n",
      "binary_predictions_head:  [1]\n",
      "Accuracy for Classifier C14: 0.48333333333333334\n",
      "20/20 [==============================] - 0s 3ms/step\n",
      "binary_predictions_head:  [1]\n",
      "Accuracy for Classifier C15: 0.4640625\n",
      "13/13 [==============================] - 0s 3ms/step\n",
      "binary_predictions_head:  [0]\n",
      "Accuracy for Classifier C16: 0.4975\n",
      "35/35 [==============================] - 0s 4ms/step\n",
      "binary_predictions_head:  [1]\n",
      "Accuracy for Classifier C17: 0.4830119375573921\n",
      "13/13 [==============================] - 0s 3ms/step\n",
      "binary_predictions_head:  [0]\n",
      "Accuracy for Classifier C18: 0.4975\n",
      "7/7 [==============================] - 0s 4ms/step\n",
      "binary_predictions_head:  [0]\n",
      "Accuracy for Classifier C19: 0.48\n"
     ]
    }
   ],
   "source": [
    "def check_accuracy(X_test,Y_test,i):\n",
    "  predictions = model.predict(X_test)\n",
    "  predictions_head = predictions[i]\n",
    "  threshold = 0.5\n",
    "  binary_predictions_head = (predictions_head > threshold).astype(int)\n",
    "  print(\"binary_predictions_head: \",np.unique(binary_predictions_head))\n",
    "  accuracy_classifier = accuracy_score(Y_test, binary_predictions_head)\n",
    "  print(f'Accuracy for Classifier C{i}:', accuracy_classifier)\n",
    "  return accuracy_classifier\n",
    "\n",
    "for i in range(num_heads):\n",
    "  X_Test = globals()[f'C{i}_X_test']\n",
    "  Y_test = globals()[f'C{i}_y_test']\n",
    "\n",
    "  Temp_var = check_accuracy(X_Test,Y_test,i)\n",
    "  Rounded_accuracy = round(Temp_var, 2)\n",
    "  Final_test_accuracies.append(Rounded_accuracy)"
   ]
  },
  {
   "cell_type": "code",
   "execution_count": 21,
   "id": "1nkiN2380b_-",
   "metadata": {
    "colab": {
     "base_uri": "https://localhost:8080/"
    },
    "id": "1nkiN2380b_-",
    "outputId": "1b720b09-d9fd-457a-af8e-cffd31f14275"
   },
   "outputs": [
    {
     "data": {
      "text/plain": [
       "[0.48,\n",
       " 0.5,\n",
       " 0.51,\n",
       " 0.5,\n",
       " 0.5,\n",
       " 0.49,\n",
       " 0.48,\n",
       " 0.48,\n",
       " 0.62,\n",
       " 0.48,\n",
       " 0.48,\n",
       " 0.47,\n",
       " 0.52,\n",
       " 0.5,\n",
       " 0.48,\n",
       " 0.46,\n",
       " 0.5,\n",
       " 0.48,\n",
       " 0.5,\n",
       " 0.48]"
      ]
     },
     "execution_count": 21,
     "metadata": {},
     "output_type": "execute_result"
    }
   ],
   "source": [
    "Final_test_accuracies"
   ]
  },
  {
   "cell_type": "code",
   "execution_count": 22,
   "id": "Mz50MZ2cC2jD",
   "metadata": {
    "colab": {
     "base_uri": "https://localhost:8080/",
     "height": 487
    },
    "id": "Mz50MZ2cC2jD",
    "outputId": "931487f0-1d07-42f5-f879-2cfd9aaec922"
   },
   "outputs": [
    {
     "data": {
      "image/png": "[encoded data removed]",
      "text/plain": [
       "<Figure size 640x480 with 1 Axes>"
      ]
     },
     "metadata": {},
     "output_type": "display_data"
    }
   ],
   "source": [
    "Concepts = ['C0', 'C1', 'C2', 'C3', 'C4', 'C5', 'C6', 'C7', 'C8', 'C9', 'C10', 'C11', 'C12', 'C13', 'C14',\n",
    "                      'C15', 'C16', 'C17', 'C18', 'C19']\n",
    "\n",
    "# Create the plot\n",
    "plt.plot(Concepts, Final_test_accuracies, marker='o')\n",
    "\n",
    "# Add labels and title\n",
    "plt.xlabel('Concepts')\n",
    "plt.ylabel('Test Accuracy per conecpt')\n",
    "plt.title('Comparing Test Accuracy of each concept ')\n",
    "\n",
    "# Rotate x-axis labels for better readability\n",
    "plt.xticks(rotation=45, ha='right')\n",
    "\n",
    "plt.ylim(0, 1)\n",
    "# Display the plot\n",
    "plt.grid(True)\n",
    "plt.tight_layout()  # To rotate the x-axis labels by 45 degrees.\n",
    "plt.show()\n"
   ]
  },
  {
   "cell_type": "code",
   "execution_count": 23,
   "id": "ENC7TnjROw5a",
   "metadata": {
    "colab": {
     "base_uri": "https://localhost:8080/"
    },
    "id": "ENC7TnjROw5a",
    "outputId": "6ed80ac6-419b-4315-b472-9bc8a78283eb"
   },
   "outputs": [
    {
     "name": "stdout",
     "output_type": "stream",
     "text": [
      "\n",
      "Total Time to be taked for this experiment: 208.65671563148499 seconds\n",
      "\n"
     ]
    }
   ],
   "source": [
    "end_time = time.time()\n",
    "final_time = end_time - start_time\n",
    "print()\n",
    "print(\"Total Time to be taked for this experiment:\", final_time, \"seconds\")\n",
    "print()"
   ]
  }
 ],
 "metadata": {
  "colab": {
   "provenance": []
  },
  "kernelspec": {
   "display_name": "Python 3 (ipykernel)",
   "language": "python",
   "name": "python3"
  },
  "language_info": {
   "codemirror_mode": {
    "name": "ipython",
    "version": 3
   },
   "file_extension": ".py",
   "mimetype": "text/x-python",
   "name": "python",
   "nbconvert_exporter": "python",
   "pygments_lexer": "ipython3",
   "version": "3.9.0"
  }
 },
 "nbformat": 4,
 "nbformat_minor": 5
}
