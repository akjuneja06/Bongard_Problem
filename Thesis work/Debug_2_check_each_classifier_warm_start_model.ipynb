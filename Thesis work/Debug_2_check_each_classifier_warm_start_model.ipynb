{
 "cells": [
  {
   "cell_type": "markdown",
   "id": "fe47f86a",
   "metadata": {
    "id": "fe47f86a"
   },
   "source": [
    "# Libraries"
   ]
  },
  {
   "cell_type": "code",
   "execution_count": 1,
   "id": "Qg_CB_5Biodg",
   "metadata": {
    "colab": {
     "base_uri": "https://localhost:8080/"
    },
    "id": "Qg_CB_5Biodg",
    "outputId": "f2e0d951-d48b-4ee1-a098-8a12f89fae67"
   },
   "outputs": [
    {
     "name": "stdout",
     "output_type": "stream",
     "text": [
      "Mounted at /content/drive\n"
     ]
    }
   ],
   "source": [
    "from google.colab import drive\n",
    "drive.mount('/content/drive')"
   ]
  },
  {
   "cell_type": "code",
   "execution_count": 2,
   "id": "9JxuX4aKi8ww",
   "metadata": {
    "id": "9JxuX4aKi8ww"
   },
   "outputs": [],
   "source": [
    "import zipfile\n",
    "zip_ref = zipfile.ZipFile('/content/drive/MyDrive/Thesis/CNN.zip', 'r')\n",
    "zip_ref.extractall('/content')\n",
    "zip_ref.close()"
   ]
  },
  {
   "cell_type": "code",
   "execution_count": 3,
   "id": "_Nojy8NYruUR",
   "metadata": {
    "id": "_Nojy8NYruUR"
   },
   "outputs": [],
   "source": [
    "import zipfile\n",
    "zip_ref = zipfile.ZipFile('/content/drive/MyDrive/Thesis/Bongard Testing.zip', 'r')\n",
    "zip_ref.extractall('/content')\n",
    "zip_ref.close()"
   ]
  },
  {
   "cell_type": "code",
   "execution_count": 4,
   "id": "c31fc347",
   "metadata": {
    "id": "c31fc347"
   },
   "outputs": [],
   "source": [
    "import os\n",
    "from os import path\n",
    "import pandas as pd\n",
    "import tensorflow as tf\n",
    "from tensorflow.keras import datasets, layers, models, optimizers\n",
    "import glob\n",
    "import numpy as np\n",
    "from sklearn.model_selection import train_test_split\n",
    "from keras.models import Model\n",
    "from keras.layers import Input, Conv2D, MaxPooling2D, Flatten, Dense, Input\n",
    "from tensorflow.keras.layers import Conv2D, BatchNormalization, MaxPooling2D, Flatten, Dense, Dropout, Input\n",
    "from sklearn.metrics import accuracy_score\n",
    "import time\n",
    "import natsort\n",
    "from PIL import Image\n",
    "start_time = time.time()"
   ]
  },
  {
   "cell_type": "markdown",
   "id": "1be6e532",
   "metadata": {
    "id": "1be6e532"
   },
   "source": [
    "# Functions:"
   ]
  },
  {
   "cell_type": "markdown",
   "id": "77f461bd",
   "metadata": {
    "id": "77f461bd"
   },
   "source": [
    "#### 1) Function to plot bongard images"
   ]
  },
  {
   "cell_type": "code",
   "execution_count": 5,
   "id": "e8ffa69e",
   "metadata": {
    "id": "e8ffa69e"
   },
   "outputs": [],
   "source": [
    "def load_and_resize_images(folder_path, target_size):\n",
    "    image_paths = glob.glob(os.path.join(folder_path, '*.png'))\n",
    "    image_paths = natsort.natsorted(image_paths)\n",
    "    images = []\n",
    "    for img_path in image_paths:\n",
    "        with Image.open(img_path) as img:\n",
    "            img = img.resize(target_size)\n",
    "            if img.mode == 'RGBA':\n",
    "                img = img.convert('L')\n",
    "            img_arr = np.array(img)\n",
    "            if len(img_arr.shape) == 2:\n",
    "                img_arr = img_arr[..., np.newaxis]\n",
    "            images.append(img_arr)\n",
    "    return np.array(images)\n",
    "\n",
    "def plot_image_from_array(images_array, image_index, figsize=(5, 5)):\n",
    "    plt.figure(figsize=figsize)\n",
    "    plt.imshow(images_array[image_index, :, :, 0], cmap='gray', aspect='auto')\n",
    "    plt.title(f\"Image {image_index + 1}\")\n",
    "    plt.axis('off')\n",
    "    plt.show()\n",
    "\n",
    "folder_B_path = '/content/Bongard Testing/BP'\n",
    "target_size = (330, 516)\n",
    "images_array = load_and_resize_images(folder_B_path, target_size)"
   ]
  },
  {
   "cell_type": "markdown",
   "id": "12795ff4",
   "metadata": {
    "id": "12795ff4"
   },
   "source": [
    "#### 2) Function to preprocess images"
   ]
  },
  {
   "cell_type": "code",
   "execution_count": 6,
   "id": "f729aaab",
   "metadata": {
    "id": "f729aaab"
   },
   "outputs": [],
   "source": [
    "# Preprocessing:\n",
    "def load_imgs(list_of_img_paths):\n",
    "    alpaca_lst = []\n",
    "    for imgs in list_of_img_paths:\n",
    "        img=tf.keras.utils.load_img(\n",
    "                            imgs,\n",
    "                            color_mode = \"grayscale\",\n",
    "                            target_size=None,\n",
    "                            interpolation=\"nearest\",\n",
    "                            keep_aspect_ratio=False)\n",
    "\n",
    "        input_arr = tf.keras.utils.img_to_array(img)\n",
    "\n",
    "        inpt_img_arr = input_arr / 255.0\n",
    "        alpaca_lst.append(inpt_img_arr)\n",
    "    imgs_arr =np.array(alpaca_lst)\n",
    "    return imgs_arr"
   ]
  },
  {
   "cell_type": "markdown",
   "id": "9d89d959",
   "metadata": {
    "id": "9d89d959"
   },
   "source": [
    "#### 3) Function to plot any image with their labels"
   ]
  },
  {
   "cell_type": "code",
   "execution_count": 7,
   "id": "433f5df2",
   "metadata": {
    "id": "433f5df2"
   },
   "outputs": [],
   "source": [
    "import matplotlib.pyplot as plt\n",
    "\n",
    "def plot_images_with_labels(images, labels):\n",
    "    plt.figure(figsize=(12, 8))\n",
    "\n",
    "    for i in range(len(images)):\n",
    "        plt.subplot(2, 5, i + 1)  # 2 rows, 5 columns for a 2x5 grid of subplots\n",
    "        plt.imshow(images[i], cmap='gray')  # Display the image\n",
    "        plt.title(f'Label: {labels[i]}')    # Set the title with the corresponding label\n",
    "        plt.axis('off')                     # Turn off axis labels and ticks\n",
    "\n",
    "    plt.tight_layout()\n",
    "    plt.show()"
   ]
  },
  {
   "cell_type": "markdown",
   "id": "15185fb5",
   "metadata": {
    "id": "15185fb5"
   },
   "source": [
    "#### 4) functions to create masked labels"
   ]
  },
  {
   "cell_type": "code",
   "execution_count": 8,
   "id": "21ee1f8a",
   "metadata": {
    "id": "21ee1f8a"
   },
   "outputs": [],
   "source": [
    "# Generate masked labels for heads except selected head\n",
    "def create_masked_labels(selected_head_name, excluded_head_names, labels):\n",
    "    masked_labels = {}\n",
    "    masked_labels[selected_head_name] = labels\n",
    "    for head_name in excluded_head_names:\n",
    "        masked_labels[head_name] = np.full_like(labels, -1)\n",
    "    return masked_labels\n",
    "def masked_label(selected_head_name,Ci_y_train):\n",
    "    # Define the list of output head layer names\n",
    "    output_names = ['center_vs_notincenter','circle_vs_notcircle','Closed_vs_Open_figure',\n",
    "                'Colinear_vs_Noncolinear','Concave_vs_Convex','Four_vs_notfour_side','Triangle_vs_notTriangle',\n",
    "                'Clockwise_vs_Anticlock_wise','Left_vs_Right','Parallel_vs_perpendicular','Filled_vs_Unfilled',\n",
    "                'Complete_vs_Incomplete','Intersect_vs_NonIntersect','M_cluster_vs_N_clusters','Above_vs_Below',\n",
    "                'Same_vs_Not_Same','Size_big_vs_Small','Symmetery_vs_Non_symmetery','Horizontal_vs_Vertical',\n",
    "                'Empty_vs_Non_Empty']\n",
    "\n",
    "    # Exclude the selected head from generating masked labels\n",
    "    excluded_head_names = [name for name in output_names if name != selected_head_name]\n",
    "\n",
    "    # Generate masked labels for all excluded heads\n",
    "    Ci_masked_labels = create_masked_labels(selected_head_name, excluded_head_names, Ci_y_train)\n",
    "    return Ci_masked_labels"
   ]
  },
  {
   "cell_type": "markdown",
   "id": "2fc2d604",
   "metadata": {
    "id": "2fc2d604"
   },
   "source": [
    "#### 5) Function to preprocess and split the data into training and testing"
   ]
  },
  {
   "cell_type": "code",
   "execution_count": 9,
   "id": "5c1ed6c1",
   "metadata": {
    "id": "5c1ed6c1"
   },
   "outputs": [],
   "source": [
    "def data_load_split(Classifier_path,folder_A,folder_B):\n",
    "    os.getcwd()\n",
    "    dataset_path = os.getcwd()\n",
    "    a = os.path.join('/content/CNN',Classifier_path)\n",
    "    A = os.path.join(dataset_path, a)\n",
    "    A_A = os.path.join(A, folder_A)\n",
    "    A_B = os.path.join(A, folder_B)\n",
    "    A_A = glob.glob(A_A +\"/*.png\")\n",
    "    A_B = glob.glob(A_B +\"/*.png\")\n",
    "    A_A_arr =load_imgs(A_A)\n",
    "    A_B_arr =load_imgs(A_B)\n",
    "\n",
    "\n",
    "    # Generate labels corresponding to above concept classes.\n",
    "    A_A_labels =  np.zeros([len(A_A_arr), 1], dtype = int)  #labeled as 0\n",
    "    A_B_labels =  np.ones([len(A_B_arr), 1], dtype = int) #labeled as 1\n",
    "\n",
    "    Ci_X = np.concatenate((A_A_arr, A_B_arr), axis=0)\n",
    "    Ci_y = np.concatenate((A_A_labels , A_B_labels), axis=0)\n",
    "\n",
    "    # Split the data into training and testing sets\n",
    "    Ci_X_train, Ci_X_test, Ci_y_train, Ci_y_test = train_test_split(Ci_X, Ci_y,\n",
    "                                                                    test_size=0.2, random_state=42, shuffle=True)\n",
    "\n",
    "    return Ci_X_train,Ci_X_test,Ci_y_train,Ci_y_test"
   ]
  },
  {
   "cell_type": "markdown",
   "id": "9c319223",
   "metadata": {
    "id": "9c319223"
   },
   "source": [
    "#### Automate the code to load every classifier images and split."
   ]
  },
  {
   "cell_type": "code",
   "execution_count": 10,
   "id": "bc46079d",
   "metadata": {
    "colab": {
     "base_uri": "https://localhost:8080/"
    },
    "id": "bc46079d",
    "outputId": "c3f71c6f-a4a6-4873-fdf2-c3c37d95aabe"
   },
   "outputs": [
    {
     "name": "stdout",
     "output_type": "stream",
     "text": [
      "classifier C0: B) center  vs not incenter\n",
      "Shape:\n",
      "(3680, 100, 100, 1) (3680, 1) (920, 100, 100, 1) (920, 1)\n",
      "\n",
      "\n",
      "classifier C1: C) Circle vs not circle\n",
      "Shape:\n",
      "(1600, 100, 100, 1) (1600, 1) (400, 100, 100, 1) (400, 1)\n",
      "\n",
      "\n",
      "classifier C2: D) Closed figure vs Open figure\n",
      "Shape:\n",
      "(1232, 100, 100, 1) (1232, 1) (308, 100, 100, 1) (308, 1)\n",
      "\n",
      "\n",
      "classifier C3: E) Co-linear vs Non-colinear\n",
      "Shape:\n",
      "(1600, 100, 100, 1) (1600, 1) (400, 100, 100, 1) (400, 1)\n",
      "\n",
      "\n",
      "classifier C4: F) Concave vs Convex\n",
      "Shape:\n",
      "(1600, 100, 100, 1) (1600, 1) (400, 100, 100, 1) (400, 1)\n",
      "\n",
      "\n",
      "classifier C5: G) Four sides vs not four side\n",
      "Shape:\n",
      "(5600, 100, 100, 1) (5600, 1) (1400, 100, 100, 1) (1400, 1)\n",
      "\n",
      "\n",
      "classifier C6: H) Triangle vs not Triangle\n",
      "Shape:\n",
      "(5584, 100, 100, 1) (5584, 1) (1396, 100, 100, 1) (1396, 1)\n",
      "\n",
      "\n",
      "classifier C7: I) Clockwise vs Anticlock wise\n",
      "Shape:\n",
      "(2400, 100, 100, 1) (2400, 1) (600, 100, 100, 1) (600, 1)\n",
      "\n",
      "\n",
      "classifier C8: J) Left vs Right\n",
      "Shape:\n",
      "(2000, 100, 100, 1) (2000, 1) (500, 100, 100, 1) (500, 1)\n",
      "\n",
      "\n",
      "classifier C9: K) Parallel vs perpendicular\n",
      "Shape:\n",
      "(800, 100, 100, 1) (800, 1) (200, 100, 100, 1) (200, 1)\n",
      "\n",
      "\n",
      "classifier C10: L) Filled vs Unfilled\n",
      "Shape:\n",
      "(1760, 100, 100, 1) (1760, 1) (440, 100, 100, 1) (440, 1)\n",
      "\n",
      "\n",
      "classifier C11: M) Complete vs Incomplete\n",
      "Shape:\n",
      "(3200, 100, 100, 1) (3200, 1) (800, 100, 100, 1) (800, 1)\n",
      "\n",
      "\n",
      "classifier C12: N) Intersect vs Non-Intersect\n",
      "Shape:\n",
      "(3563, 100, 100, 1) (3563, 1) (891, 100, 100, 1) (891, 1)\n",
      "\n",
      "\n",
      "classifier C13: O) M cluster vs N clusters\n",
      "Shape:\n",
      "(1600, 100, 100, 1) (1600, 1) (400, 100, 100, 1) (400, 1)\n",
      "\n",
      "\n",
      "classifier C14: P) Above vs Below\n",
      "Shape:\n",
      "(1920, 100, 100, 1) (1920, 1) (480, 100, 100, 1) (480, 1)\n",
      "\n",
      "\n",
      "classifier C15: Q) Same vs Not_Same\n",
      "Shape:\n",
      "(2560, 100, 100, 1) (2560, 1) (640, 100, 100, 1) (640, 1)\n",
      "\n",
      "\n",
      "classifier C16: R) Size big vs Small\n",
      "Shape:\n",
      "(1600, 100, 100, 1) (1600, 1) (400, 100, 100, 1) (400, 1)\n",
      "\n",
      "\n",
      "classifier C17: S) Symmetery vs Non_symmetery\n",
      "Shape:\n",
      "(4355, 100, 100, 1) (4355, 1) (1089, 100, 100, 1) (1089, 1)\n",
      "\n",
      "\n",
      "classifier C18: T) Horizontal vs Vertical\n",
      "Shape:\n",
      "(1600, 100, 100, 1) (1600, 1) (400, 100, 100, 1) (400, 1)\n",
      "\n",
      "\n",
      "classifier C19: U) Empty vs Non_Empty\n",
      "Shape:\n",
      "(800, 100, 100, 1) (800, 1) (200, 100, 100, 1) (200, 1)\n",
      "\n",
      "\n",
      "Time taken for Preprocess data: 20.767785787582397 seconds\n"
     ]
    }
   ],
   "source": [
    "# Path to the main folder\n",
    "main_folder_path = \"/content/CNN\"\n",
    "\n",
    "# Get the names of first-level subfolders in \"A\"\n",
    "subfolder_names = [name for name in os.listdir(main_folder_path) if os.path.isdir(os.path.join(main_folder_path, name))]\n",
    "subfolder_names = sorted(subfolder_names)\n",
    "start_time = time.time()\n",
    "# Iterate through the first-level subfolders and call data_load_split\n",
    "for i, subfolder_name in enumerate(subfolder_names):\n",
    "    subfolder_path = os.path.join(main_folder_path, subfolder_name)\n",
    "    subsubfolder_names = [name for name in os.listdir(subfolder_path) if os.path.isdir(os.path.join(subfolder_path, name))]\n",
    "\n",
    "    if len(subsubfolder_names) == 2:\n",
    "        print(f'classifier C{i}:', subfolder_name)\n",
    "#         print(subsubfolder_names[0],subsubfolder_names[1])\n",
    "        exec(f'C{i}_X_train, C{i}_X_test, C{i}_y_train, C{i}_y_test = data_load_split(subfolder_name,subsubfolder_names[0],subsubfolder_names[1])')\n",
    "        print(\"Shape:\")\n",
    "\n",
    "        print(locals()[f'C{i}_X_train'].shape, locals()[f'C{i}_y_train'].shape,locals()[f'C{i}_X_test'].shape,\n",
    "        locals()[f'C{i}_y_test'].shape)\n",
    "        print('\\n')\n",
    "end_time = time.time()\n",
    "Preprocess_Time = end_time - start_time\n",
    "print(\"Time taken for Preprocess data:\", Preprocess_Time, \"seconds\")"
   ]
  },
  {
   "cell_type": "markdown",
   "id": "5bfe90dd",
   "metadata": {
    "id": "5bfe90dd"
   },
   "source": [
    "# Multi-Head CNN"
   ]
  },
  {
   "cell_type": "code",
   "execution_count": 11,
   "id": "433f03d7",
   "metadata": {
    "id": "433f03d7"
   },
   "outputs": [],
   "source": [
    "from tensorflow.keras.layers import Input, Conv2D, BatchNormalization, MaxPooling2D, Flatten, Dense\n",
    "from tensorflow.keras.models import Model\n",
    "\n",
    "\n",
    "def Multi_head_CNN():\n",
    "\n",
    "  # Input Shape\n",
    "  input_shape = (100, 100, 1)\n",
    "  input_layer = Input(shape=input_shape)\n",
    "\n",
    "  # CNN common model:\n",
    "  CNN_L1 = Conv2D(32, kernel_size=(3, 3), padding='valid', activation='relu')(input_layer)\n",
    "  CNN_L2 = BatchNormalization()(CNN_L1)\n",
    "  CNN_L3 = MaxPooling2D(pool_size=(2, 2), strides=2, padding='valid')(CNN_L2)\n",
    "\n",
    "  CNN_L4 = Conv2D(32, kernel_size=(3, 3), padding='valid', activation='relu')(CNN_L3)\n",
    "  CNN_L5 = BatchNormalization()(CNN_L4)\n",
    "  CNN_L6 = MaxPooling2D(pool_size=(2, 2), strides=2, padding='valid')(CNN_L5)\n",
    "\n",
    "  CNN_L7 = Conv2D(64, kernel_size=(3, 3), padding='valid', activation='relu')(CNN_L6)\n",
    "  CNN_L8 = BatchNormalization()(CNN_L7)\n",
    "  CNN_L9 = MaxPooling2D(pool_size=(2, 2), strides=2, padding='valid')(CNN_L8)\n",
    "\n",
    "  CNN_L10 = Conv2D(128, kernel_size=(3, 3), padding='valid', activation='relu')(CNN_L9)\n",
    "  CNN_L11 = BatchNormalization()(CNN_L10)\n",
    "  CNN_L12 = MaxPooling2D(pool_size=(2, 2), strides=2, padding='valid')(CNN_L11)\n",
    "\n",
    "  CNN_L13 = Flatten()(CNN_L12)\n",
    "\n",
    "  # Add more layers\n",
    "  Common_Layer = Dense(128, activation='relu')(CNN_L13)\n",
    "  Common_Layer = Dense(10, activation='relu')(Common_Layer)\n",
    "\n",
    "  # Individual Head: Center vs not incenter\n",
    "  center_vs_notincenter = Dense(1, activation='sigmoid', name='center_vs_notincenter')(Common_Layer)\n",
    "\n",
    "  # Individual Head: Circle vs not circle\n",
    "  circle_vs_notcircle = Dense(1, activation='sigmoid', name='circle_vs_notcircle')(Common_Layer)\n",
    "\n",
    "  # Individual Head: Closed_vs_Open_figure\n",
    "  Closed_vs_Open_figure = Dense(1, activation='sigmoid', name='Closed_vs_Open_figure')(Common_Layer)\n",
    "\n",
    "  # Individual Head: Co-linear_vs_Non-colinear\n",
    "  Colinear_vs_Noncolinear = Dense(1, activation='sigmoid', name='Colinear_vs_Noncolinear')(Common_Layer)\n",
    "\n",
    "  # Individual Head: Concave_vs_Convex\n",
    "  Concave_vs_Convex = Dense(1, activation='sigmoid', name='Concave_vs_Convex')(Common_Layer)\n",
    "\n",
    "\n",
    "  Four_vs_notfour_side =Dense(1, activation='sigmoid', name='Four_vs_notfour_side')(Common_Layer)\n",
    "\n",
    "\n",
    "  Triangle_vs_notTriangle =Dense(1, activation='sigmoid', name='Triangle_vs_notTriangle')(Common_Layer)\n",
    "\n",
    "\n",
    "  Clockwise_vs_Anticlock_wise =  Dense(1, activation='sigmoid', name='Clockwise_vs_Anticlock_wise')(Common_Layer)\n",
    "\n",
    "\n",
    "  Left_vs_Right =  Dense(1, activation='sigmoid', name='Left_vs_Right')(Common_Layer)\n",
    "\n",
    "\n",
    "  Parallel_vs_perpendicular =  Dense(1, activation='sigmoid', name='Parallel_vs_perpendicular')(Common_Layer)\n",
    "\n",
    "\n",
    "  Filled_vs_Unfilled =  Dense(1, activation='sigmoid', name='Filled_vs_Unfilled')(Common_Layer)\n",
    "\n",
    "\n",
    "  Complete_vs_Incomplete =  Dense(1, activation='sigmoid', name='Complete_vs_Incomplete')(Common_Layer)\n",
    "\n",
    "\n",
    "  Intersect_vs_NonIntersect =  Dense(1, activation='sigmoid', name='Intersect_vs_NonIntersect')(Common_Layer)\n",
    "\n",
    "\n",
    "  M_cluster_vs_N_clusters =  Dense(1, activation='sigmoid', name='M_cluster_vs_N_clusters')(Common_Layer)\n",
    "\n",
    "\n",
    "  Above_vs_Below =  Dense(1, activation='sigmoid', name='Above_vs_Below')(Common_Layer)\n",
    "\n",
    "\n",
    "  Same_vs_Not_Same =  Dense(1, activation='sigmoid', name='Same_vs_Not_Same')(Common_Layer)\n",
    "\n",
    "  Size_big_vs_Small =  Dense(1, activation='sigmoid', name='Size_big_vs_Small')(Common_Layer)\n",
    "\n",
    "  Symmetery_vs_Non_symmetery = Dense(1, activation='sigmoid', name='Symmetery_vs_Non_symmetery')(Common_Layer)\n",
    "\n",
    "  Horizontal_vs_Vertical = Dense(1, activation='sigmoid', name='Horizontal_vs_Vertical')(Common_Layer)\n",
    "\n",
    "  Empty_vs_Non_Empty = Dense(1, activation='sigmoid', name='Empty_vs_Non_Empty')(Common_Layer)\n",
    "\n",
    "\n",
    "  # Create the model\n",
    "  model = Model(inputs=input_layer, outputs=[\n",
    "                                            center_vs_notincenter,\n",
    "                                            circle_vs_notcircle,\n",
    "                                            Closed_vs_Open_figure,\n",
    "                                            Colinear_vs_Noncolinear,\n",
    "                                            Concave_vs_Convex,\n",
    "                                            Four_vs_notfour_side,\n",
    "                                            Triangle_vs_notTriangle,\n",
    "                                            Clockwise_vs_Anticlock_wise,\n",
    "                                            Left_vs_Right,\n",
    "                                            Parallel_vs_perpendicular,\n",
    "                                            Filled_vs_Unfilled,\n",
    "                                            Complete_vs_Incomplete,\n",
    "                                            Intersect_vs_NonIntersect,\n",
    "                                            M_cluster_vs_N_clusters,\n",
    "                                            Above_vs_Below,\n",
    "                                            Same_vs_Not_Same,\n",
    "                                            Size_big_vs_Small,\n",
    "                                            Symmetery_vs_Non_symmetery,\n",
    "                                            Horizontal_vs_Vertical,\n",
    "                                            Empty_vs_Non_Empty\n",
    "                                            ])\n",
    "\n",
    "  # Compile the model with appropriate loss functions for each head\n",
    "  model.compile(optimizer='adam',\n",
    "\n",
    "\n",
    "                loss={\n",
    "                'center_vs_notincenter': 'binary_crossentropy',\n",
    "                'circle_vs_notcircle': 'binary_crossentropy',\n",
    "                'Closed_vs_Open_figure': 'binary_crossentropy',\n",
    "                'Colinear_vs_Noncolinear': 'binary_crossentropy',\n",
    "                'Concave_vs_Convex': 'binary_crossentropy',\n",
    "                'Four_vs_notfour_side': 'binary_crossentropy',\n",
    "                'Triangle_vs_notTriangle': 'binary_crossentropy',\n",
    "                'Clockwise_vs_Anticlock_wise': 'binary_crossentropy',\n",
    "                'Left_vs_Right': 'binary_crossentropy',\n",
    "                'Parallel_vs_perpendicular': 'binary_crossentropy',\n",
    "                'Filled_vs_Unfilled': 'binary_crossentropy',\n",
    "                'Complete_vs_Incomplete': 'binary_crossentropy',\n",
    "                'Intersect_vs_NonIntersect': 'binary_crossentropy',\n",
    "                'M_cluster_vs_N_clusters': 'binary_crossentropy',\n",
    "                'Above_vs_Below': 'binary_crossentropy',\n",
    "                'Same_vs_Not_Same': 'binary_crossentropy',\n",
    "                'Size_big_vs_Small':'binary_crossentropy',\n",
    "                'Symmetery_vs_Non_symmetery':'binary_crossentropy',\n",
    "                'Horizontal_vs_Vertical':'binary_crossentropy',\n",
    "                'Empty_vs_Non_Empty':'binary_crossentropy',\n",
    "                })\n",
    "  return model"
   ]
  },
  {
   "cell_type": "code",
   "execution_count": 12,
   "id": "nltqT73PhVTn",
   "metadata": {
    "id": "nltqT73PhVTn"
   },
   "outputs": [],
   "source": [
    "model=Multi_head_CNN()"
   ]
  },
  {
   "cell_type": "markdown",
   "id": "AQmky-qXglv5",
   "metadata": {
    "id": "AQmky-qXglv5"
   },
   "source": [
    "### Training Models"
   ]
  },
  {
   "cell_type": "code",
   "execution_count": 13,
   "id": "BOI-ccvkgpFI",
   "metadata": {
    "id": "BOI-ccvkgpFI"
   },
   "outputs": [],
   "source": [
    "Final_test_accuracies = []"
   ]
  },
  {
   "cell_type": "code",
   "execution_count": 14,
   "id": "043cc4e4",
   "metadata": {
    "id": "043cc4e4",
    "scrolled": false
   },
   "outputs": [],
   "source": [
    "X = [C0_X_train, C1_X_train,C2_X_train,C3_X_train, C4_X_train,C5_X_train,C6_X_train, C7_X_train,C8_X_train,C9_X_train,\n",
    "     C10_X_train,C11_X_train,C12_X_train, C13_X_train,C14_X_train,C15_X_train,C16_X_train,C17_X_train,C18_X_train,\n",
    "     C19_X_train]\n",
    "\n",
    "Y=  [C0_y_train,C1_y_train,C2_y_train,C3_y_train,C4_y_train,C5_y_train,C6_y_train,C7_y_train,C8_y_train,C9_y_train,\n",
    "C10_y_train,C11_y_train,C12_y_train,C13_y_train,C14_y_train,C15_y_train,C16_y_train,C17_y_train,C18_y_train,C19_y_train,]\n",
    "\n",
    "output_names = ['center_vs_notincenter','circle_vs_notcircle','Closed_vs_Open_figure',\n",
    "                'Colinear_vs_Noncolinear','Concave_vs_Convex','Four_vs_notfour_side','Triangle_vs_notTriangle',\n",
    "                'Clockwise_vs_Anticlock_wise','Left_vs_Right','Parallel_vs_perpendicular','Filled_vs_Unfilled',\n",
    "                'Complete_vs_Incomplete','Intersect_vs_NonIntersect','M_cluster_vs_N_clusters','Above_vs_Below',\n",
    "                'Same_vs_Not_Same','Size_big_vs_Small','Symmetery_vs_Non_symmetery','Horizontal_vs_Vertical',\n",
    "                'Empty_vs_Non_Empty']"
   ]
  },
  {
   "cell_type": "markdown",
   "id": "d6a4e3be",
   "metadata": {
    "id": "d6a4e3be"
   },
   "source": [
    "#### Cheking accuracy on each classifier"
   ]
  },
  {
   "cell_type": "code",
   "execution_count": 15,
   "id": "9aa29d6a",
   "metadata": {
    "id": "9aa29d6a"
   },
   "outputs": [],
   "source": [
    "def check_accuracy1(X_test,Y_test,i):\n",
    "\n",
    "  predictions = model.predict(X_test)\n",
    "  predictions_head = predictions[i]\n",
    "  threshold = 0.5\n",
    "  binary_predictions_head = (predictions_head > threshold).astype(int)\n",
    "  print(\"binary_predictions_head: \",np.unique(binary_predictions_head))\n",
    "  accuracy_classifier = accuracy_score(Y_test, binary_predictions_head)\n",
    "  print(f'Accuracy for Classifier C{i}:', accuracy_classifier)\n",
    "  return accuracy_classifier"
   ]
  },
  {
   "cell_type": "code",
   "execution_count": 16,
   "id": "3P-2HUbCJLQ_",
   "metadata": {
    "id": "3P-2HUbCJLQ_"
   },
   "outputs": [],
   "source": [
    "training_loss_epoch_0=[]\n",
    "training_loss_epoch_1=[]\n",
    "training_loss_epoch_2=[]\n",
    "training_loss_epoch_3=[]\n",
    "training_loss_epoch_4=[]\n",
    "training_loss_epoch_5=[]\n",
    "training_loss_epoch_6=[]\n",
    "training_loss_epoch_7=[]\n",
    "training_loss_epoch_8=[]\n",
    "training_loss_epoch_9=[]"
   ]
  },
  {
   "cell_type": "markdown",
   "id": "Zpwf7ZfihI6Z",
   "metadata": {
    "id": "Zpwf7ZfihI6Z"
   },
   "source": [
    "### Head 0 checking"
   ]
  },
  {
   "cell_type": "code",
   "execution_count": 18,
   "id": "eunla6cHhJHX",
   "metadata": {
    "colab": {
     "base_uri": "https://localhost:8080/"
    },
    "id": "eunla6cHhJHX",
    "outputId": "21891a3d-43da-49bd-b544-4914f2c63c67"
   },
   "outputs": [
    {
     "name": "stdout",
     "output_type": "stream",
     "text": [
      "Epoch 1/10\n",
      "115/115 [==============================] - 1s 8ms/step - loss: 0.0349 - center_vs_notincenter_loss: 0.0349 - circle_vs_notcircle_loss: 0.0000e+00 - Closed_vs_Open_figure_loss: 0.0000e+00 - Colinear_vs_Noncolinear_loss: 0.0000e+00 - Concave_vs_Convex_loss: 0.0000e+00 - Four_vs_notfour_side_loss: 0.0000e+00 - Triangle_vs_notTriangle_loss: 0.0000e+00 - Clockwise_vs_Anticlock_wise_loss: 0.0000e+00 - Left_vs_Right_loss: 0.0000e+00 - Parallel_vs_perpendicular_loss: 0.0000e+00 - Filled_vs_Unfilled_loss: 0.0000e+00 - Complete_vs_Incomplete_loss: 0.0000e+00 - Intersect_vs_NonIntersect_loss: 0.0000e+00 - M_cluster_vs_N_clusters_loss: 0.0000e+00 - Above_vs_Below_loss: 0.0000e+00 - Same_vs_Not_Same_loss: 0.0000e+00 - Size_big_vs_Small_loss: 0.0000e+00 - Symmetery_vs_Non_symmetery_loss: 0.0000e+00 - Horizontal_vs_Vertical_loss: 0.0000e+00 - Empty_vs_Non_Empty_loss: 0.0000e+00\n",
      "Epoch 2/10\n",
      "115/115 [==============================] - 1s 8ms/step - loss: 0.0223 - center_vs_notincenter_loss: 0.0223 - circle_vs_notcircle_loss: 0.0000e+00 - Closed_vs_Open_figure_loss: 0.0000e+00 - Colinear_vs_Noncolinear_loss: 0.0000e+00 - Concave_vs_Convex_loss: 0.0000e+00 - Four_vs_notfour_side_loss: 0.0000e+00 - Triangle_vs_notTriangle_loss: 0.0000e+00 - Clockwise_vs_Anticlock_wise_loss: 0.0000e+00 - Left_vs_Right_loss: 0.0000e+00 - Parallel_vs_perpendicular_loss: 0.0000e+00 - Filled_vs_Unfilled_loss: 0.0000e+00 - Complete_vs_Incomplete_loss: 0.0000e+00 - Intersect_vs_NonIntersect_loss: 0.0000e+00 - M_cluster_vs_N_clusters_loss: 0.0000e+00 - Above_vs_Below_loss: 0.0000e+00 - Same_vs_Not_Same_loss: 0.0000e+00 - Size_big_vs_Small_loss: 0.0000e+00 - Symmetery_vs_Non_symmetery_loss: 0.0000e+00 - Horizontal_vs_Vertical_loss: 0.0000e+00 - Empty_vs_Non_Empty_loss: 0.0000e+00\n",
      "Epoch 3/10\n",
      "115/115 [==============================] - 1s 8ms/step - loss: 0.0119 - center_vs_notincenter_loss: 0.0119 - circle_vs_notcircle_loss: 0.0000e+00 - Closed_vs_Open_figure_loss: 0.0000e+00 - Colinear_vs_Noncolinear_loss: 0.0000e+00 - Concave_vs_Convex_loss: 0.0000e+00 - Four_vs_notfour_side_loss: 0.0000e+00 - Triangle_vs_notTriangle_loss: 0.0000e+00 - Clockwise_vs_Anticlock_wise_loss: 0.0000e+00 - Left_vs_Right_loss: 0.0000e+00 - Parallel_vs_perpendicular_loss: 0.0000e+00 - Filled_vs_Unfilled_loss: 0.0000e+00 - Complete_vs_Incomplete_loss: 0.0000e+00 - Intersect_vs_NonIntersect_loss: 0.0000e+00 - M_cluster_vs_N_clusters_loss: 0.0000e+00 - Above_vs_Below_loss: 0.0000e+00 - Same_vs_Not_Same_loss: 0.0000e+00 - Size_big_vs_Small_loss: 0.0000e+00 - Symmetery_vs_Non_symmetery_loss: 0.0000e+00 - Horizontal_vs_Vertical_loss: 0.0000e+00 - Empty_vs_Non_Empty_loss: 0.0000e+00\n",
      "Epoch 4/10\n",
      "115/115 [==============================] - 1s 7ms/step - loss: 0.0127 - center_vs_notincenter_loss: 0.0127 - circle_vs_notcircle_loss: 0.0000e+00 - Closed_vs_Open_figure_loss: 0.0000e+00 - Colinear_vs_Noncolinear_loss: 0.0000e+00 - Concave_vs_Convex_loss: 0.0000e+00 - Four_vs_notfour_side_loss: 0.0000e+00 - Triangle_vs_notTriangle_loss: 0.0000e+00 - Clockwise_vs_Anticlock_wise_loss: 0.0000e+00 - Left_vs_Right_loss: 0.0000e+00 - Parallel_vs_perpendicular_loss: 0.0000e+00 - Filled_vs_Unfilled_loss: 0.0000e+00 - Complete_vs_Incomplete_loss: 0.0000e+00 - Intersect_vs_NonIntersect_loss: 0.0000e+00 - M_cluster_vs_N_clusters_loss: 0.0000e+00 - Above_vs_Below_loss: 0.0000e+00 - Same_vs_Not_Same_loss: 0.0000e+00 - Size_big_vs_Small_loss: 0.0000e+00 - Symmetery_vs_Non_symmetery_loss: 0.0000e+00 - Horizontal_vs_Vertical_loss: 0.0000e+00 - Empty_vs_Non_Empty_loss: 0.0000e+00\n",
      "Epoch 5/10\n",
      "115/115 [==============================] - 1s 7ms/step - loss: 0.0168 - center_vs_notincenter_loss: 0.0168 - circle_vs_notcircle_loss: 0.0000e+00 - Closed_vs_Open_figure_loss: 0.0000e+00 - Colinear_vs_Noncolinear_loss: 0.0000e+00 - Concave_vs_Convex_loss: 0.0000e+00 - Four_vs_notfour_side_loss: 0.0000e+00 - Triangle_vs_notTriangle_loss: 0.0000e+00 - Clockwise_vs_Anticlock_wise_loss: 0.0000e+00 - Left_vs_Right_loss: 0.0000e+00 - Parallel_vs_perpendicular_loss: 0.0000e+00 - Filled_vs_Unfilled_loss: 0.0000e+00 - Complete_vs_Incomplete_loss: 0.0000e+00 - Intersect_vs_NonIntersect_loss: 0.0000e+00 - M_cluster_vs_N_clusters_loss: 0.0000e+00 - Above_vs_Below_loss: 0.0000e+00 - Same_vs_Not_Same_loss: 0.0000e+00 - Size_big_vs_Small_loss: 0.0000e+00 - Symmetery_vs_Non_symmetery_loss: 0.0000e+00 - Horizontal_vs_Vertical_loss: 0.0000e+00 - Empty_vs_Non_Empty_loss: 0.0000e+00\n",
      "Epoch 6/10\n",
      "115/115 [==============================] - 1s 7ms/step - loss: 0.0185 - center_vs_notincenter_loss: 0.0185 - circle_vs_notcircle_loss: 0.0000e+00 - Closed_vs_Open_figure_loss: 0.0000e+00 - Colinear_vs_Noncolinear_loss: 0.0000e+00 - Concave_vs_Convex_loss: 0.0000e+00 - Four_vs_notfour_side_loss: 0.0000e+00 - Triangle_vs_notTriangle_loss: 0.0000e+00 - Clockwise_vs_Anticlock_wise_loss: 0.0000e+00 - Left_vs_Right_loss: 0.0000e+00 - Parallel_vs_perpendicular_loss: 0.0000e+00 - Filled_vs_Unfilled_loss: 0.0000e+00 - Complete_vs_Incomplete_loss: 0.0000e+00 - Intersect_vs_NonIntersect_loss: 0.0000e+00 - M_cluster_vs_N_clusters_loss: 0.0000e+00 - Above_vs_Below_loss: 0.0000e+00 - Same_vs_Not_Same_loss: 0.0000e+00 - Size_big_vs_Small_loss: 0.0000e+00 - Symmetery_vs_Non_symmetery_loss: 0.0000e+00 - Horizontal_vs_Vertical_loss: 0.0000e+00 - Empty_vs_Non_Empty_loss: 0.0000e+00\n",
      "Epoch 7/10\n",
      "115/115 [==============================] - 1s 7ms/step - loss: 0.0044 - center_vs_notincenter_loss: 0.0044 - circle_vs_notcircle_loss: 0.0000e+00 - Closed_vs_Open_figure_loss: 0.0000e+00 - Colinear_vs_Noncolinear_loss: 0.0000e+00 - Concave_vs_Convex_loss: 0.0000e+00 - Four_vs_notfour_side_loss: 0.0000e+00 - Triangle_vs_notTriangle_loss: 0.0000e+00 - Clockwise_vs_Anticlock_wise_loss: 0.0000e+00 - Left_vs_Right_loss: 0.0000e+00 - Parallel_vs_perpendicular_loss: 0.0000e+00 - Filled_vs_Unfilled_loss: 0.0000e+00 - Complete_vs_Incomplete_loss: 0.0000e+00 - Intersect_vs_NonIntersect_loss: 0.0000e+00 - M_cluster_vs_N_clusters_loss: 0.0000e+00 - Above_vs_Below_loss: 0.0000e+00 - Same_vs_Not_Same_loss: 0.0000e+00 - Size_big_vs_Small_loss: 0.0000e+00 - Symmetery_vs_Non_symmetery_loss: 0.0000e+00 - Horizontal_vs_Vertical_loss: 0.0000e+00 - Empty_vs_Non_Empty_loss: 0.0000e+00\n",
      "Epoch 8/10\n",
      "115/115 [==============================] - 1s 7ms/step - loss: 9.3061e-04 - center_vs_notincenter_loss: 9.3061e-04 - circle_vs_notcircle_loss: 0.0000e+00 - Closed_vs_Open_figure_loss: 0.0000e+00 - Colinear_vs_Noncolinear_loss: 0.0000e+00 - Concave_vs_Convex_loss: 0.0000e+00 - Four_vs_notfour_side_loss: 0.0000e+00 - Triangle_vs_notTriangle_loss: 0.0000e+00 - Clockwise_vs_Anticlock_wise_loss: 0.0000e+00 - Left_vs_Right_loss: 0.0000e+00 - Parallel_vs_perpendicular_loss: 0.0000e+00 - Filled_vs_Unfilled_loss: 0.0000e+00 - Complete_vs_Incomplete_loss: 0.0000e+00 - Intersect_vs_NonIntersect_loss: 0.0000e+00 - M_cluster_vs_N_clusters_loss: 0.0000e+00 - Above_vs_Below_loss: 0.0000e+00 - Same_vs_Not_Same_loss: 0.0000e+00 - Size_big_vs_Small_loss: 0.0000e+00 - Symmetery_vs_Non_symmetery_loss: 0.0000e+00 - Horizontal_vs_Vertical_loss: 0.0000e+00 - Empty_vs_Non_Empty_loss: 0.0000e+00\n",
      "Epoch 9/10\n",
      "115/115 [==============================] - 1s 7ms/step - loss: 8.7394e-04 - center_vs_notincenter_loss: 8.7394e-04 - circle_vs_notcircle_loss: 0.0000e+00 - Closed_vs_Open_figure_loss: 0.0000e+00 - Colinear_vs_Noncolinear_loss: 0.0000e+00 - Concave_vs_Convex_loss: 0.0000e+00 - Four_vs_notfour_side_loss: 0.0000e+00 - Triangle_vs_notTriangle_loss: 0.0000e+00 - Clockwise_vs_Anticlock_wise_loss: 0.0000e+00 - Left_vs_Right_loss: 0.0000e+00 - Parallel_vs_perpendicular_loss: 0.0000e+00 - Filled_vs_Unfilled_loss: 0.0000e+00 - Complete_vs_Incomplete_loss: 0.0000e+00 - Intersect_vs_NonIntersect_loss: 0.0000e+00 - M_cluster_vs_N_clusters_loss: 0.0000e+00 - Above_vs_Below_loss: 0.0000e+00 - Same_vs_Not_Same_loss: 0.0000e+00 - Size_big_vs_Small_loss: 0.0000e+00 - Symmetery_vs_Non_symmetery_loss: 0.0000e+00 - Horizontal_vs_Vertical_loss: 0.0000e+00 - Empty_vs_Non_Empty_loss: 0.0000e+00\n",
      "Epoch 10/10\n",
      "115/115 [==============================] - 1s 7ms/step - loss: 5.5663e-04 - center_vs_notincenter_loss: 5.5663e-04 - circle_vs_notcircle_loss: 0.0000e+00 - Closed_vs_Open_figure_loss: 0.0000e+00 - Colinear_vs_Noncolinear_loss: 0.0000e+00 - Concave_vs_Convex_loss: 0.0000e+00 - Four_vs_notfour_side_loss: 0.0000e+00 - Triangle_vs_notTriangle_loss: 0.0000e+00 - Clockwise_vs_Anticlock_wise_loss: 0.0000e+00 - Left_vs_Right_loss: 0.0000e+00 - Parallel_vs_perpendicular_loss: 0.0000e+00 - Filled_vs_Unfilled_loss: 0.0000e+00 - Complete_vs_Incomplete_loss: 0.0000e+00 - Intersect_vs_NonIntersect_loss: 0.0000e+00 - M_cluster_vs_N_clusters_loss: 0.0000e+00 - Above_vs_Below_loss: 0.0000e+00 - Same_vs_Not_Same_loss: 0.0000e+00 - Size_big_vs_Small_loss: 0.0000e+00 - Symmetery_vs_Non_symmetery_loss: 0.0000e+00 - Horizontal_vs_Vertical_loss: 0.0000e+00 - Empty_vs_Non_Empty_loss: 0.0000e+00\n",
      "29/29 [==============================] - 0s 3ms/step\n",
      "binary_predictions_head:  [0 1]\n",
      "Accuracy for Classifier C0: 0.9456521739130435\n",
      "Final_test_accuracies till now:  [0.92, 0.95]\n"
     ]
    }
   ],
   "source": [
    "Model_history=model.fit(X[0], {output_names[0]: Y[0]}, epochs=10)\n",
    "\n",
    "Temp_var=check_accuracy1(C0_X_test,C0_y_test,0)\n",
    "Rounded_accuracy = round(Temp_var, 2)\n",
    "Final_test_accuracies.append(Rounded_accuracy)\n",
    "print(\"Final_test_accuracies till now: \",Final_test_accuracies)\n",
    "\n",
    "Training_loss=Model_history.history['loss']\n",
    "for i in range(10):\n",
    "  globals()[f'training_loss_epoch_{i}'].append(Training_loss[i])"
   ]
  },
  {
   "cell_type": "markdown",
   "id": "Oyu6uY2pHXLT",
   "metadata": {
    "id": "Oyu6uY2pHXLT"
   },
   "source": [
    "### Head 1 checking"
   ]
  },
  {
   "cell_type": "code",
   "execution_count": 19,
   "id": "Li7ZAz0gHdSi",
   "metadata": {
    "colab": {
     "base_uri": "https://localhost:8080/"
    },
    "id": "Li7ZAz0gHdSi",
    "outputId": "bd1e7ed2-1a11-4bb6-ae10-af21cee99ad5"
   },
   "outputs": [
    {
     "name": "stdout",
     "output_type": "stream",
     "text": [
      "Epoch 1/10\n"
     ]
    },
    {
     "name": "stderr",
     "output_type": "stream",
     "text": [
      "WARNING:tensorflow:Gradients do not exist for variables ['center_vs_notincenter/kernel:0', 'center_vs_notincenter/bias:0', 'Closed_vs_Open_figure/kernel:0', 'Closed_vs_Open_figure/bias:0', 'Colinear_vs_Noncolinear/kernel:0', 'Colinear_vs_Noncolinear/bias:0', 'Concave_vs_Convex/kernel:0', 'Concave_vs_Convex/bias:0', 'Four_vs_notfour_side/kernel:0', 'Four_vs_notfour_side/bias:0', 'Triangle_vs_notTriangle/kernel:0', 'Triangle_vs_notTriangle/bias:0', 'Clockwise_vs_Anticlock_wise/kernel:0', 'Clockwise_vs_Anticlock_wise/bias:0', 'Left_vs_Right/kernel:0', 'Left_vs_Right/bias:0', 'Parallel_vs_perpendicular/kernel:0', 'Parallel_vs_perpendicular/bias:0', 'Filled_vs_Unfilled/kernel:0', 'Filled_vs_Unfilled/bias:0', 'Complete_vs_Incomplete/kernel:0', 'Complete_vs_Incomplete/bias:0', 'Intersect_vs_NonIntersect/kernel:0', 'Intersect_vs_NonIntersect/bias:0', 'M_cluster_vs_N_clusters/kernel:0', 'M_cluster_vs_N_clusters/bias:0', 'Above_vs_Below/kernel:0', 'Above_vs_Below/bias:0', 'Same_vs_Not_Same/kernel:0', 'Same_vs_Not_Same/bias:0', 'Size_big_vs_Small/kernel:0', 'Size_big_vs_Small/bias:0', 'Symmetery_vs_Non_symmetery/kernel:0', 'Symmetery_vs_Non_symmetery/bias:0', 'Horizontal_vs_Vertical/kernel:0', 'Horizontal_vs_Vertical/bias:0', 'Empty_vs_Non_Empty/kernel:0', 'Empty_vs_Non_Empty/bias:0'] when minimizing the loss. If you're using `model.compile()`, did you forget to provide a `loss` argument?\n",
      "WARNING:tensorflow:Gradients do not exist for variables ['center_vs_notincenter/kernel:0', 'center_vs_notincenter/bias:0', 'Closed_vs_Open_figure/kernel:0', 'Closed_vs_Open_figure/bias:0', 'Colinear_vs_Noncolinear/kernel:0', 'Colinear_vs_Noncolinear/bias:0', 'Concave_vs_Convex/kernel:0', 'Concave_vs_Convex/bias:0', 'Four_vs_notfour_side/kernel:0', 'Four_vs_notfour_side/bias:0', 'Triangle_vs_notTriangle/kernel:0', 'Triangle_vs_notTriangle/bias:0', 'Clockwise_vs_Anticlock_wise/kernel:0', 'Clockwise_vs_Anticlock_wise/bias:0', 'Left_vs_Right/kernel:0', 'Left_vs_Right/bias:0', 'Parallel_vs_perpendicular/kernel:0', 'Parallel_vs_perpendicular/bias:0', 'Filled_vs_Unfilled/kernel:0', 'Filled_vs_Unfilled/bias:0', 'Complete_vs_Incomplete/kernel:0', 'Complete_vs_Incomplete/bias:0', 'Intersect_vs_NonIntersect/kernel:0', 'Intersect_vs_NonIntersect/bias:0', 'M_cluster_vs_N_clusters/kernel:0', 'M_cluster_vs_N_clusters/bias:0', 'Above_vs_Below/kernel:0', 'Above_vs_Below/bias:0', 'Same_vs_Not_Same/kernel:0', 'Same_vs_Not_Same/bias:0', 'Size_big_vs_Small/kernel:0', 'Size_big_vs_Small/bias:0', 'Symmetery_vs_Non_symmetery/kernel:0', 'Symmetery_vs_Non_symmetery/bias:0', 'Horizontal_vs_Vertical/kernel:0', 'Horizontal_vs_Vertical/bias:0', 'Empty_vs_Non_Empty/kernel:0', 'Empty_vs_Non_Empty/bias:0'] when minimizing the loss. If you're using `model.compile()`, did you forget to provide a `loss` argument?\n"
     ]
    },
    {
     "name": "stdout",
     "output_type": "stream",
     "text": [
      "50/50 [==============================] - 1s 7ms/step - loss: 0.2875 - center_vs_notincenter_loss: 0.0000e+00 - circle_vs_notcircle_loss: 0.2875 - Closed_vs_Open_figure_loss: 0.0000e+00 - Colinear_vs_Noncolinear_loss: 0.0000e+00 - Concave_vs_Convex_loss: 0.0000e+00 - Four_vs_notfour_side_loss: 0.0000e+00 - Triangle_vs_notTriangle_loss: 0.0000e+00 - Clockwise_vs_Anticlock_wise_loss: 0.0000e+00 - Left_vs_Right_loss: 0.0000e+00 - Parallel_vs_perpendicular_loss: 0.0000e+00 - Filled_vs_Unfilled_loss: 0.0000e+00 - Complete_vs_Incomplete_loss: 0.0000e+00 - Intersect_vs_NonIntersect_loss: 0.0000e+00 - M_cluster_vs_N_clusters_loss: 0.0000e+00 - Above_vs_Below_loss: 0.0000e+00 - Same_vs_Not_Same_loss: 0.0000e+00 - Size_big_vs_Small_loss: 0.0000e+00 - Symmetery_vs_Non_symmetery_loss: 0.0000e+00 - Horizontal_vs_Vertical_loss: 0.0000e+00 - Empty_vs_Non_Empty_loss: 0.0000e+00\n",
      "Epoch 2/10\n",
      "50/50 [==============================] - 0s 7ms/step - loss: 0.0578 - center_vs_notincenter_loss: 0.0000e+00 - circle_vs_notcircle_loss: 0.0578 - Closed_vs_Open_figure_loss: 0.0000e+00 - Colinear_vs_Noncolinear_loss: 0.0000e+00 - Concave_vs_Convex_loss: 0.0000e+00 - Four_vs_notfour_side_loss: 0.0000e+00 - Triangle_vs_notTriangle_loss: 0.0000e+00 - Clockwise_vs_Anticlock_wise_loss: 0.0000e+00 - Left_vs_Right_loss: 0.0000e+00 - Parallel_vs_perpendicular_loss: 0.0000e+00 - Filled_vs_Unfilled_loss: 0.0000e+00 - Complete_vs_Incomplete_loss: 0.0000e+00 - Intersect_vs_NonIntersect_loss: 0.0000e+00 - M_cluster_vs_N_clusters_loss: 0.0000e+00 - Above_vs_Below_loss: 0.0000e+00 - Same_vs_Not_Same_loss: 0.0000e+00 - Size_big_vs_Small_loss: 0.0000e+00 - Symmetery_vs_Non_symmetery_loss: 0.0000e+00 - Horizontal_vs_Vertical_loss: 0.0000e+00 - Empty_vs_Non_Empty_loss: 0.0000e+00\n",
      "Epoch 3/10\n",
      "50/50 [==============================] - 0s 7ms/step - loss: 0.0328 - center_vs_notincenter_loss: 0.0000e+00 - circle_vs_notcircle_loss: 0.0328 - Closed_vs_Open_figure_loss: 0.0000e+00 - Colinear_vs_Noncolinear_loss: 0.0000e+00 - Concave_vs_Convex_loss: 0.0000e+00 - Four_vs_notfour_side_loss: 0.0000e+00 - Triangle_vs_notTriangle_loss: 0.0000e+00 - Clockwise_vs_Anticlock_wise_loss: 0.0000e+00 - Left_vs_Right_loss: 0.0000e+00 - Parallel_vs_perpendicular_loss: 0.0000e+00 - Filled_vs_Unfilled_loss: 0.0000e+00 - Complete_vs_Incomplete_loss: 0.0000e+00 - Intersect_vs_NonIntersect_loss: 0.0000e+00 - M_cluster_vs_N_clusters_loss: 0.0000e+00 - Above_vs_Below_loss: 0.0000e+00 - Same_vs_Not_Same_loss: 0.0000e+00 - Size_big_vs_Small_loss: 0.0000e+00 - Symmetery_vs_Non_symmetery_loss: 0.0000e+00 - Horizontal_vs_Vertical_loss: 0.0000e+00 - Empty_vs_Non_Empty_loss: 0.0000e+00\n",
      "Epoch 4/10\n",
      "50/50 [==============================] - 0s 7ms/step - loss: 0.0244 - center_vs_notincenter_loss: 0.0000e+00 - circle_vs_notcircle_loss: 0.0244 - Closed_vs_Open_figure_loss: 0.0000e+00 - Colinear_vs_Noncolinear_loss: 0.0000e+00 - Concave_vs_Convex_loss: 0.0000e+00 - Four_vs_notfour_side_loss: 0.0000e+00 - Triangle_vs_notTriangle_loss: 0.0000e+00 - Clockwise_vs_Anticlock_wise_loss: 0.0000e+00 - Left_vs_Right_loss: 0.0000e+00 - Parallel_vs_perpendicular_loss: 0.0000e+00 - Filled_vs_Unfilled_loss: 0.0000e+00 - Complete_vs_Incomplete_loss: 0.0000e+00 - Intersect_vs_NonIntersect_loss: 0.0000e+00 - M_cluster_vs_N_clusters_loss: 0.0000e+00 - Above_vs_Below_loss: 0.0000e+00 - Same_vs_Not_Same_loss: 0.0000e+00 - Size_big_vs_Small_loss: 0.0000e+00 - Symmetery_vs_Non_symmetery_loss: 0.0000e+00 - Horizontal_vs_Vertical_loss: 0.0000e+00 - Empty_vs_Non_Empty_loss: 0.0000e+00\n",
      "Epoch 5/10\n",
      "50/50 [==============================] - 0s 7ms/step - loss: 0.0226 - center_vs_notincenter_loss: 0.0000e+00 - circle_vs_notcircle_loss: 0.0226 - Closed_vs_Open_figure_loss: 0.0000e+00 - Colinear_vs_Noncolinear_loss: 0.0000e+00 - Concave_vs_Convex_loss: 0.0000e+00 - Four_vs_notfour_side_loss: 0.0000e+00 - Triangle_vs_notTriangle_loss: 0.0000e+00 - Clockwise_vs_Anticlock_wise_loss: 0.0000e+00 - Left_vs_Right_loss: 0.0000e+00 - Parallel_vs_perpendicular_loss: 0.0000e+00 - Filled_vs_Unfilled_loss: 0.0000e+00 - Complete_vs_Incomplete_loss: 0.0000e+00 - Intersect_vs_NonIntersect_loss: 0.0000e+00 - M_cluster_vs_N_clusters_loss: 0.0000e+00 - Above_vs_Below_loss: 0.0000e+00 - Same_vs_Not_Same_loss: 0.0000e+00 - Size_big_vs_Small_loss: 0.0000e+00 - Symmetery_vs_Non_symmetery_loss: 0.0000e+00 - Horizontal_vs_Vertical_loss: 0.0000e+00 - Empty_vs_Non_Empty_loss: 0.0000e+00\n",
      "Epoch 6/10\n",
      "50/50 [==============================] - 0s 7ms/step - loss: 0.0290 - center_vs_notincenter_loss: 0.0000e+00 - circle_vs_notcircle_loss: 0.0290 - Closed_vs_Open_figure_loss: 0.0000e+00 - Colinear_vs_Noncolinear_loss: 0.0000e+00 - Concave_vs_Convex_loss: 0.0000e+00 - Four_vs_notfour_side_loss: 0.0000e+00 - Triangle_vs_notTriangle_loss: 0.0000e+00 - Clockwise_vs_Anticlock_wise_loss: 0.0000e+00 - Left_vs_Right_loss: 0.0000e+00 - Parallel_vs_perpendicular_loss: 0.0000e+00 - Filled_vs_Unfilled_loss: 0.0000e+00 - Complete_vs_Incomplete_loss: 0.0000e+00 - Intersect_vs_NonIntersect_loss: 0.0000e+00 - M_cluster_vs_N_clusters_loss: 0.0000e+00 - Above_vs_Below_loss: 0.0000e+00 - Same_vs_Not_Same_loss: 0.0000e+00 - Size_big_vs_Small_loss: 0.0000e+00 - Symmetery_vs_Non_symmetery_loss: 0.0000e+00 - Horizontal_vs_Vertical_loss: 0.0000e+00 - Empty_vs_Non_Empty_loss: 0.0000e+00\n",
      "Epoch 7/10\n",
      "50/50 [==============================] - 0s 7ms/step - loss: 0.0216 - center_vs_notincenter_loss: 0.0000e+00 - circle_vs_notcircle_loss: 0.0216 - Closed_vs_Open_figure_loss: 0.0000e+00 - Colinear_vs_Noncolinear_loss: 0.0000e+00 - Concave_vs_Convex_loss: 0.0000e+00 - Four_vs_notfour_side_loss: 0.0000e+00 - Triangle_vs_notTriangle_loss: 0.0000e+00 - Clockwise_vs_Anticlock_wise_loss: 0.0000e+00 - Left_vs_Right_loss: 0.0000e+00 - Parallel_vs_perpendicular_loss: 0.0000e+00 - Filled_vs_Unfilled_loss: 0.0000e+00 - Complete_vs_Incomplete_loss: 0.0000e+00 - Intersect_vs_NonIntersect_loss: 0.0000e+00 - M_cluster_vs_N_clusters_loss: 0.0000e+00 - Above_vs_Below_loss: 0.0000e+00 - Same_vs_Not_Same_loss: 0.0000e+00 - Size_big_vs_Small_loss: 0.0000e+00 - Symmetery_vs_Non_symmetery_loss: 0.0000e+00 - Horizontal_vs_Vertical_loss: 0.0000e+00 - Empty_vs_Non_Empty_loss: 0.0000e+00\n",
      "Epoch 8/10\n",
      "50/50 [==============================] - 0s 7ms/step - loss: 0.0215 - center_vs_notincenter_loss: 0.0000e+00 - circle_vs_notcircle_loss: 0.0215 - Closed_vs_Open_figure_loss: 0.0000e+00 - Colinear_vs_Noncolinear_loss: 0.0000e+00 - Concave_vs_Convex_loss: 0.0000e+00 - Four_vs_notfour_side_loss: 0.0000e+00 - Triangle_vs_notTriangle_loss: 0.0000e+00 - Clockwise_vs_Anticlock_wise_loss: 0.0000e+00 - Left_vs_Right_loss: 0.0000e+00 - Parallel_vs_perpendicular_loss: 0.0000e+00 - Filled_vs_Unfilled_loss: 0.0000e+00 - Complete_vs_Incomplete_loss: 0.0000e+00 - Intersect_vs_NonIntersect_loss: 0.0000e+00 - M_cluster_vs_N_clusters_loss: 0.0000e+00 - Above_vs_Below_loss: 0.0000e+00 - Same_vs_Not_Same_loss: 0.0000e+00 - Size_big_vs_Small_loss: 0.0000e+00 - Symmetery_vs_Non_symmetery_loss: 0.0000e+00 - Horizontal_vs_Vertical_loss: 0.0000e+00 - Empty_vs_Non_Empty_loss: 0.0000e+00\n",
      "Epoch 9/10\n",
      "50/50 [==============================] - 0s 7ms/step - loss: 0.0181 - center_vs_notincenter_loss: 0.0000e+00 - circle_vs_notcircle_loss: 0.0181 - Closed_vs_Open_figure_loss: 0.0000e+00 - Colinear_vs_Noncolinear_loss: 0.0000e+00 - Concave_vs_Convex_loss: 0.0000e+00 - Four_vs_notfour_side_loss: 0.0000e+00 - Triangle_vs_notTriangle_loss: 0.0000e+00 - Clockwise_vs_Anticlock_wise_loss: 0.0000e+00 - Left_vs_Right_loss: 0.0000e+00 - Parallel_vs_perpendicular_loss: 0.0000e+00 - Filled_vs_Unfilled_loss: 0.0000e+00 - Complete_vs_Incomplete_loss: 0.0000e+00 - Intersect_vs_NonIntersect_loss: 0.0000e+00 - M_cluster_vs_N_clusters_loss: 0.0000e+00 - Above_vs_Below_loss: 0.0000e+00 - Same_vs_Not_Same_loss: 0.0000e+00 - Size_big_vs_Small_loss: 0.0000e+00 - Symmetery_vs_Non_symmetery_loss: 0.0000e+00 - Horizontal_vs_Vertical_loss: 0.0000e+00 - Empty_vs_Non_Empty_loss: 0.0000e+00\n",
      "Epoch 10/10\n",
      "50/50 [==============================] - 0s 7ms/step - loss: 0.0192 - center_vs_notincenter_loss: 0.0000e+00 - circle_vs_notcircle_loss: 0.0192 - Closed_vs_Open_figure_loss: 0.0000e+00 - Colinear_vs_Noncolinear_loss: 0.0000e+00 - Concave_vs_Convex_loss: 0.0000e+00 - Four_vs_notfour_side_loss: 0.0000e+00 - Triangle_vs_notTriangle_loss: 0.0000e+00 - Clockwise_vs_Anticlock_wise_loss: 0.0000e+00 - Left_vs_Right_loss: 0.0000e+00 - Parallel_vs_perpendicular_loss: 0.0000e+00 - Filled_vs_Unfilled_loss: 0.0000e+00 - Complete_vs_Incomplete_loss: 0.0000e+00 - Intersect_vs_NonIntersect_loss: 0.0000e+00 - M_cluster_vs_N_clusters_loss: 0.0000e+00 - Above_vs_Below_loss: 0.0000e+00 - Same_vs_Not_Same_loss: 0.0000e+00 - Size_big_vs_Small_loss: 0.0000e+00 - Symmetery_vs_Non_symmetery_loss: 0.0000e+00 - Horizontal_vs_Vertical_loss: 0.0000e+00 - Empty_vs_Non_Empty_loss: 0.0000e+00\n",
      "13/13 [==============================] - 0s 7ms/step\n",
      "binary_predictions_head:  [0 1]\n",
      "Accuracy for Classifier C1: 0.9775\n",
      "Final_test_accuracies till now:  [0.92, 0.95, 0.98]\n"
     ]
    }
   ],
   "source": [
    "Model_history=model.fit(X[1], {output_names[1]: Y[1]}, epochs=10)\n",
    "\n",
    "Temp_var=check_accuracy1(C1_X_test,C1_y_test,1)\n",
    "Rounded_accuracy = round(Temp_var, 2)\n",
    "Final_test_accuracies.append(Rounded_accuracy)\n",
    "print(\"Final_test_accuracies till now: \",Final_test_accuracies)\n",
    "\n",
    "Training_loss=Model_history.history['loss']\n",
    "for i in range(10):\n",
    "  globals()[f'training_loss_epoch_{i}'].append(Training_loss[i])"
   ]
  },
  {
   "cell_type": "markdown",
   "id": "68uLHYhHM8rf",
   "metadata": {
    "id": "68uLHYhHM8rf"
   },
   "source": [
    "### Head 2 checking"
   ]
  },
  {
   "cell_type": "code",
   "execution_count": 20,
   "id": "Utw_9e_EM_LF",
   "metadata": {
    "colab": {
     "base_uri": "https://localhost:8080/"
    },
    "id": "Utw_9e_EM_LF",
    "outputId": "561983cd-5d81-4cd7-f6d7-077b58b8d3c3"
   },
   "outputs": [
    {
     "name": "stdout",
     "output_type": "stream",
     "text": [
      "Epoch 1/10\n"
     ]
    },
    {
     "name": "stderr",
     "output_type": "stream",
     "text": [
      "WARNING:tensorflow:Gradients do not exist for variables ['center_vs_notincenter/kernel:0', 'center_vs_notincenter/bias:0', 'circle_vs_notcircle/kernel:0', 'circle_vs_notcircle/bias:0', 'Colinear_vs_Noncolinear/kernel:0', 'Colinear_vs_Noncolinear/bias:0', 'Concave_vs_Convex/kernel:0', 'Concave_vs_Convex/bias:0', 'Four_vs_notfour_side/kernel:0', 'Four_vs_notfour_side/bias:0', 'Triangle_vs_notTriangle/kernel:0', 'Triangle_vs_notTriangle/bias:0', 'Clockwise_vs_Anticlock_wise/kernel:0', 'Clockwise_vs_Anticlock_wise/bias:0', 'Left_vs_Right/kernel:0', 'Left_vs_Right/bias:0', 'Parallel_vs_perpendicular/kernel:0', 'Parallel_vs_perpendicular/bias:0', 'Filled_vs_Unfilled/kernel:0', 'Filled_vs_Unfilled/bias:0', 'Complete_vs_Incomplete/kernel:0', 'Complete_vs_Incomplete/bias:0', 'Intersect_vs_NonIntersect/kernel:0', 'Intersect_vs_NonIntersect/bias:0', 'M_cluster_vs_N_clusters/kernel:0', 'M_cluster_vs_N_clusters/bias:0', 'Above_vs_Below/kernel:0', 'Above_vs_Below/bias:0', 'Same_vs_Not_Same/kernel:0', 'Same_vs_Not_Same/bias:0', 'Size_big_vs_Small/kernel:0', 'Size_big_vs_Small/bias:0', 'Symmetery_vs_Non_symmetery/kernel:0', 'Symmetery_vs_Non_symmetery/bias:0', 'Horizontal_vs_Vertical/kernel:0', 'Horizontal_vs_Vertical/bias:0', 'Empty_vs_Non_Empty/kernel:0', 'Empty_vs_Non_Empty/bias:0'] when minimizing the loss. If you're using `model.compile()`, did you forget to provide a `loss` argument?\n",
      "WARNING:tensorflow:Gradients do not exist for variables ['center_vs_notincenter/kernel:0', 'center_vs_notincenter/bias:0', 'circle_vs_notcircle/kernel:0', 'circle_vs_notcircle/bias:0', 'Colinear_vs_Noncolinear/kernel:0', 'Colinear_vs_Noncolinear/bias:0', 'Concave_vs_Convex/kernel:0', 'Concave_vs_Convex/bias:0', 'Four_vs_notfour_side/kernel:0', 'Four_vs_notfour_side/bias:0', 'Triangle_vs_notTriangle/kernel:0', 'Triangle_vs_notTriangle/bias:0', 'Clockwise_vs_Anticlock_wise/kernel:0', 'Clockwise_vs_Anticlock_wise/bias:0', 'Left_vs_Right/kernel:0', 'Left_vs_Right/bias:0', 'Parallel_vs_perpendicular/kernel:0', 'Parallel_vs_perpendicular/bias:0', 'Filled_vs_Unfilled/kernel:0', 'Filled_vs_Unfilled/bias:0', 'Complete_vs_Incomplete/kernel:0', 'Complete_vs_Incomplete/bias:0', 'Intersect_vs_NonIntersect/kernel:0', 'Intersect_vs_NonIntersect/bias:0', 'M_cluster_vs_N_clusters/kernel:0', 'M_cluster_vs_N_clusters/bias:0', 'Above_vs_Below/kernel:0', 'Above_vs_Below/bias:0', 'Same_vs_Not_Same/kernel:0', 'Same_vs_Not_Same/bias:0', 'Size_big_vs_Small/kernel:0', 'Size_big_vs_Small/bias:0', 'Symmetery_vs_Non_symmetery/kernel:0', 'Symmetery_vs_Non_symmetery/bias:0', 'Horizontal_vs_Vertical/kernel:0', 'Horizontal_vs_Vertical/bias:0', 'Empty_vs_Non_Empty/kernel:0', 'Empty_vs_Non_Empty/bias:0'] when minimizing the loss. If you're using `model.compile()`, did you forget to provide a `loss` argument?\n"
     ]
    },
    {
     "name": "stdout",
     "output_type": "stream",
     "text": [
      "39/39 [==============================] - 1s 9ms/step - loss: 0.6340 - center_vs_notincenter_loss: 0.0000e+00 - circle_vs_notcircle_loss: 0.0000e+00 - Closed_vs_Open_figure_loss: 0.6340 - Colinear_vs_Noncolinear_loss: 0.0000e+00 - Concave_vs_Convex_loss: 0.0000e+00 - Four_vs_notfour_side_loss: 0.0000e+00 - Triangle_vs_notTriangle_loss: 0.0000e+00 - Clockwise_vs_Anticlock_wise_loss: 0.0000e+00 - Left_vs_Right_loss: 0.0000e+00 - Parallel_vs_perpendicular_loss: 0.0000e+00 - Filled_vs_Unfilled_loss: 0.0000e+00 - Complete_vs_Incomplete_loss: 0.0000e+00 - Intersect_vs_NonIntersect_loss: 0.0000e+00 - M_cluster_vs_N_clusters_loss: 0.0000e+00 - Above_vs_Below_loss: 0.0000e+00 - Same_vs_Not_Same_loss: 0.0000e+00 - Size_big_vs_Small_loss: 0.0000e+00 - Symmetery_vs_Non_symmetery_loss: 0.0000e+00 - Horizontal_vs_Vertical_loss: 0.0000e+00 - Empty_vs_Non_Empty_loss: 0.0000e+00\n",
      "Epoch 2/10\n",
      "39/39 [==============================] - 0s 8ms/step - loss: 0.4149 - center_vs_notincenter_loss: 0.0000e+00 - circle_vs_notcircle_loss: 0.0000e+00 - Closed_vs_Open_figure_loss: 0.4149 - Colinear_vs_Noncolinear_loss: 0.0000e+00 - Concave_vs_Convex_loss: 0.0000e+00 - Four_vs_notfour_side_loss: 0.0000e+00 - Triangle_vs_notTriangle_loss: 0.0000e+00 - Clockwise_vs_Anticlock_wise_loss: 0.0000e+00 - Left_vs_Right_loss: 0.0000e+00 - Parallel_vs_perpendicular_loss: 0.0000e+00 - Filled_vs_Unfilled_loss: 0.0000e+00 - Complete_vs_Incomplete_loss: 0.0000e+00 - Intersect_vs_NonIntersect_loss: 0.0000e+00 - M_cluster_vs_N_clusters_loss: 0.0000e+00 - Above_vs_Below_loss: 0.0000e+00 - Same_vs_Not_Same_loss: 0.0000e+00 - Size_big_vs_Small_loss: 0.0000e+00 - Symmetery_vs_Non_symmetery_loss: 0.0000e+00 - Horizontal_vs_Vertical_loss: 0.0000e+00 - Empty_vs_Non_Empty_loss: 0.0000e+00\n",
      "Epoch 3/10\n",
      "39/39 [==============================] - 0s 7ms/step - loss: 0.3641 - center_vs_notincenter_loss: 0.0000e+00 - circle_vs_notcircle_loss: 0.0000e+00 - Closed_vs_Open_figure_loss: 0.3641 - Colinear_vs_Noncolinear_loss: 0.0000e+00 - Concave_vs_Convex_loss: 0.0000e+00 - Four_vs_notfour_side_loss: 0.0000e+00 - Triangle_vs_notTriangle_loss: 0.0000e+00 - Clockwise_vs_Anticlock_wise_loss: 0.0000e+00 - Left_vs_Right_loss: 0.0000e+00 - Parallel_vs_perpendicular_loss: 0.0000e+00 - Filled_vs_Unfilled_loss: 0.0000e+00 - Complete_vs_Incomplete_loss: 0.0000e+00 - Intersect_vs_NonIntersect_loss: 0.0000e+00 - M_cluster_vs_N_clusters_loss: 0.0000e+00 - Above_vs_Below_loss: 0.0000e+00 - Same_vs_Not_Same_loss: 0.0000e+00 - Size_big_vs_Small_loss: 0.0000e+00 - Symmetery_vs_Non_symmetery_loss: 0.0000e+00 - Horizontal_vs_Vertical_loss: 0.0000e+00 - Empty_vs_Non_Empty_loss: 0.0000e+00\n",
      "Epoch 4/10\n",
      "39/39 [==============================] - 0s 7ms/step - loss: 0.3169 - center_vs_notincenter_loss: 0.0000e+00 - circle_vs_notcircle_loss: 0.0000e+00 - Closed_vs_Open_figure_loss: 0.3169 - Colinear_vs_Noncolinear_loss: 0.0000e+00 - Concave_vs_Convex_loss: 0.0000e+00 - Four_vs_notfour_side_loss: 0.0000e+00 - Triangle_vs_notTriangle_loss: 0.0000e+00 - Clockwise_vs_Anticlock_wise_loss: 0.0000e+00 - Left_vs_Right_loss: 0.0000e+00 - Parallel_vs_perpendicular_loss: 0.0000e+00 - Filled_vs_Unfilled_loss: 0.0000e+00 - Complete_vs_Incomplete_loss: 0.0000e+00 - Intersect_vs_NonIntersect_loss: 0.0000e+00 - M_cluster_vs_N_clusters_loss: 0.0000e+00 - Above_vs_Below_loss: 0.0000e+00 - Same_vs_Not_Same_loss: 0.0000e+00 - Size_big_vs_Small_loss: 0.0000e+00 - Symmetery_vs_Non_symmetery_loss: 0.0000e+00 - Horizontal_vs_Vertical_loss: 0.0000e+00 - Empty_vs_Non_Empty_loss: 0.0000e+00\n",
      "Epoch 5/10\n",
      "39/39 [==============================] - 0s 8ms/step - loss: 0.2802 - center_vs_notincenter_loss: 0.0000e+00 - circle_vs_notcircle_loss: 0.0000e+00 - Closed_vs_Open_figure_loss: 0.2802 - Colinear_vs_Noncolinear_loss: 0.0000e+00 - Concave_vs_Convex_loss: 0.0000e+00 - Four_vs_notfour_side_loss: 0.0000e+00 - Triangle_vs_notTriangle_loss: 0.0000e+00 - Clockwise_vs_Anticlock_wise_loss: 0.0000e+00 - Left_vs_Right_loss: 0.0000e+00 - Parallel_vs_perpendicular_loss: 0.0000e+00 - Filled_vs_Unfilled_loss: 0.0000e+00 - Complete_vs_Incomplete_loss: 0.0000e+00 - Intersect_vs_NonIntersect_loss: 0.0000e+00 - M_cluster_vs_N_clusters_loss: 0.0000e+00 - Above_vs_Below_loss: 0.0000e+00 - Same_vs_Not_Same_loss: 0.0000e+00 - Size_big_vs_Small_loss: 0.0000e+00 - Symmetery_vs_Non_symmetery_loss: 0.0000e+00 - Horizontal_vs_Vertical_loss: 0.0000e+00 - Empty_vs_Non_Empty_loss: 0.0000e+00\n",
      "Epoch 6/10\n",
      "39/39 [==============================] - 0s 8ms/step - loss: 0.2608 - center_vs_notincenter_loss: 0.0000e+00 - circle_vs_notcircle_loss: 0.0000e+00 - Closed_vs_Open_figure_loss: 0.2608 - Colinear_vs_Noncolinear_loss: 0.0000e+00 - Concave_vs_Convex_loss: 0.0000e+00 - Four_vs_notfour_side_loss: 0.0000e+00 - Triangle_vs_notTriangle_loss: 0.0000e+00 - Clockwise_vs_Anticlock_wise_loss: 0.0000e+00 - Left_vs_Right_loss: 0.0000e+00 - Parallel_vs_perpendicular_loss: 0.0000e+00 - Filled_vs_Unfilled_loss: 0.0000e+00 - Complete_vs_Incomplete_loss: 0.0000e+00 - Intersect_vs_NonIntersect_loss: 0.0000e+00 - M_cluster_vs_N_clusters_loss: 0.0000e+00 - Above_vs_Below_loss: 0.0000e+00 - Same_vs_Not_Same_loss: 0.0000e+00 - Size_big_vs_Small_loss: 0.0000e+00 - Symmetery_vs_Non_symmetery_loss: 0.0000e+00 - Horizontal_vs_Vertical_loss: 0.0000e+00 - Empty_vs_Non_Empty_loss: 0.0000e+00\n",
      "Epoch 7/10\n",
      "39/39 [==============================] - 0s 8ms/step - loss: 0.2403 - center_vs_notincenter_loss: 0.0000e+00 - circle_vs_notcircle_loss: 0.0000e+00 - Closed_vs_Open_figure_loss: 0.2403 - Colinear_vs_Noncolinear_loss: 0.0000e+00 - Concave_vs_Convex_loss: 0.0000e+00 - Four_vs_notfour_side_loss: 0.0000e+00 - Triangle_vs_notTriangle_loss: 0.0000e+00 - Clockwise_vs_Anticlock_wise_loss: 0.0000e+00 - Left_vs_Right_loss: 0.0000e+00 - Parallel_vs_perpendicular_loss: 0.0000e+00 - Filled_vs_Unfilled_loss: 0.0000e+00 - Complete_vs_Incomplete_loss: 0.0000e+00 - Intersect_vs_NonIntersect_loss: 0.0000e+00 - M_cluster_vs_N_clusters_loss: 0.0000e+00 - Above_vs_Below_loss: 0.0000e+00 - Same_vs_Not_Same_loss: 0.0000e+00 - Size_big_vs_Small_loss: 0.0000e+00 - Symmetery_vs_Non_symmetery_loss: 0.0000e+00 - Horizontal_vs_Vertical_loss: 0.0000e+00 - Empty_vs_Non_Empty_loss: 0.0000e+00\n",
      "Epoch 8/10\n",
      "39/39 [==============================] - 0s 8ms/step - loss: 0.2316 - center_vs_notincenter_loss: 0.0000e+00 - circle_vs_notcircle_loss: 0.0000e+00 - Closed_vs_Open_figure_loss: 0.2316 - Colinear_vs_Noncolinear_loss: 0.0000e+00 - Concave_vs_Convex_loss: 0.0000e+00 - Four_vs_notfour_side_loss: 0.0000e+00 - Triangle_vs_notTriangle_loss: 0.0000e+00 - Clockwise_vs_Anticlock_wise_loss: 0.0000e+00 - Left_vs_Right_loss: 0.0000e+00 - Parallel_vs_perpendicular_loss: 0.0000e+00 - Filled_vs_Unfilled_loss: 0.0000e+00 - Complete_vs_Incomplete_loss: 0.0000e+00 - Intersect_vs_NonIntersect_loss: 0.0000e+00 - M_cluster_vs_N_clusters_loss: 0.0000e+00 - Above_vs_Below_loss: 0.0000e+00 - Same_vs_Not_Same_loss: 0.0000e+00 - Size_big_vs_Small_loss: 0.0000e+00 - Symmetery_vs_Non_symmetery_loss: 0.0000e+00 - Horizontal_vs_Vertical_loss: 0.0000e+00 - Empty_vs_Non_Empty_loss: 0.0000e+00\n",
      "Epoch 9/10\n",
      "39/39 [==============================] - 0s 8ms/step - loss: 0.2136 - center_vs_notincenter_loss: 0.0000e+00 - circle_vs_notcircle_loss: 0.0000e+00 - Closed_vs_Open_figure_loss: 0.2136 - Colinear_vs_Noncolinear_loss: 0.0000e+00 - Concave_vs_Convex_loss: 0.0000e+00 - Four_vs_notfour_side_loss: 0.0000e+00 - Triangle_vs_notTriangle_loss: 0.0000e+00 - Clockwise_vs_Anticlock_wise_loss: 0.0000e+00 - Left_vs_Right_loss: 0.0000e+00 - Parallel_vs_perpendicular_loss: 0.0000e+00 - Filled_vs_Unfilled_loss: 0.0000e+00 - Complete_vs_Incomplete_loss: 0.0000e+00 - Intersect_vs_NonIntersect_loss: 0.0000e+00 - M_cluster_vs_N_clusters_loss: 0.0000e+00 - Above_vs_Below_loss: 0.0000e+00 - Same_vs_Not_Same_loss: 0.0000e+00 - Size_big_vs_Small_loss: 0.0000e+00 - Symmetery_vs_Non_symmetery_loss: 0.0000e+00 - Horizontal_vs_Vertical_loss: 0.0000e+00 - Empty_vs_Non_Empty_loss: 0.0000e+00\n",
      "Epoch 10/10\n",
      "39/39 [==============================] - 0s 8ms/step - loss: 0.2056 - center_vs_notincenter_loss: 0.0000e+00 - circle_vs_notcircle_loss: 0.0000e+00 - Closed_vs_Open_figure_loss: 0.2056 - Colinear_vs_Noncolinear_loss: 0.0000e+00 - Concave_vs_Convex_loss: 0.0000e+00 - Four_vs_notfour_side_loss: 0.0000e+00 - Triangle_vs_notTriangle_loss: 0.0000e+00 - Clockwise_vs_Anticlock_wise_loss: 0.0000e+00 - Left_vs_Right_loss: 0.0000e+00 - Parallel_vs_perpendicular_loss: 0.0000e+00 - Filled_vs_Unfilled_loss: 0.0000e+00 - Complete_vs_Incomplete_loss: 0.0000e+00 - Intersect_vs_NonIntersect_loss: 0.0000e+00 - M_cluster_vs_N_clusters_loss: 0.0000e+00 - Above_vs_Below_loss: 0.0000e+00 - Same_vs_Not_Same_loss: 0.0000e+00 - Size_big_vs_Small_loss: 0.0000e+00 - Symmetery_vs_Non_symmetery_loss: 0.0000e+00 - Horizontal_vs_Vertical_loss: 0.0000e+00 - Empty_vs_Non_Empty_loss: 0.0000e+00\n",
      "10/10 [==============================] - 0s 9ms/step\n",
      "binary_predictions_head:  [0 1]\n",
      "Accuracy for Classifier C2: 0.9318181818181818\n",
      "Final_test_accuracies till now:  [0.92, 0.95, 0.98, 0.93]\n"
     ]
    }
   ],
   "source": [
    "Model_history=model.fit(X[2], {output_names[2]: Y[2]}, epochs=10)\n",
    "\n",
    "Temp_var=check_accuracy1(C2_X_test,C2_y_test,2)\n",
    "Rounded_accuracy = round(Temp_var, 2)\n",
    "Final_test_accuracies.append(Rounded_accuracy)\n",
    "print(\"Final_test_accuracies till now: \",Final_test_accuracies)\n",
    "\n",
    "Training_loss=Model_history.history['loss']\n",
    "for i in range(10):\n",
    "  globals()[f'training_loss_epoch_{i}'].append(Training_loss[i])"
   ]
  },
  {
   "cell_type": "markdown",
   "id": "R9mE_crvNQHk",
   "metadata": {
    "id": "R9mE_crvNQHk"
   },
   "source": [
    "### Head 3 checking"
   ]
  },
  {
   "cell_type": "code",
   "execution_count": 21,
   "id": "A1Lrd9NdNGKm",
   "metadata": {
    "colab": {
     "base_uri": "https://localhost:8080/"
    },
    "id": "A1Lrd9NdNGKm",
    "outputId": "cecad2e7-8a65-4a6c-93f2-469807672ea5"
   },
   "outputs": [
    {
     "name": "stdout",
     "output_type": "stream",
     "text": [
      "Epoch 1/10\n"
     ]
    },
    {
     "name": "stderr",
     "output_type": "stream",
     "text": [
      "WARNING:tensorflow:Gradients do not exist for variables ['center_vs_notincenter/kernel:0', 'center_vs_notincenter/bias:0', 'circle_vs_notcircle/kernel:0', 'circle_vs_notcircle/bias:0', 'Closed_vs_Open_figure/kernel:0', 'Closed_vs_Open_figure/bias:0', 'Concave_vs_Convex/kernel:0', 'Concave_vs_Convex/bias:0', 'Four_vs_notfour_side/kernel:0', 'Four_vs_notfour_side/bias:0', 'Triangle_vs_notTriangle/kernel:0', 'Triangle_vs_notTriangle/bias:0', 'Clockwise_vs_Anticlock_wise/kernel:0', 'Clockwise_vs_Anticlock_wise/bias:0', 'Left_vs_Right/kernel:0', 'Left_vs_Right/bias:0', 'Parallel_vs_perpendicular/kernel:0', 'Parallel_vs_perpendicular/bias:0', 'Filled_vs_Unfilled/kernel:0', 'Filled_vs_Unfilled/bias:0', 'Complete_vs_Incomplete/kernel:0', 'Complete_vs_Incomplete/bias:0', 'Intersect_vs_NonIntersect/kernel:0', 'Intersect_vs_NonIntersect/bias:0', 'M_cluster_vs_N_clusters/kernel:0', 'M_cluster_vs_N_clusters/bias:0', 'Above_vs_Below/kernel:0', 'Above_vs_Below/bias:0', 'Same_vs_Not_Same/kernel:0', 'Same_vs_Not_Same/bias:0', 'Size_big_vs_Small/kernel:0', 'Size_big_vs_Small/bias:0', 'Symmetery_vs_Non_symmetery/kernel:0', 'Symmetery_vs_Non_symmetery/bias:0', 'Horizontal_vs_Vertical/kernel:0', 'Horizontal_vs_Vertical/bias:0', 'Empty_vs_Non_Empty/kernel:0', 'Empty_vs_Non_Empty/bias:0'] when minimizing the loss. If you're using `model.compile()`, did you forget to provide a `loss` argument?\n",
      "WARNING:tensorflow:Gradients do not exist for variables ['center_vs_notincenter/kernel:0', 'center_vs_notincenter/bias:0', 'circle_vs_notcircle/kernel:0', 'circle_vs_notcircle/bias:0', 'Closed_vs_Open_figure/kernel:0', 'Closed_vs_Open_figure/bias:0', 'Concave_vs_Convex/kernel:0', 'Concave_vs_Convex/bias:0', 'Four_vs_notfour_side/kernel:0', 'Four_vs_notfour_side/bias:0', 'Triangle_vs_notTriangle/kernel:0', 'Triangle_vs_notTriangle/bias:0', 'Clockwise_vs_Anticlock_wise/kernel:0', 'Clockwise_vs_Anticlock_wise/bias:0', 'Left_vs_Right/kernel:0', 'Left_vs_Right/bias:0', 'Parallel_vs_perpendicular/kernel:0', 'Parallel_vs_perpendicular/bias:0', 'Filled_vs_Unfilled/kernel:0', 'Filled_vs_Unfilled/bias:0', 'Complete_vs_Incomplete/kernel:0', 'Complete_vs_Incomplete/bias:0', 'Intersect_vs_NonIntersect/kernel:0', 'Intersect_vs_NonIntersect/bias:0', 'M_cluster_vs_N_clusters/kernel:0', 'M_cluster_vs_N_clusters/bias:0', 'Above_vs_Below/kernel:0', 'Above_vs_Below/bias:0', 'Same_vs_Not_Same/kernel:0', 'Same_vs_Not_Same/bias:0', 'Size_big_vs_Small/kernel:0', 'Size_big_vs_Small/bias:0', 'Symmetery_vs_Non_symmetery/kernel:0', 'Symmetery_vs_Non_symmetery/bias:0', 'Horizontal_vs_Vertical/kernel:0', 'Horizontal_vs_Vertical/bias:0', 'Empty_vs_Non_Empty/kernel:0', 'Empty_vs_Non_Empty/bias:0'] when minimizing the loss. If you're using `model.compile()`, did you forget to provide a `loss` argument?\n"
     ]
    },
    {
     "name": "stdout",
     "output_type": "stream",
     "text": [
      "50/50 [==============================] - 2s 8ms/step - loss: 0.6635 - center_vs_notincenter_loss: 0.0000e+00 - circle_vs_notcircle_loss: 0.0000e+00 - Closed_vs_Open_figure_loss: 0.0000e+00 - Colinear_vs_Noncolinear_loss: 0.6635 - Concave_vs_Convex_loss: 0.0000e+00 - Four_vs_notfour_side_loss: 0.0000e+00 - Triangle_vs_notTriangle_loss: 0.0000e+00 - Clockwise_vs_Anticlock_wise_loss: 0.0000e+00 - Left_vs_Right_loss: 0.0000e+00 - Parallel_vs_perpendicular_loss: 0.0000e+00 - Filled_vs_Unfilled_loss: 0.0000e+00 - Complete_vs_Incomplete_loss: 0.0000e+00 - Intersect_vs_NonIntersect_loss: 0.0000e+00 - M_cluster_vs_N_clusters_loss: 0.0000e+00 - Above_vs_Below_loss: 0.0000e+00 - Same_vs_Not_Same_loss: 0.0000e+00 - Size_big_vs_Small_loss: 0.0000e+00 - Symmetery_vs_Non_symmetery_loss: 0.0000e+00 - Horizontal_vs_Vertical_loss: 0.0000e+00 - Empty_vs_Non_Empty_loss: 0.0000e+00\n",
      "Epoch 2/10\n",
      "50/50 [==============================] - 0s 8ms/step - loss: 0.4161 - center_vs_notincenter_loss: 0.0000e+00 - circle_vs_notcircle_loss: 0.0000e+00 - Closed_vs_Open_figure_loss: 0.0000e+00 - Colinear_vs_Noncolinear_loss: 0.4161 - Concave_vs_Convex_loss: 0.0000e+00 - Four_vs_notfour_side_loss: 0.0000e+00 - Triangle_vs_notTriangle_loss: 0.0000e+00 - Clockwise_vs_Anticlock_wise_loss: 0.0000e+00 - Left_vs_Right_loss: 0.0000e+00 - Parallel_vs_perpendicular_loss: 0.0000e+00 - Filled_vs_Unfilled_loss: 0.0000e+00 - Complete_vs_Incomplete_loss: 0.0000e+00 - Intersect_vs_NonIntersect_loss: 0.0000e+00 - M_cluster_vs_N_clusters_loss: 0.0000e+00 - Above_vs_Below_loss: 0.0000e+00 - Same_vs_Not_Same_loss: 0.0000e+00 - Size_big_vs_Small_loss: 0.0000e+00 - Symmetery_vs_Non_symmetery_loss: 0.0000e+00 - Horizontal_vs_Vertical_loss: 0.0000e+00 - Empty_vs_Non_Empty_loss: 0.0000e+00\n",
      "Epoch 3/10\n",
      "50/50 [==============================] - 0s 7ms/step - loss: 0.2965 - center_vs_notincenter_loss: 0.0000e+00 - circle_vs_notcircle_loss: 0.0000e+00 - Closed_vs_Open_figure_loss: 0.0000e+00 - Colinear_vs_Noncolinear_loss: 0.2965 - Concave_vs_Convex_loss: 0.0000e+00 - Four_vs_notfour_side_loss: 0.0000e+00 - Triangle_vs_notTriangle_loss: 0.0000e+00 - Clockwise_vs_Anticlock_wise_loss: 0.0000e+00 - Left_vs_Right_loss: 0.0000e+00 - Parallel_vs_perpendicular_loss: 0.0000e+00 - Filled_vs_Unfilled_loss: 0.0000e+00 - Complete_vs_Incomplete_loss: 0.0000e+00 - Intersect_vs_NonIntersect_loss: 0.0000e+00 - M_cluster_vs_N_clusters_loss: 0.0000e+00 - Above_vs_Below_loss: 0.0000e+00 - Same_vs_Not_Same_loss: 0.0000e+00 - Size_big_vs_Small_loss: 0.0000e+00 - Symmetery_vs_Non_symmetery_loss: 0.0000e+00 - Horizontal_vs_Vertical_loss: 0.0000e+00 - Empty_vs_Non_Empty_loss: 0.0000e+00\n",
      "Epoch 4/10\n",
      "50/50 [==============================] - 0s 7ms/step - loss: 0.2172 - center_vs_notincenter_loss: 0.0000e+00 - circle_vs_notcircle_loss: 0.0000e+00 - Closed_vs_Open_figure_loss: 0.0000e+00 - Colinear_vs_Noncolinear_loss: 0.2172 - Concave_vs_Convex_loss: 0.0000e+00 - Four_vs_notfour_side_loss: 0.0000e+00 - Triangle_vs_notTriangle_loss: 0.0000e+00 - Clockwise_vs_Anticlock_wise_loss: 0.0000e+00 - Left_vs_Right_loss: 0.0000e+00 - Parallel_vs_perpendicular_loss: 0.0000e+00 - Filled_vs_Unfilled_loss: 0.0000e+00 - Complete_vs_Incomplete_loss: 0.0000e+00 - Intersect_vs_NonIntersect_loss: 0.0000e+00 - M_cluster_vs_N_clusters_loss: 0.0000e+00 - Above_vs_Below_loss: 0.0000e+00 - Same_vs_Not_Same_loss: 0.0000e+00 - Size_big_vs_Small_loss: 0.0000e+00 - Symmetery_vs_Non_symmetery_loss: 0.0000e+00 - Horizontal_vs_Vertical_loss: 0.0000e+00 - Empty_vs_Non_Empty_loss: 0.0000e+00\n",
      "Epoch 5/10\n",
      "50/50 [==============================] - 0s 7ms/step - loss: 0.1434 - center_vs_notincenter_loss: 0.0000e+00 - circle_vs_notcircle_loss: 0.0000e+00 - Closed_vs_Open_figure_loss: 0.0000e+00 - Colinear_vs_Noncolinear_loss: 0.1434 - Concave_vs_Convex_loss: 0.0000e+00 - Four_vs_notfour_side_loss: 0.0000e+00 - Triangle_vs_notTriangle_loss: 0.0000e+00 - Clockwise_vs_Anticlock_wise_loss: 0.0000e+00 - Left_vs_Right_loss: 0.0000e+00 - Parallel_vs_perpendicular_loss: 0.0000e+00 - Filled_vs_Unfilled_loss: 0.0000e+00 - Complete_vs_Incomplete_loss: 0.0000e+00 - Intersect_vs_NonIntersect_loss: 0.0000e+00 - M_cluster_vs_N_clusters_loss: 0.0000e+00 - Above_vs_Below_loss: 0.0000e+00 - Same_vs_Not_Same_loss: 0.0000e+00 - Size_big_vs_Small_loss: 0.0000e+00 - Symmetery_vs_Non_symmetery_loss: 0.0000e+00 - Horizontal_vs_Vertical_loss: 0.0000e+00 - Empty_vs_Non_Empty_loss: 0.0000e+00\n",
      "Epoch 6/10\n",
      "50/50 [==============================] - 0s 7ms/step - loss: 0.0674 - center_vs_notincenter_loss: 0.0000e+00 - circle_vs_notcircle_loss: 0.0000e+00 - Closed_vs_Open_figure_loss: 0.0000e+00 - Colinear_vs_Noncolinear_loss: 0.0674 - Concave_vs_Convex_loss: 0.0000e+00 - Four_vs_notfour_side_loss: 0.0000e+00 - Triangle_vs_notTriangle_loss: 0.0000e+00 - Clockwise_vs_Anticlock_wise_loss: 0.0000e+00 - Left_vs_Right_loss: 0.0000e+00 - Parallel_vs_perpendicular_loss: 0.0000e+00 - Filled_vs_Unfilled_loss: 0.0000e+00 - Complete_vs_Incomplete_loss: 0.0000e+00 - Intersect_vs_NonIntersect_loss: 0.0000e+00 - M_cluster_vs_N_clusters_loss: 0.0000e+00 - Above_vs_Below_loss: 0.0000e+00 - Same_vs_Not_Same_loss: 0.0000e+00 - Size_big_vs_Small_loss: 0.0000e+00 - Symmetery_vs_Non_symmetery_loss: 0.0000e+00 - Horizontal_vs_Vertical_loss: 0.0000e+00 - Empty_vs_Non_Empty_loss: 0.0000e+00\n",
      "Epoch 7/10\n",
      "50/50 [==============================] - 0s 7ms/step - loss: 0.0529 - center_vs_notincenter_loss: 0.0000e+00 - circle_vs_notcircle_loss: 0.0000e+00 - Closed_vs_Open_figure_loss: 0.0000e+00 - Colinear_vs_Noncolinear_loss: 0.0529 - Concave_vs_Convex_loss: 0.0000e+00 - Four_vs_notfour_side_loss: 0.0000e+00 - Triangle_vs_notTriangle_loss: 0.0000e+00 - Clockwise_vs_Anticlock_wise_loss: 0.0000e+00 - Left_vs_Right_loss: 0.0000e+00 - Parallel_vs_perpendicular_loss: 0.0000e+00 - Filled_vs_Unfilled_loss: 0.0000e+00 - Complete_vs_Incomplete_loss: 0.0000e+00 - Intersect_vs_NonIntersect_loss: 0.0000e+00 - M_cluster_vs_N_clusters_loss: 0.0000e+00 - Above_vs_Below_loss: 0.0000e+00 - Same_vs_Not_Same_loss: 0.0000e+00 - Size_big_vs_Small_loss: 0.0000e+00 - Symmetery_vs_Non_symmetery_loss: 0.0000e+00 - Horizontal_vs_Vertical_loss: 0.0000e+00 - Empty_vs_Non_Empty_loss: 0.0000e+00\n",
      "Epoch 8/10\n",
      "50/50 [==============================] - 0s 7ms/step - loss: 0.0287 - center_vs_notincenter_loss: 0.0000e+00 - circle_vs_notcircle_loss: 0.0000e+00 - Closed_vs_Open_figure_loss: 0.0000e+00 - Colinear_vs_Noncolinear_loss: 0.0287 - Concave_vs_Convex_loss: 0.0000e+00 - Four_vs_notfour_side_loss: 0.0000e+00 - Triangle_vs_notTriangle_loss: 0.0000e+00 - Clockwise_vs_Anticlock_wise_loss: 0.0000e+00 - Left_vs_Right_loss: 0.0000e+00 - Parallel_vs_perpendicular_loss: 0.0000e+00 - Filled_vs_Unfilled_loss: 0.0000e+00 - Complete_vs_Incomplete_loss: 0.0000e+00 - Intersect_vs_NonIntersect_loss: 0.0000e+00 - M_cluster_vs_N_clusters_loss: 0.0000e+00 - Above_vs_Below_loss: 0.0000e+00 - Same_vs_Not_Same_loss: 0.0000e+00 - Size_big_vs_Small_loss: 0.0000e+00 - Symmetery_vs_Non_symmetery_loss: 0.0000e+00 - Horizontal_vs_Vertical_loss: 0.0000e+00 - Empty_vs_Non_Empty_loss: 0.0000e+00\n",
      "Epoch 9/10\n",
      "50/50 [==============================] - 0s 7ms/step - loss: 0.0138 - center_vs_notincenter_loss: 0.0000e+00 - circle_vs_notcircle_loss: 0.0000e+00 - Closed_vs_Open_figure_loss: 0.0000e+00 - Colinear_vs_Noncolinear_loss: 0.0138 - Concave_vs_Convex_loss: 0.0000e+00 - Four_vs_notfour_side_loss: 0.0000e+00 - Triangle_vs_notTriangle_loss: 0.0000e+00 - Clockwise_vs_Anticlock_wise_loss: 0.0000e+00 - Left_vs_Right_loss: 0.0000e+00 - Parallel_vs_perpendicular_loss: 0.0000e+00 - Filled_vs_Unfilled_loss: 0.0000e+00 - Complete_vs_Incomplete_loss: 0.0000e+00 - Intersect_vs_NonIntersect_loss: 0.0000e+00 - M_cluster_vs_N_clusters_loss: 0.0000e+00 - Above_vs_Below_loss: 0.0000e+00 - Same_vs_Not_Same_loss: 0.0000e+00 - Size_big_vs_Small_loss: 0.0000e+00 - Symmetery_vs_Non_symmetery_loss: 0.0000e+00 - Horizontal_vs_Vertical_loss: 0.0000e+00 - Empty_vs_Non_Empty_loss: 0.0000e+00\n",
      "Epoch 10/10\n",
      "50/50 [==============================] - 0s 7ms/step - loss: 0.0131 - center_vs_notincenter_loss: 0.0000e+00 - circle_vs_notcircle_loss: 0.0000e+00 - Closed_vs_Open_figure_loss: 0.0000e+00 - Colinear_vs_Noncolinear_loss: 0.0131 - Concave_vs_Convex_loss: 0.0000e+00 - Four_vs_notfour_side_loss: 0.0000e+00 - Triangle_vs_notTriangle_loss: 0.0000e+00 - Clockwise_vs_Anticlock_wise_loss: 0.0000e+00 - Left_vs_Right_loss: 0.0000e+00 - Parallel_vs_perpendicular_loss: 0.0000e+00 - Filled_vs_Unfilled_loss: 0.0000e+00 - Complete_vs_Incomplete_loss: 0.0000e+00 - Intersect_vs_NonIntersect_loss: 0.0000e+00 - M_cluster_vs_N_clusters_loss: 0.0000e+00 - Above_vs_Below_loss: 0.0000e+00 - Same_vs_Not_Same_loss: 0.0000e+00 - Size_big_vs_Small_loss: 0.0000e+00 - Symmetery_vs_Non_symmetery_loss: 0.0000e+00 - Horizontal_vs_Vertical_loss: 0.0000e+00 - Empty_vs_Non_Empty_loss: 0.0000e+00\n",
      "13/13 [==============================] - 0s 3ms/step\n",
      "binary_predictions_head:  [0 1]\n",
      "Accuracy for Classifier C3: 0.6125\n",
      "Final_test_accuracies till now:  [0.92, 0.95, 0.98, 0.93, 0.61]\n"
     ]
    }
   ],
   "source": [
    "Model_history=model.fit(X[3], {output_names[3]: Y[3]}, epochs=10)\n",
    "\n",
    "Temp_var=check_accuracy1(C3_X_test,C3_y_test,3)\n",
    "Rounded_accuracy = round(Temp_var, 2)\n",
    "Final_test_accuracies.append(Rounded_accuracy)\n",
    "print(\"Final_test_accuracies till now: \",Final_test_accuracies)\n",
    "\n",
    "Training_loss=Model_history.history['loss']\n",
    "for i in range(10):\n",
    "  globals()[f'training_loss_epoch_{i}'].append(Training_loss[i])"
   ]
  },
  {
   "cell_type": "markdown",
   "id": "S25CK8VMNXXe",
   "metadata": {
    "id": "S25CK8VMNXXe"
   },
   "source": [
    "#### Head 4 checking"
   ]
  },
  {
   "cell_type": "code",
   "execution_count": 22,
   "id": "w2LmUB1dHv92",
   "metadata": {
    "colab": {
     "base_uri": "https://localhost:8080/"
    },
    "id": "w2LmUB1dHv92",
    "outputId": "3c1edbbe-47ed-4902-a6e5-953e06112197"
   },
   "outputs": [
    {
     "name": "stdout",
     "output_type": "stream",
     "text": [
      "Epoch 1/10\n"
     ]
    },
    {
     "name": "stderr",
     "output_type": "stream",
     "text": [
      "WARNING:tensorflow:Gradients do not exist for variables ['center_vs_notincenter/kernel:0', 'center_vs_notincenter/bias:0', 'circle_vs_notcircle/kernel:0', 'circle_vs_notcircle/bias:0', 'Closed_vs_Open_figure/kernel:0', 'Closed_vs_Open_figure/bias:0', 'Colinear_vs_Noncolinear/kernel:0', 'Colinear_vs_Noncolinear/bias:0', 'Four_vs_notfour_side/kernel:0', 'Four_vs_notfour_side/bias:0', 'Triangle_vs_notTriangle/kernel:0', 'Triangle_vs_notTriangle/bias:0', 'Clockwise_vs_Anticlock_wise/kernel:0', 'Clockwise_vs_Anticlock_wise/bias:0', 'Left_vs_Right/kernel:0', 'Left_vs_Right/bias:0', 'Parallel_vs_perpendicular/kernel:0', 'Parallel_vs_perpendicular/bias:0', 'Filled_vs_Unfilled/kernel:0', 'Filled_vs_Unfilled/bias:0', 'Complete_vs_Incomplete/kernel:0', 'Complete_vs_Incomplete/bias:0', 'Intersect_vs_NonIntersect/kernel:0', 'Intersect_vs_NonIntersect/bias:0', 'M_cluster_vs_N_clusters/kernel:0', 'M_cluster_vs_N_clusters/bias:0', 'Above_vs_Below/kernel:0', 'Above_vs_Below/bias:0', 'Same_vs_Not_Same/kernel:0', 'Same_vs_Not_Same/bias:0', 'Size_big_vs_Small/kernel:0', 'Size_big_vs_Small/bias:0', 'Symmetery_vs_Non_symmetery/kernel:0', 'Symmetery_vs_Non_symmetery/bias:0', 'Horizontal_vs_Vertical/kernel:0', 'Horizontal_vs_Vertical/bias:0', 'Empty_vs_Non_Empty/kernel:0', 'Empty_vs_Non_Empty/bias:0'] when minimizing the loss. If you're using `model.compile()`, did you forget to provide a `loss` argument?\n",
      "WARNING:tensorflow:Gradients do not exist for variables ['center_vs_notincenter/kernel:0', 'center_vs_notincenter/bias:0', 'circle_vs_notcircle/kernel:0', 'circle_vs_notcircle/bias:0', 'Closed_vs_Open_figure/kernel:0', 'Closed_vs_Open_figure/bias:0', 'Colinear_vs_Noncolinear/kernel:0', 'Colinear_vs_Noncolinear/bias:0', 'Four_vs_notfour_side/kernel:0', 'Four_vs_notfour_side/bias:0', 'Triangle_vs_notTriangle/kernel:0', 'Triangle_vs_notTriangle/bias:0', 'Clockwise_vs_Anticlock_wise/kernel:0', 'Clockwise_vs_Anticlock_wise/bias:0', 'Left_vs_Right/kernel:0', 'Left_vs_Right/bias:0', 'Parallel_vs_perpendicular/kernel:0', 'Parallel_vs_perpendicular/bias:0', 'Filled_vs_Unfilled/kernel:0', 'Filled_vs_Unfilled/bias:0', 'Complete_vs_Incomplete/kernel:0', 'Complete_vs_Incomplete/bias:0', 'Intersect_vs_NonIntersect/kernel:0', 'Intersect_vs_NonIntersect/bias:0', 'M_cluster_vs_N_clusters/kernel:0', 'M_cluster_vs_N_clusters/bias:0', 'Above_vs_Below/kernel:0', 'Above_vs_Below/bias:0', 'Same_vs_Not_Same/kernel:0', 'Same_vs_Not_Same/bias:0', 'Size_big_vs_Small/kernel:0', 'Size_big_vs_Small/bias:0', 'Symmetery_vs_Non_symmetery/kernel:0', 'Symmetery_vs_Non_symmetery/bias:0', 'Horizontal_vs_Vertical/kernel:0', 'Horizontal_vs_Vertical/bias:0', 'Empty_vs_Non_Empty/kernel:0', 'Empty_vs_Non_Empty/bias:0'] when minimizing the loss. If you're using `model.compile()`, did you forget to provide a `loss` argument?\n"
     ]
    },
    {
     "name": "stdout",
     "output_type": "stream",
     "text": [
      "50/50 [==============================] - 1s 7ms/step - loss: 0.7433 - center_vs_notincenter_loss: 0.0000e+00 - circle_vs_notcircle_loss: 0.0000e+00 - Closed_vs_Open_figure_loss: 0.0000e+00 - Colinear_vs_Noncolinear_loss: 0.0000e+00 - Concave_vs_Convex_loss: 0.7433 - Four_vs_notfour_side_loss: 0.0000e+00 - Triangle_vs_notTriangle_loss: 0.0000e+00 - Clockwise_vs_Anticlock_wise_loss: 0.0000e+00 - Left_vs_Right_loss: 0.0000e+00 - Parallel_vs_perpendicular_loss: 0.0000e+00 - Filled_vs_Unfilled_loss: 0.0000e+00 - Complete_vs_Incomplete_loss: 0.0000e+00 - Intersect_vs_NonIntersect_loss: 0.0000e+00 - M_cluster_vs_N_clusters_loss: 0.0000e+00 - Above_vs_Below_loss: 0.0000e+00 - Same_vs_Not_Same_loss: 0.0000e+00 - Size_big_vs_Small_loss: 0.0000e+00 - Symmetery_vs_Non_symmetery_loss: 0.0000e+00 - Horizontal_vs_Vertical_loss: 0.0000e+00 - Empty_vs_Non_Empty_loss: 0.0000e+00\n",
      "Epoch 2/10\n",
      "50/50 [==============================] - 0s 7ms/step - loss: 0.6440 - center_vs_notincenter_loss: 0.0000e+00 - circle_vs_notcircle_loss: 0.0000e+00 - Closed_vs_Open_figure_loss: 0.0000e+00 - Colinear_vs_Noncolinear_loss: 0.0000e+00 - Concave_vs_Convex_loss: 0.6440 - Four_vs_notfour_side_loss: 0.0000e+00 - Triangle_vs_notTriangle_loss: 0.0000e+00 - Clockwise_vs_Anticlock_wise_loss: 0.0000e+00 - Left_vs_Right_loss: 0.0000e+00 - Parallel_vs_perpendicular_loss: 0.0000e+00 - Filled_vs_Unfilled_loss: 0.0000e+00 - Complete_vs_Incomplete_loss: 0.0000e+00 - Intersect_vs_NonIntersect_loss: 0.0000e+00 - M_cluster_vs_N_clusters_loss: 0.0000e+00 - Above_vs_Below_loss: 0.0000e+00 - Same_vs_Not_Same_loss: 0.0000e+00 - Size_big_vs_Small_loss: 0.0000e+00 - Symmetery_vs_Non_symmetery_loss: 0.0000e+00 - Horizontal_vs_Vertical_loss: 0.0000e+00 - Empty_vs_Non_Empty_loss: 0.0000e+00\n",
      "Epoch 3/10\n",
      "50/50 [==============================] - 0s 7ms/step - loss: 0.5703 - center_vs_notincenter_loss: 0.0000e+00 - circle_vs_notcircle_loss: 0.0000e+00 - Closed_vs_Open_figure_loss: 0.0000e+00 - Colinear_vs_Noncolinear_loss: 0.0000e+00 - Concave_vs_Convex_loss: 0.5703 - Four_vs_notfour_side_loss: 0.0000e+00 - Triangle_vs_notTriangle_loss: 0.0000e+00 - Clockwise_vs_Anticlock_wise_loss: 0.0000e+00 - Left_vs_Right_loss: 0.0000e+00 - Parallel_vs_perpendicular_loss: 0.0000e+00 - Filled_vs_Unfilled_loss: 0.0000e+00 - Complete_vs_Incomplete_loss: 0.0000e+00 - Intersect_vs_NonIntersect_loss: 0.0000e+00 - M_cluster_vs_N_clusters_loss: 0.0000e+00 - Above_vs_Below_loss: 0.0000e+00 - Same_vs_Not_Same_loss: 0.0000e+00 - Size_big_vs_Small_loss: 0.0000e+00 - Symmetery_vs_Non_symmetery_loss: 0.0000e+00 - Horizontal_vs_Vertical_loss: 0.0000e+00 - Empty_vs_Non_Empty_loss: 0.0000e+00\n",
      "Epoch 4/10\n",
      "50/50 [==============================] - 0s 7ms/step - loss: 0.4820 - center_vs_notincenter_loss: 0.0000e+00 - circle_vs_notcircle_loss: 0.0000e+00 - Closed_vs_Open_figure_loss: 0.0000e+00 - Colinear_vs_Noncolinear_loss: 0.0000e+00 - Concave_vs_Convex_loss: 0.4820 - Four_vs_notfour_side_loss: 0.0000e+00 - Triangle_vs_notTriangle_loss: 0.0000e+00 - Clockwise_vs_Anticlock_wise_loss: 0.0000e+00 - Left_vs_Right_loss: 0.0000e+00 - Parallel_vs_perpendicular_loss: 0.0000e+00 - Filled_vs_Unfilled_loss: 0.0000e+00 - Complete_vs_Incomplete_loss: 0.0000e+00 - Intersect_vs_NonIntersect_loss: 0.0000e+00 - M_cluster_vs_N_clusters_loss: 0.0000e+00 - Above_vs_Below_loss: 0.0000e+00 - Same_vs_Not_Same_loss: 0.0000e+00 - Size_big_vs_Small_loss: 0.0000e+00 - Symmetery_vs_Non_symmetery_loss: 0.0000e+00 - Horizontal_vs_Vertical_loss: 0.0000e+00 - Empty_vs_Non_Empty_loss: 0.0000e+00\n",
      "Epoch 5/10\n",
      "50/50 [==============================] - 0s 7ms/step - loss: 0.3886 - center_vs_notincenter_loss: 0.0000e+00 - circle_vs_notcircle_loss: 0.0000e+00 - Closed_vs_Open_figure_loss: 0.0000e+00 - Colinear_vs_Noncolinear_loss: 0.0000e+00 - Concave_vs_Convex_loss: 0.3886 - Four_vs_notfour_side_loss: 0.0000e+00 - Triangle_vs_notTriangle_loss: 0.0000e+00 - Clockwise_vs_Anticlock_wise_loss: 0.0000e+00 - Left_vs_Right_loss: 0.0000e+00 - Parallel_vs_perpendicular_loss: 0.0000e+00 - Filled_vs_Unfilled_loss: 0.0000e+00 - Complete_vs_Incomplete_loss: 0.0000e+00 - Intersect_vs_NonIntersect_loss: 0.0000e+00 - M_cluster_vs_N_clusters_loss: 0.0000e+00 - Above_vs_Below_loss: 0.0000e+00 - Same_vs_Not_Same_loss: 0.0000e+00 - Size_big_vs_Small_loss: 0.0000e+00 - Symmetery_vs_Non_symmetery_loss: 0.0000e+00 - Horizontal_vs_Vertical_loss: 0.0000e+00 - Empty_vs_Non_Empty_loss: 0.0000e+00\n",
      "Epoch 6/10\n",
      "50/50 [==============================] - 0s 7ms/step - loss: 0.2481 - center_vs_notincenter_loss: 0.0000e+00 - circle_vs_notcircle_loss: 0.0000e+00 - Closed_vs_Open_figure_loss: 0.0000e+00 - Colinear_vs_Noncolinear_loss: 0.0000e+00 - Concave_vs_Convex_loss: 0.2481 - Four_vs_notfour_side_loss: 0.0000e+00 - Triangle_vs_notTriangle_loss: 0.0000e+00 - Clockwise_vs_Anticlock_wise_loss: 0.0000e+00 - Left_vs_Right_loss: 0.0000e+00 - Parallel_vs_perpendicular_loss: 0.0000e+00 - Filled_vs_Unfilled_loss: 0.0000e+00 - Complete_vs_Incomplete_loss: 0.0000e+00 - Intersect_vs_NonIntersect_loss: 0.0000e+00 - M_cluster_vs_N_clusters_loss: 0.0000e+00 - Above_vs_Below_loss: 0.0000e+00 - Same_vs_Not_Same_loss: 0.0000e+00 - Size_big_vs_Small_loss: 0.0000e+00 - Symmetery_vs_Non_symmetery_loss: 0.0000e+00 - Horizontal_vs_Vertical_loss: 0.0000e+00 - Empty_vs_Non_Empty_loss: 0.0000e+00\n",
      "Epoch 7/10\n",
      "50/50 [==============================] - 0s 7ms/step - loss: 0.1639 - center_vs_notincenter_loss: 0.0000e+00 - circle_vs_notcircle_loss: 0.0000e+00 - Closed_vs_Open_figure_loss: 0.0000e+00 - Colinear_vs_Noncolinear_loss: 0.0000e+00 - Concave_vs_Convex_loss: 0.1639 - Four_vs_notfour_side_loss: 0.0000e+00 - Triangle_vs_notTriangle_loss: 0.0000e+00 - Clockwise_vs_Anticlock_wise_loss: 0.0000e+00 - Left_vs_Right_loss: 0.0000e+00 - Parallel_vs_perpendicular_loss: 0.0000e+00 - Filled_vs_Unfilled_loss: 0.0000e+00 - Complete_vs_Incomplete_loss: 0.0000e+00 - Intersect_vs_NonIntersect_loss: 0.0000e+00 - M_cluster_vs_N_clusters_loss: 0.0000e+00 - Above_vs_Below_loss: 0.0000e+00 - Same_vs_Not_Same_loss: 0.0000e+00 - Size_big_vs_Small_loss: 0.0000e+00 - Symmetery_vs_Non_symmetery_loss: 0.0000e+00 - Horizontal_vs_Vertical_loss: 0.0000e+00 - Empty_vs_Non_Empty_loss: 0.0000e+00\n",
      "Epoch 8/10\n",
      "50/50 [==============================] - 0s 7ms/step - loss: 0.1275 - center_vs_notincenter_loss: 0.0000e+00 - circle_vs_notcircle_loss: 0.0000e+00 - Closed_vs_Open_figure_loss: 0.0000e+00 - Colinear_vs_Noncolinear_loss: 0.0000e+00 - Concave_vs_Convex_loss: 0.1275 - Four_vs_notfour_side_loss: 0.0000e+00 - Triangle_vs_notTriangle_loss: 0.0000e+00 - Clockwise_vs_Anticlock_wise_loss: 0.0000e+00 - Left_vs_Right_loss: 0.0000e+00 - Parallel_vs_perpendicular_loss: 0.0000e+00 - Filled_vs_Unfilled_loss: 0.0000e+00 - Complete_vs_Incomplete_loss: 0.0000e+00 - Intersect_vs_NonIntersect_loss: 0.0000e+00 - M_cluster_vs_N_clusters_loss: 0.0000e+00 - Above_vs_Below_loss: 0.0000e+00 - Same_vs_Not_Same_loss: 0.0000e+00 - Size_big_vs_Small_loss: 0.0000e+00 - Symmetery_vs_Non_symmetery_loss: 0.0000e+00 - Horizontal_vs_Vertical_loss: 0.0000e+00 - Empty_vs_Non_Empty_loss: 0.0000e+00\n",
      "Epoch 9/10\n",
      "50/50 [==============================] - 0s 7ms/step - loss: 0.0711 - center_vs_notincenter_loss: 0.0000e+00 - circle_vs_notcircle_loss: 0.0000e+00 - Closed_vs_Open_figure_loss: 0.0000e+00 - Colinear_vs_Noncolinear_loss: 0.0000e+00 - Concave_vs_Convex_loss: 0.0711 - Four_vs_notfour_side_loss: 0.0000e+00 - Triangle_vs_notTriangle_loss: 0.0000e+00 - Clockwise_vs_Anticlock_wise_loss: 0.0000e+00 - Left_vs_Right_loss: 0.0000e+00 - Parallel_vs_perpendicular_loss: 0.0000e+00 - Filled_vs_Unfilled_loss: 0.0000e+00 - Complete_vs_Incomplete_loss: 0.0000e+00 - Intersect_vs_NonIntersect_loss: 0.0000e+00 - M_cluster_vs_N_clusters_loss: 0.0000e+00 - Above_vs_Below_loss: 0.0000e+00 - Same_vs_Not_Same_loss: 0.0000e+00 - Size_big_vs_Small_loss: 0.0000e+00 - Symmetery_vs_Non_symmetery_loss: 0.0000e+00 - Horizontal_vs_Vertical_loss: 0.0000e+00 - Empty_vs_Non_Empty_loss: 0.0000e+00\n",
      "Epoch 10/10\n",
      "50/50 [==============================] - 0s 7ms/step - loss: 0.0367 - center_vs_notincenter_loss: 0.0000e+00 - circle_vs_notcircle_loss: 0.0000e+00 - Closed_vs_Open_figure_loss: 0.0000e+00 - Colinear_vs_Noncolinear_loss: 0.0000e+00 - Concave_vs_Convex_loss: 0.0367 - Four_vs_notfour_side_loss: 0.0000e+00 - Triangle_vs_notTriangle_loss: 0.0000e+00 - Clockwise_vs_Anticlock_wise_loss: 0.0000e+00 - Left_vs_Right_loss: 0.0000e+00 - Parallel_vs_perpendicular_loss: 0.0000e+00 - Filled_vs_Unfilled_loss: 0.0000e+00 - Complete_vs_Incomplete_loss: 0.0000e+00 - Intersect_vs_NonIntersect_loss: 0.0000e+00 - M_cluster_vs_N_clusters_loss: 0.0000e+00 - Above_vs_Below_loss: 0.0000e+00 - Same_vs_Not_Same_loss: 0.0000e+00 - Size_big_vs_Small_loss: 0.0000e+00 - Symmetery_vs_Non_symmetery_loss: 0.0000e+00 - Horizontal_vs_Vertical_loss: 0.0000e+00 - Empty_vs_Non_Empty_loss: 0.0000e+00\n",
      "13/13 [==============================] - 0s 3ms/step\n",
      "binary_predictions_head:  [0 1]\n",
      "Accuracy for Classifier C4: 0.55\n",
      "Final_test_accuracies till now:  [0.92, 0.95, 0.98, 0.93, 0.61, 0.55]\n"
     ]
    }
   ],
   "source": [
    "Model_history=model.fit(X[4], {output_names[4]: Y[4]}, epochs=10)\n",
    "\n",
    "Temp_var=check_accuracy1(C4_X_test,C4_y_test,4)\n",
    "Rounded_accuracy = round(Temp_var, 2)\n",
    "Final_test_accuracies.append(Rounded_accuracy)\n",
    "print(\"Final_test_accuracies till now: \",Final_test_accuracies)\n",
    "\n",
    "Training_loss=Model_history.history['loss']\n",
    "for i in range(10):\n",
    "  globals()[f'training_loss_epoch_{i}'].append(Training_loss[i])"
   ]
  },
  {
   "cell_type": "markdown",
   "id": "bSapZa5aNeWy",
   "metadata": {
    "id": "bSapZa5aNeWy"
   },
   "source": [
    "#### Head 5 checking"
   ]
  },
  {
   "cell_type": "code",
   "execution_count": 23,
   "id": "0mubuIkDNgYK",
   "metadata": {
    "colab": {
     "base_uri": "https://localhost:8080/"
    },
    "id": "0mubuIkDNgYK",
    "outputId": "b23147a5-e905-448c-b0d4-1c5b5fbf73c4"
   },
   "outputs": [
    {
     "name": "stdout",
     "output_type": "stream",
     "text": [
      "Epoch 1/10\n"
     ]
    },
    {
     "name": "stderr",
     "output_type": "stream",
     "text": [
      "WARNING:tensorflow:Gradients do not exist for variables ['center_vs_notincenter/kernel:0', 'center_vs_notincenter/bias:0', 'circle_vs_notcircle/kernel:0', 'circle_vs_notcircle/bias:0', 'Closed_vs_Open_figure/kernel:0', 'Closed_vs_Open_figure/bias:0', 'Colinear_vs_Noncolinear/kernel:0', 'Colinear_vs_Noncolinear/bias:0', 'Concave_vs_Convex/kernel:0', 'Concave_vs_Convex/bias:0', 'Triangle_vs_notTriangle/kernel:0', 'Triangle_vs_notTriangle/bias:0', 'Clockwise_vs_Anticlock_wise/kernel:0', 'Clockwise_vs_Anticlock_wise/bias:0', 'Left_vs_Right/kernel:0', 'Left_vs_Right/bias:0', 'Parallel_vs_perpendicular/kernel:0', 'Parallel_vs_perpendicular/bias:0', 'Filled_vs_Unfilled/kernel:0', 'Filled_vs_Unfilled/bias:0', 'Complete_vs_Incomplete/kernel:0', 'Complete_vs_Incomplete/bias:0', 'Intersect_vs_NonIntersect/kernel:0', 'Intersect_vs_NonIntersect/bias:0', 'M_cluster_vs_N_clusters/kernel:0', 'M_cluster_vs_N_clusters/bias:0', 'Above_vs_Below/kernel:0', 'Above_vs_Below/bias:0', 'Same_vs_Not_Same/kernel:0', 'Same_vs_Not_Same/bias:0', 'Size_big_vs_Small/kernel:0', 'Size_big_vs_Small/bias:0', 'Symmetery_vs_Non_symmetery/kernel:0', 'Symmetery_vs_Non_symmetery/bias:0', 'Horizontal_vs_Vertical/kernel:0', 'Horizontal_vs_Vertical/bias:0', 'Empty_vs_Non_Empty/kernel:0', 'Empty_vs_Non_Empty/bias:0'] when minimizing the loss. If you're using `model.compile()`, did you forget to provide a `loss` argument?\n",
      "WARNING:tensorflow:Gradients do not exist for variables ['center_vs_notincenter/kernel:0', 'center_vs_notincenter/bias:0', 'circle_vs_notcircle/kernel:0', 'circle_vs_notcircle/bias:0', 'Closed_vs_Open_figure/kernel:0', 'Closed_vs_Open_figure/bias:0', 'Colinear_vs_Noncolinear/kernel:0', 'Colinear_vs_Noncolinear/bias:0', 'Concave_vs_Convex/kernel:0', 'Concave_vs_Convex/bias:0', 'Triangle_vs_notTriangle/kernel:0', 'Triangle_vs_notTriangle/bias:0', 'Clockwise_vs_Anticlock_wise/kernel:0', 'Clockwise_vs_Anticlock_wise/bias:0', 'Left_vs_Right/kernel:0', 'Left_vs_Right/bias:0', 'Parallel_vs_perpendicular/kernel:0', 'Parallel_vs_perpendicular/bias:0', 'Filled_vs_Unfilled/kernel:0', 'Filled_vs_Unfilled/bias:0', 'Complete_vs_Incomplete/kernel:0', 'Complete_vs_Incomplete/bias:0', 'Intersect_vs_NonIntersect/kernel:0', 'Intersect_vs_NonIntersect/bias:0', 'M_cluster_vs_N_clusters/kernel:0', 'M_cluster_vs_N_clusters/bias:0', 'Above_vs_Below/kernel:0', 'Above_vs_Below/bias:0', 'Same_vs_Not_Same/kernel:0', 'Same_vs_Not_Same/bias:0', 'Size_big_vs_Small/kernel:0', 'Size_big_vs_Small/bias:0', 'Symmetery_vs_Non_symmetery/kernel:0', 'Symmetery_vs_Non_symmetery/bias:0', 'Horizontal_vs_Vertical/kernel:0', 'Horizontal_vs_Vertical/bias:0', 'Empty_vs_Non_Empty/kernel:0', 'Empty_vs_Non_Empty/bias:0'] when minimizing the loss. If you're using `model.compile()`, did you forget to provide a `loss` argument?\n"
     ]
    },
    {
     "name": "stdout",
     "output_type": "stream",
     "text": [
      "175/175 [==============================] - 2s 7ms/step - loss: 0.7472 - center_vs_notincenter_loss: 0.0000e+00 - circle_vs_notcircle_loss: 0.0000e+00 - Closed_vs_Open_figure_loss: 0.0000e+00 - Colinear_vs_Noncolinear_loss: 0.0000e+00 - Concave_vs_Convex_loss: 0.0000e+00 - Four_vs_notfour_side_loss: 0.7472 - Triangle_vs_notTriangle_loss: 0.0000e+00 - Clockwise_vs_Anticlock_wise_loss: 0.0000e+00 - Left_vs_Right_loss: 0.0000e+00 - Parallel_vs_perpendicular_loss: 0.0000e+00 - Filled_vs_Unfilled_loss: 0.0000e+00 - Complete_vs_Incomplete_loss: 0.0000e+00 - Intersect_vs_NonIntersect_loss: 0.0000e+00 - M_cluster_vs_N_clusters_loss: 0.0000e+00 - Above_vs_Below_loss: 0.0000e+00 - Same_vs_Not_Same_loss: 0.0000e+00 - Size_big_vs_Small_loss: 0.0000e+00 - Symmetery_vs_Non_symmetery_loss: 0.0000e+00 - Horizontal_vs_Vertical_loss: 0.0000e+00 - Empty_vs_Non_Empty_loss: 0.0000e+00\n",
      "Epoch 2/10\n",
      "175/175 [==============================] - 1s 7ms/step - loss: 0.3561 - center_vs_notincenter_loss: 0.0000e+00 - circle_vs_notcircle_loss: 0.0000e+00 - Closed_vs_Open_figure_loss: 0.0000e+00 - Colinear_vs_Noncolinear_loss: 0.0000e+00 - Concave_vs_Convex_loss: 0.0000e+00 - Four_vs_notfour_side_loss: 0.3561 - Triangle_vs_notTriangle_loss: 0.0000e+00 - Clockwise_vs_Anticlock_wise_loss: 0.0000e+00 - Left_vs_Right_loss: 0.0000e+00 - Parallel_vs_perpendicular_loss: 0.0000e+00 - Filled_vs_Unfilled_loss: 0.0000e+00 - Complete_vs_Incomplete_loss: 0.0000e+00 - Intersect_vs_NonIntersect_loss: 0.0000e+00 - M_cluster_vs_N_clusters_loss: 0.0000e+00 - Above_vs_Below_loss: 0.0000e+00 - Same_vs_Not_Same_loss: 0.0000e+00 - Size_big_vs_Small_loss: 0.0000e+00 - Symmetery_vs_Non_symmetery_loss: 0.0000e+00 - Horizontal_vs_Vertical_loss: 0.0000e+00 - Empty_vs_Non_Empty_loss: 0.0000e+00\n",
      "Epoch 3/10\n",
      "175/175 [==============================] - 1s 7ms/step - loss: 0.3261 - center_vs_notincenter_loss: 0.0000e+00 - circle_vs_notcircle_loss: 0.0000e+00 - Closed_vs_Open_figure_loss: 0.0000e+00 - Colinear_vs_Noncolinear_loss: 0.0000e+00 - Concave_vs_Convex_loss: 0.0000e+00 - Four_vs_notfour_side_loss: 0.3261 - Triangle_vs_notTriangle_loss: 0.0000e+00 - Clockwise_vs_Anticlock_wise_loss: 0.0000e+00 - Left_vs_Right_loss: 0.0000e+00 - Parallel_vs_perpendicular_loss: 0.0000e+00 - Filled_vs_Unfilled_loss: 0.0000e+00 - Complete_vs_Incomplete_loss: 0.0000e+00 - Intersect_vs_NonIntersect_loss: 0.0000e+00 - M_cluster_vs_N_clusters_loss: 0.0000e+00 - Above_vs_Below_loss: 0.0000e+00 - Same_vs_Not_Same_loss: 0.0000e+00 - Size_big_vs_Small_loss: 0.0000e+00 - Symmetery_vs_Non_symmetery_loss: 0.0000e+00 - Horizontal_vs_Vertical_loss: 0.0000e+00 - Empty_vs_Non_Empty_loss: 0.0000e+00\n",
      "Epoch 4/10\n",
      "175/175 [==============================] - 1s 7ms/step - loss: 0.3073 - center_vs_notincenter_loss: 0.0000e+00 - circle_vs_notcircle_loss: 0.0000e+00 - Closed_vs_Open_figure_loss: 0.0000e+00 - Colinear_vs_Noncolinear_loss: 0.0000e+00 - Concave_vs_Convex_loss: 0.0000e+00 - Four_vs_notfour_side_loss: 0.3073 - Triangle_vs_notTriangle_loss: 0.0000e+00 - Clockwise_vs_Anticlock_wise_loss: 0.0000e+00 - Left_vs_Right_loss: 0.0000e+00 - Parallel_vs_perpendicular_loss: 0.0000e+00 - Filled_vs_Unfilled_loss: 0.0000e+00 - Complete_vs_Incomplete_loss: 0.0000e+00 - Intersect_vs_NonIntersect_loss: 0.0000e+00 - M_cluster_vs_N_clusters_loss: 0.0000e+00 - Above_vs_Below_loss: 0.0000e+00 - Same_vs_Not_Same_loss: 0.0000e+00 - Size_big_vs_Small_loss: 0.0000e+00 - Symmetery_vs_Non_symmetery_loss: 0.0000e+00 - Horizontal_vs_Vertical_loss: 0.0000e+00 - Empty_vs_Non_Empty_loss: 0.0000e+00\n",
      "Epoch 5/10\n",
      "175/175 [==============================] - 1s 7ms/step - loss: 0.2908 - center_vs_notincenter_loss: 0.0000e+00 - circle_vs_notcircle_loss: 0.0000e+00 - Closed_vs_Open_figure_loss: 0.0000e+00 - Colinear_vs_Noncolinear_loss: 0.0000e+00 - Concave_vs_Convex_loss: 0.0000e+00 - Four_vs_notfour_side_loss: 0.2908 - Triangle_vs_notTriangle_loss: 0.0000e+00 - Clockwise_vs_Anticlock_wise_loss: 0.0000e+00 - Left_vs_Right_loss: 0.0000e+00 - Parallel_vs_perpendicular_loss: 0.0000e+00 - Filled_vs_Unfilled_loss: 0.0000e+00 - Complete_vs_Incomplete_loss: 0.0000e+00 - Intersect_vs_NonIntersect_loss: 0.0000e+00 - M_cluster_vs_N_clusters_loss: 0.0000e+00 - Above_vs_Below_loss: 0.0000e+00 - Same_vs_Not_Same_loss: 0.0000e+00 - Size_big_vs_Small_loss: 0.0000e+00 - Symmetery_vs_Non_symmetery_loss: 0.0000e+00 - Horizontal_vs_Vertical_loss: 0.0000e+00 - Empty_vs_Non_Empty_loss: 0.0000e+00\n",
      "Epoch 6/10\n",
      "175/175 [==============================] - 1s 7ms/step - loss: 0.2966 - center_vs_notincenter_loss: 0.0000e+00 - circle_vs_notcircle_loss: 0.0000e+00 - Closed_vs_Open_figure_loss: 0.0000e+00 - Colinear_vs_Noncolinear_loss: 0.0000e+00 - Concave_vs_Convex_loss: 0.0000e+00 - Four_vs_notfour_side_loss: 0.2966 - Triangle_vs_notTriangle_loss: 0.0000e+00 - Clockwise_vs_Anticlock_wise_loss: 0.0000e+00 - Left_vs_Right_loss: 0.0000e+00 - Parallel_vs_perpendicular_loss: 0.0000e+00 - Filled_vs_Unfilled_loss: 0.0000e+00 - Complete_vs_Incomplete_loss: 0.0000e+00 - Intersect_vs_NonIntersect_loss: 0.0000e+00 - M_cluster_vs_N_clusters_loss: 0.0000e+00 - Above_vs_Below_loss: 0.0000e+00 - Same_vs_Not_Same_loss: 0.0000e+00 - Size_big_vs_Small_loss: 0.0000e+00 - Symmetery_vs_Non_symmetery_loss: 0.0000e+00 - Horizontal_vs_Vertical_loss: 0.0000e+00 - Empty_vs_Non_Empty_loss: 0.0000e+00\n",
      "Epoch 7/10\n",
      "175/175 [==============================] - 1s 7ms/step - loss: 0.2873 - center_vs_notincenter_loss: 0.0000e+00 - circle_vs_notcircle_loss: 0.0000e+00 - Closed_vs_Open_figure_loss: 0.0000e+00 - Colinear_vs_Noncolinear_loss: 0.0000e+00 - Concave_vs_Convex_loss: 0.0000e+00 - Four_vs_notfour_side_loss: 0.2873 - Triangle_vs_notTriangle_loss: 0.0000e+00 - Clockwise_vs_Anticlock_wise_loss: 0.0000e+00 - Left_vs_Right_loss: 0.0000e+00 - Parallel_vs_perpendicular_loss: 0.0000e+00 - Filled_vs_Unfilled_loss: 0.0000e+00 - Complete_vs_Incomplete_loss: 0.0000e+00 - Intersect_vs_NonIntersect_loss: 0.0000e+00 - M_cluster_vs_N_clusters_loss: 0.0000e+00 - Above_vs_Below_loss: 0.0000e+00 - Same_vs_Not_Same_loss: 0.0000e+00 - Size_big_vs_Small_loss: 0.0000e+00 - Symmetery_vs_Non_symmetery_loss: 0.0000e+00 - Horizontal_vs_Vertical_loss: 0.0000e+00 - Empty_vs_Non_Empty_loss: 0.0000e+00\n",
      "Epoch 8/10\n",
      "175/175 [==============================] - 1s 7ms/step - loss: 0.2859 - center_vs_notincenter_loss: 0.0000e+00 - circle_vs_notcircle_loss: 0.0000e+00 - Closed_vs_Open_figure_loss: 0.0000e+00 - Colinear_vs_Noncolinear_loss: 0.0000e+00 - Concave_vs_Convex_loss: 0.0000e+00 - Four_vs_notfour_side_loss: 0.2859 - Triangle_vs_notTriangle_loss: 0.0000e+00 - Clockwise_vs_Anticlock_wise_loss: 0.0000e+00 - Left_vs_Right_loss: 0.0000e+00 - Parallel_vs_perpendicular_loss: 0.0000e+00 - Filled_vs_Unfilled_loss: 0.0000e+00 - Complete_vs_Incomplete_loss: 0.0000e+00 - Intersect_vs_NonIntersect_loss: 0.0000e+00 - M_cluster_vs_N_clusters_loss: 0.0000e+00 - Above_vs_Below_loss: 0.0000e+00 - Same_vs_Not_Same_loss: 0.0000e+00 - Size_big_vs_Small_loss: 0.0000e+00 - Symmetery_vs_Non_symmetery_loss: 0.0000e+00 - Horizontal_vs_Vertical_loss: 0.0000e+00 - Empty_vs_Non_Empty_loss: 0.0000e+00\n",
      "Epoch 9/10\n",
      "175/175 [==============================] - 1s 7ms/step - loss: 0.2739 - center_vs_notincenter_loss: 0.0000e+00 - circle_vs_notcircle_loss: 0.0000e+00 - Closed_vs_Open_figure_loss: 0.0000e+00 - Colinear_vs_Noncolinear_loss: 0.0000e+00 - Concave_vs_Convex_loss: 0.0000e+00 - Four_vs_notfour_side_loss: 0.2739 - Triangle_vs_notTriangle_loss: 0.0000e+00 - Clockwise_vs_Anticlock_wise_loss: 0.0000e+00 - Left_vs_Right_loss: 0.0000e+00 - Parallel_vs_perpendicular_loss: 0.0000e+00 - Filled_vs_Unfilled_loss: 0.0000e+00 - Complete_vs_Incomplete_loss: 0.0000e+00 - Intersect_vs_NonIntersect_loss: 0.0000e+00 - M_cluster_vs_N_clusters_loss: 0.0000e+00 - Above_vs_Below_loss: 0.0000e+00 - Same_vs_Not_Same_loss: 0.0000e+00 - Size_big_vs_Small_loss: 0.0000e+00 - Symmetery_vs_Non_symmetery_loss: 0.0000e+00 - Horizontal_vs_Vertical_loss: 0.0000e+00 - Empty_vs_Non_Empty_loss: 0.0000e+00\n",
      "Epoch 10/10\n",
      "175/175 [==============================] - 1s 7ms/step - loss: 0.2700 - center_vs_notincenter_loss: 0.0000e+00 - circle_vs_notcircle_loss: 0.0000e+00 - Closed_vs_Open_figure_loss: 0.0000e+00 - Colinear_vs_Noncolinear_loss: 0.0000e+00 - Concave_vs_Convex_loss: 0.0000e+00 - Four_vs_notfour_side_loss: 0.2700 - Triangle_vs_notTriangle_loss: 0.0000e+00 - Clockwise_vs_Anticlock_wise_loss: 0.0000e+00 - Left_vs_Right_loss: 0.0000e+00 - Parallel_vs_perpendicular_loss: 0.0000e+00 - Filled_vs_Unfilled_loss: 0.0000e+00 - Complete_vs_Incomplete_loss: 0.0000e+00 - Intersect_vs_NonIntersect_loss: 0.0000e+00 - M_cluster_vs_N_clusters_loss: 0.0000e+00 - Above_vs_Below_loss: 0.0000e+00 - Same_vs_Not_Same_loss: 0.0000e+00 - Size_big_vs_Small_loss: 0.0000e+00 - Symmetery_vs_Non_symmetery_loss: 0.0000e+00 - Horizontal_vs_Vertical_loss: 0.0000e+00 - Empty_vs_Non_Empty_loss: 0.0000e+00\n",
      "44/44 [==============================] - 0s 3ms/step\n",
      "binary_predictions_head:  [0 1]\n",
      "Accuracy for Classifier C5: 0.8435714285714285\n",
      "Final_test_accuracies till now:  [0.92, 0.95, 0.98, 0.93, 0.61, 0.55, 0.84]\n"
     ]
    }
   ],
   "source": [
    "Model_history=model.fit(X[5], {output_names[5]: Y[5]}, epochs=10)\n",
    "\n",
    "Temp_var=check_accuracy1(C5_X_test,C5_y_test,5)\n",
    "Rounded_accuracy = round(Temp_var, 2)\n",
    "Final_test_accuracies.append(Rounded_accuracy)\n",
    "print(\"Final_test_accuracies till now: \",Final_test_accuracies)\n",
    "\n",
    "Training_loss=Model_history.history['loss']\n",
    "for i in range(10):\n",
    "  globals()[f'training_loss_epoch_{i}'].append(Training_loss[i])"
   ]
  },
  {
   "cell_type": "markdown",
   "id": "-fFE0ANXNm2Q",
   "metadata": {
    "id": "-fFE0ANXNm2Q"
   },
   "source": [
    "#### Head 6 checking"
   ]
  },
  {
   "cell_type": "code",
   "execution_count": 24,
   "id": "QcBQEVeaNpyc",
   "metadata": {
    "colab": {
     "base_uri": "https://localhost:8080/"
    },
    "id": "QcBQEVeaNpyc",
    "outputId": "1dd98903-5afc-4045-cd86-93173e3daa55"
   },
   "outputs": [
    {
     "name": "stdout",
     "output_type": "stream",
     "text": [
      "Epoch 1/10\n"
     ]
    },
    {
     "name": "stderr",
     "output_type": "stream",
     "text": [
      "WARNING:tensorflow:Gradients do not exist for variables ['center_vs_notincenter/kernel:0', 'center_vs_notincenter/bias:0', 'circle_vs_notcircle/kernel:0', 'circle_vs_notcircle/bias:0', 'Closed_vs_Open_figure/kernel:0', 'Closed_vs_Open_figure/bias:0', 'Colinear_vs_Noncolinear/kernel:0', 'Colinear_vs_Noncolinear/bias:0', 'Concave_vs_Convex/kernel:0', 'Concave_vs_Convex/bias:0', 'Four_vs_notfour_side/kernel:0', 'Four_vs_notfour_side/bias:0', 'Clockwise_vs_Anticlock_wise/kernel:0', 'Clockwise_vs_Anticlock_wise/bias:0', 'Left_vs_Right/kernel:0', 'Left_vs_Right/bias:0', 'Parallel_vs_perpendicular/kernel:0', 'Parallel_vs_perpendicular/bias:0', 'Filled_vs_Unfilled/kernel:0', 'Filled_vs_Unfilled/bias:0', 'Complete_vs_Incomplete/kernel:0', 'Complete_vs_Incomplete/bias:0', 'Intersect_vs_NonIntersect/kernel:0', 'Intersect_vs_NonIntersect/bias:0', 'M_cluster_vs_N_clusters/kernel:0', 'M_cluster_vs_N_clusters/bias:0', 'Above_vs_Below/kernel:0', 'Above_vs_Below/bias:0', 'Same_vs_Not_Same/kernel:0', 'Same_vs_Not_Same/bias:0', 'Size_big_vs_Small/kernel:0', 'Size_big_vs_Small/bias:0', 'Symmetery_vs_Non_symmetery/kernel:0', 'Symmetery_vs_Non_symmetery/bias:0', 'Horizontal_vs_Vertical/kernel:0', 'Horizontal_vs_Vertical/bias:0', 'Empty_vs_Non_Empty/kernel:0', 'Empty_vs_Non_Empty/bias:0'] when minimizing the loss. If you're using `model.compile()`, did you forget to provide a `loss` argument?\n",
      "WARNING:tensorflow:Gradients do not exist for variables ['center_vs_notincenter/kernel:0', 'center_vs_notincenter/bias:0', 'circle_vs_notcircle/kernel:0', 'circle_vs_notcircle/bias:0', 'Closed_vs_Open_figure/kernel:0', 'Closed_vs_Open_figure/bias:0', 'Colinear_vs_Noncolinear/kernel:0', 'Colinear_vs_Noncolinear/bias:0', 'Concave_vs_Convex/kernel:0', 'Concave_vs_Convex/bias:0', 'Four_vs_notfour_side/kernel:0', 'Four_vs_notfour_side/bias:0', 'Clockwise_vs_Anticlock_wise/kernel:0', 'Clockwise_vs_Anticlock_wise/bias:0', 'Left_vs_Right/kernel:0', 'Left_vs_Right/bias:0', 'Parallel_vs_perpendicular/kernel:0', 'Parallel_vs_perpendicular/bias:0', 'Filled_vs_Unfilled/kernel:0', 'Filled_vs_Unfilled/bias:0', 'Complete_vs_Incomplete/kernel:0', 'Complete_vs_Incomplete/bias:0', 'Intersect_vs_NonIntersect/kernel:0', 'Intersect_vs_NonIntersect/bias:0', 'M_cluster_vs_N_clusters/kernel:0', 'M_cluster_vs_N_clusters/bias:0', 'Above_vs_Below/kernel:0', 'Above_vs_Below/bias:0', 'Same_vs_Not_Same/kernel:0', 'Same_vs_Not_Same/bias:0', 'Size_big_vs_Small/kernel:0', 'Size_big_vs_Small/bias:0', 'Symmetery_vs_Non_symmetery/kernel:0', 'Symmetery_vs_Non_symmetery/bias:0', 'Horizontal_vs_Vertical/kernel:0', 'Horizontal_vs_Vertical/bias:0', 'Empty_vs_Non_Empty/kernel:0', 'Empty_vs_Non_Empty/bias:0'] when minimizing the loss. If you're using `model.compile()`, did you forget to provide a `loss` argument?\n"
     ]
    },
    {
     "name": "stdout",
     "output_type": "stream",
     "text": [
      "175/175 [==============================] - 2s 8ms/step - loss: 0.6306 - center_vs_notincenter_loss: 0.0000e+00 - circle_vs_notcircle_loss: 0.0000e+00 - Closed_vs_Open_figure_loss: 0.0000e+00 - Colinear_vs_Noncolinear_loss: 0.0000e+00 - Concave_vs_Convex_loss: 0.0000e+00 - Four_vs_notfour_side_loss: 0.0000e+00 - Triangle_vs_notTriangle_loss: 0.6306 - Clockwise_vs_Anticlock_wise_loss: 0.0000e+00 - Left_vs_Right_loss: 0.0000e+00 - Parallel_vs_perpendicular_loss: 0.0000e+00 - Filled_vs_Unfilled_loss: 0.0000e+00 - Complete_vs_Incomplete_loss: 0.0000e+00 - Intersect_vs_NonIntersect_loss: 0.0000e+00 - M_cluster_vs_N_clusters_loss: 0.0000e+00 - Above_vs_Below_loss: 0.0000e+00 - Same_vs_Not_Same_loss: 0.0000e+00 - Size_big_vs_Small_loss: 0.0000e+00 - Symmetery_vs_Non_symmetery_loss: 0.0000e+00 - Horizontal_vs_Vertical_loss: 0.0000e+00 - Empty_vs_Non_Empty_loss: 0.0000e+00\n",
      "Epoch 2/10\n",
      "175/175 [==============================] - 1s 7ms/step - loss: 0.4879 - center_vs_notincenter_loss: 0.0000e+00 - circle_vs_notcircle_loss: 0.0000e+00 - Closed_vs_Open_figure_loss: 0.0000e+00 - Colinear_vs_Noncolinear_loss: 0.0000e+00 - Concave_vs_Convex_loss: 0.0000e+00 - Four_vs_notfour_side_loss: 0.0000e+00 - Triangle_vs_notTriangle_loss: 0.4879 - Clockwise_vs_Anticlock_wise_loss: 0.0000e+00 - Left_vs_Right_loss: 0.0000e+00 - Parallel_vs_perpendicular_loss: 0.0000e+00 - Filled_vs_Unfilled_loss: 0.0000e+00 - Complete_vs_Incomplete_loss: 0.0000e+00 - Intersect_vs_NonIntersect_loss: 0.0000e+00 - M_cluster_vs_N_clusters_loss: 0.0000e+00 - Above_vs_Below_loss: 0.0000e+00 - Same_vs_Not_Same_loss: 0.0000e+00 - Size_big_vs_Small_loss: 0.0000e+00 - Symmetery_vs_Non_symmetery_loss: 0.0000e+00 - Horizontal_vs_Vertical_loss: 0.0000e+00 - Empty_vs_Non_Empty_loss: 0.0000e+00\n",
      "Epoch 3/10\n",
      "175/175 [==============================] - 1s 7ms/step - loss: 0.4762 - center_vs_notincenter_loss: 0.0000e+00 - circle_vs_notcircle_loss: 0.0000e+00 - Closed_vs_Open_figure_loss: 0.0000e+00 - Colinear_vs_Noncolinear_loss: 0.0000e+00 - Concave_vs_Convex_loss: 0.0000e+00 - Four_vs_notfour_side_loss: 0.0000e+00 - Triangle_vs_notTriangle_loss: 0.4762 - Clockwise_vs_Anticlock_wise_loss: 0.0000e+00 - Left_vs_Right_loss: 0.0000e+00 - Parallel_vs_perpendicular_loss: 0.0000e+00 - Filled_vs_Unfilled_loss: 0.0000e+00 - Complete_vs_Incomplete_loss: 0.0000e+00 - Intersect_vs_NonIntersect_loss: 0.0000e+00 - M_cluster_vs_N_clusters_loss: 0.0000e+00 - Above_vs_Below_loss: 0.0000e+00 - Same_vs_Not_Same_loss: 0.0000e+00 - Size_big_vs_Small_loss: 0.0000e+00 - Symmetery_vs_Non_symmetery_loss: 0.0000e+00 - Horizontal_vs_Vertical_loss: 0.0000e+00 - Empty_vs_Non_Empty_loss: 0.0000e+00\n",
      "Epoch 4/10\n",
      "175/175 [==============================] - 1s 7ms/step - loss: 0.4713 - center_vs_notincenter_loss: 0.0000e+00 - circle_vs_notcircle_loss: 0.0000e+00 - Closed_vs_Open_figure_loss: 0.0000e+00 - Colinear_vs_Noncolinear_loss: 0.0000e+00 - Concave_vs_Convex_loss: 0.0000e+00 - Four_vs_notfour_side_loss: 0.0000e+00 - Triangle_vs_notTriangle_loss: 0.4713 - Clockwise_vs_Anticlock_wise_loss: 0.0000e+00 - Left_vs_Right_loss: 0.0000e+00 - Parallel_vs_perpendicular_loss: 0.0000e+00 - Filled_vs_Unfilled_loss: 0.0000e+00 - Complete_vs_Incomplete_loss: 0.0000e+00 - Intersect_vs_NonIntersect_loss: 0.0000e+00 - M_cluster_vs_N_clusters_loss: 0.0000e+00 - Above_vs_Below_loss: 0.0000e+00 - Same_vs_Not_Same_loss: 0.0000e+00 - Size_big_vs_Small_loss: 0.0000e+00 - Symmetery_vs_Non_symmetery_loss: 0.0000e+00 - Horizontal_vs_Vertical_loss: 0.0000e+00 - Empty_vs_Non_Empty_loss: 0.0000e+00\n",
      "Epoch 5/10\n",
      "175/175 [==============================] - 1s 7ms/step - loss: 0.4551 - center_vs_notincenter_loss: 0.0000e+00 - circle_vs_notcircle_loss: 0.0000e+00 - Closed_vs_Open_figure_loss: 0.0000e+00 - Colinear_vs_Noncolinear_loss: 0.0000e+00 - Concave_vs_Convex_loss: 0.0000e+00 - Four_vs_notfour_side_loss: 0.0000e+00 - Triangle_vs_notTriangle_loss: 0.4551 - Clockwise_vs_Anticlock_wise_loss: 0.0000e+00 - Left_vs_Right_loss: 0.0000e+00 - Parallel_vs_perpendicular_loss: 0.0000e+00 - Filled_vs_Unfilled_loss: 0.0000e+00 - Complete_vs_Incomplete_loss: 0.0000e+00 - Intersect_vs_NonIntersect_loss: 0.0000e+00 - M_cluster_vs_N_clusters_loss: 0.0000e+00 - Above_vs_Below_loss: 0.0000e+00 - Same_vs_Not_Same_loss: 0.0000e+00 - Size_big_vs_Small_loss: 0.0000e+00 - Symmetery_vs_Non_symmetery_loss: 0.0000e+00 - Horizontal_vs_Vertical_loss: 0.0000e+00 - Empty_vs_Non_Empty_loss: 0.0000e+00\n",
      "Epoch 6/10\n",
      "175/175 [==============================] - 1s 7ms/step - loss: 0.4542 - center_vs_notincenter_loss: 0.0000e+00 - circle_vs_notcircle_loss: 0.0000e+00 - Closed_vs_Open_figure_loss: 0.0000e+00 - Colinear_vs_Noncolinear_loss: 0.0000e+00 - Concave_vs_Convex_loss: 0.0000e+00 - Four_vs_notfour_side_loss: 0.0000e+00 - Triangle_vs_notTriangle_loss: 0.4542 - Clockwise_vs_Anticlock_wise_loss: 0.0000e+00 - Left_vs_Right_loss: 0.0000e+00 - Parallel_vs_perpendicular_loss: 0.0000e+00 - Filled_vs_Unfilled_loss: 0.0000e+00 - Complete_vs_Incomplete_loss: 0.0000e+00 - Intersect_vs_NonIntersect_loss: 0.0000e+00 - M_cluster_vs_N_clusters_loss: 0.0000e+00 - Above_vs_Below_loss: 0.0000e+00 - Same_vs_Not_Same_loss: 0.0000e+00 - Size_big_vs_Small_loss: 0.0000e+00 - Symmetery_vs_Non_symmetery_loss: 0.0000e+00 - Horizontal_vs_Vertical_loss: 0.0000e+00 - Empty_vs_Non_Empty_loss: 0.0000e+00\n",
      "Epoch 7/10\n",
      "175/175 [==============================] - 1s 7ms/step - loss: 0.4498 - center_vs_notincenter_loss: 0.0000e+00 - circle_vs_notcircle_loss: 0.0000e+00 - Closed_vs_Open_figure_loss: 0.0000e+00 - Colinear_vs_Noncolinear_loss: 0.0000e+00 - Concave_vs_Convex_loss: 0.0000e+00 - Four_vs_notfour_side_loss: 0.0000e+00 - Triangle_vs_notTriangle_loss: 0.4498 - Clockwise_vs_Anticlock_wise_loss: 0.0000e+00 - Left_vs_Right_loss: 0.0000e+00 - Parallel_vs_perpendicular_loss: 0.0000e+00 - Filled_vs_Unfilled_loss: 0.0000e+00 - Complete_vs_Incomplete_loss: 0.0000e+00 - Intersect_vs_NonIntersect_loss: 0.0000e+00 - M_cluster_vs_N_clusters_loss: 0.0000e+00 - Above_vs_Below_loss: 0.0000e+00 - Same_vs_Not_Same_loss: 0.0000e+00 - Size_big_vs_Small_loss: 0.0000e+00 - Symmetery_vs_Non_symmetery_loss: 0.0000e+00 - Horizontal_vs_Vertical_loss: 0.0000e+00 - Empty_vs_Non_Empty_loss: 0.0000e+00\n",
      "Epoch 8/10\n",
      "175/175 [==============================] - 1s 7ms/step - loss: 0.4469 - center_vs_notincenter_loss: 0.0000e+00 - circle_vs_notcircle_loss: 0.0000e+00 - Closed_vs_Open_figure_loss: 0.0000e+00 - Colinear_vs_Noncolinear_loss: 0.0000e+00 - Concave_vs_Convex_loss: 0.0000e+00 - Four_vs_notfour_side_loss: 0.0000e+00 - Triangle_vs_notTriangle_loss: 0.4469 - Clockwise_vs_Anticlock_wise_loss: 0.0000e+00 - Left_vs_Right_loss: 0.0000e+00 - Parallel_vs_perpendicular_loss: 0.0000e+00 - Filled_vs_Unfilled_loss: 0.0000e+00 - Complete_vs_Incomplete_loss: 0.0000e+00 - Intersect_vs_NonIntersect_loss: 0.0000e+00 - M_cluster_vs_N_clusters_loss: 0.0000e+00 - Above_vs_Below_loss: 0.0000e+00 - Same_vs_Not_Same_loss: 0.0000e+00 - Size_big_vs_Small_loss: 0.0000e+00 - Symmetery_vs_Non_symmetery_loss: 0.0000e+00 - Horizontal_vs_Vertical_loss: 0.0000e+00 - Empty_vs_Non_Empty_loss: 0.0000e+00\n",
      "Epoch 9/10\n",
      "175/175 [==============================] - 1s 8ms/step - loss: 0.4439 - center_vs_notincenter_loss: 0.0000e+00 - circle_vs_notcircle_loss: 0.0000e+00 - Closed_vs_Open_figure_loss: 0.0000e+00 - Colinear_vs_Noncolinear_loss: 0.0000e+00 - Concave_vs_Convex_loss: 0.0000e+00 - Four_vs_notfour_side_loss: 0.0000e+00 - Triangle_vs_notTriangle_loss: 0.4439 - Clockwise_vs_Anticlock_wise_loss: 0.0000e+00 - Left_vs_Right_loss: 0.0000e+00 - Parallel_vs_perpendicular_loss: 0.0000e+00 - Filled_vs_Unfilled_loss: 0.0000e+00 - Complete_vs_Incomplete_loss: 0.0000e+00 - Intersect_vs_NonIntersect_loss: 0.0000e+00 - M_cluster_vs_N_clusters_loss: 0.0000e+00 - Above_vs_Below_loss: 0.0000e+00 - Same_vs_Not_Same_loss: 0.0000e+00 - Size_big_vs_Small_loss: 0.0000e+00 - Symmetery_vs_Non_symmetery_loss: 0.0000e+00 - Horizontal_vs_Vertical_loss: 0.0000e+00 - Empty_vs_Non_Empty_loss: 0.0000e+00\n",
      "Epoch 10/10\n",
      "175/175 [==============================] - 1s 8ms/step - loss: 0.4413 - center_vs_notincenter_loss: 0.0000e+00 - circle_vs_notcircle_loss: 0.0000e+00 - Closed_vs_Open_figure_loss: 0.0000e+00 - Colinear_vs_Noncolinear_loss: 0.0000e+00 - Concave_vs_Convex_loss: 0.0000e+00 - Four_vs_notfour_side_loss: 0.0000e+00 - Triangle_vs_notTriangle_loss: 0.4413 - Clockwise_vs_Anticlock_wise_loss: 0.0000e+00 - Left_vs_Right_loss: 0.0000e+00 - Parallel_vs_perpendicular_loss: 0.0000e+00 - Filled_vs_Unfilled_loss: 0.0000e+00 - Complete_vs_Incomplete_loss: 0.0000e+00 - Intersect_vs_NonIntersect_loss: 0.0000e+00 - M_cluster_vs_N_clusters_loss: 0.0000e+00 - Above_vs_Below_loss: 0.0000e+00 - Same_vs_Not_Same_loss: 0.0000e+00 - Size_big_vs_Small_loss: 0.0000e+00 - Symmetery_vs_Non_symmetery_loss: 0.0000e+00 - Horizontal_vs_Vertical_loss: 0.0000e+00 - Empty_vs_Non_Empty_loss: 0.0000e+00\n",
      "44/44 [==============================] - 0s 3ms/step\n",
      "binary_predictions_head:  [0 1]\n",
      "Accuracy for Classifier C6: 0.6776504297994269\n",
      "Final_test_accuracies till now:  [0.92, 0.95, 0.98, 0.93, 0.61, 0.55, 0.84, 0.68]\n"
     ]
    }
   ],
   "source": [
    "Modek_history=model.fit(X[6], {output_names[6]: Y[6]}, epochs=10)\n",
    "\n",
    "Temp_var=check_accuracy1(C6_X_test,C6_y_test,6)\n",
    "Rounded_accuracy = round(Temp_var, 2)\n",
    "Final_test_accuracies.append(Rounded_accuracy)\n",
    "print(\"Final_test_accuracies till now: \",Final_test_accuracies)\n",
    "\n",
    "Training_loss=Model_history.history['loss']\n",
    "for i in range(10):\n",
    "  globals()[f'training_loss_epoch_{i}'].append(Training_loss[i])"
   ]
  },
  {
   "cell_type": "markdown",
   "id": "KAIbqkkRNtgZ",
   "metadata": {
    "id": "KAIbqkkRNtgZ"
   },
   "source": [
    "#### Head 7 checking"
   ]
  },
  {
   "cell_type": "code",
   "execution_count": 25,
   "id": "oB0oxT7zNvSJ",
   "metadata": {
    "colab": {
     "base_uri": "https://localhost:8080/"
    },
    "id": "oB0oxT7zNvSJ",
    "outputId": "ee6c8306-aa0f-4903-e479-dc199748c556"
   },
   "outputs": [
    {
     "name": "stdout",
     "output_type": "stream",
     "text": [
      "Epoch 1/10\n"
     ]
    },
    {
     "name": "stderr",
     "output_type": "stream",
     "text": [
      "WARNING:tensorflow:Gradients do not exist for variables ['center_vs_notincenter/kernel:0', 'center_vs_notincenter/bias:0', 'circle_vs_notcircle/kernel:0', 'circle_vs_notcircle/bias:0', 'Closed_vs_Open_figure/kernel:0', 'Closed_vs_Open_figure/bias:0', 'Colinear_vs_Noncolinear/kernel:0', 'Colinear_vs_Noncolinear/bias:0', 'Concave_vs_Convex/kernel:0', 'Concave_vs_Convex/bias:0', 'Four_vs_notfour_side/kernel:0', 'Four_vs_notfour_side/bias:0', 'Triangle_vs_notTriangle/kernel:0', 'Triangle_vs_notTriangle/bias:0', 'Left_vs_Right/kernel:0', 'Left_vs_Right/bias:0', 'Parallel_vs_perpendicular/kernel:0', 'Parallel_vs_perpendicular/bias:0', 'Filled_vs_Unfilled/kernel:0', 'Filled_vs_Unfilled/bias:0', 'Complete_vs_Incomplete/kernel:0', 'Complete_vs_Incomplete/bias:0', 'Intersect_vs_NonIntersect/kernel:0', 'Intersect_vs_NonIntersect/bias:0', 'M_cluster_vs_N_clusters/kernel:0', 'M_cluster_vs_N_clusters/bias:0', 'Above_vs_Below/kernel:0', 'Above_vs_Below/bias:0', 'Same_vs_Not_Same/kernel:0', 'Same_vs_Not_Same/bias:0', 'Size_big_vs_Small/kernel:0', 'Size_big_vs_Small/bias:0', 'Symmetery_vs_Non_symmetery/kernel:0', 'Symmetery_vs_Non_symmetery/bias:0', 'Horizontal_vs_Vertical/kernel:0', 'Horizontal_vs_Vertical/bias:0', 'Empty_vs_Non_Empty/kernel:0', 'Empty_vs_Non_Empty/bias:0'] when minimizing the loss. If you're using `model.compile()`, did you forget to provide a `loss` argument?\n",
      "WARNING:tensorflow:Gradients do not exist for variables ['center_vs_notincenter/kernel:0', 'center_vs_notincenter/bias:0', 'circle_vs_notcircle/kernel:0', 'circle_vs_notcircle/bias:0', 'Closed_vs_Open_figure/kernel:0', 'Closed_vs_Open_figure/bias:0', 'Colinear_vs_Noncolinear/kernel:0', 'Colinear_vs_Noncolinear/bias:0', 'Concave_vs_Convex/kernel:0', 'Concave_vs_Convex/bias:0', 'Four_vs_notfour_side/kernel:0', 'Four_vs_notfour_side/bias:0', 'Triangle_vs_notTriangle/kernel:0', 'Triangle_vs_notTriangle/bias:0', 'Left_vs_Right/kernel:0', 'Left_vs_Right/bias:0', 'Parallel_vs_perpendicular/kernel:0', 'Parallel_vs_perpendicular/bias:0', 'Filled_vs_Unfilled/kernel:0', 'Filled_vs_Unfilled/bias:0', 'Complete_vs_Incomplete/kernel:0', 'Complete_vs_Incomplete/bias:0', 'Intersect_vs_NonIntersect/kernel:0', 'Intersect_vs_NonIntersect/bias:0', 'M_cluster_vs_N_clusters/kernel:0', 'M_cluster_vs_N_clusters/bias:0', 'Above_vs_Below/kernel:0', 'Above_vs_Below/bias:0', 'Same_vs_Not_Same/kernel:0', 'Same_vs_Not_Same/bias:0', 'Size_big_vs_Small/kernel:0', 'Size_big_vs_Small/bias:0', 'Symmetery_vs_Non_symmetery/kernel:0', 'Symmetery_vs_Non_symmetery/bias:0', 'Horizontal_vs_Vertical/kernel:0', 'Horizontal_vs_Vertical/bias:0', 'Empty_vs_Non_Empty/kernel:0', 'Empty_vs_Non_Empty/bias:0'] when minimizing the loss. If you're using `model.compile()`, did you forget to provide a `loss` argument?\n"
     ]
    },
    {
     "name": "stdout",
     "output_type": "stream",
     "text": [
      "75/75 [==============================] - 2s 7ms/step - loss: 0.7359 - center_vs_notincenter_loss: 0.0000e+00 - circle_vs_notcircle_loss: 0.0000e+00 - Closed_vs_Open_figure_loss: 0.0000e+00 - Colinear_vs_Noncolinear_loss: 0.0000e+00 - Concave_vs_Convex_loss: 0.0000e+00 - Four_vs_notfour_side_loss: 0.0000e+00 - Triangle_vs_notTriangle_loss: 0.0000e+00 - Clockwise_vs_Anticlock_wise_loss: 0.7359 - Left_vs_Right_loss: 0.0000e+00 - Parallel_vs_perpendicular_loss: 0.0000e+00 - Filled_vs_Unfilled_loss: 0.0000e+00 - Complete_vs_Incomplete_loss: 0.0000e+00 - Intersect_vs_NonIntersect_loss: 0.0000e+00 - M_cluster_vs_N_clusters_loss: 0.0000e+00 - Above_vs_Below_loss: 0.0000e+00 - Same_vs_Not_Same_loss: 0.0000e+00 - Size_big_vs_Small_loss: 0.0000e+00 - Symmetery_vs_Non_symmetery_loss: 0.0000e+00 - Horizontal_vs_Vertical_loss: 0.0000e+00 - Empty_vs_Non_Empty_loss: 0.0000e+00\n",
      "Epoch 2/10\n",
      "75/75 [==============================] - 1s 7ms/step - loss: 0.6937 - center_vs_notincenter_loss: 0.0000e+00 - circle_vs_notcircle_loss: 0.0000e+00 - Closed_vs_Open_figure_loss: 0.0000e+00 - Colinear_vs_Noncolinear_loss: 0.0000e+00 - Concave_vs_Convex_loss: 0.0000e+00 - Four_vs_notfour_side_loss: 0.0000e+00 - Triangle_vs_notTriangle_loss: 0.0000e+00 - Clockwise_vs_Anticlock_wise_loss: 0.6937 - Left_vs_Right_loss: 0.0000e+00 - Parallel_vs_perpendicular_loss: 0.0000e+00 - Filled_vs_Unfilled_loss: 0.0000e+00 - Complete_vs_Incomplete_loss: 0.0000e+00 - Intersect_vs_NonIntersect_loss: 0.0000e+00 - M_cluster_vs_N_clusters_loss: 0.0000e+00 - Above_vs_Below_loss: 0.0000e+00 - Same_vs_Not_Same_loss: 0.0000e+00 - Size_big_vs_Small_loss: 0.0000e+00 - Symmetery_vs_Non_symmetery_loss: 0.0000e+00 - Horizontal_vs_Vertical_loss: 0.0000e+00 - Empty_vs_Non_Empty_loss: 0.0000e+00\n",
      "Epoch 3/10\n",
      "75/75 [==============================] - 1s 7ms/step - loss: 0.6916 - center_vs_notincenter_loss: 0.0000e+00 - circle_vs_notcircle_loss: 0.0000e+00 - Closed_vs_Open_figure_loss: 0.0000e+00 - Colinear_vs_Noncolinear_loss: 0.0000e+00 - Concave_vs_Convex_loss: 0.0000e+00 - Four_vs_notfour_side_loss: 0.0000e+00 - Triangle_vs_notTriangle_loss: 0.0000e+00 - Clockwise_vs_Anticlock_wise_loss: 0.6916 - Left_vs_Right_loss: 0.0000e+00 - Parallel_vs_perpendicular_loss: 0.0000e+00 - Filled_vs_Unfilled_loss: 0.0000e+00 - Complete_vs_Incomplete_loss: 0.0000e+00 - Intersect_vs_NonIntersect_loss: 0.0000e+00 - M_cluster_vs_N_clusters_loss: 0.0000e+00 - Above_vs_Below_loss: 0.0000e+00 - Same_vs_Not_Same_loss: 0.0000e+00 - Size_big_vs_Small_loss: 0.0000e+00 - Symmetery_vs_Non_symmetery_loss: 0.0000e+00 - Horizontal_vs_Vertical_loss: 0.0000e+00 - Empty_vs_Non_Empty_loss: 0.0000e+00\n",
      "Epoch 4/10\n",
      "75/75 [==============================] - 1s 7ms/step - loss: 0.6901 - center_vs_notincenter_loss: 0.0000e+00 - circle_vs_notcircle_loss: 0.0000e+00 - Closed_vs_Open_figure_loss: 0.0000e+00 - Colinear_vs_Noncolinear_loss: 0.0000e+00 - Concave_vs_Convex_loss: 0.0000e+00 - Four_vs_notfour_side_loss: 0.0000e+00 - Triangle_vs_notTriangle_loss: 0.0000e+00 - Clockwise_vs_Anticlock_wise_loss: 0.6901 - Left_vs_Right_loss: 0.0000e+00 - Parallel_vs_perpendicular_loss: 0.0000e+00 - Filled_vs_Unfilled_loss: 0.0000e+00 - Complete_vs_Incomplete_loss: 0.0000e+00 - Intersect_vs_NonIntersect_loss: 0.0000e+00 - M_cluster_vs_N_clusters_loss: 0.0000e+00 - Above_vs_Below_loss: 0.0000e+00 - Same_vs_Not_Same_loss: 0.0000e+00 - Size_big_vs_Small_loss: 0.0000e+00 - Symmetery_vs_Non_symmetery_loss: 0.0000e+00 - Horizontal_vs_Vertical_loss: 0.0000e+00 - Empty_vs_Non_Empty_loss: 0.0000e+00\n",
      "Epoch 5/10\n",
      "75/75 [==============================] - 1s 7ms/step - loss: 0.6890 - center_vs_notincenter_loss: 0.0000e+00 - circle_vs_notcircle_loss: 0.0000e+00 - Closed_vs_Open_figure_loss: 0.0000e+00 - Colinear_vs_Noncolinear_loss: 0.0000e+00 - Concave_vs_Convex_loss: 0.0000e+00 - Four_vs_notfour_side_loss: 0.0000e+00 - Triangle_vs_notTriangle_loss: 0.0000e+00 - Clockwise_vs_Anticlock_wise_loss: 0.6890 - Left_vs_Right_loss: 0.0000e+00 - Parallel_vs_perpendicular_loss: 0.0000e+00 - Filled_vs_Unfilled_loss: 0.0000e+00 - Complete_vs_Incomplete_loss: 0.0000e+00 - Intersect_vs_NonIntersect_loss: 0.0000e+00 - M_cluster_vs_N_clusters_loss: 0.0000e+00 - Above_vs_Below_loss: 0.0000e+00 - Same_vs_Not_Same_loss: 0.0000e+00 - Size_big_vs_Small_loss: 0.0000e+00 - Symmetery_vs_Non_symmetery_loss: 0.0000e+00 - Horizontal_vs_Vertical_loss: 0.0000e+00 - Empty_vs_Non_Empty_loss: 0.0000e+00\n",
      "Epoch 6/10\n",
      "75/75 [==============================] - 1s 7ms/step - loss: 0.6895 - center_vs_notincenter_loss: 0.0000e+00 - circle_vs_notcircle_loss: 0.0000e+00 - Closed_vs_Open_figure_loss: 0.0000e+00 - Colinear_vs_Noncolinear_loss: 0.0000e+00 - Concave_vs_Convex_loss: 0.0000e+00 - Four_vs_notfour_side_loss: 0.0000e+00 - Triangle_vs_notTriangle_loss: 0.0000e+00 - Clockwise_vs_Anticlock_wise_loss: 0.6895 - Left_vs_Right_loss: 0.0000e+00 - Parallel_vs_perpendicular_loss: 0.0000e+00 - Filled_vs_Unfilled_loss: 0.0000e+00 - Complete_vs_Incomplete_loss: 0.0000e+00 - Intersect_vs_NonIntersect_loss: 0.0000e+00 - M_cluster_vs_N_clusters_loss: 0.0000e+00 - Above_vs_Below_loss: 0.0000e+00 - Same_vs_Not_Same_loss: 0.0000e+00 - Size_big_vs_Small_loss: 0.0000e+00 - Symmetery_vs_Non_symmetery_loss: 0.0000e+00 - Horizontal_vs_Vertical_loss: 0.0000e+00 - Empty_vs_Non_Empty_loss: 0.0000e+00\n",
      "Epoch 7/10\n",
      "75/75 [==============================] - 1s 7ms/step - loss: 0.6875 - center_vs_notincenter_loss: 0.0000e+00 - circle_vs_notcircle_loss: 0.0000e+00 - Closed_vs_Open_figure_loss: 0.0000e+00 - Colinear_vs_Noncolinear_loss: 0.0000e+00 - Concave_vs_Convex_loss: 0.0000e+00 - Four_vs_notfour_side_loss: 0.0000e+00 - Triangle_vs_notTriangle_loss: 0.0000e+00 - Clockwise_vs_Anticlock_wise_loss: 0.6875 - Left_vs_Right_loss: 0.0000e+00 - Parallel_vs_perpendicular_loss: 0.0000e+00 - Filled_vs_Unfilled_loss: 0.0000e+00 - Complete_vs_Incomplete_loss: 0.0000e+00 - Intersect_vs_NonIntersect_loss: 0.0000e+00 - M_cluster_vs_N_clusters_loss: 0.0000e+00 - Above_vs_Below_loss: 0.0000e+00 - Same_vs_Not_Same_loss: 0.0000e+00 - Size_big_vs_Small_loss: 0.0000e+00 - Symmetery_vs_Non_symmetery_loss: 0.0000e+00 - Horizontal_vs_Vertical_loss: 0.0000e+00 - Empty_vs_Non_Empty_loss: 0.0000e+00\n",
      "Epoch 8/10\n",
      "75/75 [==============================] - 1s 7ms/step - loss: 0.6841 - center_vs_notincenter_loss: 0.0000e+00 - circle_vs_notcircle_loss: 0.0000e+00 - Closed_vs_Open_figure_loss: 0.0000e+00 - Colinear_vs_Noncolinear_loss: 0.0000e+00 - Concave_vs_Convex_loss: 0.0000e+00 - Four_vs_notfour_side_loss: 0.0000e+00 - Triangle_vs_notTriangle_loss: 0.0000e+00 - Clockwise_vs_Anticlock_wise_loss: 0.6841 - Left_vs_Right_loss: 0.0000e+00 - Parallel_vs_perpendicular_loss: 0.0000e+00 - Filled_vs_Unfilled_loss: 0.0000e+00 - Complete_vs_Incomplete_loss: 0.0000e+00 - Intersect_vs_NonIntersect_loss: 0.0000e+00 - M_cluster_vs_N_clusters_loss: 0.0000e+00 - Above_vs_Below_loss: 0.0000e+00 - Same_vs_Not_Same_loss: 0.0000e+00 - Size_big_vs_Small_loss: 0.0000e+00 - Symmetery_vs_Non_symmetery_loss: 0.0000e+00 - Horizontal_vs_Vertical_loss: 0.0000e+00 - Empty_vs_Non_Empty_loss: 0.0000e+00\n",
      "Epoch 9/10\n",
      "75/75 [==============================] - 1s 7ms/step - loss: 0.6814 - center_vs_notincenter_loss: 0.0000e+00 - circle_vs_notcircle_loss: 0.0000e+00 - Closed_vs_Open_figure_loss: 0.0000e+00 - Colinear_vs_Noncolinear_loss: 0.0000e+00 - Concave_vs_Convex_loss: 0.0000e+00 - Four_vs_notfour_side_loss: 0.0000e+00 - Triangle_vs_notTriangle_loss: 0.0000e+00 - Clockwise_vs_Anticlock_wise_loss: 0.6814 - Left_vs_Right_loss: 0.0000e+00 - Parallel_vs_perpendicular_loss: 0.0000e+00 - Filled_vs_Unfilled_loss: 0.0000e+00 - Complete_vs_Incomplete_loss: 0.0000e+00 - Intersect_vs_NonIntersect_loss: 0.0000e+00 - M_cluster_vs_N_clusters_loss: 0.0000e+00 - Above_vs_Below_loss: 0.0000e+00 - Same_vs_Not_Same_loss: 0.0000e+00 - Size_big_vs_Small_loss: 0.0000e+00 - Symmetery_vs_Non_symmetery_loss: 0.0000e+00 - Horizontal_vs_Vertical_loss: 0.0000e+00 - Empty_vs_Non_Empty_loss: 0.0000e+00\n",
      "Epoch 10/10\n",
      "75/75 [==============================] - 1s 7ms/step - loss: 0.6825 - center_vs_notincenter_loss: 0.0000e+00 - circle_vs_notcircle_loss: 0.0000e+00 - Closed_vs_Open_figure_loss: 0.0000e+00 - Colinear_vs_Noncolinear_loss: 0.0000e+00 - Concave_vs_Convex_loss: 0.0000e+00 - Four_vs_notfour_side_loss: 0.0000e+00 - Triangle_vs_notTriangle_loss: 0.0000e+00 - Clockwise_vs_Anticlock_wise_loss: 0.6825 - Left_vs_Right_loss: 0.0000e+00 - Parallel_vs_perpendicular_loss: 0.0000e+00 - Filled_vs_Unfilled_loss: 0.0000e+00 - Complete_vs_Incomplete_loss: 0.0000e+00 - Intersect_vs_NonIntersect_loss: 0.0000e+00 - M_cluster_vs_N_clusters_loss: 0.0000e+00 - Above_vs_Below_loss: 0.0000e+00 - Same_vs_Not_Same_loss: 0.0000e+00 - Size_big_vs_Small_loss: 0.0000e+00 - Symmetery_vs_Non_symmetery_loss: 0.0000e+00 - Horizontal_vs_Vertical_loss: 0.0000e+00 - Empty_vs_Non_Empty_loss: 0.0000e+00\n",
      "19/19 [==============================] - 0s 3ms/step\n",
      "binary_predictions_head:  [0 1]\n",
      "Accuracy for Classifier C7: 0.47833333333333333\n",
      "Final_test_accuracies till now:  [0.92, 0.95, 0.98, 0.93, 0.61, 0.55, 0.84, 0.68, 0.48]\n"
     ]
    }
   ],
   "source": [
    "Model_history=model.fit(X[7], {output_names[7]: Y[7]}, epochs=10)\n",
    "\n",
    "Temp_var=check_accuracy1(C7_X_test,C7_y_test,7)\n",
    "Rounded_accuracy = round(Temp_var, 2)\n",
    "Final_test_accuracies.append(Rounded_accuracy)\n",
    "print(\"Final_test_accuracies till now: \",Final_test_accuracies)\n",
    "\n",
    "Training_loss=Model_history.history['loss']\n",
    "for i in range(10):\n",
    "  globals()[f'training_loss_epoch_{i}'].append(Training_loss[i])\n"
   ]
  },
  {
   "cell_type": "markdown",
   "id": "E8bESNDONzSj",
   "metadata": {
    "id": "E8bESNDONzSj"
   },
   "source": [
    "#### head 8 checking"
   ]
  },
  {
   "cell_type": "code",
   "execution_count": 26,
   "id": "gT4iI8LuN1kU",
   "metadata": {
    "colab": {
     "base_uri": "https://localhost:8080/"
    },
    "id": "gT4iI8LuN1kU",
    "outputId": "1b732960-247d-47a1-9547-ec770c46069e"
   },
   "outputs": [
    {
     "name": "stdout",
     "output_type": "stream",
     "text": [
      "Epoch 1/10\n"
     ]
    },
    {
     "name": "stderr",
     "output_type": "stream",
     "text": [
      "WARNING:tensorflow:Gradients do not exist for variables ['center_vs_notincenter/kernel:0', 'center_vs_notincenter/bias:0', 'circle_vs_notcircle/kernel:0', 'circle_vs_notcircle/bias:0', 'Closed_vs_Open_figure/kernel:0', 'Closed_vs_Open_figure/bias:0', 'Colinear_vs_Noncolinear/kernel:0', 'Colinear_vs_Noncolinear/bias:0', 'Concave_vs_Convex/kernel:0', 'Concave_vs_Convex/bias:0', 'Four_vs_notfour_side/kernel:0', 'Four_vs_notfour_side/bias:0', 'Triangle_vs_notTriangle/kernel:0', 'Triangle_vs_notTriangle/bias:0', 'Clockwise_vs_Anticlock_wise/kernel:0', 'Clockwise_vs_Anticlock_wise/bias:0', 'Parallel_vs_perpendicular/kernel:0', 'Parallel_vs_perpendicular/bias:0', 'Filled_vs_Unfilled/kernel:0', 'Filled_vs_Unfilled/bias:0', 'Complete_vs_Incomplete/kernel:0', 'Complete_vs_Incomplete/bias:0', 'Intersect_vs_NonIntersect/kernel:0', 'Intersect_vs_NonIntersect/bias:0', 'M_cluster_vs_N_clusters/kernel:0', 'M_cluster_vs_N_clusters/bias:0', 'Above_vs_Below/kernel:0', 'Above_vs_Below/bias:0', 'Same_vs_Not_Same/kernel:0', 'Same_vs_Not_Same/bias:0', 'Size_big_vs_Small/kernel:0', 'Size_big_vs_Small/bias:0', 'Symmetery_vs_Non_symmetery/kernel:0', 'Symmetery_vs_Non_symmetery/bias:0', 'Horizontal_vs_Vertical/kernel:0', 'Horizontal_vs_Vertical/bias:0', 'Empty_vs_Non_Empty/kernel:0', 'Empty_vs_Non_Empty/bias:0'] when minimizing the loss. If you're using `model.compile()`, did you forget to provide a `loss` argument?\n",
      "WARNING:tensorflow:Gradients do not exist for variables ['center_vs_notincenter/kernel:0', 'center_vs_notincenter/bias:0', 'circle_vs_notcircle/kernel:0', 'circle_vs_notcircle/bias:0', 'Closed_vs_Open_figure/kernel:0', 'Closed_vs_Open_figure/bias:0', 'Colinear_vs_Noncolinear/kernel:0', 'Colinear_vs_Noncolinear/bias:0', 'Concave_vs_Convex/kernel:0', 'Concave_vs_Convex/bias:0', 'Four_vs_notfour_side/kernel:0', 'Four_vs_notfour_side/bias:0', 'Triangle_vs_notTriangle/kernel:0', 'Triangle_vs_notTriangle/bias:0', 'Clockwise_vs_Anticlock_wise/kernel:0', 'Clockwise_vs_Anticlock_wise/bias:0', 'Parallel_vs_perpendicular/kernel:0', 'Parallel_vs_perpendicular/bias:0', 'Filled_vs_Unfilled/kernel:0', 'Filled_vs_Unfilled/bias:0', 'Complete_vs_Incomplete/kernel:0', 'Complete_vs_Incomplete/bias:0', 'Intersect_vs_NonIntersect/kernel:0', 'Intersect_vs_NonIntersect/bias:0', 'M_cluster_vs_N_clusters/kernel:0', 'M_cluster_vs_N_clusters/bias:0', 'Above_vs_Below/kernel:0', 'Above_vs_Below/bias:0', 'Same_vs_Not_Same/kernel:0', 'Same_vs_Not_Same/bias:0', 'Size_big_vs_Small/kernel:0', 'Size_big_vs_Small/bias:0', 'Symmetery_vs_Non_symmetery/kernel:0', 'Symmetery_vs_Non_symmetery/bias:0', 'Horizontal_vs_Vertical/kernel:0', 'Horizontal_vs_Vertical/bias:0', 'Empty_vs_Non_Empty/kernel:0', 'Empty_vs_Non_Empty/bias:0'] when minimizing the loss. If you're using `model.compile()`, did you forget to provide a `loss` argument?\n"
     ]
    },
    {
     "name": "stdout",
     "output_type": "stream",
     "text": [
      "63/63 [==============================] - 2s 8ms/step - loss: 0.6815 - center_vs_notincenter_loss: 0.0000e+00 - circle_vs_notcircle_loss: 0.0000e+00 - Closed_vs_Open_figure_loss: 0.0000e+00 - Colinear_vs_Noncolinear_loss: 0.0000e+00 - Concave_vs_Convex_loss: 0.0000e+00 - Four_vs_notfour_side_loss: 0.0000e+00 - Triangle_vs_notTriangle_loss: 0.0000e+00 - Clockwise_vs_Anticlock_wise_loss: 0.0000e+00 - Left_vs_Right_loss: 0.6815 - Parallel_vs_perpendicular_loss: 0.0000e+00 - Filled_vs_Unfilled_loss: 0.0000e+00 - Complete_vs_Incomplete_loss: 0.0000e+00 - Intersect_vs_NonIntersect_loss: 0.0000e+00 - M_cluster_vs_N_clusters_loss: 0.0000e+00 - Above_vs_Below_loss: 0.0000e+00 - Same_vs_Not_Same_loss: 0.0000e+00 - Size_big_vs_Small_loss: 0.0000e+00 - Symmetery_vs_Non_symmetery_loss: 0.0000e+00 - Horizontal_vs_Vertical_loss: 0.0000e+00 - Empty_vs_Non_Empty_loss: 0.0000e+00\n",
      "Epoch 2/10\n",
      "63/63 [==============================] - 0s 8ms/step - loss: 0.5636 - center_vs_notincenter_loss: 0.0000e+00 - circle_vs_notcircle_loss: 0.0000e+00 - Closed_vs_Open_figure_loss: 0.0000e+00 - Colinear_vs_Noncolinear_loss: 0.0000e+00 - Concave_vs_Convex_loss: 0.0000e+00 - Four_vs_notfour_side_loss: 0.0000e+00 - Triangle_vs_notTriangle_loss: 0.0000e+00 - Clockwise_vs_Anticlock_wise_loss: 0.0000e+00 - Left_vs_Right_loss: 0.5636 - Parallel_vs_perpendicular_loss: 0.0000e+00 - Filled_vs_Unfilled_loss: 0.0000e+00 - Complete_vs_Incomplete_loss: 0.0000e+00 - Intersect_vs_NonIntersect_loss: 0.0000e+00 - M_cluster_vs_N_clusters_loss: 0.0000e+00 - Above_vs_Below_loss: 0.0000e+00 - Same_vs_Not_Same_loss: 0.0000e+00 - Size_big_vs_Small_loss: 0.0000e+00 - Symmetery_vs_Non_symmetery_loss: 0.0000e+00 - Horizontal_vs_Vertical_loss: 0.0000e+00 - Empty_vs_Non_Empty_loss: 0.0000e+00\n",
      "Epoch 3/10\n",
      "63/63 [==============================] - 0s 8ms/step - loss: 0.3288 - center_vs_notincenter_loss: 0.0000e+00 - circle_vs_notcircle_loss: 0.0000e+00 - Closed_vs_Open_figure_loss: 0.0000e+00 - Colinear_vs_Noncolinear_loss: 0.0000e+00 - Concave_vs_Convex_loss: 0.0000e+00 - Four_vs_notfour_side_loss: 0.0000e+00 - Triangle_vs_notTriangle_loss: 0.0000e+00 - Clockwise_vs_Anticlock_wise_loss: 0.0000e+00 - Left_vs_Right_loss: 0.3288 - Parallel_vs_perpendicular_loss: 0.0000e+00 - Filled_vs_Unfilled_loss: 0.0000e+00 - Complete_vs_Incomplete_loss: 0.0000e+00 - Intersect_vs_NonIntersect_loss: 0.0000e+00 - M_cluster_vs_N_clusters_loss: 0.0000e+00 - Above_vs_Below_loss: 0.0000e+00 - Same_vs_Not_Same_loss: 0.0000e+00 - Size_big_vs_Small_loss: 0.0000e+00 - Symmetery_vs_Non_symmetery_loss: 0.0000e+00 - Horizontal_vs_Vertical_loss: 0.0000e+00 - Empty_vs_Non_Empty_loss: 0.0000e+00\n",
      "Epoch 4/10\n",
      "63/63 [==============================] - 1s 8ms/step - loss: 0.2812 - center_vs_notincenter_loss: 0.0000e+00 - circle_vs_notcircle_loss: 0.0000e+00 - Closed_vs_Open_figure_loss: 0.0000e+00 - Colinear_vs_Noncolinear_loss: 0.0000e+00 - Concave_vs_Convex_loss: 0.0000e+00 - Four_vs_notfour_side_loss: 0.0000e+00 - Triangle_vs_notTriangle_loss: 0.0000e+00 - Clockwise_vs_Anticlock_wise_loss: 0.0000e+00 - Left_vs_Right_loss: 0.2812 - Parallel_vs_perpendicular_loss: 0.0000e+00 - Filled_vs_Unfilled_loss: 0.0000e+00 - Complete_vs_Incomplete_loss: 0.0000e+00 - Intersect_vs_NonIntersect_loss: 0.0000e+00 - M_cluster_vs_N_clusters_loss: 0.0000e+00 - Above_vs_Below_loss: 0.0000e+00 - Same_vs_Not_Same_loss: 0.0000e+00 - Size_big_vs_Small_loss: 0.0000e+00 - Symmetery_vs_Non_symmetery_loss: 0.0000e+00 - Horizontal_vs_Vertical_loss: 0.0000e+00 - Empty_vs_Non_Empty_loss: 0.0000e+00\n",
      "Epoch 5/10\n",
      "63/63 [==============================] - 1s 8ms/step - loss: 0.2484 - center_vs_notincenter_loss: 0.0000e+00 - circle_vs_notcircle_loss: 0.0000e+00 - Closed_vs_Open_figure_loss: 0.0000e+00 - Colinear_vs_Noncolinear_loss: 0.0000e+00 - Concave_vs_Convex_loss: 0.0000e+00 - Four_vs_notfour_side_loss: 0.0000e+00 - Triangle_vs_notTriangle_loss: 0.0000e+00 - Clockwise_vs_Anticlock_wise_loss: 0.0000e+00 - Left_vs_Right_loss: 0.2484 - Parallel_vs_perpendicular_loss: 0.0000e+00 - Filled_vs_Unfilled_loss: 0.0000e+00 - Complete_vs_Incomplete_loss: 0.0000e+00 - Intersect_vs_NonIntersect_loss: 0.0000e+00 - M_cluster_vs_N_clusters_loss: 0.0000e+00 - Above_vs_Below_loss: 0.0000e+00 - Same_vs_Not_Same_loss: 0.0000e+00 - Size_big_vs_Small_loss: 0.0000e+00 - Symmetery_vs_Non_symmetery_loss: 0.0000e+00 - Horizontal_vs_Vertical_loss: 0.0000e+00 - Empty_vs_Non_Empty_loss: 0.0000e+00\n",
      "Epoch 6/10\n",
      "63/63 [==============================] - 0s 8ms/step - loss: 0.2289 - center_vs_notincenter_loss: 0.0000e+00 - circle_vs_notcircle_loss: 0.0000e+00 - Closed_vs_Open_figure_loss: 0.0000e+00 - Colinear_vs_Noncolinear_loss: 0.0000e+00 - Concave_vs_Convex_loss: 0.0000e+00 - Four_vs_notfour_side_loss: 0.0000e+00 - Triangle_vs_notTriangle_loss: 0.0000e+00 - Clockwise_vs_Anticlock_wise_loss: 0.0000e+00 - Left_vs_Right_loss: 0.2289 - Parallel_vs_perpendicular_loss: 0.0000e+00 - Filled_vs_Unfilled_loss: 0.0000e+00 - Complete_vs_Incomplete_loss: 0.0000e+00 - Intersect_vs_NonIntersect_loss: 0.0000e+00 - M_cluster_vs_N_clusters_loss: 0.0000e+00 - Above_vs_Below_loss: 0.0000e+00 - Same_vs_Not_Same_loss: 0.0000e+00 - Size_big_vs_Small_loss: 0.0000e+00 - Symmetery_vs_Non_symmetery_loss: 0.0000e+00 - Horizontal_vs_Vertical_loss: 0.0000e+00 - Empty_vs_Non_Empty_loss: 0.0000e+00\n",
      "Epoch 7/10\n",
      "63/63 [==============================] - 1s 8ms/step - loss: 0.2132 - center_vs_notincenter_loss: 0.0000e+00 - circle_vs_notcircle_loss: 0.0000e+00 - Closed_vs_Open_figure_loss: 0.0000e+00 - Colinear_vs_Noncolinear_loss: 0.0000e+00 - Concave_vs_Convex_loss: 0.0000e+00 - Four_vs_notfour_side_loss: 0.0000e+00 - Triangle_vs_notTriangle_loss: 0.0000e+00 - Clockwise_vs_Anticlock_wise_loss: 0.0000e+00 - Left_vs_Right_loss: 0.2132 - Parallel_vs_perpendicular_loss: 0.0000e+00 - Filled_vs_Unfilled_loss: 0.0000e+00 - Complete_vs_Incomplete_loss: 0.0000e+00 - Intersect_vs_NonIntersect_loss: 0.0000e+00 - M_cluster_vs_N_clusters_loss: 0.0000e+00 - Above_vs_Below_loss: 0.0000e+00 - Same_vs_Not_Same_loss: 0.0000e+00 - Size_big_vs_Small_loss: 0.0000e+00 - Symmetery_vs_Non_symmetery_loss: 0.0000e+00 - Horizontal_vs_Vertical_loss: 0.0000e+00 - Empty_vs_Non_Empty_loss: 0.0000e+00\n",
      "Epoch 8/10\n",
      "63/63 [==============================] - 1s 8ms/step - loss: 0.1963 - center_vs_notincenter_loss: 0.0000e+00 - circle_vs_notcircle_loss: 0.0000e+00 - Closed_vs_Open_figure_loss: 0.0000e+00 - Colinear_vs_Noncolinear_loss: 0.0000e+00 - Concave_vs_Convex_loss: 0.0000e+00 - Four_vs_notfour_side_loss: 0.0000e+00 - Triangle_vs_notTriangle_loss: 0.0000e+00 - Clockwise_vs_Anticlock_wise_loss: 0.0000e+00 - Left_vs_Right_loss: 0.1963 - Parallel_vs_perpendicular_loss: 0.0000e+00 - Filled_vs_Unfilled_loss: 0.0000e+00 - Complete_vs_Incomplete_loss: 0.0000e+00 - Intersect_vs_NonIntersect_loss: 0.0000e+00 - M_cluster_vs_N_clusters_loss: 0.0000e+00 - Above_vs_Below_loss: 0.0000e+00 - Same_vs_Not_Same_loss: 0.0000e+00 - Size_big_vs_Small_loss: 0.0000e+00 - Symmetery_vs_Non_symmetery_loss: 0.0000e+00 - Horizontal_vs_Vertical_loss: 0.0000e+00 - Empty_vs_Non_Empty_loss: 0.0000e+00\n",
      "Epoch 9/10\n",
      "63/63 [==============================] - 0s 8ms/step - loss: 0.1826 - center_vs_notincenter_loss: 0.0000e+00 - circle_vs_notcircle_loss: 0.0000e+00 - Closed_vs_Open_figure_loss: 0.0000e+00 - Colinear_vs_Noncolinear_loss: 0.0000e+00 - Concave_vs_Convex_loss: 0.0000e+00 - Four_vs_notfour_side_loss: 0.0000e+00 - Triangle_vs_notTriangle_loss: 0.0000e+00 - Clockwise_vs_Anticlock_wise_loss: 0.0000e+00 - Left_vs_Right_loss: 0.1826 - Parallel_vs_perpendicular_loss: 0.0000e+00 - Filled_vs_Unfilled_loss: 0.0000e+00 - Complete_vs_Incomplete_loss: 0.0000e+00 - Intersect_vs_NonIntersect_loss: 0.0000e+00 - M_cluster_vs_N_clusters_loss: 0.0000e+00 - Above_vs_Below_loss: 0.0000e+00 - Same_vs_Not_Same_loss: 0.0000e+00 - Size_big_vs_Small_loss: 0.0000e+00 - Symmetery_vs_Non_symmetery_loss: 0.0000e+00 - Horizontal_vs_Vertical_loss: 0.0000e+00 - Empty_vs_Non_Empty_loss: 0.0000e+00\n",
      "Epoch 10/10\n",
      "63/63 [==============================] - 0s 8ms/step - loss: 0.1713 - center_vs_notincenter_loss: 0.0000e+00 - circle_vs_notcircle_loss: 0.0000e+00 - Closed_vs_Open_figure_loss: 0.0000e+00 - Colinear_vs_Noncolinear_loss: 0.0000e+00 - Concave_vs_Convex_loss: 0.0000e+00 - Four_vs_notfour_side_loss: 0.0000e+00 - Triangle_vs_notTriangle_loss: 0.0000e+00 - Clockwise_vs_Anticlock_wise_loss: 0.0000e+00 - Left_vs_Right_loss: 0.1713 - Parallel_vs_perpendicular_loss: 0.0000e+00 - Filled_vs_Unfilled_loss: 0.0000e+00 - Complete_vs_Incomplete_loss: 0.0000e+00 - Intersect_vs_NonIntersect_loss: 0.0000e+00 - M_cluster_vs_N_clusters_loss: 0.0000e+00 - Above_vs_Below_loss: 0.0000e+00 - Same_vs_Not_Same_loss: 0.0000e+00 - Size_big_vs_Small_loss: 0.0000e+00 - Symmetery_vs_Non_symmetery_loss: 0.0000e+00 - Horizontal_vs_Vertical_loss: 0.0000e+00 - Empty_vs_Non_Empty_loss: 0.0000e+00\n",
      "16/16 [==============================] - 0s 3ms/step\n",
      "binary_predictions_head:  [0 1]\n",
      "Accuracy for Classifier C8: 0.942\n",
      "Final_test_accuracies till now:  [0.92, 0.95, 0.98, 0.93, 0.61, 0.55, 0.84, 0.68, 0.48, 0.94]\n"
     ]
    }
   ],
   "source": [
    "Model_histroy=model.fit(X[8], {output_names[8]: Y[8]}, epochs=10)\n",
    "\n",
    "Temp_var=check_accuracy1(C8_X_test,C8_y_test,8)\n",
    "Rounded_accuracy = round(Temp_var, 2)\n",
    "Final_test_accuracies.append(Rounded_accuracy)\n",
    "print(\"Final_test_accuracies till now: \",Final_test_accuracies)\n",
    "\n",
    "Training_loss=Model_history.history['loss']\n",
    "for i in range(10):\n",
    "  globals()[f'training_loss_epoch_{i}'].append(Training_loss[i])"
   ]
  },
  {
   "cell_type": "markdown",
   "id": "sOeVwE07N5mV",
   "metadata": {
    "id": "sOeVwE07N5mV"
   },
   "source": [
    "#### Head 9 checking"
   ]
  },
  {
   "cell_type": "code",
   "execution_count": 27,
   "id": "an_gA-5zN7La",
   "metadata": {
    "colab": {
     "base_uri": "https://localhost:8080/"
    },
    "id": "an_gA-5zN7La",
    "outputId": "fb7c845e-8c36-4686-c9f9-a68a2f559c76"
   },
   "outputs": [
    {
     "name": "stdout",
     "output_type": "stream",
     "text": [
      "Epoch 1/10\n"
     ]
    },
    {
     "name": "stderr",
     "output_type": "stream",
     "text": [
      "WARNING:tensorflow:Gradients do not exist for variables ['center_vs_notincenter/kernel:0', 'center_vs_notincenter/bias:0', 'circle_vs_notcircle/kernel:0', 'circle_vs_notcircle/bias:0', 'Closed_vs_Open_figure/kernel:0', 'Closed_vs_Open_figure/bias:0', 'Colinear_vs_Noncolinear/kernel:0', 'Colinear_vs_Noncolinear/bias:0', 'Concave_vs_Convex/kernel:0', 'Concave_vs_Convex/bias:0', 'Four_vs_notfour_side/kernel:0', 'Four_vs_notfour_side/bias:0', 'Triangle_vs_notTriangle/kernel:0', 'Triangle_vs_notTriangle/bias:0', 'Clockwise_vs_Anticlock_wise/kernel:0', 'Clockwise_vs_Anticlock_wise/bias:0', 'Left_vs_Right/kernel:0', 'Left_vs_Right/bias:0', 'Filled_vs_Unfilled/kernel:0', 'Filled_vs_Unfilled/bias:0', 'Complete_vs_Incomplete/kernel:0', 'Complete_vs_Incomplete/bias:0', 'Intersect_vs_NonIntersect/kernel:0', 'Intersect_vs_NonIntersect/bias:0', 'M_cluster_vs_N_clusters/kernel:0', 'M_cluster_vs_N_clusters/bias:0', 'Above_vs_Below/kernel:0', 'Above_vs_Below/bias:0', 'Same_vs_Not_Same/kernel:0', 'Same_vs_Not_Same/bias:0', 'Size_big_vs_Small/kernel:0', 'Size_big_vs_Small/bias:0', 'Symmetery_vs_Non_symmetery/kernel:0', 'Symmetery_vs_Non_symmetery/bias:0', 'Horizontal_vs_Vertical/kernel:0', 'Horizontal_vs_Vertical/bias:0', 'Empty_vs_Non_Empty/kernel:0', 'Empty_vs_Non_Empty/bias:0'] when minimizing the loss. If you're using `model.compile()`, did you forget to provide a `loss` argument?\n",
      "WARNING:tensorflow:Gradients do not exist for variables ['center_vs_notincenter/kernel:0', 'center_vs_notincenter/bias:0', 'circle_vs_notcircle/kernel:0', 'circle_vs_notcircle/bias:0', 'Closed_vs_Open_figure/kernel:0', 'Closed_vs_Open_figure/bias:0', 'Colinear_vs_Noncolinear/kernel:0', 'Colinear_vs_Noncolinear/bias:0', 'Concave_vs_Convex/kernel:0', 'Concave_vs_Convex/bias:0', 'Four_vs_notfour_side/kernel:0', 'Four_vs_notfour_side/bias:0', 'Triangle_vs_notTriangle/kernel:0', 'Triangle_vs_notTriangle/bias:0', 'Clockwise_vs_Anticlock_wise/kernel:0', 'Clockwise_vs_Anticlock_wise/bias:0', 'Left_vs_Right/kernel:0', 'Left_vs_Right/bias:0', 'Filled_vs_Unfilled/kernel:0', 'Filled_vs_Unfilled/bias:0', 'Complete_vs_Incomplete/kernel:0', 'Complete_vs_Incomplete/bias:0', 'Intersect_vs_NonIntersect/kernel:0', 'Intersect_vs_NonIntersect/bias:0', 'M_cluster_vs_N_clusters/kernel:0', 'M_cluster_vs_N_clusters/bias:0', 'Above_vs_Below/kernel:0', 'Above_vs_Below/bias:0', 'Same_vs_Not_Same/kernel:0', 'Same_vs_Not_Same/bias:0', 'Size_big_vs_Small/kernel:0', 'Size_big_vs_Small/bias:0', 'Symmetery_vs_Non_symmetery/kernel:0', 'Symmetery_vs_Non_symmetery/bias:0', 'Horizontal_vs_Vertical/kernel:0', 'Horizontal_vs_Vertical/bias:0', 'Empty_vs_Non_Empty/kernel:0', 'Empty_vs_Non_Empty/bias:0'] when minimizing the loss. If you're using `model.compile()`, did you forget to provide a `loss` argument?\n"
     ]
    },
    {
     "name": "stdout",
     "output_type": "stream",
     "text": [
      "25/25 [==============================] - 1s 7ms/step - loss: 0.9016 - center_vs_notincenter_loss: 0.0000e+00 - circle_vs_notcircle_loss: 0.0000e+00 - Closed_vs_Open_figure_loss: 0.0000e+00 - Colinear_vs_Noncolinear_loss: 0.0000e+00 - Concave_vs_Convex_loss: 0.0000e+00 - Four_vs_notfour_side_loss: 0.0000e+00 - Triangle_vs_notTriangle_loss: 0.0000e+00 - Clockwise_vs_Anticlock_wise_loss: 0.0000e+00 - Left_vs_Right_loss: 0.0000e+00 - Parallel_vs_perpendicular_loss: 0.9016 - Filled_vs_Unfilled_loss: 0.0000e+00 - Complete_vs_Incomplete_loss: 0.0000e+00 - Intersect_vs_NonIntersect_loss: 0.0000e+00 - M_cluster_vs_N_clusters_loss: 0.0000e+00 - Above_vs_Below_loss: 0.0000e+00 - Same_vs_Not_Same_loss: 0.0000e+00 - Size_big_vs_Small_loss: 0.0000e+00 - Symmetery_vs_Non_symmetery_loss: 0.0000e+00 - Horizontal_vs_Vertical_loss: 0.0000e+00 - Empty_vs_Non_Empty_loss: 0.0000e+00\n",
      "Epoch 2/10\n",
      "25/25 [==============================] - 0s 7ms/step - loss: 0.6892 - center_vs_notincenter_loss: 0.0000e+00 - circle_vs_notcircle_loss: 0.0000e+00 - Closed_vs_Open_figure_loss: 0.0000e+00 - Colinear_vs_Noncolinear_loss: 0.0000e+00 - Concave_vs_Convex_loss: 0.0000e+00 - Four_vs_notfour_side_loss: 0.0000e+00 - Triangle_vs_notTriangle_loss: 0.0000e+00 - Clockwise_vs_Anticlock_wise_loss: 0.0000e+00 - Left_vs_Right_loss: 0.0000e+00 - Parallel_vs_perpendicular_loss: 0.6892 - Filled_vs_Unfilled_loss: 0.0000e+00 - Complete_vs_Incomplete_loss: 0.0000e+00 - Intersect_vs_NonIntersect_loss: 0.0000e+00 - M_cluster_vs_N_clusters_loss: 0.0000e+00 - Above_vs_Below_loss: 0.0000e+00 - Same_vs_Not_Same_loss: 0.0000e+00 - Size_big_vs_Small_loss: 0.0000e+00 - Symmetery_vs_Non_symmetery_loss: 0.0000e+00 - Horizontal_vs_Vertical_loss: 0.0000e+00 - Empty_vs_Non_Empty_loss: 0.0000e+00\n",
      "Epoch 3/10\n",
      "25/25 [==============================] - 0s 7ms/step - loss: 0.6858 - center_vs_notincenter_loss: 0.0000e+00 - circle_vs_notcircle_loss: 0.0000e+00 - Closed_vs_Open_figure_loss: 0.0000e+00 - Colinear_vs_Noncolinear_loss: 0.0000e+00 - Concave_vs_Convex_loss: 0.0000e+00 - Four_vs_notfour_side_loss: 0.0000e+00 - Triangle_vs_notTriangle_loss: 0.0000e+00 - Clockwise_vs_Anticlock_wise_loss: 0.0000e+00 - Left_vs_Right_loss: 0.0000e+00 - Parallel_vs_perpendicular_loss: 0.6858 - Filled_vs_Unfilled_loss: 0.0000e+00 - Complete_vs_Incomplete_loss: 0.0000e+00 - Intersect_vs_NonIntersect_loss: 0.0000e+00 - M_cluster_vs_N_clusters_loss: 0.0000e+00 - Above_vs_Below_loss: 0.0000e+00 - Same_vs_Not_Same_loss: 0.0000e+00 - Size_big_vs_Small_loss: 0.0000e+00 - Symmetery_vs_Non_symmetery_loss: 0.0000e+00 - Horizontal_vs_Vertical_loss: 0.0000e+00 - Empty_vs_Non_Empty_loss: 0.0000e+00\n",
      "Epoch 4/10\n",
      "25/25 [==============================] - 0s 7ms/step - loss: 0.6811 - center_vs_notincenter_loss: 0.0000e+00 - circle_vs_notcircle_loss: 0.0000e+00 - Closed_vs_Open_figure_loss: 0.0000e+00 - Colinear_vs_Noncolinear_loss: 0.0000e+00 - Concave_vs_Convex_loss: 0.0000e+00 - Four_vs_notfour_side_loss: 0.0000e+00 - Triangle_vs_notTriangle_loss: 0.0000e+00 - Clockwise_vs_Anticlock_wise_loss: 0.0000e+00 - Left_vs_Right_loss: 0.0000e+00 - Parallel_vs_perpendicular_loss: 0.6811 - Filled_vs_Unfilled_loss: 0.0000e+00 - Complete_vs_Incomplete_loss: 0.0000e+00 - Intersect_vs_NonIntersect_loss: 0.0000e+00 - M_cluster_vs_N_clusters_loss: 0.0000e+00 - Above_vs_Below_loss: 0.0000e+00 - Same_vs_Not_Same_loss: 0.0000e+00 - Size_big_vs_Small_loss: 0.0000e+00 - Symmetery_vs_Non_symmetery_loss: 0.0000e+00 - Horizontal_vs_Vertical_loss: 0.0000e+00 - Empty_vs_Non_Empty_loss: 0.0000e+00\n",
      "Epoch 5/10\n",
      "25/25 [==============================] - 0s 7ms/step - loss: 0.6638 - center_vs_notincenter_loss: 0.0000e+00 - circle_vs_notcircle_loss: 0.0000e+00 - Closed_vs_Open_figure_loss: 0.0000e+00 - Colinear_vs_Noncolinear_loss: 0.0000e+00 - Concave_vs_Convex_loss: 0.0000e+00 - Four_vs_notfour_side_loss: 0.0000e+00 - Triangle_vs_notTriangle_loss: 0.0000e+00 - Clockwise_vs_Anticlock_wise_loss: 0.0000e+00 - Left_vs_Right_loss: 0.0000e+00 - Parallel_vs_perpendicular_loss: 0.6638 - Filled_vs_Unfilled_loss: 0.0000e+00 - Complete_vs_Incomplete_loss: 0.0000e+00 - Intersect_vs_NonIntersect_loss: 0.0000e+00 - M_cluster_vs_N_clusters_loss: 0.0000e+00 - Above_vs_Below_loss: 0.0000e+00 - Same_vs_Not_Same_loss: 0.0000e+00 - Size_big_vs_Small_loss: 0.0000e+00 - Symmetery_vs_Non_symmetery_loss: 0.0000e+00 - Horizontal_vs_Vertical_loss: 0.0000e+00 - Empty_vs_Non_Empty_loss: 0.0000e+00\n",
      "Epoch 6/10\n",
      "25/25 [==============================] - 0s 7ms/step - loss: 0.6218 - center_vs_notincenter_loss: 0.0000e+00 - circle_vs_notcircle_loss: 0.0000e+00 - Closed_vs_Open_figure_loss: 0.0000e+00 - Colinear_vs_Noncolinear_loss: 0.0000e+00 - Concave_vs_Convex_loss: 0.0000e+00 - Four_vs_notfour_side_loss: 0.0000e+00 - Triangle_vs_notTriangle_loss: 0.0000e+00 - Clockwise_vs_Anticlock_wise_loss: 0.0000e+00 - Left_vs_Right_loss: 0.0000e+00 - Parallel_vs_perpendicular_loss: 0.6218 - Filled_vs_Unfilled_loss: 0.0000e+00 - Complete_vs_Incomplete_loss: 0.0000e+00 - Intersect_vs_NonIntersect_loss: 0.0000e+00 - M_cluster_vs_N_clusters_loss: 0.0000e+00 - Above_vs_Below_loss: 0.0000e+00 - Same_vs_Not_Same_loss: 0.0000e+00 - Size_big_vs_Small_loss: 0.0000e+00 - Symmetery_vs_Non_symmetery_loss: 0.0000e+00 - Horizontal_vs_Vertical_loss: 0.0000e+00 - Empty_vs_Non_Empty_loss: 0.0000e+00\n",
      "Epoch 7/10\n",
      "25/25 [==============================] - 0s 7ms/step - loss: 0.5818 - center_vs_notincenter_loss: 0.0000e+00 - circle_vs_notcircle_loss: 0.0000e+00 - Closed_vs_Open_figure_loss: 0.0000e+00 - Colinear_vs_Noncolinear_loss: 0.0000e+00 - Concave_vs_Convex_loss: 0.0000e+00 - Four_vs_notfour_side_loss: 0.0000e+00 - Triangle_vs_notTriangle_loss: 0.0000e+00 - Clockwise_vs_Anticlock_wise_loss: 0.0000e+00 - Left_vs_Right_loss: 0.0000e+00 - Parallel_vs_perpendicular_loss: 0.5818 - Filled_vs_Unfilled_loss: 0.0000e+00 - Complete_vs_Incomplete_loss: 0.0000e+00 - Intersect_vs_NonIntersect_loss: 0.0000e+00 - M_cluster_vs_N_clusters_loss: 0.0000e+00 - Above_vs_Below_loss: 0.0000e+00 - Same_vs_Not_Same_loss: 0.0000e+00 - Size_big_vs_Small_loss: 0.0000e+00 - Symmetery_vs_Non_symmetery_loss: 0.0000e+00 - Horizontal_vs_Vertical_loss: 0.0000e+00 - Empty_vs_Non_Empty_loss: 0.0000e+00\n",
      "Epoch 8/10\n",
      "25/25 [==============================] - 0s 7ms/step - loss: 0.5338 - center_vs_notincenter_loss: 0.0000e+00 - circle_vs_notcircle_loss: 0.0000e+00 - Closed_vs_Open_figure_loss: 0.0000e+00 - Colinear_vs_Noncolinear_loss: 0.0000e+00 - Concave_vs_Convex_loss: 0.0000e+00 - Four_vs_notfour_side_loss: 0.0000e+00 - Triangle_vs_notTriangle_loss: 0.0000e+00 - Clockwise_vs_Anticlock_wise_loss: 0.0000e+00 - Left_vs_Right_loss: 0.0000e+00 - Parallel_vs_perpendicular_loss: 0.5338 - Filled_vs_Unfilled_loss: 0.0000e+00 - Complete_vs_Incomplete_loss: 0.0000e+00 - Intersect_vs_NonIntersect_loss: 0.0000e+00 - M_cluster_vs_N_clusters_loss: 0.0000e+00 - Above_vs_Below_loss: 0.0000e+00 - Same_vs_Not_Same_loss: 0.0000e+00 - Size_big_vs_Small_loss: 0.0000e+00 - Symmetery_vs_Non_symmetery_loss: 0.0000e+00 - Horizontal_vs_Vertical_loss: 0.0000e+00 - Empty_vs_Non_Empty_loss: 0.0000e+00\n",
      "Epoch 9/10\n",
      "25/25 [==============================] - 0s 7ms/step - loss: 0.4764 - center_vs_notincenter_loss: 0.0000e+00 - circle_vs_notcircle_loss: 0.0000e+00 - Closed_vs_Open_figure_loss: 0.0000e+00 - Colinear_vs_Noncolinear_loss: 0.0000e+00 - Concave_vs_Convex_loss: 0.0000e+00 - Four_vs_notfour_side_loss: 0.0000e+00 - Triangle_vs_notTriangle_loss: 0.0000e+00 - Clockwise_vs_Anticlock_wise_loss: 0.0000e+00 - Left_vs_Right_loss: 0.0000e+00 - Parallel_vs_perpendicular_loss: 0.4764 - Filled_vs_Unfilled_loss: 0.0000e+00 - Complete_vs_Incomplete_loss: 0.0000e+00 - Intersect_vs_NonIntersect_loss: 0.0000e+00 - M_cluster_vs_N_clusters_loss: 0.0000e+00 - Above_vs_Below_loss: 0.0000e+00 - Same_vs_Not_Same_loss: 0.0000e+00 - Size_big_vs_Small_loss: 0.0000e+00 - Symmetery_vs_Non_symmetery_loss: 0.0000e+00 - Horizontal_vs_Vertical_loss: 0.0000e+00 - Empty_vs_Non_Empty_loss: 0.0000e+00\n",
      "Epoch 10/10\n",
      "25/25 [==============================] - 0s 7ms/step - loss: 0.4281 - center_vs_notincenter_loss: 0.0000e+00 - circle_vs_notcircle_loss: 0.0000e+00 - Closed_vs_Open_figure_loss: 0.0000e+00 - Colinear_vs_Noncolinear_loss: 0.0000e+00 - Concave_vs_Convex_loss: 0.0000e+00 - Four_vs_notfour_side_loss: 0.0000e+00 - Triangle_vs_notTriangle_loss: 0.0000e+00 - Clockwise_vs_Anticlock_wise_loss: 0.0000e+00 - Left_vs_Right_loss: 0.0000e+00 - Parallel_vs_perpendicular_loss: 0.4281 - Filled_vs_Unfilled_loss: 0.0000e+00 - Complete_vs_Incomplete_loss: 0.0000e+00 - Intersect_vs_NonIntersect_loss: 0.0000e+00 - M_cluster_vs_N_clusters_loss: 0.0000e+00 - Above_vs_Below_loss: 0.0000e+00 - Same_vs_Not_Same_loss: 0.0000e+00 - Size_big_vs_Small_loss: 0.0000e+00 - Symmetery_vs_Non_symmetery_loss: 0.0000e+00 - Horizontal_vs_Vertical_loss: 0.0000e+00 - Empty_vs_Non_Empty_loss: 0.0000e+00\n",
      "7/7 [==============================] - 0s 11ms/step\n",
      "binary_predictions_head:  [0 1]\n",
      "Accuracy for Classifier C9: 0.545\n",
      "Final_test_accuracies till now:  [0.92, 0.95, 0.98, 0.93, 0.61, 0.55, 0.84, 0.68, 0.48, 0.94, 0.55]\n"
     ]
    }
   ],
   "source": [
    "Model_history=model.fit(X[9], {output_names[9]: Y[9]}, epochs=10)\n",
    "\n",
    "Temp_var=check_accuracy1(C9_X_test,C9_y_test,9)\n",
    "Rounded_accuracy = round(Temp_var, 2)\n",
    "Final_test_accuracies.append(Rounded_accuracy)\n",
    "print(\"Final_test_accuracies till now: \",Final_test_accuracies)\n",
    "\n",
    "Training_loss=Model_history.history['loss']\n",
    "for i in range(10):\n",
    "  globals()[f'training_loss_epoch_{i}'].append(Training_loss[i])"
   ]
  },
  {
   "cell_type": "markdown",
   "id": "Hc0j2E5CN_Pb",
   "metadata": {
    "id": "Hc0j2E5CN_Pb"
   },
   "source": [
    "#### Head 10 checking"
   ]
  },
  {
   "cell_type": "code",
   "execution_count": 28,
   "id": "91zbby-bOBWE",
   "metadata": {
    "colab": {
     "base_uri": "https://localhost:8080/"
    },
    "id": "91zbby-bOBWE",
    "outputId": "fdb54c15-909c-457d-d8b3-a5d04158d5e4"
   },
   "outputs": [
    {
     "name": "stdout",
     "output_type": "stream",
     "text": [
      "Epoch 1/10\n"
     ]
    },
    {
     "name": "stderr",
     "output_type": "stream",
     "text": [
      "WARNING:tensorflow:Gradients do not exist for variables ['center_vs_notincenter/kernel:0', 'center_vs_notincenter/bias:0', 'circle_vs_notcircle/kernel:0', 'circle_vs_notcircle/bias:0', 'Closed_vs_Open_figure/kernel:0', 'Closed_vs_Open_figure/bias:0', 'Colinear_vs_Noncolinear/kernel:0', 'Colinear_vs_Noncolinear/bias:0', 'Concave_vs_Convex/kernel:0', 'Concave_vs_Convex/bias:0', 'Four_vs_notfour_side/kernel:0', 'Four_vs_notfour_side/bias:0', 'Triangle_vs_notTriangle/kernel:0', 'Triangle_vs_notTriangle/bias:0', 'Clockwise_vs_Anticlock_wise/kernel:0', 'Clockwise_vs_Anticlock_wise/bias:0', 'Left_vs_Right/kernel:0', 'Left_vs_Right/bias:0', 'Parallel_vs_perpendicular/kernel:0', 'Parallel_vs_perpendicular/bias:0', 'Complete_vs_Incomplete/kernel:0', 'Complete_vs_Incomplete/bias:0', 'Intersect_vs_NonIntersect/kernel:0', 'Intersect_vs_NonIntersect/bias:0', 'M_cluster_vs_N_clusters/kernel:0', 'M_cluster_vs_N_clusters/bias:0', 'Above_vs_Below/kernel:0', 'Above_vs_Below/bias:0', 'Same_vs_Not_Same/kernel:0', 'Same_vs_Not_Same/bias:0', 'Size_big_vs_Small/kernel:0', 'Size_big_vs_Small/bias:0', 'Symmetery_vs_Non_symmetery/kernel:0', 'Symmetery_vs_Non_symmetery/bias:0', 'Horizontal_vs_Vertical/kernel:0', 'Horizontal_vs_Vertical/bias:0', 'Empty_vs_Non_Empty/kernel:0', 'Empty_vs_Non_Empty/bias:0'] when minimizing the loss. If you're using `model.compile()`, did you forget to provide a `loss` argument?\n",
      "WARNING:tensorflow:Gradients do not exist for variables ['center_vs_notincenter/kernel:0', 'center_vs_notincenter/bias:0', 'circle_vs_notcircle/kernel:0', 'circle_vs_notcircle/bias:0', 'Closed_vs_Open_figure/kernel:0', 'Closed_vs_Open_figure/bias:0', 'Colinear_vs_Noncolinear/kernel:0', 'Colinear_vs_Noncolinear/bias:0', 'Concave_vs_Convex/kernel:0', 'Concave_vs_Convex/bias:0', 'Four_vs_notfour_side/kernel:0', 'Four_vs_notfour_side/bias:0', 'Triangle_vs_notTriangle/kernel:0', 'Triangle_vs_notTriangle/bias:0', 'Clockwise_vs_Anticlock_wise/kernel:0', 'Clockwise_vs_Anticlock_wise/bias:0', 'Left_vs_Right/kernel:0', 'Left_vs_Right/bias:0', 'Parallel_vs_perpendicular/kernel:0', 'Parallel_vs_perpendicular/bias:0', 'Complete_vs_Incomplete/kernel:0', 'Complete_vs_Incomplete/bias:0', 'Intersect_vs_NonIntersect/kernel:0', 'Intersect_vs_NonIntersect/bias:0', 'M_cluster_vs_N_clusters/kernel:0', 'M_cluster_vs_N_clusters/bias:0', 'Above_vs_Below/kernel:0', 'Above_vs_Below/bias:0', 'Same_vs_Not_Same/kernel:0', 'Same_vs_Not_Same/bias:0', 'Size_big_vs_Small/kernel:0', 'Size_big_vs_Small/bias:0', 'Symmetery_vs_Non_symmetery/kernel:0', 'Symmetery_vs_Non_symmetery/bias:0', 'Horizontal_vs_Vertical/kernel:0', 'Horizontal_vs_Vertical/bias:0', 'Empty_vs_Non_Empty/kernel:0', 'Empty_vs_Non_Empty/bias:0'] when minimizing the loss. If you're using `model.compile()`, did you forget to provide a `loss` argument?\n"
     ]
    },
    {
     "name": "stdout",
     "output_type": "stream",
     "text": [
      "55/55 [==============================] - 1s 7ms/step - loss: 0.8014 - center_vs_notincenter_loss: 0.0000e+00 - circle_vs_notcircle_loss: 0.0000e+00 - Closed_vs_Open_figure_loss: 0.0000e+00 - Colinear_vs_Noncolinear_loss: 0.0000e+00 - Concave_vs_Convex_loss: 0.0000e+00 - Four_vs_notfour_side_loss: 0.0000e+00 - Triangle_vs_notTriangle_loss: 0.0000e+00 - Clockwise_vs_Anticlock_wise_loss: 0.0000e+00 - Left_vs_Right_loss: 0.0000e+00 - Parallel_vs_perpendicular_loss: 0.0000e+00 - Filled_vs_Unfilled_loss: 0.8014 - Complete_vs_Incomplete_loss: 0.0000e+00 - Intersect_vs_NonIntersect_loss: 0.0000e+00 - M_cluster_vs_N_clusters_loss: 0.0000e+00 - Above_vs_Below_loss: 0.0000e+00 - Same_vs_Not_Same_loss: 0.0000e+00 - Size_big_vs_Small_loss: 0.0000e+00 - Symmetery_vs_Non_symmetery_loss: 0.0000e+00 - Horizontal_vs_Vertical_loss: 0.0000e+00 - Empty_vs_Non_Empty_loss: 0.0000e+00\n",
      "Epoch 2/10\n",
      "55/55 [==============================] - 0s 7ms/step - loss: 0.5464 - center_vs_notincenter_loss: 0.0000e+00 - circle_vs_notcircle_loss: 0.0000e+00 - Closed_vs_Open_figure_loss: 0.0000e+00 - Colinear_vs_Noncolinear_loss: 0.0000e+00 - Concave_vs_Convex_loss: 0.0000e+00 - Four_vs_notfour_side_loss: 0.0000e+00 - Triangle_vs_notTriangle_loss: 0.0000e+00 - Clockwise_vs_Anticlock_wise_loss: 0.0000e+00 - Left_vs_Right_loss: 0.0000e+00 - Parallel_vs_perpendicular_loss: 0.0000e+00 - Filled_vs_Unfilled_loss: 0.5464 - Complete_vs_Incomplete_loss: 0.0000e+00 - Intersect_vs_NonIntersect_loss: 0.0000e+00 - M_cluster_vs_N_clusters_loss: 0.0000e+00 - Above_vs_Below_loss: 0.0000e+00 - Same_vs_Not_Same_loss: 0.0000e+00 - Size_big_vs_Small_loss: 0.0000e+00 - Symmetery_vs_Non_symmetery_loss: 0.0000e+00 - Horizontal_vs_Vertical_loss: 0.0000e+00 - Empty_vs_Non_Empty_loss: 0.0000e+00\n",
      "Epoch 3/10\n",
      "55/55 [==============================] - 0s 7ms/step - loss: 0.5336 - center_vs_notincenter_loss: 0.0000e+00 - circle_vs_notcircle_loss: 0.0000e+00 - Closed_vs_Open_figure_loss: 0.0000e+00 - Colinear_vs_Noncolinear_loss: 0.0000e+00 - Concave_vs_Convex_loss: 0.0000e+00 - Four_vs_notfour_side_loss: 0.0000e+00 - Triangle_vs_notTriangle_loss: 0.0000e+00 - Clockwise_vs_Anticlock_wise_loss: 0.0000e+00 - Left_vs_Right_loss: 0.0000e+00 - Parallel_vs_perpendicular_loss: 0.0000e+00 - Filled_vs_Unfilled_loss: 0.5336 - Complete_vs_Incomplete_loss: 0.0000e+00 - Intersect_vs_NonIntersect_loss: 0.0000e+00 - M_cluster_vs_N_clusters_loss: 0.0000e+00 - Above_vs_Below_loss: 0.0000e+00 - Same_vs_Not_Same_loss: 0.0000e+00 - Size_big_vs_Small_loss: 0.0000e+00 - Symmetery_vs_Non_symmetery_loss: 0.0000e+00 - Horizontal_vs_Vertical_loss: 0.0000e+00 - Empty_vs_Non_Empty_loss: 0.0000e+00\n",
      "Epoch 4/10\n",
      "55/55 [==============================] - 0s 7ms/step - loss: 0.5181 - center_vs_notincenter_loss: 0.0000e+00 - circle_vs_notcircle_loss: 0.0000e+00 - Closed_vs_Open_figure_loss: 0.0000e+00 - Colinear_vs_Noncolinear_loss: 0.0000e+00 - Concave_vs_Convex_loss: 0.0000e+00 - Four_vs_notfour_side_loss: 0.0000e+00 - Triangle_vs_notTriangle_loss: 0.0000e+00 - Clockwise_vs_Anticlock_wise_loss: 0.0000e+00 - Left_vs_Right_loss: 0.0000e+00 - Parallel_vs_perpendicular_loss: 0.0000e+00 - Filled_vs_Unfilled_loss: 0.5181 - Complete_vs_Incomplete_loss: 0.0000e+00 - Intersect_vs_NonIntersect_loss: 0.0000e+00 - M_cluster_vs_N_clusters_loss: 0.0000e+00 - Above_vs_Below_loss: 0.0000e+00 - Same_vs_Not_Same_loss: 0.0000e+00 - Size_big_vs_Small_loss: 0.0000e+00 - Symmetery_vs_Non_symmetery_loss: 0.0000e+00 - Horizontal_vs_Vertical_loss: 0.0000e+00 - Empty_vs_Non_Empty_loss: 0.0000e+00\n",
      "Epoch 5/10\n",
      "55/55 [==============================] - 0s 7ms/step - loss: 0.4747 - center_vs_notincenter_loss: 0.0000e+00 - circle_vs_notcircle_loss: 0.0000e+00 - Closed_vs_Open_figure_loss: 0.0000e+00 - Colinear_vs_Noncolinear_loss: 0.0000e+00 - Concave_vs_Convex_loss: 0.0000e+00 - Four_vs_notfour_side_loss: 0.0000e+00 - Triangle_vs_notTriangle_loss: 0.0000e+00 - Clockwise_vs_Anticlock_wise_loss: 0.0000e+00 - Left_vs_Right_loss: 0.0000e+00 - Parallel_vs_perpendicular_loss: 0.0000e+00 - Filled_vs_Unfilled_loss: 0.4747 - Complete_vs_Incomplete_loss: 0.0000e+00 - Intersect_vs_NonIntersect_loss: 0.0000e+00 - M_cluster_vs_N_clusters_loss: 0.0000e+00 - Above_vs_Below_loss: 0.0000e+00 - Same_vs_Not_Same_loss: 0.0000e+00 - Size_big_vs_Small_loss: 0.0000e+00 - Symmetery_vs_Non_symmetery_loss: 0.0000e+00 - Horizontal_vs_Vertical_loss: 0.0000e+00 - Empty_vs_Non_Empty_loss: 0.0000e+00\n",
      "Epoch 6/10\n",
      "55/55 [==============================] - 0s 7ms/step - loss: 0.4223 - center_vs_notincenter_loss: 0.0000e+00 - circle_vs_notcircle_loss: 0.0000e+00 - Closed_vs_Open_figure_loss: 0.0000e+00 - Colinear_vs_Noncolinear_loss: 0.0000e+00 - Concave_vs_Convex_loss: 0.0000e+00 - Four_vs_notfour_side_loss: 0.0000e+00 - Triangle_vs_notTriangle_loss: 0.0000e+00 - Clockwise_vs_Anticlock_wise_loss: 0.0000e+00 - Left_vs_Right_loss: 0.0000e+00 - Parallel_vs_perpendicular_loss: 0.0000e+00 - Filled_vs_Unfilled_loss: 0.4223 - Complete_vs_Incomplete_loss: 0.0000e+00 - Intersect_vs_NonIntersect_loss: 0.0000e+00 - M_cluster_vs_N_clusters_loss: 0.0000e+00 - Above_vs_Below_loss: 0.0000e+00 - Same_vs_Not_Same_loss: 0.0000e+00 - Size_big_vs_Small_loss: 0.0000e+00 - Symmetery_vs_Non_symmetery_loss: 0.0000e+00 - Horizontal_vs_Vertical_loss: 0.0000e+00 - Empty_vs_Non_Empty_loss: 0.0000e+00\n",
      "Epoch 7/10\n",
      "55/55 [==============================] - 0s 8ms/step - loss: 0.3550 - center_vs_notincenter_loss: 0.0000e+00 - circle_vs_notcircle_loss: 0.0000e+00 - Closed_vs_Open_figure_loss: 0.0000e+00 - Colinear_vs_Noncolinear_loss: 0.0000e+00 - Concave_vs_Convex_loss: 0.0000e+00 - Four_vs_notfour_side_loss: 0.0000e+00 - Triangle_vs_notTriangle_loss: 0.0000e+00 - Clockwise_vs_Anticlock_wise_loss: 0.0000e+00 - Left_vs_Right_loss: 0.0000e+00 - Parallel_vs_perpendicular_loss: 0.0000e+00 - Filled_vs_Unfilled_loss: 0.3550 - Complete_vs_Incomplete_loss: 0.0000e+00 - Intersect_vs_NonIntersect_loss: 0.0000e+00 - M_cluster_vs_N_clusters_loss: 0.0000e+00 - Above_vs_Below_loss: 0.0000e+00 - Same_vs_Not_Same_loss: 0.0000e+00 - Size_big_vs_Small_loss: 0.0000e+00 - Symmetery_vs_Non_symmetery_loss: 0.0000e+00 - Horizontal_vs_Vertical_loss: 0.0000e+00 - Empty_vs_Non_Empty_loss: 0.0000e+00\n",
      "Epoch 8/10\n",
      "55/55 [==============================] - 0s 7ms/step - loss: 0.2640 - center_vs_notincenter_loss: 0.0000e+00 - circle_vs_notcircle_loss: 0.0000e+00 - Closed_vs_Open_figure_loss: 0.0000e+00 - Colinear_vs_Noncolinear_loss: 0.0000e+00 - Concave_vs_Convex_loss: 0.0000e+00 - Four_vs_notfour_side_loss: 0.0000e+00 - Triangle_vs_notTriangle_loss: 0.0000e+00 - Clockwise_vs_Anticlock_wise_loss: 0.0000e+00 - Left_vs_Right_loss: 0.0000e+00 - Parallel_vs_perpendicular_loss: 0.0000e+00 - Filled_vs_Unfilled_loss: 0.2640 - Complete_vs_Incomplete_loss: 0.0000e+00 - Intersect_vs_NonIntersect_loss: 0.0000e+00 - M_cluster_vs_N_clusters_loss: 0.0000e+00 - Above_vs_Below_loss: 0.0000e+00 - Same_vs_Not_Same_loss: 0.0000e+00 - Size_big_vs_Small_loss: 0.0000e+00 - Symmetery_vs_Non_symmetery_loss: 0.0000e+00 - Horizontal_vs_Vertical_loss: 0.0000e+00 - Empty_vs_Non_Empty_loss: 0.0000e+00\n",
      "Epoch 9/10\n",
      "55/55 [==============================] - 0s 7ms/step - loss: 0.1594 - center_vs_notincenter_loss: 0.0000e+00 - circle_vs_notcircle_loss: 0.0000e+00 - Closed_vs_Open_figure_loss: 0.0000e+00 - Colinear_vs_Noncolinear_loss: 0.0000e+00 - Concave_vs_Convex_loss: 0.0000e+00 - Four_vs_notfour_side_loss: 0.0000e+00 - Triangle_vs_notTriangle_loss: 0.0000e+00 - Clockwise_vs_Anticlock_wise_loss: 0.0000e+00 - Left_vs_Right_loss: 0.0000e+00 - Parallel_vs_perpendicular_loss: 0.0000e+00 - Filled_vs_Unfilled_loss: 0.1594 - Complete_vs_Incomplete_loss: 0.0000e+00 - Intersect_vs_NonIntersect_loss: 0.0000e+00 - M_cluster_vs_N_clusters_loss: 0.0000e+00 - Above_vs_Below_loss: 0.0000e+00 - Same_vs_Not_Same_loss: 0.0000e+00 - Size_big_vs_Small_loss: 0.0000e+00 - Symmetery_vs_Non_symmetery_loss: 0.0000e+00 - Horizontal_vs_Vertical_loss: 0.0000e+00 - Empty_vs_Non_Empty_loss: 0.0000e+00\n",
      "Epoch 10/10\n",
      "55/55 [==============================] - 0s 7ms/step - loss: 0.0935 - center_vs_notincenter_loss: 0.0000e+00 - circle_vs_notcircle_loss: 0.0000e+00 - Closed_vs_Open_figure_loss: 0.0000e+00 - Colinear_vs_Noncolinear_loss: 0.0000e+00 - Concave_vs_Convex_loss: 0.0000e+00 - Four_vs_notfour_side_loss: 0.0000e+00 - Triangle_vs_notTriangle_loss: 0.0000e+00 - Clockwise_vs_Anticlock_wise_loss: 0.0000e+00 - Left_vs_Right_loss: 0.0000e+00 - Parallel_vs_perpendicular_loss: 0.0000e+00 - Filled_vs_Unfilled_loss: 0.0935 - Complete_vs_Incomplete_loss: 0.0000e+00 - Intersect_vs_NonIntersect_loss: 0.0000e+00 - M_cluster_vs_N_clusters_loss: 0.0000e+00 - Above_vs_Below_loss: 0.0000e+00 - Same_vs_Not_Same_loss: 0.0000e+00 - Size_big_vs_Small_loss: 0.0000e+00 - Symmetery_vs_Non_symmetery_loss: 0.0000e+00 - Horizontal_vs_Vertical_loss: 0.0000e+00 - Empty_vs_Non_Empty_loss: 0.0000e+00\n",
      "14/14 [==============================] - 0s 3ms/step\n",
      "binary_predictions_head:  [0 1]\n",
      "Accuracy for Classifier C10: 0.7931818181818182\n",
      "Final_test_accuracies till now:  [0.92, 0.95, 0.98, 0.93, 0.61, 0.55, 0.84, 0.68, 0.48, 0.94, 0.55, 0.79]\n"
     ]
    }
   ],
   "source": [
    "Model_history=model.fit(X[10], {output_names[10]: Y[10]}, epochs=10)\n",
    "\n",
    "Temp_var=check_accuracy1(C10_X_test,C10_y_test,10)\n",
    "Rounded_accuracy = round(Temp_var, 2)\n",
    "Final_test_accuracies.append(Rounded_accuracy)\n",
    "print(\"Final_test_accuracies till now: \",Final_test_accuracies)\n",
    "\n",
    "Training_loss=Model_history.history['loss']\n",
    "for i in range(10):\n",
    "  globals()[f'training_loss_epoch_{i}'].append(Training_loss[i])"
   ]
  },
  {
   "cell_type": "markdown",
   "id": "GFGJga6nOGZn",
   "metadata": {
    "id": "GFGJga6nOGZn"
   },
   "source": [
    "#### Head 11 checking"
   ]
  },
  {
   "cell_type": "code",
   "execution_count": 29,
   "id": "X6N0zgo9OIfu",
   "metadata": {
    "colab": {
     "base_uri": "https://localhost:8080/"
    },
    "id": "X6N0zgo9OIfu",
    "outputId": "02f0baec-905a-4195-919a-df91c436e1a9"
   },
   "outputs": [
    {
     "name": "stdout",
     "output_type": "stream",
     "text": [
      "Epoch 1/10\n"
     ]
    },
    {
     "name": "stderr",
     "output_type": "stream",
     "text": [
      "WARNING:tensorflow:Gradients do not exist for variables ['center_vs_notincenter/kernel:0', 'center_vs_notincenter/bias:0', 'circle_vs_notcircle/kernel:0', 'circle_vs_notcircle/bias:0', 'Closed_vs_Open_figure/kernel:0', 'Closed_vs_Open_figure/bias:0', 'Colinear_vs_Noncolinear/kernel:0', 'Colinear_vs_Noncolinear/bias:0', 'Concave_vs_Convex/kernel:0', 'Concave_vs_Convex/bias:0', 'Four_vs_notfour_side/kernel:0', 'Four_vs_notfour_side/bias:0', 'Triangle_vs_notTriangle/kernel:0', 'Triangle_vs_notTriangle/bias:0', 'Clockwise_vs_Anticlock_wise/kernel:0', 'Clockwise_vs_Anticlock_wise/bias:0', 'Left_vs_Right/kernel:0', 'Left_vs_Right/bias:0', 'Parallel_vs_perpendicular/kernel:0', 'Parallel_vs_perpendicular/bias:0', 'Filled_vs_Unfilled/kernel:0', 'Filled_vs_Unfilled/bias:0', 'Intersect_vs_NonIntersect/kernel:0', 'Intersect_vs_NonIntersect/bias:0', 'M_cluster_vs_N_clusters/kernel:0', 'M_cluster_vs_N_clusters/bias:0', 'Above_vs_Below/kernel:0', 'Above_vs_Below/bias:0', 'Same_vs_Not_Same/kernel:0', 'Same_vs_Not_Same/bias:0', 'Size_big_vs_Small/kernel:0', 'Size_big_vs_Small/bias:0', 'Symmetery_vs_Non_symmetery/kernel:0', 'Symmetery_vs_Non_symmetery/bias:0', 'Horizontal_vs_Vertical/kernel:0', 'Horizontal_vs_Vertical/bias:0', 'Empty_vs_Non_Empty/kernel:0', 'Empty_vs_Non_Empty/bias:0'] when minimizing the loss. If you're using `model.compile()`, did you forget to provide a `loss` argument?\n",
      "WARNING:tensorflow:Gradients do not exist for variables ['center_vs_notincenter/kernel:0', 'center_vs_notincenter/bias:0', 'circle_vs_notcircle/kernel:0', 'circle_vs_notcircle/bias:0', 'Closed_vs_Open_figure/kernel:0', 'Closed_vs_Open_figure/bias:0', 'Colinear_vs_Noncolinear/kernel:0', 'Colinear_vs_Noncolinear/bias:0', 'Concave_vs_Convex/kernel:0', 'Concave_vs_Convex/bias:0', 'Four_vs_notfour_side/kernel:0', 'Four_vs_notfour_side/bias:0', 'Triangle_vs_notTriangle/kernel:0', 'Triangle_vs_notTriangle/bias:0', 'Clockwise_vs_Anticlock_wise/kernel:0', 'Clockwise_vs_Anticlock_wise/bias:0', 'Left_vs_Right/kernel:0', 'Left_vs_Right/bias:0', 'Parallel_vs_perpendicular/kernel:0', 'Parallel_vs_perpendicular/bias:0', 'Filled_vs_Unfilled/kernel:0', 'Filled_vs_Unfilled/bias:0', 'Intersect_vs_NonIntersect/kernel:0', 'Intersect_vs_NonIntersect/bias:0', 'M_cluster_vs_N_clusters/kernel:0', 'M_cluster_vs_N_clusters/bias:0', 'Above_vs_Below/kernel:0', 'Above_vs_Below/bias:0', 'Same_vs_Not_Same/kernel:0', 'Same_vs_Not_Same/bias:0', 'Size_big_vs_Small/kernel:0', 'Size_big_vs_Small/bias:0', 'Symmetery_vs_Non_symmetery/kernel:0', 'Symmetery_vs_Non_symmetery/bias:0', 'Horizontal_vs_Vertical/kernel:0', 'Horizontal_vs_Vertical/bias:0', 'Empty_vs_Non_Empty/kernel:0', 'Empty_vs_Non_Empty/bias:0'] when minimizing the loss. If you're using `model.compile()`, did you forget to provide a `loss` argument?\n"
     ]
    },
    {
     "name": "stdout",
     "output_type": "stream",
     "text": [
      "100/100 [==============================] - 2s 7ms/step - loss: 0.6431 - center_vs_notincenter_loss: 0.0000e+00 - circle_vs_notcircle_loss: 0.0000e+00 - Closed_vs_Open_figure_loss: 0.0000e+00 - Colinear_vs_Noncolinear_loss: 0.0000e+00 - Concave_vs_Convex_loss: 0.0000e+00 - Four_vs_notfour_side_loss: 0.0000e+00 - Triangle_vs_notTriangle_loss: 0.0000e+00 - Clockwise_vs_Anticlock_wise_loss: 0.0000e+00 - Left_vs_Right_loss: 0.0000e+00 - Parallel_vs_perpendicular_loss: 0.0000e+00 - Filled_vs_Unfilled_loss: 0.0000e+00 - Complete_vs_Incomplete_loss: 0.6431 - Intersect_vs_NonIntersect_loss: 0.0000e+00 - M_cluster_vs_N_clusters_loss: 0.0000e+00 - Above_vs_Below_loss: 0.0000e+00 - Same_vs_Not_Same_loss: 0.0000e+00 - Size_big_vs_Small_loss: 0.0000e+00 - Symmetery_vs_Non_symmetery_loss: 0.0000e+00 - Horizontal_vs_Vertical_loss: 0.0000e+00 - Empty_vs_Non_Empty_loss: 0.0000e+00\n",
      "Epoch 2/10\n",
      "100/100 [==============================] - 1s 7ms/step - loss: 0.4737 - center_vs_notincenter_loss: 0.0000e+00 - circle_vs_notcircle_loss: 0.0000e+00 - Closed_vs_Open_figure_loss: 0.0000e+00 - Colinear_vs_Noncolinear_loss: 0.0000e+00 - Concave_vs_Convex_loss: 0.0000e+00 - Four_vs_notfour_side_loss: 0.0000e+00 - Triangle_vs_notTriangle_loss: 0.0000e+00 - Clockwise_vs_Anticlock_wise_loss: 0.0000e+00 - Left_vs_Right_loss: 0.0000e+00 - Parallel_vs_perpendicular_loss: 0.0000e+00 - Filled_vs_Unfilled_loss: 0.0000e+00 - Complete_vs_Incomplete_loss: 0.4737 - Intersect_vs_NonIntersect_loss: 0.0000e+00 - M_cluster_vs_N_clusters_loss: 0.0000e+00 - Above_vs_Below_loss: 0.0000e+00 - Same_vs_Not_Same_loss: 0.0000e+00 - Size_big_vs_Small_loss: 0.0000e+00 - Symmetery_vs_Non_symmetery_loss: 0.0000e+00 - Horizontal_vs_Vertical_loss: 0.0000e+00 - Empty_vs_Non_Empty_loss: 0.0000e+00\n",
      "Epoch 3/10\n",
      "100/100 [==============================] - 1s 7ms/step - loss: 0.3988 - center_vs_notincenter_loss: 0.0000e+00 - circle_vs_notcircle_loss: 0.0000e+00 - Closed_vs_Open_figure_loss: 0.0000e+00 - Colinear_vs_Noncolinear_loss: 0.0000e+00 - Concave_vs_Convex_loss: 0.0000e+00 - Four_vs_notfour_side_loss: 0.0000e+00 - Triangle_vs_notTriangle_loss: 0.0000e+00 - Clockwise_vs_Anticlock_wise_loss: 0.0000e+00 - Left_vs_Right_loss: 0.0000e+00 - Parallel_vs_perpendicular_loss: 0.0000e+00 - Filled_vs_Unfilled_loss: 0.0000e+00 - Complete_vs_Incomplete_loss: 0.3988 - Intersect_vs_NonIntersect_loss: 0.0000e+00 - M_cluster_vs_N_clusters_loss: 0.0000e+00 - Above_vs_Below_loss: 0.0000e+00 - Same_vs_Not_Same_loss: 0.0000e+00 - Size_big_vs_Small_loss: 0.0000e+00 - Symmetery_vs_Non_symmetery_loss: 0.0000e+00 - Horizontal_vs_Vertical_loss: 0.0000e+00 - Empty_vs_Non_Empty_loss: 0.0000e+00\n",
      "Epoch 4/10\n",
      "100/100 [==============================] - 1s 7ms/step - loss: 0.3429 - center_vs_notincenter_loss: 0.0000e+00 - circle_vs_notcircle_loss: 0.0000e+00 - Closed_vs_Open_figure_loss: 0.0000e+00 - Colinear_vs_Noncolinear_loss: 0.0000e+00 - Concave_vs_Convex_loss: 0.0000e+00 - Four_vs_notfour_side_loss: 0.0000e+00 - Triangle_vs_notTriangle_loss: 0.0000e+00 - Clockwise_vs_Anticlock_wise_loss: 0.0000e+00 - Left_vs_Right_loss: 0.0000e+00 - Parallel_vs_perpendicular_loss: 0.0000e+00 - Filled_vs_Unfilled_loss: 0.0000e+00 - Complete_vs_Incomplete_loss: 0.3429 - Intersect_vs_NonIntersect_loss: 0.0000e+00 - M_cluster_vs_N_clusters_loss: 0.0000e+00 - Above_vs_Below_loss: 0.0000e+00 - Same_vs_Not_Same_loss: 0.0000e+00 - Size_big_vs_Small_loss: 0.0000e+00 - Symmetery_vs_Non_symmetery_loss: 0.0000e+00 - Horizontal_vs_Vertical_loss: 0.0000e+00 - Empty_vs_Non_Empty_loss: 0.0000e+00\n",
      "Epoch 5/10\n",
      "100/100 [==============================] - 1s 7ms/step - loss: 0.2878 - center_vs_notincenter_loss: 0.0000e+00 - circle_vs_notcircle_loss: 0.0000e+00 - Closed_vs_Open_figure_loss: 0.0000e+00 - Colinear_vs_Noncolinear_loss: 0.0000e+00 - Concave_vs_Convex_loss: 0.0000e+00 - Four_vs_notfour_side_loss: 0.0000e+00 - Triangle_vs_notTriangle_loss: 0.0000e+00 - Clockwise_vs_Anticlock_wise_loss: 0.0000e+00 - Left_vs_Right_loss: 0.0000e+00 - Parallel_vs_perpendicular_loss: 0.0000e+00 - Filled_vs_Unfilled_loss: 0.0000e+00 - Complete_vs_Incomplete_loss: 0.2878 - Intersect_vs_NonIntersect_loss: 0.0000e+00 - M_cluster_vs_N_clusters_loss: 0.0000e+00 - Above_vs_Below_loss: 0.0000e+00 - Same_vs_Not_Same_loss: 0.0000e+00 - Size_big_vs_Small_loss: 0.0000e+00 - Symmetery_vs_Non_symmetery_loss: 0.0000e+00 - Horizontal_vs_Vertical_loss: 0.0000e+00 - Empty_vs_Non_Empty_loss: 0.0000e+00\n",
      "Epoch 6/10\n",
      "100/100 [==============================] - 1s 7ms/step - loss: 0.2432 - center_vs_notincenter_loss: 0.0000e+00 - circle_vs_notcircle_loss: 0.0000e+00 - Closed_vs_Open_figure_loss: 0.0000e+00 - Colinear_vs_Noncolinear_loss: 0.0000e+00 - Concave_vs_Convex_loss: 0.0000e+00 - Four_vs_notfour_side_loss: 0.0000e+00 - Triangle_vs_notTriangle_loss: 0.0000e+00 - Clockwise_vs_Anticlock_wise_loss: 0.0000e+00 - Left_vs_Right_loss: 0.0000e+00 - Parallel_vs_perpendicular_loss: 0.0000e+00 - Filled_vs_Unfilled_loss: 0.0000e+00 - Complete_vs_Incomplete_loss: 0.2432 - Intersect_vs_NonIntersect_loss: 0.0000e+00 - M_cluster_vs_N_clusters_loss: 0.0000e+00 - Above_vs_Below_loss: 0.0000e+00 - Same_vs_Not_Same_loss: 0.0000e+00 - Size_big_vs_Small_loss: 0.0000e+00 - Symmetery_vs_Non_symmetery_loss: 0.0000e+00 - Horizontal_vs_Vertical_loss: 0.0000e+00 - Empty_vs_Non_Empty_loss: 0.0000e+00\n",
      "Epoch 7/10\n",
      "100/100 [==============================] - 1s 7ms/step - loss: 0.2149 - center_vs_notincenter_loss: 0.0000e+00 - circle_vs_notcircle_loss: 0.0000e+00 - Closed_vs_Open_figure_loss: 0.0000e+00 - Colinear_vs_Noncolinear_loss: 0.0000e+00 - Concave_vs_Convex_loss: 0.0000e+00 - Four_vs_notfour_side_loss: 0.0000e+00 - Triangle_vs_notTriangle_loss: 0.0000e+00 - Clockwise_vs_Anticlock_wise_loss: 0.0000e+00 - Left_vs_Right_loss: 0.0000e+00 - Parallel_vs_perpendicular_loss: 0.0000e+00 - Filled_vs_Unfilled_loss: 0.0000e+00 - Complete_vs_Incomplete_loss: 0.2149 - Intersect_vs_NonIntersect_loss: 0.0000e+00 - M_cluster_vs_N_clusters_loss: 0.0000e+00 - Above_vs_Below_loss: 0.0000e+00 - Same_vs_Not_Same_loss: 0.0000e+00 - Size_big_vs_Small_loss: 0.0000e+00 - Symmetery_vs_Non_symmetery_loss: 0.0000e+00 - Horizontal_vs_Vertical_loss: 0.0000e+00 - Empty_vs_Non_Empty_loss: 0.0000e+00\n",
      "Epoch 8/10\n",
      "100/100 [==============================] - 1s 7ms/step - loss: 0.1931 - center_vs_notincenter_loss: 0.0000e+00 - circle_vs_notcircle_loss: 0.0000e+00 - Closed_vs_Open_figure_loss: 0.0000e+00 - Colinear_vs_Noncolinear_loss: 0.0000e+00 - Concave_vs_Convex_loss: 0.0000e+00 - Four_vs_notfour_side_loss: 0.0000e+00 - Triangle_vs_notTriangle_loss: 0.0000e+00 - Clockwise_vs_Anticlock_wise_loss: 0.0000e+00 - Left_vs_Right_loss: 0.0000e+00 - Parallel_vs_perpendicular_loss: 0.0000e+00 - Filled_vs_Unfilled_loss: 0.0000e+00 - Complete_vs_Incomplete_loss: 0.1931 - Intersect_vs_NonIntersect_loss: 0.0000e+00 - M_cluster_vs_N_clusters_loss: 0.0000e+00 - Above_vs_Below_loss: 0.0000e+00 - Same_vs_Not_Same_loss: 0.0000e+00 - Size_big_vs_Small_loss: 0.0000e+00 - Symmetery_vs_Non_symmetery_loss: 0.0000e+00 - Horizontal_vs_Vertical_loss: 0.0000e+00 - Empty_vs_Non_Empty_loss: 0.0000e+00\n",
      "Epoch 9/10\n",
      "100/100 [==============================] - 1s 8ms/step - loss: 0.1795 - center_vs_notincenter_loss: 0.0000e+00 - circle_vs_notcircle_loss: 0.0000e+00 - Closed_vs_Open_figure_loss: 0.0000e+00 - Colinear_vs_Noncolinear_loss: 0.0000e+00 - Concave_vs_Convex_loss: 0.0000e+00 - Four_vs_notfour_side_loss: 0.0000e+00 - Triangle_vs_notTriangle_loss: 0.0000e+00 - Clockwise_vs_Anticlock_wise_loss: 0.0000e+00 - Left_vs_Right_loss: 0.0000e+00 - Parallel_vs_perpendicular_loss: 0.0000e+00 - Filled_vs_Unfilled_loss: 0.0000e+00 - Complete_vs_Incomplete_loss: 0.1795 - Intersect_vs_NonIntersect_loss: 0.0000e+00 - M_cluster_vs_N_clusters_loss: 0.0000e+00 - Above_vs_Below_loss: 0.0000e+00 - Same_vs_Not_Same_loss: 0.0000e+00 - Size_big_vs_Small_loss: 0.0000e+00 - Symmetery_vs_Non_symmetery_loss: 0.0000e+00 - Horizontal_vs_Vertical_loss: 0.0000e+00 - Empty_vs_Non_Empty_loss: 0.0000e+00\n",
      "Epoch 10/10\n",
      "100/100 [==============================] - 1s 7ms/step - loss: 0.1611 - center_vs_notincenter_loss: 0.0000e+00 - circle_vs_notcircle_loss: 0.0000e+00 - Closed_vs_Open_figure_loss: 0.0000e+00 - Colinear_vs_Noncolinear_loss: 0.0000e+00 - Concave_vs_Convex_loss: 0.0000e+00 - Four_vs_notfour_side_loss: 0.0000e+00 - Triangle_vs_notTriangle_loss: 0.0000e+00 - Clockwise_vs_Anticlock_wise_loss: 0.0000e+00 - Left_vs_Right_loss: 0.0000e+00 - Parallel_vs_perpendicular_loss: 0.0000e+00 - Filled_vs_Unfilled_loss: 0.0000e+00 - Complete_vs_Incomplete_loss: 0.1611 - Intersect_vs_NonIntersect_loss: 0.0000e+00 - M_cluster_vs_N_clusters_loss: 0.0000e+00 - Above_vs_Below_loss: 0.0000e+00 - Same_vs_Not_Same_loss: 0.0000e+00 - Size_big_vs_Small_loss: 0.0000e+00 - Symmetery_vs_Non_symmetery_loss: 0.0000e+00 - Horizontal_vs_Vertical_loss: 0.0000e+00 - Empty_vs_Non_Empty_loss: 0.0000e+00\n",
      "25/25 [==============================] - 0s 3ms/step\n",
      "binary_predictions_head:  [0 1]\n",
      "Accuracy for Classifier C11: 0.74\n",
      "Final_test_accuracies till now:  [0.92, 0.95, 0.98, 0.93, 0.61, 0.55, 0.84, 0.68, 0.48, 0.94, 0.55, 0.79, 0.74]\n"
     ]
    }
   ],
   "source": [
    "Model_history=model.fit(X[11], {output_names[11]: Y[11]}, epochs=10)\n",
    "\n",
    "Temp_var=check_accuracy1(C11_X_test,C11_y_test,11)\n",
    "Rounded_accuracy = round(Temp_var, 2)\n",
    "Final_test_accuracies.append(Rounded_accuracy)\n",
    "print(\"Final_test_accuracies till now: \",Final_test_accuracies)\n",
    "\n",
    "Training_loss=Model_history.history['loss']\n",
    "for i in range(10):\n",
    "  globals()[f'training_loss_epoch_{i}'].append(Training_loss[i])"
   ]
  },
  {
   "cell_type": "markdown",
   "id": "qJxK4WPWOUL6",
   "metadata": {
    "id": "qJxK4WPWOUL6"
   },
   "source": [
    "#### Head 12 checking"
   ]
  },
  {
   "cell_type": "code",
   "execution_count": 30,
   "id": "ETiXyTKPOWJ1",
   "metadata": {
    "colab": {
     "base_uri": "https://localhost:8080/"
    },
    "id": "ETiXyTKPOWJ1",
    "outputId": "164209dc-40d4-4317-89c2-fb9aeadae6b4"
   },
   "outputs": [
    {
     "name": "stdout",
     "output_type": "stream",
     "text": [
      "Epoch 1/10\n"
     ]
    },
    {
     "name": "stderr",
     "output_type": "stream",
     "text": [
      "WARNING:tensorflow:Gradients do not exist for variables ['center_vs_notincenter/kernel:0', 'center_vs_notincenter/bias:0', 'circle_vs_notcircle/kernel:0', 'circle_vs_notcircle/bias:0', 'Closed_vs_Open_figure/kernel:0', 'Closed_vs_Open_figure/bias:0', 'Colinear_vs_Noncolinear/kernel:0', 'Colinear_vs_Noncolinear/bias:0', 'Concave_vs_Convex/kernel:0', 'Concave_vs_Convex/bias:0', 'Four_vs_notfour_side/kernel:0', 'Four_vs_notfour_side/bias:0', 'Triangle_vs_notTriangle/kernel:0', 'Triangle_vs_notTriangle/bias:0', 'Clockwise_vs_Anticlock_wise/kernel:0', 'Clockwise_vs_Anticlock_wise/bias:0', 'Left_vs_Right/kernel:0', 'Left_vs_Right/bias:0', 'Parallel_vs_perpendicular/kernel:0', 'Parallel_vs_perpendicular/bias:0', 'Filled_vs_Unfilled/kernel:0', 'Filled_vs_Unfilled/bias:0', 'Complete_vs_Incomplete/kernel:0', 'Complete_vs_Incomplete/bias:0', 'M_cluster_vs_N_clusters/kernel:0', 'M_cluster_vs_N_clusters/bias:0', 'Above_vs_Below/kernel:0', 'Above_vs_Below/bias:0', 'Same_vs_Not_Same/kernel:0', 'Same_vs_Not_Same/bias:0', 'Size_big_vs_Small/kernel:0', 'Size_big_vs_Small/bias:0', 'Symmetery_vs_Non_symmetery/kernel:0', 'Symmetery_vs_Non_symmetery/bias:0', 'Horizontal_vs_Vertical/kernel:0', 'Horizontal_vs_Vertical/bias:0', 'Empty_vs_Non_Empty/kernel:0', 'Empty_vs_Non_Empty/bias:0'] when minimizing the loss. If you're using `model.compile()`, did you forget to provide a `loss` argument?\n",
      "WARNING:tensorflow:Gradients do not exist for variables ['center_vs_notincenter/kernel:0', 'center_vs_notincenter/bias:0', 'circle_vs_notcircle/kernel:0', 'circle_vs_notcircle/bias:0', 'Closed_vs_Open_figure/kernel:0', 'Closed_vs_Open_figure/bias:0', 'Colinear_vs_Noncolinear/kernel:0', 'Colinear_vs_Noncolinear/bias:0', 'Concave_vs_Convex/kernel:0', 'Concave_vs_Convex/bias:0', 'Four_vs_notfour_side/kernel:0', 'Four_vs_notfour_side/bias:0', 'Triangle_vs_notTriangle/kernel:0', 'Triangle_vs_notTriangle/bias:0', 'Clockwise_vs_Anticlock_wise/kernel:0', 'Clockwise_vs_Anticlock_wise/bias:0', 'Left_vs_Right/kernel:0', 'Left_vs_Right/bias:0', 'Parallel_vs_perpendicular/kernel:0', 'Parallel_vs_perpendicular/bias:0', 'Filled_vs_Unfilled/kernel:0', 'Filled_vs_Unfilled/bias:0', 'Complete_vs_Incomplete/kernel:0', 'Complete_vs_Incomplete/bias:0', 'M_cluster_vs_N_clusters/kernel:0', 'M_cluster_vs_N_clusters/bias:0', 'Above_vs_Below/kernel:0', 'Above_vs_Below/bias:0', 'Same_vs_Not_Same/kernel:0', 'Same_vs_Not_Same/bias:0', 'Size_big_vs_Small/kernel:0', 'Size_big_vs_Small/bias:0', 'Symmetery_vs_Non_symmetery/kernel:0', 'Symmetery_vs_Non_symmetery/bias:0', 'Horizontal_vs_Vertical/kernel:0', 'Horizontal_vs_Vertical/bias:0', 'Empty_vs_Non_Empty/kernel:0', 'Empty_vs_Non_Empty/bias:0'] when minimizing the loss. If you're using `model.compile()`, did you forget to provide a `loss` argument?\n"
     ]
    },
    {
     "name": "stdout",
     "output_type": "stream",
     "text": [
      "112/112 [==============================] - 2s 8ms/step - loss: 0.6566 - center_vs_notincenter_loss: 0.0000e+00 - circle_vs_notcircle_loss: 0.0000e+00 - Closed_vs_Open_figure_loss: 0.0000e+00 - Colinear_vs_Noncolinear_loss: 0.0000e+00 - Concave_vs_Convex_loss: 0.0000e+00 - Four_vs_notfour_side_loss: 0.0000e+00 - Triangle_vs_notTriangle_loss: 0.0000e+00 - Clockwise_vs_Anticlock_wise_loss: 0.0000e+00 - Left_vs_Right_loss: 0.0000e+00 - Parallel_vs_perpendicular_loss: 0.0000e+00 - Filled_vs_Unfilled_loss: 0.0000e+00 - Complete_vs_Incomplete_loss: 0.0000e+00 - Intersect_vs_NonIntersect_loss: 0.6566 - M_cluster_vs_N_clusters_loss: 0.0000e+00 - Above_vs_Below_loss: 0.0000e+00 - Same_vs_Not_Same_loss: 0.0000e+00 - Size_big_vs_Small_loss: 0.0000e+00 - Symmetery_vs_Non_symmetery_loss: 0.0000e+00 - Horizontal_vs_Vertical_loss: 0.0000e+00 - Empty_vs_Non_Empty_loss: 0.0000e+00\n",
      "Epoch 2/10\n",
      "112/112 [==============================] - 1s 8ms/step - loss: 0.3898 - center_vs_notincenter_loss: 0.0000e+00 - circle_vs_notcircle_loss: 0.0000e+00 - Closed_vs_Open_figure_loss: 0.0000e+00 - Colinear_vs_Noncolinear_loss: 0.0000e+00 - Concave_vs_Convex_loss: 0.0000e+00 - Four_vs_notfour_side_loss: 0.0000e+00 - Triangle_vs_notTriangle_loss: 0.0000e+00 - Clockwise_vs_Anticlock_wise_loss: 0.0000e+00 - Left_vs_Right_loss: 0.0000e+00 - Parallel_vs_perpendicular_loss: 0.0000e+00 - Filled_vs_Unfilled_loss: 0.0000e+00 - Complete_vs_Incomplete_loss: 0.0000e+00 - Intersect_vs_NonIntersect_loss: 0.3898 - M_cluster_vs_N_clusters_loss: 0.0000e+00 - Above_vs_Below_loss: 0.0000e+00 - Same_vs_Not_Same_loss: 0.0000e+00 - Size_big_vs_Small_loss: 0.0000e+00 - Symmetery_vs_Non_symmetery_loss: 0.0000e+00 - Horizontal_vs_Vertical_loss: 0.0000e+00 - Empty_vs_Non_Empty_loss: 0.0000e+00\n",
      "Epoch 3/10\n",
      "112/112 [==============================] - 1s 8ms/step - loss: 0.2154 - center_vs_notincenter_loss: 0.0000e+00 - circle_vs_notcircle_loss: 0.0000e+00 - Closed_vs_Open_figure_loss: 0.0000e+00 - Colinear_vs_Noncolinear_loss: 0.0000e+00 - Concave_vs_Convex_loss: 0.0000e+00 - Four_vs_notfour_side_loss: 0.0000e+00 - Triangle_vs_notTriangle_loss: 0.0000e+00 - Clockwise_vs_Anticlock_wise_loss: 0.0000e+00 - Left_vs_Right_loss: 0.0000e+00 - Parallel_vs_perpendicular_loss: 0.0000e+00 - Filled_vs_Unfilled_loss: 0.0000e+00 - Complete_vs_Incomplete_loss: 0.0000e+00 - Intersect_vs_NonIntersect_loss: 0.2154 - M_cluster_vs_N_clusters_loss: 0.0000e+00 - Above_vs_Below_loss: 0.0000e+00 - Same_vs_Not_Same_loss: 0.0000e+00 - Size_big_vs_Small_loss: 0.0000e+00 - Symmetery_vs_Non_symmetery_loss: 0.0000e+00 - Horizontal_vs_Vertical_loss: 0.0000e+00 - Empty_vs_Non_Empty_loss: 0.0000e+00\n",
      "Epoch 4/10\n",
      "112/112 [==============================] - 1s 8ms/step - loss: 0.1606 - center_vs_notincenter_loss: 0.0000e+00 - circle_vs_notcircle_loss: 0.0000e+00 - Closed_vs_Open_figure_loss: 0.0000e+00 - Colinear_vs_Noncolinear_loss: 0.0000e+00 - Concave_vs_Convex_loss: 0.0000e+00 - Four_vs_notfour_side_loss: 0.0000e+00 - Triangle_vs_notTriangle_loss: 0.0000e+00 - Clockwise_vs_Anticlock_wise_loss: 0.0000e+00 - Left_vs_Right_loss: 0.0000e+00 - Parallel_vs_perpendicular_loss: 0.0000e+00 - Filled_vs_Unfilled_loss: 0.0000e+00 - Complete_vs_Incomplete_loss: 0.0000e+00 - Intersect_vs_NonIntersect_loss: 0.1606 - M_cluster_vs_N_clusters_loss: 0.0000e+00 - Above_vs_Below_loss: 0.0000e+00 - Same_vs_Not_Same_loss: 0.0000e+00 - Size_big_vs_Small_loss: 0.0000e+00 - Symmetery_vs_Non_symmetery_loss: 0.0000e+00 - Horizontal_vs_Vertical_loss: 0.0000e+00 - Empty_vs_Non_Empty_loss: 0.0000e+00\n",
      "Epoch 5/10\n",
      "112/112 [==============================] - 1s 8ms/step - loss: 0.1206 - center_vs_notincenter_loss: 0.0000e+00 - circle_vs_notcircle_loss: 0.0000e+00 - Closed_vs_Open_figure_loss: 0.0000e+00 - Colinear_vs_Noncolinear_loss: 0.0000e+00 - Concave_vs_Convex_loss: 0.0000e+00 - Four_vs_notfour_side_loss: 0.0000e+00 - Triangle_vs_notTriangle_loss: 0.0000e+00 - Clockwise_vs_Anticlock_wise_loss: 0.0000e+00 - Left_vs_Right_loss: 0.0000e+00 - Parallel_vs_perpendicular_loss: 0.0000e+00 - Filled_vs_Unfilled_loss: 0.0000e+00 - Complete_vs_Incomplete_loss: 0.0000e+00 - Intersect_vs_NonIntersect_loss: 0.1206 - M_cluster_vs_N_clusters_loss: 0.0000e+00 - Above_vs_Below_loss: 0.0000e+00 - Same_vs_Not_Same_loss: 0.0000e+00 - Size_big_vs_Small_loss: 0.0000e+00 - Symmetery_vs_Non_symmetery_loss: 0.0000e+00 - Horizontal_vs_Vertical_loss: 0.0000e+00 - Empty_vs_Non_Empty_loss: 0.0000e+00\n",
      "Epoch 6/10\n",
      "112/112 [==============================] - 1s 7ms/step - loss: 0.0874 - center_vs_notincenter_loss: 0.0000e+00 - circle_vs_notcircle_loss: 0.0000e+00 - Closed_vs_Open_figure_loss: 0.0000e+00 - Colinear_vs_Noncolinear_loss: 0.0000e+00 - Concave_vs_Convex_loss: 0.0000e+00 - Four_vs_notfour_side_loss: 0.0000e+00 - Triangle_vs_notTriangle_loss: 0.0000e+00 - Clockwise_vs_Anticlock_wise_loss: 0.0000e+00 - Left_vs_Right_loss: 0.0000e+00 - Parallel_vs_perpendicular_loss: 0.0000e+00 - Filled_vs_Unfilled_loss: 0.0000e+00 - Complete_vs_Incomplete_loss: 0.0000e+00 - Intersect_vs_NonIntersect_loss: 0.0874 - M_cluster_vs_N_clusters_loss: 0.0000e+00 - Above_vs_Below_loss: 0.0000e+00 - Same_vs_Not_Same_loss: 0.0000e+00 - Size_big_vs_Small_loss: 0.0000e+00 - Symmetery_vs_Non_symmetery_loss: 0.0000e+00 - Horizontal_vs_Vertical_loss: 0.0000e+00 - Empty_vs_Non_Empty_loss: 0.0000e+00\n",
      "Epoch 7/10\n",
      "112/112 [==============================] - 1s 7ms/step - loss: 0.0721 - center_vs_notincenter_loss: 0.0000e+00 - circle_vs_notcircle_loss: 0.0000e+00 - Closed_vs_Open_figure_loss: 0.0000e+00 - Colinear_vs_Noncolinear_loss: 0.0000e+00 - Concave_vs_Convex_loss: 0.0000e+00 - Four_vs_notfour_side_loss: 0.0000e+00 - Triangle_vs_notTriangle_loss: 0.0000e+00 - Clockwise_vs_Anticlock_wise_loss: 0.0000e+00 - Left_vs_Right_loss: 0.0000e+00 - Parallel_vs_perpendicular_loss: 0.0000e+00 - Filled_vs_Unfilled_loss: 0.0000e+00 - Complete_vs_Incomplete_loss: 0.0000e+00 - Intersect_vs_NonIntersect_loss: 0.0721 - M_cluster_vs_N_clusters_loss: 0.0000e+00 - Above_vs_Below_loss: 0.0000e+00 - Same_vs_Not_Same_loss: 0.0000e+00 - Size_big_vs_Small_loss: 0.0000e+00 - Symmetery_vs_Non_symmetery_loss: 0.0000e+00 - Horizontal_vs_Vertical_loss: 0.0000e+00 - Empty_vs_Non_Empty_loss: 0.0000e+00\n",
      "Epoch 8/10\n",
      "112/112 [==============================] - 1s 7ms/step - loss: 0.0560 - center_vs_notincenter_loss: 0.0000e+00 - circle_vs_notcircle_loss: 0.0000e+00 - Closed_vs_Open_figure_loss: 0.0000e+00 - Colinear_vs_Noncolinear_loss: 0.0000e+00 - Concave_vs_Convex_loss: 0.0000e+00 - Four_vs_notfour_side_loss: 0.0000e+00 - Triangle_vs_notTriangle_loss: 0.0000e+00 - Clockwise_vs_Anticlock_wise_loss: 0.0000e+00 - Left_vs_Right_loss: 0.0000e+00 - Parallel_vs_perpendicular_loss: 0.0000e+00 - Filled_vs_Unfilled_loss: 0.0000e+00 - Complete_vs_Incomplete_loss: 0.0000e+00 - Intersect_vs_NonIntersect_loss: 0.0560 - M_cluster_vs_N_clusters_loss: 0.0000e+00 - Above_vs_Below_loss: 0.0000e+00 - Same_vs_Not_Same_loss: 0.0000e+00 - Size_big_vs_Small_loss: 0.0000e+00 - Symmetery_vs_Non_symmetery_loss: 0.0000e+00 - Horizontal_vs_Vertical_loss: 0.0000e+00 - Empty_vs_Non_Empty_loss: 0.0000e+00\n",
      "Epoch 9/10\n",
      "112/112 [==============================] - 1s 7ms/step - loss: 0.0410 - center_vs_notincenter_loss: 0.0000e+00 - circle_vs_notcircle_loss: 0.0000e+00 - Closed_vs_Open_figure_loss: 0.0000e+00 - Colinear_vs_Noncolinear_loss: 0.0000e+00 - Concave_vs_Convex_loss: 0.0000e+00 - Four_vs_notfour_side_loss: 0.0000e+00 - Triangle_vs_notTriangle_loss: 0.0000e+00 - Clockwise_vs_Anticlock_wise_loss: 0.0000e+00 - Left_vs_Right_loss: 0.0000e+00 - Parallel_vs_perpendicular_loss: 0.0000e+00 - Filled_vs_Unfilled_loss: 0.0000e+00 - Complete_vs_Incomplete_loss: 0.0000e+00 - Intersect_vs_NonIntersect_loss: 0.0410 - M_cluster_vs_N_clusters_loss: 0.0000e+00 - Above_vs_Below_loss: 0.0000e+00 - Same_vs_Not_Same_loss: 0.0000e+00 - Size_big_vs_Small_loss: 0.0000e+00 - Symmetery_vs_Non_symmetery_loss: 0.0000e+00 - Horizontal_vs_Vertical_loss: 0.0000e+00 - Empty_vs_Non_Empty_loss: 0.0000e+00\n",
      "Epoch 10/10\n",
      "112/112 [==============================] - 1s 11ms/step - loss: 0.0472 - center_vs_notincenter_loss: 0.0000e+00 - circle_vs_notcircle_loss: 0.0000e+00 - Closed_vs_Open_figure_loss: 0.0000e+00 - Colinear_vs_Noncolinear_loss: 0.0000e+00 - Concave_vs_Convex_loss: 0.0000e+00 - Four_vs_notfour_side_loss: 0.0000e+00 - Triangle_vs_notTriangle_loss: 0.0000e+00 - Clockwise_vs_Anticlock_wise_loss: 0.0000e+00 - Left_vs_Right_loss: 0.0000e+00 - Parallel_vs_perpendicular_loss: 0.0000e+00 - Filled_vs_Unfilled_loss: 0.0000e+00 - Complete_vs_Incomplete_loss: 0.0000e+00 - Intersect_vs_NonIntersect_loss: 0.0472 - M_cluster_vs_N_clusters_loss: 0.0000e+00 - Above_vs_Below_loss: 0.0000e+00 - Same_vs_Not_Same_loss: 0.0000e+00 - Size_big_vs_Small_loss: 0.0000e+00 - Symmetery_vs_Non_symmetery_loss: 0.0000e+00 - Horizontal_vs_Vertical_loss: 0.0000e+00 - Empty_vs_Non_Empty_loss: 0.0000e+00\n",
      "28/28 [==============================] - 0s 5ms/step\n",
      "binary_predictions_head:  [0 1]\n",
      "Accuracy for Classifier C12: 0.9270482603815937\n",
      "Final_test_accuracies till now:  [0.92, 0.95, 0.98, 0.93, 0.61, 0.55, 0.84, 0.68, 0.48, 0.94, 0.55, 0.79, 0.74, 0.93]\n"
     ]
    }
   ],
   "source": [
    "Model_history=model.fit(X[12], {output_names[12]: Y[12]}, epochs=10)\n",
    "\n",
    "Temp_var=check_accuracy1(C12_X_test,C12_y_test,12)\n",
    "Rounded_accuracy = round(Temp_var, 2)\n",
    "Final_test_accuracies.append(Rounded_accuracy)\n",
    "print(\"Final_test_accuracies till now: \",Final_test_accuracies)\n",
    "\n",
    "Training_loss=Model_history.history['loss']\n",
    "for i in range(10):\n",
    "  globals()[f'training_loss_epoch_{i}'].append(Training_loss[i])"
   ]
  },
  {
   "cell_type": "markdown",
   "id": "0rC3sWSZOZ_i",
   "metadata": {
    "id": "0rC3sWSZOZ_i"
   },
   "source": [
    "### Head 13 checking"
   ]
  },
  {
   "cell_type": "code",
   "execution_count": 31,
   "id": "jxbgQ1WeOaOB",
   "metadata": {
    "colab": {
     "base_uri": "https://localhost:8080/"
    },
    "id": "jxbgQ1WeOaOB",
    "outputId": "f5dd2ae8-9ced-4e0f-98b4-a609aa07b9fe"
   },
   "outputs": [
    {
     "name": "stdout",
     "output_type": "stream",
     "text": [
      "Epoch 1/10\n"
     ]
    },
    {
     "name": "stderr",
     "output_type": "stream",
     "text": [
      "WARNING:tensorflow:Gradients do not exist for variables ['center_vs_notincenter/kernel:0', 'center_vs_notincenter/bias:0', 'circle_vs_notcircle/kernel:0', 'circle_vs_notcircle/bias:0', 'Closed_vs_Open_figure/kernel:0', 'Closed_vs_Open_figure/bias:0', 'Colinear_vs_Noncolinear/kernel:0', 'Colinear_vs_Noncolinear/bias:0', 'Concave_vs_Convex/kernel:0', 'Concave_vs_Convex/bias:0', 'Four_vs_notfour_side/kernel:0', 'Four_vs_notfour_side/bias:0', 'Triangle_vs_notTriangle/kernel:0', 'Triangle_vs_notTriangle/bias:0', 'Clockwise_vs_Anticlock_wise/kernel:0', 'Clockwise_vs_Anticlock_wise/bias:0', 'Left_vs_Right/kernel:0', 'Left_vs_Right/bias:0', 'Parallel_vs_perpendicular/kernel:0', 'Parallel_vs_perpendicular/bias:0', 'Filled_vs_Unfilled/kernel:0', 'Filled_vs_Unfilled/bias:0', 'Complete_vs_Incomplete/kernel:0', 'Complete_vs_Incomplete/bias:0', 'Intersect_vs_NonIntersect/kernel:0', 'Intersect_vs_NonIntersect/bias:0', 'Above_vs_Below/kernel:0', 'Above_vs_Below/bias:0', 'Same_vs_Not_Same/kernel:0', 'Same_vs_Not_Same/bias:0', 'Size_big_vs_Small/kernel:0', 'Size_big_vs_Small/bias:0', 'Symmetery_vs_Non_symmetery/kernel:0', 'Symmetery_vs_Non_symmetery/bias:0', 'Horizontal_vs_Vertical/kernel:0', 'Horizontal_vs_Vertical/bias:0', 'Empty_vs_Non_Empty/kernel:0', 'Empty_vs_Non_Empty/bias:0'] when minimizing the loss. If you're using `model.compile()`, did you forget to provide a `loss` argument?\n",
      "WARNING:tensorflow:Gradients do not exist for variables ['center_vs_notincenter/kernel:0', 'center_vs_notincenter/bias:0', 'circle_vs_notcircle/kernel:0', 'circle_vs_notcircle/bias:0', 'Closed_vs_Open_figure/kernel:0', 'Closed_vs_Open_figure/bias:0', 'Colinear_vs_Noncolinear/kernel:0', 'Colinear_vs_Noncolinear/bias:0', 'Concave_vs_Convex/kernel:0', 'Concave_vs_Convex/bias:0', 'Four_vs_notfour_side/kernel:0', 'Four_vs_notfour_side/bias:0', 'Triangle_vs_notTriangle/kernel:0', 'Triangle_vs_notTriangle/bias:0', 'Clockwise_vs_Anticlock_wise/kernel:0', 'Clockwise_vs_Anticlock_wise/bias:0', 'Left_vs_Right/kernel:0', 'Left_vs_Right/bias:0', 'Parallel_vs_perpendicular/kernel:0', 'Parallel_vs_perpendicular/bias:0', 'Filled_vs_Unfilled/kernel:0', 'Filled_vs_Unfilled/bias:0', 'Complete_vs_Incomplete/kernel:0', 'Complete_vs_Incomplete/bias:0', 'Intersect_vs_NonIntersect/kernel:0', 'Intersect_vs_NonIntersect/bias:0', 'Above_vs_Below/kernel:0', 'Above_vs_Below/bias:0', 'Same_vs_Not_Same/kernel:0', 'Same_vs_Not_Same/bias:0', 'Size_big_vs_Small/kernel:0', 'Size_big_vs_Small/bias:0', 'Symmetery_vs_Non_symmetery/kernel:0', 'Symmetery_vs_Non_symmetery/bias:0', 'Horizontal_vs_Vertical/kernel:0', 'Horizontal_vs_Vertical/bias:0', 'Empty_vs_Non_Empty/kernel:0', 'Empty_vs_Non_Empty/bias:0'] when minimizing the loss. If you're using `model.compile()`, did you forget to provide a `loss` argument?\n"
     ]
    },
    {
     "name": "stdout",
     "output_type": "stream",
     "text": [
      "50/50 [==============================] - 1s 7ms/step - loss: 0.8120 - center_vs_notincenter_loss: 0.0000e+00 - circle_vs_notcircle_loss: 0.0000e+00 - Closed_vs_Open_figure_loss: 0.0000e+00 - Colinear_vs_Noncolinear_loss: 0.0000e+00 - Concave_vs_Convex_loss: 0.0000e+00 - Four_vs_notfour_side_loss: 0.0000e+00 - Triangle_vs_notTriangle_loss: 0.0000e+00 - Clockwise_vs_Anticlock_wise_loss: 0.0000e+00 - Left_vs_Right_loss: 0.0000e+00 - Parallel_vs_perpendicular_loss: 0.0000e+00 - Filled_vs_Unfilled_loss: 0.0000e+00 - Complete_vs_Incomplete_loss: 0.0000e+00 - Intersect_vs_NonIntersect_loss: 0.0000e+00 - M_cluster_vs_N_clusters_loss: 0.8120 - Above_vs_Below_loss: 0.0000e+00 - Same_vs_Not_Same_loss: 0.0000e+00 - Size_big_vs_Small_loss: 0.0000e+00 - Symmetery_vs_Non_symmetery_loss: 0.0000e+00 - Horizontal_vs_Vertical_loss: 0.0000e+00 - Empty_vs_Non_Empty_loss: 0.0000e+00\n",
      "Epoch 2/10\n",
      "50/50 [==============================] - 0s 7ms/step - loss: 0.5516 - center_vs_notincenter_loss: 0.0000e+00 - circle_vs_notcircle_loss: 0.0000e+00 - Closed_vs_Open_figure_loss: 0.0000e+00 - Colinear_vs_Noncolinear_loss: 0.0000e+00 - Concave_vs_Convex_loss: 0.0000e+00 - Four_vs_notfour_side_loss: 0.0000e+00 - Triangle_vs_notTriangle_loss: 0.0000e+00 - Clockwise_vs_Anticlock_wise_loss: 0.0000e+00 - Left_vs_Right_loss: 0.0000e+00 - Parallel_vs_perpendicular_loss: 0.0000e+00 - Filled_vs_Unfilled_loss: 0.0000e+00 - Complete_vs_Incomplete_loss: 0.0000e+00 - Intersect_vs_NonIntersect_loss: 0.0000e+00 - M_cluster_vs_N_clusters_loss: 0.5516 - Above_vs_Below_loss: 0.0000e+00 - Same_vs_Not_Same_loss: 0.0000e+00 - Size_big_vs_Small_loss: 0.0000e+00 - Symmetery_vs_Non_symmetery_loss: 0.0000e+00 - Horizontal_vs_Vertical_loss: 0.0000e+00 - Empty_vs_Non_Empty_loss: 0.0000e+00\n",
      "Epoch 3/10\n",
      "50/50 [==============================] - 0s 7ms/step - loss: 0.4715 - center_vs_notincenter_loss: 0.0000e+00 - circle_vs_notcircle_loss: 0.0000e+00 - Closed_vs_Open_figure_loss: 0.0000e+00 - Colinear_vs_Noncolinear_loss: 0.0000e+00 - Concave_vs_Convex_loss: 0.0000e+00 - Four_vs_notfour_side_loss: 0.0000e+00 - Triangle_vs_notTriangle_loss: 0.0000e+00 - Clockwise_vs_Anticlock_wise_loss: 0.0000e+00 - Left_vs_Right_loss: 0.0000e+00 - Parallel_vs_perpendicular_loss: 0.0000e+00 - Filled_vs_Unfilled_loss: 0.0000e+00 - Complete_vs_Incomplete_loss: 0.0000e+00 - Intersect_vs_NonIntersect_loss: 0.0000e+00 - M_cluster_vs_N_clusters_loss: 0.4715 - Above_vs_Below_loss: 0.0000e+00 - Same_vs_Not_Same_loss: 0.0000e+00 - Size_big_vs_Small_loss: 0.0000e+00 - Symmetery_vs_Non_symmetery_loss: 0.0000e+00 - Horizontal_vs_Vertical_loss: 0.0000e+00 - Empty_vs_Non_Empty_loss: 0.0000e+00\n",
      "Epoch 4/10\n",
      "50/50 [==============================] - 0s 7ms/step - loss: 0.4268 - center_vs_notincenter_loss: 0.0000e+00 - circle_vs_notcircle_loss: 0.0000e+00 - Closed_vs_Open_figure_loss: 0.0000e+00 - Colinear_vs_Noncolinear_loss: 0.0000e+00 - Concave_vs_Convex_loss: 0.0000e+00 - Four_vs_notfour_side_loss: 0.0000e+00 - Triangle_vs_notTriangle_loss: 0.0000e+00 - Clockwise_vs_Anticlock_wise_loss: 0.0000e+00 - Left_vs_Right_loss: 0.0000e+00 - Parallel_vs_perpendicular_loss: 0.0000e+00 - Filled_vs_Unfilled_loss: 0.0000e+00 - Complete_vs_Incomplete_loss: 0.0000e+00 - Intersect_vs_NonIntersect_loss: 0.0000e+00 - M_cluster_vs_N_clusters_loss: 0.4268 - Above_vs_Below_loss: 0.0000e+00 - Same_vs_Not_Same_loss: 0.0000e+00 - Size_big_vs_Small_loss: 0.0000e+00 - Symmetery_vs_Non_symmetery_loss: 0.0000e+00 - Horizontal_vs_Vertical_loss: 0.0000e+00 - Empty_vs_Non_Empty_loss: 0.0000e+00\n",
      "Epoch 5/10\n",
      "50/50 [==============================] - 0s 7ms/step - loss: 0.3679 - center_vs_notincenter_loss: 0.0000e+00 - circle_vs_notcircle_loss: 0.0000e+00 - Closed_vs_Open_figure_loss: 0.0000e+00 - Colinear_vs_Noncolinear_loss: 0.0000e+00 - Concave_vs_Convex_loss: 0.0000e+00 - Four_vs_notfour_side_loss: 0.0000e+00 - Triangle_vs_notTriangle_loss: 0.0000e+00 - Clockwise_vs_Anticlock_wise_loss: 0.0000e+00 - Left_vs_Right_loss: 0.0000e+00 - Parallel_vs_perpendicular_loss: 0.0000e+00 - Filled_vs_Unfilled_loss: 0.0000e+00 - Complete_vs_Incomplete_loss: 0.0000e+00 - Intersect_vs_NonIntersect_loss: 0.0000e+00 - M_cluster_vs_N_clusters_loss: 0.3679 - Above_vs_Below_loss: 0.0000e+00 - Same_vs_Not_Same_loss: 0.0000e+00 - Size_big_vs_Small_loss: 0.0000e+00 - Symmetery_vs_Non_symmetery_loss: 0.0000e+00 - Horizontal_vs_Vertical_loss: 0.0000e+00 - Empty_vs_Non_Empty_loss: 0.0000e+00\n",
      "Epoch 6/10\n",
      "50/50 [==============================] - 0s 7ms/step - loss: 0.3074 - center_vs_notincenter_loss: 0.0000e+00 - circle_vs_notcircle_loss: 0.0000e+00 - Closed_vs_Open_figure_loss: 0.0000e+00 - Colinear_vs_Noncolinear_loss: 0.0000e+00 - Concave_vs_Convex_loss: 0.0000e+00 - Four_vs_notfour_side_loss: 0.0000e+00 - Triangle_vs_notTriangle_loss: 0.0000e+00 - Clockwise_vs_Anticlock_wise_loss: 0.0000e+00 - Left_vs_Right_loss: 0.0000e+00 - Parallel_vs_perpendicular_loss: 0.0000e+00 - Filled_vs_Unfilled_loss: 0.0000e+00 - Complete_vs_Incomplete_loss: 0.0000e+00 - Intersect_vs_NonIntersect_loss: 0.0000e+00 - M_cluster_vs_N_clusters_loss: 0.3074 - Above_vs_Below_loss: 0.0000e+00 - Same_vs_Not_Same_loss: 0.0000e+00 - Size_big_vs_Small_loss: 0.0000e+00 - Symmetery_vs_Non_symmetery_loss: 0.0000e+00 - Horizontal_vs_Vertical_loss: 0.0000e+00 - Empty_vs_Non_Empty_loss: 0.0000e+00\n",
      "Epoch 7/10\n",
      "50/50 [==============================] - 0s 7ms/step - loss: 0.2550 - center_vs_notincenter_loss: 0.0000e+00 - circle_vs_notcircle_loss: 0.0000e+00 - Closed_vs_Open_figure_loss: 0.0000e+00 - Colinear_vs_Noncolinear_loss: 0.0000e+00 - Concave_vs_Convex_loss: 0.0000e+00 - Four_vs_notfour_side_loss: 0.0000e+00 - Triangle_vs_notTriangle_loss: 0.0000e+00 - Clockwise_vs_Anticlock_wise_loss: 0.0000e+00 - Left_vs_Right_loss: 0.0000e+00 - Parallel_vs_perpendicular_loss: 0.0000e+00 - Filled_vs_Unfilled_loss: 0.0000e+00 - Complete_vs_Incomplete_loss: 0.0000e+00 - Intersect_vs_NonIntersect_loss: 0.0000e+00 - M_cluster_vs_N_clusters_loss: 0.2550 - Above_vs_Below_loss: 0.0000e+00 - Same_vs_Not_Same_loss: 0.0000e+00 - Size_big_vs_Small_loss: 0.0000e+00 - Symmetery_vs_Non_symmetery_loss: 0.0000e+00 - Horizontal_vs_Vertical_loss: 0.0000e+00 - Empty_vs_Non_Empty_loss: 0.0000e+00\n",
      "Epoch 8/10\n",
      "50/50 [==============================] - 0s 7ms/step - loss: 0.2132 - center_vs_notincenter_loss: 0.0000e+00 - circle_vs_notcircle_loss: 0.0000e+00 - Closed_vs_Open_figure_loss: 0.0000e+00 - Colinear_vs_Noncolinear_loss: 0.0000e+00 - Concave_vs_Convex_loss: 0.0000e+00 - Four_vs_notfour_side_loss: 0.0000e+00 - Triangle_vs_notTriangle_loss: 0.0000e+00 - Clockwise_vs_Anticlock_wise_loss: 0.0000e+00 - Left_vs_Right_loss: 0.0000e+00 - Parallel_vs_perpendicular_loss: 0.0000e+00 - Filled_vs_Unfilled_loss: 0.0000e+00 - Complete_vs_Incomplete_loss: 0.0000e+00 - Intersect_vs_NonIntersect_loss: 0.0000e+00 - M_cluster_vs_N_clusters_loss: 0.2132 - Above_vs_Below_loss: 0.0000e+00 - Same_vs_Not_Same_loss: 0.0000e+00 - Size_big_vs_Small_loss: 0.0000e+00 - Symmetery_vs_Non_symmetery_loss: 0.0000e+00 - Horizontal_vs_Vertical_loss: 0.0000e+00 - Empty_vs_Non_Empty_loss: 0.0000e+00\n",
      "Epoch 9/10\n",
      "50/50 [==============================] - 0s 7ms/step - loss: 0.1688 - center_vs_notincenter_loss: 0.0000e+00 - circle_vs_notcircle_loss: 0.0000e+00 - Closed_vs_Open_figure_loss: 0.0000e+00 - Colinear_vs_Noncolinear_loss: 0.0000e+00 - Concave_vs_Convex_loss: 0.0000e+00 - Four_vs_notfour_side_loss: 0.0000e+00 - Triangle_vs_notTriangle_loss: 0.0000e+00 - Clockwise_vs_Anticlock_wise_loss: 0.0000e+00 - Left_vs_Right_loss: 0.0000e+00 - Parallel_vs_perpendicular_loss: 0.0000e+00 - Filled_vs_Unfilled_loss: 0.0000e+00 - Complete_vs_Incomplete_loss: 0.0000e+00 - Intersect_vs_NonIntersect_loss: 0.0000e+00 - M_cluster_vs_N_clusters_loss: 0.1688 - Above_vs_Below_loss: 0.0000e+00 - Same_vs_Not_Same_loss: 0.0000e+00 - Size_big_vs_Small_loss: 0.0000e+00 - Symmetery_vs_Non_symmetery_loss: 0.0000e+00 - Horizontal_vs_Vertical_loss: 0.0000e+00 - Empty_vs_Non_Empty_loss: 0.0000e+00\n",
      "Epoch 10/10\n",
      "50/50 [==============================] - 0s 8ms/step - loss: 0.1421 - center_vs_notincenter_loss: 0.0000e+00 - circle_vs_notcircle_loss: 0.0000e+00 - Closed_vs_Open_figure_loss: 0.0000e+00 - Colinear_vs_Noncolinear_loss: 0.0000e+00 - Concave_vs_Convex_loss: 0.0000e+00 - Four_vs_notfour_side_loss: 0.0000e+00 - Triangle_vs_notTriangle_loss: 0.0000e+00 - Clockwise_vs_Anticlock_wise_loss: 0.0000e+00 - Left_vs_Right_loss: 0.0000e+00 - Parallel_vs_perpendicular_loss: 0.0000e+00 - Filled_vs_Unfilled_loss: 0.0000e+00 - Complete_vs_Incomplete_loss: 0.0000e+00 - Intersect_vs_NonIntersect_loss: 0.0000e+00 - M_cluster_vs_N_clusters_loss: 0.1421 - Above_vs_Below_loss: 0.0000e+00 - Same_vs_Not_Same_loss: 0.0000e+00 - Size_big_vs_Small_loss: 0.0000e+00 - Symmetery_vs_Non_symmetery_loss: 0.0000e+00 - Horizontal_vs_Vertical_loss: 0.0000e+00 - Empty_vs_Non_Empty_loss: 0.0000e+00\n",
      "13/13 [==============================] - 0s 3ms/step\n",
      "binary_predictions_head:  [0 1]\n",
      "Accuracy for Classifier C13: 0.8575\n",
      "Final_test_accuracies till now:  [0.92, 0.95, 0.98, 0.93, 0.61, 0.55, 0.84, 0.68, 0.48, 0.94, 0.55, 0.79, 0.74, 0.93, 0.86]\n"
     ]
    }
   ],
   "source": [
    "Model_history=model.fit(X[13], {output_names[13]: Y[13]}, epochs=10)\n",
    "\n",
    "Temp_var=check_accuracy1(C13_X_test,C13_y_test,13)\n",
    "Rounded_accuracy = round(Temp_var, 2)\n",
    "Final_test_accuracies.append(Rounded_accuracy)\n",
    "print(\"Final_test_accuracies till now: \",Final_test_accuracies)\n",
    "\n",
    "Training_loss=Model_history.history['loss']\n",
    "for i in range(10):\n",
    "  globals()[f'training_loss_epoch_{i}'].append(Training_loss[i])"
   ]
  },
  {
   "cell_type": "markdown",
   "id": "0Bor-zy9OhRj",
   "metadata": {
    "id": "0Bor-zy9OhRj"
   },
   "source": [
    "### Head 14 checking"
   ]
  },
  {
   "cell_type": "code",
   "execution_count": 32,
   "id": "DEiQKFoUOhfg",
   "metadata": {
    "colab": {
     "base_uri": "https://localhost:8080/"
    },
    "id": "DEiQKFoUOhfg",
    "outputId": "6dd7ab0f-a01f-4380-89b7-42140353545e"
   },
   "outputs": [
    {
     "name": "stdout",
     "output_type": "stream",
     "text": [
      "Epoch 1/10\n"
     ]
    },
    {
     "name": "stderr",
     "output_type": "stream",
     "text": [
      "WARNING:tensorflow:Gradients do not exist for variables ['center_vs_notincenter/kernel:0', 'center_vs_notincenter/bias:0', 'circle_vs_notcircle/kernel:0', 'circle_vs_notcircle/bias:0', 'Closed_vs_Open_figure/kernel:0', 'Closed_vs_Open_figure/bias:0', 'Colinear_vs_Noncolinear/kernel:0', 'Colinear_vs_Noncolinear/bias:0', 'Concave_vs_Convex/kernel:0', 'Concave_vs_Convex/bias:0', 'Four_vs_notfour_side/kernel:0', 'Four_vs_notfour_side/bias:0', 'Triangle_vs_notTriangle/kernel:0', 'Triangle_vs_notTriangle/bias:0', 'Clockwise_vs_Anticlock_wise/kernel:0', 'Clockwise_vs_Anticlock_wise/bias:0', 'Left_vs_Right/kernel:0', 'Left_vs_Right/bias:0', 'Parallel_vs_perpendicular/kernel:0', 'Parallel_vs_perpendicular/bias:0', 'Filled_vs_Unfilled/kernel:0', 'Filled_vs_Unfilled/bias:0', 'Complete_vs_Incomplete/kernel:0', 'Complete_vs_Incomplete/bias:0', 'Intersect_vs_NonIntersect/kernel:0', 'Intersect_vs_NonIntersect/bias:0', 'M_cluster_vs_N_clusters/kernel:0', 'M_cluster_vs_N_clusters/bias:0', 'Same_vs_Not_Same/kernel:0', 'Same_vs_Not_Same/bias:0', 'Size_big_vs_Small/kernel:0', 'Size_big_vs_Small/bias:0', 'Symmetery_vs_Non_symmetery/kernel:0', 'Symmetery_vs_Non_symmetery/bias:0', 'Horizontal_vs_Vertical/kernel:0', 'Horizontal_vs_Vertical/bias:0', 'Empty_vs_Non_Empty/kernel:0', 'Empty_vs_Non_Empty/bias:0'] when minimizing the loss. If you're using `model.compile()`, did you forget to provide a `loss` argument?\n",
      "WARNING:tensorflow:Gradients do not exist for variables ['center_vs_notincenter/kernel:0', 'center_vs_notincenter/bias:0', 'circle_vs_notcircle/kernel:0', 'circle_vs_notcircle/bias:0', 'Closed_vs_Open_figure/kernel:0', 'Closed_vs_Open_figure/bias:0', 'Colinear_vs_Noncolinear/kernel:0', 'Colinear_vs_Noncolinear/bias:0', 'Concave_vs_Convex/kernel:0', 'Concave_vs_Convex/bias:0', 'Four_vs_notfour_side/kernel:0', 'Four_vs_notfour_side/bias:0', 'Triangle_vs_notTriangle/kernel:0', 'Triangle_vs_notTriangle/bias:0', 'Clockwise_vs_Anticlock_wise/kernel:0', 'Clockwise_vs_Anticlock_wise/bias:0', 'Left_vs_Right/kernel:0', 'Left_vs_Right/bias:0', 'Parallel_vs_perpendicular/kernel:0', 'Parallel_vs_perpendicular/bias:0', 'Filled_vs_Unfilled/kernel:0', 'Filled_vs_Unfilled/bias:0', 'Complete_vs_Incomplete/kernel:0', 'Complete_vs_Incomplete/bias:0', 'Intersect_vs_NonIntersect/kernel:0', 'Intersect_vs_NonIntersect/bias:0', 'M_cluster_vs_N_clusters/kernel:0', 'M_cluster_vs_N_clusters/bias:0', 'Same_vs_Not_Same/kernel:0', 'Same_vs_Not_Same/bias:0', 'Size_big_vs_Small/kernel:0', 'Size_big_vs_Small/bias:0', 'Symmetery_vs_Non_symmetery/kernel:0', 'Symmetery_vs_Non_symmetery/bias:0', 'Horizontal_vs_Vertical/kernel:0', 'Horizontal_vs_Vertical/bias:0', 'Empty_vs_Non_Empty/kernel:0', 'Empty_vs_Non_Empty/bias:0'] when minimizing the loss. If you're using `model.compile()`, did you forget to provide a `loss` argument?\n"
     ]
    },
    {
     "name": "stdout",
     "output_type": "stream",
     "text": [
      "60/60 [==============================] - 2s 8ms/step - loss: 1.0214 - center_vs_notincenter_loss: 0.0000e+00 - circle_vs_notcircle_loss: 0.0000e+00 - Closed_vs_Open_figure_loss: 0.0000e+00 - Colinear_vs_Noncolinear_loss: 0.0000e+00 - Concave_vs_Convex_loss: 0.0000e+00 - Four_vs_notfour_side_loss: 0.0000e+00 - Triangle_vs_notTriangle_loss: 0.0000e+00 - Clockwise_vs_Anticlock_wise_loss: 0.0000e+00 - Left_vs_Right_loss: 0.0000e+00 - Parallel_vs_perpendicular_loss: 0.0000e+00 - Filled_vs_Unfilled_loss: 0.0000e+00 - Complete_vs_Incomplete_loss: 0.0000e+00 - Intersect_vs_NonIntersect_loss: 0.0000e+00 - M_cluster_vs_N_clusters_loss: 0.0000e+00 - Above_vs_Below_loss: 1.0214 - Same_vs_Not_Same_loss: 0.0000e+00 - Size_big_vs_Small_loss: 0.0000e+00 - Symmetery_vs_Non_symmetery_loss: 0.0000e+00 - Horizontal_vs_Vertical_loss: 0.0000e+00 - Empty_vs_Non_Empty_loss: 0.0000e+00\n",
      "Epoch 2/10\n",
      "60/60 [==============================] - 0s 7ms/step - loss: 0.6268 - center_vs_notincenter_loss: 0.0000e+00 - circle_vs_notcircle_loss: 0.0000e+00 - Closed_vs_Open_figure_loss: 0.0000e+00 - Colinear_vs_Noncolinear_loss: 0.0000e+00 - Concave_vs_Convex_loss: 0.0000e+00 - Four_vs_notfour_side_loss: 0.0000e+00 - Triangle_vs_notTriangle_loss: 0.0000e+00 - Clockwise_vs_Anticlock_wise_loss: 0.0000e+00 - Left_vs_Right_loss: 0.0000e+00 - Parallel_vs_perpendicular_loss: 0.0000e+00 - Filled_vs_Unfilled_loss: 0.0000e+00 - Complete_vs_Incomplete_loss: 0.0000e+00 - Intersect_vs_NonIntersect_loss: 0.0000e+00 - M_cluster_vs_N_clusters_loss: 0.0000e+00 - Above_vs_Below_loss: 0.6268 - Same_vs_Not_Same_loss: 0.0000e+00 - Size_big_vs_Small_loss: 0.0000e+00 - Symmetery_vs_Non_symmetery_loss: 0.0000e+00 - Horizontal_vs_Vertical_loss: 0.0000e+00 - Empty_vs_Non_Empty_loss: 0.0000e+00\n",
      "Epoch 3/10\n",
      "60/60 [==============================] - 0s 7ms/step - loss: 0.4963 - center_vs_notincenter_loss: 0.0000e+00 - circle_vs_notcircle_loss: 0.0000e+00 - Closed_vs_Open_figure_loss: 0.0000e+00 - Colinear_vs_Noncolinear_loss: 0.0000e+00 - Concave_vs_Convex_loss: 0.0000e+00 - Four_vs_notfour_side_loss: 0.0000e+00 - Triangle_vs_notTriangle_loss: 0.0000e+00 - Clockwise_vs_Anticlock_wise_loss: 0.0000e+00 - Left_vs_Right_loss: 0.0000e+00 - Parallel_vs_perpendicular_loss: 0.0000e+00 - Filled_vs_Unfilled_loss: 0.0000e+00 - Complete_vs_Incomplete_loss: 0.0000e+00 - Intersect_vs_NonIntersect_loss: 0.0000e+00 - M_cluster_vs_N_clusters_loss: 0.0000e+00 - Above_vs_Below_loss: 0.4963 - Same_vs_Not_Same_loss: 0.0000e+00 - Size_big_vs_Small_loss: 0.0000e+00 - Symmetery_vs_Non_symmetery_loss: 0.0000e+00 - Horizontal_vs_Vertical_loss: 0.0000e+00 - Empty_vs_Non_Empty_loss: 0.0000e+00\n",
      "Epoch 4/10\n",
      "60/60 [==============================] - 0s 7ms/step - loss: 0.2921 - center_vs_notincenter_loss: 0.0000e+00 - circle_vs_notcircle_loss: 0.0000e+00 - Closed_vs_Open_figure_loss: 0.0000e+00 - Colinear_vs_Noncolinear_loss: 0.0000e+00 - Concave_vs_Convex_loss: 0.0000e+00 - Four_vs_notfour_side_loss: 0.0000e+00 - Triangle_vs_notTriangle_loss: 0.0000e+00 - Clockwise_vs_Anticlock_wise_loss: 0.0000e+00 - Left_vs_Right_loss: 0.0000e+00 - Parallel_vs_perpendicular_loss: 0.0000e+00 - Filled_vs_Unfilled_loss: 0.0000e+00 - Complete_vs_Incomplete_loss: 0.0000e+00 - Intersect_vs_NonIntersect_loss: 0.0000e+00 - M_cluster_vs_N_clusters_loss: 0.0000e+00 - Above_vs_Below_loss: 0.2921 - Same_vs_Not_Same_loss: 0.0000e+00 - Size_big_vs_Small_loss: 0.0000e+00 - Symmetery_vs_Non_symmetery_loss: 0.0000e+00 - Horizontal_vs_Vertical_loss: 0.0000e+00 - Empty_vs_Non_Empty_loss: 0.0000e+00\n",
      "Epoch 5/10\n",
      "60/60 [==============================] - 0s 7ms/step - loss: 0.1316 - center_vs_notincenter_loss: 0.0000e+00 - circle_vs_notcircle_loss: 0.0000e+00 - Closed_vs_Open_figure_loss: 0.0000e+00 - Colinear_vs_Noncolinear_loss: 0.0000e+00 - Concave_vs_Convex_loss: 0.0000e+00 - Four_vs_notfour_side_loss: 0.0000e+00 - Triangle_vs_notTriangle_loss: 0.0000e+00 - Clockwise_vs_Anticlock_wise_loss: 0.0000e+00 - Left_vs_Right_loss: 0.0000e+00 - Parallel_vs_perpendicular_loss: 0.0000e+00 - Filled_vs_Unfilled_loss: 0.0000e+00 - Complete_vs_Incomplete_loss: 0.0000e+00 - Intersect_vs_NonIntersect_loss: 0.0000e+00 - M_cluster_vs_N_clusters_loss: 0.0000e+00 - Above_vs_Below_loss: 0.1316 - Same_vs_Not_Same_loss: 0.0000e+00 - Size_big_vs_Small_loss: 0.0000e+00 - Symmetery_vs_Non_symmetery_loss: 0.0000e+00 - Horizontal_vs_Vertical_loss: 0.0000e+00 - Empty_vs_Non_Empty_loss: 0.0000e+00\n",
      "Epoch 6/10\n",
      "60/60 [==============================] - 0s 7ms/step - loss: 0.0757 - center_vs_notincenter_loss: 0.0000e+00 - circle_vs_notcircle_loss: 0.0000e+00 - Closed_vs_Open_figure_loss: 0.0000e+00 - Colinear_vs_Noncolinear_loss: 0.0000e+00 - Concave_vs_Convex_loss: 0.0000e+00 - Four_vs_notfour_side_loss: 0.0000e+00 - Triangle_vs_notTriangle_loss: 0.0000e+00 - Clockwise_vs_Anticlock_wise_loss: 0.0000e+00 - Left_vs_Right_loss: 0.0000e+00 - Parallel_vs_perpendicular_loss: 0.0000e+00 - Filled_vs_Unfilled_loss: 0.0000e+00 - Complete_vs_Incomplete_loss: 0.0000e+00 - Intersect_vs_NonIntersect_loss: 0.0000e+00 - M_cluster_vs_N_clusters_loss: 0.0000e+00 - Above_vs_Below_loss: 0.0757 - Same_vs_Not_Same_loss: 0.0000e+00 - Size_big_vs_Small_loss: 0.0000e+00 - Symmetery_vs_Non_symmetery_loss: 0.0000e+00 - Horizontal_vs_Vertical_loss: 0.0000e+00 - Empty_vs_Non_Empty_loss: 0.0000e+00\n",
      "Epoch 7/10\n",
      "60/60 [==============================] - 0s 7ms/step - loss: 0.0397 - center_vs_notincenter_loss: 0.0000e+00 - circle_vs_notcircle_loss: 0.0000e+00 - Closed_vs_Open_figure_loss: 0.0000e+00 - Colinear_vs_Noncolinear_loss: 0.0000e+00 - Concave_vs_Convex_loss: 0.0000e+00 - Four_vs_notfour_side_loss: 0.0000e+00 - Triangle_vs_notTriangle_loss: 0.0000e+00 - Clockwise_vs_Anticlock_wise_loss: 0.0000e+00 - Left_vs_Right_loss: 0.0000e+00 - Parallel_vs_perpendicular_loss: 0.0000e+00 - Filled_vs_Unfilled_loss: 0.0000e+00 - Complete_vs_Incomplete_loss: 0.0000e+00 - Intersect_vs_NonIntersect_loss: 0.0000e+00 - M_cluster_vs_N_clusters_loss: 0.0000e+00 - Above_vs_Below_loss: 0.0397 - Same_vs_Not_Same_loss: 0.0000e+00 - Size_big_vs_Small_loss: 0.0000e+00 - Symmetery_vs_Non_symmetery_loss: 0.0000e+00 - Horizontal_vs_Vertical_loss: 0.0000e+00 - Empty_vs_Non_Empty_loss: 0.0000e+00\n",
      "Epoch 8/10\n",
      "60/60 [==============================] - 0s 8ms/step - loss: 0.0268 - center_vs_notincenter_loss: 0.0000e+00 - circle_vs_notcircle_loss: 0.0000e+00 - Closed_vs_Open_figure_loss: 0.0000e+00 - Colinear_vs_Noncolinear_loss: 0.0000e+00 - Concave_vs_Convex_loss: 0.0000e+00 - Four_vs_notfour_side_loss: 0.0000e+00 - Triangle_vs_notTriangle_loss: 0.0000e+00 - Clockwise_vs_Anticlock_wise_loss: 0.0000e+00 - Left_vs_Right_loss: 0.0000e+00 - Parallel_vs_perpendicular_loss: 0.0000e+00 - Filled_vs_Unfilled_loss: 0.0000e+00 - Complete_vs_Incomplete_loss: 0.0000e+00 - Intersect_vs_NonIntersect_loss: 0.0000e+00 - M_cluster_vs_N_clusters_loss: 0.0000e+00 - Above_vs_Below_loss: 0.0268 - Same_vs_Not_Same_loss: 0.0000e+00 - Size_big_vs_Small_loss: 0.0000e+00 - Symmetery_vs_Non_symmetery_loss: 0.0000e+00 - Horizontal_vs_Vertical_loss: 0.0000e+00 - Empty_vs_Non_Empty_loss: 0.0000e+00\n",
      "Epoch 9/10\n",
      "60/60 [==============================] - 0s 8ms/step - loss: 0.0148 - center_vs_notincenter_loss: 0.0000e+00 - circle_vs_notcircle_loss: 0.0000e+00 - Closed_vs_Open_figure_loss: 0.0000e+00 - Colinear_vs_Noncolinear_loss: 0.0000e+00 - Concave_vs_Convex_loss: 0.0000e+00 - Four_vs_notfour_side_loss: 0.0000e+00 - Triangle_vs_notTriangle_loss: 0.0000e+00 - Clockwise_vs_Anticlock_wise_loss: 0.0000e+00 - Left_vs_Right_loss: 0.0000e+00 - Parallel_vs_perpendicular_loss: 0.0000e+00 - Filled_vs_Unfilled_loss: 0.0000e+00 - Complete_vs_Incomplete_loss: 0.0000e+00 - Intersect_vs_NonIntersect_loss: 0.0000e+00 - M_cluster_vs_N_clusters_loss: 0.0000e+00 - Above_vs_Below_loss: 0.0148 - Same_vs_Not_Same_loss: 0.0000e+00 - Size_big_vs_Small_loss: 0.0000e+00 - Symmetery_vs_Non_symmetery_loss: 0.0000e+00 - Horizontal_vs_Vertical_loss: 0.0000e+00 - Empty_vs_Non_Empty_loss: 0.0000e+00\n",
      "Epoch 10/10\n",
      "60/60 [==============================] - 0s 8ms/step - loss: 0.0114 - center_vs_notincenter_loss: 0.0000e+00 - circle_vs_notcircle_loss: 0.0000e+00 - Closed_vs_Open_figure_loss: 0.0000e+00 - Colinear_vs_Noncolinear_loss: 0.0000e+00 - Concave_vs_Convex_loss: 0.0000e+00 - Four_vs_notfour_side_loss: 0.0000e+00 - Triangle_vs_notTriangle_loss: 0.0000e+00 - Clockwise_vs_Anticlock_wise_loss: 0.0000e+00 - Left_vs_Right_loss: 0.0000e+00 - Parallel_vs_perpendicular_loss: 0.0000e+00 - Filled_vs_Unfilled_loss: 0.0000e+00 - Complete_vs_Incomplete_loss: 0.0000e+00 - Intersect_vs_NonIntersect_loss: 0.0000e+00 - M_cluster_vs_N_clusters_loss: 0.0000e+00 - Above_vs_Below_loss: 0.0114 - Same_vs_Not_Same_loss: 0.0000e+00 - Size_big_vs_Small_loss: 0.0000e+00 - Symmetery_vs_Non_symmetery_loss: 0.0000e+00 - Horizontal_vs_Vertical_loss: 0.0000e+00 - Empty_vs_Non_Empty_loss: 0.0000e+00\n",
      "15/15 [==============================] - 0s 4ms/step\n",
      "binary_predictions_head:  [0 1]\n",
      "Accuracy for Classifier C14: 0.51875\n",
      "Final_test_accuracies till now:  [0.92, 0.95, 0.98, 0.93, 0.61, 0.55, 0.84, 0.68, 0.48, 0.94, 0.55, 0.79, 0.74, 0.93, 0.86, 0.52]\n"
     ]
    }
   ],
   "source": [
    "Model_history=model.fit(X[14], {output_names[14]: Y[14]}, epochs=10)\n",
    "\n",
    "Temp_var=check_accuracy1(C14_X_test,C14_y_test,14)\n",
    "Rounded_accuracy = round(Temp_var, 2)\n",
    "Final_test_accuracies.append(Rounded_accuracy)\n",
    "print(\"Final_test_accuracies till now: \",Final_test_accuracies)\n",
    "\n",
    "Training_loss=Model_history.history['loss']\n",
    "for i in range(10):\n",
    "  globals()[f'training_loss_epoch_{i}'].append(Training_loss[i])"
   ]
  },
  {
   "cell_type": "markdown",
   "id": "nFdA_zlsOm1n",
   "metadata": {
    "id": "nFdA_zlsOm1n"
   },
   "source": [
    "### Head 15 checking"
   ]
  },
  {
   "cell_type": "code",
   "execution_count": 33,
   "id": "iEqGRwfaOnDK",
   "metadata": {
    "colab": {
     "base_uri": "https://localhost:8080/"
    },
    "id": "iEqGRwfaOnDK",
    "outputId": "c7c00194-b045-4bd5-bada-f1c0b21a92a1"
   },
   "outputs": [
    {
     "name": "stdout",
     "output_type": "stream",
     "text": [
      "Epoch 1/10\n"
     ]
    },
    {
     "name": "stderr",
     "output_type": "stream",
     "text": [
      "WARNING:tensorflow:Gradients do not exist for variables ['center_vs_notincenter/kernel:0', 'center_vs_notincenter/bias:0', 'circle_vs_notcircle/kernel:0', 'circle_vs_notcircle/bias:0', 'Closed_vs_Open_figure/kernel:0', 'Closed_vs_Open_figure/bias:0', 'Colinear_vs_Noncolinear/kernel:0', 'Colinear_vs_Noncolinear/bias:0', 'Concave_vs_Convex/kernel:0', 'Concave_vs_Convex/bias:0', 'Four_vs_notfour_side/kernel:0', 'Four_vs_notfour_side/bias:0', 'Triangle_vs_notTriangle/kernel:0', 'Triangle_vs_notTriangle/bias:0', 'Clockwise_vs_Anticlock_wise/kernel:0', 'Clockwise_vs_Anticlock_wise/bias:0', 'Left_vs_Right/kernel:0', 'Left_vs_Right/bias:0', 'Parallel_vs_perpendicular/kernel:0', 'Parallel_vs_perpendicular/bias:0', 'Filled_vs_Unfilled/kernel:0', 'Filled_vs_Unfilled/bias:0', 'Complete_vs_Incomplete/kernel:0', 'Complete_vs_Incomplete/bias:0', 'Intersect_vs_NonIntersect/kernel:0', 'Intersect_vs_NonIntersect/bias:0', 'M_cluster_vs_N_clusters/kernel:0', 'M_cluster_vs_N_clusters/bias:0', 'Above_vs_Below/kernel:0', 'Above_vs_Below/bias:0', 'Size_big_vs_Small/kernel:0', 'Size_big_vs_Small/bias:0', 'Symmetery_vs_Non_symmetery/kernel:0', 'Symmetery_vs_Non_symmetery/bias:0', 'Horizontal_vs_Vertical/kernel:0', 'Horizontal_vs_Vertical/bias:0', 'Empty_vs_Non_Empty/kernel:0', 'Empty_vs_Non_Empty/bias:0'] when minimizing the loss. If you're using `model.compile()`, did you forget to provide a `loss` argument?\n",
      "WARNING:tensorflow:Gradients do not exist for variables ['center_vs_notincenter/kernel:0', 'center_vs_notincenter/bias:0', 'circle_vs_notcircle/kernel:0', 'circle_vs_notcircle/bias:0', 'Closed_vs_Open_figure/kernel:0', 'Closed_vs_Open_figure/bias:0', 'Colinear_vs_Noncolinear/kernel:0', 'Colinear_vs_Noncolinear/bias:0', 'Concave_vs_Convex/kernel:0', 'Concave_vs_Convex/bias:0', 'Four_vs_notfour_side/kernel:0', 'Four_vs_notfour_side/bias:0', 'Triangle_vs_notTriangle/kernel:0', 'Triangle_vs_notTriangle/bias:0', 'Clockwise_vs_Anticlock_wise/kernel:0', 'Clockwise_vs_Anticlock_wise/bias:0', 'Left_vs_Right/kernel:0', 'Left_vs_Right/bias:0', 'Parallel_vs_perpendicular/kernel:0', 'Parallel_vs_perpendicular/bias:0', 'Filled_vs_Unfilled/kernel:0', 'Filled_vs_Unfilled/bias:0', 'Complete_vs_Incomplete/kernel:0', 'Complete_vs_Incomplete/bias:0', 'Intersect_vs_NonIntersect/kernel:0', 'Intersect_vs_NonIntersect/bias:0', 'M_cluster_vs_N_clusters/kernel:0', 'M_cluster_vs_N_clusters/bias:0', 'Above_vs_Below/kernel:0', 'Above_vs_Below/bias:0', 'Size_big_vs_Small/kernel:0', 'Size_big_vs_Small/bias:0', 'Symmetery_vs_Non_symmetery/kernel:0', 'Symmetery_vs_Non_symmetery/bias:0', 'Horizontal_vs_Vertical/kernel:0', 'Horizontal_vs_Vertical/bias:0', 'Empty_vs_Non_Empty/kernel:0', 'Empty_vs_Non_Empty/bias:0'] when minimizing the loss. If you're using `model.compile()`, did you forget to provide a `loss` argument?\n"
     ]
    },
    {
     "name": "stdout",
     "output_type": "stream",
     "text": [
      "80/80 [==============================] - 2s 7ms/step - loss: 0.8117 - center_vs_notincenter_loss: 0.0000e+00 - circle_vs_notcircle_loss: 0.0000e+00 - Closed_vs_Open_figure_loss: 0.0000e+00 - Colinear_vs_Noncolinear_loss: 0.0000e+00 - Concave_vs_Convex_loss: 0.0000e+00 - Four_vs_notfour_side_loss: 0.0000e+00 - Triangle_vs_notTriangle_loss: 0.0000e+00 - Clockwise_vs_Anticlock_wise_loss: 0.0000e+00 - Left_vs_Right_loss: 0.0000e+00 - Parallel_vs_perpendicular_loss: 0.0000e+00 - Filled_vs_Unfilled_loss: 0.0000e+00 - Complete_vs_Incomplete_loss: 0.0000e+00 - Intersect_vs_NonIntersect_loss: 0.0000e+00 - M_cluster_vs_N_clusters_loss: 0.0000e+00 - Above_vs_Below_loss: 0.0000e+00 - Same_vs_Not_Same_loss: 0.8117 - Size_big_vs_Small_loss: 0.0000e+00 - Symmetery_vs_Non_symmetery_loss: 0.0000e+00 - Horizontal_vs_Vertical_loss: 0.0000e+00 - Empty_vs_Non_Empty_loss: 0.0000e+00\n",
      "Epoch 2/10\n",
      "80/80 [==============================] - 1s 7ms/step - loss: 0.6786 - center_vs_notincenter_loss: 0.0000e+00 - circle_vs_notcircle_loss: 0.0000e+00 - Closed_vs_Open_figure_loss: 0.0000e+00 - Colinear_vs_Noncolinear_loss: 0.0000e+00 - Concave_vs_Convex_loss: 0.0000e+00 - Four_vs_notfour_side_loss: 0.0000e+00 - Triangle_vs_notTriangle_loss: 0.0000e+00 - Clockwise_vs_Anticlock_wise_loss: 0.0000e+00 - Left_vs_Right_loss: 0.0000e+00 - Parallel_vs_perpendicular_loss: 0.0000e+00 - Filled_vs_Unfilled_loss: 0.0000e+00 - Complete_vs_Incomplete_loss: 0.0000e+00 - Intersect_vs_NonIntersect_loss: 0.0000e+00 - M_cluster_vs_N_clusters_loss: 0.0000e+00 - Above_vs_Below_loss: 0.0000e+00 - Same_vs_Not_Same_loss: 0.6786 - Size_big_vs_Small_loss: 0.0000e+00 - Symmetery_vs_Non_symmetery_loss: 0.0000e+00 - Horizontal_vs_Vertical_loss: 0.0000e+00 - Empty_vs_Non_Empty_loss: 0.0000e+00\n",
      "Epoch 3/10\n",
      "80/80 [==============================] - 1s 7ms/step - loss: 0.6619 - center_vs_notincenter_loss: 0.0000e+00 - circle_vs_notcircle_loss: 0.0000e+00 - Closed_vs_Open_figure_loss: 0.0000e+00 - Colinear_vs_Noncolinear_loss: 0.0000e+00 - Concave_vs_Convex_loss: 0.0000e+00 - Four_vs_notfour_side_loss: 0.0000e+00 - Triangle_vs_notTriangle_loss: 0.0000e+00 - Clockwise_vs_Anticlock_wise_loss: 0.0000e+00 - Left_vs_Right_loss: 0.0000e+00 - Parallel_vs_perpendicular_loss: 0.0000e+00 - Filled_vs_Unfilled_loss: 0.0000e+00 - Complete_vs_Incomplete_loss: 0.0000e+00 - Intersect_vs_NonIntersect_loss: 0.0000e+00 - M_cluster_vs_N_clusters_loss: 0.0000e+00 - Above_vs_Below_loss: 0.0000e+00 - Same_vs_Not_Same_loss: 0.6619 - Size_big_vs_Small_loss: 0.0000e+00 - Symmetery_vs_Non_symmetery_loss: 0.0000e+00 - Horizontal_vs_Vertical_loss: 0.0000e+00 - Empty_vs_Non_Empty_loss: 0.0000e+00\n",
      "Epoch 4/10\n",
      "80/80 [==============================] - 1s 7ms/step - loss: 0.6130 - center_vs_notincenter_loss: 0.0000e+00 - circle_vs_notcircle_loss: 0.0000e+00 - Closed_vs_Open_figure_loss: 0.0000e+00 - Colinear_vs_Noncolinear_loss: 0.0000e+00 - Concave_vs_Convex_loss: 0.0000e+00 - Four_vs_notfour_side_loss: 0.0000e+00 - Triangle_vs_notTriangle_loss: 0.0000e+00 - Clockwise_vs_Anticlock_wise_loss: 0.0000e+00 - Left_vs_Right_loss: 0.0000e+00 - Parallel_vs_perpendicular_loss: 0.0000e+00 - Filled_vs_Unfilled_loss: 0.0000e+00 - Complete_vs_Incomplete_loss: 0.0000e+00 - Intersect_vs_NonIntersect_loss: 0.0000e+00 - M_cluster_vs_N_clusters_loss: 0.0000e+00 - Above_vs_Below_loss: 0.0000e+00 - Same_vs_Not_Same_loss: 0.6130 - Size_big_vs_Small_loss: 0.0000e+00 - Symmetery_vs_Non_symmetery_loss: 0.0000e+00 - Horizontal_vs_Vertical_loss: 0.0000e+00 - Empty_vs_Non_Empty_loss: 0.0000e+00\n",
      "Epoch 5/10\n",
      "80/80 [==============================] - 1s 7ms/step - loss: 0.5341 - center_vs_notincenter_loss: 0.0000e+00 - circle_vs_notcircle_loss: 0.0000e+00 - Closed_vs_Open_figure_loss: 0.0000e+00 - Colinear_vs_Noncolinear_loss: 0.0000e+00 - Concave_vs_Convex_loss: 0.0000e+00 - Four_vs_notfour_side_loss: 0.0000e+00 - Triangle_vs_notTriangle_loss: 0.0000e+00 - Clockwise_vs_Anticlock_wise_loss: 0.0000e+00 - Left_vs_Right_loss: 0.0000e+00 - Parallel_vs_perpendicular_loss: 0.0000e+00 - Filled_vs_Unfilled_loss: 0.0000e+00 - Complete_vs_Incomplete_loss: 0.0000e+00 - Intersect_vs_NonIntersect_loss: 0.0000e+00 - M_cluster_vs_N_clusters_loss: 0.0000e+00 - Above_vs_Below_loss: 0.0000e+00 - Same_vs_Not_Same_loss: 0.5341 - Size_big_vs_Small_loss: 0.0000e+00 - Symmetery_vs_Non_symmetery_loss: 0.0000e+00 - Horizontal_vs_Vertical_loss: 0.0000e+00 - Empty_vs_Non_Empty_loss: 0.0000e+00\n",
      "Epoch 6/10\n",
      "80/80 [==============================] - 1s 7ms/step - loss: 0.4673 - center_vs_notincenter_loss: 0.0000e+00 - circle_vs_notcircle_loss: 0.0000e+00 - Closed_vs_Open_figure_loss: 0.0000e+00 - Colinear_vs_Noncolinear_loss: 0.0000e+00 - Concave_vs_Convex_loss: 0.0000e+00 - Four_vs_notfour_side_loss: 0.0000e+00 - Triangle_vs_notTriangle_loss: 0.0000e+00 - Clockwise_vs_Anticlock_wise_loss: 0.0000e+00 - Left_vs_Right_loss: 0.0000e+00 - Parallel_vs_perpendicular_loss: 0.0000e+00 - Filled_vs_Unfilled_loss: 0.0000e+00 - Complete_vs_Incomplete_loss: 0.0000e+00 - Intersect_vs_NonIntersect_loss: 0.0000e+00 - M_cluster_vs_N_clusters_loss: 0.0000e+00 - Above_vs_Below_loss: 0.0000e+00 - Same_vs_Not_Same_loss: 0.4673 - Size_big_vs_Small_loss: 0.0000e+00 - Symmetery_vs_Non_symmetery_loss: 0.0000e+00 - Horizontal_vs_Vertical_loss: 0.0000e+00 - Empty_vs_Non_Empty_loss: 0.0000e+00\n",
      "Epoch 7/10\n",
      "80/80 [==============================] - 1s 7ms/step - loss: 0.3747 - center_vs_notincenter_loss: 0.0000e+00 - circle_vs_notcircle_loss: 0.0000e+00 - Closed_vs_Open_figure_loss: 0.0000e+00 - Colinear_vs_Noncolinear_loss: 0.0000e+00 - Concave_vs_Convex_loss: 0.0000e+00 - Four_vs_notfour_side_loss: 0.0000e+00 - Triangle_vs_notTriangle_loss: 0.0000e+00 - Clockwise_vs_Anticlock_wise_loss: 0.0000e+00 - Left_vs_Right_loss: 0.0000e+00 - Parallel_vs_perpendicular_loss: 0.0000e+00 - Filled_vs_Unfilled_loss: 0.0000e+00 - Complete_vs_Incomplete_loss: 0.0000e+00 - Intersect_vs_NonIntersect_loss: 0.0000e+00 - M_cluster_vs_N_clusters_loss: 0.0000e+00 - Above_vs_Below_loss: 0.0000e+00 - Same_vs_Not_Same_loss: 0.3747 - Size_big_vs_Small_loss: 0.0000e+00 - Symmetery_vs_Non_symmetery_loss: 0.0000e+00 - Horizontal_vs_Vertical_loss: 0.0000e+00 - Empty_vs_Non_Empty_loss: 0.0000e+00\n",
      "Epoch 8/10\n",
      "80/80 [==============================] - 1s 7ms/step - loss: 0.2779 - center_vs_notincenter_loss: 0.0000e+00 - circle_vs_notcircle_loss: 0.0000e+00 - Closed_vs_Open_figure_loss: 0.0000e+00 - Colinear_vs_Noncolinear_loss: 0.0000e+00 - Concave_vs_Convex_loss: 0.0000e+00 - Four_vs_notfour_side_loss: 0.0000e+00 - Triangle_vs_notTriangle_loss: 0.0000e+00 - Clockwise_vs_Anticlock_wise_loss: 0.0000e+00 - Left_vs_Right_loss: 0.0000e+00 - Parallel_vs_perpendicular_loss: 0.0000e+00 - Filled_vs_Unfilled_loss: 0.0000e+00 - Complete_vs_Incomplete_loss: 0.0000e+00 - Intersect_vs_NonIntersect_loss: 0.0000e+00 - M_cluster_vs_N_clusters_loss: 0.0000e+00 - Above_vs_Below_loss: 0.0000e+00 - Same_vs_Not_Same_loss: 0.2779 - Size_big_vs_Small_loss: 0.0000e+00 - Symmetery_vs_Non_symmetery_loss: 0.0000e+00 - Horizontal_vs_Vertical_loss: 0.0000e+00 - Empty_vs_Non_Empty_loss: 0.0000e+00\n",
      "Epoch 9/10\n",
      "80/80 [==============================] - 1s 7ms/step - loss: 0.2325 - center_vs_notincenter_loss: 0.0000e+00 - circle_vs_notcircle_loss: 0.0000e+00 - Closed_vs_Open_figure_loss: 0.0000e+00 - Colinear_vs_Noncolinear_loss: 0.0000e+00 - Concave_vs_Convex_loss: 0.0000e+00 - Four_vs_notfour_side_loss: 0.0000e+00 - Triangle_vs_notTriangle_loss: 0.0000e+00 - Clockwise_vs_Anticlock_wise_loss: 0.0000e+00 - Left_vs_Right_loss: 0.0000e+00 - Parallel_vs_perpendicular_loss: 0.0000e+00 - Filled_vs_Unfilled_loss: 0.0000e+00 - Complete_vs_Incomplete_loss: 0.0000e+00 - Intersect_vs_NonIntersect_loss: 0.0000e+00 - M_cluster_vs_N_clusters_loss: 0.0000e+00 - Above_vs_Below_loss: 0.0000e+00 - Same_vs_Not_Same_loss: 0.2325 - Size_big_vs_Small_loss: 0.0000e+00 - Symmetery_vs_Non_symmetery_loss: 0.0000e+00 - Horizontal_vs_Vertical_loss: 0.0000e+00 - Empty_vs_Non_Empty_loss: 0.0000e+00\n",
      "Epoch 10/10\n",
      "80/80 [==============================] - 1s 8ms/step - loss: 0.1673 - center_vs_notincenter_loss: 0.0000e+00 - circle_vs_notcircle_loss: 0.0000e+00 - Closed_vs_Open_figure_loss: 0.0000e+00 - Colinear_vs_Noncolinear_loss: 0.0000e+00 - Concave_vs_Convex_loss: 0.0000e+00 - Four_vs_notfour_side_loss: 0.0000e+00 - Triangle_vs_notTriangle_loss: 0.0000e+00 - Clockwise_vs_Anticlock_wise_loss: 0.0000e+00 - Left_vs_Right_loss: 0.0000e+00 - Parallel_vs_perpendicular_loss: 0.0000e+00 - Filled_vs_Unfilled_loss: 0.0000e+00 - Complete_vs_Incomplete_loss: 0.0000e+00 - Intersect_vs_NonIntersect_loss: 0.0000e+00 - M_cluster_vs_N_clusters_loss: 0.0000e+00 - Above_vs_Below_loss: 0.0000e+00 - Same_vs_Not_Same_loss: 0.1673 - Size_big_vs_Small_loss: 0.0000e+00 - Symmetery_vs_Non_symmetery_loss: 0.0000e+00 - Horizontal_vs_Vertical_loss: 0.0000e+00 - Empty_vs_Non_Empty_loss: 0.0000e+00\n",
      "20/20 [==============================] - 0s 3ms/step\n",
      "binary_predictions_head:  [0 1]\n",
      "Accuracy for Classifier C15: 0.628125\n",
      "Final_test_accuracies till now:  [0.92, 0.95, 0.98, 0.93, 0.61, 0.55, 0.84, 0.68, 0.48, 0.94, 0.55, 0.79, 0.74, 0.93, 0.86, 0.52, 0.63]\n"
     ]
    }
   ],
   "source": [
    "Model_history=model.fit(X[15], {output_names[15]: Y[15]}, epochs=10)\n",
    "\n",
    "Temp_var=check_accuracy1(C15_X_test,C15_y_test,15)\n",
    "Rounded_accuracy = round(Temp_var, 2)\n",
    "Final_test_accuracies.append(Rounded_accuracy)\n",
    "print(\"Final_test_accuracies till now: \",Final_test_accuracies)\n",
    "\n",
    "Training_loss=Model_history.history['loss']\n",
    "for i in range(10):\n",
    "  globals()[f'training_loss_epoch_{i}'].append(Training_loss[i])"
   ]
  },
  {
   "cell_type": "markdown",
   "id": "s6195uFhOrIh",
   "metadata": {
    "id": "s6195uFhOrIh"
   },
   "source": [
    "### Head 16 checking"
   ]
  },
  {
   "cell_type": "code",
   "execution_count": 34,
   "id": "EIUO4yo2OrWk",
   "metadata": {
    "colab": {
     "base_uri": "https://localhost:8080/"
    },
    "id": "EIUO4yo2OrWk",
    "outputId": "f060d702-c60c-4e53-e42e-1e24932254ba"
   },
   "outputs": [
    {
     "name": "stdout",
     "output_type": "stream",
     "text": [
      "Epoch 1/10\n"
     ]
    },
    {
     "name": "stderr",
     "output_type": "stream",
     "text": [
      "WARNING:tensorflow:Gradients do not exist for variables ['center_vs_notincenter/kernel:0', 'center_vs_notincenter/bias:0', 'circle_vs_notcircle/kernel:0', 'circle_vs_notcircle/bias:0', 'Closed_vs_Open_figure/kernel:0', 'Closed_vs_Open_figure/bias:0', 'Colinear_vs_Noncolinear/kernel:0', 'Colinear_vs_Noncolinear/bias:0', 'Concave_vs_Convex/kernel:0', 'Concave_vs_Convex/bias:0', 'Four_vs_notfour_side/kernel:0', 'Four_vs_notfour_side/bias:0', 'Triangle_vs_notTriangle/kernel:0', 'Triangle_vs_notTriangle/bias:0', 'Clockwise_vs_Anticlock_wise/kernel:0', 'Clockwise_vs_Anticlock_wise/bias:0', 'Left_vs_Right/kernel:0', 'Left_vs_Right/bias:0', 'Parallel_vs_perpendicular/kernel:0', 'Parallel_vs_perpendicular/bias:0', 'Filled_vs_Unfilled/kernel:0', 'Filled_vs_Unfilled/bias:0', 'Complete_vs_Incomplete/kernel:0', 'Complete_vs_Incomplete/bias:0', 'Intersect_vs_NonIntersect/kernel:0', 'Intersect_vs_NonIntersect/bias:0', 'M_cluster_vs_N_clusters/kernel:0', 'M_cluster_vs_N_clusters/bias:0', 'Above_vs_Below/kernel:0', 'Above_vs_Below/bias:0', 'Same_vs_Not_Same/kernel:0', 'Same_vs_Not_Same/bias:0', 'Symmetery_vs_Non_symmetery/kernel:0', 'Symmetery_vs_Non_symmetery/bias:0', 'Horizontal_vs_Vertical/kernel:0', 'Horizontal_vs_Vertical/bias:0', 'Empty_vs_Non_Empty/kernel:0', 'Empty_vs_Non_Empty/bias:0'] when minimizing the loss. If you're using `model.compile()`, did you forget to provide a `loss` argument?\n",
      "WARNING:tensorflow:Gradients do not exist for variables ['center_vs_notincenter/kernel:0', 'center_vs_notincenter/bias:0', 'circle_vs_notcircle/kernel:0', 'circle_vs_notcircle/bias:0', 'Closed_vs_Open_figure/kernel:0', 'Closed_vs_Open_figure/bias:0', 'Colinear_vs_Noncolinear/kernel:0', 'Colinear_vs_Noncolinear/bias:0', 'Concave_vs_Convex/kernel:0', 'Concave_vs_Convex/bias:0', 'Four_vs_notfour_side/kernel:0', 'Four_vs_notfour_side/bias:0', 'Triangle_vs_notTriangle/kernel:0', 'Triangle_vs_notTriangle/bias:0', 'Clockwise_vs_Anticlock_wise/kernel:0', 'Clockwise_vs_Anticlock_wise/bias:0', 'Left_vs_Right/kernel:0', 'Left_vs_Right/bias:0', 'Parallel_vs_perpendicular/kernel:0', 'Parallel_vs_perpendicular/bias:0', 'Filled_vs_Unfilled/kernel:0', 'Filled_vs_Unfilled/bias:0', 'Complete_vs_Incomplete/kernel:0', 'Complete_vs_Incomplete/bias:0', 'Intersect_vs_NonIntersect/kernel:0', 'Intersect_vs_NonIntersect/bias:0', 'M_cluster_vs_N_clusters/kernel:0', 'M_cluster_vs_N_clusters/bias:0', 'Above_vs_Below/kernel:0', 'Above_vs_Below/bias:0', 'Same_vs_Not_Same/kernel:0', 'Same_vs_Not_Same/bias:0', 'Symmetery_vs_Non_symmetery/kernel:0', 'Symmetery_vs_Non_symmetery/bias:0', 'Horizontal_vs_Vertical/kernel:0', 'Horizontal_vs_Vertical/bias:0', 'Empty_vs_Non_Empty/kernel:0', 'Empty_vs_Non_Empty/bias:0'] when minimizing the loss. If you're using `model.compile()`, did you forget to provide a `loss` argument?\n"
     ]
    },
    {
     "name": "stdout",
     "output_type": "stream",
     "text": [
      "50/50 [==============================] - 1s 7ms/step - loss: 0.8467 - center_vs_notincenter_loss: 0.0000e+00 - circle_vs_notcircle_loss: 0.0000e+00 - Closed_vs_Open_figure_loss: 0.0000e+00 - Colinear_vs_Noncolinear_loss: 0.0000e+00 - Concave_vs_Convex_loss: 0.0000e+00 - Four_vs_notfour_side_loss: 0.0000e+00 - Triangle_vs_notTriangle_loss: 0.0000e+00 - Clockwise_vs_Anticlock_wise_loss: 0.0000e+00 - Left_vs_Right_loss: 0.0000e+00 - Parallel_vs_perpendicular_loss: 0.0000e+00 - Filled_vs_Unfilled_loss: 0.0000e+00 - Complete_vs_Incomplete_loss: 0.0000e+00 - Intersect_vs_NonIntersect_loss: 0.0000e+00 - M_cluster_vs_N_clusters_loss: 0.0000e+00 - Above_vs_Below_loss: 0.0000e+00 - Same_vs_Not_Same_loss: 0.0000e+00 - Size_big_vs_Small_loss: 0.8467 - Symmetery_vs_Non_symmetery_loss: 0.0000e+00 - Horizontal_vs_Vertical_loss: 0.0000e+00 - Empty_vs_Non_Empty_loss: 0.0000e+00\n",
      "Epoch 2/10\n",
      "50/50 [==============================] - 0s 7ms/step - loss: 0.4764 - center_vs_notincenter_loss: 0.0000e+00 - circle_vs_notcircle_loss: 0.0000e+00 - Closed_vs_Open_figure_loss: 0.0000e+00 - Colinear_vs_Noncolinear_loss: 0.0000e+00 - Concave_vs_Convex_loss: 0.0000e+00 - Four_vs_notfour_side_loss: 0.0000e+00 - Triangle_vs_notTriangle_loss: 0.0000e+00 - Clockwise_vs_Anticlock_wise_loss: 0.0000e+00 - Left_vs_Right_loss: 0.0000e+00 - Parallel_vs_perpendicular_loss: 0.0000e+00 - Filled_vs_Unfilled_loss: 0.0000e+00 - Complete_vs_Incomplete_loss: 0.0000e+00 - Intersect_vs_NonIntersect_loss: 0.0000e+00 - M_cluster_vs_N_clusters_loss: 0.0000e+00 - Above_vs_Below_loss: 0.0000e+00 - Same_vs_Not_Same_loss: 0.0000e+00 - Size_big_vs_Small_loss: 0.4764 - Symmetery_vs_Non_symmetery_loss: 0.0000e+00 - Horizontal_vs_Vertical_loss: 0.0000e+00 - Empty_vs_Non_Empty_loss: 0.0000e+00\n",
      "Epoch 3/10\n",
      "50/50 [==============================] - 0s 7ms/step - loss: 0.2662 - center_vs_notincenter_loss: 0.0000e+00 - circle_vs_notcircle_loss: 0.0000e+00 - Closed_vs_Open_figure_loss: 0.0000e+00 - Colinear_vs_Noncolinear_loss: 0.0000e+00 - Concave_vs_Convex_loss: 0.0000e+00 - Four_vs_notfour_side_loss: 0.0000e+00 - Triangle_vs_notTriangle_loss: 0.0000e+00 - Clockwise_vs_Anticlock_wise_loss: 0.0000e+00 - Left_vs_Right_loss: 0.0000e+00 - Parallel_vs_perpendicular_loss: 0.0000e+00 - Filled_vs_Unfilled_loss: 0.0000e+00 - Complete_vs_Incomplete_loss: 0.0000e+00 - Intersect_vs_NonIntersect_loss: 0.0000e+00 - M_cluster_vs_N_clusters_loss: 0.0000e+00 - Above_vs_Below_loss: 0.0000e+00 - Same_vs_Not_Same_loss: 0.0000e+00 - Size_big_vs_Small_loss: 0.2662 - Symmetery_vs_Non_symmetery_loss: 0.0000e+00 - Horizontal_vs_Vertical_loss: 0.0000e+00 - Empty_vs_Non_Empty_loss: 0.0000e+00\n",
      "Epoch 4/10\n",
      "50/50 [==============================] - 0s 7ms/step - loss: 0.1123 - center_vs_notincenter_loss: 0.0000e+00 - circle_vs_notcircle_loss: 0.0000e+00 - Closed_vs_Open_figure_loss: 0.0000e+00 - Colinear_vs_Noncolinear_loss: 0.0000e+00 - Concave_vs_Convex_loss: 0.0000e+00 - Four_vs_notfour_side_loss: 0.0000e+00 - Triangle_vs_notTriangle_loss: 0.0000e+00 - Clockwise_vs_Anticlock_wise_loss: 0.0000e+00 - Left_vs_Right_loss: 0.0000e+00 - Parallel_vs_perpendicular_loss: 0.0000e+00 - Filled_vs_Unfilled_loss: 0.0000e+00 - Complete_vs_Incomplete_loss: 0.0000e+00 - Intersect_vs_NonIntersect_loss: 0.0000e+00 - M_cluster_vs_N_clusters_loss: 0.0000e+00 - Above_vs_Below_loss: 0.0000e+00 - Same_vs_Not_Same_loss: 0.0000e+00 - Size_big_vs_Small_loss: 0.1123 - Symmetery_vs_Non_symmetery_loss: 0.0000e+00 - Horizontal_vs_Vertical_loss: 0.0000e+00 - Empty_vs_Non_Empty_loss: 0.0000e+00\n",
      "Epoch 5/10\n",
      "50/50 [==============================] - 0s 7ms/step - loss: 0.0562 - center_vs_notincenter_loss: 0.0000e+00 - circle_vs_notcircle_loss: 0.0000e+00 - Closed_vs_Open_figure_loss: 0.0000e+00 - Colinear_vs_Noncolinear_loss: 0.0000e+00 - Concave_vs_Convex_loss: 0.0000e+00 - Four_vs_notfour_side_loss: 0.0000e+00 - Triangle_vs_notTriangle_loss: 0.0000e+00 - Clockwise_vs_Anticlock_wise_loss: 0.0000e+00 - Left_vs_Right_loss: 0.0000e+00 - Parallel_vs_perpendicular_loss: 0.0000e+00 - Filled_vs_Unfilled_loss: 0.0000e+00 - Complete_vs_Incomplete_loss: 0.0000e+00 - Intersect_vs_NonIntersect_loss: 0.0000e+00 - M_cluster_vs_N_clusters_loss: 0.0000e+00 - Above_vs_Below_loss: 0.0000e+00 - Same_vs_Not_Same_loss: 0.0000e+00 - Size_big_vs_Small_loss: 0.0562 - Symmetery_vs_Non_symmetery_loss: 0.0000e+00 - Horizontal_vs_Vertical_loss: 0.0000e+00 - Empty_vs_Non_Empty_loss: 0.0000e+00\n",
      "Epoch 6/10\n",
      "50/50 [==============================] - 0s 7ms/step - loss: 0.0355 - center_vs_notincenter_loss: 0.0000e+00 - circle_vs_notcircle_loss: 0.0000e+00 - Closed_vs_Open_figure_loss: 0.0000e+00 - Colinear_vs_Noncolinear_loss: 0.0000e+00 - Concave_vs_Convex_loss: 0.0000e+00 - Four_vs_notfour_side_loss: 0.0000e+00 - Triangle_vs_notTriangle_loss: 0.0000e+00 - Clockwise_vs_Anticlock_wise_loss: 0.0000e+00 - Left_vs_Right_loss: 0.0000e+00 - Parallel_vs_perpendicular_loss: 0.0000e+00 - Filled_vs_Unfilled_loss: 0.0000e+00 - Complete_vs_Incomplete_loss: 0.0000e+00 - Intersect_vs_NonIntersect_loss: 0.0000e+00 - M_cluster_vs_N_clusters_loss: 0.0000e+00 - Above_vs_Below_loss: 0.0000e+00 - Same_vs_Not_Same_loss: 0.0000e+00 - Size_big_vs_Small_loss: 0.0355 - Symmetery_vs_Non_symmetery_loss: 0.0000e+00 - Horizontal_vs_Vertical_loss: 0.0000e+00 - Empty_vs_Non_Empty_loss: 0.0000e+00\n",
      "Epoch 7/10\n",
      "50/50 [==============================] - 0s 7ms/step - loss: 0.0281 - center_vs_notincenter_loss: 0.0000e+00 - circle_vs_notcircle_loss: 0.0000e+00 - Closed_vs_Open_figure_loss: 0.0000e+00 - Colinear_vs_Noncolinear_loss: 0.0000e+00 - Concave_vs_Convex_loss: 0.0000e+00 - Four_vs_notfour_side_loss: 0.0000e+00 - Triangle_vs_notTriangle_loss: 0.0000e+00 - Clockwise_vs_Anticlock_wise_loss: 0.0000e+00 - Left_vs_Right_loss: 0.0000e+00 - Parallel_vs_perpendicular_loss: 0.0000e+00 - Filled_vs_Unfilled_loss: 0.0000e+00 - Complete_vs_Incomplete_loss: 0.0000e+00 - Intersect_vs_NonIntersect_loss: 0.0000e+00 - M_cluster_vs_N_clusters_loss: 0.0000e+00 - Above_vs_Below_loss: 0.0000e+00 - Same_vs_Not_Same_loss: 0.0000e+00 - Size_big_vs_Small_loss: 0.0281 - Symmetery_vs_Non_symmetery_loss: 0.0000e+00 - Horizontal_vs_Vertical_loss: 0.0000e+00 - Empty_vs_Non_Empty_loss: 0.0000e+00\n",
      "Epoch 8/10\n",
      "50/50 [==============================] - 0s 7ms/step - loss: 0.0207 - center_vs_notincenter_loss: 0.0000e+00 - circle_vs_notcircle_loss: 0.0000e+00 - Closed_vs_Open_figure_loss: 0.0000e+00 - Colinear_vs_Noncolinear_loss: 0.0000e+00 - Concave_vs_Convex_loss: 0.0000e+00 - Four_vs_notfour_side_loss: 0.0000e+00 - Triangle_vs_notTriangle_loss: 0.0000e+00 - Clockwise_vs_Anticlock_wise_loss: 0.0000e+00 - Left_vs_Right_loss: 0.0000e+00 - Parallel_vs_perpendicular_loss: 0.0000e+00 - Filled_vs_Unfilled_loss: 0.0000e+00 - Complete_vs_Incomplete_loss: 0.0000e+00 - Intersect_vs_NonIntersect_loss: 0.0000e+00 - M_cluster_vs_N_clusters_loss: 0.0000e+00 - Above_vs_Below_loss: 0.0000e+00 - Same_vs_Not_Same_loss: 0.0000e+00 - Size_big_vs_Small_loss: 0.0207 - Symmetery_vs_Non_symmetery_loss: 0.0000e+00 - Horizontal_vs_Vertical_loss: 0.0000e+00 - Empty_vs_Non_Empty_loss: 0.0000e+00\n",
      "Epoch 9/10\n",
      "50/50 [==============================] - 0s 7ms/step - loss: 0.0169 - center_vs_notincenter_loss: 0.0000e+00 - circle_vs_notcircle_loss: 0.0000e+00 - Closed_vs_Open_figure_loss: 0.0000e+00 - Colinear_vs_Noncolinear_loss: 0.0000e+00 - Concave_vs_Convex_loss: 0.0000e+00 - Four_vs_notfour_side_loss: 0.0000e+00 - Triangle_vs_notTriangle_loss: 0.0000e+00 - Clockwise_vs_Anticlock_wise_loss: 0.0000e+00 - Left_vs_Right_loss: 0.0000e+00 - Parallel_vs_perpendicular_loss: 0.0000e+00 - Filled_vs_Unfilled_loss: 0.0000e+00 - Complete_vs_Incomplete_loss: 0.0000e+00 - Intersect_vs_NonIntersect_loss: 0.0000e+00 - M_cluster_vs_N_clusters_loss: 0.0000e+00 - Above_vs_Below_loss: 0.0000e+00 - Same_vs_Not_Same_loss: 0.0000e+00 - Size_big_vs_Small_loss: 0.0169 - Symmetery_vs_Non_symmetery_loss: 0.0000e+00 - Horizontal_vs_Vertical_loss: 0.0000e+00 - Empty_vs_Non_Empty_loss: 0.0000e+00\n",
      "Epoch 10/10\n",
      "50/50 [==============================] - 0s 7ms/step - loss: 0.0153 - center_vs_notincenter_loss: 0.0000e+00 - circle_vs_notcircle_loss: 0.0000e+00 - Closed_vs_Open_figure_loss: 0.0000e+00 - Colinear_vs_Noncolinear_loss: 0.0000e+00 - Concave_vs_Convex_loss: 0.0000e+00 - Four_vs_notfour_side_loss: 0.0000e+00 - Triangle_vs_notTriangle_loss: 0.0000e+00 - Clockwise_vs_Anticlock_wise_loss: 0.0000e+00 - Left_vs_Right_loss: 0.0000e+00 - Parallel_vs_perpendicular_loss: 0.0000e+00 - Filled_vs_Unfilled_loss: 0.0000e+00 - Complete_vs_Incomplete_loss: 0.0000e+00 - Intersect_vs_NonIntersect_loss: 0.0000e+00 - M_cluster_vs_N_clusters_loss: 0.0000e+00 - Above_vs_Below_loss: 0.0000e+00 - Same_vs_Not_Same_loss: 0.0000e+00 - Size_big_vs_Small_loss: 0.0153 - Symmetery_vs_Non_symmetery_loss: 0.0000e+00 - Horizontal_vs_Vertical_loss: 0.0000e+00 - Empty_vs_Non_Empty_loss: 0.0000e+00\n",
      "13/13 [==============================] - 0s 3ms/step\n",
      "binary_predictions_head:  [0 1]\n",
      "Accuracy for Classifier C16: 0.9425\n",
      "Final_test_accuracies till now:  [0.92, 0.95, 0.98, 0.93, 0.61, 0.55, 0.84, 0.68, 0.48, 0.94, 0.55, 0.79, 0.74, 0.93, 0.86, 0.52, 0.63, 0.94]\n"
     ]
    }
   ],
   "source": [
    "Model_history=model.fit(X[16], {output_names[16]: Y[16]}, epochs=10)\n",
    "\n",
    "Temp_var=check_accuracy1(C16_X_test,C16_y_test,16)\n",
    "Rounded_accuracy = round(Temp_var, 2)\n",
    "Final_test_accuracies.append(Rounded_accuracy)\n",
    "print(\"Final_test_accuracies till now: \",Final_test_accuracies)\n",
    "\n",
    "Training_loss=Model_history.history['loss']\n",
    "for i in range(10):\n",
    "  globals()[f'training_loss_epoch_{i}'].append(Training_loss[i])"
   ]
  },
  {
   "cell_type": "markdown",
   "id": "LXS-xHi4OvP-",
   "metadata": {
    "id": "LXS-xHi4OvP-"
   },
   "source": [
    "### Head 17 checking"
   ]
  },
  {
   "cell_type": "code",
   "execution_count": 35,
   "id": "UeUaoTt3Ovdx",
   "metadata": {
    "colab": {
     "base_uri": "https://localhost:8080/"
    },
    "id": "UeUaoTt3Ovdx",
    "outputId": "38f7bc1f-fa44-47cd-f714-af1a3566c891"
   },
   "outputs": [
    {
     "name": "stdout",
     "output_type": "stream",
     "text": [
      "Epoch 1/10\n"
     ]
    },
    {
     "name": "stderr",
     "output_type": "stream",
     "text": [
      "WARNING:tensorflow:Gradients do not exist for variables ['center_vs_notincenter/kernel:0', 'center_vs_notincenter/bias:0', 'circle_vs_notcircle/kernel:0', 'circle_vs_notcircle/bias:0', 'Closed_vs_Open_figure/kernel:0', 'Closed_vs_Open_figure/bias:0', 'Colinear_vs_Noncolinear/kernel:0', 'Colinear_vs_Noncolinear/bias:0', 'Concave_vs_Convex/kernel:0', 'Concave_vs_Convex/bias:0', 'Four_vs_notfour_side/kernel:0', 'Four_vs_notfour_side/bias:0', 'Triangle_vs_notTriangle/kernel:0', 'Triangle_vs_notTriangle/bias:0', 'Clockwise_vs_Anticlock_wise/kernel:0', 'Clockwise_vs_Anticlock_wise/bias:0', 'Left_vs_Right/kernel:0', 'Left_vs_Right/bias:0', 'Parallel_vs_perpendicular/kernel:0', 'Parallel_vs_perpendicular/bias:0', 'Filled_vs_Unfilled/kernel:0', 'Filled_vs_Unfilled/bias:0', 'Complete_vs_Incomplete/kernel:0', 'Complete_vs_Incomplete/bias:0', 'Intersect_vs_NonIntersect/kernel:0', 'Intersect_vs_NonIntersect/bias:0', 'M_cluster_vs_N_clusters/kernel:0', 'M_cluster_vs_N_clusters/bias:0', 'Above_vs_Below/kernel:0', 'Above_vs_Below/bias:0', 'Same_vs_Not_Same/kernel:0', 'Same_vs_Not_Same/bias:0', 'Size_big_vs_Small/kernel:0', 'Size_big_vs_Small/bias:0', 'Horizontal_vs_Vertical/kernel:0', 'Horizontal_vs_Vertical/bias:0', 'Empty_vs_Non_Empty/kernel:0', 'Empty_vs_Non_Empty/bias:0'] when minimizing the loss. If you're using `model.compile()`, did you forget to provide a `loss` argument?\n",
      "WARNING:tensorflow:Gradients do not exist for variables ['center_vs_notincenter/kernel:0', 'center_vs_notincenter/bias:0', 'circle_vs_notcircle/kernel:0', 'circle_vs_notcircle/bias:0', 'Closed_vs_Open_figure/kernel:0', 'Closed_vs_Open_figure/bias:0', 'Colinear_vs_Noncolinear/kernel:0', 'Colinear_vs_Noncolinear/bias:0', 'Concave_vs_Convex/kernel:0', 'Concave_vs_Convex/bias:0', 'Four_vs_notfour_side/kernel:0', 'Four_vs_notfour_side/bias:0', 'Triangle_vs_notTriangle/kernel:0', 'Triangle_vs_notTriangle/bias:0', 'Clockwise_vs_Anticlock_wise/kernel:0', 'Clockwise_vs_Anticlock_wise/bias:0', 'Left_vs_Right/kernel:0', 'Left_vs_Right/bias:0', 'Parallel_vs_perpendicular/kernel:0', 'Parallel_vs_perpendicular/bias:0', 'Filled_vs_Unfilled/kernel:0', 'Filled_vs_Unfilled/bias:0', 'Complete_vs_Incomplete/kernel:0', 'Complete_vs_Incomplete/bias:0', 'Intersect_vs_NonIntersect/kernel:0', 'Intersect_vs_NonIntersect/bias:0', 'M_cluster_vs_N_clusters/kernel:0', 'M_cluster_vs_N_clusters/bias:0', 'Above_vs_Below/kernel:0', 'Above_vs_Below/bias:0', 'Same_vs_Not_Same/kernel:0', 'Same_vs_Not_Same/bias:0', 'Size_big_vs_Small/kernel:0', 'Size_big_vs_Small/bias:0', 'Horizontal_vs_Vertical/kernel:0', 'Horizontal_vs_Vertical/bias:0', 'Empty_vs_Non_Empty/kernel:0', 'Empty_vs_Non_Empty/bias:0'] when minimizing the loss. If you're using `model.compile()`, did you forget to provide a `loss` argument?\n"
     ]
    },
    {
     "name": "stdout",
     "output_type": "stream",
     "text": [
      "137/137 [==============================] - 2s 9ms/step - loss: 0.5775 - center_vs_notincenter_loss: 0.0000e+00 - circle_vs_notcircle_loss: 0.0000e+00 - Closed_vs_Open_figure_loss: 0.0000e+00 - Colinear_vs_Noncolinear_loss: 0.0000e+00 - Concave_vs_Convex_loss: 0.0000e+00 - Four_vs_notfour_side_loss: 0.0000e+00 - Triangle_vs_notTriangle_loss: 0.0000e+00 - Clockwise_vs_Anticlock_wise_loss: 0.0000e+00 - Left_vs_Right_loss: 0.0000e+00 - Parallel_vs_perpendicular_loss: 0.0000e+00 - Filled_vs_Unfilled_loss: 0.0000e+00 - Complete_vs_Incomplete_loss: 0.0000e+00 - Intersect_vs_NonIntersect_loss: 0.0000e+00 - M_cluster_vs_N_clusters_loss: 0.0000e+00 - Above_vs_Below_loss: 0.0000e+00 - Same_vs_Not_Same_loss: 0.0000e+00 - Size_big_vs_Small_loss: 0.0000e+00 - Symmetery_vs_Non_symmetery_loss: 0.5775 - Horizontal_vs_Vertical_loss: 0.0000e+00 - Empty_vs_Non_Empty_loss: 0.0000e+00\n",
      "Epoch 2/10\n",
      "137/137 [==============================] - 1s 8ms/step - loss: 0.1778 - center_vs_notincenter_loss: 0.0000e+00 - circle_vs_notcircle_loss: 0.0000e+00 - Closed_vs_Open_figure_loss: 0.0000e+00 - Colinear_vs_Noncolinear_loss: 0.0000e+00 - Concave_vs_Convex_loss: 0.0000e+00 - Four_vs_notfour_side_loss: 0.0000e+00 - Triangle_vs_notTriangle_loss: 0.0000e+00 - Clockwise_vs_Anticlock_wise_loss: 0.0000e+00 - Left_vs_Right_loss: 0.0000e+00 - Parallel_vs_perpendicular_loss: 0.0000e+00 - Filled_vs_Unfilled_loss: 0.0000e+00 - Complete_vs_Incomplete_loss: 0.0000e+00 - Intersect_vs_NonIntersect_loss: 0.0000e+00 - M_cluster_vs_N_clusters_loss: 0.0000e+00 - Above_vs_Below_loss: 0.0000e+00 - Same_vs_Not_Same_loss: 0.0000e+00 - Size_big_vs_Small_loss: 0.0000e+00 - Symmetery_vs_Non_symmetery_loss: 0.1778 - Horizontal_vs_Vertical_loss: 0.0000e+00 - Empty_vs_Non_Empty_loss: 0.0000e+00\n",
      "Epoch 3/10\n",
      "137/137 [==============================] - 1s 8ms/step - loss: 0.0768 - center_vs_notincenter_loss: 0.0000e+00 - circle_vs_notcircle_loss: 0.0000e+00 - Closed_vs_Open_figure_loss: 0.0000e+00 - Colinear_vs_Noncolinear_loss: 0.0000e+00 - Concave_vs_Convex_loss: 0.0000e+00 - Four_vs_notfour_side_loss: 0.0000e+00 - Triangle_vs_notTriangle_loss: 0.0000e+00 - Clockwise_vs_Anticlock_wise_loss: 0.0000e+00 - Left_vs_Right_loss: 0.0000e+00 - Parallel_vs_perpendicular_loss: 0.0000e+00 - Filled_vs_Unfilled_loss: 0.0000e+00 - Complete_vs_Incomplete_loss: 0.0000e+00 - Intersect_vs_NonIntersect_loss: 0.0000e+00 - M_cluster_vs_N_clusters_loss: 0.0000e+00 - Above_vs_Below_loss: 0.0000e+00 - Same_vs_Not_Same_loss: 0.0000e+00 - Size_big_vs_Small_loss: 0.0000e+00 - Symmetery_vs_Non_symmetery_loss: 0.0768 - Horizontal_vs_Vertical_loss: 0.0000e+00 - Empty_vs_Non_Empty_loss: 0.0000e+00\n",
      "Epoch 4/10\n",
      "137/137 [==============================] - 1s 8ms/step - loss: 0.0261 - center_vs_notincenter_loss: 0.0000e+00 - circle_vs_notcircle_loss: 0.0000e+00 - Closed_vs_Open_figure_loss: 0.0000e+00 - Colinear_vs_Noncolinear_loss: 0.0000e+00 - Concave_vs_Convex_loss: 0.0000e+00 - Four_vs_notfour_side_loss: 0.0000e+00 - Triangle_vs_notTriangle_loss: 0.0000e+00 - Clockwise_vs_Anticlock_wise_loss: 0.0000e+00 - Left_vs_Right_loss: 0.0000e+00 - Parallel_vs_perpendicular_loss: 0.0000e+00 - Filled_vs_Unfilled_loss: 0.0000e+00 - Complete_vs_Incomplete_loss: 0.0000e+00 - Intersect_vs_NonIntersect_loss: 0.0000e+00 - M_cluster_vs_N_clusters_loss: 0.0000e+00 - Above_vs_Below_loss: 0.0000e+00 - Same_vs_Not_Same_loss: 0.0000e+00 - Size_big_vs_Small_loss: 0.0000e+00 - Symmetery_vs_Non_symmetery_loss: 0.0261 - Horizontal_vs_Vertical_loss: 0.0000e+00 - Empty_vs_Non_Empty_loss: 0.0000e+00\n",
      "Epoch 5/10\n",
      "137/137 [==============================] - 1s 8ms/step - loss: 0.0117 - center_vs_notincenter_loss: 0.0000e+00 - circle_vs_notcircle_loss: 0.0000e+00 - Closed_vs_Open_figure_loss: 0.0000e+00 - Colinear_vs_Noncolinear_loss: 0.0000e+00 - Concave_vs_Convex_loss: 0.0000e+00 - Four_vs_notfour_side_loss: 0.0000e+00 - Triangle_vs_notTriangle_loss: 0.0000e+00 - Clockwise_vs_Anticlock_wise_loss: 0.0000e+00 - Left_vs_Right_loss: 0.0000e+00 - Parallel_vs_perpendicular_loss: 0.0000e+00 - Filled_vs_Unfilled_loss: 0.0000e+00 - Complete_vs_Incomplete_loss: 0.0000e+00 - Intersect_vs_NonIntersect_loss: 0.0000e+00 - M_cluster_vs_N_clusters_loss: 0.0000e+00 - Above_vs_Below_loss: 0.0000e+00 - Same_vs_Not_Same_loss: 0.0000e+00 - Size_big_vs_Small_loss: 0.0000e+00 - Symmetery_vs_Non_symmetery_loss: 0.0117 - Horizontal_vs_Vertical_loss: 0.0000e+00 - Empty_vs_Non_Empty_loss: 0.0000e+00\n",
      "Epoch 6/10\n",
      "137/137 [==============================] - 1s 8ms/step - loss: 0.0058 - center_vs_notincenter_loss: 0.0000e+00 - circle_vs_notcircle_loss: 0.0000e+00 - Closed_vs_Open_figure_loss: 0.0000e+00 - Colinear_vs_Noncolinear_loss: 0.0000e+00 - Concave_vs_Convex_loss: 0.0000e+00 - Four_vs_notfour_side_loss: 0.0000e+00 - Triangle_vs_notTriangle_loss: 0.0000e+00 - Clockwise_vs_Anticlock_wise_loss: 0.0000e+00 - Left_vs_Right_loss: 0.0000e+00 - Parallel_vs_perpendicular_loss: 0.0000e+00 - Filled_vs_Unfilled_loss: 0.0000e+00 - Complete_vs_Incomplete_loss: 0.0000e+00 - Intersect_vs_NonIntersect_loss: 0.0000e+00 - M_cluster_vs_N_clusters_loss: 0.0000e+00 - Above_vs_Below_loss: 0.0000e+00 - Same_vs_Not_Same_loss: 0.0000e+00 - Size_big_vs_Small_loss: 0.0000e+00 - Symmetery_vs_Non_symmetery_loss: 0.0058 - Horizontal_vs_Vertical_loss: 0.0000e+00 - Empty_vs_Non_Empty_loss: 0.0000e+00\n",
      "Epoch 7/10\n",
      "137/137 [==============================] - 1s 7ms/step - loss: 0.0032 - center_vs_notincenter_loss: 0.0000e+00 - circle_vs_notcircle_loss: 0.0000e+00 - Closed_vs_Open_figure_loss: 0.0000e+00 - Colinear_vs_Noncolinear_loss: 0.0000e+00 - Concave_vs_Convex_loss: 0.0000e+00 - Four_vs_notfour_side_loss: 0.0000e+00 - Triangle_vs_notTriangle_loss: 0.0000e+00 - Clockwise_vs_Anticlock_wise_loss: 0.0000e+00 - Left_vs_Right_loss: 0.0000e+00 - Parallel_vs_perpendicular_loss: 0.0000e+00 - Filled_vs_Unfilled_loss: 0.0000e+00 - Complete_vs_Incomplete_loss: 0.0000e+00 - Intersect_vs_NonIntersect_loss: 0.0000e+00 - M_cluster_vs_N_clusters_loss: 0.0000e+00 - Above_vs_Below_loss: 0.0000e+00 - Same_vs_Not_Same_loss: 0.0000e+00 - Size_big_vs_Small_loss: 0.0000e+00 - Symmetery_vs_Non_symmetery_loss: 0.0032 - Horizontal_vs_Vertical_loss: 0.0000e+00 - Empty_vs_Non_Empty_loss: 0.0000e+00\n",
      "Epoch 8/10\n",
      "137/137 [==============================] - 1s 7ms/step - loss: 0.0021 - center_vs_notincenter_loss: 0.0000e+00 - circle_vs_notcircle_loss: 0.0000e+00 - Closed_vs_Open_figure_loss: 0.0000e+00 - Colinear_vs_Noncolinear_loss: 0.0000e+00 - Concave_vs_Convex_loss: 0.0000e+00 - Four_vs_notfour_side_loss: 0.0000e+00 - Triangle_vs_notTriangle_loss: 0.0000e+00 - Clockwise_vs_Anticlock_wise_loss: 0.0000e+00 - Left_vs_Right_loss: 0.0000e+00 - Parallel_vs_perpendicular_loss: 0.0000e+00 - Filled_vs_Unfilled_loss: 0.0000e+00 - Complete_vs_Incomplete_loss: 0.0000e+00 - Intersect_vs_NonIntersect_loss: 0.0000e+00 - M_cluster_vs_N_clusters_loss: 0.0000e+00 - Above_vs_Below_loss: 0.0000e+00 - Same_vs_Not_Same_loss: 0.0000e+00 - Size_big_vs_Small_loss: 0.0000e+00 - Symmetery_vs_Non_symmetery_loss: 0.0021 - Horizontal_vs_Vertical_loss: 0.0000e+00 - Empty_vs_Non_Empty_loss: 0.0000e+00\n",
      "Epoch 9/10\n",
      "137/137 [==============================] - 1s 8ms/step - loss: 0.0013 - center_vs_notincenter_loss: 0.0000e+00 - circle_vs_notcircle_loss: 0.0000e+00 - Closed_vs_Open_figure_loss: 0.0000e+00 - Colinear_vs_Noncolinear_loss: 0.0000e+00 - Concave_vs_Convex_loss: 0.0000e+00 - Four_vs_notfour_side_loss: 0.0000e+00 - Triangle_vs_notTriangle_loss: 0.0000e+00 - Clockwise_vs_Anticlock_wise_loss: 0.0000e+00 - Left_vs_Right_loss: 0.0000e+00 - Parallel_vs_perpendicular_loss: 0.0000e+00 - Filled_vs_Unfilled_loss: 0.0000e+00 - Complete_vs_Incomplete_loss: 0.0000e+00 - Intersect_vs_NonIntersect_loss: 0.0000e+00 - M_cluster_vs_N_clusters_loss: 0.0000e+00 - Above_vs_Below_loss: 0.0000e+00 - Same_vs_Not_Same_loss: 0.0000e+00 - Size_big_vs_Small_loss: 0.0000e+00 - Symmetery_vs_Non_symmetery_loss: 0.0013 - Horizontal_vs_Vertical_loss: 0.0000e+00 - Empty_vs_Non_Empty_loss: 0.0000e+00\n",
      "Epoch 10/10\n",
      "137/137 [==============================] - 1s 7ms/step - loss: 0.0010 - center_vs_notincenter_loss: 0.0000e+00 - circle_vs_notcircle_loss: 0.0000e+00 - Closed_vs_Open_figure_loss: 0.0000e+00 - Colinear_vs_Noncolinear_loss: 0.0000e+00 - Concave_vs_Convex_loss: 0.0000e+00 - Four_vs_notfour_side_loss: 0.0000e+00 - Triangle_vs_notTriangle_loss: 0.0000e+00 - Clockwise_vs_Anticlock_wise_loss: 0.0000e+00 - Left_vs_Right_loss: 0.0000e+00 - Parallel_vs_perpendicular_loss: 0.0000e+00 - Filled_vs_Unfilled_loss: 0.0000e+00 - Complete_vs_Incomplete_loss: 0.0000e+00 - Intersect_vs_NonIntersect_loss: 0.0000e+00 - M_cluster_vs_N_clusters_loss: 0.0000e+00 - Above_vs_Below_loss: 0.0000e+00 - Same_vs_Not_Same_loss: 0.0000e+00 - Size_big_vs_Small_loss: 0.0000e+00 - Symmetery_vs_Non_symmetery_loss: 0.0010 - Horizontal_vs_Vertical_loss: 0.0000e+00 - Empty_vs_Non_Empty_loss: 0.0000e+00\n",
      "35/35 [==============================] - 0s 4ms/step\n",
      "binary_predictions_head:  [0 1]\n",
      "Accuracy for Classifier C17: 0.9834710743801653\n",
      "Final_test_accuracies till now:  [0.92, 0.95, 0.98, 0.93, 0.61, 0.55, 0.84, 0.68, 0.48, 0.94, 0.55, 0.79, 0.74, 0.93, 0.86, 0.52, 0.63, 0.94, 0.98]\n"
     ]
    }
   ],
   "source": [
    "Model_history=model.fit(X[17], {output_names[17]: Y[17]}, epochs=10)\n",
    "\n",
    "Temp_var=check_accuracy1(C17_X_test,C17_y_test,17)\n",
    "Rounded_accuracy = round(Temp_var, 2)\n",
    "Final_test_accuracies.append(Rounded_accuracy)\n",
    "print(\"Final_test_accuracies till now: \",Final_test_accuracies)\n",
    "\n",
    "Training_loss=Model_history.history['loss']\n",
    "for i in range(10):\n",
    "  globals()[f'training_loss_epoch_{i}'].append(Training_loss[i])"
   ]
  },
  {
   "cell_type": "markdown",
   "id": "-yuj7wMpOzLp",
   "metadata": {
    "id": "-yuj7wMpOzLp"
   },
   "source": [
    "### Head 18 checking"
   ]
  },
  {
   "cell_type": "code",
   "execution_count": 36,
   "id": "sBib9M0ROzab",
   "metadata": {
    "colab": {
     "base_uri": "https://localhost:8080/"
    },
    "id": "sBib9M0ROzab",
    "outputId": "5b6e79ba-0883-408f-af62-aeac36969408"
   },
   "outputs": [
    {
     "name": "stdout",
     "output_type": "stream",
     "text": [
      "Epoch 1/10\n"
     ]
    },
    {
     "name": "stderr",
     "output_type": "stream",
     "text": [
      "WARNING:tensorflow:Gradients do not exist for variables ['center_vs_notincenter/kernel:0', 'center_vs_notincenter/bias:0', 'circle_vs_notcircle/kernel:0', 'circle_vs_notcircle/bias:0', 'Closed_vs_Open_figure/kernel:0', 'Closed_vs_Open_figure/bias:0', 'Colinear_vs_Noncolinear/kernel:0', 'Colinear_vs_Noncolinear/bias:0', 'Concave_vs_Convex/kernel:0', 'Concave_vs_Convex/bias:0', 'Four_vs_notfour_side/kernel:0', 'Four_vs_notfour_side/bias:0', 'Triangle_vs_notTriangle/kernel:0', 'Triangle_vs_notTriangle/bias:0', 'Clockwise_vs_Anticlock_wise/kernel:0', 'Clockwise_vs_Anticlock_wise/bias:0', 'Left_vs_Right/kernel:0', 'Left_vs_Right/bias:0', 'Parallel_vs_perpendicular/kernel:0', 'Parallel_vs_perpendicular/bias:0', 'Filled_vs_Unfilled/kernel:0', 'Filled_vs_Unfilled/bias:0', 'Complete_vs_Incomplete/kernel:0', 'Complete_vs_Incomplete/bias:0', 'Intersect_vs_NonIntersect/kernel:0', 'Intersect_vs_NonIntersect/bias:0', 'M_cluster_vs_N_clusters/kernel:0', 'M_cluster_vs_N_clusters/bias:0', 'Above_vs_Below/kernel:0', 'Above_vs_Below/bias:0', 'Same_vs_Not_Same/kernel:0', 'Same_vs_Not_Same/bias:0', 'Size_big_vs_Small/kernel:0', 'Size_big_vs_Small/bias:0', 'Symmetery_vs_Non_symmetery/kernel:0', 'Symmetery_vs_Non_symmetery/bias:0', 'Empty_vs_Non_Empty/kernel:0', 'Empty_vs_Non_Empty/bias:0'] when minimizing the loss. If you're using `model.compile()`, did you forget to provide a `loss` argument?\n",
      "WARNING:tensorflow:Gradients do not exist for variables ['center_vs_notincenter/kernel:0', 'center_vs_notincenter/bias:0', 'circle_vs_notcircle/kernel:0', 'circle_vs_notcircle/bias:0', 'Closed_vs_Open_figure/kernel:0', 'Closed_vs_Open_figure/bias:0', 'Colinear_vs_Noncolinear/kernel:0', 'Colinear_vs_Noncolinear/bias:0', 'Concave_vs_Convex/kernel:0', 'Concave_vs_Convex/bias:0', 'Four_vs_notfour_side/kernel:0', 'Four_vs_notfour_side/bias:0', 'Triangle_vs_notTriangle/kernel:0', 'Triangle_vs_notTriangle/bias:0', 'Clockwise_vs_Anticlock_wise/kernel:0', 'Clockwise_vs_Anticlock_wise/bias:0', 'Left_vs_Right/kernel:0', 'Left_vs_Right/bias:0', 'Parallel_vs_perpendicular/kernel:0', 'Parallel_vs_perpendicular/bias:0', 'Filled_vs_Unfilled/kernel:0', 'Filled_vs_Unfilled/bias:0', 'Complete_vs_Incomplete/kernel:0', 'Complete_vs_Incomplete/bias:0', 'Intersect_vs_NonIntersect/kernel:0', 'Intersect_vs_NonIntersect/bias:0', 'M_cluster_vs_N_clusters/kernel:0', 'M_cluster_vs_N_clusters/bias:0', 'Above_vs_Below/kernel:0', 'Above_vs_Below/bias:0', 'Same_vs_Not_Same/kernel:0', 'Same_vs_Not_Same/bias:0', 'Size_big_vs_Small/kernel:0', 'Size_big_vs_Small/bias:0', 'Symmetery_vs_Non_symmetery/kernel:0', 'Symmetery_vs_Non_symmetery/bias:0', 'Empty_vs_Non_Empty/kernel:0', 'Empty_vs_Non_Empty/bias:0'] when minimizing the loss. If you're using `model.compile()`, did you forget to provide a `loss` argument?\n"
     ]
    },
    {
     "name": "stdout",
     "output_type": "stream",
     "text": [
      "50/50 [==============================] - 1s 7ms/step - loss: 0.2881 - center_vs_notincenter_loss: 0.0000e+00 - circle_vs_notcircle_loss: 0.0000e+00 - Closed_vs_Open_figure_loss: 0.0000e+00 - Colinear_vs_Noncolinear_loss: 0.0000e+00 - Concave_vs_Convex_loss: 0.0000e+00 - Four_vs_notfour_side_loss: 0.0000e+00 - Triangle_vs_notTriangle_loss: 0.0000e+00 - Clockwise_vs_Anticlock_wise_loss: 0.0000e+00 - Left_vs_Right_loss: 0.0000e+00 - Parallel_vs_perpendicular_loss: 0.0000e+00 - Filled_vs_Unfilled_loss: 0.0000e+00 - Complete_vs_Incomplete_loss: 0.0000e+00 - Intersect_vs_NonIntersect_loss: 0.0000e+00 - M_cluster_vs_N_clusters_loss: 0.0000e+00 - Above_vs_Below_loss: 0.0000e+00 - Same_vs_Not_Same_loss: 0.0000e+00 - Size_big_vs_Small_loss: 0.0000e+00 - Symmetery_vs_Non_symmetery_loss: 0.0000e+00 - Horizontal_vs_Vertical_loss: 0.2881 - Empty_vs_Non_Empty_loss: 0.0000e+00\n",
      "Epoch 2/10\n",
      "50/50 [==============================] - 0s 7ms/step - loss: 0.0874 - center_vs_notincenter_loss: 0.0000e+00 - circle_vs_notcircle_loss: 0.0000e+00 - Closed_vs_Open_figure_loss: 0.0000e+00 - Colinear_vs_Noncolinear_loss: 0.0000e+00 - Concave_vs_Convex_loss: 0.0000e+00 - Four_vs_notfour_side_loss: 0.0000e+00 - Triangle_vs_notTriangle_loss: 0.0000e+00 - Clockwise_vs_Anticlock_wise_loss: 0.0000e+00 - Left_vs_Right_loss: 0.0000e+00 - Parallel_vs_perpendicular_loss: 0.0000e+00 - Filled_vs_Unfilled_loss: 0.0000e+00 - Complete_vs_Incomplete_loss: 0.0000e+00 - Intersect_vs_NonIntersect_loss: 0.0000e+00 - M_cluster_vs_N_clusters_loss: 0.0000e+00 - Above_vs_Below_loss: 0.0000e+00 - Same_vs_Not_Same_loss: 0.0000e+00 - Size_big_vs_Small_loss: 0.0000e+00 - Symmetery_vs_Non_symmetery_loss: 0.0000e+00 - Horizontal_vs_Vertical_loss: 0.0874 - Empty_vs_Non_Empty_loss: 0.0000e+00\n",
      "Epoch 3/10\n",
      "50/50 [==============================] - 0s 7ms/step - loss: 0.0622 - center_vs_notincenter_loss: 0.0000e+00 - circle_vs_notcircle_loss: 0.0000e+00 - Closed_vs_Open_figure_loss: 0.0000e+00 - Colinear_vs_Noncolinear_loss: 0.0000e+00 - Concave_vs_Convex_loss: 0.0000e+00 - Four_vs_notfour_side_loss: 0.0000e+00 - Triangle_vs_notTriangle_loss: 0.0000e+00 - Clockwise_vs_Anticlock_wise_loss: 0.0000e+00 - Left_vs_Right_loss: 0.0000e+00 - Parallel_vs_perpendicular_loss: 0.0000e+00 - Filled_vs_Unfilled_loss: 0.0000e+00 - Complete_vs_Incomplete_loss: 0.0000e+00 - Intersect_vs_NonIntersect_loss: 0.0000e+00 - M_cluster_vs_N_clusters_loss: 0.0000e+00 - Above_vs_Below_loss: 0.0000e+00 - Same_vs_Not_Same_loss: 0.0000e+00 - Size_big_vs_Small_loss: 0.0000e+00 - Symmetery_vs_Non_symmetery_loss: 0.0000e+00 - Horizontal_vs_Vertical_loss: 0.0622 - Empty_vs_Non_Empty_loss: 0.0000e+00\n",
      "Epoch 4/10\n",
      "50/50 [==============================] - 0s 7ms/step - loss: 0.0506 - center_vs_notincenter_loss: 0.0000e+00 - circle_vs_notcircle_loss: 0.0000e+00 - Closed_vs_Open_figure_loss: 0.0000e+00 - Colinear_vs_Noncolinear_loss: 0.0000e+00 - Concave_vs_Convex_loss: 0.0000e+00 - Four_vs_notfour_side_loss: 0.0000e+00 - Triangle_vs_notTriangle_loss: 0.0000e+00 - Clockwise_vs_Anticlock_wise_loss: 0.0000e+00 - Left_vs_Right_loss: 0.0000e+00 - Parallel_vs_perpendicular_loss: 0.0000e+00 - Filled_vs_Unfilled_loss: 0.0000e+00 - Complete_vs_Incomplete_loss: 0.0000e+00 - Intersect_vs_NonIntersect_loss: 0.0000e+00 - M_cluster_vs_N_clusters_loss: 0.0000e+00 - Above_vs_Below_loss: 0.0000e+00 - Same_vs_Not_Same_loss: 0.0000e+00 - Size_big_vs_Small_loss: 0.0000e+00 - Symmetery_vs_Non_symmetery_loss: 0.0000e+00 - Horizontal_vs_Vertical_loss: 0.0506 - Empty_vs_Non_Empty_loss: 0.0000e+00\n",
      "Epoch 5/10\n",
      "50/50 [==============================] - 0s 7ms/step - loss: 0.0379 - center_vs_notincenter_loss: 0.0000e+00 - circle_vs_notcircle_loss: 0.0000e+00 - Closed_vs_Open_figure_loss: 0.0000e+00 - Colinear_vs_Noncolinear_loss: 0.0000e+00 - Concave_vs_Convex_loss: 0.0000e+00 - Four_vs_notfour_side_loss: 0.0000e+00 - Triangle_vs_notTriangle_loss: 0.0000e+00 - Clockwise_vs_Anticlock_wise_loss: 0.0000e+00 - Left_vs_Right_loss: 0.0000e+00 - Parallel_vs_perpendicular_loss: 0.0000e+00 - Filled_vs_Unfilled_loss: 0.0000e+00 - Complete_vs_Incomplete_loss: 0.0000e+00 - Intersect_vs_NonIntersect_loss: 0.0000e+00 - M_cluster_vs_N_clusters_loss: 0.0000e+00 - Above_vs_Below_loss: 0.0000e+00 - Same_vs_Not_Same_loss: 0.0000e+00 - Size_big_vs_Small_loss: 0.0000e+00 - Symmetery_vs_Non_symmetery_loss: 0.0000e+00 - Horizontal_vs_Vertical_loss: 0.0379 - Empty_vs_Non_Empty_loss: 0.0000e+00\n",
      "Epoch 6/10\n",
      "50/50 [==============================] - 0s 7ms/step - loss: 0.0330 - center_vs_notincenter_loss: 0.0000e+00 - circle_vs_notcircle_loss: 0.0000e+00 - Closed_vs_Open_figure_loss: 0.0000e+00 - Colinear_vs_Noncolinear_loss: 0.0000e+00 - Concave_vs_Convex_loss: 0.0000e+00 - Four_vs_notfour_side_loss: 0.0000e+00 - Triangle_vs_notTriangle_loss: 0.0000e+00 - Clockwise_vs_Anticlock_wise_loss: 0.0000e+00 - Left_vs_Right_loss: 0.0000e+00 - Parallel_vs_perpendicular_loss: 0.0000e+00 - Filled_vs_Unfilled_loss: 0.0000e+00 - Complete_vs_Incomplete_loss: 0.0000e+00 - Intersect_vs_NonIntersect_loss: 0.0000e+00 - M_cluster_vs_N_clusters_loss: 0.0000e+00 - Above_vs_Below_loss: 0.0000e+00 - Same_vs_Not_Same_loss: 0.0000e+00 - Size_big_vs_Small_loss: 0.0000e+00 - Symmetery_vs_Non_symmetery_loss: 0.0000e+00 - Horizontal_vs_Vertical_loss: 0.0330 - Empty_vs_Non_Empty_loss: 0.0000e+00\n",
      "Epoch 7/10\n",
      "50/50 [==============================] - 0s 7ms/step - loss: 0.0285 - center_vs_notincenter_loss: 0.0000e+00 - circle_vs_notcircle_loss: 0.0000e+00 - Closed_vs_Open_figure_loss: 0.0000e+00 - Colinear_vs_Noncolinear_loss: 0.0000e+00 - Concave_vs_Convex_loss: 0.0000e+00 - Four_vs_notfour_side_loss: 0.0000e+00 - Triangle_vs_notTriangle_loss: 0.0000e+00 - Clockwise_vs_Anticlock_wise_loss: 0.0000e+00 - Left_vs_Right_loss: 0.0000e+00 - Parallel_vs_perpendicular_loss: 0.0000e+00 - Filled_vs_Unfilled_loss: 0.0000e+00 - Complete_vs_Incomplete_loss: 0.0000e+00 - Intersect_vs_NonIntersect_loss: 0.0000e+00 - M_cluster_vs_N_clusters_loss: 0.0000e+00 - Above_vs_Below_loss: 0.0000e+00 - Same_vs_Not_Same_loss: 0.0000e+00 - Size_big_vs_Small_loss: 0.0000e+00 - Symmetery_vs_Non_symmetery_loss: 0.0000e+00 - Horizontal_vs_Vertical_loss: 0.0285 - Empty_vs_Non_Empty_loss: 0.0000e+00\n",
      "Epoch 8/10\n",
      "50/50 [==============================] - 0s 7ms/step - loss: 0.0284 - center_vs_notincenter_loss: 0.0000e+00 - circle_vs_notcircle_loss: 0.0000e+00 - Closed_vs_Open_figure_loss: 0.0000e+00 - Colinear_vs_Noncolinear_loss: 0.0000e+00 - Concave_vs_Convex_loss: 0.0000e+00 - Four_vs_notfour_side_loss: 0.0000e+00 - Triangle_vs_notTriangle_loss: 0.0000e+00 - Clockwise_vs_Anticlock_wise_loss: 0.0000e+00 - Left_vs_Right_loss: 0.0000e+00 - Parallel_vs_perpendicular_loss: 0.0000e+00 - Filled_vs_Unfilled_loss: 0.0000e+00 - Complete_vs_Incomplete_loss: 0.0000e+00 - Intersect_vs_NonIntersect_loss: 0.0000e+00 - M_cluster_vs_N_clusters_loss: 0.0000e+00 - Above_vs_Below_loss: 0.0000e+00 - Same_vs_Not_Same_loss: 0.0000e+00 - Size_big_vs_Small_loss: 0.0000e+00 - Symmetery_vs_Non_symmetery_loss: 0.0000e+00 - Horizontal_vs_Vertical_loss: 0.0284 - Empty_vs_Non_Empty_loss: 0.0000e+00\n",
      "Epoch 9/10\n",
      "50/50 [==============================] - 0s 7ms/step - loss: 0.0250 - center_vs_notincenter_loss: 0.0000e+00 - circle_vs_notcircle_loss: 0.0000e+00 - Closed_vs_Open_figure_loss: 0.0000e+00 - Colinear_vs_Noncolinear_loss: 0.0000e+00 - Concave_vs_Convex_loss: 0.0000e+00 - Four_vs_notfour_side_loss: 0.0000e+00 - Triangle_vs_notTriangle_loss: 0.0000e+00 - Clockwise_vs_Anticlock_wise_loss: 0.0000e+00 - Left_vs_Right_loss: 0.0000e+00 - Parallel_vs_perpendicular_loss: 0.0000e+00 - Filled_vs_Unfilled_loss: 0.0000e+00 - Complete_vs_Incomplete_loss: 0.0000e+00 - Intersect_vs_NonIntersect_loss: 0.0000e+00 - M_cluster_vs_N_clusters_loss: 0.0000e+00 - Above_vs_Below_loss: 0.0000e+00 - Same_vs_Not_Same_loss: 0.0000e+00 - Size_big_vs_Small_loss: 0.0000e+00 - Symmetery_vs_Non_symmetery_loss: 0.0000e+00 - Horizontal_vs_Vertical_loss: 0.0250 - Empty_vs_Non_Empty_loss: 0.0000e+00\n",
      "Epoch 10/10\n",
      "50/50 [==============================] - 0s 7ms/step - loss: 0.0232 - center_vs_notincenter_loss: 0.0000e+00 - circle_vs_notcircle_loss: 0.0000e+00 - Closed_vs_Open_figure_loss: 0.0000e+00 - Colinear_vs_Noncolinear_loss: 0.0000e+00 - Concave_vs_Convex_loss: 0.0000e+00 - Four_vs_notfour_side_loss: 0.0000e+00 - Triangle_vs_notTriangle_loss: 0.0000e+00 - Clockwise_vs_Anticlock_wise_loss: 0.0000e+00 - Left_vs_Right_loss: 0.0000e+00 - Parallel_vs_perpendicular_loss: 0.0000e+00 - Filled_vs_Unfilled_loss: 0.0000e+00 - Complete_vs_Incomplete_loss: 0.0000e+00 - Intersect_vs_NonIntersect_loss: 0.0000e+00 - M_cluster_vs_N_clusters_loss: 0.0000e+00 - Above_vs_Below_loss: 0.0000e+00 - Same_vs_Not_Same_loss: 0.0000e+00 - Size_big_vs_Small_loss: 0.0000e+00 - Symmetery_vs_Non_symmetery_loss: 0.0000e+00 - Horizontal_vs_Vertical_loss: 0.0232 - Empty_vs_Non_Empty_loss: 0.0000e+00\n",
      "13/13 [==============================] - 0s 3ms/step\n",
      "binary_predictions_head:  [0 1]\n",
      "Accuracy for Classifier C18: 0.945\n",
      "Final_test_accuracies till now:  [0.92, 0.95, 0.98, 0.93, 0.61, 0.55, 0.84, 0.68, 0.48, 0.94, 0.55, 0.79, 0.74, 0.93, 0.86, 0.52, 0.63, 0.94, 0.98, 0.94]\n"
     ]
    }
   ],
   "source": [
    "Model_history=model.fit(X[18], {output_names[18]: Y[18]}, epochs=10)\n",
    "\n",
    "Temp_var=check_accuracy1(C18_X_test,C18_y_test,18)\n",
    "Rounded_accuracy = round(Temp_var, 2)\n",
    "Final_test_accuracies.append(Rounded_accuracy)\n",
    "print(\"Final_test_accuracies till now: \",Final_test_accuracies)\n",
    "\n",
    "Training_loss=Model_history.history['loss']\n",
    "for i in range(10):\n",
    "  globals()[f'training_loss_epoch_{i}'].append(Training_loss[i])"
   ]
  },
  {
   "cell_type": "markdown",
   "id": "-Sft8x2CO3Kp",
   "metadata": {
    "id": "-Sft8x2CO3Kp"
   },
   "source": [
    "### Head 19 checking"
   ]
  },
  {
   "cell_type": "code",
   "execution_count": 37,
   "id": "m4Q4XD_HO3ZM",
   "metadata": {
    "colab": {
     "base_uri": "https://localhost:8080/"
    },
    "id": "m4Q4XD_HO3ZM",
    "outputId": "cf6eae98-09a8-483f-b83f-3363ec8f0062"
   },
   "outputs": [
    {
     "name": "stdout",
     "output_type": "stream",
     "text": [
      "Epoch 1/10\n"
     ]
    },
    {
     "name": "stderr",
     "output_type": "stream",
     "text": [
      "WARNING:tensorflow:Gradients do not exist for variables ['center_vs_notincenter/kernel:0', 'center_vs_notincenter/bias:0', 'circle_vs_notcircle/kernel:0', 'circle_vs_notcircle/bias:0', 'Closed_vs_Open_figure/kernel:0', 'Closed_vs_Open_figure/bias:0', 'Colinear_vs_Noncolinear/kernel:0', 'Colinear_vs_Noncolinear/bias:0', 'Concave_vs_Convex/kernel:0', 'Concave_vs_Convex/bias:0', 'Four_vs_notfour_side/kernel:0', 'Four_vs_notfour_side/bias:0', 'Triangle_vs_notTriangle/kernel:0', 'Triangle_vs_notTriangle/bias:0', 'Clockwise_vs_Anticlock_wise/kernel:0', 'Clockwise_vs_Anticlock_wise/bias:0', 'Left_vs_Right/kernel:0', 'Left_vs_Right/bias:0', 'Parallel_vs_perpendicular/kernel:0', 'Parallel_vs_perpendicular/bias:0', 'Filled_vs_Unfilled/kernel:0', 'Filled_vs_Unfilled/bias:0', 'Complete_vs_Incomplete/kernel:0', 'Complete_vs_Incomplete/bias:0', 'Intersect_vs_NonIntersect/kernel:0', 'Intersect_vs_NonIntersect/bias:0', 'M_cluster_vs_N_clusters/kernel:0', 'M_cluster_vs_N_clusters/bias:0', 'Above_vs_Below/kernel:0', 'Above_vs_Below/bias:0', 'Same_vs_Not_Same/kernel:0', 'Same_vs_Not_Same/bias:0', 'Size_big_vs_Small/kernel:0', 'Size_big_vs_Small/bias:0', 'Symmetery_vs_Non_symmetery/kernel:0', 'Symmetery_vs_Non_symmetery/bias:0', 'Horizontal_vs_Vertical/kernel:0', 'Horizontal_vs_Vertical/bias:0'] when minimizing the loss. If you're using `model.compile()`, did you forget to provide a `loss` argument?\n",
      "WARNING:tensorflow:Gradients do not exist for variables ['center_vs_notincenter/kernel:0', 'center_vs_notincenter/bias:0', 'circle_vs_notcircle/kernel:0', 'circle_vs_notcircle/bias:0', 'Closed_vs_Open_figure/kernel:0', 'Closed_vs_Open_figure/bias:0', 'Colinear_vs_Noncolinear/kernel:0', 'Colinear_vs_Noncolinear/bias:0', 'Concave_vs_Convex/kernel:0', 'Concave_vs_Convex/bias:0', 'Four_vs_notfour_side/kernel:0', 'Four_vs_notfour_side/bias:0', 'Triangle_vs_notTriangle/kernel:0', 'Triangle_vs_notTriangle/bias:0', 'Clockwise_vs_Anticlock_wise/kernel:0', 'Clockwise_vs_Anticlock_wise/bias:0', 'Left_vs_Right/kernel:0', 'Left_vs_Right/bias:0', 'Parallel_vs_perpendicular/kernel:0', 'Parallel_vs_perpendicular/bias:0', 'Filled_vs_Unfilled/kernel:0', 'Filled_vs_Unfilled/bias:0', 'Complete_vs_Incomplete/kernel:0', 'Complete_vs_Incomplete/bias:0', 'Intersect_vs_NonIntersect/kernel:0', 'Intersect_vs_NonIntersect/bias:0', 'M_cluster_vs_N_clusters/kernel:0', 'M_cluster_vs_N_clusters/bias:0', 'Above_vs_Below/kernel:0', 'Above_vs_Below/bias:0', 'Same_vs_Not_Same/kernel:0', 'Same_vs_Not_Same/bias:0', 'Size_big_vs_Small/kernel:0', 'Size_big_vs_Small/bias:0', 'Symmetery_vs_Non_symmetery/kernel:0', 'Symmetery_vs_Non_symmetery/bias:0', 'Horizontal_vs_Vertical/kernel:0', 'Horizontal_vs_Vertical/bias:0'] when minimizing the loss. If you're using `model.compile()`, did you forget to provide a `loss` argument?\n"
     ]
    },
    {
     "name": "stdout",
     "output_type": "stream",
     "text": [
      "25/25 [==============================] - 1s 7ms/step - loss: 0.3567 - center_vs_notincenter_loss: 0.0000e+00 - circle_vs_notcircle_loss: 0.0000e+00 - Closed_vs_Open_figure_loss: 0.0000e+00 - Colinear_vs_Noncolinear_loss: 0.0000e+00 - Concave_vs_Convex_loss: 0.0000e+00 - Four_vs_notfour_side_loss: 0.0000e+00 - Triangle_vs_notTriangle_loss: 0.0000e+00 - Clockwise_vs_Anticlock_wise_loss: 0.0000e+00 - Left_vs_Right_loss: 0.0000e+00 - Parallel_vs_perpendicular_loss: 0.0000e+00 - Filled_vs_Unfilled_loss: 0.0000e+00 - Complete_vs_Incomplete_loss: 0.0000e+00 - Intersect_vs_NonIntersect_loss: 0.0000e+00 - M_cluster_vs_N_clusters_loss: 0.0000e+00 - Above_vs_Below_loss: 0.0000e+00 - Same_vs_Not_Same_loss: 0.0000e+00 - Size_big_vs_Small_loss: 0.0000e+00 - Symmetery_vs_Non_symmetery_loss: 0.0000e+00 - Horizontal_vs_Vertical_loss: 0.0000e+00 - Empty_vs_Non_Empty_loss: 0.3567\n",
      "Epoch 2/10\n",
      "25/25 [==============================] - 0s 7ms/step - loss: 0.3292 - center_vs_notincenter_loss: 0.0000e+00 - circle_vs_notcircle_loss: 0.0000e+00 - Closed_vs_Open_figure_loss: 0.0000e+00 - Colinear_vs_Noncolinear_loss: 0.0000e+00 - Concave_vs_Convex_loss: 0.0000e+00 - Four_vs_notfour_side_loss: 0.0000e+00 - Triangle_vs_notTriangle_loss: 0.0000e+00 - Clockwise_vs_Anticlock_wise_loss: 0.0000e+00 - Left_vs_Right_loss: 0.0000e+00 - Parallel_vs_perpendicular_loss: 0.0000e+00 - Filled_vs_Unfilled_loss: 0.0000e+00 - Complete_vs_Incomplete_loss: 0.0000e+00 - Intersect_vs_NonIntersect_loss: 0.0000e+00 - M_cluster_vs_N_clusters_loss: 0.0000e+00 - Above_vs_Below_loss: 0.0000e+00 - Same_vs_Not_Same_loss: 0.0000e+00 - Size_big_vs_Small_loss: 0.0000e+00 - Symmetery_vs_Non_symmetery_loss: 0.0000e+00 - Horizontal_vs_Vertical_loss: 0.0000e+00 - Empty_vs_Non_Empty_loss: 0.3292\n",
      "Epoch 3/10\n",
      "25/25 [==============================] - 0s 7ms/step - loss: 0.3076 - center_vs_notincenter_loss: 0.0000e+00 - circle_vs_notcircle_loss: 0.0000e+00 - Closed_vs_Open_figure_loss: 0.0000e+00 - Colinear_vs_Noncolinear_loss: 0.0000e+00 - Concave_vs_Convex_loss: 0.0000e+00 - Four_vs_notfour_side_loss: 0.0000e+00 - Triangle_vs_notTriangle_loss: 0.0000e+00 - Clockwise_vs_Anticlock_wise_loss: 0.0000e+00 - Left_vs_Right_loss: 0.0000e+00 - Parallel_vs_perpendicular_loss: 0.0000e+00 - Filled_vs_Unfilled_loss: 0.0000e+00 - Complete_vs_Incomplete_loss: 0.0000e+00 - Intersect_vs_NonIntersect_loss: 0.0000e+00 - M_cluster_vs_N_clusters_loss: 0.0000e+00 - Above_vs_Below_loss: 0.0000e+00 - Same_vs_Not_Same_loss: 0.0000e+00 - Size_big_vs_Small_loss: 0.0000e+00 - Symmetery_vs_Non_symmetery_loss: 0.0000e+00 - Horizontal_vs_Vertical_loss: 0.0000e+00 - Empty_vs_Non_Empty_loss: 0.3076\n",
      "Epoch 4/10\n",
      "25/25 [==============================] - 0s 7ms/step - loss: 0.2890 - center_vs_notincenter_loss: 0.0000e+00 - circle_vs_notcircle_loss: 0.0000e+00 - Closed_vs_Open_figure_loss: 0.0000e+00 - Colinear_vs_Noncolinear_loss: 0.0000e+00 - Concave_vs_Convex_loss: 0.0000e+00 - Four_vs_notfour_side_loss: 0.0000e+00 - Triangle_vs_notTriangle_loss: 0.0000e+00 - Clockwise_vs_Anticlock_wise_loss: 0.0000e+00 - Left_vs_Right_loss: 0.0000e+00 - Parallel_vs_perpendicular_loss: 0.0000e+00 - Filled_vs_Unfilled_loss: 0.0000e+00 - Complete_vs_Incomplete_loss: 0.0000e+00 - Intersect_vs_NonIntersect_loss: 0.0000e+00 - M_cluster_vs_N_clusters_loss: 0.0000e+00 - Above_vs_Below_loss: 0.0000e+00 - Same_vs_Not_Same_loss: 0.0000e+00 - Size_big_vs_Small_loss: 0.0000e+00 - Symmetery_vs_Non_symmetery_loss: 0.0000e+00 - Horizontal_vs_Vertical_loss: 0.0000e+00 - Empty_vs_Non_Empty_loss: 0.2890\n",
      "Epoch 5/10\n",
      "25/25 [==============================] - 0s 7ms/step - loss: 0.2717 - center_vs_notincenter_loss: 0.0000e+00 - circle_vs_notcircle_loss: 0.0000e+00 - Closed_vs_Open_figure_loss: 0.0000e+00 - Colinear_vs_Noncolinear_loss: 0.0000e+00 - Concave_vs_Convex_loss: 0.0000e+00 - Four_vs_notfour_side_loss: 0.0000e+00 - Triangle_vs_notTriangle_loss: 0.0000e+00 - Clockwise_vs_Anticlock_wise_loss: 0.0000e+00 - Left_vs_Right_loss: 0.0000e+00 - Parallel_vs_perpendicular_loss: 0.0000e+00 - Filled_vs_Unfilled_loss: 0.0000e+00 - Complete_vs_Incomplete_loss: 0.0000e+00 - Intersect_vs_NonIntersect_loss: 0.0000e+00 - M_cluster_vs_N_clusters_loss: 0.0000e+00 - Above_vs_Below_loss: 0.0000e+00 - Same_vs_Not_Same_loss: 0.0000e+00 - Size_big_vs_Small_loss: 0.0000e+00 - Symmetery_vs_Non_symmetery_loss: 0.0000e+00 - Horizontal_vs_Vertical_loss: 0.0000e+00 - Empty_vs_Non_Empty_loss: 0.2717\n",
      "Epoch 6/10\n",
      "25/25 [==============================] - 0s 8ms/step - loss: 0.2601 - center_vs_notincenter_loss: 0.0000e+00 - circle_vs_notcircle_loss: 0.0000e+00 - Closed_vs_Open_figure_loss: 0.0000e+00 - Colinear_vs_Noncolinear_loss: 0.0000e+00 - Concave_vs_Convex_loss: 0.0000e+00 - Four_vs_notfour_side_loss: 0.0000e+00 - Triangle_vs_notTriangle_loss: 0.0000e+00 - Clockwise_vs_Anticlock_wise_loss: 0.0000e+00 - Left_vs_Right_loss: 0.0000e+00 - Parallel_vs_perpendicular_loss: 0.0000e+00 - Filled_vs_Unfilled_loss: 0.0000e+00 - Complete_vs_Incomplete_loss: 0.0000e+00 - Intersect_vs_NonIntersect_loss: 0.0000e+00 - M_cluster_vs_N_clusters_loss: 0.0000e+00 - Above_vs_Below_loss: 0.0000e+00 - Same_vs_Not_Same_loss: 0.0000e+00 - Size_big_vs_Small_loss: 0.0000e+00 - Symmetery_vs_Non_symmetery_loss: 0.0000e+00 - Horizontal_vs_Vertical_loss: 0.0000e+00 - Empty_vs_Non_Empty_loss: 0.2601\n",
      "Epoch 7/10\n",
      "25/25 [==============================] - 0s 8ms/step - loss: 0.2502 - center_vs_notincenter_loss: 0.0000e+00 - circle_vs_notcircle_loss: 0.0000e+00 - Closed_vs_Open_figure_loss: 0.0000e+00 - Colinear_vs_Noncolinear_loss: 0.0000e+00 - Concave_vs_Convex_loss: 0.0000e+00 - Four_vs_notfour_side_loss: 0.0000e+00 - Triangle_vs_notTriangle_loss: 0.0000e+00 - Clockwise_vs_Anticlock_wise_loss: 0.0000e+00 - Left_vs_Right_loss: 0.0000e+00 - Parallel_vs_perpendicular_loss: 0.0000e+00 - Filled_vs_Unfilled_loss: 0.0000e+00 - Complete_vs_Incomplete_loss: 0.0000e+00 - Intersect_vs_NonIntersect_loss: 0.0000e+00 - M_cluster_vs_N_clusters_loss: 0.0000e+00 - Above_vs_Below_loss: 0.0000e+00 - Same_vs_Not_Same_loss: 0.0000e+00 - Size_big_vs_Small_loss: 0.0000e+00 - Symmetery_vs_Non_symmetery_loss: 0.0000e+00 - Horizontal_vs_Vertical_loss: 0.0000e+00 - Empty_vs_Non_Empty_loss: 0.2502\n",
      "Epoch 8/10\n",
      "25/25 [==============================] - 0s 8ms/step - loss: 0.2407 - center_vs_notincenter_loss: 0.0000e+00 - circle_vs_notcircle_loss: 0.0000e+00 - Closed_vs_Open_figure_loss: 0.0000e+00 - Colinear_vs_Noncolinear_loss: 0.0000e+00 - Concave_vs_Convex_loss: 0.0000e+00 - Four_vs_notfour_side_loss: 0.0000e+00 - Triangle_vs_notTriangle_loss: 0.0000e+00 - Clockwise_vs_Anticlock_wise_loss: 0.0000e+00 - Left_vs_Right_loss: 0.0000e+00 - Parallel_vs_perpendicular_loss: 0.0000e+00 - Filled_vs_Unfilled_loss: 0.0000e+00 - Complete_vs_Incomplete_loss: 0.0000e+00 - Intersect_vs_NonIntersect_loss: 0.0000e+00 - M_cluster_vs_N_clusters_loss: 0.0000e+00 - Above_vs_Below_loss: 0.0000e+00 - Same_vs_Not_Same_loss: 0.0000e+00 - Size_big_vs_Small_loss: 0.0000e+00 - Symmetery_vs_Non_symmetery_loss: 0.0000e+00 - Horizontal_vs_Vertical_loss: 0.0000e+00 - Empty_vs_Non_Empty_loss: 0.2407\n",
      "Epoch 9/10\n",
      "25/25 [==============================] - 0s 7ms/step - loss: 0.2300 - center_vs_notincenter_loss: 0.0000e+00 - circle_vs_notcircle_loss: 0.0000e+00 - Closed_vs_Open_figure_loss: 0.0000e+00 - Colinear_vs_Noncolinear_loss: 0.0000e+00 - Concave_vs_Convex_loss: 0.0000e+00 - Four_vs_notfour_side_loss: 0.0000e+00 - Triangle_vs_notTriangle_loss: 0.0000e+00 - Clockwise_vs_Anticlock_wise_loss: 0.0000e+00 - Left_vs_Right_loss: 0.0000e+00 - Parallel_vs_perpendicular_loss: 0.0000e+00 - Filled_vs_Unfilled_loss: 0.0000e+00 - Complete_vs_Incomplete_loss: 0.0000e+00 - Intersect_vs_NonIntersect_loss: 0.0000e+00 - M_cluster_vs_N_clusters_loss: 0.0000e+00 - Above_vs_Below_loss: 0.0000e+00 - Same_vs_Not_Same_loss: 0.0000e+00 - Size_big_vs_Small_loss: 0.0000e+00 - Symmetery_vs_Non_symmetery_loss: 0.0000e+00 - Horizontal_vs_Vertical_loss: 0.0000e+00 - Empty_vs_Non_Empty_loss: 0.2300\n",
      "Epoch 10/10\n",
      "25/25 [==============================] - 0s 7ms/step - loss: 0.2211 - center_vs_notincenter_loss: 0.0000e+00 - circle_vs_notcircle_loss: 0.0000e+00 - Closed_vs_Open_figure_loss: 0.0000e+00 - Colinear_vs_Noncolinear_loss: 0.0000e+00 - Concave_vs_Convex_loss: 0.0000e+00 - Four_vs_notfour_side_loss: 0.0000e+00 - Triangle_vs_notTriangle_loss: 0.0000e+00 - Clockwise_vs_Anticlock_wise_loss: 0.0000e+00 - Left_vs_Right_loss: 0.0000e+00 - Parallel_vs_perpendicular_loss: 0.0000e+00 - Filled_vs_Unfilled_loss: 0.0000e+00 - Complete_vs_Incomplete_loss: 0.0000e+00 - Intersect_vs_NonIntersect_loss: 0.0000e+00 - M_cluster_vs_N_clusters_loss: 0.0000e+00 - Above_vs_Below_loss: 0.0000e+00 - Same_vs_Not_Same_loss: 0.0000e+00 - Size_big_vs_Small_loss: 0.0000e+00 - Symmetery_vs_Non_symmetery_loss: 0.0000e+00 - Horizontal_vs_Vertical_loss: 0.0000e+00 - Empty_vs_Non_Empty_loss: 0.2211\n",
      "7/7 [==============================] - 0s 3ms/step\n",
      "binary_predictions_head:  [0]\n",
      "Accuracy for Classifier C19: 0.48\n",
      "Final_test_accuracies till now:  [0.92, 0.95, 0.98, 0.93, 0.61, 0.55, 0.84, 0.68, 0.48, 0.94, 0.55, 0.79, 0.74, 0.93, 0.86, 0.52, 0.63, 0.94, 0.98, 0.94, 0.48]\n"
     ]
    }
   ],
   "source": [
    "Model_history=model.fit(X[19], {output_names[19]: Y[19]}, epochs=10)\n",
    "\n",
    "Temp_var=check_accuracy1(C19_X_test,C19_y_test,19)\n",
    "Rounded_accuracy = round(Temp_var, 2)\n",
    "Final_test_accuracies.append(Rounded_accuracy)\n",
    "print(\"Final_test_accuracies till now: \",Final_test_accuracies)\n",
    "\n",
    "Training_loss=Model_history.history['loss']\n",
    "for i in range(10):\n",
    "  globals()[f'training_loss_epoch_{i}'].append(Training_loss[i])"
   ]
  },
  {
   "cell_type": "code",
   "execution_count": 38,
   "id": "SImhW_9FpGGV",
   "metadata": {
    "colab": {
     "base_uri": "https://localhost:8080/"
    },
    "id": "SImhW_9FpGGV",
    "outputId": "f6bb3ab9-9cdb-4fb1-bcf9-6eee45efba25"
   },
   "outputs": [
    {
     "data": {
      "text/plain": [
       "[0.92,\n",
       " 0.95,\n",
       " 0.98,\n",
       " 0.93,\n",
       " 0.61,\n",
       " 0.55,\n",
       " 0.84,\n",
       " 0.68,\n",
       " 0.48,\n",
       " 0.94,\n",
       " 0.55,\n",
       " 0.79,\n",
       " 0.74,\n",
       " 0.93,\n",
       " 0.86,\n",
       " 0.52,\n",
       " 0.63,\n",
       " 0.94,\n",
       " 0.98,\n",
       " 0.94,\n",
       " 0.48]"
      ]
     },
     "execution_count": 38,
     "metadata": {},
     "output_type": "execute_result"
    }
   ],
   "source": [
    "Final_test_accuracies"
   ]
  },
  {
   "cell_type": "code",
   "execution_count": 39,
   "id": "7qNCtC4PK4vd",
   "metadata": {
    "id": "7qNCtC4PK4vd"
   },
   "outputs": [],
   "source": [
    "training_loss_epoch_0_avg=sum(training_loss_epoch_0)/len(training_loss_epoch_0)\n",
    "training_loss_epoch_1_avg=sum(training_loss_epoch_1)/len(training_loss_epoch_1)\n",
    "training_loss_epoch_2_avg=sum(training_loss_epoch_2)/len(training_loss_epoch_2)\n",
    "training_loss_epoch_3_avg=sum(training_loss_epoch_3)/len(training_loss_epoch_3)\n",
    "training_loss_epoch_4_avg=sum(training_loss_epoch_4)/len(training_loss_epoch_4)\n",
    "training_loss_epoch_5_avg=sum(training_loss_epoch_5)/len(training_loss_epoch_5)\n",
    "training_loss_epoch_6_avg=sum(training_loss_epoch_6)/len(training_loss_epoch_6)\n",
    "training_loss_epoch_7_avg=sum(training_loss_epoch_7)/len(training_loss_epoch_7)\n",
    "training_loss_epoch_8_avg=sum(training_loss_epoch_8)/len(training_loss_epoch_8)\n",
    "training_loss_epoch_9_avg=sum(training_loss_epoch_9)/len(training_loss_epoch_9)"
   ]
  },
  {
   "cell_type": "code",
   "execution_count": 40,
   "id": "MeRQ_EWQK778",
   "metadata": {
    "colab": {
     "base_uri": "https://localhost:8080/",
     "height": 493
    },
    "id": "MeRQ_EWQK778",
    "outputId": "45b80b13-be54-4320-d2f8-426c3f6a2355"
   },
   "outputs": [
    {
     "data": {
      "image/png": "[encoded data removed]",
      "text/plain": [
       "<Figure size 640x480 with 1 Axes>"
      ]
     },
     "metadata": {},
     "output_type": "display_data"
    }
   ],
   "source": [
    "Epochs = range(1,11)\n",
    "\n",
    "Training_loss=[training_loss_epoch_0_avg,training_loss_epoch_1_avg,training_loss_epoch_2_avg,training_loss_epoch_3_avg,training_loss_epoch_4_avg,training_loss_epoch_5_avg,training_loss_epoch_6_avg,\n",
    "               training_loss_epoch_7_avg,training_loss_epoch_8_avg,training_loss_epoch_9_avg]\n",
    "\n",
    "# Create the plot\n",
    "plt.plot(Epochs, Training_loss, marker='o',color='orange')\n",
    "\n",
    "# Add labels and title\n",
    "plt.xlabel('Epochs')\n",
    "plt.ylabel('Aveage Training loss')\n",
    "plt.title('Average Training Loss per epoch \\n')\n",
    "\n",
    "# Display the plot\n",
    "plt.grid(True)\n",
    "plt.xticks(Epochs)\n",
    "plt.show()"
   ]
  },
  {
   "cell_type": "code",
   "execution_count": 45,
   "id": "lvtDgvcMpGJQ",
   "metadata": {
    "colab": {
     "base_uri": "https://localhost:8080/",
     "height": 487
    },
    "id": "lvtDgvcMpGJQ",
    "outputId": "bdb58968-1e45-4a6e-ff2c-845038f46acb"
   },
   "outputs": [
    {
     "data": {
      "image/png": "[encoded data removed]",
      "text/plain": [
       "<Figure size 640x480 with 1 Axes>"
      ]
     },
     "metadata": {},
     "output_type": "display_data"
    }
   ],
   "source": [
    "Each_concept = ['C0', 'C1', 'C2', 'C3', 'C4', 'C5', 'C6', 'C7', 'C8', 'C9', 'C10', 'C11', 'C12', 'C13', 'C14',\n",
    "                      'C15', 'C16', 'C17', 'C18', 'C19']\n",
    "\n",
    "# Create the plot\n",
    "plt.plot(Each_concept, Final_test_accuracies, marker='o',color='red')\n",
    "\n",
    "# Add labels and title\n",
    "plt.xlabel('Each_concept')\n",
    "plt.ylabel('Test accuracy of each concept')\n",
    "plt.title('Comparing Test Accuracy of each concept Using Warm-Start Model on pre-training data')\n",
    "\n",
    "# Rotate x-axis labels for better readability\n",
    "plt.xticks(rotation=45, ha='right')\n",
    "\n",
    "plt.ylim(0.3, 1)\n",
    "# Display the plot\n",
    "plt.grid(True)\n",
    "plt.tight_layout()  # To rotate the x-axis labels by 45 degrees.\n",
    "plt.show()\n"
   ]
  },
  {
   "cell_type": "code",
   "execution_count": 46,
   "id": "jlC6t_YdhuhN",
   "metadata": {
    "colab": {
     "base_uri": "https://localhost:8080/"
    },
    "id": "jlC6t_YdhuhN",
    "outputId": "c21ff448-8b82-4f51-e340-7cf92a1ec52a"
   },
   "outputs": [
    {
     "name": "stdout",
     "output_type": "stream",
     "text": [
      "\n",
      "Total Time to be taked to run this experiment: 456.0250310897827 seconds\n"
     ]
    }
   ],
   "source": [
    "end_time = time.time()\n",
    "epoch_time = end_time - start_time\n",
    "print()\n",
    "print(\"Total Time to be taked to run this experiment:\", epoch_time, \"seconds\")"
   ]
  }
 ],
 "metadata": {
  "accelerator": "GPU",
  "colab": {
   "gpuType": "V100",
   "machine_shape": "hm",
   "provenance": []
  },
  "kernelspec": {
   "display_name": "Python 3 (ipykernel)",
   "language": "python",
   "name": "python3"
  },
  "language_info": {
   "codemirror_mode": {
    "name": "ipython",
    "version": 3
   },
   "file_extension": ".py",
   "mimetype": "text/x-python",
   "name": "python",
   "nbconvert_exporter": "python",
   "pygments_lexer": "ipython3",
   "version": "3.9.0"
  }
 },
 "nbformat": 4,
 "nbformat_minor": 5
}
